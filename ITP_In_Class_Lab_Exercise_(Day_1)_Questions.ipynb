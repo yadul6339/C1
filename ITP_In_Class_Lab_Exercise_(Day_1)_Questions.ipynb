{
  "nbformat": 4,
  "nbformat_minor": 0,
  "metadata": {
    "colab": {
      "name": "ITP - In-Class Lab Exercise (Day 1) - Questions.ipynb",
      "provenance": [],
      "collapsed_sections": [],
      "include_colab_link": true
    },
    "kernelspec": {
      "display_name": "Python 3",
      "language": "python",
      "name": "python3"
    },
    "language_info": {
      "codemirror_mode": {
        "name": "ipython",
        "version": 3
      },
      "file_extension": ".py",
      "mimetype": "text/x-python",
      "name": "python",
      "nbconvert_exporter": "python",
      "pygments_lexer": "ipython3",
      "version": "3.7.4"
    }
  },
  "cells": [
    {
      "cell_type": "markdown",
      "metadata": {
        "id": "view-in-github",
        "colab_type": "text"
      },
      "source": [
        "<a href=\"https://colab.research.google.com/github/zerryberry/C1/blob/master/ITP_In_Class_Lab_Exercise_(Day_1)_Questions.ipynb\" target=\"_parent\"><img src=\"https://colab.research.google.com/assets/colab-badge.svg\" alt=\"Open In Colab\"/></a>"
      ]
    },
    {
      "cell_type": "markdown",
      "metadata": {
        "id": "0yzl3MKzf98L"
      },
      "source": [
        "<table align=\"center\" width=100%>\n",
        "    <tr>\n",
        "        <td width=\"10%\">\n",
        "            <img src=\"in_class.png\">\n",
        "        </td>\n",
        "        <td>\n",
        "            <div align=\"center\">\n",
        "                <font color=\"#21618C\" size=8px>\n",
        "                    <b> Inclass-Lab  <br>(Day 1)\n",
        "                    </b>\n",
        "                </font>\n",
        "            </div>\n",
        "        </td>\n",
        "    </tr>\n",
        "</table>"
      ]
    },
    {
      "cell_type": "markdown",
      "metadata": {
        "id": "LFqGx_Dhf98M"
      },
      "source": [
        "## Table of Content\n",
        "\n",
        "1. **[Using print()](#print)**\n",
        "2. **[Data types](#types)**\n",
        "3. **[Arithmetic Operations](#arithmetic)**\n",
        "4. **[Boolean Operations](#boolean)**\n",
        "5. **[Concatenation](#concatenation)**\n",
        "6. **[Pseudo Codes](#pseudo)**\n"
      ]
    },
    {
      "cell_type": "markdown",
      "metadata": {
        "id": "psOYFu6zf98N"
      },
      "source": [
        "### Let's begin with some hands-on practice exercises"
      ]
    },
    {
      "cell_type": "markdown",
      "metadata": {
        "id": "r4J-iIEhf98N"
      },
      "source": [
        "<a id=\"print\"> </a>\n",
        "## 1. Using print()"
      ]
    },
    {
      "cell_type": "markdown",
      "metadata": {
        "id": "77vuf1DVf98O"
      },
      "source": [
        "<table align=\"left\">\n",
        "    <tr>\n",
        "        <td width=\"6%\">\n",
        "            <img src=\"question_icon.png\">\n",
        "        </td>\n",
        "        <td>\n",
        "            <div align=\"left\", style=\"font-size:120%\">\n",
        "                <font color=\"#21618C\">\n",
        "                    <b>1. To display a statement. For example, \"Hello, How are you?\" </b>\n",
        "                </font>\n",
        "            </div>\n",
        "        </td>\n",
        "    </tr>\n",
        "</table>"
      ]
    },
    {
      "cell_type": "code",
      "metadata": {
        "id": "TZatTfxJjAUr",
        "outputId": "a402637d-4e40-43fb-98df-a96b4c6179d6",
        "colab": {
          "base_uri": "https://localhost:8080/",
          "height": 35
        }
      },
      "source": [
        "print('Hello, how are yoo?')"
      ],
      "execution_count": 1,
      "outputs": [
        {
          "output_type": "stream",
          "text": [
            "Hello, how are yoo?\n"
          ],
          "name": "stdout"
        }
      ]
    },
    {
      "cell_type": "markdown",
      "metadata": {
        "id": "V7QJT8W9f98T"
      },
      "source": [
        "<table align=\"left\">\n",
        "    <tr>\n",
        "        <td width=\"6%\">\n",
        "            <img src=\"question_icon.png\">\n",
        "        </td>\n",
        "        <td>\n",
        "            <div align=\"left\", style=\"font-size:120%\">\n",
        "                <font color=\"#21618C\">\n",
        "                    <b>2. Display the following pattern using print() </b>\n",
        "                </font>\n",
        "            </div>\n",
        "        </td>\n",
        "    </tr>\n",
        "</table>"
      ]
    },
    {
      "cell_type": "markdown",
      "metadata": {
        "id": "ztNV65WGf98U"
      },
      "source": [
        "            *    \n",
        "           ***    \n",
        "          *****   \n",
        "         *******  \n",
        "        ********* "
      ]
    },
    {
      "cell_type": "code",
      "metadata": {
        "id": "qFOJz3Xkwxw6",
        "outputId": "ae96c6e7-77ac-4bd7-d638-dd57d2cb2088",
        "colab": {
          "base_uri": "https://localhost:8080/",
          "height": 108
        }
      },
      "source": [
        "#Using print:\n",
        "\n",
        "print('     *     ')\n",
        "print('    ***    ')\n",
        "print('   *****   ')\n",
        "print('  *******  ')\n",
        "print(' ********* ')"
      ],
      "execution_count": 46,
      "outputs": [
        {
          "output_type": "stream",
          "text": [
            "     *     \n",
            "    ***    \n",
            "   *****   \n",
            "  *******  \n",
            " ********* \n"
          ],
          "name": "stdout"
        }
      ]
    },
    {
      "cell_type": "code",
      "metadata": {
        "id": "D6mdOlsSjAUw",
        "outputId": "4c60d08c-306a-41ed-fe85-20a2309bb2ae",
        "colab": {
          "base_uri": "https://localhost:8080/",
          "height": 108
        }
      },
      "source": [
        "# For printing it out using a for loop\n",
        "\n",
        "for i in range(10):\n",
        "  if i%2!= 0:\n",
        "    print(' '* (10-i) +'*'* i + '*'*i)"
      ],
      "execution_count": 57,
      "outputs": [
        {
          "output_type": "stream",
          "text": [
            "         **\n",
            "       ******\n",
            "     **********\n",
            "   **************\n",
            " ******************\n"
          ],
          "name": "stdout"
        }
      ]
    },
    {
      "cell_type": "markdown",
      "metadata": {
        "id": "9qnEEhR4f98X"
      },
      "source": [
        "<table align=\"left\">\n",
        "    <tr>\n",
        "        <td width=\"6%\">\n",
        "            <img src=\"question_icon.png\">\n",
        "        </td>\n",
        "        <td>\n",
        "            <div align=\"left\", style=\"font-size:120%\">\n",
        "                <font color=\"#21618C\">\n",
        "                    <b>3. Write the alphabets 'A', 'B', 'C' on new lines using a single print function. </b>\n",
        "                </font>\n",
        "            </div>\n",
        "        </td>\n",
        "    </tr>\n",
        "</table>"
      ]
    },
    {
      "cell_type": "code",
      "metadata": {
        "id": "SdmwGdgxjAUz",
        "outputId": "ce78b30f-f6ae-4621-88f2-874a56c7f4f1",
        "colab": {
          "base_uri": "https://localhost:8080/",
          "height": 72
        }
      },
      "source": [
        "print('a', 'b', 'c', sep= '\\n')"
      ],
      "execution_count": 64,
      "outputs": [
        {
          "output_type": "stream",
          "text": [
            "a\n",
            "b\n",
            "c\n"
          ],
          "name": "stdout"
        }
      ]
    },
    {
      "cell_type": "markdown",
      "metadata": {
        "id": "QLSslfFdf98b"
      },
      "source": [
        "<a id=\"types\"> </a>\n",
        "## 2. Data types"
      ]
    },
    {
      "cell_type": "markdown",
      "metadata": {
        "id": "6YXVLVi9f98b"
      },
      "source": [
        "<table align=\"left\">\n",
        "    <tr>\n",
        "        <td width=\"6%\">\n",
        "            <img src=\"question_icon.png\">\n",
        "        </td>\n",
        "        <td>\n",
        "            <div align=\"left\", style=\"font-size:120%\">\n",
        "                <font color=\"#21618C\">\n",
        "                    <b>4. Create a string, a numeric and boolean variables by assigning variable names. Further, check their datatype. For numeric variable check for whole numbers and numbers with decimal point.</b>\n",
        "                </font>\n",
        "            </div>\n",
        "        </td>\n",
        "    </tr>\n",
        "</table>"
      ]
    },
    {
      "cell_type": "markdown",
      "metadata": {
        "id": "2R8Ix1P4f98c"
      },
      "source": [
        "**Declare a string variable and check its data type.**"
      ]
    },
    {
      "cell_type": "code",
      "metadata": {
        "id": "G9tUhjLzjAU4",
        "outputId": "c97e3453-c70e-4a83-d3a0-d0e7dd4220d2",
        "colab": {
          "base_uri": "https://localhost:8080/",
          "height": 35
        }
      },
      "source": [
        "a= 'anurag'\n",
        "\n",
        "type(a)"
      ],
      "execution_count": 65,
      "outputs": [
        {
          "output_type": "execute_result",
          "data": {
            "text/plain": [
              "str"
            ]
          },
          "metadata": {
            "tags": []
          },
          "execution_count": 65
        }
      ]
    },
    {
      "cell_type": "markdown",
      "metadata": {
        "id": "3txBZsy1f98f"
      },
      "source": [
        "**Declare a numeric variable and check its data type.** <br>\n",
        "i. An interger variable."
      ]
    },
    {
      "cell_type": "code",
      "metadata": {
        "id": "YLEBSRgwjAU7",
        "outputId": "dea481ee-5207-4e7c-a6ff-c41510367b80",
        "colab": {
          "base_uri": "https://localhost:8080/",
          "height": 35
        }
      },
      "source": [
        "a= 44\n",
        "\n",
        "type(a)"
      ],
      "execution_count": 66,
      "outputs": [
        {
          "output_type": "execute_result",
          "data": {
            "text/plain": [
              "int"
            ]
          },
          "metadata": {
            "tags": []
          },
          "execution_count": 66
        }
      ]
    },
    {
      "cell_type": "markdown",
      "metadata": {
        "id": "9pgoDopkf98i"
      },
      "source": [
        "ii. A fractional variable"
      ]
    },
    {
      "cell_type": "code",
      "metadata": {
        "id": "-MnJNs3wjAU_",
        "outputId": "ad65a187-aa9d-453e-8df5-13a8527467ce",
        "colab": {
          "base_uri": "https://localhost:8080/",
          "height": 35
        }
      },
      "source": [
        "a= 33.66\n",
        "\n",
        "type(a)"
      ],
      "execution_count": 67,
      "outputs": [
        {
          "output_type": "execute_result",
          "data": {
            "text/plain": [
              "float"
            ]
          },
          "metadata": {
            "tags": []
          },
          "execution_count": 67
        }
      ]
    },
    {
      "cell_type": "markdown",
      "metadata": {
        "id": "97TYsEBdf98m"
      },
      "source": [
        "**Declare a boolean variable and check its data type.**"
      ]
    },
    {
      "cell_type": "code",
      "metadata": {
        "id": "Mm0NJf89jAVC",
        "outputId": "8f25c4f1-1744-4bcc-c195-edc97b0f54ef",
        "colab": {
          "base_uri": "https://localhost:8080/",
          "height": 35
        }
      },
      "source": [
        "a= True\n",
        "\n",
        "type(a)"
      ],
      "execution_count": 68,
      "outputs": [
        {
          "output_type": "execute_result",
          "data": {
            "text/plain": [
              "bool"
            ]
          },
          "metadata": {
            "tags": []
          },
          "execution_count": 68
        }
      ]
    },
    {
      "cell_type": "markdown",
      "metadata": {
        "id": "YIaQZc58f98p"
      },
      "source": [
        "<table align=\"left\">\n",
        "    <tr>\n",
        "        <td width=\"6%\">\n",
        "            <img src=\"question_icon.png\">\n",
        "        </td>\n",
        "        <td>\n",
        "            <div align=\"left\", style=\"font-size:120%\">\n",
        "                <font color=\"#21618C\">\n",
        "                    <b>5. Write a complex number and assign it the name 'comp_var'</b>\n",
        "                </font>\n",
        "            </div>\n",
        "        </td>\n",
        "    </tr>\n",
        "</table>"
      ]
    },
    {
      "cell_type": "code",
      "metadata": {
        "id": "2IRBkoRTjAVF",
        "outputId": "80d0c67b-c452-4893-feb0-8e82dec7e772",
        "colab": {
          "base_uri": "https://localhost:8080/",
          "height": 35
        }
      },
      "source": [
        "comp_va= 1+3j\n",
        "\n",
        "type(comp_va)"
      ],
      "execution_count": 70,
      "outputs": [
        {
          "output_type": "execute_result",
          "data": {
            "text/plain": [
              "complex"
            ]
          },
          "metadata": {
            "tags": []
          },
          "execution_count": 70
        }
      ]
    },
    {
      "cell_type": "markdown",
      "metadata": {
        "id": "qI6L73Qhf98t"
      },
      "source": [
        "<table align=\"left\">\n",
        "    <tr>\n",
        "        <td width=\"6%\">\n",
        "            <img src=\"question_icon.png\">\n",
        "        </td>\n",
        "        <td>\n",
        "            <div align=\"left\", style=\"font-size:120%\">\n",
        "                <font color=\"#21618C\">\n",
        "                    <b>6. Convert a float variable f = 23.45 to integer.  </b>\n",
        "                </font>\n",
        "            </div>\n",
        "        </td>\n",
        "    </tr>\n",
        "</table>"
      ]
    },
    {
      "cell_type": "code",
      "metadata": {
        "id": "CTqimQTAjAVI",
        "outputId": "509e68ca-af5a-40eb-e038-3daa88dfaa9b",
        "colab": {
          "base_uri": "https://localhost:8080/",
          "height": 35
        }
      },
      "source": [
        "a= int(23.45)\n",
        "a"
      ],
      "execution_count": 72,
      "outputs": [
        {
          "output_type": "execute_result",
          "data": {
            "text/plain": [
              "23"
            ]
          },
          "metadata": {
            "tags": []
          },
          "execution_count": 72
        }
      ]
    },
    {
      "cell_type": "markdown",
      "metadata": {
        "id": "iZkGr2rTf98y"
      },
      "source": [
        "<table align=\"left\">\n",
        "    <tr>\n",
        "        <td width=\"6%\">\n",
        "            <img src=\"question_icon.png\">\n",
        "        </td>\n",
        "        <td>\n",
        "            <div align=\"left\", style=\"font-size:120%\">\n",
        "                <font color=\"#21618C\">\n",
        "                    <b>7. Create a numberic variable and convert it to a string.</b>\n",
        "                </font>\n",
        "            </div>\n",
        "        </td>\n",
        "    </tr>\n",
        "</table>"
      ]
    },
    {
      "cell_type": "code",
      "metadata": {
        "id": "TDy8puhijAVL",
        "outputId": "d7a57d6d-163b-4381-f74a-e3c139897fa0",
        "colab": {
          "base_uri": "https://localhost:8080/",
          "height": 35
        }
      },
      "source": [
        "a= 44\n",
        "b= str(a)\n",
        "b"
      ],
      "execution_count": 73,
      "outputs": [
        {
          "output_type": "execute_result",
          "data": {
            "application/vnd.google.colaboratory.intrinsic+json": {
              "type": "string"
            },
            "text/plain": [
              "'44'"
            ]
          },
          "metadata": {
            "tags": []
          },
          "execution_count": 73
        }
      ]
    },
    {
      "cell_type": "markdown",
      "metadata": {
        "id": "OL9cj_rRf983"
      },
      "source": [
        "<a id=\"arithmetic\"></a>\n",
        "## 3. Arithmetic Operations"
      ]
    },
    {
      "cell_type": "markdown",
      "metadata": {
        "id": "iOS1kKjWf983"
      },
      "source": [
        "<table align=\"left\">\n",
        "    <tr>\n",
        "        <td width=\"6%\">\n",
        "            <img src=\"question_icon.png\">\n",
        "        </td>\n",
        "        <td>\n",
        "            <div align=\"left\", style=\"font-size:120%\">\n",
        "                <font color=\"#21618C\">\n",
        "                    <b>8. Evaluate 145 into 354 minus 1345 divided by 45 plus (462 plus 23) divided by 3. </b>\n",
        "                </font>\n",
        "            </div>\n",
        "        </td>\n",
        "    </tr>\n",
        "</table>"
      ]
    },
    {
      "cell_type": "code",
      "metadata": {
        "id": "0WSGZCeQjAVO",
        "outputId": "aeb329ad-5f80-469a-98b6-482603a61580",
        "colab": {
          "base_uri": "https://localhost:8080/",
          "height": 35
        }
      },
      "source": [
        "145*354-1345/45+(462+23)/3"
      ],
      "execution_count": 74,
      "outputs": [
        {
          "output_type": "execute_result",
          "data": {
            "text/plain": [
              "51461.777777777774"
            ]
          },
          "metadata": {
            "tags": []
          },
          "execution_count": 74
        }
      ]
    },
    {
      "cell_type": "markdown",
      "metadata": {
        "id": "m8r2VOUnf987"
      },
      "source": [
        "<table align=\"left\">\n",
        "    <tr>\n",
        "        <td width=\"6%\">\n",
        "            <img src=\"question_icon.png\">\n",
        "        </td>\n",
        "        <td>\n",
        "            <div align=\"left\", style=\"font-size:120%\">\n",
        "                <font color=\"#21618C\">\n",
        "                    <b>9. Evaluate  and print the results of the following <br>\n",
        "                        <ol type = '1'> \n",
        "                            <li> 1353 plus 234 </li> \n",
        "                            <li> 2355 minus 346 </li>\n",
        "                            <li> 234 times 457 </li>\n",
        "                            <li> 25 divided by 6 </li>\n",
        "                            <li> Obtain remainder of  25 divided by 6 </li>\n",
        "                            <li> 33 raised to 4 </li> \n",
        "                            <li> 45 divided by 6  (floor division)\n",
        "                            <li> 2 raised to 10</li></ol>\n",
        "                    </b>\n",
        "                </font>\n",
        "            </div>\n",
        "        </td>\n",
        "    </tr>\n",
        "</table>"
      ]
    },
    {
      "cell_type": "code",
      "metadata": {
        "id": "i87c8jfIjAVR",
        "outputId": "1044476d-24fb-4b9a-a9a2-bbda29a99715",
        "colab": {
          "base_uri": "https://localhost:8080/",
          "height": 163
        }
      },
      "source": [
        "print( 1353 + 234)\n",
        "print( 2355 - 346)\n",
        "print( 234 * 457)\n",
        "print(25 / 6 )\n",
        "print( 25%6)\n",
        "print( 33**4)\n",
        "print( 45//6)\n",
        "print( 2**10)"
      ],
      "execution_count": 76,
      "outputs": [
        {
          "output_type": "stream",
          "text": [
            "1587\n",
            "2009\n",
            "106938\n",
            "4.166666666666667\n",
            "1\n",
            "1185921\n",
            "7\n",
            "1024\n"
          ],
          "name": "stdout"
        }
      ]
    },
    {
      "cell_type": "markdown",
      "metadata": {
        "id": "XID79y2_f99O"
      },
      "source": [
        "<table align=\"left\">\n",
        "    <tr>\n",
        "        <td width=\"6%\">\n",
        "            <img src=\"question_icon.png\">\n",
        "        </td>\n",
        "        <td>\n",
        "            <div align=\"left\", style=\"font-size:120%\">\n",
        "                <font color=\"#21618C\">\n",
        "                    <b>10. Calculate BMI of a person (take input for height and weight from user).</b>\n",
        "                </font>\n",
        "            </div>\n",
        "        </td>\n",
        "    </tr>\n",
        "</table>"
      ]
    },
    {
      "cell_type": "code",
      "metadata": {
        "id": "8-izYT9kjAVU",
        "outputId": "1e2eb2a7-0b4e-4d0b-d594-07727ff8f5d2",
        "colab": {
          "base_uri": "https://localhost:8080/",
          "height": 72
        }
      },
      "source": [
        "height= float(input('Enter your height in meters'))\n",
        "weight= float(input('Enter your weight in KG'))\n",
        "bmi= weight/(height**2)\n",
        "print('your BMI is: {}'.format(bmi))"
      ],
      "execution_count": 77,
      "outputs": [
        {
          "output_type": "stream",
          "text": [
            "Enter your height in meters1.8\n",
            "Enter your weight in KG70\n",
            "your BMI is: 21.604938271604937\n"
          ],
          "name": "stdout"
        }
      ]
    },
    {
      "cell_type": "markdown",
      "metadata": {
        "id": "AXxxJmhZf99c"
      },
      "source": [
        "<a id=\"boolean\"></a>\n",
        "## 4. Boolean Operations"
      ]
    },
    {
      "cell_type": "markdown",
      "metadata": {
        "id": "nI9sO6ZZf99c"
      },
      "source": [
        "<table align=\"left\">\n",
        "    <tr>\n",
        "        <td width=\"6%\">\n",
        "            <img src=\"question_icon.png\">\n",
        "        </td>\n",
        "        <td>\n",
        "            <div align=\"left\", style=\"font-size:120%\">\n",
        "                <font color=\"#21618C\">\n",
        "                    <b>11. Check whether the expression (54+34)* 45 is equal to the expression (0.9*2432)/0.9 </b>\n",
        "                </font>\n",
        "            </div>\n",
        "        </td>\n",
        "    </tr>\n",
        "</table>"
      ]
    },
    {
      "cell_type": "code",
      "metadata": {
        "id": "ZcU5ccNkjAVf",
        "outputId": "0627e798-e0a4-4f48-d9ec-41c37ab96404",
        "colab": {
          "base_uri": "https://localhost:8080/",
          "height": 35
        }
      },
      "source": [
        "(54+34)* 45 == (0.9*2432)/0.9"
      ],
      "execution_count": 78,
      "outputs": [
        {
          "output_type": "execute_result",
          "data": {
            "text/plain": [
              "False"
            ]
          },
          "metadata": {
            "tags": []
          },
          "execution_count": 78
        }
      ]
    },
    {
      "cell_type": "markdown",
      "metadata": {
        "id": "IShIieCJf99f"
      },
      "source": [
        "<a id=\"concatenation\"></a>\n",
        "## 5. Concatenation"
      ]
    },
    {
      "cell_type": "markdown",
      "metadata": {
        "id": "3us7i6Inf99f"
      },
      "source": [
        "<table align=\"left\">\n",
        "    <tr>\n",
        "        <td width=\"6%\">\n",
        "            <img src=\"question_icon.png\">\n",
        "        </td>\n",
        "        <td>\n",
        "            <div align=\"left\", style=\"font-size:120%\">\n",
        "                <font color=\"#21618C\">\n",
        "                    <b>12. Create two strings and concatenate them using '+' operator. </b>\n",
        "                </font>\n",
        "            </div>\n",
        "        </td>\n",
        "    </tr>\n",
        "</table>"
      ]
    },
    {
      "cell_type": "code",
      "metadata": {
        "id": "sv3wPchOjAVi",
        "outputId": "7ace59b8-6f46-47d1-82f6-dc05a94d9fc5",
        "colab": {
          "base_uri": "https://localhost:8080/",
          "height": 35
        }
      },
      "source": [
        "a= 'anurag '\n",
        "b= 'is a triathelete'\n",
        "c= a+b\n",
        "print(c)"
      ],
      "execution_count": 81,
      "outputs": [
        {
          "output_type": "stream",
          "text": [
            "anurag is a triathelete\n"
          ],
          "name": "stdout"
        }
      ]
    },
    {
      "cell_type": "markdown",
      "metadata": {
        "id": "Lzs2ddCwf99m"
      },
      "source": [
        "<table align=\"left\">\n",
        "    <tr>\n",
        "        <td width=\"6%\">\n",
        "            <img src=\"question_icon.png\">\n",
        "        </td>\n",
        "        <td>\n",
        "            <div align=\"left\", style=\"font-size:120%\">\n",
        "                <font color=\"#21618C\">\n",
        "                    <b>13. Concatenate the variables 'num = 34 and 'string ='How old are you?' using '+' operator. </b>\n",
        "                </font>\n",
        "            </div>\n",
        "        </td>\n",
        "    </tr>\n",
        "</table>"
      ]
    },
    {
      "cell_type": "code",
      "metadata": {
        "id": "d5rxobNtjAVk",
        "outputId": "1eb0166b-34ee-458d-b504-7cbb667908f8",
        "colab": {
          "base_uri": "https://localhost:8080/",
          "height": 35
        }
      },
      "source": [
        "num = '34'\n",
        "string= ' How old are you?'\n",
        "\n",
        "print(num+ string)"
      ],
      "execution_count": 84,
      "outputs": [
        {
          "output_type": "stream",
          "text": [
            "34 How old are you?\n"
          ],
          "name": "stdout"
        }
      ]
    },
    {
      "cell_type": "markdown",
      "metadata": {
        "id": "mcgJwGNrf99s"
      },
      "source": [
        "<a id=\"pseudo\"> </a>\n",
        "## 6. Pseudo Codes"
      ]
    },
    {
      "cell_type": "markdown",
      "metadata": {
        "id": "3uPwVwgAf99s"
      },
      "source": [
        "<table align=\"left\">\n",
        "    <tr>\n",
        "        <td width=\"6%\">\n",
        "            <img src=\"question_icon.png\">\n",
        "        </td>\n",
        "        <td>\n",
        "            <div align=\"left\", style=\"font-size:120%\">\n",
        "                <font color=\"#21618C\">\n",
        "                    <b>14. Write a pseudo code to print table of 5 using 'for' loop.</b>\n",
        "                </font>\n",
        "            </div>\n",
        "        </td>\n",
        "    </tr>\n",
        "</table>"
      ]
    },
    {
      "cell_type": "code",
      "metadata": {
        "id": "34k8BkJ_jAVn",
        "outputId": "691c3fbf-7f9b-481d-ce1f-d714d2d8b88b",
        "colab": {
          "base_uri": "https://localhost:8080/",
          "height": 217
        }
      },
      "source": [
        "for i in range(11):\n",
        "  print(i*5)"
      ],
      "execution_count": 85,
      "outputs": [
        {
          "output_type": "stream",
          "text": [
            "0\n",
            "5\n",
            "10\n",
            "15\n",
            "20\n",
            "25\n",
            "30\n",
            "35\n",
            "40\n",
            "45\n",
            "50\n"
          ],
          "name": "stdout"
        }
      ]
    },
    {
      "cell_type": "markdown",
      "metadata": {
        "id": "EE_L86gBf99t"
      },
      "source": [
        "<table align=\"left\">\n",
        "    <tr>\n",
        "        <td width=\"6%\">\n",
        "            <img src=\"question_icon.png\">\n",
        "        </td>\n",
        "        <td>\n",
        "            <div align=\"left\", style=\"font-size:120%\">\n",
        "                <font color=\"#21618C\">\n",
        "                    <b>15. Write a pseudo code for generating a fibonacci series starting with 0 and 1 for 10 values using while loop. </b>\n",
        "                </font>\n",
        "            </div>\n",
        "        </td>\n",
        "    </tr>\n",
        "</table>"
      ]
    },
    {
      "cell_type": "markdown",
      "metadata": {
        "id": "7t0BzLXNF9LC"
      },
      "source": [
        "1. take an input from user (n)\n",
        "2. create a loop to iterate over n such that\n",
        "3. our numbers are formed by adding the latest two numbers to get the next one, starting from 0 and 1:\n",
        "4. create a list first with 0,1\n",
        "5. another list same as above\n",
        "6. now add the sum of n-2 and n-1 numbers in the later list\n",
        "7. print the list. "
      ]
    },
    {
      "cell_type": "code",
      "metadata": {
        "id": "uMJjtFQOjAVr",
        "outputId": "5e446d23-a60c-45ec-d58c-92871dc06e24",
        "colab": {
          "base_uri": "https://localhost:8080/",
          "height": 54
        }
      },
      "source": [
        "something like this. \n",
        "\n",
        "\n",
        "a= [0,1]\n",
        "b= [0,1]\n",
        "n= int(input())\n",
        "for i in range(2,n):\n",
        "  a.append(i)\n",
        "for i in range(2, n):\n",
        "  b.append(b[i-2]+b[i-1])\n",
        "b"
      ],
      "execution_count": 86,
      "outputs": [
        {
          "output_type": "stream",
          "text": [
            "10\n"
          ],
          "name": "stdout"
        },
        {
          "output_type": "execute_result",
          "data": {
            "text/plain": [
              "[0, 1, 1, 2, 3, 5, 8, 13, 21, 34]"
            ]
          },
          "metadata": {
            "tags": []
          },
          "execution_count": 86
        }
      ]
    },
    {
      "cell_type": "markdown",
      "metadata": {
        "id": "EFaFOXFTf99t"
      },
      "source": [
        "<table align=\"left\">\n",
        "    <tr>\n",
        "        <td width=\"6%\">\n",
        "            <img src=\"question_icon.png\">\n",
        "        </td>\n",
        "        <td>\n",
        "            <div align=\"left\", style=\"font-size:120%\">\n",
        "                <font color=\"#21618C\">\n",
        "                    <b>16. Write a pseudo code to know whether a number is greater than the other using 'if' statement. </b>\n",
        "                </font>\n",
        "            </div>\n",
        "        </td>\n",
        "    </tr>\n",
        "</table>"
      ]
    },
    {
      "cell_type": "markdown",
      "metadata": {
        "id": "C6Eq9uGIjAVu"
      },
      "source": [
        "1. Take 2 input from user as int- a and b\n",
        "2. if a>b, then print a is bigger\n",
        "3. else, print b is bigger"
      ]
    },
    {
      "cell_type": "markdown",
      "metadata": {
        "id": "3zWA4UWQf99u"
      },
      "source": [
        "<table align=\"left\">\n",
        "    <tr>\n",
        "        <td width=\"6%\">\n",
        "            <img src=\"question_icon.png\">\n",
        "        </td>\n",
        "        <td>\n",
        "            <div align=\"left\", style=\"font-size:120%\">\n",
        "                <font color=\"#21618C\">\n",
        "                    <b>17. Write a pseudo code to check whether a number is divisible by 7 or not using if else statement. </b>\n",
        "                </font>\n",
        "            </div>\n",
        "        </td>\n",
        "    </tr>\n",
        "</table>"
      ]
    },
    {
      "cell_type": "markdown",
      "metadata": {
        "id": "x8iPznyqjAVw"
      },
      "source": [
        "1. Take 1 input from user as int- a \n",
        "2. if a%7 == 0, then print yes, it is divisible \n",
        "3. else, its not divisible"
      ]
    },
    {
      "cell_type": "markdown",
      "metadata": {
        "id": "-qD5ZQ7Bf99v"
      },
      "source": [
        "<table align=\"left\">\n",
        "    <tr>\n",
        "        <td width=\"6%\">\n",
        "            <img src=\"question_icon.png\">\n",
        "        </td>\n",
        "        <td>\n",
        "            <div align=\"left\", style=\"font-size:120%\">\n",
        "                <font color=\"#21618C\">\n",
        "                    <b>18. Write a pseudo code to find factorial of a number using nested if-else statement. </b>\n",
        "                </font>\n",
        "            </div>\n",
        "        </td>\n",
        "    </tr>\n",
        "</table>"
      ]
    },
    {
      "cell_type": "markdown",
      "metadata": {
        "id": "1QwnjbnVjAVz"
      },
      "source": [
        "1. a= take input from user as int\n",
        "2. if a==0, print- 0 factorial is 1, if not, \n",
        "3. assign i= 1\n",
        "4. assign n= 1\n",
        "5. for i in range(a) if i <= a, then n = n*i\n",
        "6. print n\n",
        "7. n is our factorial. \n"
      ]
    },
    {
      "cell_type": "code",
      "metadata": {
        "id": "XR9-dtthA5BJ"
      },
      "source": [
        "using while:\n",
        "\n",
        "a= int(input())\n",
        "i= 1\n",
        "su=1\n",
        "while i<= a:\n",
        "  su*=i\n",
        "  i+=1\n",
        "su"
      ],
      "execution_count": null,
      "outputs": []
    },
    {
      "cell_type": "markdown",
      "metadata": {
        "id": "1Foanr6Xf99w"
      },
      "source": [
        "<table align=\"left\">\n",
        "    <tr>\n",
        "        <td width=\"6%\">\n",
        "            <img src=\"question_icon.png\">\n",
        "        </td>\n",
        "        <td>\n",
        "            <div align=\"left\", style=\"font-size:120%\">\n",
        "                <font color=\"#21618C\">\n",
        "                    <b>19. Write a pseudo to know whether a number is prime or not using for and if else statement.</b>\n",
        "                </font>\n",
        "            </div>\n",
        "        </td>\n",
        "    </tr>\n",
        "</table>"
      ]
    },
    {
      "cell_type": "markdown",
      "metadata": {
        "id": "ocgZG5_8jAV2"
      },
      "source": [
        "1. a= take input from user as int\n",
        "2. if a%2 == 0\n",
        "3. then it is prime\n",
        "4. if not, its not prime"
      ]
    }
  ]
}