{
  "nbformat": 4,
  "nbformat_minor": 0,
  "metadata": {
    "colab": {
      "name": "others.ipynb",
      "provenance": [],
      "collapsed_sections": [],
      "authorship_tag": "ABX9TyMr6ClPlnWGgq74oYu9nkI4",
      "include_colab_link": true
    },
    "kernelspec": {
      "name": "python3",
      "display_name": "Python 3"
    }
  },
  "cells": [
    {
      "cell_type": "markdown",
      "metadata": {
        "id": "view-in-github",
        "colab_type": "text"
      },
      "source": [
        "<a href=\"https://colab.research.google.com/github/zerryberry/C1/blob/master/others.ipynb\" target=\"_parent\"><img src=\"https://colab.research.google.com/assets/colab-badge.svg\" alt=\"Open In Colab\"/></a>"
      ]
    },
    {
      "cell_type": "code",
      "metadata": {
        "id": "4zTl3Rb_0l0g"
      },
      "source": [
        "import numpy as np # linear algebra\r\n",
        "import pandas as pd # data processing, CSV file I/O (e.g. pd.read_csv)\r\n",
        "import matplotlib.pyplot as plt\r\n",
        "import seaborn as sns\r\n",
        "from sklearn import preprocessing\r\n",
        "from sklearn.model_selection import train_test_split\r\n",
        "from sklearn.preprocessing import StandardScaler\r\n",
        "from sklearn.preprocessing import MinMaxScaler\r\n",
        "from sklearn.model_selection import GridSearchCV\r\n",
        "import xgboost\r\n",
        "from xgboost import XGBRegressor\r\n",
        "from sklearn.metrics import mean_squared_error\r\n",
        "from xgboost import XGBRFRegressor"
      ],
      "execution_count": 1,
      "outputs": []
    },
    {
      "cell_type": "code",
      "metadata": {
        "id": "mM8G19Is0oZU"
      },
      "source": [
        "df= pd.read_csv('https://raw.githubusercontent.com/dphi-official/Datasets/master/cancer_death_rate/Training_set_label.csv')\r\n",
        "dftest = pd.read_csv('https://raw.githubusercontent.com/dphi-official/Datasets/master/cancer_death_rate/Testing_set_label.csv')\r\n",
        "print(df.shape)\r\n",
        "df.isna().any()"
      ],
      "execution_count": null,
      "outputs": []
    },
    {
      "cell_type": "code",
      "metadata": {
        "id": "5pqhjuG70suQ"
      },
      "source": [
        "# correlation time!\r\n",
        "\r\n",
        "fig, ax= plt.subplots(figsize=(10,10))\r\n",
        "sns.heatmap(df.corr())"
      ],
      "execution_count": null,
      "outputs": []
    },
    {
      "cell_type": "code",
      "metadata": {
        "id": "U1ChJTBW0xkK"
      },
      "source": [
        "a= set()\r\n",
        "for i in df.columns:\r\n",
        "    for j in df.columns:\r\n",
        "        if i in df.select_dtypes(include='number').columns and j in df.select_dtypes(include='number').columns and i!= j and df[i].corr(df[j])>0.7:\r\n",
        "            a.add(i)\r\n",
        "\r\n",
        "dfn = df[list(a)]\r\n",
        "# dfn.isna().any()"
      ],
      "execution_count": null,
      "outputs": []
    },
    {
      "cell_type": "code",
      "metadata": {
        "id": "dkkblshL07S-"
      },
      "source": [
        "dfn = pd.concat((dfn, df['TARGET_deathRate']),axis=1)\r\n",
        "dfn['TARGET_deathRate'].corr(df['PctEmployed16_Over'])\r\n",
        "\r\n",
        "# as both of them has negative correlation (less) with the target, we can drop them. \r\n",
        "\r\n",
        "dfn.drop({'PctPrivateCoverageAlone', 'PctEmployed16_Over'}, axis=1, inplace= True)"
      ],
      "execution_count": null,
      "outputs": []
    },
    {
      "cell_type": "code",
      "metadata": {
        "id": "AUdG7kGk1FXI"
      },
      "source": [
        "meann= []\r\n",
        "mediann = []\r\n",
        "for i in dfn.columns:\r\n",
        "    meann.append(dfn[i].mean())\r\n",
        "    mediann.append(dfn[i].median())\r\n",
        "\r\n",
        "outliers= pd.DataFrame(meann, mediann)\r\n",
        "outliers.set_index(dfn.columns, inplace=True)\r\n",
        "outliers.rename({0: 'mean'},axis=1, inplace= True)\r\n",
        "outliers['median'] = mediann"
      ],
      "execution_count": null,
      "outputs": []
    },
    {
      "cell_type": "code",
      "metadata": {
        "id": "7zgtQEPE1KC2"
      },
      "source": [
        "# outlier database\r\n",
        "outliers"
      ],
      "execution_count": null,
      "outputs": []
    },
    {
      "cell_type": "code",
      "metadata": {
        "id": "iah0fn7z1MWm"
      },
      "source": [
        "outliers.plot(kind='bar')"
      ],
      "execution_count": null,
      "outputs": []
    },
    {
      "cell_type": "markdown",
      "metadata": {
        "id": "DTInmDvi2Ozj"
      },
      "source": [
        "### population estimation is an obvious outlier. \r\n",
        "\r\n",
        "### another one is employee priv coverage, because of which the scale of other magnitude are sort of getting hid. \r\n",
        "### Removing these will help us see the actual scale. "
      ]
    },
    {
      "cell_type": "code",
      "metadata": {
        "id": "uJ-SclvX1gqL"
      },
      "source": [
        "outliers.iloc[(outliers.index != 'popEst2015') & (outliers.index != 'medIncome')].plot(kind='bar')"
      ],
      "execution_count": null,
      "outputs": []
    },
    {
      "cell_type": "markdown",
      "metadata": {
        "id": "IO2CgR-V3W4u"
      },
      "source": [
        "There are two more columns which are showing potential outliers as mean is greater than median. average annual count and average deaths per year."
      ]
    },
    {
      "cell_type": "code",
      "metadata": {
        "id": "5E0tWXQY2tCa"
      },
      "source": [
        "dfn['avgAnnCount'].plot(kind='box')"
      ],
      "execution_count": null,
      "outputs": []
    },
    {
      "cell_type": "code",
      "metadata": {
        "colab": {
          "base_uri": "https://localhost:8080/"
        },
        "id": "xgGAOPgq4IPf",
        "outputId": "8fb34259-abaf-40b9-ee96-3ab8c1f65ebf"
      },
      "source": [
        "dfn['avgDeathsPerYear'].corr(df['TARGET_deathRate'])"
      ],
      "execution_count": null,
      "outputs": [
        {
          "output_type": "execute_result",
          "data": {
            "text/plain": [
              "-0.07400827212442411"
            ]
          },
          "metadata": {
            "tags": []
          },
          "execution_count": 38
        }
      ]
    },
    {
      "cell_type": "code",
      "metadata": {
        "id": "8u680XLg4xz-"
      },
      "source": [
        "# Since both of them has very less correlation with target, its very unlikely that outliers from these features are going to affect\r\n",
        "# the target of the ML.\r\n",
        "\r\n",
        "# rest of the data looks fine, so lets start with ML\r\n",
        "std = StandardScaler()\r\n",
        "x_std_tr= std.fit_transform(x_train)"
      ],
      "execution_count": null,
      "outputs": []
    },
    {
      "cell_type": "code",
      "metadata": {
        "id": "U9DW4kiqT-uR"
      },
      "source": [
        "# normalization\r\n",
        "x_std_test= std.fit_transform(x_test)"
      ],
      "execution_count": null,
      "outputs": []
    },
    {
      "cell_type": "code",
      "metadata": {
        "id": "WRYerGANBPJB"
      },
      "source": [
        "cf= pd.read_csv('https://raw.githubusercontent.com/dphi-official/Datasets/master/cancer_death_rate/Training_set_label.csv')\r\n",
        "cf.dtypes"
      ],
      "execution_count": null,
      "outputs": []
    },
    {
      "cell_type": "code",
      "metadata": {
        "colab": {
          "base_uri": "https://localhost:8080/"
        },
        "id": "YaEs4xRTUSnJ",
        "outputId": "f790fcc1-0cfc-4dc2-fbc6-c19c3dec1f17"
      },
      "source": [
        "from sklearn.ensemble import RandomForestRegressor\r\n",
        "ee= RandomForestRegressor().fit(x_train, y_train)\r\n",
        "ee.score(x_train, y_train)"
      ],
      "execution_count": null,
      "outputs": [
        {
          "output_type": "execute_result",
          "data": {
            "text/plain": [
              "0.9490544466164118"
            ]
          },
          "metadata": {
            "tags": []
          },
          "execution_count": 139
        }
      ]
    },
    {
      "cell_type": "code",
      "metadata": {
        "colab": {
          "base_uri": "https://localhost:8080/"
        },
        "id": "qbSUSb58UnGp",
        "outputId": "5233cc5d-ed72-4492-e5d4-9abace78b4fb"
      },
      "source": [
        "ee.score(x_test, y_test)"
      ],
      "execution_count": null,
      "outputs": [
        {
          "output_type": "execute_result",
          "data": {
            "text/plain": [
              "0.6241585597107988"
            ]
          },
          "metadata": {
            "tags": []
          },
          "execution_count": 140
        }
      ]
    },
    {
      "cell_type": "code",
      "metadata": {
        "id": "rHFp6OMMXHTy"
      },
      "source": [
        "############################################################################################## All Variables\r\n",
        "\r\n",
        "cf= pd.read_csv('https://raw.githubusercontent.com/dphi-official/Datasets/master/cancer_death_rate/Training_set_label.csv')\r\n",
        "# cf.dtypes"
      ],
      "execution_count": null,
      "outputs": []
    },
    {
      "cell_type": "code",
      "metadata": {
        "id": "TTaXqqrpg6SV"
      },
      "source": [
        "cf.drop({'binnedInc','Geography'}, axis=1, inplace=True)"
      ],
      "execution_count": null,
      "outputs": []
    },
    {
      "cell_type": "code",
      "metadata": {
        "id": "fDR1dmab1t9-"
      },
      "source": [
        "cf.isna().any()"
      ],
      "execution_count": null,
      "outputs": []
    },
    {
      "cell_type": "code",
      "metadata": {
        "id": "z1Cup--H1ypz"
      },
      "source": [
        "cf.drop({'PctSomeCol18_24','PctEmployed16_Over', 'PctPrivateCoverageAlone'}, axis=1, inplace=True)"
      ],
      "execution_count": null,
      "outputs": []
    },
    {
      "cell_type": "code",
      "metadata": {
        "id": "VSv3XpIf2IXk"
      },
      "source": [
        "y= cf['TARGET_deathRate']\r\n",
        "cf.drop({'TARGET_deathRate'}, axis=1, inplace=True)"
      ],
      "execution_count": null,
      "outputs": []
    },
    {
      "cell_type": "code",
      "metadata": {
        "id": "m3w-qFp72IJR"
      },
      "source": [
        "from sklearn.model_selection import train_test_split"
      ],
      "execution_count": null,
      "outputs": []
    },
    {
      "cell_type": "code",
      "metadata": {
        "id": "pLCchplq1_eG"
      },
      "source": [
        "x_tr, x_t, y_tr, y_t = train_test_split(cf, y)"
      ],
      "execution_count": null,
      "outputs": []
    },
    {
      "cell_type": "code",
      "metadata": {
        "colab": {
          "base_uri": "https://localhost:8080/"
        },
        "id": "yV1L_0_h1_im",
        "outputId": "ae620aee-5242-4f15-ae12-71034b1ed2ba"
      },
      "source": [
        "#from sklearn.ensemble import RandomForestRegressor\r\n",
        "ee= RandomForestRegressor().fit(x_tr, y_tr)\r\n",
        "print(ee.score(x_tr, y_tr))\r\n",
        "print(ee.score(x_t, y_t))"
      ],
      "execution_count": null,
      "outputs": [
        {
          "output_type": "stream",
          "text": [
            "0.9533051946845945\n",
            "0.6890818514839356\n"
          ],
          "name": "stdout"
        }
      ]
    },
    {
      "cell_type": "code",
      "metadata": {
        "id": "5jUTASeH1_k7"
      },
      "source": [
        "########################################################################################################################3"
      ],
      "execution_count": null,
      "outputs": []
    },
    {
      "cell_type": "code",
      "metadata": {
        "colab": {
          "base_uri": "https://localhost:8080/",
          "height": 204
        },
        "id": "s7evCI3Sm_bV",
        "outputId": "ef81b243-e543-4c2b-abc5-12eb6fe10d50"
      },
      "source": [
        "\r\n",
        "yy= ['incidenceRate', 'medIncome', 'povertyPercent', 'PctHS25_Over', 'PctBachDeg25_Over', 'PctEmployed16_Over', 'PctUnemployed16_Over', 'PctPrivateCoverage', \r\n",
        "    ]\r\n",
        "new= nf[yy]\r\n",
        "new.head()"
      ],
      "execution_count": null,
      "outputs": [
        {
          "output_type": "execute_result",
          "data": {
            "text/html": [
              "<div>\n",
              "<style scoped>\n",
              "    .dataframe tbody tr th:only-of-type {\n",
              "        vertical-align: middle;\n",
              "    }\n",
              "\n",
              "    .dataframe tbody tr th {\n",
              "        vertical-align: top;\n",
              "    }\n",
              "\n",
              "    .dataframe thead th {\n",
              "        text-align: right;\n",
              "    }\n",
              "</style>\n",
              "<table border=\"1\" class=\"dataframe\">\n",
              "  <thead>\n",
              "    <tr style=\"text-align: right;\">\n",
              "      <th></th>\n",
              "      <th>incidenceRate</th>\n",
              "      <th>medIncome</th>\n",
              "      <th>povertyPercent</th>\n",
              "      <th>PctHS25_Over</th>\n",
              "      <th>PctBachDeg25_Over</th>\n",
              "      <th>PctEmployed16_Over</th>\n",
              "      <th>PctUnemployed16_Over</th>\n",
              "      <th>PctPrivateCoverage</th>\n",
              "    </tr>\n",
              "  </thead>\n",
              "  <tbody>\n",
              "    <tr>\n",
              "      <th>0</th>\n",
              "      <td>481.5</td>\n",
              "      <td>50038</td>\n",
              "      <td>11.1</td>\n",
              "      <td>37.1</td>\n",
              "      <td>12.2</td>\n",
              "      <td>57.4</td>\n",
              "      <td>1.1</td>\n",
              "      <td>81.2</td>\n",
              "    </tr>\n",
              "    <tr>\n",
              "      <th>1</th>\n",
              "      <td>486.0</td>\n",
              "      <td>59399</td>\n",
              "      <td>9.7</td>\n",
              "      <td>35.9</td>\n",
              "      <td>16.0</td>\n",
              "      <td>60.4</td>\n",
              "      <td>3.8</td>\n",
              "      <td>76.7</td>\n",
              "    </tr>\n",
              "    <tr>\n",
              "      <th>2</th>\n",
              "      <td>475.7</td>\n",
              "      <td>39721</td>\n",
              "      <td>18.5</td>\n",
              "      <td>40.2</td>\n",
              "      <td>7.6</td>\n",
              "      <td>41.2</td>\n",
              "      <td>11.0</td>\n",
              "      <td>61.6</td>\n",
              "    </tr>\n",
              "    <tr>\n",
              "      <th>3</th>\n",
              "      <td>496.6</td>\n",
              "      <td>30299</td>\n",
              "      <td>28.1</td>\n",
              "      <td>44.2</td>\n",
              "      <td>7.0</td>\n",
              "      <td>41.6</td>\n",
              "      <td>10.4</td>\n",
              "      <td>45.2</td>\n",
              "    </tr>\n",
              "    <tr>\n",
              "      <th>4</th>\n",
              "      <td>372.0</td>\n",
              "      <td>39625</td>\n",
              "      <td>17.4</td>\n",
              "      <td>28.3</td>\n",
              "      <td>10.5</td>\n",
              "      <td>49.3</td>\n",
              "      <td>9.2</td>\n",
              "      <td>56.6</td>\n",
              "    </tr>\n",
              "  </tbody>\n",
              "</table>\n",
              "</div>"
            ],
            "text/plain": [
              "   incidenceRate  medIncome  ...  PctUnemployed16_Over  PctPrivateCoverage\n",
              "0          481.5      50038  ...                   1.1                81.2\n",
              "1          486.0      59399  ...                   3.8                76.7\n",
              "2          475.7      39721  ...                  11.0                61.6\n",
              "3          496.6      30299  ...                  10.4                45.2\n",
              "4          372.0      39625  ...                   9.2                56.6\n",
              "\n",
              "[5 rows x 8 columns]"
            ]
          },
          "metadata": {
            "tags": []
          },
          "execution_count": 241
        }
      ]
    },
    {
      "cell_type": "code",
      "metadata": {
        "id": "TtbqifmK1_ne"
      },
      "source": [
        "# nf[nf.columns[1:]].corr()['TARGET_deathRate'][:] \r\n",
        "y = nf['TARGET_deathRate']"
      ],
      "execution_count": null,
      "outputs": []
    },
    {
      "cell_type": "code",
      "metadata": {
        "colab": {
          "base_uri": "https://localhost:8080/"
        },
        "id": "5U86QLqaTBET",
        "outputId": "2bfd6e99-f9f5-4113-da43-9e7b2dce982a"
      },
      "source": [
        "new['PctEmployed16_Over'].fillna(new['PctEmployed16_Over'].median(), inplace= True)"
      ],
      "execution_count": null,
      "outputs": [
        {
          "output_type": "stream",
          "text": [
            "/usr/local/lib/python3.6/dist-packages/pandas/core/series.py:4536: SettingWithCopyWarning: \n",
            "A value is trying to be set on a copy of a slice from a DataFrame\n",
            "\n",
            "See the caveats in the documentation: https://pandas.pydata.org/pandas-docs/stable/user_guide/indexing.html#returning-a-view-versus-a-copy\n",
            "  downcast=downcast,\n"
          ],
          "name": "stderr"
        }
      ]
    },
    {
      "cell_type": "code",
      "metadata": {
        "id": "s5CuLzSBfHuO"
      },
      "source": [
        "scaler = preprocessing.StandardScaler() \r\n",
        "standard_df = scaler.fit_transform(new)"
      ],
      "execution_count": null,
      "outputs": []
    },
    {
      "cell_type": "code",
      "metadata": {
        "id": "Yu6WE2eIfqHr"
      },
      "source": [
        "# y_st= scaler.fit_transform([np.array(y)])"
      ],
      "execution_count": null,
      "outputs": []
    },
    {
      "cell_type": "code",
      "metadata": {
        "id": "a8aMYu9Ifuep"
      },
      "source": [
        "u= pd.DataFrame(standard_df, columns= yy)"
      ],
      "execution_count": null,
      "outputs": []
    },
    {
      "cell_type": "code",
      "metadata": {
        "id": "6T807Bs8f4Rh"
      },
      "source": [
        "u"
      ],
      "execution_count": null,
      "outputs": []
    },
    {
      "cell_type": "code",
      "metadata": {
        "id": "JhNxdpTxgZ7o"
      },
      "source": [
        "# u_tar= pd.Series(y_st.ravel())"
      ],
      "execution_count": null,
      "outputs": []
    },
    {
      "cell_type": "code",
      "metadata": {
        "id": "4pB6tOpOgdfW"
      },
      "source": [
        "x_tr, x_t, y_tr, y_t = train_test_split(u, y)"
      ],
      "execution_count": null,
      "outputs": []
    },
    {
      "cell_type": "code",
      "metadata": {
        "colab": {
          "base_uri": "https://localhost:8080/"
        },
        "id": "uSyhX48egjQx",
        "outputId": "b4102316-58a4-46bd-b9fa-bb81408808cd"
      },
      "source": [
        "################################ SCORE #####################################################\r\n",
        "ee= RandomForestRegressor().fit(x_tr, y_tr)\r\n",
        "print(ee.score(x_tr, y_tr))\r\n",
        "print(ee.score(x_t, y_t))"
      ],
      "execution_count": null,
      "outputs": [
        {
          "output_type": "stream",
          "text": [
            "0.9531210040604357\n",
            "0.6382736102187889\n"
          ],
          "name": "stdout"
        }
      ]
    },
    {
      "cell_type": "code",
      "metadata": {
        "id": "Ybf4-RyPgsJt"
      },
      "source": [
        "# test"
      ],
      "execution_count": null,
      "outputs": []
    },
    {
      "cell_type": "code",
      "metadata": {
        "colab": {
          "base_uri": "https://localhost:8080/",
          "height": 204
        },
        "id": "249cn38MuRyV",
        "outputId": "7f5479c1-b838-4490-c839-6bb3e3e411e9"
      },
      "source": [
        "tn= dftest[yy]\r\n",
        "tn.head()"
      ],
      "execution_count": null,
      "outputs": [
        {
          "output_type": "execute_result",
          "data": {
            "text/html": [
              "<div>\n",
              "<style scoped>\n",
              "    .dataframe tbody tr th:only-of-type {\n",
              "        vertical-align: middle;\n",
              "    }\n",
              "\n",
              "    .dataframe tbody tr th {\n",
              "        vertical-align: top;\n",
              "    }\n",
              "\n",
              "    .dataframe thead th {\n",
              "        text-align: right;\n",
              "    }\n",
              "</style>\n",
              "<table border=\"1\" class=\"dataframe\">\n",
              "  <thead>\n",
              "    <tr style=\"text-align: right;\">\n",
              "      <th></th>\n",
              "      <th>incidenceRate</th>\n",
              "      <th>medIncome</th>\n",
              "      <th>povertyPercent</th>\n",
              "      <th>PctHS25_Over</th>\n",
              "      <th>PctBachDeg25_Over</th>\n",
              "      <th>PctEmployed16_Over</th>\n",
              "      <th>PctUnemployed16_Over</th>\n",
              "      <th>PctPrivateCoverage</th>\n",
              "    </tr>\n",
              "  </thead>\n",
              "  <tbody>\n",
              "    <tr>\n",
              "      <th>0</th>\n",
              "      <td>341.000000</td>\n",
              "      <td>34368</td>\n",
              "      <td>33.5</td>\n",
              "      <td>23.2</td>\n",
              "      <td>11.9</td>\n",
              "      <td>52.2</td>\n",
              "      <td>9.9</td>\n",
              "      <td>32.6</td>\n",
              "    </tr>\n",
              "    <tr>\n",
              "      <th>1</th>\n",
              "      <td>445.200000</td>\n",
              "      <td>35615</td>\n",
              "      <td>21.5</td>\n",
              "      <td>47.1</td>\n",
              "      <td>7.9</td>\n",
              "      <td>46.5</td>\n",
              "      <td>9.0</td>\n",
              "      <td>55.6</td>\n",
              "    </tr>\n",
              "    <tr>\n",
              "      <th>2</th>\n",
              "      <td>425.700000</td>\n",
              "      <td>76672</td>\n",
              "      <td>7.6</td>\n",
              "      <td>30.5</td>\n",
              "      <td>17.5</td>\n",
              "      <td>71.4</td>\n",
              "      <td>2.8</td>\n",
              "      <td>83.3</td>\n",
              "    </tr>\n",
              "    <tr>\n",
              "      <th>3</th>\n",
              "      <td>453.549422</td>\n",
              "      <td>45856</td>\n",
              "      <td>11.4</td>\n",
              "      <td>35.3</td>\n",
              "      <td>15.5</td>\n",
              "      <td>63.1</td>\n",
              "      <td>4.3</td>\n",
              "      <td>75.8</td>\n",
              "    </tr>\n",
              "    <tr>\n",
              "      <th>4</th>\n",
              "      <td>453.549422</td>\n",
              "      <td>53739</td>\n",
              "      <td>10.9</td>\n",
              "      <td>29.7</td>\n",
              "      <td>15.5</td>\n",
              "      <td>67.9</td>\n",
              "      <td>2.4</td>\n",
              "      <td>78.2</td>\n",
              "    </tr>\n",
              "  </tbody>\n",
              "</table>\n",
              "</div>"
            ],
            "text/plain": [
              "   incidenceRate  medIncome  ...  PctUnemployed16_Over  PctPrivateCoverage\n",
              "0     341.000000      34368  ...                   9.9                32.6\n",
              "1     445.200000      35615  ...                   9.0                55.6\n",
              "2     425.700000      76672  ...                   2.8                83.3\n",
              "3     453.549422      45856  ...                   4.3                75.8\n",
              "4     453.549422      53739  ...                   2.4                78.2\n",
              "\n",
              "[5 rows x 8 columns]"
            ]
          },
          "metadata": {
            "tags": []
          },
          "execution_count": 159
        }
      ]
    },
    {
      "cell_type": "code",
      "metadata": {
        "colab": {
          "base_uri": "https://localhost:8080/"
        },
        "id": "Wkvak412xhSG",
        "outputId": "917efca1-ede2-496d-8d24-5473261bd405"
      },
      "source": [
        "tn['PctEmployed16_Over'].fillna(tn['PctEmployed16_Over'].median(), inplace= True)"
      ],
      "execution_count": null,
      "outputs": [
        {
          "output_type": "stream",
          "text": [
            "/usr/local/lib/python3.6/dist-packages/pandas/core/series.py:4536: SettingWithCopyWarning: \n",
            "A value is trying to be set on a copy of a slice from a DataFrame\n",
            "\n",
            "See the caveats in the documentation: https://pandas.pydata.org/pandas-docs/stable/user_guide/indexing.html#returning-a-view-versus-a-copy\n",
            "  downcast=downcast,\n"
          ],
          "name": "stderr"
        }
      ]
    },
    {
      "cell_type": "code",
      "metadata": {
        "id": "HLq1xAHTxhUe"
      },
      "source": [
        "scaler = preprocessing.StandardScaler() \r\n",
        "standard_df_t = scaler.fit_transform(tn)"
      ],
      "execution_count": null,
      "outputs": []
    },
    {
      "cell_type": "code",
      "metadata": {
        "id": "yvNPMwe8xhX7"
      },
      "source": [
        "u_test =pd.DataFrame(standard_df_t, columns= yy)\r\n",
        "u_test.head()"
      ],
      "execution_count": null,
      "outputs": []
    },
    {
      "cell_type": "code",
      "metadata": {
        "id": "POpVYidtxhZ4"
      },
      "source": [
        "ee.predict(tn)"
      ],
      "execution_count": null,
      "outputs": []
    },
    {
      "cell_type": "code",
      "metadata": {
        "id": "CxwcCV3Xxhbw"
      },
      "source": [
        "#######################################################################################\r\n",
        "\r\n",
        "zf= pd.read_csv('https://raw.githubusercontent.com/dphi-official/Datasets/master/cancer_death_rate/Training_set_label.csv')"
      ],
      "execution_count": null,
      "outputs": []
    },
    {
      "cell_type": "code",
      "metadata": {
        "id": "P-N2ifvY8cvo"
      },
      "source": [
        "zf.dtypes"
      ],
      "execution_count": null,
      "outputs": []
    },
    {
      "cell_type": "code",
      "metadata": {
        "id": "m204oA5_7rMU"
      },
      "source": [
        "zf.isna().any()"
      ],
      "execution_count": null,
      "outputs": []
    },
    {
      "cell_type": "code",
      "metadata": {
        "id": "Mgpe9oWt8RlK"
      },
      "source": [
        "zf.drop({'PctPrivateCoverageAlone'}, axis=1, inplace= True)"
      ],
      "execution_count": null,
      "outputs": []
    },
    {
      "cell_type": "code",
      "metadata": {
        "id": "RSviS5-q8tsb"
      },
      "source": [
        "ty = zf"
      ],
      "execution_count": null,
      "outputs": []
    },
    {
      "cell_type": "code",
      "metadata": {
        "id": "PmZVVcPn__eZ"
      },
      "source": [
        "y = ty['TARGET_deathRate']"
      ],
      "execution_count": null,
      "outputs": []
    },
    {
      "cell_type": "code",
      "metadata": {
        "id": "IumIOk5LA67R"
      },
      "source": [
        "ty.drop({'TARGET_deathRate'}, axis=1, inplace= True)"
      ],
      "execution_count": null,
      "outputs": []
    },
    {
      "cell_type": "code",
      "metadata": {
        "id": "i7Ys8srkBASr"
      },
      "source": [
        "scaler = preprocessing.StandardScaler() \r\n",
        "sdf = scaler.fit_transform(ty)"
      ],
      "execution_count": null,
      "outputs": []
    },
    {
      "cell_type": "code",
      "metadata": {
        "id": "0UHbRFr-BPr6"
      },
      "source": [
        "urd = pd.DataFrame(sdf, columns= ty.columns)"
      ],
      "execution_count": null,
      "outputs": []
    },
    {
      "cell_type": "code",
      "metadata": {
        "id": "BGk5ADdQBVwu"
      },
      "source": [
        "x_tr, x_t, y_tr, y_t = train_test_split(urd, y)"
      ],
      "execution_count": null,
      "outputs": []
    },
    {
      "cell_type": "code",
      "metadata": {
        "colab": {
          "base_uri": "https://localhost:8080/"
        },
        "id": "tC0fhNavB8C4",
        "outputId": "6927063a-4275-451e-8c67-0c953f85c24f"
      },
      "source": [
        "ee= RandomForestRegressor(n_estimators=300).fit(x_tr, y_tr)\r\n",
        "print(ee.score(x_tr, y_tr))\r\n",
        "print(ee.score(x_t, y_t))"
      ],
      "execution_count": null,
      "outputs": [
        {
          "output_type": "stream",
          "text": [
            "0.9570530893803436\n",
            "0.6843274061595293\n"
          ],
          "name": "stdout"
        }
      ]
    },
    {
      "cell_type": "code",
      "metadata": {
        "id": "PQ2y6uPmCDgX"
      },
      "source": [
        "ff= dftest[ty.columns]"
      ],
      "execution_count": null,
      "outputs": []
    },
    {
      "cell_type": "code",
      "metadata": {
        "id": "_txx5AXBH0ZU"
      },
      "source": [
        "scaler = preprocessing.StandardScaler() \r\n",
        "sdf2 = scaler.fit_transform(ff)"
      ],
      "execution_count": null,
      "outputs": []
    },
    {
      "cell_type": "code",
      "metadata": {
        "id": "FlgsF2nnJO9H"
      },
      "source": [
        "urd2 = pd.DataFrame(sdf2, columns= ff.columns)"
      ],
      "execution_count": null,
      "outputs": []
    },
    {
      "cell_type": "code",
      "metadata": {
        "id": "Gx5YtUeKJP3u"
      },
      "source": [
        "preds= ee.predict(urd2)"
      ],
      "execution_count": null,
      "outputs": []
    },
    {
      "cell_type": "code",
      "metadata": {
        "id": "JgJVr7OBJU0w"
      },
      "source": [
        "preds1 = pd.DataFrame(preds, columns=['prediction'], index= None)"
      ],
      "execution_count": null,
      "outputs": []
    },
    {
      "cell_type": "code",
      "metadata": {
        "id": "uvSk5j9PJ9hH"
      },
      "source": [
        "preds1.set_index('prediction', inplace= True)"
      ],
      "execution_count": null,
      "outputs": []
    },
    {
      "cell_type": "code",
      "metadata": {
        "id": "LbGugqSQLD4n"
      },
      "source": [
        "preds1.to_csv('preds.csv')"
      ],
      "execution_count": null,
      "outputs": []
    },
    {
      "cell_type": "code",
      "metadata": {
        "id": "XmvzVHDHLLqX"
      },
      "source": [
        "####################\r\n",
        "df_01 = df.copy()\r\n",
        "df_0t = dftest.copy()"
      ],
      "execution_count": null,
      "outputs": []
    },
    {
      "cell_type": "code",
      "metadata": {
        "id": "RrNWOXnAIfY0"
      },
      "source": [
        "df_01.isna().any()"
      ],
      "execution_count": null,
      "outputs": []
    },
    {
      "cell_type": "code",
      "metadata": {
        "id": "dJ3HfLCpIm7F"
      },
      "source": [
        "y= ['PctSomeCol18_24', 'PctEmployed16_Over', 'PctPrivateCoverageAlone']\r\n",
        "df_01.drop(y, axis=1, inplace= True)"
      ],
      "execution_count": null,
      "outputs": []
    },
    {
      "cell_type": "code",
      "metadata": {
        "id": "G_ED4Ns-I2lK"
      },
      "source": [
        "y1= df_01['TARGET_deathRate']\r\n",
        "df_01.drop({'TARGET_deathRate'}, axis=1, inplace= True)\r\n",
        "df_01.head()"
      ],
      "execution_count": null,
      "outputs": []
    },
    {
      "cell_type": "code",
      "metadata": {
        "id": "bmxR7uxwJRRC"
      },
      "source": [
        "df_01['binnedInc'] = df_01['binnedInc'].astype('category')"
      ],
      "execution_count": null,
      "outputs": []
    },
    {
      "cell_type": "code",
      "metadata": {
        "id": "B7dkh5yNW5qR"
      },
      "source": [
        "dftest['binnedInc'] = dftest['binnedInc'].astype('category')"
      ],
      "execution_count": null,
      "outputs": []
    },
    {
      "cell_type": "code",
      "metadata": {
        "id": "YnRDMp_5JYt8"
      },
      "source": [
        "from sklearn.preprocessing import LabelEncoder\r\n",
        "label_encoder = LabelEncoder()\r\n",
        "cat_ = label_encoder.fit_transform(df_01['binnedInc'])"
      ],
      "execution_count": null,
      "outputs": []
    },
    {
      "cell_type": "code",
      "metadata": {
        "id": "HsRYIGZsXAIl"
      },
      "source": [
        "cat_test = label_encoder.fit_transform(dftest['binnedInc'])"
      ],
      "execution_count": null,
      "outputs": []
    },
    {
      "cell_type": "code",
      "metadata": {
        "colab": {
          "base_uri": "https://localhost:8080/"
        },
        "id": "4j0QDg4FLIBh",
        "outputId": "b3523a47-86d9-4b87-a27b-ee1437ef968b"
      },
      "source": [
        "cat_"
      ],
      "execution_count": null,
      "outputs": [
        {
          "output_type": "execute_result",
          "data": {
            "text/plain": [
              "array([5, 7, 1, ..., 6, 2, 9])"
            ]
          },
          "metadata": {
            "tags": []
          },
          "execution_count": 28
        }
      ]
    },
    {
      "cell_type": "code",
      "metadata": {
        "id": "l-ihSMaCXOpg"
      },
      "source": [
        "dftest['binnedInc'] = cat_test"
      ],
      "execution_count": null,
      "outputs": []
    },
    {
      "cell_type": "code",
      "metadata": {
        "id": "q_v8e3ajMGRA"
      },
      "source": [
        "df_01['binnedInc'][:10]"
      ],
      "execution_count": null,
      "outputs": []
    },
    {
      "cell_type": "code",
      "metadata": {
        "id": "auXH3-zjMJlX"
      },
      "source": [
        "df_01['binnedInc'] = cat_"
      ],
      "execution_count": null,
      "outputs": []
    },
    {
      "cell_type": "code",
      "metadata": {
        "colab": {
          "base_uri": "https://localhost:8080/"
        },
        "id": "H567HpA0MMTA",
        "outputId": "efb5dbcb-4730-4f94-b317-01b10c40dec3"
      },
      "source": [
        "type(df_01['binnedInc'])"
      ],
      "execution_count": null,
      "outputs": [
        {
          "output_type": "execute_result",
          "data": {
            "text/plain": [
              "pandas.core.series.Series"
            ]
          },
          "metadata": {
            "tags": []
          },
          "execution_count": 32
        }
      ]
    },
    {
      "cell_type": "code",
      "metadata": {
        "id": "KtYNUgU7MN42"
      },
      "source": [
        "df_01.select_dtypes(include='object')"
      ],
      "execution_count": null,
      "outputs": []
    },
    {
      "cell_type": "code",
      "metadata": {
        "id": "pC07UO0jXWoZ"
      },
      "source": [
        "dftest.dtypes"
      ],
      "execution_count": null,
      "outputs": []
    },
    {
      "cell_type": "code",
      "metadata": {
        "id": "sQ9M50taPDME"
      },
      "source": [
        "cat_1 = label_encoder.fit_transform(df_01['Geography'])\r\n",
        "df_01['Geography'] = cat_1"
      ],
      "execution_count": null,
      "outputs": []
    },
    {
      "cell_type": "code",
      "metadata": {
        "id": "d2Dntz5TXhGA"
      },
      "source": [
        "cat_22= label_encoder.transform(dftest['Geography'])\r\n",
        "dftest['Geography'] = cat_22"
      ],
      "execution_count": null,
      "outputs": []
    },
    {
      "cell_type": "code",
      "metadata": {
        "id": "ePGPj1KiPTPv"
      },
      "source": [
        "pre_ = sklearn.preprocessing.StandardScaler()\r\n",
        "df_trans= pre_.fit_transform(df_01)"
      ],
      "execution_count": null,
      "outputs": []
    },
    {
      "cell_type": "code",
      "metadata": {
        "colab": {
          "base_uri": "https://localhost:8080/"
        },
        "id": "YcJER7RpP5Po",
        "outputId": "1fa83a4c-8afb-4f9b-f234-47ed2af77fad"
      },
      "source": [
        "df_trans_test = pre_.transform(dftest)"
      ],
      "execution_count": null,
      "outputs": [
        {
          "output_type": "execute_result",
          "data": {
            "text/plain": [
              "array([[-0.44121396, -0.37755589,  0.61449244, ..., -0.5765122 ,\n",
              "         1.70996348,  4.8843226 ],\n",
              "       [-0.38602904, -0.31912496,  0.69959445, ..., -0.56403137,\n",
              "         1.57654428, -1.18439006],\n",
              "       [-0.30045242, -0.20900514,  0.50480541, ..., -0.55105377,\n",
              "         0.40194789,  0.39975724],\n",
              "       ...,\n",
              "       [ 1.11329541, -0.37980323,  0.08590349, ..., -0.10429711,\n",
              "         0.8949667 ,  2.10565733],\n",
              "       [-0.38842838, -0.28766216, -1.2331667 , ..., -0.49645919,\n",
              "         0.10805446,  0.34496379],\n",
              "       [-0.41242182, -0.33485637, -2.03123442, ..., -0.41037812,\n",
              "        -0.08673052,  2.27026577]])"
            ]
          },
          "metadata": {
            "tags": []
          },
          "execution_count": 40
        }
      ]
    },
    {
      "cell_type": "code",
      "metadata": {
        "colab": {
          "base_uri": "https://localhost:8080/"
        },
        "id": "9oGCzZ5XQhO8",
        "outputId": "7ac02748-f3af-4eed-f8b7-15d93fd0b78b"
      },
      "source": [
        "dftest.shape"
      ],
      "execution_count": null,
      "outputs": [
        {
          "output_type": "execute_result",
          "data": {
            "text/plain": [
              "(762, 33)"
            ]
          },
          "metadata": {
            "tags": []
          },
          "execution_count": 51
        }
      ]
    },
    {
      "cell_type": "code",
      "metadata": {
        "id": "r10jhfc4YJyz"
      },
      "source": [
        "######################################################################################################################"
      ],
      "execution_count": null,
      "outputs": []
    },
    {
      "cell_type": "code",
      "metadata": {
        "id": "LAyO6GAcvBHq"
      },
      "source": [
        "tf= pd.read_csv('https://raw.githubusercontent.com/dphi-official/Datasets/master/cancer_death_rate/Training_set_label.csv')\r\n",
        "tftest = pd.read_csv('https://raw.githubusercontent.com/dphi-official/Datasets/master/cancer_death_rate/Testing_set_label.csv')"
      ],
      "execution_count": 2,
      "outputs": []
    },
    {
      "cell_type": "code",
      "metadata": {
        "id": "FZDqkcEvwsp7"
      },
      "source": [
        "tf.select_dtypes(include='object')"
      ],
      "execution_count": null,
      "outputs": []
    },
    {
      "cell_type": "code",
      "metadata": {
        "colab": {
          "base_uri": "https://localhost:8080/"
        },
        "id": "GpnBdRipwstK",
        "outputId": "f1b4304e-50b8-41c8-f34f-84d4c276b42c"
      },
      "source": [
        "tf['PctSomeCol18_24'].corr(tf['TARGET_deathRate'])"
      ],
      "execution_count": null,
      "outputs": [
        {
          "output_type": "execute_result",
          "data": {
            "text/plain": [
              "-0.2063373178462027"
            ]
          },
          "metadata": {
            "tags": []
          },
          "execution_count": 6
        }
      ]
    },
    {
      "cell_type": "code",
      "metadata": {
        "id": "Dtr4aBtKwswL"
      },
      "source": [
        "# drop PctSomeCol18_24\r\n",
        "# nan handling PctEmployed16_Over, PctPrivateCoverageAlone\r\n",
        "# cate var binnedInc, Geography\r\n",
        "# standard scaler"
      ],
      "execution_count": null,
      "outputs": []
    },
    {
      "cell_type": "code",
      "metadata": {
        "id": "YgQg3bIhzPrO"
      },
      "source": [
        "tf.head()"
      ],
      "execution_count": null,
      "outputs": []
    },
    {
      "cell_type": "code",
      "metadata": {
        "id": "RlV0J5q6wsys"
      },
      "source": [
        "y_ = tf['TARGET_deathRate']\r\n",
        "tf.drop({'TARGET_deathRate'}, axis=1, inplace = True)"
      ],
      "execution_count": 3,
      "outputs": []
    },
    {
      "cell_type": "code",
      "metadata": {
        "id": "MitJA48Uws1D"
      },
      "source": [
        "tf.drop({'PctSomeCol18_24'}, axis=1, inplace = True)\r\n",
        "tftest.drop({'PctSomeCol18_24'}, axis=1, inplace = True)"
      ],
      "execution_count": 4,
      "outputs": []
    },
    {
      "cell_type": "code",
      "metadata": {
        "id": "VL9Tzqtxws4A"
      },
      "source": [
        "tf['PctEmployed16_Over'].fillna(tf['PctEmployed16_Over'].mean(), inplace = True)"
      ],
      "execution_count": 5,
      "outputs": []
    },
    {
      "cell_type": "code",
      "metadata": {
        "id": "wlQfat5Uws7d"
      },
      "source": [
        "tftest['PctEmployed16_Over'].fillna(tftest['PctEmployed16_Over'].mean(), inplace = True)"
      ],
      "execution_count": 6,
      "outputs": []
    },
    {
      "cell_type": "code",
      "metadata": {
        "id": "kTM834a0ws96"
      },
      "source": [
        "tf['PctPrivateCoverageAlone'].fillna(tf['PctPrivateCoverageAlone'].mean(), inplace = True)"
      ],
      "execution_count": 7,
      "outputs": []
    },
    {
      "cell_type": "code",
      "metadata": {
        "id": "aN6wTnu-wtAe"
      },
      "source": [
        "tftest['PctPrivateCoverageAlone'].fillna(tftest['PctPrivateCoverageAlone'].mean(), inplace = True)"
      ],
      "execution_count": 8,
      "outputs": []
    },
    {
      "cell_type": "code",
      "metadata": {
        "id": "OB8e0cauwtDK"
      },
      "source": [
        "tf['binnedInc'] = tf['binnedInc'].astype('category')\r\n",
        "tftest['binnedInc'] = tftest['binnedInc'].astype('category')\r\n",
        "from sklearn.preprocessing import LabelEncoder\r\n",
        "label_encoder = LabelEncoder()\r\n",
        "cat_1 = label_encoder.fit_transform(tf['binnedInc'])\r\n",
        "tf['binnedInc'] = cat_1\r\n",
        "cat_test = label_encoder.transform(tftest['binnedInc'])\r\n",
        "tftest['binnedInc'] = cat_test"
      ],
      "execution_count": 9,
      "outputs": []
    },
    {
      "cell_type": "code",
      "metadata": {
        "id": "pzEPVikdwtQd"
      },
      "source": [
        "tf['Geo_cat'] = [tf['Geography'][i].split(',')[1].strip() for i in range(len(tf['Geography']))]"
      ],
      "execution_count": 10,
      "outputs": []
    },
    {
      "cell_type": "code",
      "metadata": {
        "id": "DhmRjb9BwtTa"
      },
      "source": [
        "tftest['Geo_cat'] = [tftest['Geography'][i].split(',')[1].strip() for i in range(len(tftest['Geography']))]"
      ],
      "execution_count": 11,
      "outputs": []
    },
    {
      "cell_type": "code",
      "metadata": {
        "colab": {
          "base_uri": "https://localhost:8080/"
        },
        "id": "5zwQtqMjwtdC",
        "outputId": "9511244b-cab5-4748-dbf7-7478ed2650c4"
      },
      "source": [
        "len(tf['Geo_cat'].unique())"
      ],
      "execution_count": null,
      "outputs": [
        {
          "output_type": "execute_result",
          "data": {
            "text/plain": [
              "51"
            ]
          },
          "metadata": {
            "tags": []
          },
          "execution_count": 43
        }
      ]
    },
    {
      "cell_type": "code",
      "metadata": {
        "colab": {
          "base_uri": "https://localhost:8080/"
        },
        "id": "iMiNykthBQrP",
        "outputId": "8feb4809-2959-4e13-e1ca-2213482124f5"
      },
      "source": [
        "len(tftest['Geo_cat'].unique())"
      ],
      "execution_count": null,
      "outputs": [
        {
          "output_type": "execute_result",
          "data": {
            "text/plain": [
              "50"
            ]
          },
          "metadata": {
            "tags": []
          },
          "execution_count": 44
        }
      ]
    },
    {
      "cell_type": "code",
      "metadata": {
        "colab": {
          "base_uri": "https://localhost:8080/"
        },
        "id": "eiQmik07BSkJ",
        "outputId": "c2b450a5-9213-449a-9a6a-ff7ba6e3e904"
      },
      "source": [
        "set(tf['Geo_cat'].unique()).difference(set(tftest['Geo_cat'].unique()))"
      ],
      "execution_count": null,
      "outputs": [
        {
          "output_type": "execute_result",
          "data": {
            "text/plain": [
              "{'District of Columbia'}"
            ]
          },
          "metadata": {
            "tags": []
          },
          "execution_count": 47
        }
      ]
    },
    {
      "cell_type": "code",
      "metadata": {
        "id": "KMVGt29SCIP-"
      },
      "source": [
        "tf.loc[tf['Geo_cat']== 'District of Columbia']"
      ],
      "execution_count": null,
      "outputs": []
    },
    {
      "cell_type": "code",
      "metadata": {
        "id": "oULPE8ZPCa5J"
      },
      "source": [
        "tf['Geo_cat'].replace({'District of Columbia': 'Washington'}, inplace=True)"
      ],
      "execution_count": 12,
      "outputs": []
    },
    {
      "cell_type": "code",
      "metadata": {
        "id": "mP3DqAcnCgBp"
      },
      "source": [
        "# empty set\r\n",
        "set(tf['Geo_cat'].unique()).difference(set(tftest['Geo_cat'].unique()))"
      ],
      "execution_count": null,
      "outputs": []
    },
    {
      "cell_type": "code",
      "metadata": {
        "id": "ENtPhrInDKOj"
      },
      "source": [
        "tf['Geo_cat'] = tf['Geo_cat'].astype('category')\r\n",
        "tftest['Geo_cat'] = tftest['Geo_cat'].astype('category')\r\n",
        "label_encoder_geo = LabelEncoder()\r\n",
        "cat_1 = label_encoder_geo.fit_transform(tf['Geo_cat'])\r\n",
        "tf['Geo_cat'] = cat_1\r\n",
        "cat_test = label_encoder_geo.transform(tftest['Geo_cat'])\r\n",
        "tftest['Geo_cat'] = cat_test"
      ],
      "execution_count": 14,
      "outputs": []
    },
    {
      "cell_type": "code",
      "metadata": {
        "id": "jlLXSYMjD6kO"
      },
      "source": [
        "tf.drop({'Geography'}, axis=1, inplace= True)"
      ],
      "execution_count": 15,
      "outputs": []
    },
    {
      "cell_type": "code",
      "metadata": {
        "id": "W82465zeD89a"
      },
      "source": [
        "tftest.drop({'Geography'}, axis=1, inplace= True)\r\n",
        "tftest.select_dtypes(include='object')"
      ],
      "execution_count": null,
      "outputs": []
    },
    {
      "cell_type": "code",
      "metadata": {
        "colab": {
          "base_uri": "https://localhost:8080/"
        },
        "id": "DCKfS6peEr_4",
        "outputId": "b51947f1-5f5e-4719-d52c-c9992582741c"
      },
      "source": [
        "print(tf.shape)\r\n",
        "print(tftest.shape)"
      ],
      "execution_count": 17,
      "outputs": [
        {
          "output_type": "stream",
          "text": [
            "(3051, 32)\n",
            "(762, 32)\n"
          ],
          "name": "stdout"
        }
      ]
    },
    {
      "cell_type": "code",
      "metadata": {
        "id": "j-CYhtVnEKO1"
      },
      "source": [
        "from sklearn.preprocessing import StandardScaler\r\n",
        "tysc = StandardScaler()\r\n",
        "tf_sc= tysc.fit_transform(tf)\r\n",
        "tftest_sc = tysc.transform(tftest)"
      ],
      "execution_count": 52,
      "outputs": []
    },
    {
      "cell_type": "code",
      "metadata": {
        "id": "Um7S2TqQGSxh"
      },
      "source": [
        "from sklearn.model_selection import train_test_split\r\n",
        "from sklearn.linear_model import LinearRegression\r\n",
        "x_train, x_test, y_train, y_test = train_test_split(tf_sc, y_, random_state=42)\r\n",
        "\r\n",
        "lr= LinearRegression().fit(x_train, y_train)"
      ],
      "execution_count": null,
      "outputs": []
    },
    {
      "cell_type": "code",
      "metadata": {
        "colab": {
          "base_uri": "https://localhost:8080/"
        },
        "id": "qLcgqCagGU10",
        "outputId": "166dd8ad-bbae-48ee-83a0-f8403eb0e61e"
      },
      "source": [
        "print(lr.score(x_train, y_train))\r\n",
        "print(lr.score(x_test, y_test))"
      ],
      "execution_count": null,
      "outputs": [
        {
          "output_type": "stream",
          "text": [
            "0.5282041585775187\n",
            "0.5423184300484032\n"
          ],
          "name": "stdout"
        }
      ]
    },
    {
      "cell_type": "code",
      "metadata": {
        "colab": {
          "base_uri": "https://localhost:8080/"
        },
        "id": "uZMgR7IeHbb2",
        "outputId": "d9d90591-9885-4cb3-b7cb-d3168231ad01"
      },
      "source": [
        "# from sklearn.ensemble import RandomForestRegressor\r\n",
        "# lrr= RandomForestRegressor(max_depth=18, max_features=12).fit(x_train, y_train)\r\n",
        "print(lrr.score(x_train, y_train))\r\n",
        "print(lrr.score(x_test, y_test))"
      ],
      "execution_count": null,
      "outputs": [
        {
          "output_type": "stream",
          "text": [
            "0.955745796534607\n",
            "0.7079168853269004\n"
          ],
          "name": "stdout"
        }
      ]
    },
    {
      "cell_type": "code",
      "metadata": {
        "colab": {
          "base_uri": "https://localhost:8080/"
        },
        "id": "WzuGdwINRLS2",
        "outputId": "2f5495b4-a1c6-4d14-cd13-d96fe8c4f379"
      },
      "source": [
        "#from sklearn.ensemble import GradientBoostingRegressor\r\n",
        "# gbr = GradientBoostingRegressor(learning_rate=0.5, n_estimators=150, max_depth=3).fit(x_train, y_train)\r\n",
        "print(gbr.score(x_train, y_train))\r\n",
        "print(gbr.score(x_test, y_test))"
      ],
      "execution_count": null,
      "outputs": [
        {
          "output_type": "stream",
          "text": [
            "0.9743875032737885\n",
            "0.7454620978142507\n"
          ],
          "name": "stdout"
        }
      ]
    },
    {
      "cell_type": "code",
      "metadata": {
        "colab": {
          "base_uri": "https://localhost:8080/"
        },
        "id": "ndaNF3YXcxT9",
        "outputId": "f57cb669-0fd6-4f6b-8634-823ca9d0e3c8"
      },
      "source": [
        "xg = XGBRegressor(learning_rate=0.45, n_estimators=150, max_depth=3).fit(x_train, y_train)\r\n",
        "print(xg.score(x_train, y_train))\r\n",
        "print(xg.score(x_test, y_test))"
      ],
      "execution_count": null,
      "outputs": [
        {
          "output_type": "stream",
          "text": [
            "[15:16:37] WARNING: /workspace/src/objective/regression_obj.cu:152: reg:linear is now deprecated in favor of reg:squarederror.\n",
            "0.9726383686073803\n",
            "0.7925462975863411\n"
          ],
          "name": "stdout"
        }
      ]
    },
    {
      "cell_type": "code",
      "metadata": {
        "id": "v8CBT0escxXd"
      },
      "source": [
        "x_pred= xg.predict(tftest_sc)"
      ],
      "execution_count": null,
      "outputs": []
    },
    {
      "cell_type": "code",
      "metadata": {
        "id": "WXnUQhRTcxcH"
      },
      "source": [
        "fol = pd.DataFrame(x_pred, columns=['prediction'], index= None)\r\n",
        "fol.set_index('prediction', inplace= True)\r\n",
        "fol.to_csv('pred2.csv')"
      ],
      "execution_count": null,
      "outputs": []
    },
    {
      "cell_type": "code",
      "metadata": {
        "id": "29TjFaokcxe0"
      },
      "source": [
        "fol.head()"
      ],
      "execution_count": null,
      "outputs": []
    },
    {
      "cell_type": "code",
      "metadata": {
        "id": "BvogIGyjlYGJ"
      },
      "source": [
        "#############################\r\n",
        "tymm = MinMaxScaler()\r\n",
        "tf_mm= tymm.fit_transform(tf)\r\n",
        "tftest_mm = tymm.transform(tftest)"
      ],
      "execution_count": 18,
      "outputs": []
    },
    {
      "cell_type": "code",
      "metadata": {
        "id": "dBYeAYOMHauL"
      },
      "source": [
        "from sklearn.model_selection import train_test_split\r\n",
        "x_train, x_test, y_train, y_test = train_test_split(tf_mm, y_, random_state=42)"
      ],
      "execution_count": 19,
      "outputs": []
    },
    {
      "cell_type": "code",
      "metadata": {
        "colab": {
          "base_uri": "https://localhost:8080/"
        },
        "id": "6KRkn9qqIKxb",
        "outputId": "19b8b669-c7db-4bae-8aee-a67e160155dc"
      },
      "source": [
        "xghp = XGBRegressor(colsample_bytree= 1, learning_rate= 0.25, max_depth= 3, n_estimators= 2000, subsample= 1).fit(x_train, y_train)\r\n",
        "print(xghp.score(x_train, y_train))\r\n",
        "print(xghp.score(x_test, y_test))"
      ],
      "execution_count": 50,
      "outputs": [
        {
          "output_type": "stream",
          "text": [
            "[06:43:29] WARNING: /workspace/src/objective/regression_obj.cu:152: reg:linear is now deprecated in favor of reg:squarederror.\n",
            "0.9999960711601398\n",
            "0.8048213636255216\n"
          ],
          "name": "stdout"
        }
      ]
    },
    {
      "cell_type": "code",
      "metadata": {
        "id": "IOt-ltlPRtoa"
      },
      "source": [
        "udil= xghp.predict(tftest_mm)"
      ],
      "execution_count": 58,
      "outputs": []
    },
    {
      "cell_type": "code",
      "metadata": {
        "id": "L89hSXRgRt1n"
      },
      "source": [
        "fol2 = pd.DataFrame(udil, columns=['prediction'], index= None)\r\n",
        "fol2.set_index('prediction', inplace= True)\r\n",
        "fol2.to_csv('pred2.csv')"
      ],
      "execution_count": 59,
      "outputs": []
    },
    {
      "cell_type": "code",
      "metadata": {
        "id": "MiVy1sn_0ft0"
      },
      "source": [
        ""
      ],
      "execution_count": null,
      "outputs": []
    },
    {
      "cell_type": "code",
      "metadata": {
        "id": "gLBuXIdr1J6B"
      },
      "source": [
        ""
      ],
      "execution_count": null,
      "outputs": []
    }
  ]
}