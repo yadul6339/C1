{
  "nbformat": 4,
  "nbformat_minor": 0,
  "metadata": {
    "kernelspec": {
      "display_name": "Python 3",
      "language": "python",
      "name": "python3"
    },
    "language_info": {
      "codemirror_mode": {
        "name": "ipython",
        "version": 3
      },
      "file_extension": ".py",
      "mimetype": "text/x-python",
      "name": "python",
      "nbconvert_exporter": "python",
      "pygments_lexer": "ipython3",
      "version": "3.7.4"
    },
    "colab": {
      "name": "NPV In-Class (DAY 1) - Questions [v2.0 - 190320]-1.ipynb",
      "provenance": [],
      "collapsed_sections": [],
      "include_colab_link": true
    }
  },
  "cells": [
    {
      "cell_type": "markdown",
      "metadata": {
        "id": "view-in-github",
        "colab_type": "text"
      },
      "source": [
        "<a href=\"https://colab.research.google.com/github/zerryberry/C1/blob/master/NPV_In_Class_(DAY_1)_Questions_%5Bv2_0_190320%5D_1.ipynb\" target=\"_parent\"><img src=\"https://colab.research.google.com/assets/colab-badge.svg\" alt=\"Open In Colab\"/></a>"
      ]
    },
    {
      "cell_type": "markdown",
      "metadata": {
        "id": "GuFb-u9SbehT"
      },
      "source": [
        "<table align=\"left\" width=100%>\n",
        "    <tr>\n",
        "        <td width=\"10%\">\n",
        "            <img src=\"in_class.png\">\n",
        "        </td>\n",
        "        <td>\n",
        "            <div align=\"center\">\n",
        "                <font color=\"#21618C\" size=8px>\n",
        "                  <b> Inclass - Lab <br> (Day 1) </b>\n",
        "                </font>\n",
        "            </div>\n",
        "        </td>\n",
        "    </tr>\n",
        "</table>"
      ]
    },
    {
      "cell_type": "markdown",
      "metadata": {
        "id": "jZEkUUZDbehV"
      },
      "source": [
        "##  Table of Content\n",
        "\n",
        "1. **[One Dimensional Array](#1D)**\n",
        "2. **[Two Dimensional Array](#2D)**\n",
        "3. **[Stacking](#Stacking)**\n",
        "4. **[Splitting](#Splitting)**\n",
        "5. **[For Loop](#loop)**"
      ]
    },
    {
      "cell_type": "markdown",
      "metadata": {
        "id": "MHPttB0tbehW"
      },
      "source": [
        "**Import the NumPy library before solving the exercises**"
      ]
    },
    {
      "cell_type": "markdown",
      "metadata": {
        "id": "L8TzYuGWbehW"
      },
      "source": [
        "### Let's begin with some hands-on practice exercises"
      ]
    },
    {
      "cell_type": "markdown",
      "metadata": {
        "id": "xfum17oYbehX"
      },
      "source": [
        "<a id=\"1D\"> </a>\n",
        "## 1. One Dimensional Array"
      ]
    },
    {
      "cell_type": "markdown",
      "metadata": {
        "id": "depCyxbdbehY"
      },
      "source": [
        "<table align=\"left\">\n",
        "    <tr>\n",
        "        <td width=\"6%\">\n",
        "            <img src=\"question_icon.png\">\n",
        "        </td>\n",
        "        <td>\n",
        "            <div align=\"left\", style=\"font-size:120%\">\n",
        "                <font color=\"#21618C\">\n",
        "                    <b>1. Write a NumPy program to convert a list of numeric values into a one-dimensional NumPy array</b>\n",
        "                </font>\n",
        "            </div>\n",
        "        </td>\n",
        "    </tr>\n",
        "</table>"
      ]
    },
    {
      "cell_type": "code",
      "metadata": {
        "id": "ovTTO3q9Z7pN",
        "outputId": "569d27cf-682a-41dc-dd96-6aa93fa8fa69",
        "colab": {
          "base_uri": "https://localhost:8080/",
          "height": 34
        }
      },
      "source": [
        "import numpy as np\n",
        "l= [1,2,3,4,5]\n",
        "h= np.array(l)\n",
        "h"
      ],
      "execution_count": null,
      "outputs": [
        {
          "output_type": "execute_result",
          "data": {
            "text/plain": [
              "array([1, 2, 3, 4, 5])"
            ]
          },
          "metadata": {
            "tags": []
          },
          "execution_count": 26
        }
      ]
    },
    {
      "cell_type": "markdown",
      "metadata": {
        "id": "id8gb5YXbehY"
      },
      "source": [
        "**Use the list given below: (or create your own list)**<br>\n",
        "\n",
        "    list_temperature = [3.04, 1.65, 5.76, 1.66, 1.54, 4.69, 2.68]"
      ]
    },
    {
      "cell_type": "code",
      "metadata": {
        "id": "E1Qm9gbsbehZ",
        "outputId": "0a094b1b-6cf8-4b08-ead9-c71b4e154e5c",
        "colab": {
          "base_uri": "https://localhost:8080/",
          "height": 34
        }
      },
      "source": [
        "import numpy as np\n",
        "l = [3.04, 1.65, 5.76, 1.66, 1.54, 4.69, 2.68]\n",
        "a= np.array(l)\n",
        "a"
      ],
      "execution_count": null,
      "outputs": [
        {
          "output_type": "execute_result",
          "data": {
            "text/plain": [
              "array([3.04, 1.65, 5.76, 1.66, 1.54, 4.69, 2.68])"
            ]
          },
          "metadata": {
            "tags": []
          },
          "execution_count": 2
        }
      ]
    },
    {
      "cell_type": "markdown",
      "metadata": {
        "id": "dzppBkKlbehd"
      },
      "source": [
        "<table align=\"left\">\n",
        "    <tr>\n",
        "        <td width=\"6%\">\n",
        "            <img src=\"question_icon.png\">\n",
        "        </td>\n",
        "        <td>\n",
        "            <div align=\"left\", style=\"font-size:120%\">\n",
        "                <font color=\"#21618C\">\n",
        "                    <b>2. Create a 1D array of weights of 10 students and retrieve all the weights greater than 68</b>\n",
        "                </font>\n",
        "            </div>\n",
        "        </td>\n",
        "    </tr>\n",
        "</table>"
      ]
    },
    {
      "cell_type": "markdown",
      "metadata": {
        "id": "67NOJtMfbehd"
      },
      "source": [
        "**Use the weights given below: (or create your own list)**\n",
        "\n",
        "    weights = [74.2, 85, 74, 67.9, 52, 70.5, 86, 51.8, 64, 82]"
      ]
    },
    {
      "cell_type": "code",
      "metadata": {
        "id": "EiwNG6NQbehe",
        "outputId": "b633e81a-3a51-4419-a109-6a49a03b5a8d",
        "colab": {
          "base_uri": "https://localhost:8080/",
          "height": 34
        }
      },
      "source": [
        "weights = [74.2, 85, 74, 67.9, 52, 70.5, 86, 51.8, 64, 82]\n",
        "a= np.array(weights)\n",
        "a [a > 68]"
      ],
      "execution_count": null,
      "outputs": [
        {
          "output_type": "execute_result",
          "data": {
            "text/plain": [
              "array([74.2, 85. , 74. , 70.5, 86. , 82. ])"
            ]
          },
          "metadata": {
            "tags": []
          },
          "execution_count": 4
        }
      ]
    },
    {
      "cell_type": "markdown",
      "metadata": {
        "id": "HBYsorFEbehh"
      },
      "source": [
        "<table align=\"left\">\n",
        "    <tr>\n",
        "        <td width=\"6%\">\n",
        "            <img src=\"question_icon.png\">\n",
        "        </td>\n",
        "        <td>\n",
        "            <div align=\"left\", style=\"font-size:120%\">\n",
        "                <font color=\"#21618C\">\n",
        "                    <b>3. Write a code to generate 10 random integers between 20 to 40 (Is it possible to generate same random numbers everytime? If yes, describe the function)\n",
        "                    </b>\n",
        "                </font>\n",
        "            </div>\n",
        "        </td>\n",
        "    </tr>\n",
        "</table>"
      ]
    },
    {
      "cell_type": "code",
      "metadata": {
        "id": "wXvPOmTabehi",
        "outputId": "11af8e5e-f287-4f87-df7a-11fbe7e51d60",
        "colab": {
          "base_uri": "https://localhost:8080/",
          "height": 68
        }
      },
      "source": [
        "# without seed\n",
        "s= np.random.randint(20, 40, 10)\n",
        "print(s)\n",
        "\n",
        "# with seed- to get same random number everytime. \n",
        "np.random.seed(seed= 26)\n",
        "d= np.random.randint(20,40, 10)\n",
        "print(d)\n",
        "\n",
        "np.random.seed(seed= 26)\n",
        "f = np.random.randint(20,40, 10)\n",
        "print(f)"
      ],
      "execution_count": null,
      "outputs": [
        {
          "output_type": "stream",
          "text": [
            "[32 35 36 32 38 32 39 39 39 23]\n",
            "[26 36 21 26 39 33 20 24 22 33]\n",
            "[26 36 21 26 39 33 20 24 22 33]\n"
          ],
          "name": "stdout"
        }
      ]
    },
    {
      "cell_type": "markdown",
      "metadata": {
        "id": "sgJa1pNfbehk"
      },
      "source": [
        "<table align=\"left\">\n",
        "    <tr>\n",
        "        <td width=\"6%\">\n",
        "            <img src=\"question_icon.png\">\n",
        "        </td>\n",
        "        <td>\n",
        "            <div align=\"left\", style=\"font-size:120%\">\n",
        "                <font color=\"#21618C\">\n",
        "                    <b>4. Write a program to get the fifth power of the first five positive integers\n",
        "                    </b>\n",
        "                </font>\n",
        "            </div>\n",
        "        </td>\n",
        "    </tr>\n",
        "</table>"
      ]
    },
    {
      "cell_type": "code",
      "metadata": {
        "id": "vCiI831Ke9o3",
        "outputId": "1a23c2f2-9bad-437a-9900-ec93ba6f5976",
        "colab": {
          "base_uri": "https://localhost:8080/",
          "height": 34
        }
      },
      "source": [
        "t= np.arange(1,6)**5\n",
        "t"
      ],
      "execution_count": null,
      "outputs": [
        {
          "output_type": "execute_result",
          "data": {
            "text/plain": [
              "array([   1,   32,  243, 1024, 3125])"
            ]
          },
          "metadata": {
            "tags": []
          },
          "execution_count": 14
        }
      ]
    },
    {
      "cell_type": "markdown",
      "metadata": {
        "id": "aQkkjqDZbeho"
      },
      "source": [
        "<table align=\"left\">\n",
        "    <tr>\n",
        "        <td width=\"6%\">\n",
        "            <img src=\"question_icon.png\">\n",
        "        </td>\n",
        "        <td>\n",
        "            <div align=\"left\", style=\"font-size:120%\">\n",
        "                <font color=\"#21618C\">\n",
        "                    <b>5. Write a program to create an array of all the odd integers from 50 to 100 \n",
        "                    </b>\n",
        "                </font>\n",
        "            </div>\n",
        "        </td>\n",
        "    </tr>\n",
        "</table>"
      ]
    },
    {
      "cell_type": "code",
      "metadata": {
        "id": "Qpt-pf1Cbeho",
        "outputId": "b7b4c481-779a-4dab-b104-b6be6e84cf80",
        "colab": {
          "base_uri": "https://localhost:8080/",
          "height": 51
        }
      },
      "source": [
        "a= np.arange(50, 100)\n",
        "a[a%2!=0]"
      ],
      "execution_count": null,
      "outputs": [
        {
          "output_type": "execute_result",
          "data": {
            "text/plain": [
              "array([51, 53, 55, 57, 59, 61, 63, 65, 67, 69, 71, 73, 75, 77, 79, 81, 83,\n",
              "       85, 87, 89, 91, 93, 95, 97, 99])"
            ]
          },
          "metadata": {
            "tags": []
          },
          "execution_count": 18
        }
      ]
    },
    {
      "cell_type": "markdown",
      "metadata": {
        "id": "q5Xzt47hbehr"
      },
      "source": [
        "<table align=\"left\">\n",
        "    <tr>\n",
        "        <td width=\"6%\">\n",
        "            <img src=\"question_icon.png\">\n",
        "        </td>\n",
        "        <td>\n",
        "            <div align=\"left\", style=\"font-size:120%\">\n",
        "                <font color=\"#21618C\">\n",
        "                    <b>6. Write a program to calculate the sum of each column </b>\n",
        "                </font>\n",
        "            </div>\n",
        "        </td>\n",
        "    </tr>\n",
        "</table>"
      ]
    },
    {
      "cell_type": "markdown",
      "metadata": {
        "id": "ytP3e0lubehs"
      },
      "source": [
        "**Use the array given below: (or create your own array)**\n",
        "\n",
        "    A = [[1, 4, 8], [5, 7, 3], [9, 14, 2]]"
      ]
    },
    {
      "cell_type": "code",
      "metadata": {
        "id": "OhKSiWJFbehs",
        "outputId": "70129ce6-031b-4527-9432-b111278f13be",
        "colab": {
          "base_uri": "https://localhost:8080/",
          "height": 34
        }
      },
      "source": [
        "A = [[1, 4, 8], [5, 7, 3], [9, 14, 2]]\n",
        "np.array(A).sum(axis=0)"
      ],
      "execution_count": null,
      "outputs": [
        {
          "output_type": "execute_result",
          "data": {
            "text/plain": [
              "array([15, 25, 13])"
            ]
          },
          "metadata": {
            "tags": []
          },
          "execution_count": 28
        }
      ]
    },
    {
      "cell_type": "markdown",
      "metadata": {
        "id": "_Ll-br2qbehv"
      },
      "source": [
        "<table align=\"left\">\n",
        "    <tr>\n",
        "        <td width=\"6%\">\n",
        "            <img src=\"question_icon.png\">\n",
        "        </td>\n",
        "        <td>\n",
        "            <div align=\"left\", style=\"font-size:120%\">\n",
        "                <font color=\"#21618C\">\n",
        "                    <b>7. Write a code to get the element-wise remainder of an array after division by 8 \n",
        "                    </b>\n",
        "                </font>\n",
        "            </div>\n",
        "        </td>\n",
        "    </tr>\n",
        "</table>"
      ]
    },
    {
      "cell_type": "markdown",
      "metadata": {
        "id": "Rxa4HT3Obehv"
      },
      "source": [
        "**Use the list given below:**<br>\n",
        "    \n",
        "    num = [42, 87, 90, 14, 32, 75, 61, 80, 92]"
      ]
    },
    {
      "cell_type": "code",
      "metadata": {
        "id": "GWQxTmdMbehw",
        "outputId": "989918dd-b7cc-4693-e817-2f061180eb6d",
        "colab": {
          "base_uri": "https://localhost:8080/",
          "height": 34
        }
      },
      "source": [
        "num = [42, 87, 90, 14, 32, 75, 61, 80, 92]\n",
        "a= np.array(num)\n",
        "a%8"
      ],
      "execution_count": null,
      "outputs": [
        {
          "output_type": "execute_result",
          "data": {
            "text/plain": [
              "array([2, 7, 2, 6, 0, 3, 5, 0, 4])"
            ]
          },
          "metadata": {
            "tags": []
          },
          "execution_count": 22
        }
      ]
    },
    {
      "cell_type": "markdown",
      "metadata": {
        "id": "cCPkpHF6behy"
      },
      "source": [
        "<a id=\"2D\"> </a>\n",
        "## 2. Two Dimensional Array"
      ]
    },
    {
      "cell_type": "markdown",
      "metadata": {
        "id": "mdnO5naVbehy"
      },
      "source": [
        "<table align=\"left\">\n",
        "    <tr>\n",
        "        <td width=\"6%\">\n",
        "            <img src=\"question_icon.png\">\n",
        "        </td>\n",
        "        <td>\n",
        "            <div align=\"left\", style=\"font-size:120%\">\n",
        "                <font color=\"#21618C\">\n",
        "                    <b>8. Create a 2D numpy array from a 1D array of 20 elements of your choice. Further, subset the first 5 elements from the second element of a resulting 2D array \n",
        "                    </b>\n",
        "                </font>\n",
        "            </div>\n",
        "        </td>\n",
        "    </tr>\n",
        "</table>"
      ]
    },
    {
      "cell_type": "code",
      "metadata": {
        "id": "PJi7HXVSbehz",
        "outputId": "0d26c25f-7b09-44eb-b50d-35203a28fd57",
        "colab": {
          "base_uri": "https://localhost:8080/",
          "height": 34
        }
      },
      "source": [
        "a= np.arange(10,35)[:20]\n",
        "b= a.reshape(4,5)[1]\n",
        "b"
      ],
      "execution_count": null,
      "outputs": [
        {
          "output_type": "execute_result",
          "data": {
            "text/plain": [
              "array([15, 16, 17, 18, 19])"
            ]
          },
          "metadata": {
            "tags": []
          },
          "execution_count": 34
        }
      ]
    },
    {
      "cell_type": "markdown",
      "metadata": {
        "id": "NGZISX4wbeh4"
      },
      "source": [
        "<table align=\"left\">\n",
        "    <tr>\n",
        "        <td width=\"6%\">\n",
        "            <img src=\"question_icon.png\">\n",
        "        </td>\n",
        "        <td>\n",
        "            <div align=\"left\", style=\"font-size:120%\">\n",
        "                <font color=\"#21618C\">\n",
        "                    <b>9. Write a program to find common values between two arrays \n",
        "                    </b>\n",
        "                </font>\n",
        "            </div>\n",
        "        </td>\n",
        "    </tr>\n",
        "</table>"
      ]
    },
    {
      "cell_type": "markdown",
      "metadata": {
        "id": "M-SEltsQbeh5"
      },
      "source": [
        "**Use the lists given below:**<br>\n",
        "\n",
        "    prices_monday = [10, 30, 50, 60, 90]\n",
        "\n",
        "    prices_tuesday = [50, 20, 80, 125, 10, 70]"
      ]
    },
    {
      "cell_type": "code",
      "metadata": {
        "id": "oPKuRQNxbeh5",
        "outputId": "b575419b-344b-4221-8705-3806f1e1dd5b",
        "colab": {
          "base_uri": "https://localhost:8080/",
          "height": 34
        }
      },
      "source": [
        "p1 = np.array([10, 30, 50, 60, 90])\n",
        "p2 = np.array([50, 20, 80, 125, 10, 70])\n",
        "np.intersect1d(p1,p2)"
      ],
      "execution_count": null,
      "outputs": [
        {
          "output_type": "execute_result",
          "data": {
            "text/plain": [
              "array([10, 50])"
            ]
          },
          "metadata": {
            "tags": []
          },
          "execution_count": 64
        }
      ]
    },
    {
      "cell_type": "markdown",
      "metadata": {
        "id": "7IAO_XIgbeh8"
      },
      "source": [
        "<table align=\"left\">\n",
        "    <tr>\n",
        "        <td width=\"6%\">\n",
        "            <img src=\"question_icon.png\">\n",
        "        </td>\n",
        "        <td>\n",
        "            <div align=\"left\", style=\"font-size:120%\">\n",
        "                <font color=\"#21618C\">\n",
        "                    <b>10. Write a program to find BMI of the patients whose height and weight is provided in the list given below \n",
        "                    </b>\n",
        "                </font>\n",
        "            </div>\n",
        "        </td>\n",
        "    </tr>\n",
        "</table>"
      ]
    },
    {
      "cell_type": "markdown",
      "metadata": {
        "id": "0hd186vdbeh8"
      },
      "source": [
        "**Use the lists given below:**<br>\n",
        "\n",
        "    list of weights (in kg)\n",
        "    weights = [57, 69, 54, 65 ,71, 62, 56]\n",
        "\n",
        "    list of heights (in m)<br>\n",
        "    heights = [1.59, 1.75, 1.66, 1.74, 1.64, 1.72, 1.53] "
      ]
    },
    {
      "cell_type": "code",
      "metadata": {
        "id": "pak7zb0nbeh9",
        "outputId": "c25aaf4d-8a45-485c-8762-66ae2539501c",
        "colab": {
          "base_uri": "https://localhost:8080/",
          "height": 51
        }
      },
      "source": [
        "w= np.array([57, 69, 54, 65 ,71, 62, 56])\n",
        "h= np.array([1.59, 1.75, 1.66, 1.74, 1.64, 1.72, 1.53])\n",
        "bmi= w/(h**2)\n",
        "bmi"
      ],
      "execution_count": null,
      "outputs": [
        {
          "output_type": "execute_result",
          "data": {
            "text/plain": [
              "array([22.54657648, 22.53061224, 19.59645812, 21.46915048, 26.39797739,\n",
              "       20.9572742 , 23.922423  ])"
            ]
          },
          "metadata": {
            "tags": []
          },
          "execution_count": 65
        }
      ]
    },
    {
      "cell_type": "markdown",
      "metadata": {
        "id": "ec1kOlTSbeh_"
      },
      "source": [
        "<table align=\"left\">\n",
        "    <tr>\n",
        "        <td width=\"6%\">\n",
        "            <img src=\"question_icon.png\">\n",
        "        </td>\n",
        "        <td>\n",
        "            <div align=\"left\", style=\"font-size:120%\">\n",
        "                <font color=\"#21618C\">\n",
        "                    <b>11. Write a program to add a new column ([5,7]) at the last position in the array given below \n",
        "                    </b>\n",
        "                </font>\n",
        "            </div>\n",
        "        </td>\n",
        "    </tr>\n",
        "</table>"
      ]
    },
    {
      "cell_type": "markdown",
      "metadata": {
        "id": "74rcorbKbeh_"
      },
      "source": [
        "**Use the array given below:**\n",
        "\n",
        "    array1 = [[[3, 4], [8, 2],[5, 9]]]"
      ]
    },
    {
      "cell_type": "code",
      "metadata": {
        "id": "jMSSaHygbeiA",
        "outputId": "3b2c94b9-5fee-4472-c51f-7b4c5d2257d4",
        "colab": {
          "base_uri": "https://localhost:8080/",
          "height": 85
        }
      },
      "source": [
        "f= np.array([[[3, 4], [8, 2],[5, 9]]])\n",
        "f= f.flatten()\n",
        "g= np.append(f, [5,7]).reshape((1,4,2))\n",
        "g"
      ],
      "execution_count": null,
      "outputs": [
        {
          "output_type": "execute_result",
          "data": {
            "text/plain": [
              "array([[[3, 4],\n",
              "        [8, 2],\n",
              "        [5, 9],\n",
              "        [5, 7]]])"
            ]
          },
          "metadata": {
            "tags": []
          },
          "execution_count": 146
        }
      ]
    },
    {
      "cell_type": "markdown",
      "metadata": {
        "id": "LlOzsXogbeiC"
      },
      "source": [
        "<table align=\"left\">\n",
        "    <tr>\n",
        "        <td width=\"6%\">\n",
        "            <img src=\"question_icon.png\">\n",
        "        </td>\n",
        "        <td>\n",
        "            <div align=\"left\", style=\"font-size:120%\">\n",
        "                <font color=\"#21618C\">\n",
        "                    <b>12. Write a code to print the identity matrix of order 5</b>\n",
        "                </font>\n",
        "            </div>\n",
        "        </td>\n",
        "    </tr>\n",
        "</table>"
      ]
    },
    {
      "cell_type": "code",
      "metadata": {
        "id": "ZJh7inO1beiC",
        "outputId": "ac770294-9543-422d-e019-86431d105ab3",
        "colab": {
          "base_uri": "https://localhost:8080/",
          "height": 102
        }
      },
      "source": [
        "j= np.identity(5)\n",
        "j"
      ],
      "execution_count": null,
      "outputs": [
        {
          "output_type": "execute_result",
          "data": {
            "text/plain": [
              "array([[1., 0., 0., 0., 0.],\n",
              "       [0., 1., 0., 0., 0.],\n",
              "       [0., 0., 1., 0., 0.],\n",
              "       [0., 0., 0., 1., 0.],\n",
              "       [0., 0., 0., 0., 1.]])"
            ]
          },
          "metadata": {
            "tags": []
          },
          "execution_count": 147
        }
      ]
    },
    {
      "cell_type": "markdown",
      "metadata": {
        "id": "aFajPHw0beiE"
      },
      "source": [
        "<table align=\"left\">\n",
        "    <tr>\n",
        "        <td width=\"6%\">\n",
        "            <img src=\"question_icon.png\">\n",
        "        </td>\n",
        "        <td>\n",
        "            <div align=\"left\", style=\"font-size:120%\">\n",
        "                <font color=\"#21618C\">\n",
        "                    <b>13. Write a program to transpose a matrix \n",
        "                    </b>\n",
        "                </font>\n",
        "            </div>\n",
        "        </td>\n",
        "    </tr>\n",
        "</table>"
      ]
    },
    {
      "cell_type": "markdown",
      "metadata": {
        "id": "FDsZ9zD6beiE"
      },
      "source": [
        "**Use the matrix given below:**\n",
        "    \n",
        "    M = [[15, 17, 45, 56], [7, 42, 15, 63], [54, 3, 61, 41], [0, 87, 16, 20]]"
      ]
    },
    {
      "cell_type": "code",
      "metadata": {
        "id": "vQkvDxk1beiF",
        "outputId": "c7267ad9-318e-46ab-c399-202f39213c1b",
        "colab": {
          "base_uri": "https://localhost:8080/",
          "height": 85
        }
      },
      "source": [
        "m = np.array([[15, 17, 45, 56], [7, 42, 15, 63], [54, 3, 61, 41], [0, 87, 16, 20]])\n",
        "n= m.T\n",
        "n"
      ],
      "execution_count": null,
      "outputs": [
        {
          "output_type": "execute_result",
          "data": {
            "text/plain": [
              "array([[15,  7, 54,  0],\n",
              "       [17, 42,  3, 87],\n",
              "       [45, 15, 61, 16],\n",
              "       [56, 63, 41, 20]])"
            ]
          },
          "metadata": {
            "tags": []
          },
          "execution_count": 149
        }
      ]
    },
    {
      "cell_type": "markdown",
      "metadata": {
        "id": "ocSa1c5zbeiH"
      },
      "source": [
        "<a id=\"Stacking\"> </a>\n",
        "## 3. Stacking"
      ]
    },
    {
      "cell_type": "markdown",
      "metadata": {
        "id": "GJzjoAASbeiJ"
      },
      "source": [
        "<table align=\"left\">\n",
        "    <tr>\n",
        "        <td width=\"6%\">\n",
        "            <img src=\"question_icon.png\">\n",
        "        </td>\n",
        "        <td>\n",
        "            <div align=\"left\", style=\"font-size:120%\">\n",
        "                <font color=\"#21618C\">\n",
        "                    <b>14. Write a program to combine the two arrays vertically</b>\n",
        "                </font>\n",
        "            </div>\n",
        "        </td>\n",
        "    </tr>\n",
        "</table>"
      ]
    },
    {
      "cell_type": "markdown",
      "metadata": {
        "id": "A4V3JmW4beiJ"
      },
      "source": [
        "**Use the arrays given below: (or create your own array)**<br>\n",
        "\n",
        "    A1 = [[5, 9], [7, 6]]\n",
        "\n",
        "    A2 = [[8,-7], [0,4]]\n",
        "\n",
        "Combine the array A2 with A1"
      ]
    },
    {
      "cell_type": "code",
      "metadata": {
        "id": "urVo4cp4beiK",
        "outputId": "0278e05b-d3ab-46c3-e215-d4b2f027cba7",
        "colab": {
          "base_uri": "https://localhost:8080/",
          "height": 85
        }
      },
      "source": [
        "a1 = np.array([[5, 9], [7, 6]])\n",
        "a2 = np.array([[8,-7], [0,4]])\n",
        "d= np.append(a1, a2).reshape((4,2))\n",
        "d"
      ],
      "execution_count": null,
      "outputs": [
        {
          "output_type": "execute_result",
          "data": {
            "text/plain": [
              "array([[ 5,  9],\n",
              "       [ 7,  6],\n",
              "       [ 8, -7],\n",
              "       [ 0,  4]])"
            ]
          },
          "metadata": {
            "tags": []
          },
          "execution_count": 157
        }
      ]
    },
    {
      "cell_type": "markdown",
      "metadata": {
        "id": "RhdRGMQ9beiM"
      },
      "source": [
        "<table align=\"left\">\n",
        "    <tr>\n",
        "        <td width=\"6%\">\n",
        "            <img src=\"question_icon.png\">\n",
        "        </td>\n",
        "        <td>\n",
        "            <div align=\"left\", style=\"font-size:120%\">\n",
        "                <font color=\"#21618C\">\n",
        "                    <b>15. Write a code to combine the two arrays horizontally</b>\n",
        "                </font>\n",
        "            </div>\n",
        "        </td>\n",
        "    </tr>\n",
        "</table>"
      ]
    },
    {
      "cell_type": "markdown",
      "metadata": {
        "id": "a6Ns43vebeiM"
      },
      "source": [
        "**Use the arrays given below: (or create your own array)**\n",
        "\n",
        "    A1 = [[-81, 75, 40], [27, 67, 52]]\n",
        "\n",
        "    A2 = [[15, 54], [39, 56]]\n",
        "\n",
        "Combine the array A2 with A1"
      ]
    },
    {
      "cell_type": "code",
      "metadata": {
        "id": "w640e_vMbeiN",
        "outputId": "131aac7f-2f2f-4ed0-db5b-65b8c5214f3c",
        "colab": {
          "base_uri": "https://localhost:8080/",
          "height": 51
        }
      },
      "source": [
        "a1 = np.array([[-81, 75, 40], [27, 67, 52]])\n",
        "a2 = np.array([[15, 54], [39, 56]])\n",
        "g= np.append(a1,a2).reshape((2,5))\n",
        "g"
      ],
      "execution_count": null,
      "outputs": [
        {
          "output_type": "execute_result",
          "data": {
            "text/plain": [
              "array([[-81,  75,  40,  27,  67],\n",
              "       [ 52,  15,  54,  39,  56]])"
            ]
          },
          "metadata": {
            "tags": []
          },
          "execution_count": 161
        }
      ]
    },
    {
      "cell_type": "markdown",
      "metadata": {
        "id": "rJoFdILPbeiP"
      },
      "source": [
        "<a id=\"Splitting\"> </a>\n",
        "## 4. Splitting"
      ]
    },
    {
      "cell_type": "markdown",
      "metadata": {
        "id": "MImHyrD4beiQ"
      },
      "source": [
        "<table align=\"left\">\n",
        "    <tr>\n",
        "        <td width=\"6%\">\n",
        "            <img src=\"question_icon.png\">\n",
        "        </td>\n",
        "        <td>\n",
        "            <div align=\"left\", style=\"font-size:120%\">\n",
        "                <font color=\"#21618C\">\n",
        "                    <b>16. Write a code to divide the array into three sub-arrays containing\n",
        "                       equal number of rows</b>\n",
        "                </font>\n",
        "            </div>\n",
        "        </td>\n",
        "    </tr>\n",
        "</table>"
      ]
    },
    {
      "cell_type": "markdown",
      "metadata": {
        "id": "qRNYzdgGbeiQ"
      },
      "source": [
        "**Use the array given below:**<br>\n",
        "\n",
        "    A = [[4, 7], [2, -3], [8, 1], [0, 9], [5,-1], [8, 3]]"
      ]
    },
    {
      "cell_type": "code",
      "metadata": {
        "id": "IDQemShwbeiQ",
        "outputId": "6f61281f-5674-4878-eebe-18fe4ec3978b",
        "colab": {
          "base_uri": "https://localhost:8080/",
          "height": 119
        }
      },
      "source": [
        "del a\n",
        "a = np.array([[4, 7], [2, -3], [8, 1], [0, 9], [5,-1], [8, 3]])\n",
        "b= a[0:2]\n",
        "c= a[2:4]\n",
        "d= a[4:6]\n",
        "print(b)\n",
        "print(c)\n",
        "print(d)"
      ],
      "execution_count": null,
      "outputs": [
        {
          "output_type": "stream",
          "text": [
            "[[ 4  7]\n",
            " [ 2 -3]]\n",
            "[[8 1]\n",
            " [0 9]]\n",
            "[[ 5 -1]\n",
            " [ 8  3]]\n"
          ],
          "name": "stdout"
        }
      ]
    },
    {
      "cell_type": "markdown",
      "metadata": {
        "id": "shQHWLIHbeiT"
      },
      "source": [
        "<table align=\"left\">\n",
        "    <tr>\n",
        "        <td width=\"6%\">\n",
        "            <img src=\"question_icon.png\">\n",
        "        </td>\n",
        "        <td>\n",
        "            <div align=\"left\", style=\"font-size:120%\">\n",
        "                <font color=\"#21618C\">\n",
        "                    <b>17. Write a program to divide the array into two sub-arrays containing equal number of columns\n",
        "                    </b>\n",
        "                </font>\n",
        "            </div>\n",
        "        </td>\n",
        "    </tr>\n",
        "</table>"
      ]
    },
    {
      "cell_type": "markdown",
      "metadata": {
        "id": "yU-xkFPvbeiT"
      },
      "source": [
        "**Use the array given below:**\n",
        "\n",
        "    B = [[8, 7, 0, 9], [2, -3, 5, 10], [8, 5, -1,3]]"
      ]
    },
    {
      "cell_type": "code",
      "metadata": {
        "id": "qamvSdNAbeiU",
        "outputId": "eec5e186-712f-4e3a-8e0d-368d923ac753",
        "colab": {
          "base_uri": "https://localhost:8080/",
          "height": 119
        }
      },
      "source": [
        "b = np.array([[8, 7, 0, 9], [2, -3, 5, 10], [8, 5, -1,3]])\n",
        "c= b[:,0:2]\n",
        "d= b[:,2:4]\n",
        "print(c)\n",
        "print(d)"
      ],
      "execution_count": null,
      "outputs": [
        {
          "output_type": "stream",
          "text": [
            "[[ 8  7]\n",
            " [ 2 -3]\n",
            " [ 8  5]]\n",
            "[[ 0  9]\n",
            " [ 5 10]\n",
            " [-1  3]]\n"
          ],
          "name": "stdout"
        }
      ]
    },
    {
      "cell_type": "markdown",
      "metadata": {
        "id": "j7If6FtkbeiW"
      },
      "source": [
        "<a id=\"loop\"> </a>\n",
        "## 5. For Loop"
      ]
    },
    {
      "cell_type": "markdown",
      "metadata": {
        "id": "hQnJS7ZmbeiX"
      },
      "source": [
        "<table align=\"left\">\n",
        "    <tr>\n",
        "        <td width=\"6%\">\n",
        "            <img src=\"question_icon.png\">\n",
        "        </td>\n",
        "        <td>\n",
        "            <div align=\"left\", style=\"font-size:120%\">\n",
        "                <font color=\"#21618C\">\n",
        "                    <b>18. Write a program to perform one-to-one mapping of the two lists</b>\n",
        "                </font>\n",
        "            </div>\n",
        "        </td>\n",
        "    </tr>\n",
        "</table>"
      ]
    },
    {
      "cell_type": "markdown",
      "metadata": {
        "id": "894hNtHwbeiX"
      },
      "source": [
        "**Use the lists given below: (or create your own lists)**<br>\n",
        "\n",
        "    L1 = [45, 67, 56, 71, 54, 62, 56]\n",
        "\n",
        "    L2 = [21, 52, 64, 10, 49, 74, 26]"
      ]
    },
    {
      "cell_type": "code",
      "metadata": {
        "id": "Ned5rRarbeiX",
        "outputId": "425c695c-6ada-4de9-e7ac-11afb091b898",
        "colab": {
          "base_uri": "https://localhost:8080/",
          "height": 136
        }
      },
      "source": [
        "l1 = np.array([45, 67, 56, 71, 54, 62, 56])\n",
        "l2 = np.array([21, 52, 64, 10, 49, 74, 26])\n",
        "f= np.array([[i,j] for i,j in zip(l1,l2)])\n",
        "f"
      ],
      "execution_count": 211,
      "outputs": [
        {
          "output_type": "execute_result",
          "data": {
            "text/plain": [
              "array([[45, 21],\n",
              "       [67, 52],\n",
              "       [56, 64],\n",
              "       [71, 10],\n",
              "       [54, 49],\n",
              "       [62, 74],\n",
              "       [56, 26]])"
            ]
          },
          "metadata": {
            "tags": []
          },
          "execution_count": 211
        }
      ]
    },
    {
      "cell_type": "markdown",
      "metadata": {
        "id": "y1Euz_mMbeib"
      },
      "source": [
        "<table align=\"left\">\n",
        "    <tr>\n",
        "        <td width=\"6%\">\n",
        "            <img src=\"question_icon.png\">\n",
        "        </td>\n",
        "        <td>\n",
        "            <div align=\"left\", style=\"font-size:120%\">\n",
        "                <font color=\"#21618C\">\n",
        "                    <b>19. Define a for loop to apply the function (2x-1)/(x+5) on every element of an array </b>\n",
        "                </font>\n",
        "            </div>\n",
        "        </td>\n",
        "    </tr>\n",
        "</table>"
      ]
    },
    {
      "cell_type": "markdown",
      "metadata": {
        "id": "wEbUS--hbeib"
      },
      "source": [
        "**Use the list given below:**\n",
        "    \n",
        "    numbers = [6, 5, 3, 15]"
      ]
    },
    {
      "cell_type": "code",
      "metadata": {
        "id": "hUmj2ep8beib"
      },
      "source": [
        "n = np.array([6, 5, 3, 15])\n",
        "s= np.array([])\n",
        "for i,j in enumerate(n):\n",
        "  s= np.insert(s, i, ((2*j-1)/(j+5)))"
      ],
      "execution_count": null,
      "outputs": []
    },
    {
      "cell_type": "code",
      "metadata": {
        "id": "KqUZrB5AUZJC",
        "outputId": "15c80236-9597-4c47-ef68-ec6486cc33e2",
        "colab": {
          "base_uri": "https://localhost:8080/",
          "height": 34
        }
      },
      "source": [
        "s"
      ],
      "execution_count": null,
      "outputs": [
        {
          "output_type": "execute_result",
          "data": {
            "text/plain": [
              "array([1.   , 0.9  , 0.625, 1.45 ])"
            ]
          },
          "metadata": {
            "tags": []
          },
          "execution_count": 204
        }
      ]
    },
    {
      "cell_type": "markdown",
      "metadata": {
        "id": "A9rQySHGbeie"
      },
      "source": [
        "<table align=\"left\">\n",
        "    <tr>\n",
        "        <td width=\"6%\">\n",
        "            <img src=\"question_icon.png\">\n",
        "        </td>\n",
        "        <td>\n",
        "            <div align=\"left\", style=\"font-size:120%\">\n",
        "                <font color=\"#21618C\">\n",
        "                    <b>20. Create an identity matrix with n dimensions (take input from the user). Fill the diagonals of that matrix with the multiples of the number provided by the user; take another input from the user. Consider the output below as an example </b>\n",
        "                </font>\n",
        "            </div>\n",
        "        </td>\n",
        "    </tr>\n",
        "</table>"
      ]
    },
    {
      "cell_type": "markdown",
      "metadata": {
        "id": "9F6Xqvihbeie"
      },
      "source": [
        "<table align=\"center\">\n",
        "    <td height = '100', width = '700'>\n",
        "          <img src=\"que 20.png\">\n",
        "        </td>\n",
        "</table>"
      ]
    },
    {
      "cell_type": "code",
      "metadata": {
        "id": "H7OL0Y0Ibeie",
        "outputId": "da955947-3d1a-4b44-cddc-42f9cc4fde21",
        "colab": {
          "base_uri": "https://localhost:8080/",
          "height": 119
        }
      },
      "source": [
        "n= int(input('enter dimensions '))\n",
        "f= np.identity(n)\n",
        "for i in range(n):\n",
        "  f[i,i] = i*n\n",
        "f"
      ],
      "execution_count": null,
      "outputs": [
        {
          "output_type": "stream",
          "text": [
            "enter dimensions 5\n"
          ],
          "name": "stdout"
        },
        {
          "output_type": "execute_result",
          "data": {
            "text/plain": [
              "array([[ 0.,  0.,  0.,  0.,  0.],\n",
              "       [ 0.,  5.,  0.,  0.,  0.],\n",
              "       [ 0.,  0., 10.,  0.,  0.],\n",
              "       [ 0.,  0.,  0., 15.,  0.],\n",
              "       [ 0.,  0.,  0.,  0., 20.]])"
            ]
          },
          "metadata": {
            "tags": []
          },
          "execution_count": 208
        }
      ]
    },
    {
      "cell_type": "code",
      "metadata": {
        "id": "Z1ysOod3VSCM"
      },
      "source": [
        ""
      ],
      "execution_count": null,
      "outputs": []
    }
  ]
}