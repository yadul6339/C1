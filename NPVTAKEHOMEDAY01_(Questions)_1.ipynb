{
  "nbformat": 4,
  "nbformat_minor": 0,
  "metadata": {
    "kernelspec": {
      "display_name": "Python 3",
      "language": "python",
      "name": "python3"
    },
    "language_info": {
      "codemirror_mode": {
        "name": "ipython",
        "version": 3
      },
      "file_extension": ".py",
      "mimetype": "text/x-python",
      "name": "python",
      "nbconvert_exporter": "python",
      "pygments_lexer": "ipython3",
      "version": "3.7.3"
    },
    "colab": {
      "name": "NPVTAKEHOMEDAY01- (Questions)-1.ipynb",
      "provenance": [],
      "collapsed_sections": [],
      "include_colab_link": true
    }
  },
  "cells": [
    {
      "cell_type": "markdown",
      "metadata": {
        "id": "view-in-github",
        "colab_type": "text"
      },
      "source": [
        "<a href=\"https://colab.research.google.com/github/zerryberry/C1/blob/master/NPVTAKEHOMEDAY01_(Questions)_1.ipynb\" target=\"_parent\"><img src=\"https://colab.research.google.com/assets/colab-badge.svg\" alt=\"Open In Colab\"/></a>"
      ]
    },
    {
      "cell_type": "markdown",
      "metadata": {
        "id": "s5WHMbO4obMb"
      },
      "source": [
        "# TAKE HOME LAB EXERCISE - 01"
      ]
    },
    {
      "cell_type": "markdown",
      "metadata": {
        "id": "celC2LsdobMd"
      },
      "source": [
        "-----------"
      ]
    },
    {
      "cell_type": "markdown",
      "metadata": {
        "id": "0aWF4VaBobMf"
      },
      "source": [
        "**(1).Create a 1D array with 10 values in it and then convert the 1D array to 2D array ?**"
      ]
    },
    {
      "cell_type": "code",
      "metadata": {
        "id": "XOUz8SQRobMg",
        "outputId": "54c5815f-cd5e-4e30-bcaf-e10fc31ec3a7",
        "colab": {
          "base_uri": "https://localhost:8080/",
          "height": 51
        }
      },
      "source": [
        "import numpy as np\n",
        "a= np.arange(10,20)\n",
        "b= a.reshape((2,5))\n",
        "b"
      ],
      "execution_count": null,
      "outputs": [
        {
          "output_type": "execute_result",
          "data": {
            "text/plain": [
              "array([[10, 11, 12, 13, 14],\n",
              "       [15, 16, 17, 18, 19]])"
            ]
          },
          "metadata": {
            "tags": []
          },
          "execution_count": 3
        }
      ]
    },
    {
      "cell_type": "code",
      "metadata": {
        "id": "UHUzLlFfoxqu",
        "outputId": "ed3f9e13-3cd1-4f91-f129-462e6eabe4b8",
        "colab": {
          "base_uri": "https://localhost:8080/",
          "height": 34
        }
      },
      "source": [
        "b.ndim"
      ],
      "execution_count": null,
      "outputs": [
        {
          "output_type": "execute_result",
          "data": {
            "text/plain": [
              "2"
            ]
          },
          "metadata": {
            "tags": []
          },
          "execution_count": 4
        }
      ]
    },
    {
      "cell_type": "markdown",
      "metadata": {
        "id": "oljhBxcSobMn"
      },
      "source": [
        "-------------------------------------------------------------"
      ]
    },
    {
      "cell_type": "markdown",
      "metadata": {
        "id": "iTm68ecvobMo"
      },
      "source": [
        "**(2).Print or show only 3 decimal places of the numpy array `random_arr`**"
      ]
    },
    {
      "cell_type": "code",
      "metadata": {
        "id": "EeHgdbrAobMp"
      },
      "source": [
        "a= np.random.rand(10)\n",
        "b= np.array(list(map(lambda x: round(x, 3), a)))"
      ],
      "execution_count": null,
      "outputs": []
    },
    {
      "cell_type": "code",
      "metadata": {
        "id": "LVKkqEGGqoVv",
        "outputId": "2c678653-0aee-49d9-bf9d-31a0ec310bc4",
        "colab": {
          "base_uri": "https://localhost:8080/",
          "height": 51
        }
      },
      "source": [
        "b"
      ],
      "execution_count": null,
      "outputs": [
        {
          "output_type": "execute_result",
          "data": {
            "text/plain": [
              "array([0.102, 0.105, 0.197, 0.023, 0.684, 0.627, 0.784, 0.173, 0.373,\n",
              "       0.768])"
            ]
          },
          "metadata": {
            "tags": []
          },
          "execution_count": 14
        }
      ]
    },
    {
      "cell_type": "markdown",
      "metadata": {
        "id": "Ye0GG9MWobMu"
      },
      "source": [
        "----------------------------------"
      ]
    },
    {
      "cell_type": "markdown",
      "metadata": {
        "id": "JJywSzCZobMv"
      },
      "source": [
        "**(3).The number of items printed to be limit in python numpy array a to a maximum of 6 elements.**\n",
        "\n",
        "   \n",
        "     Intake : x = np.arange(15)\n",
        "               array([ 0,  1,  2,  3,  4,  5,  6,  7,  8,  9, 10, 11, 12, 13, 14])\n",
        "               \n",
        "     Result : ([ 0,  1,  2, ..., 12, 13, 14])"
      ]
    },
    {
      "cell_type": "code",
      "metadata": {
        "id": "7M2YncxaobMw",
        "outputId": "7c3b687e-601b-4411-aa06-ef3df1611c55",
        "colab": {
          "base_uri": "https://localhost:8080/",
          "height": 34
        }
      },
      "source": [
        "np.set_printoptions(threshold = 6)\n",
        "np.arange(15)"
      ],
      "execution_count": null,
      "outputs": [
        {
          "output_type": "execute_result",
          "data": {
            "text/plain": [
              "array([ 0,  1,  2, ..., 12, 13, 14])"
            ]
          },
          "metadata": {
            "tags": []
          },
          "execution_count": 17
        }
      ]
    },
    {
      "cell_type": "markdown",
      "metadata": {
        "id": "hYMOxKjEobM2"
      },
      "source": [
        "---------------------"
      ]
    },
    {
      "cell_type": "markdown",
      "metadata": {
        "id": "IJ2ag7OqobM3"
      },
      "source": [
        "**(4). Take two arrays  `x` and `y` and Stack the `x` and `y` arrays Horizontal.**\n",
        "\n",
        "\n",
        "    Intake:\n",
        "                x = np.arange(10).reshape(2,-1)\n",
        "\n",
        "                y = np.repeat(1, 10).reshape(2,-1)\n",
        "\n",
        " \n",
        "    \n",
        "    Result:       ([[0, 1, 2, 3, 4, 1, 1, 1, 1, 1],\n",
        "                   [5, 6, 7, 8, 9, 1, 1, 1, 1, 1]])"
      ]
    },
    {
      "cell_type": "code",
      "metadata": {
        "id": "UZQHDkDRobM4",
        "outputId": "8a486ff7-76f0-4608-ec39-4c835a26387d",
        "colab": {
          "base_uri": "https://localhost:8080/",
          "height": 51
        }
      },
      "source": [
        "x = np.arange(10).reshape(2,-1)\n",
        "y = np.repeat(1, 10).reshape(2,-1)\n",
        "np.stack((x,y),1).reshape((2,10))"
      ],
      "execution_count": null,
      "outputs": [
        {
          "output_type": "execute_result",
          "data": {
            "text/plain": [
              "array([[0, 1, 2, 3, 4, 1, 1, 1, 1, 1],\n",
              "       [5, 6, 7, 8, 9, 1, 1, 1, 1, 1]])"
            ]
          },
          "metadata": {
            "tags": []
          },
          "execution_count": 41
        }
      ]
    },
    {
      "cell_type": "markdown",
      "metadata": {
        "id": "0IZR_g_yobM-"
      },
      "source": [
        "----------------------"
      ]
    },
    {
      "cell_type": "markdown",
      "metadata": {
        "id": "YDBNQPLvobM-"
      },
      "source": [
        "**(5). Consider the given array's and print the values which are common in both the arrays.**\n",
        "    \n",
        "    \n",
        "    Intake: \n",
        "   \n",
        "        x = np.array([1,2,3,2,3,4,3,4,5,6])\n",
        "        y = np.array([7,2,10,2,7,4,9,4,9,8])\n",
        " \n",
        "    Results:\n",
        "        \n",
        "         ([2, 4])\n",
        "            \n",
        "    "
      ]
    },
    {
      "cell_type": "code",
      "metadata": {
        "id": "q4Ld-82MobM_",
        "outputId": "e72e7a01-1cdd-4f5e-c437-a1b20f0a13a1",
        "colab": {
          "base_uri": "https://localhost:8080/",
          "height": 34
        }
      },
      "source": [
        "x = np.array([1,2,3,2,3,4,3,4,5,6])\n",
        "y = np.array([7,2,10,2,7,4,9,4,9,8])\n",
        "np.intersect1d(x,y)"
      ],
      "execution_count": null,
      "outputs": [
        {
          "output_type": "execute_result",
          "data": {
            "text/plain": [
              "array([2, 4])"
            ]
          },
          "metadata": {
            "tags": []
          },
          "execution_count": 42
        }
      ]
    },
    {
      "cell_type": "markdown",
      "metadata": {
        "id": "C7G94grYobNF"
      },
      "source": [
        "---------------------"
      ]
    },
    {
      "cell_type": "markdown",
      "metadata": {
        "id": "Lzz3-gLgobNG"
      },
      "source": [
        "**(6). There are two array x and y ,drop the items in `X` which already exist in `Y`.**\n",
        "\n",
        "   \n",
        "    INTAKE:\n",
        "     x = np.array([1,2,3,4,5])\n",
        "     y = np.array([5,6,7,8,9])\n",
        "    \n",
        "    \n",
        "    RESULT:\n",
        "     ([1,2,3,4])\n",
        "        \n",
        "    "
      ]
    },
    {
      "cell_type": "code",
      "metadata": {
        "id": "UuuFbXfqobNH",
        "outputId": "c2919bdf-e2fb-4dac-b177-ae09465b9fec",
        "colab": {
          "base_uri": "https://localhost:8080/",
          "height": 34
        }
      },
      "source": [
        "x = np.array([1,2,3,4,5])\n",
        "y = np.array([5,6,7,8,9])\n",
        "np.delete(x, np.where(x==np.intersect1d(x,y)))"
      ],
      "execution_count": null,
      "outputs": [
        {
          "output_type": "execute_result",
          "data": {
            "text/plain": [
              "array([1, 2, 3, 4])"
            ]
          },
          "metadata": {
            "tags": []
          },
          "execution_count": 8
        }
      ]
    },
    {
      "cell_type": "markdown",
      "metadata": {
        "id": "sMBb78SYobNL"
      },
      "source": [
        "--------------------------"
      ]
    },
    {
      "cell_type": "markdown",
      "metadata": {
        "id": "6y5wOq6sobNM"
      },
      "source": [
        "**(7). Reverse the rows of a 2D array.**\n",
        "\n",
        "\n",
        "    Intake : X = np.arange(9).reshape(3,3)\n",
        "    \n",
        "    Result :      ([[6, 7, 8],\n",
        "                    [3, 4, 5],\n",
        "                    [0, 1, 2]])"
      ]
    },
    {
      "cell_type": "code",
      "metadata": {
        "id": "784H--lDobNN",
        "outputId": "c0f2191d-9c09-4283-c1ee-5e21f5821531",
        "colab": {
          "base_uri": "https://localhost:8080/",
          "height": 68
        }
      },
      "source": [
        "x = np.arange(9).reshape(3,3)\n",
        "x[::-1]"
      ],
      "execution_count": null,
      "outputs": [
        {
          "output_type": "execute_result",
          "data": {
            "text/plain": [
              "array([[6, 7, 8],\n",
              "       [3, 4, 5],\n",
              "       [0, 1, 2]])"
            ]
          },
          "metadata": {
            "tags": []
          },
          "execution_count": 63
        }
      ]
    },
    {
      "cell_type": "markdown",
      "metadata": {
        "id": "eAxZ0XQKobNR"
      },
      "source": [
        "----------------------"
      ]
    },
    {
      "cell_type": "markdown",
      "metadata": {
        "id": "y4uCkX6PobNR"
      },
      "source": [
        "**(8). Reverse the columns of a 2D array.**\n",
        "\n",
        "    Intake : X = np.arange(9).reshape(3,3)\n",
        "    \n",
        "    Result :     ([[2, 1, 0],\n",
        "                   [5, 4, 3],\n",
        "                   [8, 7, 6]])\n"
      ]
    },
    {
      "cell_type": "code",
      "metadata": {
        "id": "ZnEQ3jMdobNS",
        "outputId": "7bb43d22-3630-4bcd-a7b2-be31490289f7",
        "colab": {
          "base_uri": "https://localhost:8080/",
          "height": 68
        }
      },
      "source": [
        "x = np.arange(9).reshape(3,3)\n",
        "x[:, ::-1]"
      ],
      "execution_count": null,
      "outputs": [
        {
          "output_type": "execute_result",
          "data": {
            "text/plain": [
              "array([[2, 1, 0],\n",
              "       [5, 4, 3],\n",
              "       [8, 7, 6]])"
            ]
          },
          "metadata": {
            "tags": []
          },
          "execution_count": 69
        }
      ]
    },
    {
      "cell_type": "markdown",
      "metadata": {
        "id": "TGQEdsW4obNW"
      },
      "source": [
        "---------------------"
      ]
    },
    {
      "cell_type": "markdown",
      "metadata": {
        "id": "VOZKr7wbobNY"
      },
      "source": [
        "**(9). Print the ranks for the given numeric array `x`.**\n",
        " \n",
        "   \n",
        "    Intake:\n",
        "    np.random.seed(10)\n",
        "    x = np.random.randint(20, size=10)\n",
        "    print(x)\n",
        "    [ 9  4 15  0 17 16 17  8  9  0]\n",
        "    \n",
        "    \n",
        "    Result:\n",
        "    [4 2 6 0 8 7 9 3 5 1]\n",
        "    "
      ]
    },
    {
      "cell_type": "code",
      "metadata": {
        "id": "5-dH7ByXobNY",
        "outputId": "b6e2b367-d28a-4736-b112-4b97cecac165",
        "colab": {
          "base_uri": "https://localhost:8080/",
          "height": 34
        }
      },
      "source": [
        "import numpy as np\n",
        "np.random.seed(10)\n",
        "x = np.random.randint(20, size=10)\n",
        "x"
      ],
      "execution_count": null,
      "outputs": [
        {
          "output_type": "execute_result",
          "data": {
            "text/plain": [
              "array([ 9,  4, 15,  0, 17, 16, 17,  8,  9,  0])"
            ]
          },
          "metadata": {
            "tags": []
          },
          "execution_count": 2
        }
      ]
    },
    {
      "cell_type": "code",
      "metadata": {
        "id": "NGmpHKi5pLYV",
        "outputId": "c6300210-0c87-4040-be8d-a96e80790d9f",
        "colab": {
          "base_uri": "https://localhost:8080/",
          "height": 34
        }
      },
      "source": [
        "v= x.argsort().argsort()\n",
        "v"
      ],
      "execution_count": null,
      "outputs": [
        {
          "output_type": "execute_result",
          "data": {
            "text/plain": [
              "array([4, 2, 6, 0, 8, 7, 9, 3, 5, 1])"
            ]
          },
          "metadata": {
            "tags": []
          },
          "execution_count": 4
        }
      ]
    },
    {
      "cell_type": "markdown",
      "metadata": {
        "id": "Wnjdkxl-obNc"
      },
      "source": [
        "--------------------"
      ]
    },
    {
      "cell_type": "markdown",
      "metadata": {
        "id": "-aj3vMBjobNd"
      },
      "source": [
        "**(10). For the given numeric array print the rank array with same shape of numeric array.**\n",
        "\n",
        "\n",
        "    Intake:\n",
        "    np.random.seed(10)\n",
        "    x = np.random.randint(20, size=[2,5])\n",
        "    print(a)\n",
        "    [[ 9  4 15  0 17]\n",
        "    [16 17  8  9  0]]\n",
        "    \n",
        "    Result:\n",
        "    [[4 2 6 0 8]\n",
        "    [7 9 3 5 1]]"
      ]
    },
    {
      "cell_type": "code",
      "metadata": {
        "id": "80vDhHJSobNe",
        "outputId": "202ffda2-9f56-4f9c-cbe8-9c38558d2818",
        "colab": {
          "base_uri": "https://localhost:8080/",
          "height": 51
        }
      },
      "source": [
        "np.random.seed(10)\n",
        "x = np.random.randint(20, size=[2,5])\n",
        "print(x)"
      ],
      "execution_count": null,
      "outputs": [
        {
          "output_type": "stream",
          "text": [
            "[[ 9  4 15  0 17]\n",
            " [16 17  8  9  0]]\n"
          ],
          "name": "stdout"
        }
      ]
    },
    {
      "cell_type": "code",
      "metadata": {
        "id": "5nuDWTVdp0tQ",
        "outputId": "43ef5e47-2f45-411d-bdd3-f40761756a92",
        "colab": {
          "base_uri": "https://localhost:8080/",
          "height": 51
        }
      },
      "source": [
        "c= x.flatten().argsort().argsort().reshape((2,5))\n",
        "c"
      ],
      "execution_count": null,
      "outputs": [
        {
          "output_type": "execute_result",
          "data": {
            "text/plain": [
              "array([[4, 2, 6, 0, 8],\n",
              "       [7, 9, 3, 5, 1]])"
            ]
          },
          "metadata": {
            "tags": []
          },
          "execution_count": 14
        }
      ]
    },
    {
      "cell_type": "markdown",
      "metadata": {
        "id": "cWBaHTVBobNi"
      },
      "source": [
        "--------------------------------"
      ]
    },
    {
      "cell_type": "markdown",
      "metadata": {
        "id": "FRkqT1l0obNj"
      },
      "source": [
        "**(11). Subtract the 1d array y_1d from the 2d array x_2d, such that each item of y_1d subtracts from respective row of x_2d.**\n",
        "    \n",
        "    Intake:\n",
        "    x_2d = np.array([[3,3,3],[4,4,4],[5,5,5]])\n",
        "    y_1d = np.array([1,2,3])\n",
        "    \n",
        "    Result:\n",
        "     [[2 2 2]\n",
        "     [2 2 2]\n",
        "     [2 2 2]]"
      ]
    },
    {
      "cell_type": "code",
      "metadata": {
        "id": "U9kVZlHSobNj"
      },
      "source": [
        "import numpy as np\n",
        "x_2d = np.array([[3,3,3],[4,4,4],[5,5,5]])\n",
        "y_1d = np.array([1,2,3])"
      ],
      "execution_count": null,
      "outputs": []
    },
    {
      "cell_type": "code",
      "metadata": {
        "id": "yRuhtkoM2Z6H"
      },
      "source": [
        "a= y_1d.reshape((3,1))"
      ],
      "execution_count": null,
      "outputs": []
    },
    {
      "cell_type": "code",
      "metadata": {
        "id": "YSot-BCZxdDs",
        "outputId": "d485f59e-07d4-4bee-99af-d1111a33ff56",
        "colab": {
          "base_uri": "https://localhost:8080/",
          "height": 68
        }
      },
      "source": [
        "x_2d-a"
      ],
      "execution_count": null,
      "outputs": [
        {
          "output_type": "execute_result",
          "data": {
            "text/plain": [
              "array([[2, 2, 2],\n",
              "       [2, 2, 2],\n",
              "       [2, 2, 2]])"
            ]
          },
          "metadata": {
            "tags": []
          },
          "execution_count": 17
        }
      ]
    },
    {
      "cell_type": "markdown",
      "metadata": {
        "id": "Qg1jhqRqobNo"
      },
      "source": [
        "----------------"
      ]
    },
    {
      "cell_type": "markdown",
      "metadata": {
        "id": "ekpWDztiobNp"
      },
      "source": [
        "# ----------------------------------HAPPY LEARNING--------------------------------------------------"
      ]
    },
    {
      "cell_type": "markdown",
      "metadata": {
        "id": "KgOo19PyobNp"
      },
      "source": [
        "-------------------"
      ]
    }
  ]
}