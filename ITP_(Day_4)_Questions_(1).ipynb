{
  "nbformat": 4,
  "nbformat_minor": 0,
  "metadata": {
    "kernelspec": {
      "display_name": "Python 3",
      "language": "python",
      "name": "python3"
    },
    "language_info": {
      "codemirror_mode": {
        "name": "ipython",
        "version": 3
      },
      "file_extension": ".py",
      "mimetype": "text/x-python",
      "name": "python",
      "nbconvert_exporter": "python",
      "pygments_lexer": "ipython3",
      "version": "3.7.4"
    },
    "colab": {
      "name": "ITP -(Day 4) - Questions (1).ipynb",
      "provenance": [],
      "collapsed_sections": [],
      "include_colab_link": true
    }
  },
  "cells": [
    {
      "cell_type": "markdown",
      "metadata": {
        "id": "view-in-github",
        "colab_type": "text"
      },
      "source": [
        "<a href=\"https://colab.research.google.com/github/zerryberry/C1/blob/master/ITP_(Day_4)_Questions_(1).ipynb\" target=\"_parent\"><img src=\"https://colab.research.google.com/assets/colab-badge.svg\" alt=\"Open In Colab\"/></a>"
      ]
    },
    {
      "cell_type": "markdown",
      "metadata": {
        "collapsed": true,
        "id": "cyQrX2aA1gB_"
      },
      "source": [
        "<table align=\"left\" width=100%>\n",
        "    <tr>\n",
        "        <td width=\"10%\">\n",
        "            <img src=\"in_class.png\">\n",
        "        </td>\n",
        "        <td>\n",
        "            <div align=\"center\">\n",
        "                <font color=\"#21618C\" size=8px>\n",
        "                    <b>Inclass - Lab<br> (Day 4)\n",
        "                    </b>\n",
        "                </font>\n",
        "            </div>\n",
        "        </td>\n",
        "    </tr>\n",
        "</table>"
      ]
    },
    {
      "cell_type": "markdown",
      "metadata": {
        "id": "XQhZ9wHH1gCD"
      },
      "source": [
        "## Table of Content\n",
        "1. **[User-Define Function](#User_Define)**\n",
        "2. **[Lambda Functions](#Lambda_Functions)**\n",
        "    - 2.1 [Map Function](#Map_Function)\n",
        "    - 2.2 [Filter Function](#Filter_Function)\n",
        "    - 2.3 [Reduce Function](#Reduce_Function)"
      ]
    },
    {
      "cell_type": "markdown",
      "metadata": {
        "id": "_Bx3jevC1gCF"
      },
      "source": [
        "### Let's begin with some hands-on practice exercises"
      ]
    },
    {
      "cell_type": "markdown",
      "metadata": {
        "id": "w7rowlnN1gCH"
      },
      "source": [
        "<a id='User_Define'></a>\n",
        "## 1. User-Define Function:"
      ]
    },
    {
      "cell_type": "markdown",
      "metadata": {
        "id": "sVXcxhRu1gCJ"
      },
      "source": [
        "<table align=\"left\">\n",
        "    <tr>\n",
        "        <td width=\"6%\">\n",
        "            <img src=\"question_icon.png\">\n",
        "        </td>\n",
        "        <td>\n",
        "            <div align=\"left\", style=\"font-size:120%\">\n",
        "                <font color=\"#21618C\">\n",
        "                    <b>1. Define the python function to swap first and last value of the given list<b>\n",
        "                </font>\n",
        "            </div>\n",
        "        </td>\n",
        "    </tr>\n",
        "</table>"
      ]
    },
    {
      "cell_type": "markdown",
      "metadata": {
        "id": "rklHL1aF1gCK"
      },
      "source": [
        "**Use the list given below:**<br>\n",
        "my_list = [15, 78, 10, 45, 89]"
      ]
    },
    {
      "cell_type": "code",
      "metadata": {
        "id": "xdQ6IEV31gCL",
        "outputId": "3db6691b-c72d-43f0-e399-598683966a73",
        "colab": {
          "base_uri": "https://localhost:8080/",
          "height": 34
        }
      },
      "source": [
        "my_list = [15, 78, 10, 45, 89]\n",
        "def swap():\n",
        "  a, *c, b = my_list\n",
        "  new_list= [b,*c,a]\n",
        "  return new_list\n",
        "\n",
        "swap()"
      ],
      "execution_count": 36,
      "outputs": [
        {
          "output_type": "execute_result",
          "data": {
            "text/plain": [
              "[89, 78, 10, 45, 15]"
            ]
          },
          "metadata": {
            "tags": []
          },
          "execution_count": 36
        }
      ]
    },
    {
      "cell_type": "markdown",
      "metadata": {
        "id": "Eph9YOZL1gCP"
      },
      "source": [
        "<table align=\"left\">\n",
        "    <tr>\n",
        "        <td width=\"6%\">\n",
        "            <img src=\"question_icon.png\">\n",
        "        </td>\n",
        "        <td>\n",
        "            <div align=\"left\", style=\"font-size:120%\">\n",
        "                <font color=\"#21618C\">\n",
        "                    <b>2. Define the python function which adds two global numeric variables (1204 and 344536)<b>\n",
        "                </font>\n",
        "            </div>\n",
        "        </td>\n",
        "    </tr>\n",
        "</table>"
      ]
    },
    {
      "cell_type": "code",
      "metadata": {
        "id": "zARd5Ljb1gCQ"
      },
      "source": [
        "n= 1204\n",
        "m=344536\n",
        "\n",
        "def addd():\n",
        "  return n+m"
      ],
      "execution_count": 12,
      "outputs": []
    },
    {
      "cell_type": "code",
      "metadata": {
        "id": "Z4pq5Du724g3",
        "outputId": "d118f7c4-2723-497f-e65f-0fb703fa8981",
        "colab": {
          "base_uri": "https://localhost:8080/",
          "height": 34
        }
      },
      "source": [
        "addd()"
      ],
      "execution_count": 13,
      "outputs": [
        {
          "output_type": "execute_result",
          "data": {
            "text/plain": [
              "345740"
            ]
          },
          "metadata": {
            "tags": []
          },
          "execution_count": 13
        }
      ]
    },
    {
      "cell_type": "markdown",
      "metadata": {
        "id": "_O2mwEvo1gCV"
      },
      "source": [
        "<table align=\"left\">\n",
        "    <tr>\n",
        "        <td width=\"6%\">\n",
        "            <img src=\"question_icon.png\">\n",
        "        </td>\n",
        "        <td>\n",
        "            <div align=\"left\", style=\"font-size:120%\">\n",
        "                <font color=\"#21618C\">\n",
        "                    <b>3. Define the python function to check whether the number 33 is even or odd<b>   \n",
        "                </font>\n",
        "            </div>\n",
        "        </td>\n",
        "    </tr>\n",
        "</table>"
      ]
    },
    {
      "cell_type": "code",
      "metadata": {
        "id": "RYQ0z2HM1gCX",
        "outputId": "aba9de1f-3e60-4956-9302-a604a9b546bf",
        "colab": {
          "base_uri": "https://localhost:8080/",
          "height": 35
        }
      },
      "source": [
        "def check(k=33):\n",
        "  return 'even' if k%2==0 else 'odd'\n",
        "\n",
        "check()"
      ],
      "execution_count": 15,
      "outputs": [
        {
          "output_type": "execute_result",
          "data": {
            "application/vnd.google.colaboratory.intrinsic+json": {
              "type": "string"
            },
            "text/plain": [
              "'odd'"
            ]
          },
          "metadata": {
            "tags": []
          },
          "execution_count": 15
        }
      ]
    },
    {
      "cell_type": "markdown",
      "metadata": {
        "id": "kY2aUuUt1gCg"
      },
      "source": [
        "<table align=\"left\">\n",
        "    <tr>\n",
        "        <td width=\"6%\">\n",
        "            <img src=\"question_icon.png\">\n",
        "        </td>\n",
        "        <td>\n",
        "            <div align=\"left\", style=\"font-size:120%\">\n",
        "                <font color=\"#21618C\">\n",
        "                    <b>4. Define the python function to calculate the factorial of the number<b>  \n",
        "                </font>\n",
        "            </div>\n",
        "        </td>\n",
        "    </tr>\n",
        "</table>"
      ]
    },
    {
      "cell_type": "code",
      "metadata": {
        "id": "jrSL51jh1gCh",
        "outputId": "a44ebca0-a691-47ff-c071-f09a1676924d",
        "colab": {
          "base_uri": "https://localhost:8080/",
          "height": 34
        }
      },
      "source": [
        "import math\n",
        "\n",
        "def fact(n):\n",
        "  return math.factorial(n)\n",
        "\n",
        "fact(5)"
      ],
      "execution_count": 17,
      "outputs": [
        {
          "output_type": "execute_result",
          "data": {
            "text/plain": [
              "120"
            ]
          },
          "metadata": {
            "tags": []
          },
          "execution_count": 17
        }
      ]
    },
    {
      "cell_type": "markdown",
      "metadata": {
        "id": "4XTy8Ccz1gCm"
      },
      "source": [
        "<table align=\"left\">\n",
        "    <tr>\n",
        "        <td width=\"6%\">\n",
        "            <img src=\"question_icon.png\">\n",
        "        </td>\n",
        "        <td>\n",
        "            <div align=\"left\", style=\"font-size:120%\">\n",
        "                <font color=\"#21618C\">\n",
        "                    <b>5. Define a function to add new items(1,2,3) in the empty list<b>\n",
        "                </font>\n",
        "            </div>\n",
        "        </td>\n",
        "    </tr>\n",
        "</table>"
      ]
    },
    {
      "cell_type": "code",
      "metadata": {
        "id": "_J1YKFsa1gCn"
      },
      "source": [
        "def listt():\n",
        "  n = int(input('How many elements you want in list '))\n",
        "  l= []\n",
        "  for i in range(3):\n",
        "    f= int(input('enter elements '))\n",
        "    l.append(f)\n",
        "  return l"
      ],
      "execution_count": 34,
      "outputs": []
    },
    {
      "cell_type": "code",
      "metadata": {
        "id": "dnLNmOFp_A-f",
        "outputId": "c3048081-066e-442a-b079-3faa30e4fc0c",
        "colab": {
          "base_uri": "https://localhost:8080/",
          "height": 102
        }
      },
      "source": [
        "listt()"
      ],
      "execution_count": 35,
      "outputs": [
        {
          "output_type": "stream",
          "text": [
            "How many elements you want in list 3\n",
            "enter elements 1\n",
            "enter elements 2\n",
            "enter elements 3\n"
          ],
          "name": "stdout"
        },
        {
          "output_type": "execute_result",
          "data": {
            "text/plain": [
              "[1, 2, 3]"
            ]
          },
          "metadata": {
            "tags": []
          },
          "execution_count": 35
        }
      ]
    },
    {
      "cell_type": "markdown",
      "metadata": {
        "id": "rh6t8d_41gCt"
      },
      "source": [
        "<table align=\"left\">\n",
        "    <tr>\n",
        "        <td width=\"6%\">\n",
        "            <img src=\"question_icon.png\">\n",
        "        </td>\n",
        "        <td>\n",
        "            <div align=\"left\", style=\"font-size:120%\">\n",
        "                <font color=\"#21618C\">\n",
        "                    <b>6.  Write a python function to test whether the two words start with the same character or not (take the inputs from the user)<b> \n",
        "                </font>\n",
        "            </div>\n",
        "        </td>\n",
        "    </tr>\n",
        "</table>"
      ]
    },
    {
      "cell_type": "code",
      "metadata": {
        "id": "ZDCwI6qB1gCv",
        "outputId": "eaba4bba-4e46-457a-e6e1-c37f7d3a76db",
        "colab": {
          "base_uri": "https://localhost:8080/",
          "height": 68
        }
      },
      "source": [
        "def check(m= input(), n= input()):\n",
        "  return m[0] == n[0]\n",
        "\n",
        "check()"
      ],
      "execution_count": 19,
      "outputs": [
        {
          "output_type": "stream",
          "text": [
            "haha\n",
            "hyhy\n"
          ],
          "name": "stdout"
        },
        {
          "output_type": "execute_result",
          "data": {
            "text/plain": [
              "True"
            ]
          },
          "metadata": {
            "tags": []
          },
          "execution_count": 19
        }
      ]
    },
    {
      "cell_type": "markdown",
      "metadata": {
        "id": "gGsoSE771gCz"
      },
      "source": [
        "<table align=\"left\">\n",
        "    <tr>\n",
        "        <td width=\"6%\">\n",
        "            <img src=\"question_icon.png\">\n",
        "        </td>\n",
        "        <td>\n",
        "            <div align=\"left\", style=\"font-size:120%\">\n",
        "                <font color=\"#21618C\">\n",
        "                    <b>7. Check if the string contains a vowel or not (take the inputs from the user)</b>\n",
        "                </font>\n",
        "            </div>\n",
        "        </td>\n",
        "    </tr>\n",
        "</table>"
      ]
    },
    {
      "cell_type": "code",
      "metadata": {
        "id": "Y6XvJ90E1gC0"
      },
      "source": [
        "def check():\n",
        "  n= input()\n",
        "  for i in range(len(n)):\n",
        "    return n[i] in ['a','e','i','o', 'u']"
      ],
      "execution_count": 60,
      "outputs": []
    },
    {
      "cell_type": "code",
      "metadata": {
        "id": "FSXtpSLpDv0c",
        "outputId": "e3d18db0-04fb-48d0-c833-dd307e46d5ae",
        "colab": {
          "base_uri": "https://localhost:8080/",
          "height": 51
        }
      },
      "source": [
        "check()"
      ],
      "execution_count": 61,
      "outputs": [
        {
          "output_type": "stream",
          "text": [
            "yyyyyyrrr\n"
          ],
          "name": "stdout"
        },
        {
          "output_type": "execute_result",
          "data": {
            "text/plain": [
              "False"
            ]
          },
          "metadata": {
            "tags": []
          },
          "execution_count": 61
        }
      ]
    },
    {
      "cell_type": "markdown",
      "metadata": {
        "id": "WF_wRBbI1gC5"
      },
      "source": [
        "<table align=\"left\">\n",
        "    <tr>\n",
        "        <td width=\"6%\">\n",
        "            <img src=\"question_icon.png\">\n",
        "        </td>\n",
        "        <td>\n",
        "            <div align=\"left\", style=\"font-size:120%\">\n",
        "                <font color=\"#21618C\">\n",
        "                    <b>8. Write the python program to get the unique values from the given list<b>\n",
        "                </font>\n",
        "            </div>\n",
        "        </td>\n",
        "    </tr>\n",
        "</table>"
      ]
    },
    {
      "cell_type": "markdown",
      "metadata": {
        "id": "KAqzraBB1gC5"
      },
      "source": [
        "**Use the list given below:**<br>\n",
        "my_list = [1,2,3,3,11,34,3,3,4,5]"
      ]
    },
    {
      "cell_type": "code",
      "metadata": {
        "id": "ffcRtlz01gC7",
        "outputId": "3e7cfaa5-9a71-4fd1-da1b-17477fdc1416",
        "colab": {
          "base_uri": "https://localhost:8080/",
          "height": 34
        }
      },
      "source": [
        "my_list = [1,2,3,3,11,34,3,3,4,5]\n",
        "\n",
        "def dr(n):\n",
        "  return set(n)\n",
        "\n",
        "dr(my_list)"
      ],
      "execution_count": 62,
      "outputs": [
        {
          "output_type": "execute_result",
          "data": {
            "text/plain": [
              "{1, 2, 3, 4, 5, 11, 34}"
            ]
          },
          "metadata": {
            "tags": []
          },
          "execution_count": 62
        }
      ]
    },
    {
      "cell_type": "markdown",
      "metadata": {
        "id": "Qen9fV4V1gC_"
      },
      "source": [
        "<table align=\"left\">\n",
        "    <tr>\n",
        "        <td width=\"6%\">\n",
        "            <img src=\"question_icon.png\">\n",
        "        </td>\n",
        "        <td>\n",
        "            <div align=\"left\", style=\"font-size:120%\">\n",
        "                <font color=\"#21618C\">\n",
        "                    <b>9. Find the common characters from the given two strings<b>\n",
        "                </font>\n",
        "            </div>\n",
        "        </td>\n",
        "    </tr>\n",
        "</table>"
      ]
    },
    {
      "cell_type": "markdown",
      "metadata": {
        "id": "GJO6MmUD1gDA"
      },
      "source": [
        "**Use the strings given below:**<br>\n",
        "string1 = 'Angel'<br>\n",
        "string2 = 'apple'"
      ]
    },
    {
      "cell_type": "code",
      "metadata": {
        "id": "1oa9QnxN1gDB",
        "outputId": "0fe50f84-281e-4749-e5cf-675a47bdad89",
        "colab": {
          "base_uri": "https://localhost:8080/",
          "height": 34
        }
      },
      "source": [
        "string1 = 'Angel'\n",
        "string2 = 'apple'\n",
        "\n",
        "s1= set(string1.lower())\n",
        "s2= set(string2.lower())\n",
        "s1.intersection(s2)"
      ],
      "execution_count": 63,
      "outputs": [
        {
          "output_type": "execute_result",
          "data": {
            "text/plain": [
              "{'a', 'e', 'l'}"
            ]
          },
          "metadata": {
            "tags": []
          },
          "execution_count": 63
        }
      ]
    },
    {
      "cell_type": "markdown",
      "metadata": {
        "id": "vjJ3Kvtm1gDF"
      },
      "source": [
        "<table align=\"left\">\n",
        "    <tr>\n",
        "        <td width=\"6%\">\n",
        "            <img src=\"question_icon.png\">\n",
        "        </td>\n",
        "        <td>\n",
        "            <div align=\"left\", style=\"font-size:120%\">\n",
        "                <font color=\"#21618C\">\n",
        "                    <b>10. Define a function to perform addition, multiplication, and subtraction of the given two numbers<b> \n",
        "                </font>\n",
        "            </div>\n",
        "        </td>\n",
        "    </tr>\n",
        "</table>"
      ]
    },
    {
      "cell_type": "markdown",
      "metadata": {
        "id": "wT6BdHsZ1gDI"
      },
      "source": [
        "**Use the number given below:**<br>\n",
        "a = 15<br>\n",
        "b = 4"
      ]
    },
    {
      "cell_type": "code",
      "metadata": {
        "id": "jnaKGajt1gDL"
      },
      "source": [
        "def oper(a,b):\n",
        "  return (a+b), (a*b), (a-b)"
      ],
      "execution_count": 64,
      "outputs": []
    },
    {
      "cell_type": "code",
      "metadata": {
        "id": "TxUxewF5FVPh",
        "outputId": "817dc6c7-89dd-4eb7-babe-44a5be7e2448",
        "colab": {
          "base_uri": "https://localhost:8080/",
          "height": 34
        }
      },
      "source": [
        "oper(15,4)"
      ],
      "execution_count": 65,
      "outputs": [
        {
          "output_type": "execute_result",
          "data": {
            "text/plain": [
              "(19, 60, 11)"
            ]
          },
          "metadata": {
            "tags": []
          },
          "execution_count": 65
        }
      ]
    },
    {
      "cell_type": "markdown",
      "metadata": {
        "id": "Qj2KenpE1gDP"
      },
      "source": [
        "<table align=\"left\">\n",
        "    <tr>\n",
        "        <td width=\"6%\">\n",
        "            <img src=\"question_icon.png\">\n",
        "        </td>\n",
        "        <td>\n",
        "            <div align=\"left\", style=\"font-size:120%\">\n",
        "                <font color=\"#21618C\">\n",
        "                    <b>11. Define a function to find the sum of all elements in the list<b>\n",
        "                </font>\n",
        "            </div>\n",
        "        </td>\n",
        "    </tr>\n",
        "</table>"
      ]
    },
    {
      "cell_type": "markdown",
      "metadata": {
        "collapsed": true,
        "id": "-IiTZ_Vi1gDQ"
      },
      "source": [
        "**Use the list given below:**<br>\n",
        "my_list = [34, 34, 55, 2, 56, 45]"
      ]
    },
    {
      "cell_type": "code",
      "metadata": {
        "id": "SuN_l4eg1gDR",
        "outputId": "8d0091c3-064b-4d70-b71c-98f272d8a27a",
        "colab": {
          "base_uri": "https://localhost:8080/",
          "height": 34
        }
      },
      "source": [
        "my_list = [34, 34, 55, 2, 56, 45]\n",
        "def su(n):\n",
        "  return sum(n)\n",
        "su(my_list)"
      ],
      "execution_count": 66,
      "outputs": [
        {
          "output_type": "execute_result",
          "data": {
            "text/plain": [
              "226"
            ]
          },
          "metadata": {
            "tags": []
          },
          "execution_count": 66
        }
      ]
    },
    {
      "cell_type": "markdown",
      "metadata": {
        "id": "Aiqy74PY1gDW"
      },
      "source": [
        "<a id='Lambda_Functions'></a>\n",
        "## 2. Lambda Functions"
      ]
    },
    {
      "cell_type": "markdown",
      "metadata": {
        "id": "T8ezxTdh1gDX"
      },
      "source": [
        "<table align=\"left\">\n",
        "    <tr>\n",
        "        <td width=\"6%\">\n",
        "            <img src=\"question_icon.png\">\n",
        "        </td>\n",
        "        <td>\n",
        "            <div align=\"left\", style=\"font-size:120%\">\n",
        "                <font color=\"#21618C\">\n",
        "                    <b>12. Find the minimum of the two numbers(34 and 78) using the lambda function<b>\n",
        "                </font>\n",
        "            </div>\n",
        "        </td>\n",
        "    </tr>\n",
        "</table>"
      ]
    },
    {
      "cell_type": "code",
      "metadata": {
        "id": "mXBTsq3N1gDX",
        "outputId": "00e3d70c-ea46-4d28-fb0b-accc42ccaaa2",
        "colab": {
          "base_uri": "https://localhost:8080/",
          "height": 34
        }
      },
      "source": [
        "x= [34,78]\n",
        "list(map(lambda c: min(x), x))[0]"
      ],
      "execution_count": 135,
      "outputs": [
        {
          "output_type": "execute_result",
          "data": {
            "text/plain": [
              "34"
            ]
          },
          "metadata": {
            "tags": []
          },
          "execution_count": 135
        }
      ]
    },
    {
      "cell_type": "markdown",
      "metadata": {
        "id": "aKdWMSsQ1gDc"
      },
      "source": [
        "<a id='Map_Function'></a>\n",
        "### 2.1 Map Function"
      ]
    },
    {
      "cell_type": "markdown",
      "metadata": {
        "id": "vnRHplOO1gDd"
      },
      "source": [
        "<table align=\"left\">\n",
        "    <tr>\n",
        "        <td width=\"6%\">\n",
        "            <img src=\"question_icon.png\">\n",
        "        </td>\n",
        "        <td>\n",
        "            <div align=\"left\", style=\"font-size:120%\">\n",
        "                <font color=\"#21618C\">\n",
        "                    <b>13. Calculate the square of each element from the given tuple using the map function<b>\n",
        "                </font>\n",
        "            </div>\n",
        "        </td>\n",
        "    </tr>\n",
        "</table>"
      ]
    },
    {
      "cell_type": "markdown",
      "metadata": {
        "collapsed": true,
        "id": "XXjmUIWQ1gDe"
      },
      "source": [
        "**Use the tuple given below:**<br>\n",
        "number = (11, 21, 30, 34)"
      ]
    },
    {
      "cell_type": "code",
      "metadata": {
        "id": "3ng2jq6b1gDe",
        "outputId": "5b2e9402-e1e2-4bd1-eb50-87274a16dd00",
        "colab": {
          "base_uri": "https://localhost:8080/",
          "height": 34
        }
      },
      "source": [
        "number = (11, 21, 30, 34)\n",
        "list(map(lambda x: x**2, number))"
      ],
      "execution_count": 117,
      "outputs": [
        {
          "output_type": "execute_result",
          "data": {
            "text/plain": [
              "[121, 441, 900, 1156]"
            ]
          },
          "metadata": {
            "tags": []
          },
          "execution_count": 117
        }
      ]
    },
    {
      "cell_type": "markdown",
      "metadata": {
        "id": "h0JnHnMr1gDl"
      },
      "source": [
        "<table align=\"left\">\n",
        "    <tr>\n",
        "        <td width=\"6%\">\n",
        "            <img src=\"question_icon.png\">\n",
        "        </td>\n",
        "        <td>\n",
        "            <div align=\"left\", style=\"font-size:120%\">\n",
        "                <font color=\"#21618C\">\n",
        "                    <b>14. Read the given sentence and print the length of each word in a sentence in a list using the map function<b>\n",
        "                </font>\n",
        "            </div>\n",
        "        </td>\n",
        "    </tr>\n",
        "</table>"
      ]
    },
    {
      "cell_type": "markdown",
      "metadata": {
        "collapsed": true,
        "id": "J-J1Guxu1gDn"
      },
      "source": [
        "** Use the sentence given below:**<br>\n",
        "sentence = 'Python for Data Science'"
      ]
    },
    {
      "cell_type": "code",
      "metadata": {
        "id": "FRWiATzt1gDp",
        "outputId": "772c8f47-cdc2-4db4-fef5-70ee9c4dcfc1",
        "colab": {
          "base_uri": "https://localhost:8080/",
          "height": 34
        }
      },
      "source": [
        "sentence = 'Python for Data Science'\n",
        "list(map(lambda x: len(x), sentence.split(' ')))"
      ],
      "execution_count": 116,
      "outputs": [
        {
          "output_type": "execute_result",
          "data": {
            "text/plain": [
              "[6, 3, 4, 7]"
            ]
          },
          "metadata": {
            "tags": []
          },
          "execution_count": 116
        }
      ]
    },
    {
      "cell_type": "markdown",
      "metadata": {
        "id": "tMNYi5881gDw"
      },
      "source": [
        "<table align=\"left\">\n",
        "    <tr>\n",
        "        <td width=\"6%\">\n",
        "            <img src=\"question_icon.png\">\n",
        "        </td>\n",
        "        <td>\n",
        "            <div align=\"left\", style=\"font-size:120%\">\n",
        "                <font color=\"#21618C\">\n",
        "                    <b>15. Find the remainder of all the numbers present in a list after dividing by 5\n",
        "<b>\n",
        "                </font>\n",
        "            </div>\n",
        "        </td>\n",
        "    </tr>\n",
        "</table>"
      ]
    },
    {
      "cell_type": "markdown",
      "metadata": {
        "collapsed": true,
        "id": "ksb66c5k1gDx"
      },
      "source": [
        "**Use the list given below:**<br>\n",
        "numbers = [ 74, 85, 14, 23 ]"
      ]
    },
    {
      "cell_type": "code",
      "metadata": {
        "id": "auQXai3l1gDx",
        "outputId": "dd9e70ab-43b4-411c-a6bd-32d03199fd17",
        "colab": {
          "base_uri": "https://localhost:8080/",
          "height": 34
        }
      },
      "source": [
        "numbers = [ 74, 85, 14, 23 ]\n",
        "def fuc(n):\n",
        "  return n%5\n",
        "[fuc(n) for n in numbers]"
      ],
      "execution_count": 85,
      "outputs": [
        {
          "output_type": "execute_result",
          "data": {
            "text/plain": [
              "[4, 0, 4, 3]"
            ]
          },
          "metadata": {
            "tags": []
          },
          "execution_count": 85
        }
      ]
    },
    {
      "cell_type": "markdown",
      "metadata": {
        "id": "tNk5d1nc1gD1"
      },
      "source": [
        "<table align=\"left\">\n",
        "    <tr>\n",
        "        <td width=\"6%\">\n",
        "            <img src=\"question_icon.png\">\n",
        "        </td>\n",
        "        <td>\n",
        "            <div align=\"left\", style=\"font-size:120%\">\n",
        "                <font color=\"#21618C\">\n",
        "                    <b>16. Concatenate elements from the list1 with the corresponding element of list2<b>\n",
        "                </font>\n",
        "            </div>\n",
        "        </td>\n",
        "    </tr>\n",
        "</table>"
      ]
    },
    {
      "cell_type": "markdown",
      "metadata": {
        "collapsed": true,
        "id": "0L0C8wnK1gD2"
      },
      "source": [
        "** Use the list given below:**<br>\n",
        "list1 = ['I', 'felt', 'happy', 'because', 'I', 'saw', 'the', 'others', 'were', 'happy']<br>\n",
        "list2 = [11,22,33,44,55,66,77,88,99]"
      ]
    },
    {
      "cell_type": "code",
      "metadata": {
        "id": "zKoSj64C1gD3",
        "outputId": "e03025bb-7a7e-4c61-abb1-df8681b45fc3",
        "colab": {
          "base_uri": "https://localhost:8080/",
          "height": 170
        }
      },
      "source": [
        "list1 = ['I', 'felt', 'happy', 'because', 'I', 'saw', 'the', 'others', 'were', 'happy']\n",
        "list2 = [11,22,33,44,55,66,77,88,99]\n",
        "new= list(map(str, list2))\n",
        "[x+y for x, y in zip(list1, new)]"
      ],
      "execution_count": 92,
      "outputs": [
        {
          "output_type": "execute_result",
          "data": {
            "text/plain": [
              "['I11',\n",
              " 'felt22',\n",
              " 'happy33',\n",
              " 'because44',\n",
              " 'I55',\n",
              " 'saw66',\n",
              " 'the77',\n",
              " 'others88',\n",
              " 'were99']"
            ]
          },
          "metadata": {
            "tags": []
          },
          "execution_count": 92
        }
      ]
    },
    {
      "cell_type": "markdown",
      "metadata": {
        "id": "lKPWJjkV1gD7"
      },
      "source": [
        "<a id='Filter_Function'></a>\n",
        "### 2.3 Filter Function"
      ]
    },
    {
      "cell_type": "markdown",
      "metadata": {
        "id": "t8xP6Qh11gD8"
      },
      "source": [
        "<table align=\"left\">\n",
        "    <tr>\n",
        "        <td width=\"6%\">\n",
        "            <img src=\"question_icon.png\">\n",
        "        </td>\n",
        "        <td>\n",
        "            <div align=\"left\", style=\"font-size:120%\">\n",
        "                <font color=\"#21618C\">\n",
        "                    <b>17. Find the common elements from the given array using filter method<b>\n",
        "                </font>\n",
        "            </div>\n",
        "        </td>\n",
        "    </tr>\n",
        "</table>"
      ]
    },
    {
      "cell_type": "markdown",
      "metadata": {
        "id": "dv6Ltq4k1gD9"
      },
      "source": [
        "**Use the array given below:**<br>\n",
        "arr1 = ['t','u','t','o','r','i','a','l']<br>\n",
        "arr2 = ['p','o','i','n','t']"
      ]
    },
    {
      "cell_type": "code",
      "metadata": {
        "id": "FZQHP8Gj1gD-",
        "outputId": "73e0be34-4045-4cf4-9db8-231aa15464dc",
        "colab": {
          "base_uri": "https://localhost:8080/",
          "height": 34
        }
      },
      "source": [
        "arr1 = ['t','u','t','o','r','i','a','l', 'p']\n",
        "arr2 = ['p','o','i','n','t']\n",
        "\n",
        "list(filter(lambda x: x in arr1, arr2))"
      ],
      "execution_count": 113,
      "outputs": [
        {
          "output_type": "execute_result",
          "data": {
            "text/plain": [
              "['p', 'o', 'i', 't']"
            ]
          },
          "metadata": {
            "tags": []
          },
          "execution_count": 113
        }
      ]
    },
    {
      "cell_type": "markdown",
      "metadata": {
        "id": "mOyGQg3N1gEF"
      },
      "source": [
        "<table align=\"left\">\n",
        "    <tr>\n",
        "        <td width=\"6%\">\n",
        "            <img src=\"question_icon.png\">\n",
        "        </td>\n",
        "        <td>\n",
        "            <div align=\"left\", style=\"font-size:120%\">\n",
        "                <font color=\"#21618C\">\n",
        "                    <b>18. Remove odd numbers from the given list<b>\n",
        "                </font>\n",
        "            </div>\n",
        "        </td>\n",
        "    </tr>\n",
        "</table>"
      ]
    },
    {
      "cell_type": "markdown",
      "metadata": {
        "id": "8Dxm81sM1gEG"
      },
      "source": [
        "**Use the list given below:**<br>\n",
        "numbers = [21, 23, 443, 355, 743, 823, 110, 1241, 3673, 352, 278, 37, 7]"
      ]
    },
    {
      "cell_type": "code",
      "metadata": {
        "id": "nuoKp1rU1gEH",
        "outputId": "ebd1fc4c-33c4-4d02-c009-9b9ced33aad3",
        "colab": {
          "base_uri": "https://localhost:8080/",
          "height": 34
        }
      },
      "source": [
        "numbers = [21, 23, 443, 355, 743, 823, 110, 1241, 3673, 352, 278, 37, 7]\n",
        "[i for i in numbers if i%2==0]"
      ],
      "execution_count": 112,
      "outputs": [
        {
          "output_type": "execute_result",
          "data": {
            "text/plain": [
              "[110, 352, 278]"
            ]
          },
          "metadata": {
            "tags": []
          },
          "execution_count": 112
        }
      ]
    },
    {
      "cell_type": "markdown",
      "metadata": {
        "id": "66rIULZI1gEM"
      },
      "source": [
        "<a id='Reduce_Function'></a>\n",
        "### 2.4 Reduce Function"
      ]
    },
    {
      "cell_type": "markdown",
      "metadata": {
        "id": "CA8_hfF41gEM"
      },
      "source": [
        "<table align=\"left\">\n",
        "    <tr>\n",
        "        <td width=\"6%\">\n",
        "            <img src=\"question_icon.png\">\n",
        "        </td>\n",
        "        <td>\n",
        "            <div align=\"left\", style=\"font-size:120%\">\n",
        "                <font color=\"#21618C\">\n",
        "                    <b>19. Calculate the sum of the numbers from 1 to 100<b> \n",
        "                </font>\n",
        "            </div>\n",
        "        </td>\n",
        "    </tr>\n",
        "</table>"
      ]
    },
    {
      "cell_type": "code",
      "metadata": {
        "id": "nl-83CQI1gEN",
        "outputId": "6f4d41c2-a133-4f49-b206-6d731f90b07f",
        "colab": {
          "base_uri": "https://localhost:8080/",
          "height": 34
        }
      },
      "source": [
        "print(reduce(lambda x,y: x+y, range(1,101)))"
      ],
      "execution_count": 111,
      "outputs": [
        {
          "output_type": "stream",
          "text": [
            "5050\n"
          ],
          "name": "stdout"
        }
      ]
    },
    {
      "cell_type": "markdown",
      "metadata": {
        "id": "tdWh4N9I1gEW"
      },
      "source": [
        "<table align=\"left\">\n",
        "    <tr>\n",
        "        <td width=\"6%\">\n",
        "            <img src=\"question_icon.png\">\n",
        "        </td>\n",
        "        <td>\n",
        "            <div align=\"left\", style=\"font-size:120%\">\n",
        "                <font color=\"#21618C\">\n",
        "                    <b>20. Determine the maximum of a given list using reduce function<b> \n",
        "                </font>\n",
        "            </div>\n",
        "        </td>\n",
        "    </tr>\n",
        "</table>"
      ]
    },
    {
      "cell_type": "markdown",
      "metadata": {
        "id": "BHNYFKDL1gEX"
      },
      "source": [
        "**Use the list given below:**<br>\n",
        "my_list = [47,11,42,102,13]   "
      ]
    },
    {
      "cell_type": "code",
      "metadata": {
        "id": "QnhLgDyn1gEY",
        "outputId": "42fb40af-ce41-4f08-d6f6-1978658d8bc9",
        "colab": {
          "base_uri": "https://localhost:8080/",
          "height": 34
        }
      },
      "source": [
        "from functools import reduce\n",
        "my_list = [47,11,42,102,13]\n",
        "print(reduce(lambda x,y: x if x>y else y, my_list))\n",
        "\n",
        "#or \n",
        "\n",
        "print(reduce(lambda x,y: x if x>y else y, map(int,input().split(' '))))"
      ],
      "execution_count": 110,
      "outputs": [
        {
          "output_type": "stream",
          "text": [
            "102\n"
          ],
          "name": "stdout"
        }
      ]
    },
    {
      "cell_type": "code",
      "metadata": {
        "id": "vEpxoVNrPkM1"
      },
      "source": [
        ""
      ],
      "execution_count": null,
      "outputs": []
    }
  ]
}