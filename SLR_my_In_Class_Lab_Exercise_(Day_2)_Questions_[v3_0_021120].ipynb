{
  "nbformat": 4,
  "nbformat_minor": 0,
  "metadata": {
    "kernelspec": {
      "display_name": "Python 3",
      "language": "python",
      "name": "python3"
    },
    "language_info": {
      "codemirror_mode": {
        "name": "ipython",
        "version": 3
      },
      "file_extension": ".py",
      "mimetype": "text/x-python",
      "name": "python",
      "nbconvert_exporter": "python",
      "pygments_lexer": "ipython3",
      "version": "3.8.3"
    },
    "colab": {
      "name": "SLR_my_In-Class - Lab Exercise (Day 2) - Questions  [v3.0 - 021120].ipynb",
      "provenance": [],
      "collapsed_sections": [],
      "include_colab_link": true
    }
  },
  "cells": [
    {
      "cell_type": "markdown",
      "metadata": {
        "id": "view-in-github",
        "colab_type": "text"
      },
      "source": [
        "<a href=\"https://colab.research.google.com/github/zerryberry/C1/blob/master/SLR_my_In_Class_Lab_Exercise_(Day_2)_Questions_%5Bv3_0_021120%5D.ipynb\" target=\"_parent\"><img src=\"https://colab.research.google.com/assets/colab-badge.svg\" alt=\"Open In Colab\"/></a>"
      ]
    },
    {
      "cell_type": "markdown",
      "metadata": {
        "id": "tJa2wTQikVOr"
      },
      "source": [
        "<table align=\"center\" width=100%>\n",
        "    <tr>\n",
        "        <td width=\"15%\">\n",
        "            <img src=\"in_class.png\">\n",
        "        </td>\n",
        "        <td>\n",
        "            <div align=\"center\">\n",
        "                <font color=\"#21618C\" size=8px>\n",
        "                    <b> Inclass - Lab <br>(Day 2)\n",
        "                    </b>\n",
        "                </font>\n",
        "            </div>\n",
        "        </td>\n",
        "    </tr>\n",
        "</table>"
      ]
    },
    {
      "cell_type": "markdown",
      "metadata": {
        "id": "-_uv-Ha2kVO5"
      },
      "source": [
        "### About the data set (White wine data)\n",
        "\n",
        "The dataset contains information about several factors describing the quality of white wine. <br> Attribute information: \n",
        "\n",
        "**Fixed_Acidity:** The ph value for titrable acid content (0-7)\n",
        "\n",
        "**Volatile_Acidity:** Measure of acidity due to bacteria\n",
        "\n",
        "**Citric_Acid:** Amount of citric acid present in wine\n",
        "\n",
        "**Residual_Sugar:** Amount of grape sugar in gms/litre\n",
        "\n",
        "**Chlorides:** Amount of chlorides present in wine\n",
        "\n",
        "**Free_Sulfur-dioxide:** Amount of SO2 that is not bound to other molecules\n",
        "\n",
        "**Total_Sulfur-dioxide:** Portion of SO2 that is free in the wine plus the portion that is bound to other chemicals in the wine\n",
        "\n",
        "**Density:** Density of wine (gms/cm<sup>3</sup>)\n",
        "\n",
        "**pH:** The pH value of wine (0-14)\n",
        "\n",
        "**Sulphates:** Amount of salts of sulphuric acid \n",
        "\n",
        "**Alcohol:** Alcohol content in percentage\n",
        "\n",
        "**Quality:** Wine quality \n",
        "\n",
        "Data citation: P. Cortez, A. Cerdeira, F. Almeida, T. Matos and J. Reis. Modeling wine preferences by data mining from physicochemical properties. In Decision Support Systems, Elsevier, 47(4):547-553, 2009."
      ]
    },
    {
      "cell_type": "markdown",
      "metadata": {
        "id": "joAeAEpckVO7"
      },
      "source": [
        "## Table of Content\n",
        "\n",
        "1. **[Feature Transformation](#trans)**\n",
        "2. **[Feature Selection](#sel)**\n",
        "3. **[Model Validation](#cv)**"
      ]
    },
    {
      "cell_type": "markdown",
      "metadata": {
        "id": "M-XMyh7ZkVO7"
      },
      "source": [
        "**Import the required libraries**"
      ]
    },
    {
      "cell_type": "code",
      "metadata": {
        "id": "uc9yEa_kkVO8",
        "colab": {
          "base_uri": "https://localhost:8080/"
        },
        "outputId": "d17e2225-eb2f-4cb8-b1bd-adc4c227bec3"
      },
      "source": [
        "import pandas as pd\r\n",
        "import numpy as np\r\n",
        "import seaborn as sns\r\n",
        "import matplotlib.pyplot as plt\r\n",
        "import statsmodels.stats as stats"
      ],
      "execution_count": 1,
      "outputs": [
        {
          "output_type": "stream",
          "text": [
            "/usr/local/lib/python3.6/dist-packages/statsmodels/tools/_testing.py:19: FutureWarning: pandas.util.testing is deprecated. Use the functions in the public API at pandas.testing instead.\n",
            "  import pandas.util.testing as tm\n"
          ],
          "name": "stderr"
        }
      ]
    },
    {
      "cell_type": "markdown",
      "metadata": {
        "id": "1bk-_g3AkVO9"
      },
      "source": [
        "#### Load the first dataset and check the first two observations"
      ]
    },
    {
      "cell_type": "code",
      "metadata": {
        "colab": {
          "base_uri": "https://localhost:8080/"
        },
        "id": "2n8NYTV9kVO-",
        "outputId": "93e36f97-5064-4bb5-f99c-22d599cff59b"
      },
      "source": [
        "df= pd.read_csv('/content/whitewine.csv')\n",
        "df.shape"
      ],
      "execution_count": 2,
      "outputs": [
        {
          "output_type": "execute_result",
          "data": {
            "text/plain": [
              "(4898, 1)"
            ]
          },
          "metadata": {
            "tags": []
          },
          "execution_count": 2
        }
      ]
    },
    {
      "cell_type": "code",
      "metadata": {
        "id": "5jZc0sbQkVO_"
      },
      "source": [
        "# check data types of variables\n",
        "# type your code here"
      ],
      "execution_count": 3,
      "outputs": []
    },
    {
      "cell_type": "markdown",
      "metadata": {
        "id": "tbCL3_z5kVO_"
      },
      "source": [
        "### Let's begin with some hands-on practice exercises"
      ]
    },
    {
      "cell_type": "markdown",
      "metadata": {
        "id": "SPQyJZOmkVPA"
      },
      "source": [
        "<a id=\"trans\"> </a>\n",
        "## 1. Feature Transformation"
      ]
    },
    {
      "cell_type": "markdown",
      "metadata": {
        "id": "GgLlrlnBkVPA"
      },
      "source": [
        "## We shall use the wine quality dataset"
      ]
    },
    {
      "cell_type": "markdown",
      "metadata": {
        "collapsed": true,
        "id": "ai3rKe6ekVPB"
      },
      "source": [
        "<table align=\"left\">\n",
        "    <tr>\n",
        "        <td width=\"6%\">\n",
        "            <img src=\"question_icon.png\">\n",
        "        </td>\n",
        "        <td>\n",
        "            <div align=\"left\", style=\"font-size:120%\">\n",
        "                <font color=\"#21618C\">\n",
        "                    <b>1. Does the variable 'volatile acidity' need transformation ?</b>\n",
        "                </font>\n",
        "            </div>\n",
        "        </td>\n",
        "    </tr>\n",
        "</table>"
      ]
    },
    {
      "cell_type": "code",
      "metadata": {
        "colab": {
          "base_uri": "https://localhost:8080/"
        },
        "id": "2Z9z9HO4Rk0h",
        "outputId": "b4a6e617-3acf-41ae-e467-3119296d0fa8"
      },
      "source": [
        "df.shape"
      ],
      "execution_count": 4,
      "outputs": [
        {
          "output_type": "execute_result",
          "data": {
            "text/plain": [
              "(4898, 1)"
            ]
          },
          "metadata": {
            "tags": []
          },
          "execution_count": 4
        }
      ]
    },
    {
      "cell_type": "code",
      "metadata": {
        "colab": {
          "base_uri": "https://localhost:8080/",
          "height": 197
        },
        "id": "4Vz3cHoHkVPB",
        "outputId": "c26f245d-32f2-40be-97c6-3910f9890218"
      },
      "source": [
        "df.head()"
      ],
      "execution_count": 5,
      "outputs": [
        {
          "output_type": "execute_result",
          "data": {
            "text/html": [
              "<div>\n",
              "<style scoped>\n",
              "    .dataframe tbody tr th:only-of-type {\n",
              "        vertical-align: middle;\n",
              "    }\n",
              "\n",
              "    .dataframe tbody tr th {\n",
              "        vertical-align: top;\n",
              "    }\n",
              "\n",
              "    .dataframe thead th {\n",
              "        text-align: right;\n",
              "    }\n",
              "</style>\n",
              "<table border=\"1\" class=\"dataframe\">\n",
              "  <thead>\n",
              "    <tr style=\"text-align: right;\">\n",
              "      <th></th>\n",
              "      <th>fixed acidity;\"volatile acidity\";\"citric acid\";\"residual sugar\";\"chlorides\";\"free sulfur dioxide\";\"total sulfur dioxide\";\"density\";\"pH\";\"sulphates\";\"alcohol\";\"quality\"</th>\n",
              "    </tr>\n",
              "  </thead>\n",
              "  <tbody>\n",
              "    <tr>\n",
              "      <th>0</th>\n",
              "      <td>7;0.27;0.36;20.7;0.045;45;170;1.001;3;0.45;8.8;6</td>\n",
              "    </tr>\n",
              "    <tr>\n",
              "      <th>1</th>\n",
              "      <td>6.3;0.3;0.34;1.6;0.049;14;132;0.994;3.3;0.49;9...</td>\n",
              "    </tr>\n",
              "    <tr>\n",
              "      <th>2</th>\n",
              "      <td>8.1;0.28;0.4;6.9;0.05;30;97;0.9951;3.26;0.44;1...</td>\n",
              "    </tr>\n",
              "    <tr>\n",
              "      <th>3</th>\n",
              "      <td>7.2;0.23;0.32;8.5;0.058;47;186;0.9956;3.19;0.4...</td>\n",
              "    </tr>\n",
              "    <tr>\n",
              "      <th>4</th>\n",
              "      <td>7.2;0.23;0.32;8.5;0.058;47;186;0.9956;3.19;0.4...</td>\n",
              "    </tr>\n",
              "  </tbody>\n",
              "</table>\n",
              "</div>"
            ],
            "text/plain": [
              "  fixed acidity;\"volatile acidity\";\"citric acid\";\"residual sugar\";\"chlorides\";\"free sulfur dioxide\";\"total sulfur dioxide\";\"density\";\"pH\";\"sulphates\";\"alcohol\";\"quality\"\n",
              "0   7;0.27;0.36;20.7;0.045;45;170;1.001;3;0.45;8.8;6                                                                                                                     \n",
              "1  6.3;0.3;0.34;1.6;0.049;14;132;0.994;3.3;0.49;9...                                                                                                                     \n",
              "2  8.1;0.28;0.4;6.9;0.05;30;97;0.9951;3.26;0.44;1...                                                                                                                     \n",
              "3  7.2;0.23;0.32;8.5;0.058;47;186;0.9956;3.19;0.4...                                                                                                                     \n",
              "4  7.2;0.23;0.32;8.5;0.058;47;186;0.9956;3.19;0.4...                                                                                                                     "
            ]
          },
          "metadata": {
            "tags": []
          },
          "execution_count": 5
        }
      ]
    },
    {
      "cell_type": "code",
      "metadata": {
        "id": "mB8CWbEWLLqk"
      },
      "source": [
        "from collections import defaultdict\r\n",
        "f= defaultdict(list)\r\n",
        "\r\n",
        "for i in [[i.split(';') for i in df.iloc[k]][0] for k in range(len(df))]:\r\n",
        "  for j,k in enumerate(i):\r\n",
        "    f[j].append(k)"
      ],
      "execution_count": 6,
      "outputs": []
    },
    {
      "cell_type": "code",
      "metadata": {
        "colab": {
          "base_uri": "https://localhost:8080/"
        },
        "id": "oPIEEmRg1Uc7",
        "outputId": "a9f3817d-4588-4446-9975-abe1ac8c5a9e"
      },
      "source": [
        "a = [i.split(';\"') for i in df.columns][0]\r\n",
        "a"
      ],
      "execution_count": 7,
      "outputs": [
        {
          "output_type": "execute_result",
          "data": {
            "text/plain": [
              "['fixed acidity',\n",
              " 'volatile acidity\"',\n",
              " 'citric acid\"',\n",
              " 'residual sugar\"',\n",
              " 'chlorides\"',\n",
              " 'free sulfur dioxide\"',\n",
              " 'total sulfur dioxide\"',\n",
              " 'density\"',\n",
              " 'pH\"',\n",
              " 'sulphates\"',\n",
              " 'alcohol\"',\n",
              " 'quality\"']"
            ]
          },
          "metadata": {
            "tags": []
          },
          "execution_count": 7
        }
      ]
    },
    {
      "cell_type": "code",
      "metadata": {
        "colab": {
          "base_uri": "https://localhost:8080/"
        },
        "id": "uu-8lDoBJcNP",
        "outputId": "5c08e2de-b455-4005-e91b-0ac9ce3dbad1"
      },
      "source": [
        "y= [i.strip('\"') for i in a]\r\n",
        "y"
      ],
      "execution_count": 8,
      "outputs": [
        {
          "output_type": "execute_result",
          "data": {
            "text/plain": [
              "['fixed acidity',\n",
              " 'volatile acidity',\n",
              " 'citric acid',\n",
              " 'residual sugar',\n",
              " 'chlorides',\n",
              " 'free sulfur dioxide',\n",
              " 'total sulfur dioxide',\n",
              " 'density',\n",
              " 'pH',\n",
              " 'sulphates',\n",
              " 'alcohol',\n",
              " 'quality']"
            ]
          },
          "metadata": {
            "tags": []
          },
          "execution_count": 8
        }
      ]
    },
    {
      "cell_type": "code",
      "metadata": {
        "id": "CydabFxUJcQ0"
      },
      "source": [
        "df2= pd.DataFrame(f)\r\n",
        "df2.columns = y"
      ],
      "execution_count": 9,
      "outputs": []
    },
    {
      "cell_type": "code",
      "metadata": {
        "colab": {
          "base_uri": "https://localhost:8080/",
          "height": 197
        },
        "id": "hKPPIV4JUGcN",
        "outputId": "03c8bf9c-598e-4fb3-fdd9-f82dae52a625"
      },
      "source": [
        "df2.head()"
      ],
      "execution_count": 10,
      "outputs": [
        {
          "output_type": "execute_result",
          "data": {
            "text/html": [
              "<div>\n",
              "<style scoped>\n",
              "    .dataframe tbody tr th:only-of-type {\n",
              "        vertical-align: middle;\n",
              "    }\n",
              "\n",
              "    .dataframe tbody tr th {\n",
              "        vertical-align: top;\n",
              "    }\n",
              "\n",
              "    .dataframe thead th {\n",
              "        text-align: right;\n",
              "    }\n",
              "</style>\n",
              "<table border=\"1\" class=\"dataframe\">\n",
              "  <thead>\n",
              "    <tr style=\"text-align: right;\">\n",
              "      <th></th>\n",
              "      <th>fixed acidity</th>\n",
              "      <th>volatile acidity</th>\n",
              "      <th>citric acid</th>\n",
              "      <th>residual sugar</th>\n",
              "      <th>chlorides</th>\n",
              "      <th>free sulfur dioxide</th>\n",
              "      <th>total sulfur dioxide</th>\n",
              "      <th>density</th>\n",
              "      <th>pH</th>\n",
              "      <th>sulphates</th>\n",
              "      <th>alcohol</th>\n",
              "      <th>quality</th>\n",
              "    </tr>\n",
              "  </thead>\n",
              "  <tbody>\n",
              "    <tr>\n",
              "      <th>0</th>\n",
              "      <td>7</td>\n",
              "      <td>0.27</td>\n",
              "      <td>0.36</td>\n",
              "      <td>20.7</td>\n",
              "      <td>0.045</td>\n",
              "      <td>45</td>\n",
              "      <td>170</td>\n",
              "      <td>1.001</td>\n",
              "      <td>3</td>\n",
              "      <td>0.45</td>\n",
              "      <td>8.8</td>\n",
              "      <td>6</td>\n",
              "    </tr>\n",
              "    <tr>\n",
              "      <th>1</th>\n",
              "      <td>6.3</td>\n",
              "      <td>0.3</td>\n",
              "      <td>0.34</td>\n",
              "      <td>1.6</td>\n",
              "      <td>0.049</td>\n",
              "      <td>14</td>\n",
              "      <td>132</td>\n",
              "      <td>0.994</td>\n",
              "      <td>3.3</td>\n",
              "      <td>0.49</td>\n",
              "      <td>9.5</td>\n",
              "      <td>6</td>\n",
              "    </tr>\n",
              "    <tr>\n",
              "      <th>2</th>\n",
              "      <td>8.1</td>\n",
              "      <td>0.28</td>\n",
              "      <td>0.4</td>\n",
              "      <td>6.9</td>\n",
              "      <td>0.05</td>\n",
              "      <td>30</td>\n",
              "      <td>97</td>\n",
              "      <td>0.9951</td>\n",
              "      <td>3.26</td>\n",
              "      <td>0.44</td>\n",
              "      <td>10.1</td>\n",
              "      <td>6</td>\n",
              "    </tr>\n",
              "    <tr>\n",
              "      <th>3</th>\n",
              "      <td>7.2</td>\n",
              "      <td>0.23</td>\n",
              "      <td>0.32</td>\n",
              "      <td>8.5</td>\n",
              "      <td>0.058</td>\n",
              "      <td>47</td>\n",
              "      <td>186</td>\n",
              "      <td>0.9956</td>\n",
              "      <td>3.19</td>\n",
              "      <td>0.4</td>\n",
              "      <td>9.9</td>\n",
              "      <td>6</td>\n",
              "    </tr>\n",
              "    <tr>\n",
              "      <th>4</th>\n",
              "      <td>7.2</td>\n",
              "      <td>0.23</td>\n",
              "      <td>0.32</td>\n",
              "      <td>8.5</td>\n",
              "      <td>0.058</td>\n",
              "      <td>47</td>\n",
              "      <td>186</td>\n",
              "      <td>0.9956</td>\n",
              "      <td>3.19</td>\n",
              "      <td>0.4</td>\n",
              "      <td>9.9</td>\n",
              "      <td>6</td>\n",
              "    </tr>\n",
              "  </tbody>\n",
              "</table>\n",
              "</div>"
            ],
            "text/plain": [
              "  fixed acidity volatile acidity citric acid  ... sulphates alcohol quality\n",
              "0             7             0.27        0.36  ...      0.45     8.8       6\n",
              "1           6.3              0.3        0.34  ...      0.49     9.5       6\n",
              "2           8.1             0.28         0.4  ...      0.44    10.1       6\n",
              "3           7.2             0.23        0.32  ...       0.4     9.9       6\n",
              "4           7.2             0.23        0.32  ...       0.4     9.9       6\n",
              "\n",
              "[5 rows x 12 columns]"
            ]
          },
          "metadata": {
            "tags": []
          },
          "execution_count": 10
        }
      ]
    },
    {
      "cell_type": "code",
      "metadata": {
        "id": "VjJ5wMjEJcbK"
      },
      "source": [
        "df2 = df2.astype(float)"
      ],
      "execution_count": 11,
      "outputs": []
    },
    {
      "cell_type": "code",
      "metadata": {
        "colab": {
          "base_uri": "https://localhost:8080/"
        },
        "id": "Y5qnFv1CVZrV",
        "outputId": "2d77d9d1-0ba7-4325-8c85-c71818cf5aba"
      },
      "source": [
        "df2['volatile acidity'].describe()"
      ],
      "execution_count": 12,
      "outputs": [
        {
          "output_type": "execute_result",
          "data": {
            "text/plain": [
              "count    4898.000000\n",
              "mean        0.278241\n",
              "std         0.100795\n",
              "min         0.080000\n",
              "25%         0.210000\n",
              "50%         0.260000\n",
              "75%         0.320000\n",
              "max         1.100000\n",
              "Name: volatile acidity, dtype: float64"
            ]
          },
          "metadata": {
            "tags": []
          },
          "execution_count": 12
        }
      ]
    },
    {
      "cell_type": "code",
      "metadata": {
        "id": "gLY1JTPZWhTg"
      },
      "source": [
        "# we think every column other than free sulfur dioxide and Total sulfur dioxide should be \" Exponentially\" transformed- since they are right skewed.\r\n",
        "\r\n"
      ],
      "execution_count": 13,
      "outputs": []
    },
    {
      "cell_type": "markdown",
      "metadata": {
        "collapsed": true,
        "id": "8HhejDXukVPC"
      },
      "source": [
        "<table align=\"left\">\n",
        "    <tr>\n",
        "        <td width=\"6%\">\n",
        "            <img src=\"question_icon.png\">\n",
        "        </td>\n",
        "        <td>\n",
        "            <div align=\"left\", style=\"font-size:120%\">\n",
        "                <font color=\"#21618C\">\n",
        "                    <b>2. How can we reduce skewness of variable 'Residual_Sugar'?</b>\n",
        "                </font>\n",
        "            </div>\n",
        "        </td>\n",
        "    </tr>\n",
        "</table>"
      ]
    },
    {
      "cell_type": "code",
      "metadata": {
        "colab": {
          "base_uri": "https://localhost:8080/",
          "height": 334
        },
        "id": "lpng85FikVPD",
        "outputId": "fe8b4e24-ae26-4fea-c855-6bdc5b1cc035"
      },
      "source": [
        "sns.distplot(df2['residual sugar'])\r\n",
        "plt.show()"
      ],
      "execution_count": 14,
      "outputs": [
        {
          "output_type": "stream",
          "text": [
            "/usr/local/lib/python3.6/dist-packages/seaborn/distributions.py:2557: FutureWarning: `distplot` is a deprecated function and will be removed in a future version. Please adapt your code to use either `displot` (a figure-level function with similar flexibility) or `histplot` (an axes-level function for histograms).\n",
            "  warnings.warn(msg, FutureWarning)\n"
          ],
          "name": "stderr"
        },
        {
          "output_type": "display_data",
          "data": {
            "image/png": "[encoded data removed]",
            "text/plain": [
              "<Figure size 432x288 with 1 Axes>"
            ]
          },
          "metadata": {
            "tags": [],
            "needs_background": "light"
          }
        }
      ]
    },
    {
      "cell_type": "code",
      "metadata": {
        "id": "o2oQDYAhrlcZ"
      },
      "source": [
        "# right skewed; probably a log transform will help"
      ],
      "execution_count": 15,
      "outputs": []
    },
    {
      "cell_type": "code",
      "metadata": {
        "id": "B8UaXmUVrliZ"
      },
      "source": [
        ""
      ],
      "execution_count": 15,
      "outputs": []
    },
    {
      "cell_type": "markdown",
      "metadata": {
        "collapsed": true,
        "id": "RFz3LQ0qkVPD"
      },
      "source": [
        "<table align=\"left\">\n",
        "    <tr>\n",
        "        <td width=\"6%\">\n",
        "            <img src=\"question_icon.png\">\n",
        "        </td>\n",
        "        <td>\n",
        "            <div align=\"left\", style=\"font-size:120%\">\n",
        "                <font color=\"#21618C\">\n",
        "                    <b>3. Are there features in the dataset that add little to no information ?</b>\n",
        "                </font>\n",
        "            </div>\n",
        "        </td>\n",
        "    </tr>\n",
        "</table>"
      ]
    },
    {
      "cell_type": "code",
      "metadata": {
        "colab": {
          "base_uri": "https://localhost:8080/"
        },
        "id": "biOuEpJ6kVPE",
        "outputId": "a6f1c74e-7b45-4229-b2f1-0c30c827db20"
      },
      "source": [
        "# we can see a reggression model and see the significance:\r\n",
        "import statsmodels.api as sm\r\n",
        "xc= sm.add_constant(df2.loc[:, df2.columns != 'quality'])\r\n",
        "md= sm.OLS(df2['quality'], xc).fit()\r\n",
        "print(md.summary())"
      ],
      "execution_count": 16,
      "outputs": [
        {
          "output_type": "stream",
          "text": [
            "                            OLS Regression Results                            \n",
            "==============================================================================\n",
            "Dep. Variable:                quality   R-squared:                       0.282\n",
            "Model:                            OLS   Adj. R-squared:                  0.280\n",
            "Method:                 Least Squares   F-statistic:                     174.3\n",
            "Date:                Sat, 30 Jan 2021   Prob (F-statistic):               0.00\n",
            "Time:                        02:27:09   Log-Likelihood:                -5543.7\n",
            "No. Observations:                4898   AIC:                         1.111e+04\n",
            "Df Residuals:                    4886   BIC:                         1.119e+04\n",
            "Df Model:                          11                                         \n",
            "Covariance Type:            nonrobust                                         \n",
            "========================================================================================\n",
            "                           coef    std err          t      P>|t|      [0.025      0.975]\n",
            "----------------------------------------------------------------------------------------\n",
            "const                  150.1928     18.804      7.987      0.000     113.328     187.057\n",
            "fixed acidity            0.0655      0.021      3.139      0.002       0.025       0.106\n",
            "volatile acidity        -1.8632      0.114    -16.373      0.000      -2.086      -1.640\n",
            "citric acid              0.0221      0.096      0.231      0.818      -0.166       0.210\n",
            "residual sugar           0.0815      0.008     10.825      0.000       0.067       0.096\n",
            "chlorides               -0.2473      0.547     -0.452      0.651      -1.319       0.824\n",
            "free sulfur dioxide      0.0037      0.001      4.422      0.000       0.002       0.005\n",
            "total sulfur dioxide    -0.0003      0.000     -0.756      0.450      -0.001       0.000\n",
            "density               -150.2842     19.075     -7.879      0.000    -187.679    -112.890\n",
            "pH                       0.6863      0.105      6.513      0.000       0.480       0.893\n",
            "sulphates                0.6315      0.100      6.291      0.000       0.435       0.828\n",
            "alcohol                  0.1935      0.024      7.988      0.000       0.146       0.241\n",
            "==============================================================================\n",
            "Omnibus:                      114.161   Durbin-Watson:                   1.621\n",
            "Prob(Omnibus):                  0.000   Jarque-Bera (JB):              251.637\n",
            "Skew:                           0.073   Prob(JB):                     2.28e-55\n",
            "Kurtosis:                       4.101   Cond. No.                     3.74e+05\n",
            "==============================================================================\n",
            "\n",
            "Warnings:\n",
            "[1] Standard Errors assume that the covariance matrix of the errors is correctly specified.\n",
            "[2] The condition number is large, 3.74e+05. This might indicate that there are\n",
            "strong multicollinearity or other numerical problems.\n"
          ],
          "name": "stdout"
        }
      ]
    },
    {
      "cell_type": "markdown",
      "metadata": {
        "id": "MYIHwTwWtKsf"
      },
      "source": [
        "citric acid  , chlorides , total sulfur dioxide contribute little to nothing to overall model"
      ]
    },
    {
      "cell_type": "markdown",
      "metadata": {
        "collapsed": true,
        "id": "nyW3dqE1kVPE"
      },
      "source": [
        "<table align=\"left\">\n",
        "    <tr>\n",
        "        <td width=\"6%\">\n",
        "            <img src=\"question_icon.png\">\n",
        "        </td>\n",
        "        <td>\n",
        "            <div align=\"left\", style=\"font-size:120%\">\n",
        "                <font color=\"#21618C\">\n",
        "                    <b>4. Which transformation method is best suited to treat the skewness in variable 'alcohol'?</b>\n",
        "                </font>\n",
        "            </div>\n",
        "        </td>\n",
        "    </tr>\n",
        "</table>"
      ]
    },
    {
      "cell_type": "code",
      "metadata": {
        "colab": {
          "base_uri": "https://localhost:8080/",
          "height": 334
        },
        "id": "jn4mJH-gkVPF",
        "outputId": "578de820-908e-4343-c662-62dcdb26fcfe"
      },
      "source": [
        "sns.distplot(df2['alcohol'])\r\n",
        "plt.show()"
      ],
      "execution_count": 17,
      "outputs": [
        {
          "output_type": "stream",
          "text": [
            "/usr/local/lib/python3.6/dist-packages/seaborn/distributions.py:2557: FutureWarning: `distplot` is a deprecated function and will be removed in a future version. Please adapt your code to use either `displot` (a figure-level function with similar flexibility) or `histplot` (an axes-level function for histograms).\n",
            "  warnings.warn(msg, FutureWarning)\n"
          ],
          "name": "stderr"
        },
        {
          "output_type": "display_data",
          "data": {
            "image/png": "[encoded data removed]",
            "text/plain": [
              "<Figure size 432x288 with 1 Axes>"
            ]
          },
          "metadata": {
            "tags": [],
            "needs_background": "light"
          }
        }
      ]
    },
    {
      "cell_type": "code",
      "metadata": {
        "id": "w_weX7m2QFVN"
      },
      "source": [
        "# power transform will do a good job"
      ],
      "execution_count": 18,
      "outputs": []
    },
    {
      "cell_type": "code",
      "metadata": {
        "id": "V0Sbp6kwQKMh"
      },
      "source": [
        ""
      ],
      "execution_count": 18,
      "outputs": []
    },
    {
      "cell_type": "markdown",
      "metadata": {
        "collapsed": true,
        "id": "TrPJ7oA1kVPG"
      },
      "source": [
        "<table align=\"left\">\n",
        "    <tr>\n",
        "        <td width=\"6%\">\n",
        "            <img src=\"question_icon.png\">\n",
        "        </td>\n",
        "        <td>\n",
        "            <div align=\"left\", style=\"font-size:120%\">\n",
        "                <font color=\"#21618C\">\n",
        "                    <b>5. Does scaling the feature 'pH' lead to better prediction when considering a full model ?</b>\n",
        "                </font>\n",
        "            </div>\n",
        "        </td>\n",
        "    </tr>\n",
        "</table>"
      ]
    },
    {
      "cell_type": "code",
      "metadata": {
        "colab": {
          "base_uri": "https://localhost:8080/"
        },
        "id": "sygY5_kJQvTk",
        "outputId": "c1da22d9-4e93-431f-cdca-44d6491fb69c"
      },
      "source": [
        "# Without scaling the pH\r\n",
        "\r\n",
        "import statsmodels.api as sm\r\n",
        "xc= sm.add_constant(df2.loc[:, df2.columns != 'quality'])\r\n",
        "md= sm.OLS(df2['quality'], xc).fit()\r\n",
        "print(md.summary())"
      ],
      "execution_count": 19,
      "outputs": [
        {
          "output_type": "stream",
          "text": [
            "                            OLS Regression Results                            \n",
            "==============================================================================\n",
            "Dep. Variable:                quality   R-squared:                       0.282\n",
            "Model:                            OLS   Adj. R-squared:                  0.280\n",
            "Method:                 Least Squares   F-statistic:                     174.3\n",
            "Date:                Sat, 30 Jan 2021   Prob (F-statistic):               0.00\n",
            "Time:                        02:27:10   Log-Likelihood:                -5543.7\n",
            "No. Observations:                4898   AIC:                         1.111e+04\n",
            "Df Residuals:                    4886   BIC:                         1.119e+04\n",
            "Df Model:                          11                                         \n",
            "Covariance Type:            nonrobust                                         \n",
            "========================================================================================\n",
            "                           coef    std err          t      P>|t|      [0.025      0.975]\n",
            "----------------------------------------------------------------------------------------\n",
            "const                  150.1928     18.804      7.987      0.000     113.328     187.057\n",
            "fixed acidity            0.0655      0.021      3.139      0.002       0.025       0.106\n",
            "volatile acidity        -1.8632      0.114    -16.373      0.000      -2.086      -1.640\n",
            "citric acid              0.0221      0.096      0.231      0.818      -0.166       0.210\n",
            "residual sugar           0.0815      0.008     10.825      0.000       0.067       0.096\n",
            "chlorides               -0.2473      0.547     -0.452      0.651      -1.319       0.824\n",
            "free sulfur dioxide      0.0037      0.001      4.422      0.000       0.002       0.005\n",
            "total sulfur dioxide    -0.0003      0.000     -0.756      0.450      -0.001       0.000\n",
            "density               -150.2842     19.075     -7.879      0.000    -187.679    -112.890\n",
            "pH                       0.6863      0.105      6.513      0.000       0.480       0.893\n",
            "sulphates                0.6315      0.100      6.291      0.000       0.435       0.828\n",
            "alcohol                  0.1935      0.024      7.988      0.000       0.146       0.241\n",
            "==============================================================================\n",
            "Omnibus:                      114.161   Durbin-Watson:                   1.621\n",
            "Prob(Omnibus):                  0.000   Jarque-Bera (JB):              251.637\n",
            "Skew:                           0.073   Prob(JB):                     2.28e-55\n",
            "Kurtosis:                       4.101   Cond. No.                     3.74e+05\n",
            "==============================================================================\n",
            "\n",
            "Warnings:\n",
            "[1] Standard Errors assume that the covariance matrix of the errors is correctly specified.\n",
            "[2] The condition number is large, 3.74e+05. This might indicate that there are\n",
            "strong multicollinearity or other numerical problems.\n"
          ],
          "name": "stdout"
        }
      ]
    },
    {
      "cell_type": "code",
      "metadata": {
        "colab": {
          "base_uri": "https://localhost:8080/",
          "height": 197
        },
        "id": "UPUS1813Qvcp",
        "outputId": "6c6928ed-6639-44b3-afc1-04ee8d05675b"
      },
      "source": [
        "# scaling ph\r\n",
        "from sklearn.preprocessing import StandardScaler\r\n",
        "\r\n",
        "dr= StandardScaler() \r\n",
        "df3 = df2.copy()\r\n",
        "df3['s_ph'] = dr.fit_transform(df3[['pH']])\r\n",
        "df3.head()"
      ],
      "execution_count": 20,
      "outputs": [
        {
          "output_type": "execute_result",
          "data": {
            "text/html": [
              "<div>\n",
              "<style scoped>\n",
              "    .dataframe tbody tr th:only-of-type {\n",
              "        vertical-align: middle;\n",
              "    }\n",
              "\n",
              "    .dataframe tbody tr th {\n",
              "        vertical-align: top;\n",
              "    }\n",
              "\n",
              "    .dataframe thead th {\n",
              "        text-align: right;\n",
              "    }\n",
              "</style>\n",
              "<table border=\"1\" class=\"dataframe\">\n",
              "  <thead>\n",
              "    <tr style=\"text-align: right;\">\n",
              "      <th></th>\n",
              "      <th>fixed acidity</th>\n",
              "      <th>volatile acidity</th>\n",
              "      <th>citric acid</th>\n",
              "      <th>residual sugar</th>\n",
              "      <th>chlorides</th>\n",
              "      <th>free sulfur dioxide</th>\n",
              "      <th>total sulfur dioxide</th>\n",
              "      <th>density</th>\n",
              "      <th>pH</th>\n",
              "      <th>sulphates</th>\n",
              "      <th>alcohol</th>\n",
              "      <th>quality</th>\n",
              "      <th>s_ph</th>\n",
              "    </tr>\n",
              "  </thead>\n",
              "  <tbody>\n",
              "    <tr>\n",
              "      <th>0</th>\n",
              "      <td>7.0</td>\n",
              "      <td>0.27</td>\n",
              "      <td>0.36</td>\n",
              "      <td>20.7</td>\n",
              "      <td>0.045</td>\n",
              "      <td>45.0</td>\n",
              "      <td>170.0</td>\n",
              "      <td>1.0010</td>\n",
              "      <td>3.00</td>\n",
              "      <td>0.45</td>\n",
              "      <td>8.8</td>\n",
              "      <td>6.0</td>\n",
              "      <td>-1.246921</td>\n",
              "    </tr>\n",
              "    <tr>\n",
              "      <th>1</th>\n",
              "      <td>6.3</td>\n",
              "      <td>0.30</td>\n",
              "      <td>0.34</td>\n",
              "      <td>1.6</td>\n",
              "      <td>0.049</td>\n",
              "      <td>14.0</td>\n",
              "      <td>132.0</td>\n",
              "      <td>0.9940</td>\n",
              "      <td>3.30</td>\n",
              "      <td>0.49</td>\n",
              "      <td>9.5</td>\n",
              "      <td>6.0</td>\n",
              "      <td>0.740029</td>\n",
              "    </tr>\n",
              "    <tr>\n",
              "      <th>2</th>\n",
              "      <td>8.1</td>\n",
              "      <td>0.28</td>\n",
              "      <td>0.40</td>\n",
              "      <td>6.9</td>\n",
              "      <td>0.050</td>\n",
              "      <td>30.0</td>\n",
              "      <td>97.0</td>\n",
              "      <td>0.9951</td>\n",
              "      <td>3.26</td>\n",
              "      <td>0.44</td>\n",
              "      <td>10.1</td>\n",
              "      <td>6.0</td>\n",
              "      <td>0.475102</td>\n",
              "    </tr>\n",
              "    <tr>\n",
              "      <th>3</th>\n",
              "      <td>7.2</td>\n",
              "      <td>0.23</td>\n",
              "      <td>0.32</td>\n",
              "      <td>8.5</td>\n",
              "      <td>0.058</td>\n",
              "      <td>47.0</td>\n",
              "      <td>186.0</td>\n",
              "      <td>0.9956</td>\n",
              "      <td>3.19</td>\n",
              "      <td>0.40</td>\n",
              "      <td>9.9</td>\n",
              "      <td>6.0</td>\n",
              "      <td>0.011480</td>\n",
              "    </tr>\n",
              "    <tr>\n",
              "      <th>4</th>\n",
              "      <td>7.2</td>\n",
              "      <td>0.23</td>\n",
              "      <td>0.32</td>\n",
              "      <td>8.5</td>\n",
              "      <td>0.058</td>\n",
              "      <td>47.0</td>\n",
              "      <td>186.0</td>\n",
              "      <td>0.9956</td>\n",
              "      <td>3.19</td>\n",
              "      <td>0.40</td>\n",
              "      <td>9.9</td>\n",
              "      <td>6.0</td>\n",
              "      <td>0.011480</td>\n",
              "    </tr>\n",
              "  </tbody>\n",
              "</table>\n",
              "</div>"
            ],
            "text/plain": [
              "   fixed acidity  volatile acidity  citric acid  ...  alcohol  quality      s_ph\n",
              "0            7.0              0.27         0.36  ...      8.8      6.0 -1.246921\n",
              "1            6.3              0.30         0.34  ...      9.5      6.0  0.740029\n",
              "2            8.1              0.28         0.40  ...     10.1      6.0  0.475102\n",
              "3            7.2              0.23         0.32  ...      9.9      6.0  0.011480\n",
              "4            7.2              0.23         0.32  ...      9.9      6.0  0.011480\n",
              "\n",
              "[5 rows x 13 columns]"
            ]
          },
          "metadata": {
            "tags": []
          },
          "execution_count": 20
        }
      ]
    },
    {
      "cell_type": "code",
      "metadata": {
        "id": "kUY5ImkhanVD"
      },
      "source": [
        "df3.drop({'quality', 'pH'}, axis=1, inplace=True)"
      ],
      "execution_count": 21,
      "outputs": []
    },
    {
      "cell_type": "code",
      "metadata": {
        "colab": {
          "base_uri": "https://localhost:8080/"
        },
        "id": "vsCRnSqraVh9",
        "outputId": "606a9564-f86a-4f44-fe2c-83d566332a37"
      },
      "source": [
        "xc= sm.add_constant(df3)\r\n",
        "md= sm.OLS(df2['quality'], xc).fit()\r\n",
        "print(md.summary())"
      ],
      "execution_count": 22,
      "outputs": [
        {
          "output_type": "stream",
          "text": [
            "                            OLS Regression Results                            \n",
            "==============================================================================\n",
            "Dep. Variable:                quality   R-squared:                       0.282\n",
            "Model:                            OLS   Adj. R-squared:                  0.280\n",
            "Method:                 Least Squares   F-statistic:                     174.3\n",
            "Date:                Sat, 30 Jan 2021   Prob (F-statistic):               0.00\n",
            "Time:                        02:27:10   Log-Likelihood:                -5543.7\n",
            "No. Observations:                4898   AIC:                         1.111e+04\n",
            "Df Residuals:                    4886   BIC:                         1.119e+04\n",
            "Df Model:                          11                                         \n",
            "Covariance Type:            nonrobust                                         \n",
            "========================================================================================\n",
            "                           coef    std err          t      P>|t|      [0.025      0.975]\n",
            "----------------------------------------------------------------------------------------\n",
            "const                  152.3811     19.013      8.015      0.000     115.108     189.655\n",
            "fixed acidity            0.0655      0.021      3.139      0.002       0.025       0.106\n",
            "volatile acidity        -1.8632      0.114    -16.373      0.000      -2.086      -1.640\n",
            "citric acid              0.0221      0.096      0.231      0.818      -0.166       0.210\n",
            "residual sugar           0.0815      0.008     10.825      0.000       0.067       0.096\n",
            "chlorides               -0.2473      0.547     -0.452      0.651      -1.319       0.824\n",
            "free sulfur dioxide      0.0037      0.001      4.422      0.000       0.002       0.005\n",
            "total sulfur dioxide    -0.0003      0.000     -0.756      0.450      -0.001       0.000\n",
            "density               -150.2842     19.075     -7.879      0.000    -187.679    -112.890\n",
            "sulphates                0.6315      0.100      6.291      0.000       0.435       0.828\n",
            "alcohol                  0.1935      0.024      7.988      0.000       0.146       0.241\n",
            "s_ph                     0.1036      0.016      6.513      0.000       0.072       0.135\n",
            "==============================================================================\n",
            "Omnibus:                      114.161   Durbin-Watson:                   1.621\n",
            "Prob(Omnibus):                  0.000   Jarque-Bera (JB):              251.637\n",
            "Skew:                           0.073   Prob(JB):                     2.28e-55\n",
            "Kurtosis:                       4.101   Cond. No.                     3.76e+05\n",
            "==============================================================================\n",
            "\n",
            "Warnings:\n",
            "[1] Standard Errors assume that the covariance matrix of the errors is correctly specified.\n",
            "[2] The condition number is large, 3.76e+05. This might indicate that there are\n",
            "strong multicollinearity or other numerical problems.\n"
          ],
          "name": "stdout"
        }
      ]
    },
    {
      "cell_type": "code",
      "metadata": {
        "id": "h8kpjs5PaVp9"
      },
      "source": [
        "# no improvement in score. "
      ],
      "execution_count": 23,
      "outputs": []
    },
    {
      "cell_type": "code",
      "metadata": {
        "id": "HDw8bJSykVPH"
      },
      "source": [
        ""
      ],
      "execution_count": 23,
      "outputs": []
    },
    {
      "cell_type": "markdown",
      "metadata": {
        "collapsed": true,
        "id": "OEXDNh_7kVPI"
      },
      "source": [
        "<table align=\"left\">\n",
        "    <tr>\n",
        "        <td width=\"6%\">\n",
        "            <img src=\"question_icon.png\">\n",
        "        </td>\n",
        "        <td>\n",
        "            <div align=\"left\", style=\"font-size:120%\">\n",
        "                <font color=\"#21618C\">\n",
        "                    <b>6. What could be done to resolve the issue of multicollinearity if present?</b>\n",
        "                </font>\n",
        "            </div>\n",
        "        </td>\n",
        "    </tr>\n",
        "</table>"
      ]
    },
    {
      "cell_type": "code",
      "metadata": {
        "id": "MzSJeUL9kVPJ",
        "colab": {
          "base_uri": "https://localhost:8080/",
          "height": 407
        },
        "outputId": "08dfe8e6-7124-4bea-ad9f-8ccd11fd3437"
      },
      "source": [
        "from statsmodels.stats.outliers_influence import variance_inflation_factor as vif\r\n",
        "\r\n",
        "ar = [vif(xc.values, i) for i in range(xc.shape[1])]\r\n",
        "fr= pd.DataFrame(ar, index=xc.columns)\r\n",
        "fr"
      ],
      "execution_count": 24,
      "outputs": [
        {
          "output_type": "execute_result",
          "data": {
            "text/html": [
              "<div>\n",
              "<style scoped>\n",
              "    .dataframe tbody tr th:only-of-type {\n",
              "        vertical-align: middle;\n",
              "    }\n",
              "\n",
              "    .dataframe tbody tr th {\n",
              "        vertical-align: top;\n",
              "    }\n",
              "\n",
              "    .dataframe thead th {\n",
              "        text-align: right;\n",
              "    }\n",
              "</style>\n",
              "<table border=\"1\" class=\"dataframe\">\n",
              "  <thead>\n",
              "    <tr style=\"text-align: right;\">\n",
              "      <th></th>\n",
              "      <th>0</th>\n",
              "    </tr>\n",
              "  </thead>\n",
              "  <tbody>\n",
              "    <tr>\n",
              "      <th>const</th>\n",
              "      <td>3.136297e+06</td>\n",
              "    </tr>\n",
              "    <tr>\n",
              "      <th>fixed acidity</th>\n",
              "      <td>2.691435e+00</td>\n",
              "    </tr>\n",
              "    <tr>\n",
              "      <th>volatile acidity</th>\n",
              "      <td>1.141156e+00</td>\n",
              "    </tr>\n",
              "    <tr>\n",
              "      <th>citric acid</th>\n",
              "      <td>1.165215e+00</td>\n",
              "    </tr>\n",
              "    <tr>\n",
              "      <th>residual sugar</th>\n",
              "      <td>1.264406e+01</td>\n",
              "    </tr>\n",
              "    <tr>\n",
              "      <th>chlorides</th>\n",
              "      <td>1.236822e+00</td>\n",
              "    </tr>\n",
              "    <tr>\n",
              "      <th>free sulfur dioxide</th>\n",
              "      <td>1.787880e+00</td>\n",
              "    </tr>\n",
              "    <tr>\n",
              "      <th>total sulfur dioxide</th>\n",
              "      <td>2.239233e+00</td>\n",
              "    </tr>\n",
              "    <tr>\n",
              "      <th>density</th>\n",
              "      <td>2.823255e+01</td>\n",
              "    </tr>\n",
              "    <tr>\n",
              "      <th>sulphates</th>\n",
              "      <td>1.138540e+00</td>\n",
              "    </tr>\n",
              "    <tr>\n",
              "      <th>alcohol</th>\n",
              "      <td>7.706957e+00</td>\n",
              "    </tr>\n",
              "    <tr>\n",
              "      <th>s_ph</th>\n",
              "      <td>2.196362e+00</td>\n",
              "    </tr>\n",
              "  </tbody>\n",
              "</table>\n",
              "</div>"
            ],
            "text/plain": [
              "                                 0\n",
              "const                 3.136297e+06\n",
              "fixed acidity         2.691435e+00\n",
              "volatile acidity      1.141156e+00\n",
              "citric acid           1.165215e+00\n",
              "residual sugar        1.264406e+01\n",
              "chlorides             1.236822e+00\n",
              "free sulfur dioxide   1.787880e+00\n",
              "total sulfur dioxide  2.239233e+00\n",
              "density               2.823255e+01\n",
              "sulphates             1.138540e+00\n",
              "alcohol               7.706957e+00\n",
              "s_ph                  2.196362e+00"
            ]
          },
          "metadata": {
            "tags": []
          },
          "execution_count": 24
        }
      ]
    },
    {
      "cell_type": "code",
      "metadata": {
        "id": "PbTTcsUucZNn"
      },
      "source": [
        "# we have 2 columns having multicollinearity - Density and Residual sugar"
      ],
      "execution_count": 25,
      "outputs": []
    },
    {
      "cell_type": "code",
      "metadata": {
        "id": "IFM6I5wHcjdJ"
      },
      "source": [
        "# We can try fixing this issue by checking the significance of the contributions made by these columns- if they are not significant, we can drop them"
      ],
      "execution_count": 26,
      "outputs": []
    },
    {
      "cell_type": "markdown",
      "metadata": {
        "collapsed": true,
        "id": "OF7aLA9CkVPJ"
      },
      "source": [
        "<table align=\"left\">\n",
        "    <tr>\n",
        "        <td width=\"6%\">\n",
        "            <img src=\"question_icon.png\">\n",
        "        </td>\n",
        "        <td>\n",
        "            <div align=\"left\", style=\"font-size:120%\">\n",
        "                <font color=\"#21618C\">\n",
        "                    <b>7.  Fit a full model. Is the assumption for normality of residuals violated ?</b>\n",
        "                </font>\n",
        "            </div>\n",
        "        </td>\n",
        "    </tr>\n",
        "</table>"
      ]
    },
    {
      "cell_type": "code",
      "metadata": {
        "id": "abkIbzpokVPK",
        "colab": {
          "base_uri": "https://localhost:8080/"
        },
        "outputId": "f111196e-5c61-4578-f994-029429bb07fb"
      },
      "source": [
        "xc= sm.add_constant(df2.loc[:, df2.columns != 'quality'])\r\n",
        "md= sm.OLS(df2['quality'], xc).fit()\r\n",
        "print(md.summary())"
      ],
      "execution_count": 27,
      "outputs": [
        {
          "output_type": "stream",
          "text": [
            "                            OLS Regression Results                            \n",
            "==============================================================================\n",
            "Dep. Variable:                quality   R-squared:                       0.282\n",
            "Model:                            OLS   Adj. R-squared:                  0.280\n",
            "Method:                 Least Squares   F-statistic:                     174.3\n",
            "Date:                Sat, 30 Jan 2021   Prob (F-statistic):               0.00\n",
            "Time:                        02:27:10   Log-Likelihood:                -5543.7\n",
            "No. Observations:                4898   AIC:                         1.111e+04\n",
            "Df Residuals:                    4886   BIC:                         1.119e+04\n",
            "Df Model:                          11                                         \n",
            "Covariance Type:            nonrobust                                         \n",
            "========================================================================================\n",
            "                           coef    std err          t      P>|t|      [0.025      0.975]\n",
            "----------------------------------------------------------------------------------------\n",
            "const                  150.1928     18.804      7.987      0.000     113.328     187.057\n",
            "fixed acidity            0.0655      0.021      3.139      0.002       0.025       0.106\n",
            "volatile acidity        -1.8632      0.114    -16.373      0.000      -2.086      -1.640\n",
            "citric acid              0.0221      0.096      0.231      0.818      -0.166       0.210\n",
            "residual sugar           0.0815      0.008     10.825      0.000       0.067       0.096\n",
            "chlorides               -0.2473      0.547     -0.452      0.651      -1.319       0.824\n",
            "free sulfur dioxide      0.0037      0.001      4.422      0.000       0.002       0.005\n",
            "total sulfur dioxide    -0.0003      0.000     -0.756      0.450      -0.001       0.000\n",
            "density               -150.2842     19.075     -7.879      0.000    -187.679    -112.890\n",
            "pH                       0.6863      0.105      6.513      0.000       0.480       0.893\n",
            "sulphates                0.6315      0.100      6.291      0.000       0.435       0.828\n",
            "alcohol                  0.1935      0.024      7.988      0.000       0.146       0.241\n",
            "==============================================================================\n",
            "Omnibus:                      114.161   Durbin-Watson:                   1.621\n",
            "Prob(Omnibus):                  0.000   Jarque-Bera (JB):              251.637\n",
            "Skew:                           0.073   Prob(JB):                     2.28e-55\n",
            "Kurtosis:                       4.101   Cond. No.                     3.74e+05\n",
            "==============================================================================\n",
            "\n",
            "Warnings:\n",
            "[1] Standard Errors assume that the covariance matrix of the errors is correctly specified.\n",
            "[2] The condition number is large, 3.74e+05. This might indicate that there are\n",
            "strong multicollinearity or other numerical problems.\n"
          ],
          "name": "stdout"
        }
      ]
    },
    {
      "cell_type": "code",
      "metadata": {
        "colab": {
          "base_uri": "https://localhost:8080/",
          "height": 294
        },
        "id": "jNTv_JOmdDCq",
        "outputId": "5d7897e7-60b2-4938-8408-a19085f4d63f"
      },
      "source": [
        "# QQ plot\r\n",
        "import scipy.stats as stats\r\n",
        "\r\n",
        "stats.probplot(md.resid, plot=plt)\r\n",
        "plt.show()"
      ],
      "execution_count": 28,
      "outputs": [
        {
          "output_type": "display_data",
          "data": {
            "image/png": "[encoded data removed]",
            "text/plain": [
              "<Figure size 432x288 with 1 Axes>"
            ]
          },
          "metadata": {
            "tags": [],
            "needs_background": "light"
          }
        }
      ]
    },
    {
      "cell_type": "code",
      "metadata": {
        "colab": {
          "base_uri": "https://localhost:8080/"
        },
        "id": "HsiyohC2dmam",
        "outputId": "58abaf7b-33b8-4ea2-cf77-ec384ce1b9c4"
      },
      "source": [
        "# looks mostly normal only:\r\n",
        "\r\n",
        "#lets do a JB test\r\n",
        "\r\n",
        "stats.jarque_bera(md.resid)"
      ],
      "execution_count": 29,
      "outputs": [
        {
          "output_type": "execute_result",
          "data": {
            "text/plain": [
              "(251.63681680709323, 0.0)"
            ]
          },
          "metadata": {
            "tags": []
          },
          "execution_count": 29
        }
      ]
    },
    {
      "cell_type": "code",
      "metadata": {
        "id": "XD4n_Bzhdv6L"
      },
      "source": [
        "# it is not normal"
      ],
      "execution_count": 30,
      "outputs": []
    },
    {
      "cell_type": "markdown",
      "metadata": {
        "collapsed": true,
        "id": "nB1stq9bkVPK"
      },
      "source": [
        "<table align=\"left\">\n",
        "    <tr>\n",
        "        <td width=\"6%\">\n",
        "            <img src=\"question_icon.png\">\n",
        "        </td>\n",
        "        <td>\n",
        "            <div align=\"left\", style=\"font-size:120%\">\n",
        "                <font color=\"#21618C\">\n",
        "                    <b>8. Does the transformation of variable 'citric acid' affect the performance of prediction model?</b>\n",
        "                </font>\n",
        "            </div>\n",
        "        </td>\n",
        "    </tr>\n",
        "</table>"
      ]
    },
    {
      "cell_type": "code",
      "metadata": {
        "id": "IsTc_uGjkVPL",
        "colab": {
          "base_uri": "https://localhost:8080/",
          "height": 334
        },
        "outputId": "1466ab07-42c4-480b-fbb6-72a52a3b0f9e"
      },
      "source": [
        "sns.distplot(df2['citric acid'])\r\n",
        "plt.show()"
      ],
      "execution_count": 31,
      "outputs": [
        {
          "output_type": "stream",
          "text": [
            "/usr/local/lib/python3.6/dist-packages/seaborn/distributions.py:2557: FutureWarning: `distplot` is a deprecated function and will be removed in a future version. Please adapt your code to use either `displot` (a figure-level function with similar flexibility) or `histplot` (an axes-level function for histograms).\n",
            "  warnings.warn(msg, FutureWarning)\n"
          ],
          "name": "stderr"
        },
        {
          "output_type": "display_data",
          "data": {
            "image/png": "[encoded data removed]",
            "text/plain": [
              "<Figure size 432x288 with 1 Axes>"
            ]
          },
          "metadata": {
            "tags": [],
            "needs_background": "light"
          }
        }
      ]
    },
    {
      "cell_type": "code",
      "metadata": {
        "id": "hdaQZHA9d2f-"
      },
      "source": [
        "# we can do a log transform and see. "
      ],
      "execution_count": 32,
      "outputs": []
    },
    {
      "cell_type": "code",
      "metadata": {
        "id": "vmcZNDxwd2jm",
        "colab": {
          "base_uri": "https://localhost:8080/",
          "height": 197
        },
        "outputId": "8412d29e-240c-4c7a-a699-15e98ba73eeb"
      },
      "source": [
        "df2.head()"
      ],
      "execution_count": 45,
      "outputs": [
        {
          "output_type": "execute_result",
          "data": {
            "text/html": [
              "<div>\n",
              "<style scoped>\n",
              "    .dataframe tbody tr th:only-of-type {\n",
              "        vertical-align: middle;\n",
              "    }\n",
              "\n",
              "    .dataframe tbody tr th {\n",
              "        vertical-align: top;\n",
              "    }\n",
              "\n",
              "    .dataframe thead th {\n",
              "        text-align: right;\n",
              "    }\n",
              "</style>\n",
              "<table border=\"1\" class=\"dataframe\">\n",
              "  <thead>\n",
              "    <tr style=\"text-align: right;\">\n",
              "      <th></th>\n",
              "      <th>fixed acidity</th>\n",
              "      <th>volatile acidity</th>\n",
              "      <th>citric acid</th>\n",
              "      <th>residual sugar</th>\n",
              "      <th>chlorides</th>\n",
              "      <th>free sulfur dioxide</th>\n",
              "      <th>total sulfur dioxide</th>\n",
              "      <th>density</th>\n",
              "      <th>pH</th>\n",
              "      <th>sulphates</th>\n",
              "      <th>alcohol</th>\n",
              "      <th>quality</th>\n",
              "    </tr>\n",
              "  </thead>\n",
              "  <tbody>\n",
              "    <tr>\n",
              "      <th>0</th>\n",
              "      <td>7.0</td>\n",
              "      <td>0.27</td>\n",
              "      <td>0.36</td>\n",
              "      <td>20.7</td>\n",
              "      <td>0.045</td>\n",
              "      <td>45.0</td>\n",
              "      <td>170.0</td>\n",
              "      <td>1.0010</td>\n",
              "      <td>3.00</td>\n",
              "      <td>0.45</td>\n",
              "      <td>8.8</td>\n",
              "      <td>6.0</td>\n",
              "    </tr>\n",
              "    <tr>\n",
              "      <th>1</th>\n",
              "      <td>6.3</td>\n",
              "      <td>0.30</td>\n",
              "      <td>0.34</td>\n",
              "      <td>1.6</td>\n",
              "      <td>0.049</td>\n",
              "      <td>14.0</td>\n",
              "      <td>132.0</td>\n",
              "      <td>0.9940</td>\n",
              "      <td>3.30</td>\n",
              "      <td>0.49</td>\n",
              "      <td>9.5</td>\n",
              "      <td>6.0</td>\n",
              "    </tr>\n",
              "    <tr>\n",
              "      <th>2</th>\n",
              "      <td>8.1</td>\n",
              "      <td>0.28</td>\n",
              "      <td>0.40</td>\n",
              "      <td>6.9</td>\n",
              "      <td>0.050</td>\n",
              "      <td>30.0</td>\n",
              "      <td>97.0</td>\n",
              "      <td>0.9951</td>\n",
              "      <td>3.26</td>\n",
              "      <td>0.44</td>\n",
              "      <td>10.1</td>\n",
              "      <td>6.0</td>\n",
              "    </tr>\n",
              "    <tr>\n",
              "      <th>3</th>\n",
              "      <td>7.2</td>\n",
              "      <td>0.23</td>\n",
              "      <td>0.32</td>\n",
              "      <td>8.5</td>\n",
              "      <td>0.058</td>\n",
              "      <td>47.0</td>\n",
              "      <td>186.0</td>\n",
              "      <td>0.9956</td>\n",
              "      <td>3.19</td>\n",
              "      <td>0.40</td>\n",
              "      <td>9.9</td>\n",
              "      <td>6.0</td>\n",
              "    </tr>\n",
              "    <tr>\n",
              "      <th>4</th>\n",
              "      <td>7.2</td>\n",
              "      <td>0.23</td>\n",
              "      <td>0.32</td>\n",
              "      <td>8.5</td>\n",
              "      <td>0.058</td>\n",
              "      <td>47.0</td>\n",
              "      <td>186.0</td>\n",
              "      <td>0.9956</td>\n",
              "      <td>3.19</td>\n",
              "      <td>0.40</td>\n",
              "      <td>9.9</td>\n",
              "      <td>6.0</td>\n",
              "    </tr>\n",
              "  </tbody>\n",
              "</table>\n",
              "</div>"
            ],
            "text/plain": [
              "   fixed acidity  volatile acidity  citric acid  ...  sulphates  alcohol  quality\n",
              "0            7.0              0.27         0.36  ...       0.45      8.8      6.0\n",
              "1            6.3              0.30         0.34  ...       0.49      9.5      6.0\n",
              "2            8.1              0.28         0.40  ...       0.44     10.1      6.0\n",
              "3            7.2              0.23         0.32  ...       0.40      9.9      6.0\n",
              "4            7.2              0.23         0.32  ...       0.40      9.9      6.0\n",
              "\n",
              "[5 rows x 12 columns]"
            ]
          },
          "metadata": {
            "tags": []
          },
          "execution_count": 45
        }
      ]
    },
    {
      "cell_type": "code",
      "metadata": {
        "colab": {
          "base_uri": "https://localhost:8080/",
          "height": 197
        },
        "id": "b985stAKHuyq",
        "outputId": "40b64a54-942b-46f8-c12d-91b855ae88e3"
      },
      "source": [
        "df_r = df2.copy()\r\n",
        "df_r['tr_citric'] = np.log1p(df_r['citric acid'])\r\n",
        "df_r.drop({'citric acid'}, axis=1, inplace= True)\r\n",
        "df_r.head()"
      ],
      "execution_count": 46,
      "outputs": [
        {
          "output_type": "execute_result",
          "data": {
            "text/html": [
              "<div>\n",
              "<style scoped>\n",
              "    .dataframe tbody tr th:only-of-type {\n",
              "        vertical-align: middle;\n",
              "    }\n",
              "\n",
              "    .dataframe tbody tr th {\n",
              "        vertical-align: top;\n",
              "    }\n",
              "\n",
              "    .dataframe thead th {\n",
              "        text-align: right;\n",
              "    }\n",
              "</style>\n",
              "<table border=\"1\" class=\"dataframe\">\n",
              "  <thead>\n",
              "    <tr style=\"text-align: right;\">\n",
              "      <th></th>\n",
              "      <th>fixed acidity</th>\n",
              "      <th>volatile acidity</th>\n",
              "      <th>residual sugar</th>\n",
              "      <th>chlorides</th>\n",
              "      <th>free sulfur dioxide</th>\n",
              "      <th>total sulfur dioxide</th>\n",
              "      <th>density</th>\n",
              "      <th>pH</th>\n",
              "      <th>sulphates</th>\n",
              "      <th>alcohol</th>\n",
              "      <th>quality</th>\n",
              "      <th>tr_citric</th>\n",
              "    </tr>\n",
              "  </thead>\n",
              "  <tbody>\n",
              "    <tr>\n",
              "      <th>0</th>\n",
              "      <td>7.0</td>\n",
              "      <td>0.27</td>\n",
              "      <td>20.7</td>\n",
              "      <td>0.045</td>\n",
              "      <td>45.0</td>\n",
              "      <td>170.0</td>\n",
              "      <td>1.0010</td>\n",
              "      <td>3.00</td>\n",
              "      <td>0.45</td>\n",
              "      <td>8.8</td>\n",
              "      <td>6.0</td>\n",
              "      <td>0.307485</td>\n",
              "    </tr>\n",
              "    <tr>\n",
              "      <th>1</th>\n",
              "      <td>6.3</td>\n",
              "      <td>0.30</td>\n",
              "      <td>1.6</td>\n",
              "      <td>0.049</td>\n",
              "      <td>14.0</td>\n",
              "      <td>132.0</td>\n",
              "      <td>0.9940</td>\n",
              "      <td>3.30</td>\n",
              "      <td>0.49</td>\n",
              "      <td>9.5</td>\n",
              "      <td>6.0</td>\n",
              "      <td>0.292670</td>\n",
              "    </tr>\n",
              "    <tr>\n",
              "      <th>2</th>\n",
              "      <td>8.1</td>\n",
              "      <td>0.28</td>\n",
              "      <td>6.9</td>\n",
              "      <td>0.050</td>\n",
              "      <td>30.0</td>\n",
              "      <td>97.0</td>\n",
              "      <td>0.9951</td>\n",
              "      <td>3.26</td>\n",
              "      <td>0.44</td>\n",
              "      <td>10.1</td>\n",
              "      <td>6.0</td>\n",
              "      <td>0.336472</td>\n",
              "    </tr>\n",
              "    <tr>\n",
              "      <th>3</th>\n",
              "      <td>7.2</td>\n",
              "      <td>0.23</td>\n",
              "      <td>8.5</td>\n",
              "      <td>0.058</td>\n",
              "      <td>47.0</td>\n",
              "      <td>186.0</td>\n",
              "      <td>0.9956</td>\n",
              "      <td>3.19</td>\n",
              "      <td>0.40</td>\n",
              "      <td>9.9</td>\n",
              "      <td>6.0</td>\n",
              "      <td>0.277632</td>\n",
              "    </tr>\n",
              "    <tr>\n",
              "      <th>4</th>\n",
              "      <td>7.2</td>\n",
              "      <td>0.23</td>\n",
              "      <td>8.5</td>\n",
              "      <td>0.058</td>\n",
              "      <td>47.0</td>\n",
              "      <td>186.0</td>\n",
              "      <td>0.9956</td>\n",
              "      <td>3.19</td>\n",
              "      <td>0.40</td>\n",
              "      <td>9.9</td>\n",
              "      <td>6.0</td>\n",
              "      <td>0.277632</td>\n",
              "    </tr>\n",
              "  </tbody>\n",
              "</table>\n",
              "</div>"
            ],
            "text/plain": [
              "   fixed acidity  volatile acidity  residual sugar  ...  alcohol  quality  tr_citric\n",
              "0            7.0              0.27            20.7  ...      8.8      6.0   0.307485\n",
              "1            6.3              0.30             1.6  ...      9.5      6.0   0.292670\n",
              "2            8.1              0.28             6.9  ...     10.1      6.0   0.336472\n",
              "3            7.2              0.23             8.5  ...      9.9      6.0   0.277632\n",
              "4            7.2              0.23             8.5  ...      9.9      6.0   0.277632\n",
              "\n",
              "[5 rows x 12 columns]"
            ]
          },
          "metadata": {
            "tags": []
          },
          "execution_count": 46
        }
      ]
    },
    {
      "cell_type": "code",
      "metadata": {
        "colab": {
          "base_uri": "https://localhost:8080/"
        },
        "id": "VjEArJXgHu2J",
        "outputId": "573ac8ce-cca4-4328-a9a0-056df22f7fe8"
      },
      "source": [
        "xc= sm.add_constant(df_r.loc[:, df_r.columns != 'quality'])\r\n",
        "md= sm.OLS(df_r['quality'], xc).fit()\r\n",
        "print(md.summary())"
      ],
      "execution_count": 47,
      "outputs": [
        {
          "output_type": "stream",
          "text": [
            "                            OLS Regression Results                            \n",
            "==============================================================================\n",
            "Dep. Variable:                quality   R-squared:                       0.282\n",
            "Model:                            OLS   Adj. R-squared:                  0.280\n",
            "Method:                 Least Squares   F-statistic:                     174.4\n",
            "Date:                Sat, 30 Jan 2021   Prob (F-statistic):               0.00\n",
            "Time:                        02:30:46   Log-Likelihood:                -5543.5\n",
            "No. Observations:                4898   AIC:                         1.111e+04\n",
            "Df Residuals:                    4886   BIC:                         1.119e+04\n",
            "Df Model:                          11                                         \n",
            "Covariance Type:            nonrobust                                         \n",
            "========================================================================================\n",
            "                           coef    std err          t      P>|t|      [0.025      0.975]\n",
            "----------------------------------------------------------------------------------------\n",
            "const                  150.8039     18.803      8.020      0.000     113.942     187.666\n",
            "fixed acidity            0.0641      0.021      3.069      0.002       0.023       0.105\n",
            "volatile acidity        -1.8512      0.114    -16.182      0.000      -2.076      -1.627\n",
            "residual sugar           0.0816      0.008     10.847      0.000       0.067       0.096\n",
            "chlorides               -0.2756      0.547     -0.504      0.614      -1.347       0.796\n",
            "free sulfur dioxide      0.0037      0.001      4.407      0.000       0.002       0.005\n",
            "total sulfur dioxide    -0.0003      0.000     -0.780      0.435      -0.001       0.000\n",
            "density               -150.9100     19.074     -7.912      0.000    -188.303    -113.517\n",
            "pH                       0.6906      0.105      6.553      0.000       0.484       0.897\n",
            "sulphates                0.6292      0.100      6.267      0.000       0.432       0.826\n",
            "alcohol                  0.1922      0.024      7.932      0.000       0.145       0.240\n",
            "tr_citric                0.0957      0.134      0.717      0.474      -0.166       0.357\n",
            "==============================================================================\n",
            "Omnibus:                      114.465   Durbin-Watson:                   1.620\n",
            "Prob(Omnibus):                  0.000   Jarque-Bera (JB):              252.384\n",
            "Skew:                           0.074   Prob(JB):                     1.57e-55\n",
            "Kurtosis:                       4.102   Cond. No.                     3.74e+05\n",
            "==============================================================================\n",
            "\n",
            "Warnings:\n",
            "[1] Standard Errors assume that the covariance matrix of the errors is correctly specified.\n",
            "[2] The condition number is large, 3.74e+05. This might indicate that there are\n",
            "strong multicollinearity or other numerical problems.\n"
          ],
          "name": "stdout"
        }
      ]
    },
    {
      "cell_type": "code",
      "metadata": {
        "id": "5J8sw19qHu5T"
      },
      "source": [
        "# Still insignificant. \r\n",
        "\r\n",
        "# transformation did not help. no improve in overall model performance"
      ],
      "execution_count": 48,
      "outputs": []
    },
    {
      "cell_type": "code",
      "metadata": {
        "id": "iZ8pQm7WHvEc"
      },
      "source": [
        ""
      ],
      "execution_count": null,
      "outputs": []
    },
    {
      "cell_type": "code",
      "metadata": {
        "id": "UEnvQ8YqHvam"
      },
      "source": [
        ""
      ],
      "execution_count": null,
      "outputs": []
    },
    {
      "cell_type": "code",
      "metadata": {
        "id": "ARilBvI3d2q4"
      },
      "source": [
        ""
      ],
      "execution_count": 32,
      "outputs": []
    },
    {
      "cell_type": "markdown",
      "metadata": {
        "collapsed": true,
        "id": "kpZsmoiTkVPM"
      },
      "source": [
        "<table align=\"left\">\n",
        "    <tr>\n",
        "        <td width=\"6%\">\n",
        "            <img src=\"question_icon.png\">\n",
        "        </td>\n",
        "        <td>\n",
        "            <div align=\"left\", style=\"font-size:120%\">\n",
        "                <font color=\"#21618C\">\n",
        "                    <b>9. Fit a full model. Check whether variable has linear relationship with the wine quality<br></b>\n",
        "                </font>\n",
        "            </div>\n",
        "        </td>\n",
        "    </tr>\n",
        "</table>"
      ]
    },
    {
      "cell_type": "code",
      "metadata": {
        "id": "VLInp_4DOmbl"
      },
      "source": [
        "qual = df2['quality']\r\n",
        "df2.drop({'quality'}, axis=1, inplace= True)"
      ],
      "execution_count": 54,
      "outputs": []
    },
    {
      "cell_type": "code",
      "metadata": {
        "colab": {
          "base_uri": "https://localhost:8080/"
        },
        "id": "eMDm2STAK4uq",
        "outputId": "e492167b-5399-4ba2-880f-eb78c19f7837"
      },
      "source": [
        "xc= sm.add_constant(df2.loc[:, df2.columns!= 'quality'])\r\n",
        "md= sm.OLS(df2['quality'], xc).fit()\r\n",
        "print(md.summary())"
      ],
      "execution_count": 49,
      "outputs": [
        {
          "output_type": "stream",
          "text": [
            "                            OLS Regression Results                            \n",
            "==============================================================================\n",
            "Dep. Variable:                quality   R-squared:                       0.282\n",
            "Model:                            OLS   Adj. R-squared:                  0.280\n",
            "Method:                 Least Squares   F-statistic:                     174.3\n",
            "Date:                Sat, 30 Jan 2021   Prob (F-statistic):               0.00\n",
            "Time:                        02:43:25   Log-Likelihood:                -5543.7\n",
            "No. Observations:                4898   AIC:                         1.111e+04\n",
            "Df Residuals:                    4886   BIC:                         1.119e+04\n",
            "Df Model:                          11                                         \n",
            "Covariance Type:            nonrobust                                         \n",
            "========================================================================================\n",
            "                           coef    std err          t      P>|t|      [0.025      0.975]\n",
            "----------------------------------------------------------------------------------------\n",
            "const                  150.1928     18.804      7.987      0.000     113.328     187.057\n",
            "fixed acidity            0.0655      0.021      3.139      0.002       0.025       0.106\n",
            "volatile acidity        -1.8632      0.114    -16.373      0.000      -2.086      -1.640\n",
            "citric acid              0.0221      0.096      0.231      0.818      -0.166       0.210\n",
            "residual sugar           0.0815      0.008     10.825      0.000       0.067       0.096\n",
            "chlorides               -0.2473      0.547     -0.452      0.651      -1.319       0.824\n",
            "free sulfur dioxide      0.0037      0.001      4.422      0.000       0.002       0.005\n",
            "total sulfur dioxide    -0.0003      0.000     -0.756      0.450      -0.001       0.000\n",
            "density               -150.2842     19.075     -7.879      0.000    -187.679    -112.890\n",
            "pH                       0.6863      0.105      6.513      0.000       0.480       0.893\n",
            "sulphates                0.6315      0.100      6.291      0.000       0.435       0.828\n",
            "alcohol                  0.1935      0.024      7.988      0.000       0.146       0.241\n",
            "==============================================================================\n",
            "Omnibus:                      114.161   Durbin-Watson:                   1.621\n",
            "Prob(Omnibus):                  0.000   Jarque-Bera (JB):              251.637\n",
            "Skew:                           0.073   Prob(JB):                     2.28e-55\n",
            "Kurtosis:                       4.101   Cond. No.                     3.74e+05\n",
            "==============================================================================\n",
            "\n",
            "Warnings:\n",
            "[1] Standard Errors assume that the covariance matrix of the errors is correctly specified.\n",
            "[2] The condition number is large, 3.74e+05. This might indicate that there are\n",
            "strong multicollinearity or other numerical problems.\n"
          ],
          "name": "stdout"
        }
      ]
    },
    {
      "cell_type": "code",
      "metadata": {
        "colab": {
          "base_uri": "https://localhost:8080/",
          "height": 264
        },
        "id": "Iu8J2P1xLIcQ",
        "outputId": "013e6f02-5f01-448d-e1f2-6dddcde1c3f5"
      },
      "source": [
        "y_r = md.predict(xc)\r\n",
        "sns.regplot(x=y_r, y=qual, lowess=True, line_kws={'color': 'red'})\r\n",
        "plt.show()"
      ],
      "execution_count": 57,
      "outputs": [
        {
          "output_type": "display_data",
          "data": {
            "image/png": "[encoded data removed]",
            "text/plain": [
              "<Figure size 432x288 with 1 Axes>"
            ]
          },
          "metadata": {
            "tags": [],
            "needs_background": "light"
          }
        }
      ]
    },
    {
      "cell_type": "code",
      "metadata": {
        "id": "G3wE5xKBPnaB"
      },
      "source": [
        "# SInce p value of rainbow test is more than 0.05, we fail to reject the null hypothesis. model linearity can be explained by the cental values "
      ],
      "execution_count": null,
      "outputs": []
    },
    {
      "cell_type": "code",
      "metadata": {
        "id": "ebcOPQxhkVPM",
        "colab": {
          "base_uri": "https://localhost:8080/"
        },
        "outputId": "fcd8d244-5e3b-42c8-9758-ae0375121f13"
      },
      "source": [
        "sm.stats.diagnostic.linear_rainbow(md)"
      ],
      "execution_count": 53,
      "outputs": [
        {
          "output_type": "execute_result",
          "data": {
            "text/plain": [
              "(1.060162525521696, 0.07444168579081581)"
            ]
          },
          "metadata": {
            "tags": []
          },
          "execution_count": 53
        }
      ]
    },
    {
      "cell_type": "markdown",
      "metadata": {
        "id": "qRfH8XpVkVPN"
      },
      "source": [
        "<a id=\"sel\"> </a>\n",
        "## 2. Feature Selection"
      ]
    },
    {
      "cell_type": "markdown",
      "metadata": {
        "collapsed": true,
        "id": "Zzqg5hJNkVPO"
      },
      "source": [
        "<table align=\"left\">\n",
        "    <tr>\n",
        "        <td width=\"6%\">\n",
        "            <img src=\"question_icon.png\">\n",
        "        </td>\n",
        "        <td>\n",
        "            <div align=\"left\", style=\"font-size:120%\">\n",
        "                <font color=\"#21618C\">\n",
        "                    <b>10. Find the top five significant variables from the dataset using forward selection technique. Also display the R-squared score for the model built using these five variables.</b>\n",
        "                </font>\n",
        "            </div>\n",
        "        </td>\n",
        "    </tr>\n",
        "</table>"
      ]
    },
    {
      "cell_type": "code",
      "metadata": {
        "id": "iO0bxd4vkVPP"
      },
      "source": [
        "# SFS\r\n",
        "\r\n",
        "from mlxtend.feature_selection import SequentialFeatureSelector as sfs"
      ],
      "execution_count": 58,
      "outputs": []
    },
    {
      "cell_type": "code",
      "metadata": {
        "colab": {
          "base_uri": "https://localhost:8080/"
        },
        "id": "3DVNgD5BQvDz",
        "outputId": "20616823-be9c-4445-9b80-1d1bc7bfd9c0"
      },
      "source": [
        "\r\n",
        "\r\n",
        "from sklearn.linear_model import LinearRegression\r\n",
        "ar = LinearRegression()\r\n",
        "sfs_ = sfs(ar, k_features=5, cv=3 ,n_jobs=-1)\r\n",
        "sfs_.fit(df2, qual)"
      ],
      "execution_count": 114,
      "outputs": [
        {
          "output_type": "execute_result",
          "data": {
            "text/plain": [
              "SequentialFeatureSelector(clone_estimator=True, cv=3,\n",
              "                          estimator=LinearRegression(copy_X=True,\n",
              "                                                     fit_intercept=True,\n",
              "                                                     n_jobs=None,\n",
              "                                                     normalize=False),\n",
              "                          floating=False, forward=True, k_features=5, n_jobs=-1,\n",
              "                          pre_dispatch='2*n_jobs', scoring=None, verbose=0)"
            ]
          },
          "metadata": {
            "tags": []
          },
          "execution_count": 114
        }
      ]
    },
    {
      "cell_type": "code",
      "metadata": {
        "colab": {
          "base_uri": "https://localhost:8080/",
          "height": 201
        },
        "id": "tdoS-rcgSsQp",
        "outputId": "75eca5ee-779f-4da0-9405-e6d4ba503882"
      },
      "source": [
        "pd.DataFrame(sfs_.subsets_)"
      ],
      "execution_count": 62,
      "outputs": [
        {
          "output_type": "execute_result",
          "data": {
            "text/html": [
              "<div>\n",
              "<style scoped>\n",
              "    .dataframe tbody tr th:only-of-type {\n",
              "        vertical-align: middle;\n",
              "    }\n",
              "\n",
              "    .dataframe tbody tr th {\n",
              "        vertical-align: top;\n",
              "    }\n",
              "\n",
              "    .dataframe thead th {\n",
              "        text-align: right;\n",
              "    }\n",
              "</style>\n",
              "<table border=\"1\" class=\"dataframe\">\n",
              "  <thead>\n",
              "    <tr style=\"text-align: right;\">\n",
              "      <th></th>\n",
              "      <th>1</th>\n",
              "      <th>2</th>\n",
              "      <th>3</th>\n",
              "      <th>4</th>\n",
              "      <th>5</th>\n",
              "    </tr>\n",
              "  </thead>\n",
              "  <tbody>\n",
              "    <tr>\n",
              "      <th>feature_idx</th>\n",
              "      <td>(10,)</td>\n",
              "      <td>(1, 10)</td>\n",
              "      <td>(1, 3, 10)</td>\n",
              "      <td>(1, 3, 9, 10)</td>\n",
              "      <td>(1, 3, 5, 9, 10)</td>\n",
              "    </tr>\n",
              "    <tr>\n",
              "      <th>cv_scores</th>\n",
              "      <td>[0.16574618114101625, 0.20917912605444067, 0.1...</td>\n",
              "      <td>[0.21385833173588997, 0.23852024663773108, 0.2...</td>\n",
              "      <td>[0.2022050407706667, 0.26510556487096437, 0.25...</td>\n",
              "      <td>[0.2051433432036156, 0.27069449023626424, 0.25...</td>\n",
              "      <td>[0.21122032123102397, 0.27693899742367056, 0.2...</td>\n",
              "    </tr>\n",
              "    <tr>\n",
              "      <th>avg_score</th>\n",
              "      <td>0.176708</td>\n",
              "      <td>0.229091</td>\n",
              "      <td>0.242409</td>\n",
              "      <td>0.243901</td>\n",
              "      <td>0.244463</td>\n",
              "    </tr>\n",
              "    <tr>\n",
              "      <th>feature_names</th>\n",
              "      <td>(alcohol,)</td>\n",
              "      <td>(volatile acidity, alcohol)</td>\n",
              "      <td>(volatile acidity, residual sugar, alcohol)</td>\n",
              "      <td>(volatile acidity, residual sugar, sulphates, ...</td>\n",
              "      <td>(volatile acidity, residual sugar, free sulfur...</td>\n",
              "    </tr>\n",
              "  </tbody>\n",
              "</table>\n",
              "</div>"
            ],
            "text/plain": [
              "                                                               1  ...                                                  5\n",
              "feature_idx                                                (10,)  ...                                   (1, 3, 5, 9, 10)\n",
              "cv_scores      [0.16574618114101625, 0.20917912605444067, 0.1...  ...  [0.21122032123102397, 0.27693899742367056, 0.2...\n",
              "avg_score                                               0.176708  ...                                           0.244463\n",
              "feature_names                                         (alcohol,)  ...  (volatile acidity, residual sugar, free sulfur...\n",
              "\n",
              "[4 rows x 5 columns]"
            ]
          },
          "metadata": {
            "tags": []
          },
          "execution_count": 62
        }
      ]
    },
    {
      "cell_type": "code",
      "metadata": {
        "colab": {
          "base_uri": "https://localhost:8080/"
        },
        "id": "fDp-QRMNSsaK",
        "outputId": "d4676015-6abf-4e58-b8a9-622d75b2362b"
      },
      "source": [
        "\r\n",
        "# 5 top selected columns\r\n",
        "\r\n",
        "sfs_.k_feature_names_"
      ],
      "execution_count": 115,
      "outputs": [
        {
          "output_type": "execute_result",
          "data": {
            "text/plain": [
              "('volatile acidity',\n",
              " 'residual sugar',\n",
              " 'free sulfur dioxide',\n",
              " 'sulphates',\n",
              " 'alcohol')"
            ]
          },
          "metadata": {
            "tags": []
          },
          "execution_count": 115
        }
      ]
    },
    {
      "cell_type": "code",
      "metadata": {
        "colab": {
          "base_uri": "https://localhost:8080/"
        },
        "id": "G0PI2bhSSsh2",
        "outputId": "63205cd3-2ba2-40a4-d365-9b776402e015"
      },
      "source": [
        "rtr= df2[list(sfs_.k_feature_names_)]\r\n",
        "xc= sm.add_constant(rtr)\r\n",
        "md= sm.OLS(qual, xc).fit()\r\n",
        "print(md.summary())"
      ],
      "execution_count": 116,
      "outputs": [
        {
          "output_type": "stream",
          "text": [
            "                            OLS Regression Results                            \n",
            "==============================================================================\n",
            "Dep. Variable:                quality   R-squared:                       0.267\n",
            "Model:                            OLS   Adj. R-squared:                  0.266\n",
            "Method:                 Least Squares   F-statistic:                     356.2\n",
            "Date:                Sat, 30 Jan 2021   Prob (F-statistic):               0.00\n",
            "Time:                        05:20:38   Log-Likelihood:                -5594.3\n",
            "No. Observations:                4898   AIC:                         1.120e+04\n",
            "Df Residuals:                    4892   BIC:                         1.124e+04\n",
            "Df Model:                           5                                         \n",
            "Covariance Type:            nonrobust                                         \n",
            "=======================================================================================\n",
            "                          coef    std err          t      P>|t|      [0.025      0.975]\n",
            "---------------------------------------------------------------------------------------\n",
            "const                   1.9193      0.129     14.904      0.000       1.667       2.172\n",
            "volatile acidity       -2.0236      0.109    -18.547      0.000      -2.237      -1.810\n",
            "residual sugar          0.0238      0.002      9.596      0.000       0.019       0.029\n",
            "free sulfur dioxide     0.0039      0.001      5.749      0.000       0.003       0.005\n",
            "sulphates               0.4184      0.095      4.389      0.000       0.231       0.605\n",
            "alcohol                 0.3830      0.010     38.274      0.000       0.363       0.403\n",
            "==============================================================================\n",
            "Omnibus:                      104.067   Durbin-Watson:                   1.634\n",
            "Prob(Omnibus):                  0.000   Jarque-Bera (JB):              223.926\n",
            "Skew:                           0.050   Prob(JB):                     2.37e-49\n",
            "Kurtosis:                       4.043   Cond. No.                         527.\n",
            "==============================================================================\n",
            "\n",
            "Warnings:\n",
            "[1] Standard Errors assume that the covariance matrix of the errors is correctly specified.\n"
          ],
          "name": "stdout"
        }
      ]
    },
    {
      "cell_type": "code",
      "metadata": {
        "id": "lhUQRwswvGBj"
      },
      "source": [
        "# score is 26.6 percent."
      ],
      "execution_count": null,
      "outputs": []
    },
    {
      "cell_type": "code",
      "metadata": {
        "id": "8imWaCxdvGEm"
      },
      "source": [
        ""
      ],
      "execution_count": null,
      "outputs": []
    },
    {
      "cell_type": "markdown",
      "metadata": {
        "collapsed": true,
        "id": "LlW8RtVhkVPQ"
      },
      "source": [
        "<table align=\"left\">\n",
        "    <tr>\n",
        "        <td width=\"6%\">\n",
        "            <img src=\"question_icon.png\">\n",
        "        </td>\n",
        "        <td>\n",
        "            <div align=\"left\", style=\"font-size:120%\">\n",
        "                <font color=\"#21618C\">\n",
        "                        <b>11. Find the top five significant variables from the dataset using backward elimination technique. Also display the R-squared score for the model built using these five variables.<br><br> Compare the R-squared value obtained from question 10 with the value obtained using backward elimination.</b>\n",
        "                </font>\n",
        "            </div>\n",
        "        </td>\n",
        "    </tr>\n",
        "</table>"
      ]
    },
    {
      "cell_type": "code",
      "metadata": {
        "id": "MM1EmA8QkVPR",
        "colab": {
          "base_uri": "https://localhost:8080/"
        },
        "outputId": "fb1da0bd-930a-49d3-9acf-5623ab5e9890"
      },
      "source": [
        "from sklearn.feature_selection import RFE\r\n",
        "ar = LinearRegression()\r\n",
        "rfe_ = RFE(ar, n_features_to_select = 5)\r\n",
        "rfe_.fit(df2, qual)"
      ],
      "execution_count": 75,
      "outputs": [
        {
          "output_type": "execute_result",
          "data": {
            "text/plain": [
              "RFE(estimator=LinearRegression(copy_X=True, fit_intercept=True, n_jobs=None,\n",
              "                               normalize=False),\n",
              "    n_features_to_select=5, step=1, verbose=0)"
            ]
          },
          "metadata": {
            "tags": []
          },
          "execution_count": 75
        }
      ]
    },
    {
      "cell_type": "code",
      "metadata": {
        "id": "-OKlVcmoZaWa"
      },
      "source": [
        "al = pd.DataFrame(rfe_.ranking_, index=df2.columns, columns=['ranks'])"
      ],
      "execution_count": 78,
      "outputs": []
    },
    {
      "cell_type": "code",
      "metadata": {
        "colab": {
          "base_uri": "https://localhost:8080/",
          "height": 197
        },
        "id": "xNOfnZfwaFih",
        "outputId": "e2e23c03-ae26-4bf9-e384-85e528854363"
      },
      "source": [
        "al.loc[al['ranks'] == 1]"
      ],
      "execution_count": 79,
      "outputs": [
        {
          "output_type": "execute_result",
          "data": {
            "text/html": [
              "<div>\n",
              "<style scoped>\n",
              "    .dataframe tbody tr th:only-of-type {\n",
              "        vertical-align: middle;\n",
              "    }\n",
              "\n",
              "    .dataframe tbody tr th {\n",
              "        vertical-align: top;\n",
              "    }\n",
              "\n",
              "    .dataframe thead th {\n",
              "        text-align: right;\n",
              "    }\n",
              "</style>\n",
              "<table border=\"1\" class=\"dataframe\">\n",
              "  <thead>\n",
              "    <tr style=\"text-align: right;\">\n",
              "      <th></th>\n",
              "      <th>ranks</th>\n",
              "    </tr>\n",
              "  </thead>\n",
              "  <tbody>\n",
              "    <tr>\n",
              "      <th>volatile acidity</th>\n",
              "      <td>1</td>\n",
              "    </tr>\n",
              "    <tr>\n",
              "      <th>chlorides</th>\n",
              "      <td>1</td>\n",
              "    </tr>\n",
              "    <tr>\n",
              "      <th>density</th>\n",
              "      <td>1</td>\n",
              "    </tr>\n",
              "    <tr>\n",
              "      <th>sulphates</th>\n",
              "      <td>1</td>\n",
              "    </tr>\n",
              "    <tr>\n",
              "      <th>alcohol</th>\n",
              "      <td>1</td>\n",
              "    </tr>\n",
              "  </tbody>\n",
              "</table>\n",
              "</div>"
            ],
            "text/plain": [
              "                  ranks\n",
              "volatile acidity      1\n",
              "chlorides             1\n",
              "density               1\n",
              "sulphates             1\n",
              "alcohol               1"
            ]
          },
          "metadata": {
            "tags": []
          },
          "execution_count": 79
        }
      ]
    },
    {
      "cell_type": "code",
      "metadata": {
        "colab": {
          "base_uri": "https://localhost:8080/",
          "height": 197
        },
        "id": "iR0xPl7naiUo",
        "outputId": "a143bdf8-264a-432b-a6e1-e37ec1e0a119"
      },
      "source": [
        "rr= al.loc[al['ranks'] == 1].index\r\n",
        "df_new= df2[rr]\r\n",
        "df_new.head()"
      ],
      "execution_count": 81,
      "outputs": [
        {
          "output_type": "execute_result",
          "data": {
            "text/html": [
              "<div>\n",
              "<style scoped>\n",
              "    .dataframe tbody tr th:only-of-type {\n",
              "        vertical-align: middle;\n",
              "    }\n",
              "\n",
              "    .dataframe tbody tr th {\n",
              "        vertical-align: top;\n",
              "    }\n",
              "\n",
              "    .dataframe thead th {\n",
              "        text-align: right;\n",
              "    }\n",
              "</style>\n",
              "<table border=\"1\" class=\"dataframe\">\n",
              "  <thead>\n",
              "    <tr style=\"text-align: right;\">\n",
              "      <th></th>\n",
              "      <th>volatile acidity</th>\n",
              "      <th>chlorides</th>\n",
              "      <th>density</th>\n",
              "      <th>sulphates</th>\n",
              "      <th>alcohol</th>\n",
              "    </tr>\n",
              "  </thead>\n",
              "  <tbody>\n",
              "    <tr>\n",
              "      <th>0</th>\n",
              "      <td>0.27</td>\n",
              "      <td>0.045</td>\n",
              "      <td>1.0010</td>\n",
              "      <td>0.45</td>\n",
              "      <td>8.8</td>\n",
              "    </tr>\n",
              "    <tr>\n",
              "      <th>1</th>\n",
              "      <td>0.30</td>\n",
              "      <td>0.049</td>\n",
              "      <td>0.9940</td>\n",
              "      <td>0.49</td>\n",
              "      <td>9.5</td>\n",
              "    </tr>\n",
              "    <tr>\n",
              "      <th>2</th>\n",
              "      <td>0.28</td>\n",
              "      <td>0.050</td>\n",
              "      <td>0.9951</td>\n",
              "      <td>0.44</td>\n",
              "      <td>10.1</td>\n",
              "    </tr>\n",
              "    <tr>\n",
              "      <th>3</th>\n",
              "      <td>0.23</td>\n",
              "      <td>0.058</td>\n",
              "      <td>0.9956</td>\n",
              "      <td>0.40</td>\n",
              "      <td>9.9</td>\n",
              "    </tr>\n",
              "    <tr>\n",
              "      <th>4</th>\n",
              "      <td>0.23</td>\n",
              "      <td>0.058</td>\n",
              "      <td>0.9956</td>\n",
              "      <td>0.40</td>\n",
              "      <td>9.9</td>\n",
              "    </tr>\n",
              "  </tbody>\n",
              "</table>\n",
              "</div>"
            ],
            "text/plain": [
              "   volatile acidity  chlorides  density  sulphates  alcohol\n",
              "0              0.27      0.045   1.0010       0.45      8.8\n",
              "1              0.30      0.049   0.9940       0.49      9.5\n",
              "2              0.28      0.050   0.9951       0.44     10.1\n",
              "3              0.23      0.058   0.9956       0.40      9.9\n",
              "4              0.23      0.058   0.9956       0.40      9.9"
            ]
          },
          "metadata": {
            "tags": []
          },
          "execution_count": 81
        }
      ]
    },
    {
      "cell_type": "code",
      "metadata": {
        "colab": {
          "base_uri": "https://localhost:8080/"
        },
        "id": "tlOXAavTasEC",
        "outputId": "38de1379-4748-446f-d78d-a4de20455e03"
      },
      "source": [
        "xc= sm.add_constant(df_new)\r\n",
        "md= sm.OLS(qual, xc).fit()\r\n",
        "print(md.summary())"
      ],
      "execution_count": 82,
      "outputs": [
        {
          "output_type": "stream",
          "text": [
            "                            OLS Regression Results                            \n",
            "==============================================================================\n",
            "Dep. Variable:                quality   R-squared:                       0.250\n",
            "Model:                            OLS   Adj. R-squared:                  0.249\n",
            "Method:                 Least Squares   F-statistic:                     326.0\n",
            "Date:                Sat, 30 Jan 2021   Prob (F-statistic):          3.90e-302\n",
            "Time:                        03:52:21   Log-Likelihood:                -5650.4\n",
            "No. Observations:                4898   AIC:                         1.131e+04\n",
            "Df Residuals:                    4892   BIC:                         1.135e+04\n",
            "Df Model:                           5                                         \n",
            "Covariance Type:            nonrobust                                         \n",
            "====================================================================================\n",
            "                       coef    std err          t      P>|t|      [0.025      0.975]\n",
            "------------------------------------------------------------------------------------\n",
            "const              -33.4308      6.030     -5.544      0.000     -45.252     -21.610\n",
            "volatile acidity    -2.0230      0.111    -18.267      0.000      -2.240      -1.806\n",
            "chlorides           -1.3413      0.542     -2.476      0.013      -2.403      -0.279\n",
            "density             35.9256      5.950      6.037      0.000      24.260      47.591\n",
            "sulphates            0.3592      0.097      3.715      0.000       0.170       0.549\n",
            "alcohol              0.3848      0.015     25.626      0.000       0.355       0.414\n",
            "==============================================================================\n",
            "Omnibus:                       91.160   Durbin-Watson:                   1.626\n",
            "Prob(Omnibus):                  0.000   Jarque-Bera (JB):              186.654\n",
            "Skew:                           0.036   Prob(JB):                     2.94e-41\n",
            "Kurtosis:                       3.954   Cond. No.                     8.26e+03\n",
            "==============================================================================\n",
            "\n",
            "Warnings:\n",
            "[1] Standard Errors assume that the covariance matrix of the errors is correctly specified.\n",
            "[2] The condition number is large, 8.26e+03. This might indicate that there are\n",
            "strong multicollinearity or other numerical problems.\n"
          ],
          "name": "stdout"
        }
      ]
    },
    {
      "cell_type": "code",
      "metadata": {
        "id": "VhHk4oesasGm"
      },
      "source": [
        "# The scores are good but not that great compared to a model which takes input all the parameters."
      ],
      "execution_count": 83,
      "outputs": []
    },
    {
      "cell_type": "code",
      "metadata": {
        "id": "pn_uQuWKasN0"
      },
      "source": [
        ""
      ],
      "execution_count": null,
      "outputs": []
    },
    {
      "cell_type": "markdown",
      "metadata": {
        "collapsed": true,
        "id": "fqT24TskkVPR"
      },
      "source": [
        "<table align=\"left\">\n",
        "    <tr>\n",
        "        <td width=\"6%\">\n",
        "            <img src=\"question_icon.png\">\n",
        "        </td>\n",
        "        <td>\n",
        "            <div align=\"left\", style=\"font-size:120%\">\n",
        "                <font color=\"#21618C\">\n",
        "                    <b>12. Find the best set of significant variables from the dataset using forward selection technique such that the selected set should have 2 to 6 features. Also display the R-squared score for the model built using the selected variables</b>\n",
        "                </font>\n",
        "            </div>\n",
        "        </td>\n",
        "    </tr>\n",
        "</table>"
      ]
    },
    {
      "cell_type": "code",
      "metadata": {
        "id": "3l4nFCTWkVPS"
      },
      "source": [
        "ty= {}\r\n",
        "for i in range(2,7):\r\n",
        "  ar = LinearRegression()\r\n",
        "  sfs_ = sfs(ar, k_features=i, cv=3 ,n_jobs=-1)\r\n",
        "  sfs_.fit(df2, qual)\r\n",
        "  ty[i] = sfs_.k_feature_names_"
      ],
      "execution_count": 84,
      "outputs": []
    },
    {
      "cell_type": "code",
      "metadata": {
        "colab": {
          "base_uri": "https://localhost:8080/"
        },
        "id": "mjZm2sCCeSA-",
        "outputId": "2d033084-b742-41d5-f325-0985334343e3"
      },
      "source": [
        "ty"
      ],
      "execution_count": 85,
      "outputs": [
        {
          "output_type": "execute_result",
          "data": {
            "text/plain": [
              "{2: ('volatile acidity', 'alcohol'),\n",
              " 3: ('volatile acidity', 'residual sugar', 'alcohol'),\n",
              " 4: ('volatile acidity', 'residual sugar', 'sulphates', 'alcohol'),\n",
              " 5: ('volatile acidity',\n",
              "  'residual sugar',\n",
              "  'free sulfur dioxide',\n",
              "  'sulphates',\n",
              "  'alcohol'),\n",
              " 6: ('volatile acidity',\n",
              "  'residual sugar',\n",
              "  'free sulfur dioxide',\n",
              "  'total sulfur dioxide',\n",
              "  'sulphates',\n",
              "  'alcohol')}"
            ]
          },
          "metadata": {
            "tags": []
          },
          "execution_count": 85
        }
      ]
    },
    {
      "cell_type": "code",
      "metadata": {
        "colab": {
          "base_uri": "https://localhost:8080/"
        },
        "id": "Eq5XsxlzeSEv",
        "outputId": "97297e9f-72d5-4fba-cc1d-59fa59927444"
      },
      "source": [
        "for i in ty.values():\r\n",
        "  df_temp = df2[list(i)]\r\n",
        "  xc= sm.add_constant(df_temp)\r\n",
        "  md= sm.OLS(qual, xc).fit()\r\n",
        "  print(len(list(i)), md.rsquared)"
      ],
      "execution_count": 88,
      "outputs": [
        {
          "output_type": "stream",
          "text": [
            "2 0.2402311847533617\n",
            "3 0.25852615806597856\n",
            "4 0.26192831742556744\n",
            "5 0.26688090719411617\n",
            "6 0.2680124845073988\n"
          ],
          "name": "stdout"
        }
      ]
    },
    {
      "cell_type": "code",
      "metadata": {
        "id": "ecBcP_xSfIqs"
      },
      "source": [
        "# the best R2 is the model with the highest number of features- 6"
      ],
      "execution_count": 89,
      "outputs": []
    },
    {
      "cell_type": "markdown",
      "metadata": {
        "collapsed": true,
        "id": "QZJDzI2tkVPS"
      },
      "source": [
        "<table align=\"left\">\n",
        "    <tr>\n",
        "        <td width=\"6%\">\n",
        "            <img src=\"question_icon.png\">\n",
        "        </td>\n",
        "        <td>\n",
        "            <div align=\"left\", style=\"font-size:120%\">\n",
        "                <font color=\"#21618C\">\n",
        "                    <b>13. Find the best set of significant variables from the dataset using forward selection technique. Also display the R-squared score for the model built using the selected variables.</b>\n",
        "                </font>\n",
        "            </div>\n",
        "        </td>\n",
        "    </tr>\n",
        "</table>"
      ]
    },
    {
      "cell_type": "code",
      "metadata": {
        "id": "yqEDXCfckVPT",
        "colab": {
          "base_uri": "https://localhost:8080/"
        },
        "outputId": "b4e4f1c0-6f54-4f61-a204-299bd9c29579"
      },
      "source": [
        "# Using a grid search to give us the no of features and then putting that in forward selection.\r\n",
        "\r\n",
        "from sklearn.model_selection import KFold, GridSearchCV\r\n",
        "ar = LinearRegression()\r\n",
        "rfe_1 = RFE(ar)\r\n",
        "to_sel = {'n_features_to_select': list(range(1,df2.shape[1]-1))}\r\n",
        "gs= GridSearchCV(rfe_1, param_grid= to_sel,scoring= 'r2', cv=3)\r\n",
        "gs.fit(df2, qual)  "
      ],
      "execution_count": 98,
      "outputs": [
        {
          "output_type": "execute_result",
          "data": {
            "text/plain": [
              "GridSearchCV(cv=3, error_score=nan,\n",
              "             estimator=RFE(estimator=LinearRegression(copy_X=True,\n",
              "                                                      fit_intercept=True,\n",
              "                                                      n_jobs=None,\n",
              "                                                      normalize=False),\n",
              "                           n_features_to_select=None, step=1, verbose=0),\n",
              "             iid='deprecated', n_jobs=None,\n",
              "             param_grid={'n_features_to_select': [1, 2, 3, 4, 5, 6, 7, 8, 9]},\n",
              "             pre_dispatch='2*n_jobs', refit=True, return_train_score=False,\n",
              "             scoring='r2', verbose=0)"
            ]
          },
          "metadata": {
            "tags": []
          },
          "execution_count": 98
        }
      ]
    },
    {
      "cell_type": "code",
      "metadata": {
        "colab": {
          "base_uri": "https://localhost:8080/"
        },
        "id": "RkEk3OKei1Gk",
        "outputId": "c2c41393-d133-44f2-f011-c80aba44c88e"
      },
      "source": [
        "gs.best_params_"
      ],
      "execution_count": 99,
      "outputs": [
        {
          "output_type": "execute_result",
          "data": {
            "text/plain": [
              "{'n_features_to_select': 8}"
            ]
          },
          "metadata": {
            "tags": []
          },
          "execution_count": 99
        }
      ]
    },
    {
      "cell_type": "code",
      "metadata": {
        "colab": {
          "base_uri": "https://localhost:8080/"
        },
        "id": "juHcRIxSi1Jj",
        "outputId": "465434df-f7d9-4f55-c525-e407539d7fc8"
      },
      "source": [
        "sfs_2 = sfs(ar, k_features=8, cv=3 ,n_jobs=-1)\r\n",
        "sfs_2.fit(df2, qual)"
      ],
      "execution_count": 100,
      "outputs": [
        {
          "output_type": "execute_result",
          "data": {
            "text/plain": [
              "SequentialFeatureSelector(clone_estimator=True, cv=3,\n",
              "                          estimator=LinearRegression(copy_X=True,\n",
              "                                                     fit_intercept=True,\n",
              "                                                     n_jobs=None,\n",
              "                                                     normalize=False),\n",
              "                          floating=False, forward=True, k_features=8, n_jobs=-1,\n",
              "                          pre_dispatch='2*n_jobs', scoring=None, verbose=0)"
            ]
          },
          "metadata": {
            "tags": []
          },
          "execution_count": 100
        }
      ]
    },
    {
      "cell_type": "code",
      "metadata": {
        "id": "0Zq26D5ei1QU"
      },
      "source": [
        "we = list(sfs_2.k_feature_names_)"
      ],
      "execution_count": 102,
      "outputs": []
    },
    {
      "cell_type": "code",
      "metadata": {
        "id": "wt740jF4i1US"
      },
      "source": [
        "df_temp = df2[we]\r\n",
        "xc= sm.add_constant(df_temp)\r\n",
        "md= sm.OLS(qual, xc).fit()"
      ],
      "execution_count": 103,
      "outputs": []
    },
    {
      "cell_type": "code",
      "metadata": {
        "colab": {
          "base_uri": "https://localhost:8080/"
        },
        "id": "ddK4Uzn2i1Wk",
        "outputId": "3b8021ad-9393-4987-f680-84e66715989d"
      },
      "source": [
        "print(md.summary())"
      ],
      "execution_count": 104,
      "outputs": [
        {
          "output_type": "stream",
          "text": [
            "                            OLS Regression Results                            \n",
            "==============================================================================\n",
            "Dep. Variable:                quality   R-squared:                       0.269\n",
            "Model:                            OLS   Adj. R-squared:                  0.268\n",
            "Method:                 Least Squares   F-statistic:                     224.9\n",
            "Date:                Sat, 30 Jan 2021   Prob (F-statistic):               0.00\n",
            "Time:                        05:07:27   Log-Likelihood:                -5587.1\n",
            "No. Observations:                4898   AIC:                         1.119e+04\n",
            "Df Residuals:                    4889   BIC:                         1.125e+04\n",
            "Df Model:                           8                                         \n",
            "Covariance Type:            nonrobust                                         \n",
            "========================================================================================\n",
            "                           coef    std err          t      P>|t|      [0.025      0.975]\n",
            "----------------------------------------------------------------------------------------\n",
            "const                    2.2202      0.154     14.463      0.000       1.919       2.521\n",
            "volatile acidity        -1.9701      0.114    -17.289      0.000      -2.193      -1.747\n",
            "citric acid             -0.1648      0.092     -1.787      0.074      -0.346       0.016\n",
            "residual sugar           0.0245      0.003      9.731      0.000       0.020       0.029\n",
            "chlorides               -0.9114      0.541     -1.684      0.092      -1.973       0.150\n",
            "free sulfur dioxide      0.0052      0.001      6.294      0.000       0.004       0.007\n",
            "total sulfur dioxide    -0.0009      0.000     -2.527      0.012      -0.002      -0.000\n",
            "sulphates                0.4669      0.096      4.841      0.000       0.278       0.656\n",
            "alcohol                  0.3673      0.011     32.629      0.000       0.345       0.389\n",
            "==============================================================================\n",
            "Omnibus:                      106.594   Durbin-Watson:                   1.632\n",
            "Prob(Omnibus):                  0.000   Jarque-Bera (JB):              232.818\n",
            "Skew:                           0.046   Prob(JB):                     2.78e-51\n",
            "Kurtosis:                       4.064   Cond. No.                     7.54e+03\n",
            "==============================================================================\n",
            "\n",
            "Warnings:\n",
            "[1] Standard Errors assume that the covariance matrix of the errors is correctly specified.\n",
            "[2] The condition number is large, 7.54e+03. This might indicate that there are\n",
            "strong multicollinearity or other numerical problems.\n"
          ],
          "name": "stdout"
        }
      ]
    },
    {
      "cell_type": "code",
      "metadata": {
        "id": "OtGPrOTmsHfO"
      },
      "source": [
        "# R square is 26.8 percent"
      ],
      "execution_count": null,
      "outputs": []
    },
    {
      "cell_type": "markdown",
      "metadata": {
        "collapsed": true,
        "id": "kaXcd4RUkVPT"
      },
      "source": [
        "<table align=\"left\">\n",
        "    <tr>\n",
        "        <td width=\"6%\">\n",
        "            <img src=\"question_icon.png\">\n",
        "        </td>\n",
        "        <td>\n",
        "            <div align=\"left\", style=\"font-size:120%\">\n",
        "                <font color=\"#21618C\">\n",
        "                    <b>14. Find the best set of significant variables from the dataset using backward elimination technique. Also display the R-squared score for the model built using the selected variables. <br><br>Compare the R-squared value obtained from question 13 with the value obtained using backward elimination.</b>\n",
        "                </font>\n",
        "            </div>\n",
        "        </td>\n",
        "    </tr>\n",
        "</table>"
      ]
    },
    {
      "cell_type": "code",
      "metadata": {
        "id": "gmn3qL76kVPT",
        "colab": {
          "base_uri": "https://localhost:8080/"
        },
        "outputId": "7a5d647b-7b05-4167-9ea0-f61511722908"
      },
      "source": [
        "# we have got the number of features as 8\r\n",
        "\r\n",
        "rfe_ = RFE(ar, n_features_to_select = 8)\r\n",
        "rfe_.fit(df2, qual)"
      ],
      "execution_count": 106,
      "outputs": [
        {
          "output_type": "execute_result",
          "data": {
            "text/plain": [
              "RFE(estimator=LinearRegression(copy_X=True, fit_intercept=True, n_jobs=None,\n",
              "                               normalize=False),\n",
              "    n_features_to_select=8, step=1, verbose=0)"
            ]
          },
          "metadata": {
            "tags": []
          },
          "execution_count": 106
        }
      ]
    },
    {
      "cell_type": "code",
      "metadata": {
        "colab": {
          "base_uri": "https://localhost:8080/",
          "height": 287
        },
        "id": "uhQaj1FTsfTN",
        "outputId": "278a56f5-1fdc-4af1-b55b-dc8c9afb8246"
      },
      "source": [
        "al2 = pd.DataFrame(rfe_.ranking_, index=df2.columns, columns=['ranks'])\r\n",
        "al2.loc[al2['ranks'] == 1]"
      ],
      "execution_count": 107,
      "outputs": [
        {
          "output_type": "execute_result",
          "data": {
            "text/html": [
              "<div>\n",
              "<style scoped>\n",
              "    .dataframe tbody tr th:only-of-type {\n",
              "        vertical-align: middle;\n",
              "    }\n",
              "\n",
              "    .dataframe tbody tr th {\n",
              "        vertical-align: top;\n",
              "    }\n",
              "\n",
              "    .dataframe thead th {\n",
              "        text-align: right;\n",
              "    }\n",
              "</style>\n",
              "<table border=\"1\" class=\"dataframe\">\n",
              "  <thead>\n",
              "    <tr style=\"text-align: right;\">\n",
              "      <th></th>\n",
              "      <th>ranks</th>\n",
              "    </tr>\n",
              "  </thead>\n",
              "  <tbody>\n",
              "    <tr>\n",
              "      <th>fixed acidity</th>\n",
              "      <td>1</td>\n",
              "    </tr>\n",
              "    <tr>\n",
              "      <th>volatile acidity</th>\n",
              "      <td>1</td>\n",
              "    </tr>\n",
              "    <tr>\n",
              "      <th>residual sugar</th>\n",
              "      <td>1</td>\n",
              "    </tr>\n",
              "    <tr>\n",
              "      <th>chlorides</th>\n",
              "      <td>1</td>\n",
              "    </tr>\n",
              "    <tr>\n",
              "      <th>density</th>\n",
              "      <td>1</td>\n",
              "    </tr>\n",
              "    <tr>\n",
              "      <th>pH</th>\n",
              "      <td>1</td>\n",
              "    </tr>\n",
              "    <tr>\n",
              "      <th>sulphates</th>\n",
              "      <td>1</td>\n",
              "    </tr>\n",
              "    <tr>\n",
              "      <th>alcohol</th>\n",
              "      <td>1</td>\n",
              "    </tr>\n",
              "  </tbody>\n",
              "</table>\n",
              "</div>"
            ],
            "text/plain": [
              "                  ranks\n",
              "fixed acidity         1\n",
              "volatile acidity      1\n",
              "residual sugar        1\n",
              "chlorides             1\n",
              "density               1\n",
              "pH                    1\n",
              "sulphates             1\n",
              "alcohol               1"
            ]
          },
          "metadata": {
            "tags": []
          },
          "execution_count": 107
        }
      ]
    },
    {
      "cell_type": "code",
      "metadata": {
        "id": "Pxg9R06vsfaw"
      },
      "source": [
        "we2= list(al2.loc[al2['ranks'] == 1].index)"
      ],
      "execution_count": 111,
      "outputs": []
    },
    {
      "cell_type": "code",
      "metadata": {
        "colab": {
          "base_uri": "https://localhost:8080/"
        },
        "id": "BpeXKNdesfjz",
        "outputId": "caa53577-73e4-486a-9dea-78b6b5339c11"
      },
      "source": [
        "df_temp = df2[we2]\r\n",
        "xc= sm.add_constant(df_temp)\r\n",
        "md= sm.OLS(qual, xc).fit()\r\n",
        "print(md.summary())"
      ],
      "execution_count": 112,
      "outputs": [
        {
          "output_type": "stream",
          "text": [
            "                            OLS Regression Results                            \n",
            "==============================================================================\n",
            "Dep. Variable:                quality   R-squared:                       0.278\n",
            "Model:                            OLS   Adj. R-squared:                  0.277\n",
            "Method:                 Least Squares   F-statistic:                     235.5\n",
            "Date:                Sat, 30 Jan 2021   Prob (F-statistic):               0.00\n",
            "Time:                        05:16:05   Log-Likelihood:                -5556.4\n",
            "No. Observations:                4898   AIC:                         1.113e+04\n",
            "Df Residuals:                    4889   BIC:                         1.119e+04\n",
            "Df Model:                           8                                         \n",
            "Covariance Type:            nonrobust                                         \n",
            "====================================================================================\n",
            "                       coef    std err          t      P>|t|      [0.025      0.975]\n",
            "------------------------------------------------------------------------------------\n",
            "const              156.8910     18.407      8.523      0.000     120.804     192.978\n",
            "fixed acidity        0.0645      0.021      3.110      0.002       0.024       0.105\n",
            "volatile acidity    -1.9417      0.110    -17.720      0.000      -2.157      -1.727\n",
            "residual sugar       0.0866      0.007     11.689      0.000       0.072       0.101\n",
            "chlorides           -0.0992      0.544     -0.182      0.855      -1.165       0.967\n",
            "density           -156.9093     18.673     -8.403      0.000    -193.516    -120.302\n",
            "pH                   0.7093      0.105      6.747      0.000       0.503       0.915\n",
            "sulphates            0.6608      0.100      6.605      0.000       0.465       0.857\n",
            "alcohol              0.1829      0.024      7.602      0.000       0.136       0.230\n",
            "==============================================================================\n",
            "Omnibus:                      101.222   Durbin-Watson:                   1.617\n",
            "Prob(Omnibus):                  0.000   Jarque-Bera (JB):              209.822\n",
            "Skew:                           0.075   Prob(JB):                     2.74e-46\n",
            "Kurtosis:                       4.003   Cond. No.                     3.58e+04\n",
            "==============================================================================\n",
            "\n",
            "Warnings:\n",
            "[1] Standard Errors assume that the covariance matrix of the errors is correctly specified.\n",
            "[2] The condition number is large, 3.58e+04. This might indicate that there are\n",
            "strong multicollinearity or other numerical problems.\n"
          ],
          "name": "stdout"
        }
      ]
    },
    {
      "cell_type": "code",
      "metadata": {
        "id": "WPc6e1jEsfnk"
      },
      "source": [
        "# score indeed has improved. \r\n",
        "\r\n",
        "# RFE helped  with 8 features."
      ],
      "execution_count": null,
      "outputs": []
    },
    {
      "cell_type": "code",
      "metadata": {
        "id": "23izV3Y1sfuq"
      },
      "source": [
        ""
      ],
      "execution_count": null,
      "outputs": []
    },
    {
      "cell_type": "markdown",
      "metadata": {
        "collapsed": true,
        "id": "bIg73bkTkVPU"
      },
      "source": [
        "<table align=\"left\">\n",
        "    <tr>\n",
        "        <td width=\"6%\">\n",
        "            <img src=\"question_icon.png\">\n",
        "        </td>\n",
        "        <td>\n",
        "            <div align=\"left\", style=\"font-size:120%\">\n",
        "                <font color=\"#21618C\">\n",
        "                    <b>15. Find the best set of significant variables from the dataset among all the possible subsets of the variables. Build a linear regression model using the best subset and find the R-Squared value for that model.</b>\n",
        "                </font>\n",
        "            </div>\n",
        "        </td>\n",
        "    </tr>\n",
        "</table>"
      ]
    },
    {
      "cell_type": "code",
      "metadata": {
        "id": "TPLegGoKkVPU",
        "colab": {
          "base_uri": "https://localhost:8080/"
        },
        "outputId": "b4893df1-b403-42ff-e74f-5ac9de46b6d6"
      },
      "source": [
        "# same as before- we ran a RFE along with Grid search to find out that best number of features is 8\r\n",
        "\r\n",
        "df_temp = df2[we2]\r\n",
        "xc= sm.add_constant(df_temp)\r\n",
        "md= sm.OLS(qual, xc).fit()\r\n",
        "print(md.summary())"
      ],
      "execution_count": 113,
      "outputs": [
        {
          "output_type": "stream",
          "text": [
            "                            OLS Regression Results                            \n",
            "==============================================================================\n",
            "Dep. Variable:                quality   R-squared:                       0.278\n",
            "Model:                            OLS   Adj. R-squared:                  0.277\n",
            "Method:                 Least Squares   F-statistic:                     235.5\n",
            "Date:                Sat, 30 Jan 2021   Prob (F-statistic):               0.00\n",
            "Time:                        05:17:42   Log-Likelihood:                -5556.4\n",
            "No. Observations:                4898   AIC:                         1.113e+04\n",
            "Df Residuals:                    4889   BIC:                         1.119e+04\n",
            "Df Model:                           8                                         \n",
            "Covariance Type:            nonrobust                                         \n",
            "====================================================================================\n",
            "                       coef    std err          t      P>|t|      [0.025      0.975]\n",
            "------------------------------------------------------------------------------------\n",
            "const              156.8910     18.407      8.523      0.000     120.804     192.978\n",
            "fixed acidity        0.0645      0.021      3.110      0.002       0.024       0.105\n",
            "volatile acidity    -1.9417      0.110    -17.720      0.000      -2.157      -1.727\n",
            "residual sugar       0.0866      0.007     11.689      0.000       0.072       0.101\n",
            "chlorides           -0.0992      0.544     -0.182      0.855      -1.165       0.967\n",
            "density           -156.9093     18.673     -8.403      0.000    -193.516    -120.302\n",
            "pH                   0.7093      0.105      6.747      0.000       0.503       0.915\n",
            "sulphates            0.6608      0.100      6.605      0.000       0.465       0.857\n",
            "alcohol              0.1829      0.024      7.602      0.000       0.136       0.230\n",
            "==============================================================================\n",
            "Omnibus:                      101.222   Durbin-Watson:                   1.617\n",
            "Prob(Omnibus):                  0.000   Jarque-Bera (JB):              209.822\n",
            "Skew:                           0.075   Prob(JB):                     2.74e-46\n",
            "Kurtosis:                       4.003   Cond. No.                     3.58e+04\n",
            "==============================================================================\n",
            "\n",
            "Warnings:\n",
            "[1] Standard Errors assume that the covariance matrix of the errors is correctly specified.\n",
            "[2] The condition number is large, 3.58e+04. This might indicate that there are\n",
            "strong multicollinearity or other numerical problems.\n"
          ],
          "name": "stdout"
        }
      ]
    },
    {
      "cell_type": "code",
      "metadata": {
        "id": "MLAQjSWaucJU"
      },
      "source": [
        ""
      ],
      "execution_count": null,
      "outputs": []
    },
    {
      "cell_type": "markdown",
      "metadata": {
        "collapsed": true,
        "id": "knR8ARRJkVPV"
      },
      "source": [
        "<table align=\"left\">\n",
        "    <tr>\n",
        "        <td width=\"6%\">\n",
        "            <img src=\"question_icon.png\">\n",
        "        </td>\n",
        "        <td>\n",
        "            <div align=\"left\", style=\"font-size:120%\">\n",
        "                <font color=\"#21618C\">\n",
        "                    <b>16. Calculate the RMSE for the train set and test set for the model created using the top 5 variables obtained from forward selection in question 10. Check if the model is overfitted on the train set or not. If yes, then why do you think so?</b>\n",
        "                </font>\n",
        "            </div>\n",
        "        </td>\n",
        "    </tr>\n",
        "</table>"
      ]
    },
    {
      "cell_type": "code",
      "metadata": {
        "id": "_xQkg-SRzYM_"
      },
      "source": [
        "rtr= df2[list(sfs_.k_feature_names_)]\r\n",
        "from sklearn.model_selection import train_test_split\r\n",
        "x_tr, x_ts, y_tr, y_ts = train_test_split(rtr, qual)"
      ],
      "execution_count": null,
      "outputs": []
    },
    {
      "cell_type": "code",
      "metadata": {
        "id": "7CyiNqHwkVPV",
        "colab": {
          "base_uri": "https://localhost:8080/"
        },
        "outputId": "25c5f491-b698-4606-c7a9-0f067ad1aae2"
      },
      "source": [
        "xc= sm.add_constant(x_tr)\r\n",
        "md= sm.OLS(y_tr, xc).fit()\r\n",
        "print(md.summary())"
      ],
      "execution_count": 129,
      "outputs": [
        {
          "output_type": "stream",
          "text": [
            "                            OLS Regression Results                            \n",
            "==============================================================================\n",
            "Dep. Variable:                quality   R-squared:                       0.280\n",
            "Model:                            OLS   Adj. R-squared:                  0.279\n",
            "Method:                 Least Squares   F-statistic:                     285.8\n",
            "Date:                Sat, 30 Jan 2021   Prob (F-statistic):          8.65e-259\n",
            "Time:                        05:50:32   Log-Likelihood:                -4148.8\n",
            "No. Observations:                3673   AIC:                             8310.\n",
            "Df Residuals:                    3667   BIC:                             8347.\n",
            "Df Model:                           5                                         \n",
            "Covariance Type:            nonrobust                                         \n",
            "=======================================================================================\n",
            "                          coef    std err          t      P>|t|      [0.025      0.975]\n",
            "---------------------------------------------------------------------------------------\n",
            "const                   1.7404      0.145     12.019      0.000       1.456       2.024\n",
            "volatile acidity       -2.0275      0.125    -16.204      0.000      -2.273      -1.782\n",
            "residual sugar          0.0258      0.003      9.225      0.000       0.020       0.031\n",
            "free sulfur dioxide     0.0039      0.001      5.183      0.000       0.002       0.005\n",
            "sulphates               0.5001      0.108      4.638      0.000       0.289       0.711\n",
            "alcohol                 0.3939      0.011     34.615      0.000       0.372       0.416\n",
            "==============================================================================\n",
            "Omnibus:                       95.338   Durbin-Watson:                   2.018\n",
            "Prob(Omnibus):                  0.000   Jarque-Bera (JB):              224.179\n",
            "Skew:                           0.055   Prob(JB):                     2.09e-49\n",
            "Kurtosis:                       4.205   Cond. No.                         520.\n",
            "==============================================================================\n",
            "\n",
            "Warnings:\n",
            "[1] Standard Errors assume that the covariance matrix of the errors is correctly specified.\n"
          ],
          "name": "stdout"
        }
      ]
    },
    {
      "cell_type": "code",
      "metadata": {
        "colab": {
          "base_uri": "https://localhost:8080/"
        },
        "id": "Fg00vUv0zQBd",
        "outputId": "69a3c126-4b55-455f-f5f1-20a1e2753ee1"
      },
      "source": [
        "xc1= sm.add_constant(x_ts)\r\n",
        "md= sm.OLS(y_ts, xc1).fit()\r\n",
        "print(md.summary())"
      ],
      "execution_count": 130,
      "outputs": [
        {
          "output_type": "stream",
          "text": [
            "                            OLS Regression Results                            \n",
            "==============================================================================\n",
            "Dep. Variable:                quality   R-squared:                       0.232\n",
            "Model:                            OLS   Adj. R-squared:                  0.229\n",
            "Method:                 Least Squares   F-statistic:                     73.64\n",
            "Date:                Sat, 30 Jan 2021   Prob (F-statistic):           1.76e-67\n",
            "Time:                        05:51:46   Log-Likelihood:                -1438.7\n",
            "No. Observations:                1225   AIC:                             2889.\n",
            "Df Residuals:                    1219   BIC:                             2920.\n",
            "Df Model:                           5                                         \n",
            "Covariance Type:            nonrobust                                         \n",
            "=======================================================================================\n",
            "                          coef    std err          t      P>|t|      [0.025      0.975]\n",
            "---------------------------------------------------------------------------------------\n",
            "const                   2.5262      0.279      9.042      0.000       1.978       3.074\n",
            "volatile acidity       -2.0414      0.223     -9.167      0.000      -2.478      -1.604\n",
            "residual sugar          0.0165      0.005      3.122      0.002       0.006       0.027\n",
            "free sulfur dioxide     0.0039      0.001      2.595      0.010       0.001       0.007\n",
            "sulphates               0.1437      0.203      0.706      0.480      -0.255       0.543\n",
            "alcohol                 0.3461      0.021     16.500      0.000       0.305       0.387\n",
            "==============================================================================\n",
            "Omnibus:                       11.316   Durbin-Watson:                   1.902\n",
            "Prob(Omnibus):                  0.003   Jarque-Bera (JB):               16.298\n",
            "Skew:                           0.056   Prob(JB):                     0.000289\n",
            "Kurtosis:                       3.554   Cond. No.                         551.\n",
            "==============================================================================\n",
            "\n",
            "Warnings:\n",
            "[1] Standard Errors assume that the covariance matrix of the errors is correctly specified.\n"
          ],
          "name": "stdout"
        }
      ]
    },
    {
      "cell_type": "code",
      "metadata": {
        "id": "hmC_eSSqvPBS"
      },
      "source": [
        "# The model is slightly overfitting on training data. \r\n",
        "\r\n",
        "# Reasons could be selecting only the highest contributing features- which has significantly stronger variance-effecting nature of the fit of the model.\r\n",
        "\r\n",
        "# Another reason of overfit is- Less data. More data could have helped us generalize the model more"
      ],
      "execution_count": 131,
      "outputs": []
    },
    {
      "cell_type": "code",
      "metadata": {
        "id": "cJ0VfFDFvPEQ"
      },
      "source": [
        "y_tr_score = md.predict(xc)\r\n",
        "\r\n",
        "xtr = sm.add_constant(x_ts)\r\n",
        "y_ts_score = md.predict(xtr)"
      ],
      "execution_count": 126,
      "outputs": []
    },
    {
      "cell_type": "code",
      "metadata": {
        "colab": {
          "base_uri": "https://localhost:8080/"
        },
        "id": "eLMtRCqby9RE",
        "outputId": "bbaf73fa-0c49-4476-df0f-002cd57ebc7c"
      },
      "source": [
        "len(y_tr)"
      ],
      "execution_count": 124,
      "outputs": [
        {
          "output_type": "execute_result",
          "data": {
            "text/plain": [
              "3673"
            ]
          },
          "metadata": {
            "tags": []
          },
          "execution_count": 124
        }
      ]
    },
    {
      "cell_type": "code",
      "metadata": {
        "colab": {
          "base_uri": "https://localhost:8080/"
        },
        "id": "rBiAT126vPGn",
        "outputId": "5c1b7d53-df1c-4fc9-91ca-5b7d3929de85"
      },
      "source": [
        "# training accuracy\r\n",
        "from sklearn.metrics import mean_squared_error, r2_score\r\n",
        "\r\n",
        "print('training', r2_score(y_tr_score, y_tr), mean_squared_error(y_tr_score, y_tr))\r\n",
        "print('test', r2_score(y_ts_score, y_ts), mean_squared_error(y_ts_score, y_ts))"
      ],
      "execution_count": 128,
      "outputs": [
        {
          "output_type": "stream",
          "text": [
            "training -1.5665200263882824 0.5605595519408794\n",
            "test -1.7992796203794201 0.6193694217662141\n"
          ],
          "name": "stdout"
        }
      ]
    },
    {
      "cell_type": "code",
      "metadata": {
        "id": "-xa4Nrd5vPNU"
      },
      "source": [
        ""
      ],
      "execution_count": null,
      "outputs": []
    },
    {
      "cell_type": "code",
      "metadata": {
        "id": "n8gxI84AvPPy"
      },
      "source": [
        ""
      ],
      "execution_count": null,
      "outputs": []
    },
    {
      "cell_type": "markdown",
      "metadata": {
        "id": "5qVFWe_YkVPW"
      },
      "source": [
        "<a id=\"cv\"> </a>\n",
        "## 3. Model Validation"
      ]
    },
    {
      "cell_type": "markdown",
      "metadata": {
        "collapsed": true,
        "id": "CYcfwvltkVPW"
      },
      "source": [
        "<table align=\"left\">\n",
        "    <tr>\n",
        "        <td width=\"6%\">\n",
        "            <img src=\"question_icon.png\">\n",
        "        </td>\n",
        "        <td>\n",
        "            <div align=\"left\", style=\"font-size:120%\">\n",
        "                <font color=\"#21618C\">\n",
        "                    <b>17. Create a new feature based on the 'pH' which tells whether wine is acidic, basic or neutral. Will this variable significantly contribute to the model?</b>\n",
        "                </font>\n",
        "            </div>\n",
        "        </td>\n",
        "    </tr>\n",
        "</table>"
      ]
    },
    {
      "cell_type": "code",
      "metadata": {
        "id": "by3taHd6kVPX",
        "colab": {
          "base_uri": "https://localhost:8080/",
          "height": 197
        },
        "outputId": "f3219005-cefb-42ea-c4b3-b7e4bef14a2b"
      },
      "source": [
        "df_r = df2.copy()\r\n",
        "df_r.head()"
      ],
      "execution_count": 132,
      "outputs": [
        {
          "output_type": "execute_result",
          "data": {
            "text/html": [
              "<div>\n",
              "<style scoped>\n",
              "    .dataframe tbody tr th:only-of-type {\n",
              "        vertical-align: middle;\n",
              "    }\n",
              "\n",
              "    .dataframe tbody tr th {\n",
              "        vertical-align: top;\n",
              "    }\n",
              "\n",
              "    .dataframe thead th {\n",
              "        text-align: right;\n",
              "    }\n",
              "</style>\n",
              "<table border=\"1\" class=\"dataframe\">\n",
              "  <thead>\n",
              "    <tr style=\"text-align: right;\">\n",
              "      <th></th>\n",
              "      <th>fixed acidity</th>\n",
              "      <th>volatile acidity</th>\n",
              "      <th>citric acid</th>\n",
              "      <th>residual sugar</th>\n",
              "      <th>chlorides</th>\n",
              "      <th>free sulfur dioxide</th>\n",
              "      <th>total sulfur dioxide</th>\n",
              "      <th>density</th>\n",
              "      <th>pH</th>\n",
              "      <th>sulphates</th>\n",
              "      <th>alcohol</th>\n",
              "    </tr>\n",
              "  </thead>\n",
              "  <tbody>\n",
              "    <tr>\n",
              "      <th>0</th>\n",
              "      <td>7.0</td>\n",
              "      <td>0.27</td>\n",
              "      <td>0.36</td>\n",
              "      <td>20.7</td>\n",
              "      <td>0.045</td>\n",
              "      <td>45.0</td>\n",
              "      <td>170.0</td>\n",
              "      <td>1.0010</td>\n",
              "      <td>3.00</td>\n",
              "      <td>0.45</td>\n",
              "      <td>8.8</td>\n",
              "    </tr>\n",
              "    <tr>\n",
              "      <th>1</th>\n",
              "      <td>6.3</td>\n",
              "      <td>0.30</td>\n",
              "      <td>0.34</td>\n",
              "      <td>1.6</td>\n",
              "      <td>0.049</td>\n",
              "      <td>14.0</td>\n",
              "      <td>132.0</td>\n",
              "      <td>0.9940</td>\n",
              "      <td>3.30</td>\n",
              "      <td>0.49</td>\n",
              "      <td>9.5</td>\n",
              "    </tr>\n",
              "    <tr>\n",
              "      <th>2</th>\n",
              "      <td>8.1</td>\n",
              "      <td>0.28</td>\n",
              "      <td>0.40</td>\n",
              "      <td>6.9</td>\n",
              "      <td>0.050</td>\n",
              "      <td>30.0</td>\n",
              "      <td>97.0</td>\n",
              "      <td>0.9951</td>\n",
              "      <td>3.26</td>\n",
              "      <td>0.44</td>\n",
              "      <td>10.1</td>\n",
              "    </tr>\n",
              "    <tr>\n",
              "      <th>3</th>\n",
              "      <td>7.2</td>\n",
              "      <td>0.23</td>\n",
              "      <td>0.32</td>\n",
              "      <td>8.5</td>\n",
              "      <td>0.058</td>\n",
              "      <td>47.0</td>\n",
              "      <td>186.0</td>\n",
              "      <td>0.9956</td>\n",
              "      <td>3.19</td>\n",
              "      <td>0.40</td>\n",
              "      <td>9.9</td>\n",
              "    </tr>\n",
              "    <tr>\n",
              "      <th>4</th>\n",
              "      <td>7.2</td>\n",
              "      <td>0.23</td>\n",
              "      <td>0.32</td>\n",
              "      <td>8.5</td>\n",
              "      <td>0.058</td>\n",
              "      <td>47.0</td>\n",
              "      <td>186.0</td>\n",
              "      <td>0.9956</td>\n",
              "      <td>3.19</td>\n",
              "      <td>0.40</td>\n",
              "      <td>9.9</td>\n",
              "    </tr>\n",
              "  </tbody>\n",
              "</table>\n",
              "</div>"
            ],
            "text/plain": [
              "   fixed acidity  volatile acidity  citric acid  ...    pH  sulphates  alcohol\n",
              "0            7.0              0.27         0.36  ...  3.00       0.45      8.8\n",
              "1            6.3              0.30         0.34  ...  3.30       0.49      9.5\n",
              "2            8.1              0.28         0.40  ...  3.26       0.44     10.1\n",
              "3            7.2              0.23         0.32  ...  3.19       0.40      9.9\n",
              "4            7.2              0.23         0.32  ...  3.19       0.40      9.9\n",
              "\n",
              "[5 rows x 11 columns]"
            ]
          },
          "metadata": {
            "tags": []
          },
          "execution_count": 132
        }
      ]
    },
    {
      "cell_type": "code",
      "metadata": {
        "id": "WJLjCb_Z4HEp"
      },
      "source": [
        "df_r['cat_pH'] = pd.cut(df_r['pH'], bins=3, labels=['acidic', 'normal', 'basic'])"
      ],
      "execution_count": 133,
      "outputs": []
    },
    {
      "cell_type": "code",
      "metadata": {
        "id": "ChbLbg6r4HHi"
      },
      "source": [
        "df_r = pd.get_dummies(data= df_r, columns=['cat_pH'], drop_first=True)"
      ],
      "execution_count": 136,
      "outputs": []
    },
    {
      "cell_type": "code",
      "metadata": {
        "id": "Nq_lMO0f4y7S"
      },
      "source": [
        "df_r.drop({'pH'}, axis=1, inplace= True)"
      ],
      "execution_count": 138,
      "outputs": []
    },
    {
      "cell_type": "code",
      "metadata": {
        "colab": {
          "base_uri": "https://localhost:8080/"
        },
        "id": "7-t8xpaP5fey",
        "outputId": "9e68fa86-1d79-4fe1-b3bf-82bdb24351e6"
      },
      "source": [
        "xc1= sm.add_constant(df_r)\r\n",
        "md= sm.OLS(qual, xc1).fit()\r\n",
        "print(md.summary())"
      ],
      "execution_count": 139,
      "outputs": [
        {
          "output_type": "stream",
          "text": [
            "                            OLS Regression Results                            \n",
            "==============================================================================\n",
            "Dep. Variable:                quality   R-squared:                       0.277\n",
            "Model:                            OLS   Adj. R-squared:                  0.275\n",
            "Method:                 Least Squares   F-statistic:                     155.7\n",
            "Date:                Sat, 30 Jan 2021   Prob (F-statistic):               0.00\n",
            "Time:                        06:07:13   Log-Likelihood:                -5561.4\n",
            "No. Observations:                4898   AIC:                         1.115e+04\n",
            "Df Residuals:                    4885   BIC:                         1.123e+04\n",
            "Df Model:                          12                                         \n",
            "Covariance Type:            nonrobust                                         \n",
            "========================================================================================\n",
            "                           coef    std err          t      P>|t|      [0.025      0.975]\n",
            "----------------------------------------------------------------------------------------\n",
            "const                   95.0480     16.945      5.609      0.000      61.829     128.267\n",
            "fixed acidity           -0.0007      0.018     -0.036      0.971      -0.036       0.035\n",
            "volatile acidity        -1.9260      0.114    -16.894      0.000      -2.150      -1.703\n",
            "citric acid             -0.0123      0.096     -0.128      0.898      -0.201       0.176\n",
            "residual sugar           0.0587      0.007      8.739      0.000       0.046       0.072\n",
            "chlorides               -0.7047      0.543     -1.297      0.195      -1.770       0.360\n",
            "free sulfur dioxide      0.0039      0.001      4.662      0.000       0.002       0.006\n",
            "total sulfur dioxide    -0.0004      0.000     -0.936      0.350      -0.001       0.000\n",
            "density                -92.6956     16.998     -5.453      0.000    -126.020     -59.371\n",
            "sulphates                0.6088      0.101      6.041      0.000       0.411       0.806\n",
            "alcohol                  0.2596      0.022     11.770      0.000       0.216       0.303\n",
            "cat_pH_normal            0.0695      0.029      2.419      0.016       0.013       0.126\n",
            "cat_pH_basic             0.1348      0.063      2.142      0.032       0.011       0.258\n",
            "==============================================================================\n",
            "Omnibus:                      107.370   Durbin-Watson:                   1.622\n",
            "Prob(Omnibus):                  0.000   Jarque-Bera (JB):              226.774\n",
            "Skew:                           0.083   Prob(JB):                     5.71e-50\n",
            "Kurtosis:                       4.041   Cond. No.                     3.34e+05\n",
            "==============================================================================\n",
            "\n",
            "Warnings:\n",
            "[1] Standard Errors assume that the covariance matrix of the errors is correctly specified.\n",
            "[2] The condition number is large, 3.34e+05. This might indicate that there are\n",
            "strong multicollinearity or other numerical problems.\n"
          ],
          "name": "stdout"
        }
      ]
    },
    {
      "cell_type": "code",
      "metadata": {
        "id": "fO1PJOkR5fiW"
      },
      "source": [
        "# P values of both of them are less than 0.05- so both of them are significantly contributing. \r\n",
        "\r\n",
        "# cat_pH_basic is contributing more as the coeff is larger"
      ],
      "execution_count": 140,
      "outputs": []
    },
    {
      "cell_type": "code",
      "metadata": {
        "id": "Kmk3_U9m4zAX"
      },
      "source": [
        ""
      ],
      "execution_count": null,
      "outputs": []
    },
    {
      "cell_type": "markdown",
      "metadata": {
        "collapsed": true,
        "id": "6gtLM71skVPX"
      },
      "source": [
        "<table align=\"left\">\n",
        "    <tr>\n",
        "        <td width=\"6%\">\n",
        "            <img src=\"question_icon.png\">\n",
        "        </td>\n",
        "        <td>\n",
        "            <div align=\"left\", style=\"font-size:120%\">\n",
        "                <font color=\"#21618C\">\n",
        "                    <b>18. Fit the a full model. Validate the model using cross validation method</b>\n",
        "                </font>\n",
        "            </div>\n",
        "        </td>\n",
        "    </tr>\n",
        "</table>"
      ]
    },
    {
      "cell_type": "code",
      "metadata": {
        "id": "UuxgIcfikVPX",
        "colab": {
          "base_uri": "https://localhost:8080/"
        },
        "outputId": "6f7ed707-e7ee-436c-9112-4f5ab5bf0dfb"
      },
      "source": [
        "xc1= sm.add_constant(df2)\r\n",
        "md= sm.OLS(qual, xc1).fit()\r\n",
        "print(md.summary())"
      ],
      "execution_count": 141,
      "outputs": [
        {
          "output_type": "stream",
          "text": [
            "                            OLS Regression Results                            \n",
            "==============================================================================\n",
            "Dep. Variable:                quality   R-squared:                       0.282\n",
            "Model:                            OLS   Adj. R-squared:                  0.280\n",
            "Method:                 Least Squares   F-statistic:                     174.3\n",
            "Date:                Sat, 30 Jan 2021   Prob (F-statistic):               0.00\n",
            "Time:                        06:08:42   Log-Likelihood:                -5543.7\n",
            "No. Observations:                4898   AIC:                         1.111e+04\n",
            "Df Residuals:                    4886   BIC:                         1.119e+04\n",
            "Df Model:                          11                                         \n",
            "Covariance Type:            nonrobust                                         \n",
            "========================================================================================\n",
            "                           coef    std err          t      P>|t|      [0.025      0.975]\n",
            "----------------------------------------------------------------------------------------\n",
            "const                  150.1928     18.804      7.987      0.000     113.328     187.057\n",
            "fixed acidity            0.0655      0.021      3.139      0.002       0.025       0.106\n",
            "volatile acidity        -1.8632      0.114    -16.373      0.000      -2.086      -1.640\n",
            "citric acid              0.0221      0.096      0.231      0.818      -0.166       0.210\n",
            "residual sugar           0.0815      0.008     10.825      0.000       0.067       0.096\n",
            "chlorides               -0.2473      0.547     -0.452      0.651      -1.319       0.824\n",
            "free sulfur dioxide      0.0037      0.001      4.422      0.000       0.002       0.005\n",
            "total sulfur dioxide    -0.0003      0.000     -0.756      0.450      -0.001       0.000\n",
            "density               -150.2842     19.075     -7.879      0.000    -187.679    -112.890\n",
            "pH                       0.6863      0.105      6.513      0.000       0.480       0.893\n",
            "sulphates                0.6315      0.100      6.291      0.000       0.435       0.828\n",
            "alcohol                  0.1935      0.024      7.988      0.000       0.146       0.241\n",
            "==============================================================================\n",
            "Omnibus:                      114.161   Durbin-Watson:                   1.621\n",
            "Prob(Omnibus):                  0.000   Jarque-Bera (JB):              251.637\n",
            "Skew:                           0.073   Prob(JB):                     2.28e-55\n",
            "Kurtosis:                       4.101   Cond. No.                     3.74e+05\n",
            "==============================================================================\n",
            "\n",
            "Warnings:\n",
            "[1] Standard Errors assume that the covariance matrix of the errors is correctly specified.\n",
            "[2] The condition number is large, 3.74e+05. This might indicate that there are\n",
            "strong multicollinearity or other numerical problems.\n"
          ],
          "name": "stdout"
        }
      ]
    },
    {
      "cell_type": "code",
      "metadata": {
        "colab": {
          "base_uri": "https://localhost:8080/"
        },
        "id": "1xtbmIZW6ETE",
        "outputId": "050d1900-df87-454a-96b4-e19786f8e922"
      },
      "source": [
        "# using cross val\r\n",
        "\r\n",
        "ar = LinearRegression()\r\n",
        "from sklearn.model_selection import cross_val_score\r\n",
        "Kf = KFold(n_splits=5, shuffle=True, random_state=4)\r\n",
        "cv = cross_val_score(ar, df2, qual, scoring = 'r2', cv=Kf)\r\n",
        "cv"
      ],
      "execution_count": 143,
      "outputs": [
        {
          "output_type": "execute_result",
          "data": {
            "text/plain": [
              "array([0.28423982, 0.33196733, 0.27179256, 0.23195764, 0.25285897])"
            ]
          },
          "metadata": {
            "tags": []
          },
          "execution_count": 143
        }
      ]
    },
    {
      "cell_type": "code",
      "metadata": {
        "colab": {
          "base_uri": "https://localhost:8080/"
        },
        "id": "Qzxyk4bm6EXW",
        "outputId": "55a14074-da86-4801-e7ac-ae5d0596b544"
      },
      "source": [
        "np.mean(cv)"
      ],
      "execution_count": 144,
      "outputs": [
        {
          "output_type": "execute_result",
          "data": {
            "text/plain": [
              "0.27456326396006603"
            ]
          },
          "metadata": {
            "tags": []
          },
          "execution_count": 144
        }
      ]
    },
    {
      "cell_type": "code",
      "metadata": {
        "id": "qTSgeVu76EaY"
      },
      "source": [
        "# we are getting better r2 score without cross validation"
      ],
      "execution_count": 145,
      "outputs": []
    },
    {
      "cell_type": "markdown",
      "metadata": {
        "collapsed": true,
        "id": "33C7qLMfkVPX"
      },
      "source": [
        "<table align=\"left\">\n",
        "    <tr>\n",
        "        <td width=\"6%\">\n",
        "            <img src=\"question_icon.png\">\n",
        "        </td>\n",
        "        <td>\n",
        "            <div align=\"left\", style=\"font-size:120%\">\n",
        "                <font color=\"#21618C\">\n",
        "                    <b>19. Fit the a full model. Validate the model using 5 - fold cross validation</b>\n",
        "                </font>\n",
        "            </div>\n",
        "        </td>\n",
        "    </tr>\n",
        "</table>"
      ]
    },
    {
      "cell_type": "code",
      "metadata": {
        "id": "9w2b7rCJkVPY"
      },
      "source": [
        "from sklearn.model_selection import RepeatedKFold\r\n",
        "from sklearn.model_selection import cross_val_score\r\n",
        "\r\n",
        "cv2 = RepeatedKFold(n_splits=5, n_repeats=2, random_state=1)"
      ],
      "execution_count": 148,
      "outputs": []
    },
    {
      "cell_type": "code",
      "metadata": {
        "colab": {
          "base_uri": "https://localhost:8080/"
        },
        "id": "MCjPJul--lmt",
        "outputId": "949ad5ce-32ab-4d56-c651-c64f3ac269f8"
      },
      "source": [
        "scores = cross_val_score(ar, df2, qual, scoring = 'r2', cv=cv2, n_jobs=-1)\r\n",
        "print(np.mean(scores), np.std(scores))"
      ],
      "execution_count": 149,
      "outputs": [
        {
          "output_type": "stream",
          "text": [
            "0.2740976807979661 0.015835137712110616\n"
          ],
          "name": "stdout"
        }
      ]
    },
    {
      "cell_type": "code",
      "metadata": {
        "id": "fRfhyUDw-lqE"
      },
      "source": [
        "# score after 5 fold is 0.27"
      ],
      "execution_count": null,
      "outputs": []
    },
    {
      "cell_type": "code",
      "metadata": {
        "id": "23FtmHlm-lyH"
      },
      "source": [
        ""
      ],
      "execution_count": null,
      "outputs": []
    },
    {
      "cell_type": "markdown",
      "metadata": {
        "collapsed": true,
        "id": "KSJvToOLkVPY"
      },
      "source": [
        "<table align=\"left\">\n",
        "    <tr>\n",
        "        <td width=\"6%\">\n",
        "            <img src=\"question_icon.png\">\n",
        "        </td>\n",
        "        <td>\n",
        "            <div align=\"left\", style=\"font-size:120%\">\n",
        "                <font color=\"#21618C\">\n",
        "                    <b>20. Fit the a full model. Validate the model using leave one out cross validation</b>\n",
        "                </font>\n",
        "            </div>\n",
        "        </td>\n",
        "    </tr>\n",
        "</table>"
      ]
    },
    {
      "cell_type": "code",
      "metadata": {
        "id": "WO9FQO8wkVPY"
      },
      "source": [
        "from sklearn.model_selection import LeaveOneOut"
      ],
      "execution_count": 150,
      "outputs": []
    },
    {
      "cell_type": "code",
      "metadata": {
        "id": "trtqazP8_Unw"
      },
      "source": [
        "loc= LeaveOneOut()\r\n",
        "cv3 = cross_val_score(ar, df2, qual, scoring = 'neg_mean_squared_error', cv=loc, n_jobs=-1)"
      ],
      "execution_count": 160,
      "outputs": []
    },
    {
      "cell_type": "code",
      "metadata": {
        "colab": {
          "base_uri": "https://localhost:8080/"
        },
        "id": "w97XznYe_UtE",
        "outputId": "e2574d05-9fe1-41be-93f5-4e074b2894be"
      },
      "source": [
        "print(np.sqrt(-1*cv3.mean()))"
      ],
      "execution_count": 155,
      "outputs": [
        {
          "output_type": "stream",
          "text": [
            "0.7541120584743237\n"
          ],
          "name": "stdout"
        }
      ]
    },
    {
      "cell_type": "code",
      "metadata": {
        "id": "lrn2YytQ_U1t"
      },
      "source": [
        "# RMSE is 0.75"
      ],
      "execution_count": 156,
      "outputs": []
    },
    {
      "cell_type": "code",
      "metadata": {
        "id": "OPAuYDkiBJp6"
      },
      "source": [
        "cv3"
      ],
      "execution_count": null,
      "outputs": []
    },
    {
      "cell_type": "code",
      "metadata": {
        "id": "9PFphxjvBa9U"
      },
      "source": [
        ""
      ],
      "execution_count": null,
      "outputs": []
    }
  ]
}