{
  "nbformat": 4,
  "nbformat_minor": 0,
  "metadata": {
    "colab": {
      "name": "stats_mini_project.ipynb",
      "provenance": [],
      "collapsed_sections": [],
      "authorship_tag": "ABX9TyNC8pFlCbQSXE6xqXOCFwRs",
      "include_colab_link": true
    },
    "kernelspec": {
      "name": "python3",
      "display_name": "Python 3"
    }
  },
  "cells": [
    {
      "cell_type": "markdown",
      "metadata": {
        "id": "view-in-github",
        "colab_type": "text"
      },
      "source": [
        "<a href=\"https://colab.research.google.com/github/zerryberry/C1/blob/master/stats_mini_project.ipynb\" target=\"_parent\"><img src=\"https://colab.research.google.com/assets/colab-badge.svg\" alt=\"Open In Colab\"/></a>"
      ]
    },
    {
      "cell_type": "code",
      "metadata": {
        "colab": {
          "base_uri": "https://localhost:8080/"
        },
        "id": "tTHZjSQG7n7f",
        "outputId": "35a9292a-4339-4993-a1d1-8b0ee51b758d"
      },
      "source": [
        "import pandas as pd\r\n",
        "import numpy as np\r\n",
        "import matplotlib.pyplot as plt\r\n",
        "import seaborn as sns\r\n",
        "import warnings\r\n",
        "warnings.filterwarnings('ignore')\r\n",
        "import scipy.stats as stats\r\n",
        "print('done')"
      ],
      "execution_count": 26,
      "outputs": [
        {
          "output_type": "stream",
          "text": [
            "done\n"
          ],
          "name": "stdout"
        }
      ]
    },
    {
      "cell_type": "code",
      "metadata": {
        "colab": {
          "base_uri": "https://localhost:8080/",
          "height": 284
        },
        "id": "yRaQdvHQJsi2",
        "outputId": "2b0384e5-8309-40e7-c227-0b4db97dc865"
      },
      "source": [
        "df= pd.read_csv('/content/Laliga.csv')\r\n",
        "df.head()"
      ],
      "execution_count": 27,
      "outputs": [
        {
          "output_type": "execute_result",
          "data": {
            "text/html": [
              "<div>\n",
              "<style scoped>\n",
              "    .dataframe tbody tr th:only-of-type {\n",
              "        vertical-align: middle;\n",
              "    }\n",
              "\n",
              "    .dataframe tbody tr th {\n",
              "        vertical-align: top;\n",
              "    }\n",
              "\n",
              "    .dataframe thead th {\n",
              "        text-align: right;\n",
              "    }\n",
              "</style>\n",
              "<table border=\"1\" class=\"dataframe\">\n",
              "  <thead>\n",
              "    <tr style=\"text-align: right;\">\n",
              "      <th></th>\n",
              "      <th>Unnamed: 0</th>\n",
              "      <th>Unnamed: 1</th>\n",
              "      <th>Unnamed: 2</th>\n",
              "      <th>Unnamed: 3</th>\n",
              "      <th>Unnamed: 4</th>\n",
              "      <th>Unnamed: 5</th>\n",
              "      <th>Unnamed: 6</th>\n",
              "      <th>Unnamed: 7</th>\n",
              "      <th>Unnamed: 8</th>\n",
              "      <th>Unnamed: 9</th>\n",
              "      <th>Unnamed: 10</th>\n",
              "      <th>Unnamed: 11</th>\n",
              "      <th>Unnamed: 12</th>\n",
              "      <th>Unnamed: 13</th>\n",
              "      <th>Unnamed: 14</th>\n",
              "      <th>Unnamed: 15</th>\n",
              "      <th>Unnamed: 16</th>\n",
              "      <th>Unnamed: 17</th>\n",
              "      <th>Unnamed: 18</th>\n",
              "      <th>Unnamed: 19</th>\n",
              "    </tr>\n",
              "  </thead>\n",
              "  <tbody>\n",
              "    <tr>\n",
              "      <th>0</th>\n",
              "      <td>Pos</td>\n",
              "      <td>Team</td>\n",
              "      <td>Seasons</td>\n",
              "      <td>Points</td>\n",
              "      <td>GamesPlayed</td>\n",
              "      <td>GamesWon</td>\n",
              "      <td>GamesDrawn</td>\n",
              "      <td>GamesLost</td>\n",
              "      <td>GoalsFor</td>\n",
              "      <td>GoalsAgainst</td>\n",
              "      <td>Champion</td>\n",
              "      <td>Runner-up</td>\n",
              "      <td>Third</td>\n",
              "      <td>Fourth</td>\n",
              "      <td>Fifth</td>\n",
              "      <td>Sixth</td>\n",
              "      <td>T</td>\n",
              "      <td>Debut</td>\n",
              "      <td>Since/LastApp</td>\n",
              "      <td>BestPosition</td>\n",
              "    </tr>\n",
              "    <tr>\n",
              "      <th>1</th>\n",
              "      <td>1</td>\n",
              "      <td>Real Madrid</td>\n",
              "      <td>86</td>\n",
              "      <td>4385</td>\n",
              "      <td>2762</td>\n",
              "      <td>1647</td>\n",
              "      <td>552</td>\n",
              "      <td>563</td>\n",
              "      <td>5947</td>\n",
              "      <td>3140</td>\n",
              "      <td>33</td>\n",
              "      <td>23</td>\n",
              "      <td>8</td>\n",
              "      <td>8</td>\n",
              "      <td>3</td>\n",
              "      <td>4</td>\n",
              "      <td>79</td>\n",
              "      <td>1929</td>\n",
              "      <td>1929</td>\n",
              "      <td>1</td>\n",
              "    </tr>\n",
              "    <tr>\n",
              "      <th>2</th>\n",
              "      <td>2</td>\n",
              "      <td>Barcelona</td>\n",
              "      <td>86</td>\n",
              "      <td>4262</td>\n",
              "      <td>2762</td>\n",
              "      <td>1581</td>\n",
              "      <td>573</td>\n",
              "      <td>608</td>\n",
              "      <td>5900</td>\n",
              "      <td>3114</td>\n",
              "      <td>25</td>\n",
              "      <td>25</td>\n",
              "      <td>12</td>\n",
              "      <td>12</td>\n",
              "      <td>4</td>\n",
              "      <td>6</td>\n",
              "      <td>83</td>\n",
              "      <td>1929</td>\n",
              "      <td>1929</td>\n",
              "      <td>1</td>\n",
              "    </tr>\n",
              "    <tr>\n",
              "      <th>3</th>\n",
              "      <td>3</td>\n",
              "      <td>Atletico Madrid</td>\n",
              "      <td>80</td>\n",
              "      <td>3442</td>\n",
              "      <td>2614</td>\n",
              "      <td>1241</td>\n",
              "      <td>598</td>\n",
              "      <td>775</td>\n",
              "      <td>4534</td>\n",
              "      <td>3309</td>\n",
              "      <td>10</td>\n",
              "      <td>8</td>\n",
              "      <td>16</td>\n",
              "      <td>9</td>\n",
              "      <td>7</td>\n",
              "      <td>6</td>\n",
              "      <td>56</td>\n",
              "      <td>1929</td>\n",
              "      <td>2002-03</td>\n",
              "      <td>1</td>\n",
              "    </tr>\n",
              "    <tr>\n",
              "      <th>4</th>\n",
              "      <td>4</td>\n",
              "      <td>Valencia</td>\n",
              "      <td>82</td>\n",
              "      <td>3386</td>\n",
              "      <td>2664</td>\n",
              "      <td>1187</td>\n",
              "      <td>616</td>\n",
              "      <td>861</td>\n",
              "      <td>4398</td>\n",
              "      <td>3469</td>\n",
              "      <td>6</td>\n",
              "      <td>6</td>\n",
              "      <td>10</td>\n",
              "      <td>11</td>\n",
              "      <td>10</td>\n",
              "      <td>7</td>\n",
              "      <td>50</td>\n",
              "      <td>1931-32</td>\n",
              "      <td>1987-88</td>\n",
              "      <td>1</td>\n",
              "    </tr>\n",
              "  </tbody>\n",
              "</table>\n",
              "</div>"
            ],
            "text/plain": [
              "  Unnamed: 0       Unnamed: 1  ...    Unnamed: 18   Unnamed: 19\n",
              "0        Pos             Team  ...  Since/LastApp  BestPosition\n",
              "1          1      Real Madrid  ...           1929             1\n",
              "2          2        Barcelona  ...           1929             1\n",
              "3          3  Atletico Madrid  ...        2002-03             1\n",
              "4          4         Valencia  ...        1987-88             1\n",
              "\n",
              "[5 rows x 20 columns]"
            ]
          },
          "metadata": {
            "tags": []
          },
          "execution_count": 27
        }
      ]
    },
    {
      "cell_type": "code",
      "metadata": {
        "id": "vQKM3bblJyty"
      },
      "source": [
        "r= {i:j for i,j in zip(df.columns, df.iloc[0].values)}"
      ],
      "execution_count": 28,
      "outputs": []
    },
    {
      "cell_type": "code",
      "metadata": {
        "id": "unofweUJKG4M"
      },
      "source": [
        "df.rename(r, axis=1, inplace=True)"
      ],
      "execution_count": 29,
      "outputs": []
    },
    {
      "cell_type": "code",
      "metadata": {
        "id": "6aarNGq4fjb8"
      },
      "source": [
        "df.drop(0, inplace= True)"
      ],
      "execution_count": 30,
      "outputs": []
    },
    {
      "cell_type": "code",
      "metadata": {
        "id": "f5-gQ5YXnzTj"
      },
      "source": [
        "df.set_index('Pos', inplace= True)"
      ],
      "execution_count": 31,
      "outputs": []
    },
    {
      "cell_type": "code",
      "metadata": {
        "colab": {
          "base_uri": "https://localhost:8080/",
          "height": 331
        },
        "id": "Vw3knS-1KG-4",
        "outputId": "d858803c-acae-4209-db58-e57669c06d65"
      },
      "source": [
        "df.head()"
      ],
      "execution_count": 32,
      "outputs": [
        {
          "output_type": "execute_result",
          "data": {
            "text/html": [
              "<div>\n",
              "<style scoped>\n",
              "    .dataframe tbody tr th:only-of-type {\n",
              "        vertical-align: middle;\n",
              "    }\n",
              "\n",
              "    .dataframe tbody tr th {\n",
              "        vertical-align: top;\n",
              "    }\n",
              "\n",
              "    .dataframe thead th {\n",
              "        text-align: right;\n",
              "    }\n",
              "</style>\n",
              "<table border=\"1\" class=\"dataframe\">\n",
              "  <thead>\n",
              "    <tr style=\"text-align: right;\">\n",
              "      <th></th>\n",
              "      <th>Team</th>\n",
              "      <th>Seasons</th>\n",
              "      <th>Points</th>\n",
              "      <th>GamesPlayed</th>\n",
              "      <th>GamesWon</th>\n",
              "      <th>GamesDrawn</th>\n",
              "      <th>GamesLost</th>\n",
              "      <th>GoalsFor</th>\n",
              "      <th>GoalsAgainst</th>\n",
              "      <th>Champion</th>\n",
              "      <th>Runner-up</th>\n",
              "      <th>Third</th>\n",
              "      <th>Fourth</th>\n",
              "      <th>Fifth</th>\n",
              "      <th>Sixth</th>\n",
              "      <th>T</th>\n",
              "      <th>Debut</th>\n",
              "      <th>Since/LastApp</th>\n",
              "      <th>BestPosition</th>\n",
              "    </tr>\n",
              "    <tr>\n",
              "      <th>Pos</th>\n",
              "      <th></th>\n",
              "      <th></th>\n",
              "      <th></th>\n",
              "      <th></th>\n",
              "      <th></th>\n",
              "      <th></th>\n",
              "      <th></th>\n",
              "      <th></th>\n",
              "      <th></th>\n",
              "      <th></th>\n",
              "      <th></th>\n",
              "      <th></th>\n",
              "      <th></th>\n",
              "      <th></th>\n",
              "      <th></th>\n",
              "      <th></th>\n",
              "      <th></th>\n",
              "      <th></th>\n",
              "      <th></th>\n",
              "    </tr>\n",
              "  </thead>\n",
              "  <tbody>\n",
              "    <tr>\n",
              "      <th>1</th>\n",
              "      <td>Real Madrid</td>\n",
              "      <td>86</td>\n",
              "      <td>4385</td>\n",
              "      <td>2762</td>\n",
              "      <td>1647</td>\n",
              "      <td>552</td>\n",
              "      <td>563</td>\n",
              "      <td>5947</td>\n",
              "      <td>3140</td>\n",
              "      <td>33</td>\n",
              "      <td>23</td>\n",
              "      <td>8</td>\n",
              "      <td>8</td>\n",
              "      <td>3</td>\n",
              "      <td>4</td>\n",
              "      <td>79</td>\n",
              "      <td>1929</td>\n",
              "      <td>1929</td>\n",
              "      <td>1</td>\n",
              "    </tr>\n",
              "    <tr>\n",
              "      <th>2</th>\n",
              "      <td>Barcelona</td>\n",
              "      <td>86</td>\n",
              "      <td>4262</td>\n",
              "      <td>2762</td>\n",
              "      <td>1581</td>\n",
              "      <td>573</td>\n",
              "      <td>608</td>\n",
              "      <td>5900</td>\n",
              "      <td>3114</td>\n",
              "      <td>25</td>\n",
              "      <td>25</td>\n",
              "      <td>12</td>\n",
              "      <td>12</td>\n",
              "      <td>4</td>\n",
              "      <td>6</td>\n",
              "      <td>83</td>\n",
              "      <td>1929</td>\n",
              "      <td>1929</td>\n",
              "      <td>1</td>\n",
              "    </tr>\n",
              "    <tr>\n",
              "      <th>3</th>\n",
              "      <td>Atletico Madrid</td>\n",
              "      <td>80</td>\n",
              "      <td>3442</td>\n",
              "      <td>2614</td>\n",
              "      <td>1241</td>\n",
              "      <td>598</td>\n",
              "      <td>775</td>\n",
              "      <td>4534</td>\n",
              "      <td>3309</td>\n",
              "      <td>10</td>\n",
              "      <td>8</td>\n",
              "      <td>16</td>\n",
              "      <td>9</td>\n",
              "      <td>7</td>\n",
              "      <td>6</td>\n",
              "      <td>56</td>\n",
              "      <td>1929</td>\n",
              "      <td>2002-03</td>\n",
              "      <td>1</td>\n",
              "    </tr>\n",
              "    <tr>\n",
              "      <th>4</th>\n",
              "      <td>Valencia</td>\n",
              "      <td>82</td>\n",
              "      <td>3386</td>\n",
              "      <td>2664</td>\n",
              "      <td>1187</td>\n",
              "      <td>616</td>\n",
              "      <td>861</td>\n",
              "      <td>4398</td>\n",
              "      <td>3469</td>\n",
              "      <td>6</td>\n",
              "      <td>6</td>\n",
              "      <td>10</td>\n",
              "      <td>11</td>\n",
              "      <td>10</td>\n",
              "      <td>7</td>\n",
              "      <td>50</td>\n",
              "      <td>1931-32</td>\n",
              "      <td>1987-88</td>\n",
              "      <td>1</td>\n",
              "    </tr>\n",
              "    <tr>\n",
              "      <th>5</th>\n",
              "      <td>Athletic Bilbao</td>\n",
              "      <td>86</td>\n",
              "      <td>3368</td>\n",
              "      <td>2762</td>\n",
              "      <td>1209</td>\n",
              "      <td>633</td>\n",
              "      <td>920</td>\n",
              "      <td>4631</td>\n",
              "      <td>3700</td>\n",
              "      <td>8</td>\n",
              "      <td>7</td>\n",
              "      <td>10</td>\n",
              "      <td>5</td>\n",
              "      <td>8</td>\n",
              "      <td>10</td>\n",
              "      <td>49</td>\n",
              "      <td>1929</td>\n",
              "      <td>1929</td>\n",
              "      <td>1</td>\n",
              "    </tr>\n",
              "  </tbody>\n",
              "</table>\n",
              "</div>"
            ],
            "text/plain": [
              "                Team Seasons Points  ...    Debut Since/LastApp BestPosition\n",
              "Pos                                  ...                                    \n",
              "1        Real Madrid      86   4385  ...     1929          1929            1\n",
              "2          Barcelona      86   4262  ...     1929          1929            1\n",
              "3    Atletico Madrid      80   3442  ...     1929       2002-03            1\n",
              "4           Valencia      82   3386  ...  1931-32       1987-88            1\n",
              "5    Athletic Bilbao      86   3368  ...     1929          1929            1\n",
              "\n",
              "[5 rows x 19 columns]"
            ]
          },
          "metadata": {
            "tags": []
          },
          "execution_count": 32
        }
      ]
    },
    {
      "cell_type": "code",
      "metadata": {
        "colab": {
          "base_uri": "https://localhost:8080/"
        },
        "id": "ih8VabUZKHEX",
        "outputId": "367cb918-88f3-4aa9-91d2-f608f5d1b7c9"
      },
      "source": [
        "df.shape"
      ],
      "execution_count": 33,
      "outputs": [
        {
          "output_type": "execute_result",
          "data": {
            "text/plain": [
              "(61, 19)"
            ]
          },
          "metadata": {
            "tags": []
          },
          "execution_count": 33
        }
      ]
    },
    {
      "cell_type": "code",
      "metadata": {
        "id": "d4IyxoCMKHIr"
      },
      "source": [
        "for i in df.columns:\r\n",
        "  df[i].replace({'-': np.nan}, inplace= True)"
      ],
      "execution_count": 34,
      "outputs": []
    },
    {
      "cell_type": "code",
      "metadata": {
        "id": "Gp_StY-9KHOB"
      },
      "source": [
        "for i in range(len(df['Debut'].values)):\r\n",
        "  if '-' in df['Debut'].values[i]:\r\n",
        "    df['Debut'].values[i] = df['Debut'].values[i].split('-')[0]"
      ],
      "execution_count": 35,
      "outputs": []
    },
    {
      "cell_type": "code",
      "metadata": {
        "id": "5nQxPOeeKHQo"
      },
      "source": [
        "for i in range(len(df['Since/LastApp'].values)):\r\n",
        "  if '-' in df['Since/LastApp'].values[i]:\r\n",
        "    df['Since/LastApp'].values[i] = '{}{}'.format(df['Since/LastApp'].values[i].split('-')[0][:2], df['Since/LastApp'].values[i].split('-')[1])"
      ],
      "execution_count": 36,
      "outputs": []
    },
    {
      "cell_type": "code",
      "metadata": {
        "id": "leXb7tfcKHTP"
      },
      "source": [
        "for i in df.columns[1:]:\r\n",
        "  df[i] = df[i].astype(float)"
      ],
      "execution_count": 37,
      "outputs": []
    },
    {
      "cell_type": "code",
      "metadata": {
        "id": "ON1nAh7yKHhK",
        "colab": {
          "base_uri": "https://localhost:8080/"
        },
        "outputId": "d79420c8-d26c-4487-c65f-f887ab22a262"
      },
      "source": [
        "df.dtypes"
      ],
      "execution_count": 38,
      "outputs": [
        {
          "output_type": "execute_result",
          "data": {
            "text/plain": [
              "Team              object\n",
              "Seasons          float64\n",
              "Points           float64\n",
              "GamesPlayed      float64\n",
              "GamesWon         float64\n",
              "GamesDrawn       float64\n",
              "GamesLost        float64\n",
              "GoalsFor         float64\n",
              "GoalsAgainst     float64\n",
              "Champion         float64\n",
              "Runner-up        float64\n",
              "Third            float64\n",
              "Fourth           float64\n",
              "Fifth            float64\n",
              "Sixth            float64\n",
              "T                float64\n",
              "Debut            float64\n",
              "Since/LastApp    float64\n",
              "BestPosition     float64\n",
              "dtype: object"
            ]
          },
          "metadata": {
            "tags": []
          },
          "execution_count": 38
        }
      ]
    },
    {
      "cell_type": "code",
      "metadata": {
        "id": "lZpnkZswKHkG",
        "colab": {
          "base_uri": "https://localhost:8080/"
        },
        "outputId": "716ce7f7-6831-4a26-f1ad-ead1de344257"
      },
      "source": [
        "#1\r\n",
        "\r\n",
        "df.loc[(df['Debut']>=1930) & (df['Debut']<=1980)]['Team']"
      ],
      "execution_count": 39,
      "outputs": [
        {
          "output_type": "execute_result",
          "data": {
            "text/plain": [
              "Pos\n",
              "4                Valencia\n",
              "6                 Sevilla\n",
              "9                Zaragoza\n",
              "10             Real Betis\n",
              "11    Deportivo La Coruna\n",
              "12             Celta Vigo\n",
              "13             Valladolid\n",
              "15         Sporting Gijon\n",
              "16                Osasuna\n",
              "17                 Malaga\n",
              "18                 Oviedo\n",
              "19               Mallorca\n",
              "20             Las Palmas\n",
              "22                Granada\n",
              "23         Rayo Vallecano\n",
              "24                  Elche\n",
              "26               Hercules\n",
              "27               Tenerife\n",
              "28                 Murcia\n",
              "29                 Alaves\n",
              "30                Levante\n",
              "31              Salamanca\n",
              "32               Sabadell\n",
              "33                  Cadiz\n",
              "35              Castellon\n",
              "38                Cordoba\n",
              "40             Recreativo\n",
              "41              Burgos CF\n",
              "42             Pontevedra\n",
              "47              Gimnastic\n",
              "50               Alcoyano\n",
              "51                   Jaen\n",
              "53             AD Almeria\n",
              "55                 Lleida\n",
              "58                 Condal\n",
              "59        Atletico Tetuan\n",
              "60       Cultural Leonesa\n",
              "Name: Team, dtype: object"
            ]
          },
          "metadata": {
            "tags": []
          },
          "execution_count": 39
        }
      ]
    },
    {
      "cell_type": "code",
      "metadata": {
        "id": "Y2UQIGuLKHmT",
        "colab": {
          "base_uri": "https://localhost:8080/"
        },
        "outputId": "8942a7c1-ba06-4644-d17b-99855422aa8b"
      },
      "source": [
        "#2\r\n",
        "df.sort_values(by='Points', ascending=False)[:5]['Team']"
      ],
      "execution_count": 40,
      "outputs": [
        {
          "output_type": "execute_result",
          "data": {
            "text/plain": [
              "Pos\n",
              "1        Real Madrid\n",
              "2          Barcelona\n",
              "3    Atletico Madrid\n",
              "4           Valencia\n",
              "5    Athletic Bilbao\n",
              "Name: Team, dtype: object"
            ]
          },
          "metadata": {
            "tags": []
          },
          "execution_count": 40
        }
      ]
    },
    {
      "cell_type": "code",
      "metadata": {
        "id": "lqbq5Z-AKHpB"
      },
      "source": [
        "#3 "
      ],
      "execution_count": 41,
      "outputs": []
    },
    {
      "cell_type": "code",
      "metadata": {
        "id": "EPM5h16pKHrl"
      },
      "source": [
        "df['win_p'] = [(df['GamesWon'].values[i]/df['GamesPlayed'].values[i])*100 for i in range(df.shape[0])]"
      ],
      "execution_count": 42,
      "outputs": []
    },
    {
      "cell_type": "code",
      "metadata": {
        "id": "miARbFBcKHt0",
        "colab": {
          "base_uri": "https://localhost:8080/",
          "height": 314
        },
        "outputId": "a42c022c-66b5-44e2-b999-53ba897caa08"
      },
      "source": [
        "df.head()"
      ],
      "execution_count": 43,
      "outputs": [
        {
          "output_type": "execute_result",
          "data": {
            "text/html": [
              "<div>\n",
              "<style scoped>\n",
              "    .dataframe tbody tr th:only-of-type {\n",
              "        vertical-align: middle;\n",
              "    }\n",
              "\n",
              "    .dataframe tbody tr th {\n",
              "        vertical-align: top;\n",
              "    }\n",
              "\n",
              "    .dataframe thead th {\n",
              "        text-align: right;\n",
              "    }\n",
              "</style>\n",
              "<table border=\"1\" class=\"dataframe\">\n",
              "  <thead>\n",
              "    <tr style=\"text-align: right;\">\n",
              "      <th></th>\n",
              "      <th>Team</th>\n",
              "      <th>Seasons</th>\n",
              "      <th>Points</th>\n",
              "      <th>GamesPlayed</th>\n",
              "      <th>GamesWon</th>\n",
              "      <th>GamesDrawn</th>\n",
              "      <th>GamesLost</th>\n",
              "      <th>GoalsFor</th>\n",
              "      <th>GoalsAgainst</th>\n",
              "      <th>Champion</th>\n",
              "      <th>Runner-up</th>\n",
              "      <th>Third</th>\n",
              "      <th>Fourth</th>\n",
              "      <th>Fifth</th>\n",
              "      <th>Sixth</th>\n",
              "      <th>T</th>\n",
              "      <th>Debut</th>\n",
              "      <th>Since/LastApp</th>\n",
              "      <th>BestPosition</th>\n",
              "      <th>win_p</th>\n",
              "    </tr>\n",
              "    <tr>\n",
              "      <th>Pos</th>\n",
              "      <th></th>\n",
              "      <th></th>\n",
              "      <th></th>\n",
              "      <th></th>\n",
              "      <th></th>\n",
              "      <th></th>\n",
              "      <th></th>\n",
              "      <th></th>\n",
              "      <th></th>\n",
              "      <th></th>\n",
              "      <th></th>\n",
              "      <th></th>\n",
              "      <th></th>\n",
              "      <th></th>\n",
              "      <th></th>\n",
              "      <th></th>\n",
              "      <th></th>\n",
              "      <th></th>\n",
              "      <th></th>\n",
              "      <th></th>\n",
              "    </tr>\n",
              "  </thead>\n",
              "  <tbody>\n",
              "    <tr>\n",
              "      <th>1</th>\n",
              "      <td>Real Madrid</td>\n",
              "      <td>86.0</td>\n",
              "      <td>4385.0</td>\n",
              "      <td>2762.0</td>\n",
              "      <td>1647.0</td>\n",
              "      <td>552.0</td>\n",
              "      <td>563.0</td>\n",
              "      <td>5947.0</td>\n",
              "      <td>3140.0</td>\n",
              "      <td>33.0</td>\n",
              "      <td>23.0</td>\n",
              "      <td>8.0</td>\n",
              "      <td>8.0</td>\n",
              "      <td>3.0</td>\n",
              "      <td>4.0</td>\n",
              "      <td>79.0</td>\n",
              "      <td>1929.0</td>\n",
              "      <td>1929.0</td>\n",
              "      <td>1.0</td>\n",
              "      <td>59.630702</td>\n",
              "    </tr>\n",
              "    <tr>\n",
              "      <th>2</th>\n",
              "      <td>Barcelona</td>\n",
              "      <td>86.0</td>\n",
              "      <td>4262.0</td>\n",
              "      <td>2762.0</td>\n",
              "      <td>1581.0</td>\n",
              "      <td>573.0</td>\n",
              "      <td>608.0</td>\n",
              "      <td>5900.0</td>\n",
              "      <td>3114.0</td>\n",
              "      <td>25.0</td>\n",
              "      <td>25.0</td>\n",
              "      <td>12.0</td>\n",
              "      <td>12.0</td>\n",
              "      <td>4.0</td>\n",
              "      <td>6.0</td>\n",
              "      <td>83.0</td>\n",
              "      <td>1929.0</td>\n",
              "      <td>1929.0</td>\n",
              "      <td>1.0</td>\n",
              "      <td>57.241130</td>\n",
              "    </tr>\n",
              "    <tr>\n",
              "      <th>3</th>\n",
              "      <td>Atletico Madrid</td>\n",
              "      <td>80.0</td>\n",
              "      <td>3442.0</td>\n",
              "      <td>2614.0</td>\n",
              "      <td>1241.0</td>\n",
              "      <td>598.0</td>\n",
              "      <td>775.0</td>\n",
              "      <td>4534.0</td>\n",
              "      <td>3309.0</td>\n",
              "      <td>10.0</td>\n",
              "      <td>8.0</td>\n",
              "      <td>16.0</td>\n",
              "      <td>9.0</td>\n",
              "      <td>7.0</td>\n",
              "      <td>6.0</td>\n",
              "      <td>56.0</td>\n",
              "      <td>1929.0</td>\n",
              "      <td>2003.0</td>\n",
              "      <td>1.0</td>\n",
              "      <td>47.475134</td>\n",
              "    </tr>\n",
              "    <tr>\n",
              "      <th>4</th>\n",
              "      <td>Valencia</td>\n",
              "      <td>82.0</td>\n",
              "      <td>3386.0</td>\n",
              "      <td>2664.0</td>\n",
              "      <td>1187.0</td>\n",
              "      <td>616.0</td>\n",
              "      <td>861.0</td>\n",
              "      <td>4398.0</td>\n",
              "      <td>3469.0</td>\n",
              "      <td>6.0</td>\n",
              "      <td>6.0</td>\n",
              "      <td>10.0</td>\n",
              "      <td>11.0</td>\n",
              "      <td>10.0</td>\n",
              "      <td>7.0</td>\n",
              "      <td>50.0</td>\n",
              "      <td>1931.0</td>\n",
              "      <td>1988.0</td>\n",
              "      <td>1.0</td>\n",
              "      <td>44.557057</td>\n",
              "    </tr>\n",
              "    <tr>\n",
              "      <th>5</th>\n",
              "      <td>Athletic Bilbao</td>\n",
              "      <td>86.0</td>\n",
              "      <td>3368.0</td>\n",
              "      <td>2762.0</td>\n",
              "      <td>1209.0</td>\n",
              "      <td>633.0</td>\n",
              "      <td>920.0</td>\n",
              "      <td>4631.0</td>\n",
              "      <td>3700.0</td>\n",
              "      <td>8.0</td>\n",
              "      <td>7.0</td>\n",
              "      <td>10.0</td>\n",
              "      <td>5.0</td>\n",
              "      <td>8.0</td>\n",
              "      <td>10.0</td>\n",
              "      <td>49.0</td>\n",
              "      <td>1929.0</td>\n",
              "      <td>1929.0</td>\n",
              "      <td>1.0</td>\n",
              "      <td>43.772629</td>\n",
              "    </tr>\n",
              "  </tbody>\n",
              "</table>\n",
              "</div>"
            ],
            "text/plain": [
              "                Team  Seasons  Points  ...  Since/LastApp  BestPosition      win_p\n",
              "Pos                                    ...                                        \n",
              "1        Real Madrid     86.0  4385.0  ...         1929.0           1.0  59.630702\n",
              "2          Barcelona     86.0  4262.0  ...         1929.0           1.0  57.241130\n",
              "3    Atletico Madrid     80.0  3442.0  ...         2003.0           1.0  47.475134\n",
              "4           Valencia     82.0  3386.0  ...         1988.0           1.0  44.557057\n",
              "5    Athletic Bilbao     86.0  3368.0  ...         1929.0           1.0  43.772629\n",
              "\n",
              "[5 rows x 20 columns]"
            ]
          },
          "metadata": {
            "tags": []
          },
          "execution_count": 43
        }
      ]
    },
    {
      "cell_type": "code",
      "metadata": {
        "id": "jn1oEkK6KHxK",
        "colab": {
          "base_uri": "https://localhost:8080/",
          "height": 297
        },
        "outputId": "a213ba83-343a-48b8-9112-bf5bb9ddf623"
      },
      "source": [
        "sns.distplot(df['win_p'])\r\n",
        "print('skew', df['win_p'].skew())"
      ],
      "execution_count": 44,
      "outputs": [
        {
          "output_type": "stream",
          "text": [
            "skew 1.4400457145184595\n"
          ],
          "name": "stdout"
        },
        {
          "output_type": "display_data",
          "data": {
            "image/png": "[encoded data removed]",
            "text/plain": [
              "<Figure size 432x288 with 1 Axes>"
            ]
          },
          "metadata": {
            "tags": [],
            "needs_background": "light"
          }
        }
      ]
    },
    {
      "cell_type": "code",
      "metadata": {
        "id": "s1HbEvdnKHzm",
        "colab": {
          "base_uri": "https://localhost:8080/"
        },
        "outputId": "8dcf66fd-5ea7-46ea-8919-66630f95de01"
      },
      "source": [
        "df.sort_values(by='win_p', ascending=False)[:5]['Team']"
      ],
      "execution_count": 45,
      "outputs": [
        {
          "output_type": "execute_result",
          "data": {
            "text/plain": [
              "Pos\n",
              "1        Real Madrid\n",
              "2          Barcelona\n",
              "3    Atletico Madrid\n",
              "4           Valencia\n",
              "5    Athletic Bilbao\n",
              "Name: Team, dtype: object"
            ]
          },
          "metadata": {
            "tags": []
          },
          "execution_count": 45
        }
      ]
    },
    {
      "cell_type": "code",
      "metadata": {
        "id": "86CMiks5KH2e"
      },
      "source": [
        "# 4\r\n",
        "\r\n",
        "# Null hypothesis: There is no significant difference between team with position between 1-3 and teams with positions 4-7\r\n",
        "# Alternate hypothesis: there is significant difference \r\n",
        "\r\n",
        "# we dont know population parameters. \r\n",
        "# 2 sample unpaired t test"
      ],
      "execution_count": 46,
      "outputs": []
    },
    {
      "cell_type": "code",
      "metadata": {
        "id": "FIht827zKH4n"
      },
      "source": [
        "x_1to3 = df.loc[(df['BestPosition']>=1) & (df['BestPosition']<=3)]['win_p'].values\r\n",
        "x_4to7 = df.loc[(df['BestPosition']>=4) & (df['BestPosition']<=7)]['win_p'].values"
      ],
      "execution_count": 47,
      "outputs": []
    },
    {
      "cell_type": "code",
      "metadata": {
        "colab": {
          "base_uri": "https://localhost:8080/"
        },
        "id": "5KlNiD51ylKT",
        "outputId": "68b5f3d0-75f4-426e-ccae-754abf78f011"
      },
      "source": [
        "# Shapiro tests for checking parametricity\r\n",
        "\r\n",
        "# Null hypothesis: Both of the distribution follow Normal Distribution\r\n",
        "\r\n",
        "from scipy.stats import shapiro\r\n",
        "\r\n",
        "stats1,p1 = shapiro(x_1to3)\r\n",
        "print(stats1, p1)"
      ],
      "execution_count": 48,
      "outputs": [
        {
          "output_type": "stream",
          "text": [
            "0.8252524733543396 0.0035329433158040047\n"
          ],
          "name": "stdout"
        }
      ]
    },
    {
      "cell_type": "code",
      "metadata": {
        "colab": {
          "base_uri": "https://localhost:8080/",
          "height": 282
        },
        "id": "PI3jo0F52SdI",
        "outputId": "b7412c1d-4069-48a6-f0c7-d1f7b966047e"
      },
      "source": [
        "sns.distplot(x_1to3)"
      ],
      "execution_count": 49,
      "outputs": [
        {
          "output_type": "execute_result",
          "data": {
            "text/plain": [
              "<matplotlib.axes._subplots.AxesSubplot at 0x7f68229b4828>"
            ]
          },
          "metadata": {
            "tags": []
          },
          "execution_count": 49
        },
        {
          "output_type": "display_data",
          "data": {
            "image/png": "[encoded data removed]",
            "text/plain": [
              "<Figure size 432x288 with 1 Axes>"
            ]
          },
          "metadata": {
            "tags": [],
            "needs_background": "light"
          }
        }
      ]
    },
    {
      "cell_type": "code",
      "metadata": {
        "id": "5JKeb-tp2abD"
      },
      "source": [
        "# using a Kruskal test since one of our sample is NOT normaly distributed.\r\n",
        "\r\n",
        "test_st, p_v = stats.kruskal(x_1to3, x_4to7)"
      ],
      "execution_count": 50,
      "outputs": []
    },
    {
      "cell_type": "code",
      "metadata": {
        "colab": {
          "base_uri": "https://localhost:8080/"
        },
        "id": "dzQi7M5m22VO",
        "outputId": "3d5d688f-703d-47f1-cd42-58e3f3d2556b"
      },
      "source": [
        "print(test_st, p_v)"
      ],
      "execution_count": 51,
      "outputs": [
        {
          "output_type": "stream",
          "text": [
            "24.413782495561865 7.771074596666456e-07\n"
          ],
          "name": "stdout"
        }
      ]
    },
    {
      "cell_type": "code",
      "metadata": {
        "colab": {
          "base_uri": "https://localhost:8080/"
        },
        "id": "zyJ1bvmDzUuk",
        "outputId": "6cbe8efe-be5e-4e94-b241-45150c0b498e"
      },
      "source": [
        "# teams with positions 4-7\r\n",
        "\r\n",
        "stats2,p2 = shapiro(x_4to7)\r\n",
        "print(stats2, p2)"
      ],
      "execution_count": 52,
      "outputs": [
        {
          "output_type": "stream",
          "text": [
            "0.9436671733856201 0.2809881269931793\n"
          ],
          "name": "stdout"
        }
      ]
    },
    {
      "cell_type": "code",
      "metadata": {
        "id": "WELZrgbiKH9l",
        "colab": {
          "base_uri": "https://localhost:8080/"
        },
        "outputId": "0532b268-28d8-4b38-8e54-377ed76b22a3"
      },
      "source": [
        "# means: \r\n",
        "print(np.mean(x_1to3))\r\n",
        "print(np.mean(x_4to7))"
      ],
      "execution_count": 53,
      "outputs": [
        {
          "output_type": "stream",
          "text": [
            "39.674123684661126\n",
            "30.2910202207672\n"
          ],
          "name": "stdout"
        }
      ]
    },
    {
      "cell_type": "markdown",
      "metadata": {
        "id": "s9BRYsVwwYlG"
      },
      "source": [
        "Since p value is lesser than 0.05, we reject the null hypothesis\r\n",
        "there is indeed statistical evidence to say that there is significant difference in the winning percentage for teams which have attained a best position between 1-3 and those teams which have had a best position between 4-7"
      ]
    },
    {
      "cell_type": "markdown",
      "metadata": {
        "id": "V-xVw1J6wpoP"
      },
      "source": [
        "# 2"
      ]
    },
    {
      "cell_type": "code",
      "metadata": {
        "id": "F1bCSkiHKIDP"
      },
      "source": [
        "n= 200\r\n",
        "xbar = 140\r\n",
        "std = 25"
      ],
      "execution_count": 54,
      "outputs": []
    },
    {
      "cell_type": "code",
      "metadata": {
        "id": "lgIYwYVYKIGJ",
        "colab": {
          "base_uri": "https://localhost:8080/"
        },
        "outputId": "0e302004-3186-47b5-e5ee-2289f19a1139"
      },
      "source": [
        "#1\r\n",
        "se= 25/np.sqrt(n)\r\n",
        "print(se)"
      ],
      "execution_count": 55,
      "outputs": [
        {
          "output_type": "stream",
          "text": [
            "1.7677669529663687\n"
          ],
          "name": "stdout"
        }
      ]
    },
    {
      "cell_type": "markdown",
      "metadata": {
        "id": "MzfLazrjxcWt"
      },
      "source": [
        "Standard error is 1.7677669529663687. It denotes how accurate and relaible our estimation of the population mean is- based upon the calculated sample mean. \r\n",
        "The \"standard error of the mean\" refers to the standard deviation of the distribution of sample means taken from a population. The smaller the standard error, the more representative the sample will be of the overall population."
      ]
    },
    {
      "cell_type": "code",
      "metadata": {
        "id": "3b2Pe8fzKIIa"
      },
      "source": [
        "# 2\r\n",
        "\r\n",
        "# Since population mean/std is not given, we continue with t stat intervals."
      ],
      "execution_count": 56,
      "outputs": []
    },
    {
      "cell_type": "code",
      "metadata": {
        "id": "Bgf2PdAyKILY",
        "colab": {
          "base_uri": "https://localhost:8080/"
        },
        "outputId": "0b5ac886-a5d8-468e-9a3e-4421c6a99308"
      },
      "source": [
        "a1,b1= stats.t.interval(0.95,loc=xbar, df= n-1,scale=se)\r\n",
        "print(a1,b1)"
      ],
      "execution_count": 57,
      "outputs": [
        {
          "output_type": "stream",
          "text": [
            "136.51404038839016 143.48595961160984\n"
          ],
          "name": "stdout"
        }
      ]
    },
    {
      "cell_type": "code",
      "metadata": {
        "id": "tUhjRF7GKIOU",
        "colab": {
          "base_uri": "https://localhost:8080/"
        },
        "outputId": "32e39335-3cbe-492a-c3db-9d41ea77d7c8"
      },
      "source": [
        "#3\r\n",
        "\r\n",
        "a2,b2 = stats.t.interval(0.95,loc=xbar, df= 99,scale=se)\r\n",
        "print(a2,b2)"
      ],
      "execution_count": 58,
      "outputs": [
        {
          "output_type": "stream",
          "text": [
            "136.49236684560728 143.50763315439272\n"
          ],
          "name": "stdout"
        }
      ]
    },
    {
      "cell_type": "code",
      "metadata": {
        "id": "KoL9p8Q7KIRP",
        "colab": {
          "base_uri": "https://localhost:8080/"
        },
        "outputId": "29b22038-b1ce-4ef5-88cf-6f047ad602ed"
      },
      "source": [
        "#4\r\n",
        "print(abs(a1-b1))\r\n",
        "print(abs(a2-b2))"
      ],
      "execution_count": 59,
      "outputs": [
        {
          "output_type": "stream",
          "text": [
            "6.971919223219686\n",
            "7.015266308785442\n"
          ],
          "name": "stdout"
        }
      ]
    },
    {
      "cell_type": "code",
      "metadata": {
        "id": "nn9VFDsbKITh"
      },
      "source": [
        "# sample with 100 one is more wider"
      ],
      "execution_count": 60,
      "outputs": []
    },
    {
      "cell_type": "markdown",
      "metadata": {
        "id": "Asgf9Qo58J5v"
      },
      "source": [
        "## 5\r\n",
        "\r\n",
        "The reason why the estimated standard error of a sample mean tends to decrease with an increase in sample size is because in SE formula- we divide by the square root of sample size- now- the bigger the magnitude of denominator - smaller is the value of the the fraction. \r\n",
        "\r\n",
        "Statistically, SE tends to generalize the estimation- the bigger the sample size- it gets lesser and lesser generalized. "
      ]
    },
    {
      "cell_type": "code",
      "metadata": {
        "id": "BfgvoCCtKIZc",
        "colab": {
          "base_uri": "https://localhost:8080/",
          "height": 197
        },
        "outputId": "4947854a-6879-4152-8d06-c9a04683e494"
      },
      "source": [
        "# 3\r\n",
        "\r\n",
        "df2= pd.read_csv('/content/Golf.csv')\r\n",
        "df2.head()"
      ],
      "execution_count": 61,
      "outputs": [
        {
          "output_type": "execute_result",
          "data": {
            "text/html": [
              "<div>\n",
              "<style scoped>\n",
              "    .dataframe tbody tr th:only-of-type {\n",
              "        vertical-align: middle;\n",
              "    }\n",
              "\n",
              "    .dataframe tbody tr th {\n",
              "        vertical-align: top;\n",
              "    }\n",
              "\n",
              "    .dataframe thead th {\n",
              "        text-align: right;\n",
              "    }\n",
              "</style>\n",
              "<table border=\"1\" class=\"dataframe\">\n",
              "  <thead>\n",
              "    <tr style=\"text-align: right;\">\n",
              "      <th></th>\n",
              "      <th>Current</th>\n",
              "      <th>New</th>\n",
              "    </tr>\n",
              "  </thead>\n",
              "  <tbody>\n",
              "    <tr>\n",
              "      <th>0</th>\n",
              "      <td>264</td>\n",
              "      <td>277</td>\n",
              "    </tr>\n",
              "    <tr>\n",
              "      <th>1</th>\n",
              "      <td>261</td>\n",
              "      <td>269</td>\n",
              "    </tr>\n",
              "    <tr>\n",
              "      <th>2</th>\n",
              "      <td>267</td>\n",
              "      <td>263</td>\n",
              "    </tr>\n",
              "    <tr>\n",
              "      <th>3</th>\n",
              "      <td>272</td>\n",
              "      <td>266</td>\n",
              "    </tr>\n",
              "    <tr>\n",
              "      <th>4</th>\n",
              "      <td>258</td>\n",
              "      <td>262</td>\n",
              "    </tr>\n",
              "  </tbody>\n",
              "</table>\n",
              "</div>"
            ],
            "text/plain": [
              "   Current  New\n",
              "0      264  277\n",
              "1      261  269\n",
              "2      267  263\n",
              "3      272  266\n",
              "4      258  262"
            ]
          },
          "metadata": {
            "tags": []
          },
          "execution_count": 61
        }
      ]
    },
    {
      "cell_type": "markdown",
      "metadata": {
        "id": "GzWPsjJnMPFM"
      },
      "source": [
        "# A\r\n",
        "\r\n",
        "Null hypothesis: The mean of driving distance of current model and previous model is same. ( Ub = Ua) i;e No difference in mean Ub-Ua = 0\r\n",
        "\r\n",
        "Alternate: there is a significant difference in means of driving distance of current model and previous model is same. ( Ub != Ua)\r\n",
        "i;e Ub - Ua < 0"
      ]
    },
    {
      "cell_type": "code",
      "metadata": {
        "id": "aINQQFvgKIcJ",
        "colab": {
          "base_uri": "https://localhost:8080/"
        },
        "outputId": "354cfe43-6418-40ca-80bc-91f8d5a22231"
      },
      "source": [
        "# we can do a paired one tail t test\r\n",
        "\r\n",
        "curr= df2['Current']\r\n",
        "new= df2['New']\r\n",
        "\r\n",
        "n= len(curr)\r\n",
        "x1= np.mean(curr)\r\n",
        "std1= np.std(curr)\r\n",
        "se1= std1/np.sqrt(n)\r\n",
        "\r\n",
        "x2= np.mean(new)\r\n",
        "std2= np.std(new)\r\n",
        "se2= std2/np.sqrt(n)\r\n",
        "\r\n",
        "print(x1, 'curr')\r\n",
        "print(x2, 'new')"
      ],
      "execution_count": 62,
      "outputs": [
        {
          "output_type": "stream",
          "text": [
            "270.275 curr\n",
            "267.5 new\n"
          ],
          "name": "stdout"
        }
      ]
    },
    {
      "cell_type": "code",
      "metadata": {
        "id": "b96nvXaaKIfY"
      },
      "source": [
        "# we can see that there is slight decrese in driving distance of the new coated ball, BUT is this difference significant enough?"
      ],
      "execution_count": 63,
      "outputs": []
    },
    {
      "cell_type": "code",
      "metadata": {
        "id": "hzCjb0ofKIiG",
        "colab": {
          "base_uri": "https://localhost:8080/"
        },
        "outputId": "df2ea22b-6dbc-4009-b503-66c3364414dd"
      },
      "source": [
        "# check normality\r\n",
        "\r\n",
        "stats.shapiro(curr)"
      ],
      "execution_count": 64,
      "outputs": [
        {
          "output_type": "execute_result",
          "data": {
            "text/plain": [
              "(0.9707045555114746, 0.37878310680389404)"
            ]
          },
          "metadata": {
            "tags": []
          },
          "execution_count": 64
        }
      ]
    },
    {
      "cell_type": "code",
      "metadata": {
        "id": "lkzOB1qYKIki",
        "colab": {
          "base_uri": "https://localhost:8080/"
        },
        "outputId": "7eafc757-c4d6-4c57-9596-821c80cee62d"
      },
      "source": [
        "stats.shapiro(new)"
      ],
      "execution_count": 65,
      "outputs": [
        {
          "output_type": "execute_result",
          "data": {
            "text/plain": [
              "(0.9678265452384949, 0.3064688742160797)"
            ]
          },
          "metadata": {
            "tags": []
          },
          "execution_count": 65
        }
      ]
    },
    {
      "cell_type": "code",
      "metadata": {
        "id": "nEa9WmhUKIoc"
      },
      "source": [
        "# both are normal, we can use a t test"
      ],
      "execution_count": 60,
      "outputs": []
    },
    {
      "cell_type": "code",
      "metadata": {
        "id": "vW5bxTIiKIq8",
        "colab": {
          "base_uri": "https://localhost:8080/"
        },
        "outputId": "504eeb5a-5ad1-4264-ecd9-e12afa2501e2"
      },
      "source": [
        "T_stats_, pval = stats.ttest_rel(curr, new)\r\n",
        "print(T_stats_, pval)"
      ],
      "execution_count": 67,
      "outputs": [
        {
          "output_type": "stream",
          "text": [
            "1.2769699827911767 0.20916361823147053\n"
          ],
          "name": "stdout"
        }
      ]
    },
    {
      "cell_type": "code",
      "metadata": {
        "id": "dqPSpIq-KItW",
        "colab": {
          "base_uri": "https://localhost:8080/"
        },
        "outputId": "02344b1a-bea0-42f5-84be-495fdee9b37c"
      },
      "source": [
        "# Since we are only concerned about the one half, \r\n",
        "\r\n",
        "pval/2"
      ],
      "execution_count": 68,
      "outputs": [
        {
          "output_type": "execute_result",
          "data": {
            "text/plain": [
              "0.10458180911573527"
            ]
          },
          "metadata": {
            "tags": []
          },
          "execution_count": 68
        }
      ]
    },
    {
      "cell_type": "markdown",
      "metadata": {
        "id": "Q6Vc-Jbpa4b9"
      },
      "source": [
        "### The p value is = 0.1045\r\n",
        "\r\n",
        "Since P value is greater than 0.05, we fail to reject the null hypothesis. \r\n",
        "\r\n",
        "There is indeed NO SIGNIFICANT difference in driving distance after the coating."
      ]
    },
    {
      "cell_type": "markdown",
      "metadata": {
        "id": "DJAl3Z6dbRnc"
      },
      "source": [
        "## My recommendation to Par Inc. is to go ahead with the coating technology as there is no significant  difference in driving distance after the coating even after the coating. "
      ]
    },
    {
      "cell_type": "code",
      "metadata": {
        "id": "4YAn_z7RKI5c",
        "colab": {
          "base_uri": "https://localhost:8080/"
        },
        "outputId": "60d0ac07-e984-46ff-dbe9-6a36ebf6d1e6"
      },
      "source": [
        "# 3\r\n",
        "\r\n",
        "#a\r\n",
        "stats.t.interval(0.95, loc=x1,df=n-1, scale=se1)"
      ],
      "execution_count": 70,
      "outputs": [
        {
          "output_type": "execute_result",
          "data": {
            "text/plain": [
              "(267.51087288314795, 273.039127116852)"
            ]
          },
          "metadata": {
            "tags": []
          },
          "execution_count": 70
        }
      ]
    },
    {
      "cell_type": "code",
      "metadata": {
        "id": "bKJWhnW3KI7u",
        "colab": {
          "base_uri": "https://localhost:8080/"
        },
        "outputId": "7734bb7b-b12e-46b0-d3dd-1a6f175f2190"
      },
      "source": [
        "# b\r\n",
        "\r\n",
        "stats.t.interval(0.95, loc=x2,df=n-1, scale=se2)"
      ],
      "execution_count": 71,
      "outputs": [
        {
          "output_type": "execute_result",
          "data": {
            "text/plain": [
              "(264.37463162538575, 270.62536837461425)"
            ]
          },
          "metadata": {
            "tags": []
          },
          "execution_count": 71
        }
      ]
    },
    {
      "cell_type": "code",
      "metadata": {
        "id": "3qjxsLGmKI_t",
        "colab": {
          "base_uri": "https://localhost:8080/"
        },
        "outputId": "cadcb3d3-cda6-44ea-e983-89b3561b5da2"
      },
      "source": [
        "# what is the 95% confidence interval for the difference between the means of the two population?\r\n",
        "\r\n",
        "dif= x1 - x2\r\n",
        "print(dif)"
      ],
      "execution_count": 72,
      "outputs": [
        {
          "output_type": "stream",
          "text": [
            "2.7749999999999773\n"
          ],
          "name": "stdout"
        }
      ]
    },
    {
      "cell_type": "code",
      "metadata": {
        "id": "GW_5InBbKJCQ"
      },
      "source": [
        "# we use standard error to estimate population std dev. "
      ],
      "execution_count": 60,
      "outputs": []
    },
    {
      "cell_type": "code",
      "metadata": {
        "id": "KMYovMQuKJFW",
        "colab": {
          "base_uri": "https://localhost:8080/"
        },
        "outputId": "bfe6d7dd-f392-49a0-96d5-301953ef82b7"
      },
      "source": [
        "upl= (se1**2)/n\r\n",
        "lpl= (se2**2)/n\r\n",
        "\r\n",
        "print(upl)\r\n",
        "print(lpl)"
      ],
      "execution_count": 73,
      "outputs": [
        {
          "output_type": "stream",
          "text": [
            "0.046687109375\n",
            "0.059687500000000004\n"
          ],
          "name": "stdout"
        }
      ]
    },
    {
      "cell_type": "code",
      "metadata": {
        "id": "g2QGnabOKJIz",
        "colab": {
          "base_uri": "https://localhost:8080/"
        },
        "outputId": "efed9777-d4ae-4928-af98-13d624f2cb1f"
      },
      "source": [
        "sr = np.sqrt(upl+lpl)\r\n",
        "sr"
      ],
      "execution_count": 74,
      "outputs": [
        {
          "output_type": "execute_result",
          "data": {
            "text/plain": [
              "0.3261512063062162"
            ]
          },
          "metadata": {
            "tags": []
          },
          "execution_count": 74
        }
      ]
    },
    {
      "cell_type": "code",
      "metadata": {
        "id": "nmlxgtwtKJLI",
        "colab": {
          "base_uri": "https://localhost:8080/"
        },
        "outputId": "7b7c0109-3aa0-4287-f2fb-f515a708399d"
      },
      "source": [
        "final_pl = 1.96 * sr\r\n",
        "final_pl"
      ],
      "execution_count": 75,
      "outputs": [
        {
          "output_type": "execute_result",
          "data": {
            "text/plain": [
              "0.6392563643601837"
            ]
          },
          "metadata": {
            "tags": []
          },
          "execution_count": 75
        }
      ]
    },
    {
      "cell_type": "markdown",
      "metadata": {
        "id": "o_iR5zlrjWK_"
      },
      "source": [
        "## Our 95% CI for estimating difference between means of two population is:\r\n",
        "\r\n",
        "upper c_value = 2.774 + 0.6392\r\n",
        "\r\n",
        "lower c_value = 2.774 - 0.6392"
      ]
    },
    {
      "cell_type": "code",
      "metadata": {
        "id": "BEI4VGyTKJOI"
      },
      "source": [
        ""
      ],
      "execution_count": 60,
      "outputs": []
    },
    {
      "cell_type": "code",
      "metadata": {
        "id": "5990meV9KJRM"
      },
      "source": [
        ""
      ],
      "execution_count": 60,
      "outputs": []
    },
    {
      "cell_type": "code",
      "metadata": {
        "id": "zMh5aRQAKJT3"
      },
      "source": [
        ""
      ],
      "execution_count": 60,
      "outputs": []
    },
    {
      "cell_type": "code",
      "metadata": {
        "id": "pJvEY2riKJWi"
      },
      "source": [
        ""
      ],
      "execution_count": 60,
      "outputs": []
    },
    {
      "cell_type": "code",
      "metadata": {
        "id": "bqwwCn6PKJZt"
      },
      "source": [
        ""
      ],
      "execution_count": 60,
      "outputs": []
    }
  ]
}