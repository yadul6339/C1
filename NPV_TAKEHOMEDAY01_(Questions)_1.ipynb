{
  "nbformat": 4,
  "nbformat_minor": 0,
  "metadata": {
    "kernelspec": {
      "display_name": "Python 3",
      "language": "python",
      "name": "python3"
    },
    "language_info": {
      "codemirror_mode": {
        "name": "ipython",
        "version": 3
      },
      "file_extension": ".py",
      "mimetype": "text/x-python",
      "name": "python",
      "nbconvert_exporter": "python",
      "pygments_lexer": "ipython3",
      "version": "3.7.3"
    },
    "colab": {
      "name": "NPV_TAKEHOMEDAY01- (Questions)-1.ipynb",
      "provenance": [],
      "collapsed_sections": [],
      "include_colab_link": true
    }
  },
  "cells": [
    {
      "cell_type": "markdown",
      "metadata": {
        "id": "view-in-github",
        "colab_type": "text"
      },
      "source": [
        "<a href=\"https://colab.research.google.com/github/zerryberry/C1/blob/master/NPV_TAKEHOMEDAY01_(Questions)_1.ipynb\" target=\"_parent\"><img src=\"https://colab.research.google.com/assets/colab-badge.svg\" alt=\"Open In Colab\"/></a>"
      ]
    },
    {
      "cell_type": "markdown",
      "metadata": {
        "id": "s5WHMbO4obMb"
      },
      "source": [
        "# TAKE HOME LAB EXERCISE - 01"
      ]
    },
    {
      "cell_type": "markdown",
      "metadata": {
        "id": "celC2LsdobMd"
      },
      "source": [
        "-----------"
      ]
    },
    {
      "cell_type": "markdown",
      "metadata": {
        "id": "0aWF4VaBobMf"
      },
      "source": [
        "**(1).Create a 1D array with 10 values in it and then convert the 1D array to 2D array ?**"
      ]
    },
    {
      "cell_type": "code",
      "metadata": {
        "id": "XOUz8SQRobMg",
        "outputId": "54c5815f-cd5e-4e30-bcaf-e10fc31ec3a7",
        "colab": {
          "base_uri": "https://localhost:8080/",
          "height": 51
        }
      },
      "source": [
        "import numpy as np\n",
        "a= np.arange(10,20)\n",
        "b= a.reshape((2,5))\n",
        "b"
      ],
      "execution_count": 3,
      "outputs": [
        {
          "output_type": "execute_result",
          "data": {
            "text/plain": [
              "array([[10, 11, 12, 13, 14],\n",
              "       [15, 16, 17, 18, 19]])"
            ]
          },
          "metadata": {
            "tags": []
          },
          "execution_count": 3
        }
      ]
    },
    {
      "cell_type": "code",
      "metadata": {
        "id": "UHUzLlFfoxqu",
        "outputId": "ed3f9e13-3cd1-4f91-f129-462e6eabe4b8",
        "colab": {
          "base_uri": "https://localhost:8080/",
          "height": 34
        }
      },
      "source": [
        "b.ndim"
      ],
      "execution_count": 4,
      "outputs": [
        {
          "output_type": "execute_result",
          "data": {
            "text/plain": [
              "2"
            ]
          },
          "metadata": {
            "tags": []
          },
          "execution_count": 4
        }
      ]
    },
    {
      "cell_type": "markdown",
      "metadata": {
        "id": "oljhBxcSobMn"
      },
      "source": [
        "-------------------------------------------------------------"
      ]
    },
    {
      "cell_type": "markdown",
      "metadata": {
        "id": "iTm68ecvobMo"
      },
      "source": [
        "**(2).Print or show only 3 decimal places of the numpy array `random_arr`**"
      ]
    },
    {
      "cell_type": "code",
      "metadata": {
        "id": "EeHgdbrAobMp"
      },
      "source": [
        "a= np.random.rand(10)\n",
        "b= np.array(list(map(lambda x: round(x, 3), a)))"
      ],
      "execution_count": 13,
      "outputs": []
    },
    {
      "cell_type": "code",
      "metadata": {
        "id": "LVKkqEGGqoVv",
        "outputId": "2c678653-0aee-49d9-bf9d-31a0ec310bc4",
        "colab": {
          "base_uri": "https://localhost:8080/",
          "height": 51
        }
      },
      "source": [
        "b"
      ],
      "execution_count": 14,
      "outputs": [
        {
          "output_type": "execute_result",
          "data": {
            "text/plain": [
              "array([0.102, 0.105, 0.197, 0.023, 0.684, 0.627, 0.784, 0.173, 0.373,\n",
              "       0.768])"
            ]
          },
          "metadata": {
            "tags": []
          },
          "execution_count": 14
        }
      ]
    },
    {
      "cell_type": "markdown",
      "metadata": {
        "id": "Ye0GG9MWobMu"
      },
      "source": [
        "----------------------------------"
      ]
    },
    {
      "cell_type": "markdown",
      "metadata": {
        "id": "JJywSzCZobMv"
      },
      "source": [
        "**(3).The number of items printed to be limit in python numpy array a to a maximum of 6 elements.**\n",
        "\n",
        "   \n",
        "     Intake : x = np.arange(15)\n",
        "               array([ 0,  1,  2,  3,  4,  5,  6,  7,  8,  9, 10, 11, 12, 13, 14])\n",
        "               \n",
        "     Result : ([ 0,  1,  2, ..., 12, 13, 14])"
      ]
    },
    {
      "cell_type": "code",
      "metadata": {
        "id": "7M2YncxaobMw",
        "outputId": "7c3b687e-601b-4411-aa06-ef3df1611c55",
        "colab": {
          "base_uri": "https://localhost:8080/",
          "height": 34
        }
      },
      "source": [
        "np.set_printoptions(threshold = None)\n",
        "np.arange(15)"
      ],
      "execution_count": 17,
      "outputs": [
        {
          "output_type": "execute_result",
          "data": {
            "text/plain": [
              "array([ 0,  1,  2, ..., 12, 13, 14])"
            ]
          },
          "metadata": {
            "tags": []
          },
          "execution_count": 17
        }
      ]
    },
    {
      "cell_type": "markdown",
      "metadata": {
        "id": "hYMOxKjEobM2"
      },
      "source": [
        "---------------------"
      ]
    },
    {
      "cell_type": "markdown",
      "metadata": {
        "id": "IJ2ag7OqobM3"
      },
      "source": [
        "**(4). Take two arrays  `x` and `y` and Stack the `x` and `y` arrays Horizontal.**\n",
        "\n",
        "\n",
        "    Intake:\n",
        "                x = np.arange(10).reshape(2,-1)\n",
        "\n",
        "                y = np.repeat(1, 10).reshape(2,-1)\n",
        "\n",
        " \n",
        "    \n",
        "    Result:       ([[0, 1, 2, 3, 4, 1, 1, 1, 1, 1],\n",
        "                   [5, 6, 7, 8, 9, 1, 1, 1, 1, 1]])"
      ]
    },
    {
      "cell_type": "code",
      "metadata": {
        "id": "UZQHDkDRobM4",
        "outputId": "8a486ff7-76f0-4608-ec39-4c835a26387d",
        "colab": {
          "base_uri": "https://localhost:8080/",
          "height": 51
        }
      },
      "source": [
        "x = np.arange(10).reshape(2,-1)\n",
        "y = np.repeat(1, 10).reshape(2,-1)\n",
        "np.stack((x,y),1).reshape((2,10))"
      ],
      "execution_count": 41,
      "outputs": [
        {
          "output_type": "execute_result",
          "data": {
            "text/plain": [
              "array([[0, 1, 2, 3, 4, 1, 1, 1, 1, 1],\n",
              "       [5, 6, 7, 8, 9, 1, 1, 1, 1, 1]])"
            ]
          },
          "metadata": {
            "tags": []
          },
          "execution_count": 41
        }
      ]
    },
    {
      "cell_type": "markdown",
      "metadata": {
        "id": "0IZR_g_yobM-"
      },
      "source": [
        "----------------------"
      ]
    },
    {
      "cell_type": "markdown",
      "metadata": {
        "id": "YDBNQPLvobM-"
      },
      "source": [
        "**(5). Consider the given array's and print the values which are common in both the arrays.**\n",
        "    \n",
        "    \n",
        "    Intake: \n",
        "   \n",
        "        x = np.array([1,2,3,2,3,4,3,4,5,6])\n",
        "        y = np.array([7,2,10,2,7,4,9,4,9,8])\n",
        " \n",
        "    Results:\n",
        "        \n",
        "         ([2, 4])\n",
        "            \n",
        "    "
      ]
    },
    {
      "cell_type": "code",
      "metadata": {
        "id": "q4Ld-82MobM_",
        "outputId": "e72e7a01-1cdd-4f5e-c437-a1b20f0a13a1",
        "colab": {
          "base_uri": "https://localhost:8080/",
          "height": 34
        }
      },
      "source": [
        "x = np.array([1,2,3,2,3,4,3,4,5,6])\n",
        "y = np.array([7,2,10,2,7,4,9,4,9,8])\n",
        "np.intersect1d(x,y)"
      ],
      "execution_count": 42,
      "outputs": [
        {
          "output_type": "execute_result",
          "data": {
            "text/plain": [
              "array([2, 4])"
            ]
          },
          "metadata": {
            "tags": []
          },
          "execution_count": 42
        }
      ]
    },
    {
      "cell_type": "markdown",
      "metadata": {
        "id": "C7G94grYobNF"
      },
      "source": [
        "---------------------"
      ]
    },
    {
      "cell_type": "markdown",
      "metadata": {
        "id": "Lzz3-gLgobNG"
      },
      "source": [
        "**(6). There are two array x and y ,drop the items in `X` which already exist in `Y`.**\n",
        "\n",
        "   \n",
        "    INTAKE:\n",
        "     x = np.array([1,2,3,4,5])\n",
        "     y = np.array([5,6,7,8,9])\n",
        "    \n",
        "    \n",
        "    RESULT:\n",
        "     ([1,2,3,4])\n",
        "        \n",
        "    "
      ]
    },
    {
      "cell_type": "code",
      "metadata": {
        "id": "UuuFbXfqobNH",
        "outputId": "abdebe0c-2e77-47a2-8ee2-d3da47f7ba86",
        "colab": {
          "base_uri": "https://localhost:8080/",
          "height": 34
        }
      },
      "source": [
        "x = np.array([1,2,3,4,5])\n",
        "y = np.array([5,6,7,8,9])\n",
        "np.delete(x, np.where(x==np.intersect1d(x,y)))"
      ],
      "execution_count": 61,
      "outputs": [
        {
          "output_type": "execute_result",
          "data": {
            "text/plain": [
              "array([1, 2, 3, 4])"
            ]
          },
          "metadata": {
            "tags": []
          },
          "execution_count": 61
        }
      ]
    },
    {
      "cell_type": "markdown",
      "metadata": {
        "id": "sMBb78SYobNL"
      },
      "source": [
        "--------------------------"
      ]
    },
    {
      "cell_type": "markdown",
      "metadata": {
        "id": "6y5wOq6sobNM"
      },
      "source": [
        "**(7). Reverse the rows of a 2D array.**\n",
        "\n",
        "\n",
        "    Intake : X = np.arange(9).reshape(3,3)\n",
        "    \n",
        "    Result :      ([[6, 7, 8],\n",
        "                    [3, 4, 5],\n",
        "                    [0, 1, 2]])"
      ]
    },
    {
      "cell_type": "code",
      "metadata": {
        "id": "784H--lDobNN",
        "outputId": "c0f2191d-9c09-4283-c1ee-5e21f5821531",
        "colab": {
          "base_uri": "https://localhost:8080/",
          "height": 68
        }
      },
      "source": [
        "x = np.arange(9).reshape(3,3)\n",
        "x[::-1]"
      ],
      "execution_count": 63,
      "outputs": [
        {
          "output_type": "execute_result",
          "data": {
            "text/plain": [
              "array([[6, 7, 8],\n",
              "       [3, 4, 5],\n",
              "       [0, 1, 2]])"
            ]
          },
          "metadata": {
            "tags": []
          },
          "execution_count": 63
        }
      ]
    },
    {
      "cell_type": "markdown",
      "metadata": {
        "id": "eAxZ0XQKobNR"
      },
      "source": [
        "----------------------"
      ]
    },
    {
      "cell_type": "markdown",
      "metadata": {
        "id": "y4uCkX6PobNR"
      },
      "source": [
        "**(8). Reverse the columns of a 2D array.**\n",
        "\n",
        "    Intake : X = np.arange(9).reshape(3,3)\n",
        "    \n",
        "    Result :     ([[2, 1, 0],\n",
        "                   [5, 4, 3],\n",
        "                   [8, 7, 6]])\n"
      ]
    },
    {
      "cell_type": "code",
      "metadata": {
        "id": "ZnEQ3jMdobNS",
        "outputId": "7bb43d22-3630-4bcd-a7b2-be31490289f7",
        "colab": {
          "base_uri": "https://localhost:8080/",
          "height": 68
        }
      },
      "source": [
        "x = np.arange(9).reshape(3,3)\n",
        "x[:, ::-1]"
      ],
      "execution_count": 69,
      "outputs": [
        {
          "output_type": "execute_result",
          "data": {
            "text/plain": [
              "array([[2, 1, 0],\n",
              "       [5, 4, 3],\n",
              "       [8, 7, 6]])"
            ]
          },
          "metadata": {
            "tags": []
          },
          "execution_count": 69
        }
      ]
    },
    {
      "cell_type": "markdown",
      "metadata": {
        "id": "TGQEdsW4obNW"
      },
      "source": [
        "---------------------"
      ]
    },
    {
      "cell_type": "markdown",
      "metadata": {
        "id": "VOZKr7wbobNY"
      },
      "source": [
        "**(9). Print the ranks for the given numeric array `x`.**\n",
        " \n",
        "   \n",
        "    Intake:\n",
        "    np.random.seed(10)\n",
        "    x = np.random.randint(20, size=10)\n",
        "    print(x)\n",
        "    [ 9  4 15  0 17 16 17  8  9  0]\n",
        "    \n",
        "    \n",
        "    Result:\n",
        "    [4 2 6 0 8 7 9 3 5 1]\n",
        "    "
      ]
    },
    {
      "cell_type": "code",
      "metadata": {
        "id": "5-dH7ByXobNY",
        "outputId": "1be4a39c-866b-48c7-e460-139c9e1ee4a0",
        "colab": {
          "base_uri": "https://localhost:8080/",
          "height": 34
        }
      },
      "source": [
        "np.random.seed(10)\n",
        "x = np.random.randint(20, size=10)\n",
        "print(x)"
      ],
      "execution_count": 70,
      "outputs": [
        {
          "output_type": "stream",
          "text": [
            "[ 9  4 15  0 17 16 17  8  9  0]\n"
          ],
          "name": "stdout"
        }
      ]
    },
    {
      "cell_type": "code",
      "metadata": {
        "id": "PZ4LkNE7z-Zs",
        "outputId": "c9dc83bf-74ab-41ab-e6a4-7c83c4336f0a",
        "colab": {
          "base_uri": "https://localhost:8080/",
          "height": 51
        }
      },
      "source": [
        "i= np.sort(x)\n",
        "print(i)"
      ],
      "execution_count": 99,
      "outputs": [
        {
          "output_type": "stream",
          "text": [
            "[[ 0  4  9 15 17]\n",
            " [ 0  8  9 16 17]]\n"
          ],
          "name": "stdout"
        }
      ]
    },
    {
      "cell_type": "code",
      "metadata": {
        "id": "ddI39X5a7c0t",
        "outputId": "611c32ef-e1e2-4130-e4a0-ce7ba39ca97d",
        "colab": {
          "base_uri": "https://localhost:8080/",
          "height": 34
        }
      },
      "source": [
        "f= x.flatten()\n",
        "np.argsort(f)"
      ],
      "execution_count": 105,
      "outputs": [
        {
          "output_type": "execute_result",
          "data": {
            "text/plain": [
              "array([3, 9, 1, 7, 0, 8, 2, 5, 4, 6])"
            ]
          },
          "metadata": {
            "tags": []
          },
          "execution_count": 105
        }
      ]
    },
    {
      "cell_type": "code",
      "metadata": {
        "id": "B7cYJw_k74w-",
        "outputId": "e4f33996-6b2f-4b26-eb83-87b307a7716e",
        "colab": {
          "base_uri": "https://localhost:8080/",
          "height": 34
        }
      },
      "source": [
        ""
      ],
      "execution_count": 104,
      "outputs": [
        {
          "output_type": "execute_result",
          "data": {
            "text/plain": [
              "array([3, 9, 1, 7, 0, 8, 2, 5, 4, 6])"
            ]
          },
          "metadata": {
            "tags": []
          },
          "execution_count": 104
        }
      ]
    },
    {
      "cell_type": "code",
      "metadata": {
        "id": "t0Q6EU7M3eNj",
        "outputId": "ba68f449-ba81-40df-e970-77186e444e0c",
        "colab": {
          "base_uri": "https://localhost:8080/",
          "height": 51
        }
      },
      "source": [
        "temp = x.argsort(axis=1)\n",
        "temp.argsort(axis=1)"
      ],
      "execution_count": 97,
      "outputs": [
        {
          "output_type": "execute_result",
          "data": {
            "text/plain": [
              "array([[2, 1, 3, 0, 4],\n",
              "       [3, 4, 1, 2, 0]])"
            ]
          },
          "metadata": {
            "tags": []
          },
          "execution_count": 97
        }
      ]
    },
    {
      "cell_type": "markdown",
      "metadata": {
        "id": "Wnjdkxl-obNc"
      },
      "source": [
        "--------------------"
      ]
    },
    {
      "cell_type": "markdown",
      "metadata": {
        "id": "-aj3vMBjobNd"
      },
      "source": [
        "**(10). For the given numeric array print the rank array with same shape of numeric array.**\n",
        "\n",
        "\n",
        "    Intake:\n",
        "    np.random.seed(10)\n",
        "    x = np.random.randint(20, size=[2,5])\n",
        "    print(a)\n",
        "    [[ 9  4 15  0 17]\n",
        "    [16 17  8  9  0]]\n",
        "    \n",
        "    Result:\n",
        "    [[4 2 6 0 8]\n",
        "    [7 9 3 5 1]]"
      ]
    },
    {
      "cell_type": "code",
      "metadata": {
        "id": "80vDhHJSobNe",
        "outputId": "3e77e6ec-7f41-4160-d1bc-c864b8678c52",
        "colab": {
          "base_uri": "https://localhost:8080/",
          "height": 34
        }
      },
      "source": [
        "np.random.seed(10)\n",
        "x = np.random.randint(20, size=[2,5])\n",
        "print(a)\n",
        "\n",
        "\n",
        "# wait, i ll solve it. Damn you numpy!"
      ],
      "execution_count": 84,
      "outputs": [
        {
          "output_type": "stream",
          "text": [
            "[]\n"
          ],
          "name": "stdout"
        }
      ]
    },
    {
      "cell_type": "markdown",
      "metadata": {
        "id": "cWBaHTVBobNi"
      },
      "source": [
        "--------------------------------"
      ]
    },
    {
      "cell_type": "markdown",
      "metadata": {
        "id": "FRkqT1l0obNj"
      },
      "source": [
        "**(11). Subtract the 1d array y_1d from the 2d array x_2d, such that each item of y_1d subtracts from respective row of x_2d.**\n",
        "    \n",
        "    Intake:\n",
        "    x_2d = np.array([[3,3,3],[4,4,4],[5,5,5]])\n",
        "    y_1d = np.array([1,2,3])\n",
        "    \n",
        "    Result:\n",
        "     [[2 2 2]\n",
        "     [2 2 2]\n",
        "     [2 2 2]]"
      ]
    },
    {
      "cell_type": "code",
      "metadata": {
        "id": "U9kVZlHSobNj"
      },
      "source": [
        "x_2d = np.array([[3,3,3],[4,4,4],[5,5,5]])\n",
        "y_1d = np.array([1,2,3])\n",
        "a= np.array([])\n",
        "\n",
        "# wait, i ll solve it. Damn you numpy!"
      ],
      "execution_count": 81,
      "outputs": []
    },
    {
      "cell_type": "code",
      "metadata": {
        "id": "yRuhtkoM2Z6H",
        "outputId": "99d1c609-108d-49ff-948d-4d66fdfc1405",
        "colab": {
          "base_uri": "https://localhost:8080/",
          "height": 34
        }
      },
      "source": [
        ""
      ],
      "execution_count": 83,
      "outputs": [
        {
          "output_type": "execute_result",
          "data": {
            "text/plain": [
              "array([], dtype=float64)"
            ]
          },
          "metadata": {
            "tags": []
          },
          "execution_count": 83
        }
      ]
    },
    {
      "cell_type": "markdown",
      "metadata": {
        "id": "Qg1jhqRqobNo"
      },
      "source": [
        "----------------"
      ]
    },
    {
      "cell_type": "markdown",
      "metadata": {
        "id": "ekpWDztiobNp"
      },
      "source": [
        "# ----------------------------------HAPPY LEARNING--------------------------------------------------"
      ]
    },
    {
      "cell_type": "markdown",
      "metadata": {
        "id": "KgOo19PyobNp"
      },
      "source": [
        "-------------------"
      ]
    }
  ]
}