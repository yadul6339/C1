{
  "nbformat": 4,
  "nbformat_minor": 0,
  "metadata": {
    "colab": {
      "name": "NPV - In-Class(DAY 2)  -  Questions.ipynb",
      "provenance": [],
      "collapsed_sections": [],
      "include_colab_link": true
    },
    "kernelspec": {
      "display_name": "Python 3",
      "language": "python",
      "name": "python3"
    },
    "language_info": {
      "codemirror_mode": {
        "name": "ipython",
        "version": 3
      },
      "file_extension": ".py",
      "mimetype": "text/x-python",
      "name": "python",
      "nbconvert_exporter": "python",
      "pygments_lexer": "ipython3",
      "version": "3.7.4"
    }
  },
  "cells": [
    {
      "cell_type": "markdown",
      "metadata": {
        "id": "view-in-github",
        "colab_type": "text"
      },
      "source": [
        "<a href=\"https://colab.research.google.com/github/zerryberry/C1/blob/master/NPV_In_Class(DAY_2)_Questions.ipynb\" target=\"_parent\"><img src=\"https://colab.research.google.com/assets/colab-badge.svg\" alt=\"Open In Colab\"/></a>"
      ]
    },
    {
      "cell_type": "markdown",
      "metadata": {
        "id": "kic6oK53broE"
      },
      "source": [
        "<table align=\"left\" width=100%>\n",
        "    <tr>\n",
        "        <td width=\"10%\">\n",
        "            <img src=\"in_class.png\">\n",
        "        </td>\n",
        "        <td>\n",
        "            <div align=\"center\">\n",
        "                <font color=\"#21618C\" size=8px>\n",
        "                    <b>Inclass - Lab<br> (Day 2)\n",
        "                    </b>\n",
        "                </font>\n",
        "            </div>\n",
        "        </td>\n",
        "    </tr>\n",
        "</table>"
      ]
    },
    {
      "cell_type": "markdown",
      "metadata": {
        "id": "oe1s0Kh3broG"
      },
      "source": [
        "## Table of Content\n",
        "1. **[Data Structures with Examples](#Data_Structures)**\n",
        "2. **[Create and Manipulate the DataFrames](#create_manipulate)**\n",
        "3. **[Sort](#sorting)**\n",
        "4. **[Rank](#ranking)**"
      ]
    },
    {
      "cell_type": "markdown",
      "metadata": {
        "id": "JlJ7Wtw-broG"
      },
      "source": [
        "### Let's begin with some hands-on practice exercises"
      ]
    },
    {
      "cell_type": "markdown",
      "metadata": {
        "id": "26XpOEYEbroH"
      },
      "source": [
        "<a id='Data_Structures'></a>\n",
        "## 1. Data Structures with Examples:"
      ]
    },
    {
      "cell_type": "markdown",
      "metadata": {
        "id": "Rj8q582cbroI"
      },
      "source": [
        "<table align=\"left\">\n",
        "    <tr>\n",
        "        <td width=\"6%\">\n",
        "            <img src=\"question_icon.png\">\n",
        "        </td>\n",
        "        <td>\n",
        "            <div align=\"left\", style=\"font-size:120%\">\n",
        "                <font color=\"#21618C\">\n",
        "                    <b>1. Write a program to create a dataframe from list of lists\n",
        "</b>\n",
        "                </font>\n",
        "            </div>\n",
        "        </td>\n",
        "    </tr>\n",
        "</table>"
      ]
    },
    {
      "cell_type": "markdown",
      "metadata": {
        "id": "PzHrJnNRbroJ"
      },
      "source": [
        "**Use the below nested list:**<br>\n",
        "\n",
        "        data = [['Joy', 21], ['Mia', 15], ['Sam', 14]]"
      ]
    },
    {
      "cell_type": "code",
      "metadata": {
        "id": "hLGI4F1VbroK"
      },
      "source": [
        "import pandas as pd\n",
        "data = [['Joy', 21], ['Mia', 15], ['Sam', 14]]\n",
        "df= pd.DataFrame(data)\n",
        "df.rename({0: 'Name', 1: 'Age'}, axis=1, inplace= True)"
      ],
      "execution_count": null,
      "outputs": []
    },
    {
      "cell_type": "code",
      "metadata": {
        "id": "m2aSHcqpyZ0o",
        "outputId": "9d1d84c5-2ec2-41dd-f8df-16b168b848d1",
        "colab": {
          "base_uri": "https://localhost:8080/",
          "height": 142
        }
      },
      "source": [
        "df"
      ],
      "execution_count": null,
      "outputs": [
        {
          "output_type": "execute_result",
          "data": {
            "text/html": [
              "<div>\n",
              "<style scoped>\n",
              "    .dataframe tbody tr th:only-of-type {\n",
              "        vertical-align: middle;\n",
              "    }\n",
              "\n",
              "    .dataframe tbody tr th {\n",
              "        vertical-align: top;\n",
              "    }\n",
              "\n",
              "    .dataframe thead th {\n",
              "        text-align: right;\n",
              "    }\n",
              "</style>\n",
              "<table border=\"1\" class=\"dataframe\">\n",
              "  <thead>\n",
              "    <tr style=\"text-align: right;\">\n",
              "      <th></th>\n",
              "      <th>Name</th>\n",
              "      <th>Age</th>\n",
              "    </tr>\n",
              "  </thead>\n",
              "  <tbody>\n",
              "    <tr>\n",
              "      <th>0</th>\n",
              "      <td>Joy</td>\n",
              "      <td>21</td>\n",
              "    </tr>\n",
              "    <tr>\n",
              "      <th>1</th>\n",
              "      <td>Mia</td>\n",
              "      <td>15</td>\n",
              "    </tr>\n",
              "    <tr>\n",
              "      <th>2</th>\n",
              "      <td>Sam</td>\n",
              "      <td>14</td>\n",
              "    </tr>\n",
              "  </tbody>\n",
              "</table>\n",
              "</div>"
            ],
            "text/plain": [
              "  Name  Age\n",
              "0  Joy   21\n",
              "1  Mia   15\n",
              "2  Sam   14"
            ]
          },
          "metadata": {
            "tags": []
          },
          "execution_count": 6
        }
      ]
    },
    {
      "cell_type": "markdown",
      "metadata": {
        "id": "GTblkct8broO"
      },
      "source": [
        "<table align=\"left\">\n",
        "    <tr>\n",
        "        <td width=\"6%\">\n",
        "            <img src=\"question_icon.png\">\n",
        "        </td>\n",
        "        <td>\n",
        "            <div align=\"left\", style=\"font-size:120%\">\n",
        "                <font color=\"#21618C\">\n",
        "                    <b>2. Display the Age Column\n",
        "</b>\n",
        "                </font>\n",
        "            </div>\n",
        "        </td>\n",
        "    </tr>\n",
        "</table>"
      ]
    },
    {
      "cell_type": "code",
      "metadata": {
        "id": "-Sktf5HMbroP",
        "outputId": "2e339985-7013-48a3-e463-d414b7a3d50d",
        "colab": {
          "base_uri": "https://localhost:8080/",
          "height": 85
        }
      },
      "source": [
        "df['Age']"
      ],
      "execution_count": null,
      "outputs": [
        {
          "output_type": "execute_result",
          "data": {
            "text/plain": [
              "0    21\n",
              "1    15\n",
              "2    14\n",
              "Name: Age, dtype: int64"
            ]
          },
          "metadata": {
            "tags": []
          },
          "execution_count": 7
        }
      ]
    },
    {
      "cell_type": "markdown",
      "metadata": {
        "id": "Es6zyYS5broR"
      },
      "source": [
        "<a id='create_manipulate'></a>\n",
        "## 2. Create and Manipulate the DataFrames:"
      ]
    },
    {
      "cell_type": "markdown",
      "metadata": {
        "id": "N45T_7y0broS"
      },
      "source": [
        "<table align=\"left\">\n",
        "    <tr>\n",
        "        <td width=\"6%\">\n",
        "            <img src=\"question_icon.png\">\n",
        "        </td>\n",
        "        <td>\n",
        "            <div align=\"left\", style=\"font-size:120%\">\n",
        "                <font color=\"#21618C\">\n",
        "                    <b>3. Create the following DataFrame </b>\n",
        "                </font>\n",
        "            </div>\n",
        "        </td>\n",
        "    </tr>\n",
        "</table>"
      ]
    },
    {
      "cell_type": "markdown",
      "metadata": {
        "id": "cqJ5X7DrbroS"
      },
      "source": [
        "**Use the dataframe given below:**\n",
        "\n",
        "<table>\n",
        "<tr>\n",
        "<th>Name</th>\n",
        "<th>Salary</th>\n",
        "</tr>\n",
        "<tr>\n",
        "<td>Emma Larter</td>\n",
        "<td>3200</td>\n",
        "</tr>\n",
        "<tr>\n",
        "<td>Mia Junior</td>\n",
        "<td>4500</td>\n",
        "</tr>\n",
        "<tr>\n",
        "<td>Sophia Depp</td>\n",
        "<td>3600</td>\n",
        "</tr>\n",
        "<tr>\n",
        "<td>James Smith</td>\n",
        "<td>5596</td>\n",
        "</tr>\n",
        "   \n",
        "</table>"
      ]
    },
    {
      "cell_type": "code",
      "metadata": {
        "id": "Ug84aVrObroT",
        "outputId": "332a4539-6218-41b9-ad89-c2cf2b008b4f",
        "colab": {
          "base_uri": "https://localhost:8080/",
          "height": 173
        }
      },
      "source": [
        "df= pd.DataFrame({'Name': ['Emma Larter', 'Mia Junior', 'Sophia Depp', 'James Smith'], 'Salary': [3200, 4500, 3600, 5596]})\n",
        "df"
      ],
      "execution_count": null,
      "outputs": [
        {
          "output_type": "execute_result",
          "data": {
            "text/html": [
              "<div>\n",
              "<style scoped>\n",
              "    .dataframe tbody tr th:only-of-type {\n",
              "        vertical-align: middle;\n",
              "    }\n",
              "\n",
              "    .dataframe tbody tr th {\n",
              "        vertical-align: top;\n",
              "    }\n",
              "\n",
              "    .dataframe thead th {\n",
              "        text-align: right;\n",
              "    }\n",
              "</style>\n",
              "<table border=\"1\" class=\"dataframe\">\n",
              "  <thead>\n",
              "    <tr style=\"text-align: right;\">\n",
              "      <th></th>\n",
              "      <th>Name</th>\n",
              "      <th>Salary</th>\n",
              "    </tr>\n",
              "  </thead>\n",
              "  <tbody>\n",
              "    <tr>\n",
              "      <th>0</th>\n",
              "      <td>Emma Larter</td>\n",
              "      <td>3200</td>\n",
              "    </tr>\n",
              "    <tr>\n",
              "      <th>1</th>\n",
              "      <td>Mia Junior</td>\n",
              "      <td>4500</td>\n",
              "    </tr>\n",
              "    <tr>\n",
              "      <th>2</th>\n",
              "      <td>Sophia Depp</td>\n",
              "      <td>3600</td>\n",
              "    </tr>\n",
              "    <tr>\n",
              "      <th>3</th>\n",
              "      <td>James Smith</td>\n",
              "      <td>5596</td>\n",
              "    </tr>\n",
              "  </tbody>\n",
              "</table>\n",
              "</div>"
            ],
            "text/plain": [
              "          Name  Salary\n",
              "0  Emma Larter    3200\n",
              "1   Mia Junior    4500\n",
              "2  Sophia Depp    3600\n",
              "3  James Smith    5596"
            ]
          },
          "metadata": {
            "tags": []
          },
          "execution_count": 9
        }
      ]
    },
    {
      "cell_type": "markdown",
      "metadata": {
        "id": "HR_gxOnCbroV"
      },
      "source": [
        "<table align=\"left\">\n",
        "    <tr>\n",
        "        <td width=\"6%\">\n",
        "            <img src=\"question_icon.png\">\n",
        "        </td>\n",
        "        <td>\n",
        "            <div align=\"left\", style=\"font-size:120%\">\n",
        "                <font color=\"#21618C\">\n",
        "                    <b>4. Select the rows from below dataframe where marks are less than 60 </b>\n",
        "                </font>\n",
        "            </div>\n",
        "        </td>\n",
        "    </tr>\n",
        "</table>"
      ]
    },
    {
      "cell_type": "markdown",
      "metadata": {
        "id": "psRI2T3TbroW"
      },
      "source": [
        "**Use the dataframe given below:**\n",
        "\n",
        "<table>\n",
        "<tr>\n",
        "<th>Name</th>\n",
        "<th>Marks</th>\n",
        "</tr>\n",
        "<tr>\n",
        "<td>John</td>\n",
        "<td>90</td>\n",
        "</tr>\n",
        "<tr>\n",
        "<td>Robert</td>\n",
        "<td>50</td>\n",
        "</tr>\n",
        "<tr>\n",
        "<td>Jonny</td>\n",
        "<td>89</td>\n",
        "</tr>\n",
        "<tr>\n",
        "<td>Mia</td>\n",
        "<td>55</td>\n",
        "</tr>\n",
        "   \n",
        "</table>"
      ]
    },
    {
      "cell_type": "code",
      "metadata": {
        "id": "FLQash4abroW",
        "outputId": "08f480ec-f0af-4b76-c9d0-9327740f2280",
        "colab": {
          "base_uri": "https://localhost:8080/",
          "height": 111
        }
      },
      "source": [
        "df= pd.DataFrame({'Name': ['John', 'Robert', 'Jonny', 'Mia'], 'Marks': [90, 50, 89, 55]})\n",
        "df[df.Marks < 60]"
      ],
      "execution_count": null,
      "outputs": [
        {
          "output_type": "execute_result",
          "data": {
            "text/html": [
              "<div>\n",
              "<style scoped>\n",
              "    .dataframe tbody tr th:only-of-type {\n",
              "        vertical-align: middle;\n",
              "    }\n",
              "\n",
              "    .dataframe tbody tr th {\n",
              "        vertical-align: top;\n",
              "    }\n",
              "\n",
              "    .dataframe thead th {\n",
              "        text-align: right;\n",
              "    }\n",
              "</style>\n",
              "<table border=\"1\" class=\"dataframe\">\n",
              "  <thead>\n",
              "    <tr style=\"text-align: right;\">\n",
              "      <th></th>\n",
              "      <th>Name</th>\n",
              "      <th>Marks</th>\n",
              "    </tr>\n",
              "  </thead>\n",
              "  <tbody>\n",
              "    <tr>\n",
              "      <th>1</th>\n",
              "      <td>Robert</td>\n",
              "      <td>50</td>\n",
              "    </tr>\n",
              "    <tr>\n",
              "      <th>3</th>\n",
              "      <td>Mia</td>\n",
              "      <td>55</td>\n",
              "    </tr>\n",
              "  </tbody>\n",
              "</table>\n",
              "</div>"
            ],
            "text/plain": [
              "     Name  Marks\n",
              "1  Robert     50\n",
              "3     Mia     55"
            ]
          },
          "metadata": {
            "tags": []
          },
          "execution_count": 11
        }
      ]
    },
    {
      "cell_type": "markdown",
      "metadata": {
        "id": "z35FqMrYbroZ"
      },
      "source": [
        "<table align=\"left\">\n",
        "    <tr>\n",
        "        <td width=\"6%\">\n",
        "            <img src=\"question_icon.png\">\n",
        "        </td>\n",
        "        <td>\n",
        "            <div align=\"left\", style=\"font-size:120%\">\n",
        "                <font color=\"#21618C\">\n",
        "                    <b>5. Write a program to select the rows where the sales are higher than 60000 for Mumbai </b>\n",
        "                </font>\n",
        "            </div>\n",
        "        </td>\n",
        "    </tr>\n",
        "</table>"
      ]
    },
    {
      "cell_type": "markdown",
      "metadata": {
        "id": "pEwm6Uj4brob"
      },
      "source": [
        "**Use the dataframe given below:**\n",
        "   \n",
        "<table>\n",
        "<tr>\n",
        "<th>Store</th>\n",
        "<th>Location</th>\n",
        "<th>Sales</th>\n",
        "</tr>\n",
        "<tr>\n",
        "<td>A</td>\n",
        "<td>Mumbai</td>\n",
        "<td>40000</td>\n",
        "</tr>\n",
        "<tr>\n",
        "<td>B</td>\n",
        "<td>Pune</td>\n",
        "<td>45000</td>\n",
        "</tr>\n",
        "<tr>\n",
        "<td>A</td>\n",
        "<td>Hyderabad</td>\n",
        "<td>50000</td>\n",
        "</tr>\n",
        "<tr>\n",
        "<td>C</td>\n",
        "<td>Mumbai</td>\n",
        "<td>90000</td>\n",
        "</tr>\n",
        "<tr>\n",
        "<td>D</td>\n",
        "<td>Pune</td>\n",
        "<td>89000</td>\n",
        "</tr>\n",
        "<tr>\n",
        "<td>A</td>\n",
        "<td>Delhi</td>\n",
        "<td>87000</td>\n",
        "</tr>\n",
        "<tr>\n",
        "<td>D</td>\n",
        "<td>Hyderabad</td>\n",
        "<td>85000</td>\n",
        "</tr>\n",
        "<tr>\n",
        "<td>A</td>\n",
        "<td>Pune</td>\n",
        "<td>78000</td>\n",
        "</tr>\n",
        "<tr>\n",
        "<td>C</td>\n",
        "<td>Mumbai</td>\n",
        "<td>89000</td>\n",
        "</tr>\n",
        "<tr>\n",
        "<td>B</td>\n",
        "<td>Pune</td>\n",
        "<td>70000</td>\n",
        "</tr>\n",
        "   \n",
        "</table>"
      ]
    },
    {
      "cell_type": "code",
      "metadata": {
        "id": "Z_-bcP7ibrob"
      },
      "source": [
        "df= pd.DataFrame({'Store': ['A', 'B', 'A', 'C', 'D', 'A', 'D', 'A', 'C', 'B'], 'Location': ['Mumbai', 'Pune', 'Hyderabad', 'Mumbai', 'Pune', 'Delhi', 'Hyderabad', 'Pune', 'Mumbai', 'Pune'], \n",
        "                  'Sales': [40000, 45000, 50000, 90000, 89000, 87000, 85000, 78000, 89000, 70000]})\n"
      ],
      "execution_count": 12,
      "outputs": []
    },
    {
      "cell_type": "code",
      "metadata": {
        "id": "t36TY2QQ1V7o",
        "outputId": "f046bd11-4ad5-4876-a282-64d8b25b8063",
        "colab": {
          "base_uri": "https://localhost:8080/",
          "height": 111
        }
      },
      "source": [
        "df[(df.Sales > 60000) & (df.Location == 'Mumbai')]"
      ],
      "execution_count": null,
      "outputs": [
        {
          "output_type": "execute_result",
          "data": {
            "text/html": [
              "<div>\n",
              "<style scoped>\n",
              "    .dataframe tbody tr th:only-of-type {\n",
              "        vertical-align: middle;\n",
              "    }\n",
              "\n",
              "    .dataframe tbody tr th {\n",
              "        vertical-align: top;\n",
              "    }\n",
              "\n",
              "    .dataframe thead th {\n",
              "        text-align: right;\n",
              "    }\n",
              "</style>\n",
              "<table border=\"1\" class=\"dataframe\">\n",
              "  <thead>\n",
              "    <tr style=\"text-align: right;\">\n",
              "      <th></th>\n",
              "      <th>Store</th>\n",
              "      <th>Location</th>\n",
              "      <th>Sales</th>\n",
              "    </tr>\n",
              "  </thead>\n",
              "  <tbody>\n",
              "    <tr>\n",
              "      <th>3</th>\n",
              "      <td>C</td>\n",
              "      <td>Mumbai</td>\n",
              "      <td>90000</td>\n",
              "    </tr>\n",
              "    <tr>\n",
              "      <th>8</th>\n",
              "      <td>C</td>\n",
              "      <td>Mumbai</td>\n",
              "      <td>89000</td>\n",
              "    </tr>\n",
              "  </tbody>\n",
              "</table>\n",
              "</div>"
            ],
            "text/plain": [
              "  Store Location  Sales\n",
              "3     C   Mumbai  90000\n",
              "8     C   Mumbai  89000"
            ]
          },
          "metadata": {
            "tags": []
          },
          "execution_count": 17
        }
      ]
    },
    {
      "cell_type": "markdown",
      "metadata": {
        "id": "_UZzFsqcbroe"
      },
      "source": [
        "<table align=\"left\">\n",
        "    <tr>\n",
        "        <td width=\"6%\">\n",
        "            <img src=\"question_icon.png\">\n",
        "        </td>\n",
        "        <td>\n",
        "            <div align=\"left\", style=\"font-size:120%\">\n",
        "                <font color=\"#21618C\">\n",
        "                    <b>6. Write a program to select stores located in Hyderabad</b>\n",
        "                </font>\n",
        "            </div>\n",
        "        </td>\n",
        "    </tr>\n",
        "</table>"
      ]
    },
    {
      "cell_type": "markdown",
      "metadata": {
        "id": "xpPd6-yxbroe"
      },
      "source": [
        "**Use the dataframe given below:**\n",
        "   \n",
        "<table>\n",
        "<tr>\n",
        "<th>Store</th>\n",
        "<th>Location</th>\n",
        "<th>Sales</th>\n",
        "</tr>\n",
        "<tr>\n",
        "<td>A</td>\n",
        "<td>Mumbai</td>\n",
        "<td>40000</td>\n",
        "</tr>\n",
        "<tr>\n",
        "<td>B</td>\n",
        "<td>Pune</td>\n",
        "<td>45000</td>\n",
        "</tr>\n",
        "<tr>\n",
        "<td>A</td>\n",
        "<td>Hyderabad</td>\n",
        "<td>50000</td>\n",
        "</tr>\n",
        "<tr>\n",
        "<td>C</td>\n",
        "<td>Mumbai</td>\n",
        "<td>90000</td>\n",
        "</tr>\n",
        "<tr>\n",
        "<td>D</td>\n",
        "<td>Pune</td>\n",
        "<td>89000</td>\n",
        "</tr>\n",
        "<tr>\n",
        "<td>A</td>\n",
        "<td>Delhi</td>\n",
        "<td>87000</td>\n",
        "</tr>\n",
        "<tr>\n",
        "<td>D</td>\n",
        "<td>Hyderabad</td>\n",
        "<td>85000</td>\n",
        "</tr>\n",
        "<tr>\n",
        "<td>A</td>\n",
        "<td>Pune</td>\n",
        "<td>78000</td>\n",
        "</tr>\n",
        "<tr>\n",
        "<td>C</td>\n",
        "<td>Mumbai</td>\n",
        "<td>89000</td>\n",
        "</tr>\n",
        "<tr>\n",
        "<td>B</td>\n",
        "<td>Pune</td>\n",
        "<td>70000</td>\n",
        "</tr>\n",
        "   \n",
        "</table>"
      ]
    },
    {
      "cell_type": "code",
      "metadata": {
        "id": "S3J4OGa_brof",
        "outputId": "451a87d6-3b1b-4437-b521-2a6963eddc15",
        "colab": {
          "base_uri": "https://localhost:8080/",
          "height": 111
        }
      },
      "source": [
        "df[df.Location == 'Hyderabad']"
      ],
      "execution_count": null,
      "outputs": [
        {
          "output_type": "execute_result",
          "data": {
            "text/html": [
              "<div>\n",
              "<style scoped>\n",
              "    .dataframe tbody tr th:only-of-type {\n",
              "        vertical-align: middle;\n",
              "    }\n",
              "\n",
              "    .dataframe tbody tr th {\n",
              "        vertical-align: top;\n",
              "    }\n",
              "\n",
              "    .dataframe thead th {\n",
              "        text-align: right;\n",
              "    }\n",
              "</style>\n",
              "<table border=\"1\" class=\"dataframe\">\n",
              "  <thead>\n",
              "    <tr style=\"text-align: right;\">\n",
              "      <th></th>\n",
              "      <th>Store</th>\n",
              "      <th>Location</th>\n",
              "      <th>Sales</th>\n",
              "    </tr>\n",
              "  </thead>\n",
              "  <tbody>\n",
              "    <tr>\n",
              "      <th>2</th>\n",
              "      <td>A</td>\n",
              "      <td>Hyderabad</td>\n",
              "      <td>50000</td>\n",
              "    </tr>\n",
              "    <tr>\n",
              "      <th>6</th>\n",
              "      <td>D</td>\n",
              "      <td>Hyderabad</td>\n",
              "      <td>85000</td>\n",
              "    </tr>\n",
              "  </tbody>\n",
              "</table>\n",
              "</div>"
            ],
            "text/plain": [
              "  Store   Location  Sales\n",
              "2     A  Hyderabad  50000\n",
              "6     D  Hyderabad  85000"
            ]
          },
          "metadata": {
            "tags": []
          },
          "execution_count": 18
        }
      ]
    },
    {
      "cell_type": "markdown",
      "metadata": {
        "id": "MkRQWQJMbroh"
      },
      "source": [
        "<table align=\"left\">\n",
        "    <tr>\n",
        "        <td width=\"6%\">\n",
        "            <img src=\"question_icon.png\">\n",
        "        </td>\n",
        "        <td>\n",
        "            <div align=\"left\", style=\"font-size:120%\">\n",
        "                <font color=\"#21618C\">\n",
        "                    <b>7. Write a program to replace the 'Store' column with the values A, B, C, and D with Store_A,  Store_B, Store_C and Store_D respectively </b>  \n",
        "                </font>\n",
        "            </div>\n",
        "        </td>\n",
        "    </tr>\n",
        "</table>"
      ]
    },
    {
      "cell_type": "markdown",
      "metadata": {
        "id": "NjNY0QDobroh"
      },
      "source": [
        "**Use the dataframe given below:**\n",
        "   \n",
        "<table>\n",
        "<tr>\n",
        "<th>Store</th>\n",
        "<th>Location</th>\n",
        "<th>Sales</th>\n",
        "</tr>\n",
        "<tr>\n",
        "<td>A</td>\n",
        "<td>Mumbai</td>\n",
        "<td>40000</td>\n",
        "</tr>\n",
        "<tr>\n",
        "<td>B</td>\n",
        "<td>Pune</td>\n",
        "<td>45000</td>\n",
        "</tr>\n",
        "<tr>\n",
        "<td>A</td>\n",
        "<td>Hyderabad</td>\n",
        "<td>50000</td>\n",
        "</tr>\n",
        "<tr>\n",
        "<td>C</td>\n",
        "<td>Mumbai</td>\n",
        "<td>90000</td>\n",
        "</tr>\n",
        "<tr>\n",
        "<td>D</td>\n",
        "<td>Pune</td>\n",
        "<td>89000</td>\n",
        "</tr>\n",
        "<tr>\n",
        "<td>A</td>\n",
        "<td>Delhi</td>\n",
        "<td>87000</td>\n",
        "</tr>\n",
        "<tr>\n",
        "<td>D</td>\n",
        "<td>Hyderabad</td>\n",
        "<td>85000</td>\n",
        "</tr>\n",
        "<tr>\n",
        "<td>A</td>\n",
        "<td>Pune</td>\n",
        "<td>78000</td>\n",
        "</tr>\n",
        "<tr>\n",
        "<td>C</td>\n",
        "<td>Mumbai</td>\n",
        "<td>89000</td>\n",
        "</tr>\n",
        "<tr>\n",
        "<td>B</td>\n",
        "<td>Pune</td>\n",
        "<td>70000</td>\n",
        "</tr>\n",
        "   \n",
        "</table>"
      ]
    },
    {
      "cell_type": "code",
      "metadata": {
        "id": "FcqGrhbobroi"
      },
      "source": [
        "for i in range(len(df.Store)):\n",
        "  if df['Store'][i] == 'A':\n",
        "    df.at[i, 'Store'] = 'Store_A'"
      ],
      "execution_count": null,
      "outputs": []
    },
    {
      "cell_type": "code",
      "metadata": {
        "id": "Clth2HMY4bO1"
      },
      "source": [
        "df['Store'].replace({'A': 'Store_A', 'B': 'Store_B', 'C': 'Store_c', 'D': 'Store_c'}, inplace= True)"
      ],
      "execution_count": null,
      "outputs": []
    },
    {
      "cell_type": "code",
      "metadata": {
        "id": "7qZbjGmT7TR2",
        "outputId": "c34fa6dc-e9ab-44ac-a5a2-d944c4c559fd",
        "colab": {
          "base_uri": "https://localhost:8080/",
          "height": 359
        }
      },
      "source": [
        "df"
      ],
      "execution_count": null,
      "outputs": [
        {
          "output_type": "execute_result",
          "data": {
            "text/html": [
              "<div>\n",
              "<style scoped>\n",
              "    .dataframe tbody tr th:only-of-type {\n",
              "        vertical-align: middle;\n",
              "    }\n",
              "\n",
              "    .dataframe tbody tr th {\n",
              "        vertical-align: top;\n",
              "    }\n",
              "\n",
              "    .dataframe thead th {\n",
              "        text-align: right;\n",
              "    }\n",
              "</style>\n",
              "<table border=\"1\" class=\"dataframe\">\n",
              "  <thead>\n",
              "    <tr style=\"text-align: right;\">\n",
              "      <th></th>\n",
              "      <th>Store</th>\n",
              "      <th>Location</th>\n",
              "      <th>Sales</th>\n",
              "    </tr>\n",
              "  </thead>\n",
              "  <tbody>\n",
              "    <tr>\n",
              "      <th>0</th>\n",
              "      <td>Store_A</td>\n",
              "      <td>Mumbai</td>\n",
              "      <td>40000</td>\n",
              "    </tr>\n",
              "    <tr>\n",
              "      <th>1</th>\n",
              "      <td>Store_B</td>\n",
              "      <td>Pune</td>\n",
              "      <td>45000</td>\n",
              "    </tr>\n",
              "    <tr>\n",
              "      <th>2</th>\n",
              "      <td>Store_A</td>\n",
              "      <td>Hyderabad</td>\n",
              "      <td>50000</td>\n",
              "    </tr>\n",
              "    <tr>\n",
              "      <th>3</th>\n",
              "      <td>Store_c</td>\n",
              "      <td>Mumbai</td>\n",
              "      <td>90000</td>\n",
              "    </tr>\n",
              "    <tr>\n",
              "      <th>4</th>\n",
              "      <td>Store_c</td>\n",
              "      <td>Pune</td>\n",
              "      <td>89000</td>\n",
              "    </tr>\n",
              "    <tr>\n",
              "      <th>5</th>\n",
              "      <td>Store_A</td>\n",
              "      <td>Delhi</td>\n",
              "      <td>87000</td>\n",
              "    </tr>\n",
              "    <tr>\n",
              "      <th>6</th>\n",
              "      <td>Store_c</td>\n",
              "      <td>Hyderabad</td>\n",
              "      <td>85000</td>\n",
              "    </tr>\n",
              "    <tr>\n",
              "      <th>7</th>\n",
              "      <td>Store_A</td>\n",
              "      <td>Pune</td>\n",
              "      <td>78000</td>\n",
              "    </tr>\n",
              "    <tr>\n",
              "      <th>8</th>\n",
              "      <td>Store_c</td>\n",
              "      <td>Mumbai</td>\n",
              "      <td>89000</td>\n",
              "    </tr>\n",
              "    <tr>\n",
              "      <th>9</th>\n",
              "      <td>Store_B</td>\n",
              "      <td>Pune</td>\n",
              "      <td>70000</td>\n",
              "    </tr>\n",
              "  </tbody>\n",
              "</table>\n",
              "</div>"
            ],
            "text/plain": [
              "     Store   Location  Sales\n",
              "0  Store_A     Mumbai  40000\n",
              "1  Store_B       Pune  45000\n",
              "2  Store_A  Hyderabad  50000\n",
              "3  Store_c     Mumbai  90000\n",
              "4  Store_c       Pune  89000\n",
              "5  Store_A      Delhi  87000\n",
              "6  Store_c  Hyderabad  85000\n",
              "7  Store_A       Pune  78000\n",
              "8  Store_c     Mumbai  89000\n",
              "9  Store_B       Pune  70000"
            ]
          },
          "metadata": {
            "tags": []
          },
          "execution_count": 46
        }
      ]
    },
    {
      "cell_type": "markdown",
      "metadata": {
        "id": "A_FO5JqKbrok"
      },
      "source": [
        "<table align=\"left\">\n",
        "    <tr>\n",
        "        <td width=\"6%\">\n",
        "            <img src=\"question_icon.png\">\n",
        "        </td>\n",
        "        <td>\n",
        "            <div align=\"left\", style=\"font-size:120%\">\n",
        "                <font color=\"#21618C\">\n",
        "                    <b>8. Create a dataframe in pandas using the given list.\n",
        "</b>\n",
        "                </font>\n",
        "            </div>\n",
        "        </td>\n",
        "    </tr>\n",
        "</table>"
      ]
    },
    {
      "cell_type": "markdown",
      "metadata": {
        "id": "492OEIcHbrol"
      },
      "source": [
        "**Use the below list**\n",
        "\n",
        "        city = ['Delhi', 'Mumbai', 'Chennai', 'Kolkata']"
      ]
    },
    {
      "cell_type": "code",
      "metadata": {
        "id": "ujlQ0ABIbrom",
        "outputId": "de5d1075-5941-4370-9b60-88b1d0d354c8",
        "colab": {
          "base_uri": "https://localhost:8080/",
          "height": 173
        }
      },
      "source": [
        "city = ['Delhi', 'Mumbai', 'Chennai', 'Kolkata']\n",
        "gf= pd.DataFrame({'city': city})\n",
        "gf"
      ],
      "execution_count": null,
      "outputs": [
        {
          "output_type": "execute_result",
          "data": {
            "text/html": [
              "<div>\n",
              "<style scoped>\n",
              "    .dataframe tbody tr th:only-of-type {\n",
              "        vertical-align: middle;\n",
              "    }\n",
              "\n",
              "    .dataframe tbody tr th {\n",
              "        vertical-align: top;\n",
              "    }\n",
              "\n",
              "    .dataframe thead th {\n",
              "        text-align: right;\n",
              "    }\n",
              "</style>\n",
              "<table border=\"1\" class=\"dataframe\">\n",
              "  <thead>\n",
              "    <tr style=\"text-align: right;\">\n",
              "      <th></th>\n",
              "      <th>city</th>\n",
              "    </tr>\n",
              "  </thead>\n",
              "  <tbody>\n",
              "    <tr>\n",
              "      <th>0</th>\n",
              "      <td>Delhi</td>\n",
              "    </tr>\n",
              "    <tr>\n",
              "      <th>1</th>\n",
              "      <td>Mumbai</td>\n",
              "    </tr>\n",
              "    <tr>\n",
              "      <th>2</th>\n",
              "      <td>Chennai</td>\n",
              "    </tr>\n",
              "    <tr>\n",
              "      <th>3</th>\n",
              "      <td>Kolkata</td>\n",
              "    </tr>\n",
              "  </tbody>\n",
              "</table>\n",
              "</div>"
            ],
            "text/plain": [
              "      city\n",
              "0    Delhi\n",
              "1   Mumbai\n",
              "2  Chennai\n",
              "3  Kolkata"
            ]
          },
          "metadata": {
            "tags": []
          },
          "execution_count": 44
        }
      ]
    },
    {
      "cell_type": "markdown",
      "metadata": {
        "id": "YaZVCuk0brop"
      },
      "source": [
        "<table align=\"left\">\n",
        "    <tr>\n",
        "        <td width=\"6%\">\n",
        "            <img src=\"question_icon.png\">\n",
        "        </td>\n",
        "        <td>\n",
        "            <div align=\"left\", style=\"font-size:120%\">\n",
        "                <font color=\"#21618C\">\n",
        "                    <b>9. Print the last 2 Values\n",
        "</b>\n",
        "                </font>\n",
        "            </div>\n",
        "        </td>\n",
        "    </tr>\n",
        "</table>"
      ]
    },
    {
      "cell_type": "markdown",
      "metadata": {
        "id": "zdG3-8djbroq"
      },
      "source": [
        "**Use the dataframe given below:**\n",
        "   \n",
        "<table>\n",
        "<tr>\n",
        "<th>Store</th>\n",
        "<th>Location</th>\n",
        "<th>Sales</th>\n",
        "</tr>\n",
        "<tr>\n",
        "<td>A</td>\n",
        "<td>Mumbai</td>\n",
        "<td>40000</td>\n",
        "</tr>\n",
        "<tr>\n",
        "<td>B</td>\n",
        "<td>Pune</td>\n",
        "<td>45000</td>\n",
        "</tr>\n",
        "<tr>\n",
        "<td>A</td>\n",
        "<td>Hyderabad</td>\n",
        "<td>50000</td>\n",
        "</tr>\n",
        "<tr>\n",
        "<td>C</td>\n",
        "<td>Mumbai</td>\n",
        "<td>90000</td>\n",
        "</tr>\n",
        "<tr>\n",
        "<td>D</td>\n",
        "<td>Pune</td>\n",
        "<td>89000</td>\n",
        "</tr>\n",
        "<tr>\n",
        "<td>A</td>\n",
        "<td>Delhi</td>\n",
        "<td>87000</td>\n",
        "</tr>\n",
        "<tr>\n",
        "<td>D</td>\n",
        "<td>Hyderabad</td>\n",
        "<td>85000</td>\n",
        "</tr>\n",
        "<tr>\n",
        "<td>A</td>\n",
        "<td>Pune</td>\n",
        "<td>78000</td>\n",
        "</tr>\n",
        "<tr>\n",
        "<td>C</td>\n",
        "<td>Mumbai</td>\n",
        "<td>89000</td>\n",
        "</tr>\n",
        "<tr>\n",
        "<td>B</td>\n",
        "<td>Pune</td>\n",
        "<td>70000</td>\n",
        "</tr>\n",
        "   \n",
        "</table>"
      ]
    },
    {
      "cell_type": "code",
      "metadata": {
        "id": "LRIV0DMCbroq",
        "outputId": "35685c02-2faf-44e8-d45d-59b01fe7e93e",
        "colab": {
          "base_uri": "https://localhost:8080/",
          "height": 111
        }
      },
      "source": [
        "df[-2:]"
      ],
      "execution_count": null,
      "outputs": [
        {
          "output_type": "execute_result",
          "data": {
            "text/html": [
              "<div>\n",
              "<style scoped>\n",
              "    .dataframe tbody tr th:only-of-type {\n",
              "        vertical-align: middle;\n",
              "    }\n",
              "\n",
              "    .dataframe tbody tr th {\n",
              "        vertical-align: top;\n",
              "    }\n",
              "\n",
              "    .dataframe thead th {\n",
              "        text-align: right;\n",
              "    }\n",
              "</style>\n",
              "<table border=\"1\" class=\"dataframe\">\n",
              "  <thead>\n",
              "    <tr style=\"text-align: right;\">\n",
              "      <th></th>\n",
              "      <th>Store</th>\n",
              "      <th>Location</th>\n",
              "      <th>Sales</th>\n",
              "    </tr>\n",
              "  </thead>\n",
              "  <tbody>\n",
              "    <tr>\n",
              "      <th>8</th>\n",
              "      <td>Store_c</td>\n",
              "      <td>Mumbai</td>\n",
              "      <td>89000</td>\n",
              "    </tr>\n",
              "    <tr>\n",
              "      <th>9</th>\n",
              "      <td>Store_B</td>\n",
              "      <td>Pune</td>\n",
              "      <td>70000</td>\n",
              "    </tr>\n",
              "  </tbody>\n",
              "</table>\n",
              "</div>"
            ],
            "text/plain": [
              "     Store Location  Sales\n",
              "8  Store_c   Mumbai  89000\n",
              "9  Store_B     Pune  70000"
            ]
          },
          "metadata": {
            "tags": []
          },
          "execution_count": 45
        }
      ]
    },
    {
      "cell_type": "markdown",
      "metadata": {
        "id": "kzBS49kCbrot"
      },
      "source": [
        "<table align=\"left\">\n",
        "    <tr>\n",
        "        <td width=\"6%\">\n",
        "            <img src=\"question_icon.png\">\n",
        "        </td>\n",
        "        <td>\n",
        "            <div align=\"left\", style=\"font-size:120%\">\n",
        "                <font color=\"#21618C\">\n",
        "                    <b>10. Find the maximum sales\n",
        "</b>\n",
        "                </font>\n",
        "            </div>\n",
        "        </td>\n",
        "    </tr>\n",
        "</table>"
      ]
    },
    {
      "cell_type": "markdown",
      "metadata": {
        "id": "6pTfSncBbrot"
      },
      "source": [
        "**Use the dataframe given below:**\n",
        "   \n",
        "<table>\n",
        "<tr>\n",
        "<th>Store</th>\n",
        "<th>Location</th>\n",
        "<th>Sales</th>\n",
        "</tr>\n",
        "<tr>\n",
        "<td>A</td>\n",
        "<td>Mumbai</td>\n",
        "<td>40000</td>\n",
        "</tr>\n",
        "<tr>\n",
        "<td>B</td>\n",
        "<td>Pune</td>\n",
        "<td>45000</td>\n",
        "</tr>\n",
        "<tr>\n",
        "<td>A</td>\n",
        "<td>Hyderabad</td>\n",
        "<td>50000</td>\n",
        "</tr>\n",
        "<tr>\n",
        "<td>C</td>\n",
        "<td>Mumbai</td>\n",
        "<td>90000</td>\n",
        "</tr>\n",
        "<tr>\n",
        "<td>D</td>\n",
        "<td>Pune</td>\n",
        "<td>89000</td>\n",
        "</tr>\n",
        "<tr>\n",
        "<td>A</td>\n",
        "<td>Delhi</td>\n",
        "<td>87000</td>\n",
        "</tr>\n",
        "<tr>\n",
        "<td>D</td>\n",
        "<td>Hyderabad</td>\n",
        "<td>85000</td>\n",
        "</tr>\n",
        "<tr>\n",
        "<td>A</td>\n",
        "<td>Pune</td>\n",
        "<td>78000</td>\n",
        "</tr>\n",
        "<tr>\n",
        "<td>C</td>\n",
        "<td>Mumbai</td>\n",
        "<td>89000</td>\n",
        "</tr>\n",
        "<tr>\n",
        "<td>B</td>\n",
        "<td>Pune</td>\n",
        "<td>70000</td>\n",
        "</tr>\n",
        "   \n",
        "</table>"
      ]
    },
    {
      "cell_type": "code",
      "metadata": {
        "id": "-ru3CyhDbrou",
        "outputId": "c5d4e7c1-9f34-4e31-d48b-0a9335b9ffbc",
        "colab": {
          "base_uri": "https://localhost:8080/",
          "height": 80
        }
      },
      "source": [
        "df[df.Sales== df['Sales'].max()]"
      ],
      "execution_count": null,
      "outputs": [
        {
          "output_type": "execute_result",
          "data": {
            "text/html": [
              "<div>\n",
              "<style scoped>\n",
              "    .dataframe tbody tr th:only-of-type {\n",
              "        vertical-align: middle;\n",
              "    }\n",
              "\n",
              "    .dataframe tbody tr th {\n",
              "        vertical-align: top;\n",
              "    }\n",
              "\n",
              "    .dataframe thead th {\n",
              "        text-align: right;\n",
              "    }\n",
              "</style>\n",
              "<table border=\"1\" class=\"dataframe\">\n",
              "  <thead>\n",
              "    <tr style=\"text-align: right;\">\n",
              "      <th></th>\n",
              "      <th>Store</th>\n",
              "      <th>Location</th>\n",
              "      <th>Sales</th>\n",
              "    </tr>\n",
              "  </thead>\n",
              "  <tbody>\n",
              "    <tr>\n",
              "      <th>3</th>\n",
              "      <td>Store_c</td>\n",
              "      <td>Mumbai</td>\n",
              "      <td>90000</td>\n",
              "    </tr>\n",
              "  </tbody>\n",
              "</table>\n",
              "</div>"
            ],
            "text/plain": [
              "     Store Location  Sales\n",
              "3  Store_c   Mumbai  90000"
            ]
          },
          "metadata": {
            "tags": []
          },
          "execution_count": 48
        }
      ]
    },
    {
      "cell_type": "markdown",
      "metadata": {
        "id": "-AeYRdcBbrow"
      },
      "source": [
        "<table align=\"left\">\n",
        "    <tr>\n",
        "        <td width=\"6%\">\n",
        "            <img src=\"question_icon.png\">\n",
        "        </td>\n",
        "        <td>\n",
        "            <div align=\"left\", style=\"font-size:120%\">\n",
        "                <font color=\"#21618C\">\n",
        "                    <b>11. Write a program to select all columns, except the 'Location' from the given dataframe\n",
        "</b>\n",
        "                </font>\n",
        "            </div>\n",
        "        </td>\n",
        "    </tr>\n",
        "</table>"
      ]
    },
    {
      "cell_type": "markdown",
      "metadata": {
        "id": "FhMe-BOlbrow"
      },
      "source": [
        "**Use the dataframe given below:**\n",
        "   \n",
        "<table>\n",
        "<tr>\n",
        "<th>Store</th>\n",
        "<th>Location</th>\n",
        "<th>Sales</th>\n",
        "</tr>\n",
        "<tr>\n",
        "<td>A</td>\n",
        "<td>Mumbai</td>\n",
        "<td>40000</td>\n",
        "</tr>\n",
        "<tr>\n",
        "<td>B</td>\n",
        "<td>Pune</td>\n",
        "<td>45000</td>\n",
        "</tr>\n",
        "<tr>\n",
        "<td>A</td>\n",
        "<td>Hyderabad</td>\n",
        "<td>50000</td>\n",
        "</tr>\n",
        "<tr>\n",
        "<td>C</td>\n",
        "<td>Mumbai</td>\n",
        "<td>90000</td>\n",
        "</tr>\n",
        "<tr>\n",
        "<td>D</td>\n",
        "<td>Pune</td>\n",
        "<td>89000</td>\n",
        "</tr>\n",
        "<tr>\n",
        "<td>A</td>\n",
        "<td>Delhi</td>\n",
        "<td>87000</td>\n",
        "</tr>\n",
        "<tr>\n",
        "<td>D</td>\n",
        "<td>Hyderabad</td>\n",
        "<td>85000</td>\n",
        "</tr>\n",
        "<tr>\n",
        "<td>A</td>\n",
        "<td>Pune</td>\n",
        "<td>78000</td>\n",
        "</tr>\n",
        "<tr>\n",
        "<td>C</td>\n",
        "<td>Mumbai</td>\n",
        "<td>89000</td>\n",
        "</tr>\n",
        "<tr>\n",
        "<td>B</td>\n",
        "<td>Pune</td>\n",
        "<td>70000</td>\n",
        "</tr>\n",
        "   \n",
        "</table>"
      ]
    },
    {
      "cell_type": "code",
      "metadata": {
        "id": "VZwFNyNmbrow",
        "outputId": "e5e2636e-22d7-474c-a050-e6fd33d1e232",
        "colab": {
          "base_uri": "https://localhost:8080/",
          "height": 359
        }
      },
      "source": [
        "df[['Store', 'Sales']]"
      ],
      "execution_count": null,
      "outputs": [
        {
          "output_type": "execute_result",
          "data": {
            "text/html": [
              "<div>\n",
              "<style scoped>\n",
              "    .dataframe tbody tr th:only-of-type {\n",
              "        vertical-align: middle;\n",
              "    }\n",
              "\n",
              "    .dataframe tbody tr th {\n",
              "        vertical-align: top;\n",
              "    }\n",
              "\n",
              "    .dataframe thead th {\n",
              "        text-align: right;\n",
              "    }\n",
              "</style>\n",
              "<table border=\"1\" class=\"dataframe\">\n",
              "  <thead>\n",
              "    <tr style=\"text-align: right;\">\n",
              "      <th></th>\n",
              "      <th>Store</th>\n",
              "      <th>Sales</th>\n",
              "    </tr>\n",
              "  </thead>\n",
              "  <tbody>\n",
              "    <tr>\n",
              "      <th>0</th>\n",
              "      <td>Store_A</td>\n",
              "      <td>40000</td>\n",
              "    </tr>\n",
              "    <tr>\n",
              "      <th>1</th>\n",
              "      <td>Store_B</td>\n",
              "      <td>45000</td>\n",
              "    </tr>\n",
              "    <tr>\n",
              "      <th>2</th>\n",
              "      <td>Store_A</td>\n",
              "      <td>50000</td>\n",
              "    </tr>\n",
              "    <tr>\n",
              "      <th>3</th>\n",
              "      <td>Store_c</td>\n",
              "      <td>90000</td>\n",
              "    </tr>\n",
              "    <tr>\n",
              "      <th>4</th>\n",
              "      <td>Store_c</td>\n",
              "      <td>89000</td>\n",
              "    </tr>\n",
              "    <tr>\n",
              "      <th>5</th>\n",
              "      <td>Store_A</td>\n",
              "      <td>87000</td>\n",
              "    </tr>\n",
              "    <tr>\n",
              "      <th>6</th>\n",
              "      <td>Store_c</td>\n",
              "      <td>85000</td>\n",
              "    </tr>\n",
              "    <tr>\n",
              "      <th>7</th>\n",
              "      <td>Store_A</td>\n",
              "      <td>78000</td>\n",
              "    </tr>\n",
              "    <tr>\n",
              "      <th>8</th>\n",
              "      <td>Store_c</td>\n",
              "      <td>89000</td>\n",
              "    </tr>\n",
              "    <tr>\n",
              "      <th>9</th>\n",
              "      <td>Store_B</td>\n",
              "      <td>70000</td>\n",
              "    </tr>\n",
              "  </tbody>\n",
              "</table>\n",
              "</div>"
            ],
            "text/plain": [
              "     Store  Sales\n",
              "0  Store_A  40000\n",
              "1  Store_B  45000\n",
              "2  Store_A  50000\n",
              "3  Store_c  90000\n",
              "4  Store_c  89000\n",
              "5  Store_A  87000\n",
              "6  Store_c  85000\n",
              "7  Store_A  78000\n",
              "8  Store_c  89000\n",
              "9  Store_B  70000"
            ]
          },
          "metadata": {
            "tags": []
          },
          "execution_count": 50
        }
      ]
    },
    {
      "cell_type": "markdown",
      "metadata": {
        "id": "jdPQGGNbbroy"
      },
      "source": [
        "<table align=\"left\">\n",
        "    <tr>\n",
        "        <td width=\"6%\">\n",
        "            <img src=\"question_icon.png\">\n",
        "        </td>\n",
        "        <td>\n",
        "            <div align=\"left\", style=\"font-size:120%\">\n",
        "                <font color=\"#21618C\">\n",
        "                    <b>12. Write a program to insert a given column in a dataframe\n",
        "</b>\n",
        "                </font>\n",
        "            </div>\n",
        "        </td>\n",
        "    </tr>\n",
        "</table>"
      ]
    },
    {
      "cell_type": "markdown",
      "metadata": {
        "id": "eTt8takEbroz"
      },
      "source": [
        "**Use the dataframe given below:**\n",
        "\n",
        "<table>\n",
        "<tr>\n",
        "<th>Name</th>\n",
        "<th>Age</th>\n",
        "</tr>\n",
        "<tr>\n",
        "<td>Emma Larter</td>\n",
        "<td>34</td>\n",
        "</tr>\n",
        "<tr>\n",
        "<td>Mia Junior</td>\n",
        "<td>59</td>\n",
        "</tr>\n",
        "<tr>\n",
        "<td>Sophia Depp</td>\n",
        "<td>32</td>\n",
        "</tr>\n",
        "<tr>\n",
        "<td>James Smith</td>\n",
        "<td>40</td>\n",
        "</tr>\n",
        "   \n",
        "</table>\n",
        "\n",
        "**Add the variable 'Salary' as second column**<br>\n",
        "            \n",
        "            Salary = [35000, 24000, 55000, 40000]"
      ]
    },
    {
      "cell_type": "code",
      "metadata": {
        "id": "SkFzhAaRbroz",
        "outputId": "d5a112cd-3e62-41ce-c323-4f5ec4861577",
        "colab": {
          "base_uri": "https://localhost:8080/",
          "height": 173
        }
      },
      "source": [
        "salary = [35000, 24000, 55000, 40000]\n",
        "df= pd.DataFrame({'Name': ['Emma Larter', 'Mia Junior', 'Sophia Depp', 'James Smith'], 'Age': [34, 59, 32, 40]})\n",
        "df.insert(1, 'Salary', salary)\n",
        "df"
      ],
      "execution_count": 3,
      "outputs": [
        {
          "output_type": "execute_result",
          "data": {
            "text/html": [
              "<div>\n",
              "<style scoped>\n",
              "    .dataframe tbody tr th:only-of-type {\n",
              "        vertical-align: middle;\n",
              "    }\n",
              "\n",
              "    .dataframe tbody tr th {\n",
              "        vertical-align: top;\n",
              "    }\n",
              "\n",
              "    .dataframe thead th {\n",
              "        text-align: right;\n",
              "    }\n",
              "</style>\n",
              "<table border=\"1\" class=\"dataframe\">\n",
              "  <thead>\n",
              "    <tr style=\"text-align: right;\">\n",
              "      <th></th>\n",
              "      <th>Name</th>\n",
              "      <th>Salary</th>\n",
              "      <th>Age</th>\n",
              "    </tr>\n",
              "  </thead>\n",
              "  <tbody>\n",
              "    <tr>\n",
              "      <th>0</th>\n",
              "      <td>Emma Larter</td>\n",
              "      <td>35000</td>\n",
              "      <td>34</td>\n",
              "    </tr>\n",
              "    <tr>\n",
              "      <th>1</th>\n",
              "      <td>Mia Junior</td>\n",
              "      <td>24000</td>\n",
              "      <td>59</td>\n",
              "    </tr>\n",
              "    <tr>\n",
              "      <th>2</th>\n",
              "      <td>Sophia Depp</td>\n",
              "      <td>55000</td>\n",
              "      <td>32</td>\n",
              "    </tr>\n",
              "    <tr>\n",
              "      <th>3</th>\n",
              "      <td>James Smith</td>\n",
              "      <td>40000</td>\n",
              "      <td>40</td>\n",
              "    </tr>\n",
              "  </tbody>\n",
              "</table>\n",
              "</div>"
            ],
            "text/plain": [
              "          Name  Salary  Age\n",
              "0  Emma Larter   35000   34\n",
              "1   Mia Junior   24000   59\n",
              "2  Sophia Depp   55000   32\n",
              "3  James Smith   40000   40"
            ]
          },
          "metadata": {
            "tags": []
          },
          "execution_count": 3
        }
      ]
    },
    {
      "cell_type": "markdown",
      "metadata": {
        "id": "u57xUd5cbro1"
      },
      "source": [
        "<table align=\"left\">\n",
        "    <tr>\n",
        "        <td width=\"6%\">\n",
        "            <img src=\"question_icon.png\">\n",
        "        </td>\n",
        "        <td>\n",
        "            <div align=\"left\", style=\"font-size:120%\">\n",
        "                <font color=\"#21618C\">\n",
        "                    <b>13. Write a program to get the third observation of the given dataframe\n",
        "</b>\n",
        "                </font>\n",
        "            </div>\n",
        "        </td>\n",
        "    </tr>\n",
        "</table>"
      ]
    },
    {
      "cell_type": "markdown",
      "metadata": {
        "id": "q-SX6ARYbro2"
      },
      "source": [
        "**Use the dataframe given below:**\n",
        "\n",
        "<table>\n",
        "<tr>\n",
        "<th>Name</th>\n",
        "<th>Age</th>\n",
        "</tr>\n",
        "<tr>\n",
        "<td>Emma Larter</td>\n",
        "<td>34</td>\n",
        "</tr>\n",
        "<tr>\n",
        "<td>Mia Junior</td>\n",
        "<td>59</td>\n",
        "</tr>\n",
        "<tr>\n",
        "<td>Sophia Depp</td>\n",
        "<td>32</td>\n",
        "</tr>\n",
        "<tr>\n",
        "<td>James Smith</td>\n",
        "<td>40</td>\n",
        "</tr>\n",
        "</table>    "
      ]
    },
    {
      "cell_type": "code",
      "metadata": {
        "id": "mbhm0alkbro2",
        "outputId": "fb096291-53ce-4ceb-dbfe-28e562f6a329",
        "colab": {
          "base_uri": "https://localhost:8080/",
          "height": 85
        }
      },
      "source": [
        "df.iloc[2]"
      ],
      "execution_count": null,
      "outputs": [
        {
          "output_type": "execute_result",
          "data": {
            "text/plain": [
              "Name      Sophia Depp\n",
              "Age                32\n",
              "Salary          55000\n",
              "Name: 2, dtype: object"
            ]
          },
          "metadata": {
            "tags": []
          },
          "execution_count": 54
        }
      ]
    },
    {
      "cell_type": "markdown",
      "metadata": {
        "id": "3BSI3I2Bbro4"
      },
      "source": [
        "<table align=\"left\">\n",
        "    <tr>\n",
        "        <td width=\"6%\">\n",
        "            <img src=\"question_icon.png\">\n",
        "        </td>\n",
        "        <td>\n",
        "            <div align=\"left\", style=\"font-size:120%\">\n",
        "                <font color=\"#21618C\">\n",
        "                    <b>14. Write a program to create a dataframe from the provided lists</b>\n",
        "                </font>\n",
        "            </div>\n",
        "        </td>\n",
        "    </tr>\n",
        "</table>"
      ]
    },
    {
      "cell_type": "markdown",
      "metadata": {
        "id": "6sJVU9BKbro5"
      },
      "source": [
        "**Use the following lists to create your arrays:**\n",
        "        \n",
        "            columns = [\"Science\", \"Maths\", \"English\"]\n",
        "            \n",
        "            marks = [[55, 78, 88], [93, 63, 83],[94, 74, 64]]\n",
        "            \n",
        "**Hint:** Convert the list marks into an array           "
      ]
    },
    {
      "cell_type": "code",
      "metadata": {
        "id": "i43LDErebro5",
        "outputId": "eb152172-fd53-457c-a8da-085071228abf",
        "colab": {
          "base_uri": "https://localhost:8080/",
          "height": 34
        }
      },
      "source": [
        "col = [\"Science\", \"Maths\", \"English\"]\n",
        "marks = [[55, 78, 88], [93, 63, 83],[94, 74, 64]]\n",
        "marks"
      ],
      "execution_count": 6,
      "outputs": [
        {
          "output_type": "execute_result",
          "data": {
            "text/plain": [
              "[[55, 78, 88], [93, 63, 83], [94, 74, 64]]"
            ]
          },
          "metadata": {
            "tags": []
          },
          "execution_count": 6
        }
      ]
    },
    {
      "cell_type": "code",
      "metadata": {
        "id": "lJ2bRiE5rrql"
      },
      "source": [
        "df= pd.DataFrame(marks, columns= col)"
      ],
      "execution_count": 7,
      "outputs": []
    },
    {
      "cell_type": "code",
      "metadata": {
        "id": "3rxwz0Hcr8wJ",
        "outputId": "28dbb1a5-3f92-46a5-efef-1f77e603f699",
        "colab": {
          "base_uri": "https://localhost:8080/",
          "height": 142
        }
      },
      "source": [
        "df"
      ],
      "execution_count": 8,
      "outputs": [
        {
          "output_type": "execute_result",
          "data": {
            "text/html": [
              "<div>\n",
              "<style scoped>\n",
              "    .dataframe tbody tr th:only-of-type {\n",
              "        vertical-align: middle;\n",
              "    }\n",
              "\n",
              "    .dataframe tbody tr th {\n",
              "        vertical-align: top;\n",
              "    }\n",
              "\n",
              "    .dataframe thead th {\n",
              "        text-align: right;\n",
              "    }\n",
              "</style>\n",
              "<table border=\"1\" class=\"dataframe\">\n",
              "  <thead>\n",
              "    <tr style=\"text-align: right;\">\n",
              "      <th></th>\n",
              "      <th>Science</th>\n",
              "      <th>Maths</th>\n",
              "      <th>English</th>\n",
              "    </tr>\n",
              "  </thead>\n",
              "  <tbody>\n",
              "    <tr>\n",
              "      <th>0</th>\n",
              "      <td>55</td>\n",
              "      <td>78</td>\n",
              "      <td>88</td>\n",
              "    </tr>\n",
              "    <tr>\n",
              "      <th>1</th>\n",
              "      <td>93</td>\n",
              "      <td>63</td>\n",
              "      <td>83</td>\n",
              "    </tr>\n",
              "    <tr>\n",
              "      <th>2</th>\n",
              "      <td>94</td>\n",
              "      <td>74</td>\n",
              "      <td>64</td>\n",
              "    </tr>\n",
              "  </tbody>\n",
              "</table>\n",
              "</div>"
            ],
            "text/plain": [
              "   Science  Maths  English\n",
              "0       55     78       88\n",
              "1       93     63       83\n",
              "2       94     74       64"
            ]
          },
          "metadata": {
            "tags": []
          },
          "execution_count": 8
        }
      ]
    },
    {
      "cell_type": "markdown",
      "metadata": {
        "id": "lT3ns2Anbro8"
      },
      "source": [
        "<table align=\"left\">\n",
        "    <tr>\n",
        "        <td width=\"6%\">\n",
        "            <img src=\"question_icon.png\">\n",
        "        </td>\n",
        "        <td>\n",
        "            <div align=\"left\", style=\"font-size:120%\">\n",
        "                <font color=\"#21618C\">\n",
        "                    <b>15. Write a program to count total sales per store </b>\n",
        "                </font>\n",
        "            </div>\n",
        "        </td>\n",
        "    </tr>\n",
        "</table>"
      ]
    },
    {
      "cell_type": "markdown",
      "metadata": {
        "id": "JLRKaQRMbro8"
      },
      "source": [
        "**Use the dataframe given below:**\n",
        "   \n",
        "<table>\n",
        "<tr>\n",
        "<th>Store</th>\n",
        "<th>Location</th>\n",
        "<th>Sales</th>\n",
        "</tr>\n",
        "<tr>\n",
        "<td>A</td>\n",
        "<td>Mumbai</td>\n",
        "<td>40000</td>\n",
        "</tr>\n",
        "<tr>\n",
        "<td>B</td>\n",
        "<td>Pune</td>\n",
        "<td>45000</td>\n",
        "</tr>\n",
        "<tr>\n",
        "<td>A</td>\n",
        "<td>Hyderabad</td>\n",
        "<td>50000</td>\n",
        "</tr>\n",
        "<tr>\n",
        "<td>C</td>\n",
        "<td>Mumbai</td>\n",
        "<td>90000</td>\n",
        "</tr>\n",
        "<tr>\n",
        "<td>D</td>\n",
        "<td>Pune</td>\n",
        "<td>89000</td>\n",
        "</tr>\n",
        "<tr>\n",
        "<td>A</td>\n",
        "<td>Delhi</td>\n",
        "<td>87000</td>\n",
        "</tr>\n",
        "<tr>\n",
        "<td>D</td>\n",
        "<td>Hyderabad</td>\n",
        "<td>85000</td>\n",
        "</tr>\n",
        "<tr>\n",
        "<td>A</td>\n",
        "<td>Pune</td>\n",
        "<td>78000</td>\n",
        "</tr>\n",
        "<tr>\n",
        "<td>C</td>\n",
        "<td>Mumbai</td>\n",
        "<td>89000</td>\n",
        "</tr>\n",
        "<tr>\n",
        "<td>B</td>\n",
        "<td>Pune</td>\n",
        "<td>70000</td>\n",
        "</tr>\n",
        "   \n",
        "</table>"
      ]
    },
    {
      "cell_type": "code",
      "metadata": {
        "id": "-QrO49uXbro9",
        "outputId": "ae134862-c6fd-4428-9c1a-b31a25bd3265",
        "colab": {
          "base_uri": "https://localhost:8080/",
          "height": 119
        }
      },
      "source": [
        "df['Sales'].groupby(df['Store']).sum()"
      ],
      "execution_count": null,
      "outputs": [
        {
          "output_type": "execute_result",
          "data": {
            "text/plain": [
              "Store\n",
              "A    255000\n",
              "B    115000\n",
              "C    179000\n",
              "D    174000\n",
              "Name: Sales, dtype: int64"
            ]
          },
          "metadata": {
            "tags": []
          },
          "execution_count": 20
        }
      ]
    },
    {
      "cell_type": "markdown",
      "metadata": {
        "id": "J4ZkF6fCbro_"
      },
      "source": [
        "<table align=\"left\">\n",
        "    <tr>\n",
        "        <td width=\"6%\">\n",
        "            <img src=\"question_icon.png\">\n",
        "        </td>\n",
        "        <td>\n",
        "            <div align=\"left\", style=\"font-size:120%\">\n",
        "                <font color=\"#21618C\">\n",
        "                    <b>16. Write a program to count the top five commonly used words in a list\n",
        "</b>\n",
        "                </font>\n",
        "            </div>\n",
        "        </td>\n",
        "    </tr>\n",
        "</table>"
      ]
    },
    {
      "cell_type": "markdown",
      "metadata": {
        "id": "Xa5QdIwZbro_"
      },
      "source": [
        "**Use the below list:**<br>\n",
        "\n",
        "            words_list = ['words', 'will', 'where', 'shall', 'we', 'will', 'shall', 'we', 'words', 'where', 'shall',\n",
        "                        'will', 'there', 'wow', 'should', 'shall', 'we', 'where', 'should', 'where', 'will', \n",
        "                        'there', 'now', 'where', 'we', 'will', 'where', 'should', 'will', 'where']"
      ]
    },
    {
      "cell_type": "code",
      "metadata": {
        "id": "sWG1rZKjbro_"
      },
      "source": [
        " words_list = ['words', 'will', 'where', 'shall', 'we', 'will', 'shall', 'we', 'words', 'where', 'shall',\n",
        "                    'will', 'there', 'wow', 'should', 'shall', 'we', 'where', 'should', 'where', 'will', \n",
        "                    'there', 'now', 'where', 'we', 'will', 'where', 'should', 'will', 'where']\n",
        "from collections import Counter"
      ],
      "execution_count": 9,
      "outputs": []
    },
    {
      "cell_type": "code",
      "metadata": {
        "id": "pQAG_HqJc-_n",
        "outputId": "c6826b32-1351-4436-a2c8-3fb33340d6e9",
        "colab": {
          "base_uri": "https://localhost:8080/",
          "height": 34
        }
      },
      "source": [
        "Counter(words_list).most_common()[:5]"
      ],
      "execution_count": 10,
      "outputs": [
        {
          "output_type": "execute_result",
          "data": {
            "text/plain": [
              "[('where', 7), ('will', 6), ('shall', 4), ('we', 4), ('should', 3)]"
            ]
          },
          "metadata": {
            "tags": []
          },
          "execution_count": 10
        }
      ]
    },
    {
      "cell_type": "markdown",
      "metadata": {
        "id": "MczOZRuhbrpB"
      },
      "source": [
        "<a id='sorting'></a>\n",
        "## 3. Sort"
      ]
    },
    {
      "cell_type": "markdown",
      "metadata": {
        "id": "5t-wNWrlbrpC"
      },
      "source": [
        "<table align=\"left\">\n",
        "    <tr>\n",
        "        <td width=\"6%\">\n",
        "            <img src=\"question_icon.png\">\n",
        "        </td>\n",
        "        <td>\n",
        "            <div align=\"left\", style=\"font-size:120%\">\n",
        "                <font color=\"#21618C\">\n",
        "                    <b>17. Write a program to sort the dataframe by 'Sales' in ascending order\n",
        "</b>\n",
        "                </font>\n",
        "            </div>\n",
        "        </td>\n",
        "    </tr>\n",
        "</table>"
      ]
    },
    {
      "cell_type": "markdown",
      "metadata": {
        "id": "PKqI6PuFbrpC"
      },
      "source": [
        "**Use the dataframe given below:**\n",
        "   \n",
        "<table>\n",
        "<tr>\n",
        "<th>Store</th>\n",
        "<th>Location</th>\n",
        "<th>Sales</th>\n",
        "</tr>\n",
        "<tr>\n",
        "<td>A</td>\n",
        "<td>Mumbai</td>\n",
        "<td>40000</td>\n",
        "</tr>\n",
        "<tr>\n",
        "<td>B</td>\n",
        "<td>Pune</td>\n",
        "<td>45000</td>\n",
        "</tr>\n",
        "<tr>\n",
        "<td>A</td>\n",
        "<td>Hyderabad</td>\n",
        "<td>50000</td>\n",
        "</tr>\n",
        "<tr>\n",
        "<td>C</td>\n",
        "<td>Mumbai</td>\n",
        "<td>90000</td>\n",
        "</tr>\n",
        "<tr>\n",
        "<td>D</td>\n",
        "<td>Pune</td>\n",
        "<td>89000</td>\n",
        "</tr>\n",
        "<tr>\n",
        "<td>A</td>\n",
        "<td>Delhi</td>\n",
        "<td>87000</td>\n",
        "</tr>\n",
        "<tr>\n",
        "<td>D</td>\n",
        "<td>Hyderabad</td>\n",
        "<td>85000</td>\n",
        "</tr>\n",
        "<tr>\n",
        "<td>A</td>\n",
        "<td>Pune</td>\n",
        "<td>78000</td>\n",
        "</tr>\n",
        "<tr>\n",
        "<td>C</td>\n",
        "<td>Mumbai</td>\n",
        "<td>89000</td>\n",
        "</tr>\n",
        "<tr>\n",
        "<td>B</td>\n",
        "<td>Pune</td>\n",
        "<td>70000</td>\n",
        "</tr>\n",
        "   \n",
        "</table>"
      ]
    },
    {
      "cell_type": "code",
      "metadata": {
        "id": "EDDUeI_ebrpD",
        "outputId": "76cbe28a-8ebd-4ce3-d5ce-580fd68fc80f",
        "colab": {
          "base_uri": "https://localhost:8080/",
          "height": 359
        }
      },
      "source": [
        "df.sort_values(by= 'Sales')"
      ],
      "execution_count": 13,
      "outputs": [
        {
          "output_type": "execute_result",
          "data": {
            "text/html": [
              "<div>\n",
              "<style scoped>\n",
              "    .dataframe tbody tr th:only-of-type {\n",
              "        vertical-align: middle;\n",
              "    }\n",
              "\n",
              "    .dataframe tbody tr th {\n",
              "        vertical-align: top;\n",
              "    }\n",
              "\n",
              "    .dataframe thead th {\n",
              "        text-align: right;\n",
              "    }\n",
              "</style>\n",
              "<table border=\"1\" class=\"dataframe\">\n",
              "  <thead>\n",
              "    <tr style=\"text-align: right;\">\n",
              "      <th></th>\n",
              "      <th>Store</th>\n",
              "      <th>Location</th>\n",
              "      <th>Sales</th>\n",
              "    </tr>\n",
              "  </thead>\n",
              "  <tbody>\n",
              "    <tr>\n",
              "      <th>0</th>\n",
              "      <td>A</td>\n",
              "      <td>Mumbai</td>\n",
              "      <td>40000</td>\n",
              "    </tr>\n",
              "    <tr>\n",
              "      <th>1</th>\n",
              "      <td>B</td>\n",
              "      <td>Pune</td>\n",
              "      <td>45000</td>\n",
              "    </tr>\n",
              "    <tr>\n",
              "      <th>2</th>\n",
              "      <td>A</td>\n",
              "      <td>Hyderabad</td>\n",
              "      <td>50000</td>\n",
              "    </tr>\n",
              "    <tr>\n",
              "      <th>9</th>\n",
              "      <td>B</td>\n",
              "      <td>Pune</td>\n",
              "      <td>70000</td>\n",
              "    </tr>\n",
              "    <tr>\n",
              "      <th>7</th>\n",
              "      <td>A</td>\n",
              "      <td>Pune</td>\n",
              "      <td>78000</td>\n",
              "    </tr>\n",
              "    <tr>\n",
              "      <th>6</th>\n",
              "      <td>D</td>\n",
              "      <td>Hyderabad</td>\n",
              "      <td>85000</td>\n",
              "    </tr>\n",
              "    <tr>\n",
              "      <th>5</th>\n",
              "      <td>A</td>\n",
              "      <td>Delhi</td>\n",
              "      <td>87000</td>\n",
              "    </tr>\n",
              "    <tr>\n",
              "      <th>4</th>\n",
              "      <td>D</td>\n",
              "      <td>Pune</td>\n",
              "      <td>89000</td>\n",
              "    </tr>\n",
              "    <tr>\n",
              "      <th>8</th>\n",
              "      <td>C</td>\n",
              "      <td>Mumbai</td>\n",
              "      <td>89000</td>\n",
              "    </tr>\n",
              "    <tr>\n",
              "      <th>3</th>\n",
              "      <td>C</td>\n",
              "      <td>Mumbai</td>\n",
              "      <td>90000</td>\n",
              "    </tr>\n",
              "  </tbody>\n",
              "</table>\n",
              "</div>"
            ],
            "text/plain": [
              "  Store   Location  Sales\n",
              "0     A     Mumbai  40000\n",
              "1     B       Pune  45000\n",
              "2     A  Hyderabad  50000\n",
              "9     B       Pune  70000\n",
              "7     A       Pune  78000\n",
              "6     D  Hyderabad  85000\n",
              "5     A      Delhi  87000\n",
              "4     D       Pune  89000\n",
              "8     C     Mumbai  89000\n",
              "3     C     Mumbai  90000"
            ]
          },
          "metadata": {
            "tags": []
          },
          "execution_count": 13
        }
      ]
    },
    {
      "cell_type": "markdown",
      "metadata": {
        "id": "7ti1ghjLbrpG"
      },
      "source": [
        "<table align=\"left\">\n",
        "    <tr>\n",
        "        <td width=\"6%\">\n",
        "            <img src=\"question_icon.png\">\n",
        "        </td>\n",
        "        <td>\n",
        "            <div align=\"left\", style=\"font-size:120%\">\n",
        "                <font color=\"#21618C\">\n",
        "                    <b>18. Write a program to sort the dataframe by 'Store' in ascending order and by 'Sales' in descending order simultaneously\n",
        "</b>\n",
        "                </font>\n",
        "            </div>\n",
        "        </td>\n",
        "    </tr>\n",
        "</table>"
      ]
    },
    {
      "cell_type": "markdown",
      "metadata": {
        "id": "cGyakcEdbrpG"
      },
      "source": [
        "**Use the dataframe given below:**\n",
        "   \n",
        "<table>\n",
        "<tr>\n",
        "<th>Store</th>\n",
        "<th>Location</th>\n",
        "<th>Sales</th>\n",
        "</tr>\n",
        "<tr>\n",
        "<td>A</td>\n",
        "<td>Mumbai</td>\n",
        "<td>40000</td>\n",
        "</tr>\n",
        "<tr>\n",
        "<td>B</td>\n",
        "<td>Pune</td>\n",
        "<td>45000</td>\n",
        "</tr>\n",
        "<tr>\n",
        "<td>A</td>\n",
        "<td>Hyderabad</td>\n",
        "<td>50000</td>\n",
        "</tr>\n",
        "<tr>\n",
        "<td>C</td>\n",
        "<td>Mumbai</td>\n",
        "<td>90000</td>\n",
        "</tr>\n",
        "<tr>\n",
        "<td>D</td>\n",
        "<td>Pune</td>\n",
        "<td>89000</td>\n",
        "</tr>\n",
        "<tr>\n",
        "<td>A</td>\n",
        "<td>Delhi</td>\n",
        "<td>87000</td>\n",
        "</tr>\n",
        "<tr>\n",
        "<td>D</td>\n",
        "<td>Hyderabad</td>\n",
        "<td>85000</td>\n",
        "</tr>\n",
        "<tr>\n",
        "<td>A</td>\n",
        "<td>Pune</td>\n",
        "<td>78000</td>\n",
        "</tr>\n",
        "<tr>\n",
        "<td>C</td>\n",
        "<td>Mumbai</td>\n",
        "<td>89000</td>\n",
        "</tr>\n",
        "<tr>\n",
        "<td>B</td>\n",
        "<td>Pune</td>\n",
        "<td>70000</td>\n",
        "</tr>\n",
        "   \n",
        "</table>"
      ]
    },
    {
      "cell_type": "code",
      "metadata": {
        "id": "tdCkIYaXbrpG",
        "outputId": "b4a383a1-f251-451f-f9a5-b8cd99a79ddb",
        "colab": {
          "base_uri": "https://localhost:8080/",
          "height": 359
        }
      },
      "source": [
        "df.sort_values(by= ['Store', 'Sales'], ascending= [True, False])"
      ],
      "execution_count": 17,
      "outputs": [
        {
          "output_type": "execute_result",
          "data": {
            "text/html": [
              "<div>\n",
              "<style scoped>\n",
              "    .dataframe tbody tr th:only-of-type {\n",
              "        vertical-align: middle;\n",
              "    }\n",
              "\n",
              "    .dataframe tbody tr th {\n",
              "        vertical-align: top;\n",
              "    }\n",
              "\n",
              "    .dataframe thead th {\n",
              "        text-align: right;\n",
              "    }\n",
              "</style>\n",
              "<table border=\"1\" class=\"dataframe\">\n",
              "  <thead>\n",
              "    <tr style=\"text-align: right;\">\n",
              "      <th></th>\n",
              "      <th>Store</th>\n",
              "      <th>Location</th>\n",
              "      <th>Sales</th>\n",
              "    </tr>\n",
              "  </thead>\n",
              "  <tbody>\n",
              "    <tr>\n",
              "      <th>5</th>\n",
              "      <td>A</td>\n",
              "      <td>Delhi</td>\n",
              "      <td>87000</td>\n",
              "    </tr>\n",
              "    <tr>\n",
              "      <th>7</th>\n",
              "      <td>A</td>\n",
              "      <td>Pune</td>\n",
              "      <td>78000</td>\n",
              "    </tr>\n",
              "    <tr>\n",
              "      <th>2</th>\n",
              "      <td>A</td>\n",
              "      <td>Hyderabad</td>\n",
              "      <td>50000</td>\n",
              "    </tr>\n",
              "    <tr>\n",
              "      <th>0</th>\n",
              "      <td>A</td>\n",
              "      <td>Mumbai</td>\n",
              "      <td>40000</td>\n",
              "    </tr>\n",
              "    <tr>\n",
              "      <th>9</th>\n",
              "      <td>B</td>\n",
              "      <td>Pune</td>\n",
              "      <td>70000</td>\n",
              "    </tr>\n",
              "    <tr>\n",
              "      <th>1</th>\n",
              "      <td>B</td>\n",
              "      <td>Pune</td>\n",
              "      <td>45000</td>\n",
              "    </tr>\n",
              "    <tr>\n",
              "      <th>3</th>\n",
              "      <td>C</td>\n",
              "      <td>Mumbai</td>\n",
              "      <td>90000</td>\n",
              "    </tr>\n",
              "    <tr>\n",
              "      <th>8</th>\n",
              "      <td>C</td>\n",
              "      <td>Mumbai</td>\n",
              "      <td>89000</td>\n",
              "    </tr>\n",
              "    <tr>\n",
              "      <th>4</th>\n",
              "      <td>D</td>\n",
              "      <td>Pune</td>\n",
              "      <td>89000</td>\n",
              "    </tr>\n",
              "    <tr>\n",
              "      <th>6</th>\n",
              "      <td>D</td>\n",
              "      <td>Hyderabad</td>\n",
              "      <td>85000</td>\n",
              "    </tr>\n",
              "  </tbody>\n",
              "</table>\n",
              "</div>"
            ],
            "text/plain": [
              "  Store   Location  Sales\n",
              "5     A      Delhi  87000\n",
              "7     A       Pune  78000\n",
              "2     A  Hyderabad  50000\n",
              "0     A     Mumbai  40000\n",
              "9     B       Pune  70000\n",
              "1     B       Pune  45000\n",
              "3     C     Mumbai  90000\n",
              "8     C     Mumbai  89000\n",
              "4     D       Pune  89000\n",
              "6     D  Hyderabad  85000"
            ]
          },
          "metadata": {
            "tags": []
          },
          "execution_count": 17
        }
      ]
    },
    {
      "cell_type": "markdown",
      "metadata": {
        "id": "6ISK8C4nbrpI"
      },
      "source": [
        "<a id='ranking'></a>\n",
        "## 4. Rank"
      ]
    },
    {
      "cell_type": "markdown",
      "metadata": {
        "id": "Vk0X5xxqbrpJ"
      },
      "source": [
        "<table align=\"left\">\n",
        "    <tr>\n",
        "        <td width=\"6%\">\n",
        "            <img src=\"question_icon.png\">\n",
        "        </td>\n",
        "        <td>\n",
        "            <div align=\"left\", style=\"font-size:120%\">\n",
        "                <font color=\"#21618C\">\n",
        "                    <b>19. Create a column 'Rank_sales' which contains the rank of each store based on sales of the product in ascending order\n",
        "</b>\n",
        "                </font>\n",
        "            </div>\n",
        "        </td>\n",
        "    </tr>\n",
        "</table>"
      ]
    },
    {
      "cell_type": "markdown",
      "metadata": {
        "id": "7O5czmbmbrpJ"
      },
      "source": [
        "**Use the dataframe given below:**\n",
        "   \n",
        "<table>\n",
        "<tr>\n",
        "<th>Store</th>\n",
        "<th>Location</th>\n",
        "<th>Sales</th>\n",
        "</tr>\n",
        "<tr>\n",
        "<td>A</td>\n",
        "<td>Mumbai</td>\n",
        "<td>40000</td>\n",
        "</tr>\n",
        "<tr>\n",
        "<td>B</td>\n",
        "<td>Pune</td>\n",
        "<td>45000</td>\n",
        "</tr>\n",
        "<tr>\n",
        "<td>A</td>\n",
        "<td>Hyderabad</td>\n",
        "<td>50000</td>\n",
        "</tr>\n",
        "<tr>\n",
        "<td>C</td>\n",
        "<td>Mumbai</td>\n",
        "<td>90000</td>\n",
        "</tr>\n",
        "<tr>\n",
        "<td>D</td>\n",
        "<td>Pune</td>\n",
        "<td>89000</td>\n",
        "</tr>\n",
        "<tr>\n",
        "<td>A</td>\n",
        "<td>Delhi</td>\n",
        "<td>87000</td>\n",
        "</tr>\n",
        "<tr>\n",
        "<td>D</td>\n",
        "<td>Hyderabad</td>\n",
        "<td>85000</td>\n",
        "</tr>\n",
        "<tr>\n",
        "<td>A</td>\n",
        "<td>Pune</td>\n",
        "<td>78000</td>\n",
        "</tr>\n",
        "<tr>\n",
        "<td>C</td>\n",
        "<td>Mumbai</td>\n",
        "<td>89000</td>\n",
        "</tr>\n",
        "<tr>\n",
        "<td>B</td>\n",
        "<td>Pune</td>\n",
        "<td>70000</td>\n",
        "</tr>\n",
        "   \n",
        "</table>"
      ]
    },
    {
      "cell_type": "code",
      "metadata": {
        "id": "8Crt7wH6brpJ"
      },
      "source": [
        "df['Rank_sales'] = df['Sales'].rank()"
      ],
      "execution_count": 23,
      "outputs": []
    },
    {
      "cell_type": "code",
      "metadata": {
        "id": "ymx5hNumw6u9",
        "outputId": "0bce797f-9f30-4aff-b15f-b12e41bd7d5f",
        "colab": {
          "base_uri": "https://localhost:8080/",
          "height": 359
        }
      },
      "source": [
        "df"
      ],
      "execution_count": 24,
      "outputs": [
        {
          "output_type": "execute_result",
          "data": {
            "text/html": [
              "<div>\n",
              "<style scoped>\n",
              "    .dataframe tbody tr th:only-of-type {\n",
              "        vertical-align: middle;\n",
              "    }\n",
              "\n",
              "    .dataframe tbody tr th {\n",
              "        vertical-align: top;\n",
              "    }\n",
              "\n",
              "    .dataframe thead th {\n",
              "        text-align: right;\n",
              "    }\n",
              "</style>\n",
              "<table border=\"1\" class=\"dataframe\">\n",
              "  <thead>\n",
              "    <tr style=\"text-align: right;\">\n",
              "      <th></th>\n",
              "      <th>Store</th>\n",
              "      <th>Location</th>\n",
              "      <th>Sales</th>\n",
              "      <th>Rank_sales</th>\n",
              "    </tr>\n",
              "  </thead>\n",
              "  <tbody>\n",
              "    <tr>\n",
              "      <th>0</th>\n",
              "      <td>A</td>\n",
              "      <td>Mumbai</td>\n",
              "      <td>40000</td>\n",
              "      <td>1.0</td>\n",
              "    </tr>\n",
              "    <tr>\n",
              "      <th>1</th>\n",
              "      <td>B</td>\n",
              "      <td>Pune</td>\n",
              "      <td>45000</td>\n",
              "      <td>2.0</td>\n",
              "    </tr>\n",
              "    <tr>\n",
              "      <th>2</th>\n",
              "      <td>A</td>\n",
              "      <td>Hyderabad</td>\n",
              "      <td>50000</td>\n",
              "      <td>3.0</td>\n",
              "    </tr>\n",
              "    <tr>\n",
              "      <th>3</th>\n",
              "      <td>C</td>\n",
              "      <td>Mumbai</td>\n",
              "      <td>90000</td>\n",
              "      <td>10.0</td>\n",
              "    </tr>\n",
              "    <tr>\n",
              "      <th>4</th>\n",
              "      <td>D</td>\n",
              "      <td>Pune</td>\n",
              "      <td>89000</td>\n",
              "      <td>8.5</td>\n",
              "    </tr>\n",
              "    <tr>\n",
              "      <th>5</th>\n",
              "      <td>A</td>\n",
              "      <td>Delhi</td>\n",
              "      <td>87000</td>\n",
              "      <td>7.0</td>\n",
              "    </tr>\n",
              "    <tr>\n",
              "      <th>6</th>\n",
              "      <td>D</td>\n",
              "      <td>Hyderabad</td>\n",
              "      <td>85000</td>\n",
              "      <td>6.0</td>\n",
              "    </tr>\n",
              "    <tr>\n",
              "      <th>7</th>\n",
              "      <td>A</td>\n",
              "      <td>Pune</td>\n",
              "      <td>78000</td>\n",
              "      <td>5.0</td>\n",
              "    </tr>\n",
              "    <tr>\n",
              "      <th>8</th>\n",
              "      <td>C</td>\n",
              "      <td>Mumbai</td>\n",
              "      <td>89000</td>\n",
              "      <td>8.5</td>\n",
              "    </tr>\n",
              "    <tr>\n",
              "      <th>9</th>\n",
              "      <td>B</td>\n",
              "      <td>Pune</td>\n",
              "      <td>70000</td>\n",
              "      <td>4.0</td>\n",
              "    </tr>\n",
              "  </tbody>\n",
              "</table>\n",
              "</div>"
            ],
            "text/plain": [
              "  Store   Location  Sales  Rank_sales\n",
              "0     A     Mumbai  40000         1.0\n",
              "1     B       Pune  45000         2.0\n",
              "2     A  Hyderabad  50000         3.0\n",
              "3     C     Mumbai  90000        10.0\n",
              "4     D       Pune  89000         8.5\n",
              "5     A      Delhi  87000         7.0\n",
              "6     D  Hyderabad  85000         6.0\n",
              "7     A       Pune  78000         5.0\n",
              "8     C     Mumbai  89000         8.5\n",
              "9     B       Pune  70000         4.0"
            ]
          },
          "metadata": {
            "tags": []
          },
          "execution_count": 24
        }
      ]
    },
    {
      "cell_type": "markdown",
      "metadata": {
        "id": "ty1ci8BcbrpM"
      },
      "source": [
        "<table align=\"left\">\n",
        "    <tr>\n",
        "        <td width=\"6%\">\n",
        "            <img src=\"question_icon.png\">\n",
        "        </td>\n",
        "        <td>\n",
        "            <div align=\"left\", style=\"font-size:120%\">\n",
        "                <font color=\"#21618C\">\n",
        "                    <b>20. Rank the dataframe in descending order of sales by each store\n",
        "</b>\n",
        "                </font>\n",
        "            </div>\n",
        "        </td>\n",
        "    </tr>\n",
        "</table>"
      ]
    },
    {
      "cell_type": "markdown",
      "metadata": {
        "id": "4NTkzgpnbrpM"
      },
      "source": [
        "**Use the dataframe given below:**\n",
        "   \n",
        "<table>\n",
        "<tr>\n",
        "<th>Store</th>\n",
        "<th>Location</th>\n",
        "<th>Sales</th>\n",
        "</tr>\n",
        "<tr>\n",
        "<td>A</td>\n",
        "<td>Mumbai</td>\n",
        "<td>40000</td>\n",
        "</tr>\n",
        "<tr>\n",
        "<td>B</td>\n",
        "<td>Pune</td>\n",
        "<td>45000</td>\n",
        "</tr>\n",
        "<tr>\n",
        "<td>A</td>\n",
        "<td>Hyderabad</td>\n",
        "<td>50000</td>\n",
        "</tr>\n",
        "<tr>\n",
        "<td>C</td>\n",
        "<td>Mumbai</td>\n",
        "<td>90000</td>\n",
        "</tr>\n",
        "<tr>\n",
        "<td>D</td>\n",
        "<td>Pune</td>\n",
        "<td>89000</td>\n",
        "</tr>\n",
        "<tr>\n",
        "<td>A</td>\n",
        "<td>Delhi</td>\n",
        "<td>87000</td>\n",
        "</tr>\n",
        "<tr>\n",
        "<td>D</td>\n",
        "<td>Hyderabad</td>\n",
        "<td>85000</td>\n",
        "</tr>\n",
        "<tr>\n",
        "<td>A</td>\n",
        "<td>Pune</td>\n",
        "<td>78000</td>\n",
        "</tr>\n",
        "<tr>\n",
        "<td>C</td>\n",
        "<td>Mumbai</td>\n",
        "<td>89000</td>\n",
        "</tr>\n",
        "<tr>\n",
        "<td>B</td>\n",
        "<td>Pune</td>\n",
        "<td>70000</td>\n",
        "</tr>\n",
        "   \n",
        "</table>"
      ]
    },
    {
      "cell_type": "code",
      "metadata": {
        "id": "PuaRchFgbrpN"
      },
      "source": [
        "df.drop({'Rank_sales'}, axis=1, inplace= True)"
      ],
      "execution_count": 27,
      "outputs": []
    },
    {
      "cell_type": "code",
      "metadata": {
        "id": "cXqJ1HJq59fn",
        "outputId": "80d7150d-f8d0-46e2-c21d-724b317da88a",
        "colab": {
          "base_uri": "https://localhost:8080/",
          "height": 359
        }
      },
      "source": [
        "df['Desc_rank'] = df['Sales'].rank(ascending= False)\n",
        "df.sort_values(by= 'Desc_rank')"
      ],
      "execution_count": 28,
      "outputs": [
        {
          "output_type": "execute_result",
          "data": {
            "text/html": [
              "<div>\n",
              "<style scoped>\n",
              "    .dataframe tbody tr th:only-of-type {\n",
              "        vertical-align: middle;\n",
              "    }\n",
              "\n",
              "    .dataframe tbody tr th {\n",
              "        vertical-align: top;\n",
              "    }\n",
              "\n",
              "    .dataframe thead th {\n",
              "        text-align: right;\n",
              "    }\n",
              "</style>\n",
              "<table border=\"1\" class=\"dataframe\">\n",
              "  <thead>\n",
              "    <tr style=\"text-align: right;\">\n",
              "      <th></th>\n",
              "      <th>Store</th>\n",
              "      <th>Location</th>\n",
              "      <th>Sales</th>\n",
              "      <th>Desc_rank</th>\n",
              "    </tr>\n",
              "  </thead>\n",
              "  <tbody>\n",
              "    <tr>\n",
              "      <th>3</th>\n",
              "      <td>C</td>\n",
              "      <td>Mumbai</td>\n",
              "      <td>90000</td>\n",
              "      <td>1.0</td>\n",
              "    </tr>\n",
              "    <tr>\n",
              "      <th>4</th>\n",
              "      <td>D</td>\n",
              "      <td>Pune</td>\n",
              "      <td>89000</td>\n",
              "      <td>2.5</td>\n",
              "    </tr>\n",
              "    <tr>\n",
              "      <th>8</th>\n",
              "      <td>C</td>\n",
              "      <td>Mumbai</td>\n",
              "      <td>89000</td>\n",
              "      <td>2.5</td>\n",
              "    </tr>\n",
              "    <tr>\n",
              "      <th>5</th>\n",
              "      <td>A</td>\n",
              "      <td>Delhi</td>\n",
              "      <td>87000</td>\n",
              "      <td>4.0</td>\n",
              "    </tr>\n",
              "    <tr>\n",
              "      <th>6</th>\n",
              "      <td>D</td>\n",
              "      <td>Hyderabad</td>\n",
              "      <td>85000</td>\n",
              "      <td>5.0</td>\n",
              "    </tr>\n",
              "    <tr>\n",
              "      <th>7</th>\n",
              "      <td>A</td>\n",
              "      <td>Pune</td>\n",
              "      <td>78000</td>\n",
              "      <td>6.0</td>\n",
              "    </tr>\n",
              "    <tr>\n",
              "      <th>9</th>\n",
              "      <td>B</td>\n",
              "      <td>Pune</td>\n",
              "      <td>70000</td>\n",
              "      <td>7.0</td>\n",
              "    </tr>\n",
              "    <tr>\n",
              "      <th>2</th>\n",
              "      <td>A</td>\n",
              "      <td>Hyderabad</td>\n",
              "      <td>50000</td>\n",
              "      <td>8.0</td>\n",
              "    </tr>\n",
              "    <tr>\n",
              "      <th>1</th>\n",
              "      <td>B</td>\n",
              "      <td>Pune</td>\n",
              "      <td>45000</td>\n",
              "      <td>9.0</td>\n",
              "    </tr>\n",
              "    <tr>\n",
              "      <th>0</th>\n",
              "      <td>A</td>\n",
              "      <td>Mumbai</td>\n",
              "      <td>40000</td>\n",
              "      <td>10.0</td>\n",
              "    </tr>\n",
              "  </tbody>\n",
              "</table>\n",
              "</div>"
            ],
            "text/plain": [
              "  Store   Location  Sales  Desc_rank\n",
              "3     C     Mumbai  90000        1.0\n",
              "4     D       Pune  89000        2.5\n",
              "8     C     Mumbai  89000        2.5\n",
              "5     A      Delhi  87000        4.0\n",
              "6     D  Hyderabad  85000        5.0\n",
              "7     A       Pune  78000        6.0\n",
              "9     B       Pune  70000        7.0\n",
              "2     A  Hyderabad  50000        8.0\n",
              "1     B       Pune  45000        9.0\n",
              "0     A     Mumbai  40000       10.0"
            ]
          },
          "metadata": {
            "tags": []
          },
          "execution_count": 28
        }
      ]
    },
    {
      "cell_type": "code",
      "metadata": {
        "id": "AYCpEeT4xpVE"
      },
      "source": [
        ""
      ],
      "execution_count": null,
      "outputs": []
    }
  ]
}