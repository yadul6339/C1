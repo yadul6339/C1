{
  "nbformat": 4,
  "nbformat_minor": 0,
  "metadata": {
    "kernelspec": {
      "display_name": "Python 3",
      "language": "python",
      "name": "python3"
    },
    "language_info": {
      "codemirror_mode": {
        "name": "ipython",
        "version": 3
      },
      "file_extension": ".py",
      "mimetype": "text/x-python",
      "name": "python",
      "nbconvert_exporter": "python",
      "pygments_lexer": "ipython3",
      "version": "3.7.3"
    },
    "colab": {
      "name": "Take_home_ my_exercise_Day_02_QuestionsNew.ipynb",
      "provenance": [],
      "collapsed_sections": [],
      "include_colab_link": true
    }
  },
  "cells": [
    {
      "cell_type": "markdown",
      "metadata": {
        "id": "view-in-github",
        "colab_type": "text"
      },
      "source": [
        "<a href=\"https://colab.research.google.com/github/zerryberry/C1/blob/master/Stats_Take_home__my_exercise_Day_02_QuestionsNew.ipynb\" target=\"_parent\"><img src=\"https://colab.research.google.com/assets/colab-badge.svg\" alt=\"Open In Colab\"/></a>"
      ]
    },
    {
      "cell_type": "markdown",
      "metadata": {
        "collapsed": true,
        "id": "DLRw-o6IPftV"
      },
      "source": [
        "## TAKE HOME EXERCISE "
      ]
    },
    {
      "cell_type": "markdown",
      "metadata": {
        "id": "bsPn-kkfPftX"
      },
      "source": [
        "Example: The following data represent the amount of soft drink filled in a sample of 50 consecutive 2-liter bottles as shown below:\n",
        "\n",
        "|       |       |       |       |       |       |       |       |       |       |\n",
        "| ----- | ----- | ----- | ----- | ----- | ----- | ----- | ----- | ----- | ----- |\n",
        "| 2.109 | 2.086 | 2.066 | 2.075 | 2.065 | 2.057 | 2.052 | 2.044 | 2.036 | 2.038 | \n",
        "| 2.031 | 2.029 | 2.025 | 2.029 | 2.023 | 2.020 | 2.015 | 2.014 | 2.013 | 2.014 | \n",
        "| 2.012 | 2.012 | 2.012 | 2.010 | 2.005 | 2.003 | 1.999 | 1.996 | 1.997 | 1.992 | \n",
        "| 1.994 | 1.986 | 1.984 | 1.981 | 1.973 | 1.975 | 1.971 | 1.969 | 1.966 | 1.967 | \n",
        "| 1.963 | 1.957 | 1.951 | 1.951 | 1.947 | 1.941 | 1.941 | 1.938 | 1.908 | 1.894 | \n",
        "\n",
        "At 5% level of significance, is there evidence that the mean amount of soft drink filled is different from 2 litres? \n"
      ]
    },
    {
      "cell_type": "markdown",
      "metadata": {
        "id": "AqIgXlnbPftZ"
      },
      "source": [
        "#### 1.Use the following piece of code and try t test for one sample"
      ]
    },
    {
      "cell_type": "code",
      "metadata": {
        "id": "h13xm2aaPfta",
        "colab": {
          "base_uri": "https://localhost:8080/"
        },
        "outputId": "c01e1bb5-b5d2-4d57-a310-636e511c0f38"
      },
      "source": [
        "import numpy       as np\n",
        "import scipy.stats as stats\n",
        "volume = np.array([2.109, 2.086, 2.066, 2.075, 2.065, 2.057, 2.052, 2.044, 2.036, 2.038, \\\n",
        "                   2.031, 2.029, 2.025, 2.029, 2.023, 2.020, 2.015, 2.014, 2.013, 2.014,\\\n",
        "                   2.012, 2.012, 2.012, 2.010, 2.005, 2.003, 1.999, 1.996, 1.997, 1.992,\\\n",
        "                   1.994, 1.986, 1.984, 1.981, 1.973, 1.975, 1.971, 1.969, 1.966, 1.967,\\\n",
        "                   1.963, 1.957, 1.951, 1.951, 1.947, 1.941, 1.941, 1.938, 1.908, 1.894])\n",
        "\n",
        "print('Mean is %3.2f and standard deviation is %3.2f' %(volume.mean(),np.std(volume,ddof = 1)))"
      ],
      "execution_count": 4,
      "outputs": [
        {
          "output_type": "stream",
          "text": [
            "Mean is 2.00 and standard deviation is 0.04\n"
          ],
          "name": "stdout"
        }
      ]
    },
    {
      "cell_type": "markdown",
      "metadata": {
        "id": "GGDf3I7pTjem"
      },
      "source": [
        "###  Here the null hypothesis is that, H0 = MU pop = MU samp = 2 liters\r\n",
        "### Alternate is that it is not equal to 2 litre"
      ]
    },
    {
      "cell_type": "code",
      "metadata": {
        "colab": {
          "base_uri": "https://localhost:8080/"
        },
        "id": "2KYjwr-zOLwh",
        "outputId": "b0d010f8-f5b1-44b8-e96c-28a5fc9fff38"
      },
      "source": [
        "# 2 tailed T test. \r\n",
        "n= len(volume)\r\n",
        "xbar= 2\r\n",
        "s= 0.04\r\n",
        "se= s/np.sqrt(n)\r\n",
        "\r\n",
        "up_c= stats.t.isf(0.025, df=49, loc=2, scale=se)\r\n",
        "lw_c= stats.t.isf(0.975, df=49, loc=2, scale=se)\r\n",
        "\r\n",
        "print(up_c)\r\n",
        "print(lw_c)"
      ],
      "execution_count": 6,
      "outputs": [
        {
          "output_type": "stream",
          "text": [
            "2.011367874204895\n",
            "1.9886321257951052\n"
          ],
          "name": "stdout"
        }
      ]
    },
    {
      "cell_type": "code",
      "metadata": {
        "colab": {
          "base_uri": "https://localhost:8080/"
        },
        "id": "mDnUl3MHWfr-",
        "outputId": "2cc90b58-2fb1-4a1f-d4f6-8e7e98e9364a"
      },
      "source": [
        "# p value\r\n",
        "print(stats.ttest_1samp(volume, 2))\r\n",
        "\r\n",
        "# p value is 0.9"
      ],
      "execution_count": 10,
      "outputs": [
        {
          "output_type": "stream",
          "text": [
            "Ttest_1sampResult(statistic=0.11424484790269986, pvalue=0.9095105442498921)\n"
          ],
          "name": "stdout"
        }
      ]
    },
    {
      "cell_type": "code",
      "metadata": {
        "id": "Uc2_GxRfOMEp"
      },
      "source": [
        "# p value is more than 0.5 so we fail to reject null hypothesis.. so indeed, there is no\r\n",
        "# evidence that the mean amount of soft drink filled is different from 2 litres."
      ],
      "execution_count": 11,
      "outputs": []
    },
    {
      "cell_type": "markdown",
      "metadata": {
        "id": "EU-Xuwr3yQL-"
      },
      "source": [
        "###2. The hardness data of 25 samples of annealed iron is given below: 174 179 179 187 179 183 179 156 163 156 187 156 167 156 174 170 183 179 174 179 170 159 187\n",
        "At 5% level of significance, can you say that the hardness is greater than 170?\n"
      ]
    },
    {
      "cell_type": "code",
      "metadata": {
        "id": "HSiUUoZ7OD7b"
      },
      "source": [
        "a= '174 179 179 187 179 183 179 156 163 156 187 156 167 156 174 170 183 179 174 179 170 159 187'\r\n",
        "d= list(map(int, a.split(' ')))\r\n",
        "d"
      ],
      "execution_count": null,
      "outputs": []
    },
    {
      "cell_type": "code",
      "metadata": {
        "id": "HIPF_F8wOECh"
      },
      "source": [
        "# Null- sample hardness = population hardness = 170\r\n",
        "# alternate sample hardness > 170"
      ],
      "execution_count": null,
      "outputs": []
    },
    {
      "cell_type": "code",
      "metadata": {
        "colab": {
          "base_uri": "https://localhost:8080/"
        },
        "id": "KfiIVjyya6SP",
        "outputId": "1f911ecb-ef8a-440b-a455-612c1c4f19aa"
      },
      "source": [
        "print(stats.ttest_1samp(d, 170))"
      ],
      "execution_count": 21,
      "outputs": [
        {
          "output_type": "stream",
          "text": [
            "Ttest_1sampResult(statistic=1.2877422021643812, pvalue=0.21121745659874802)\n"
          ],
          "name": "stdout"
        }
      ]
    },
    {
      "cell_type": "code",
      "metadata": {
        "id": "58K5a7ttbMKm"
      },
      "source": [
        "# P value is more than 0.05, so we fail to reject null hypothesis. \r\n",
        "\r\n",
        "# indeed, hardness of iron in more than 170"
      ],
      "execution_count": 26,
      "outputs": []
    },
    {
      "cell_type": "code",
      "metadata": {
        "id": "PQ9BgQVebMSf"
      },
      "source": [
        ""
      ],
      "execution_count": null,
      "outputs": []
    },
    {
      "cell_type": "markdown",
      "metadata": {
        "id": "8hooxoHjPfti"
      },
      "source": [
        "**3. Sugar consumption in grams of 20 patients (both diabetic and non-diabetic) are given below:**\n",
        "\n",
        "*At 5% level of significance, is there any evidence that the mean sugar consumption is different for diabetic and non-diabetic?    \n",
        "In the following table, 0 means diabetic and 1 means non-diabetic.*\n",
        "    "
      ]
    },
    {
      "cell_type": "code",
      "metadata": {
        "id": "raDssEELPftj"
      },
      "source": [
        "import numpy       as np\n",
        "import scipy.stats as stats\n",
        "weight               = np.array([[9.31, 0],[7.76, 0],[6.98, 1],[7.88, 1],[8.49, 1],[10.05, 1],[8.80, 1],[10.88, 1],[6.13, 1],[7.90, 1], \\\n",
        "                            [11.51, 0],[12.59, 0],[7.05, 1],[11.85, 0],[9.99, 0],[7.48, 0],[8.79, 0],[8.69, 1],[9.68, 0],[8.58, 1],\\\n",
        "                           [9.19, 0],[8.11, 1]])\n",
        "\n",
        "sugar_diabetic       = weight[:,1] == 0\n",
        "sugar_diabetic       = weight[sugar_diabetic][:,0]\n",
        "sugar_nondiabetic    = weight[:,1] == 1\n",
        "sugar_nondiabetic    = weight[sugar_nondiabetic][:,0] "
      ],
      "execution_count": 27,
      "outputs": []
    },
    {
      "cell_type": "code",
      "metadata": {
        "colab": {
          "base_uri": "https://localhost:8080/"
        },
        "id": "up5X9TRqgkUj",
        "outputId": "a2902e71-908e-4691-ac62-ad0ef441de9a"
      },
      "source": [
        "# Independent T test\r\n",
        "\r\n",
        "# null - sugar consumption is same for diabetic and non-diabetic\r\n",
        "\r\n",
        "stats.ttest_ind(sugar_diabetic, sugar_nondiabetic)"
      ],
      "execution_count": 30,
      "outputs": [
        {
          "output_type": "execute_result",
          "data": {
            "text/plain": [
              "Ttest_indResult(statistic=2.3730593333971224, pvalue=0.02777741611352253)"
            ]
          },
          "metadata": {
            "tags": []
          },
          "execution_count": 30
        }
      ]
    },
    {
      "cell_type": "code",
      "metadata": {
        "id": "kc4bAjp-glmJ"
      },
      "source": [
        "# p value is less than 0.05. \r\n",
        "\r\n",
        "# indeed the sugar consumption is different for diabetic and non-diabetic"
      ],
      "execution_count": null,
      "outputs": []
    },
    {
      "cell_type": "markdown",
      "metadata": {
        "id": "D35XTo8ayoek"
      },
      "source": [
        "### Hint: Independent two samples test"
      ]
    },
    {
      "cell_type": "markdown",
      "metadata": {
        "id": "GXl2s3iXPftp"
      },
      "source": [
        "**4. The delivery time of Pizza from an online food delivery service firm and the home delivery from a local restaurant are given below: At 5% level of significance, is the mean delivery time for online delivery food service firm is less than the mean delivery time for the home delivery from a local restaurant.**"
      ]
    },
    {
      "cell_type": "code",
      "metadata": {
        "id": "n9jMM1nhPftq"
      },
      "source": [
        "Pizza_delivery_online = [16.8, 11.7, 15.6, 16.7, 17.5, 18.1, 14.1, 21.8, 13.9, 20.8]\n",
        "Pizza_delivery_local  = [22.0, 15.2, 18.7, 15.6, 20.8, 19.5, 17.0, 19.5, 16.5, 24.0]"
      ],
      "execution_count": 31,
      "outputs": []
    },
    {
      "cell_type": "markdown",
      "metadata": {
        "id": "hSXnhqvPPftt"
      },
      "source": [
        "#### Hint: Use paired t test"
      ]
    },
    {
      "cell_type": "code",
      "metadata": {
        "id": "fom1PjGsPftu",
        "colab": {
          "base_uri": "https://localhost:8080/"
        },
        "outputId": "12dfa391-3c7d-4c8a-8762-e6447eae4b0a"
      },
      "source": [
        "# null - both time is same. \r\n",
        "# alternate -- mean delivery time for online delivery food service firm is less than the mean delivery time for the home delivery\r\n",
        "\r\n",
        "stats.ttest_rel(Pizza_delivery_local, Pizza_delivery_online)"
      ],
      "execution_count": 32,
      "outputs": [
        {
          "output_type": "execute_result",
          "data": {
            "text/plain": [
              "Ttest_relResult(statistic=3.0447930464454114, pvalue=0.013909593560837055)"
            ]
          },
          "metadata": {
            "tags": []
          },
          "execution_count": 32
        }
      ]
    },
    {
      "cell_type": "code",
      "metadata": {
        "colab": {
          "base_uri": "https://localhost:8080/"
        },
        "id": "488Nh_vfjnha",
        "outputId": "fe281a33-c478-4931-a62e-2ce178b0df43"
      },
      "source": [
        "# p value is less than 0.05. so indeed mean delivery time for online delivery food service firm is less than the mean delivery time for the home delivery\r\n",
        "\r\n",
        "print(np.mean(Pizza_delivery_online))\r\n",
        "print(np.mean(Pizza_delivery_local))"
      ],
      "execution_count": 33,
      "outputs": [
        {
          "output_type": "stream",
          "text": [
            "16.700000000000003\n",
            "18.880000000000003\n"
          ],
          "name": "stdout"
        }
      ]
    },
    {
      "cell_type": "markdown",
      "metadata": {
        "id": "rHT0xGP9Pftx"
      },
      "source": [
        "## End"
      ]
    }
  ]
}