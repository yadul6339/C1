{
  "nbformat": 4,
  "nbformat_minor": 0,
  "metadata": {
    "kernelspec": {
      "display_name": "Python 3",
      "language": "python",
      "name": "python3"
    },
    "language_info": {
      "codemirror_mode": {
        "name": "ipython",
        "version": 3
      },
      "file_extension": ".py",
      "mimetype": "text/x-python",
      "name": "python",
      "nbconvert_exporter": "python",
      "pygments_lexer": "ipython3",
      "version": "3.8.3"
    },
    "colab": {
      "name": "SLR_My_- Take home (Day 1) - Questions [v2.0 - 121020].ipynb",
      "provenance": [],
      "collapsed_sections": [],
      "include_colab_link": true
    }
  },
  "cells": [
    {
      "cell_type": "markdown",
      "metadata": {
        "id": "view-in-github",
        "colab_type": "text"
      },
      "source": [
        "<a href=\"https://colab.research.google.com/github/zerryberry/C1/blob/master/SLR_My__Take_home_(Day_1)_Questions_%5Bv2_0_121020%5D.ipynb\" target=\"_parent\"><img src=\"https://colab.research.google.com/assets/colab-badge.svg\" alt=\"Open In Colab\"/></a>"
      ]
    },
    {
      "cell_type": "markdown",
      "metadata": {
        "id": "nOYW7mJO8PNj"
      },
      "source": [
        "<table align=\"center\" width=100%>\n",
        "    <tr>\n",
        "        <td width=\"15%\">\n",
        "            <img src=\"homework.png\">\n",
        "        </td>\n",
        "        <td>\n",
        "            <div align=\"center\">\n",
        "                <font color=\"#21618C\" size=8px>\n",
        "                    <b> Take-Home <br>(Day 1)\n",
        "                    </b>\n",
        "                </font>\n",
        "            </div>\n",
        "        </td>\n",
        "    </tr>\n",
        "</table>"
      ]
    },
    {
      "cell_type": "markdown",
      "metadata": {
        "id": "VRkw872B8PN3"
      },
      "source": [
        "### Import the required libraries"
      ]
    },
    {
      "cell_type": "code",
      "metadata": {
        "id": "ddhS72sU8PN4"
      },
      "source": [
        "import pandas as pd\r\n",
        "import numpy as np\r\n",
        "import matplotlib.pyplot as plt\r\n",
        "import seaborn as sns\r\n",
        "import scipy.stats as stats"
      ],
      "execution_count": 4,
      "outputs": []
    },
    {
      "cell_type": "markdown",
      "metadata": {
        "id": "6uJrbctV8PN5"
      },
      "source": [
        "#### Read the data\n",
        "\n",
        "Load the csv file and set the first column as index"
      ]
    },
    {
      "cell_type": "code",
      "metadata": {
        "colab": {
          "base_uri": "https://localhost:8080/"
        },
        "id": "XBpIWN9S8PN6",
        "outputId": "3804df98-8370-4a64-aac1-04a8de188588"
      },
      "source": [
        "df1= pd.read_csv('/content/car_price.csv')\r\n",
        "print(df1.shape)"
      ],
      "execution_count": 5,
      "outputs": [
        {
          "output_type": "stream",
          "text": [
            "(301, 9)\n"
          ],
          "name": "stdout"
        }
      ]
    },
    {
      "cell_type": "code",
      "metadata": {
        "colab": {
          "base_uri": "https://localhost:8080/"
        },
        "id": "8pFuzhJY91IE",
        "outputId": "b77dbe72-14aa-450c-dd98-224ddaf77c30"
      },
      "source": [
        "df1.columns"
      ],
      "execution_count": 6,
      "outputs": [
        {
          "output_type": "execute_result",
          "data": {
            "text/plain": [
              "Index(['Car_Name', 'Year', 'Selling_Price', 'Present_Price', 'Kms_Driven',\n",
              "       'Fuel_Type', 'Seller_Type', 'Transmission', 'Owner'],\n",
              "      dtype='object')"
            ]
          },
          "metadata": {
            "tags": []
          },
          "execution_count": 6
        }
      ]
    },
    {
      "cell_type": "code",
      "metadata": {
        "id": "k7EQeY7p9puz"
      },
      "source": [
        "df1.set_index('Car_Name', inplace= True)"
      ],
      "execution_count": 7,
      "outputs": []
    },
    {
      "cell_type": "markdown",
      "metadata": {
        "id": "rMYBBEaw8PN7"
      },
      "source": [
        "Our objective is to predict the selling price of the cars data."
      ]
    },
    {
      "cell_type": "markdown",
      "metadata": {
        "id": "6FJ7FwVv8PN7"
      },
      "source": [
        "**The data definition is as follows:** <br><br>\n",
        "**Car_Name:** name of the car <br>\n",
        "\n",
        "**YearThis:** year in which the car was bought <br>\n",
        "\n",
        "**Present_Price:** current ex-showroom price of the car (in lakhs)<br>\n",
        "\n",
        "**Kms_Driven:** distance completed by the car in km <br>\n",
        "\n",
        "**Fuel_Type:** fuel type of the car <br>\n",
        "\n",
        "**Seller_Type:** defines whether the seller is a dealer or an individual<br>\n",
        "\n",
        "**Transmission:** defines whether the car is manual or automatic <br>\n",
        "\n",
        "**Owner:** defines the number of owners the car has previously had <br>\n",
        "\n",
        "**Selling_Price:** price the owner wants to sell the car at (in lakhs) (response variable)"
      ]
    },
    {
      "cell_type": "markdown",
      "metadata": {
        "id": "P-l-cOb58PN8"
      },
      "source": [
        "### Let's begin with some hands-on practice exercises"
      ]
    },
    {
      "cell_type": "markdown",
      "metadata": {
        "id": "PSt-yLfK8PN8"
      },
      "source": [
        "<table align=\"left\">\n",
        "    <tr>\n",
        "        <td width=\"6%\">\n",
        "            <img src=\"question_icon.png\">\n",
        "        </td>\n",
        "        <td>\n",
        "            <div align=\"left\", style=\"font-size:120%\">\n",
        "                <font color=\"#21618C\">\n",
        "                    <b>1. Build a full model and interpret the beta coefficients </b>\n",
        "                </font>\n",
        "            </div>\n",
        "        </td>\n",
        "    </tr>\n",
        "</table>"
      ]
    },
    {
      "cell_type": "markdown",
      "metadata": {
        "id": "n8ON5Lsi8PN9"
      },
      "source": [
        "        Hint: A full model is a model which includes all the features "
      ]
    },
    {
      "cell_type": "code",
      "metadata": {
        "colab": {
          "base_uri": "https://localhost:8080/",
          "height": 227
        },
        "id": "bFGYs1vY87UX",
        "outputId": "de8fa029-206f-4d6c-d102-0ea1904716c0"
      },
      "source": [
        "df1.head()"
      ],
      "execution_count": 8,
      "outputs": [
        {
          "output_type": "execute_result",
          "data": {
            "text/html": [
              "<div>\n",
              "<style scoped>\n",
              "    .dataframe tbody tr th:only-of-type {\n",
              "        vertical-align: middle;\n",
              "    }\n",
              "\n",
              "    .dataframe tbody tr th {\n",
              "        vertical-align: top;\n",
              "    }\n",
              "\n",
              "    .dataframe thead th {\n",
              "        text-align: right;\n",
              "    }\n",
              "</style>\n",
              "<table border=\"1\" class=\"dataframe\">\n",
              "  <thead>\n",
              "    <tr style=\"text-align: right;\">\n",
              "      <th></th>\n",
              "      <th>Year</th>\n",
              "      <th>Selling_Price</th>\n",
              "      <th>Present_Price</th>\n",
              "      <th>Kms_Driven</th>\n",
              "      <th>Fuel_Type</th>\n",
              "      <th>Seller_Type</th>\n",
              "      <th>Transmission</th>\n",
              "      <th>Owner</th>\n",
              "    </tr>\n",
              "    <tr>\n",
              "      <th>Car_Name</th>\n",
              "      <th></th>\n",
              "      <th></th>\n",
              "      <th></th>\n",
              "      <th></th>\n",
              "      <th></th>\n",
              "      <th></th>\n",
              "      <th></th>\n",
              "      <th></th>\n",
              "    </tr>\n",
              "  </thead>\n",
              "  <tbody>\n",
              "    <tr>\n",
              "      <th>ritz</th>\n",
              "      <td>2014</td>\n",
              "      <td>3.35</td>\n",
              "      <td>5.59</td>\n",
              "      <td>27000</td>\n",
              "      <td>Petrol</td>\n",
              "      <td>Dealer</td>\n",
              "      <td>Manual</td>\n",
              "      <td>0</td>\n",
              "    </tr>\n",
              "    <tr>\n",
              "      <th>sx4</th>\n",
              "      <td>2013</td>\n",
              "      <td>4.75</td>\n",
              "      <td>9.54</td>\n",
              "      <td>43000</td>\n",
              "      <td>Diesel</td>\n",
              "      <td>Dealer</td>\n",
              "      <td>Manual</td>\n",
              "      <td>0</td>\n",
              "    </tr>\n",
              "    <tr>\n",
              "      <th>ciaz</th>\n",
              "      <td>2017</td>\n",
              "      <td>7.25</td>\n",
              "      <td>9.85</td>\n",
              "      <td>6900</td>\n",
              "      <td>Petrol</td>\n",
              "      <td>Dealer</td>\n",
              "      <td>Manual</td>\n",
              "      <td>0</td>\n",
              "    </tr>\n",
              "    <tr>\n",
              "      <th>wagon r</th>\n",
              "      <td>2011</td>\n",
              "      <td>2.85</td>\n",
              "      <td>4.15</td>\n",
              "      <td>5200</td>\n",
              "      <td>Petrol</td>\n",
              "      <td>Dealer</td>\n",
              "      <td>Manual</td>\n",
              "      <td>0</td>\n",
              "    </tr>\n",
              "    <tr>\n",
              "      <th>swift</th>\n",
              "      <td>2014</td>\n",
              "      <td>4.60</td>\n",
              "      <td>6.87</td>\n",
              "      <td>42450</td>\n",
              "      <td>Diesel</td>\n",
              "      <td>Dealer</td>\n",
              "      <td>Manual</td>\n",
              "      <td>0</td>\n",
              "    </tr>\n",
              "  </tbody>\n",
              "</table>\n",
              "</div>"
            ],
            "text/plain": [
              "          Year  Selling_Price  Present_Price  ...  Seller_Type Transmission Owner\n",
              "Car_Name                                      ...                                \n",
              "ritz      2014           3.35           5.59  ...       Dealer       Manual     0\n",
              "sx4       2013           4.75           9.54  ...       Dealer       Manual     0\n",
              "ciaz      2017           7.25           9.85  ...       Dealer       Manual     0\n",
              "wagon r   2011           2.85           4.15  ...       Dealer       Manual     0\n",
              "swift     2014           4.60           6.87  ...       Dealer       Manual     0\n",
              "\n",
              "[5 rows x 8 columns]"
            ]
          },
          "metadata": {
            "tags": []
          },
          "execution_count": 8
        }
      ]
    },
    {
      "cell_type": "code",
      "metadata": {
        "id": "YnD0D_CF8-_l"
      },
      "source": [
        "dftr = pd.get_dummies(df1, drop_first=True)"
      ],
      "execution_count": 9,
      "outputs": []
    },
    {
      "cell_type": "code",
      "metadata": {
        "colab": {
          "base_uri": "https://localhost:8080/"
        },
        "id": "Q3C5ANwY8PN9",
        "outputId": "df231af6-1bb6-4696-cb09-853a7d3d5ed2"
      },
      "source": [
        "import statsmodels.api as sm\r\n",
        "xc= sm.add_constant(dftr.iloc[:,dftr.columns!='Selling_Price'])\r\n",
        "model = sm.OLS(df1['Selling_Price'], xc).fit()\r\n",
        "print(model.summary())"
      ],
      "execution_count": 10,
      "outputs": [
        {
          "output_type": "stream",
          "text": [
            "/usr/local/lib/python3.6/dist-packages/statsmodels/tools/_testing.py:19: FutureWarning: pandas.util.testing is deprecated. Use the functions in the public API at pandas.testing instead.\n",
            "  import pandas.util.testing as tm\n"
          ],
          "name": "stderr"
        },
        {
          "output_type": "stream",
          "text": [
            "                            OLS Regression Results                            \n",
            "==============================================================================\n",
            "Dep. Variable:          Selling_Price   R-squared:                       0.883\n",
            "Model:                            OLS   Adj. R-squared:                  0.879\n",
            "Method:                 Least Squares   F-statistic:                     274.3\n",
            "Date:                Fri, 29 Jan 2021   Prob (F-statistic):          5.71e-131\n",
            "Time:                        03:44:54   Log-Likelihood:                -593.62\n",
            "No. Observations:                 301   AIC:                             1205.\n",
            "Df Residuals:                     292   BIC:                             1239.\n",
            "Df Model:                           8                                         \n",
            "Covariance Type:            nonrobust                                         \n",
            "==========================================================================================\n",
            "                             coef    std err          t      P>|t|      [0.025      0.975]\n",
            "------------------------------------------------------------------------------------------\n",
            "const                   -789.2366     86.522     -9.122      0.000    -959.522    -618.951\n",
            "Year                       0.3931      0.043      9.159      0.000       0.309       0.478\n",
            "Present_Price              0.4372      0.016     27.355      0.000       0.406       0.469\n",
            "Kms_Driven             -7.013e-06   3.23e-06     -2.172      0.031   -1.34e-05   -6.57e-07\n",
            "Owner                     -0.6742      0.423     -1.595      0.112      -1.506       0.158\n",
            "Fuel_Type_Diesel           2.4699      1.278      1.932      0.054      -0.046       4.986\n",
            "Fuel_Type_Petrol           0.6077      1.259      0.483      0.630      -1.870       3.085\n",
            "Seller_Type_Individual    -1.1213      0.257     -4.371      0.000      -1.626      -0.616\n",
            "Transmission_Manual       -1.4482      0.328     -4.417      0.000      -2.093      -0.803\n",
            "==============================================================================\n",
            "Omnibus:                       95.107   Durbin-Watson:                   1.795\n",
            "Prob(Omnibus):                  0.000   Jarque-Bera (JB):              696.392\n",
            "Skew:                           1.075   Prob(JB):                    6.03e-152\n",
            "Kurtosis:                      10.135   Cond. No.                     4.56e+07\n",
            "==============================================================================\n",
            "\n",
            "Warnings:\n",
            "[1] Standard Errors assume that the covariance matrix of the errors is correctly specified.\n",
            "[2] The condition number is large, 4.56e+07. This might indicate that there are\n",
            "strong multicollinearity or other numerical problems.\n"
          ],
          "name": "stdout"
        }
      ]
    },
    {
      "cell_type": "code",
      "metadata": {
        "id": "jGwbKJmd-Wnu"
      },
      "source": [
        "# we have got negative coefficients. ( of which only fuel type and owner is not significantly contributing to the overall model accuracy)\r\n",
        "\r\n",
        "# Rest all features are important."
      ],
      "execution_count": 11,
      "outputs": []
    },
    {
      "cell_type": "markdown",
      "metadata": {
        "id": "b-7G7csL8PN-"
      },
      "source": [
        "<table align=\"left\">\n",
        "    <tr>\n",
        "        <td width=\"6%\">\n",
        "            <img src=\"question_icon.png\">\n",
        "        </td>\n",
        "        <td>\n",
        "            <div align=\"left\", style=\"font-size:120%\">\n",
        "                <font color=\"#21618C\">\n",
        "                    <b>2. Is there multicollinearity present? If yes, which variables are involved in multicollinearity?    </b>\n",
        "                </font>\n",
        "            </div>\n",
        "        </td>\n",
        "    </tr>\n",
        "</table>"
      ]
    },
    {
      "cell_type": "code",
      "metadata": {
        "id": "AxQoayvo8PN-"
      },
      "source": [
        "# Checking VIF\r\n",
        "\r\n",
        "from statsmodels.stats.outliers_influence import variance_inflation_factor as vif\r\n",
        "\r\n",
        "dt= dftr.iloc[:,dftr.columns!='Selling_Price']\r\n",
        "gt= pd.DataFrame()\r\n",
        "gt['vars'] = dt.columns\r\n",
        "gt['vif_score'] = [vif(dt.values, i) for i in range(dt.shape[1])]"
      ],
      "execution_count": 12,
      "outputs": []
    },
    {
      "cell_type": "code",
      "metadata": {
        "colab": {
          "base_uri": "https://localhost:8080/",
          "height": 287
        },
        "id": "c4UVRCXuEIF6",
        "outputId": "e391e03f-0966-477f-d654-54521a3471d5"
      },
      "source": [
        "gt"
      ],
      "execution_count": 13,
      "outputs": [
        {
          "output_type": "execute_result",
          "data": {
            "text/html": [
              "<div>\n",
              "<style scoped>\n",
              "    .dataframe tbody tr th:only-of-type {\n",
              "        vertical-align: middle;\n",
              "    }\n",
              "\n",
              "    .dataframe tbody tr th {\n",
              "        vertical-align: top;\n",
              "    }\n",
              "\n",
              "    .dataframe thead th {\n",
              "        text-align: right;\n",
              "    }\n",
              "</style>\n",
              "<table border=\"1\" class=\"dataframe\">\n",
              "  <thead>\n",
              "    <tr style=\"text-align: right;\">\n",
              "      <th></th>\n",
              "      <th>vars</th>\n",
              "      <th>vif_score</th>\n",
              "    </tr>\n",
              "  </thead>\n",
              "  <tbody>\n",
              "    <tr>\n",
              "      <th>0</th>\n",
              "      <td>Year</td>\n",
              "      <td>165.505933</td>\n",
              "    </tr>\n",
              "    <tr>\n",
              "      <th>1</th>\n",
              "      <td>Present_Price</td>\n",
              "      <td>3.256794</td>\n",
              "    </tr>\n",
              "    <tr>\n",
              "      <th>2</th>\n",
              "      <td>Kms_Driven</td>\n",
              "      <td>2.041561</td>\n",
              "    </tr>\n",
              "    <tr>\n",
              "      <th>3</th>\n",
              "      <td>Owner</td>\n",
              "      <td>1.066093</td>\n",
              "    </tr>\n",
              "    <tr>\n",
              "      <th>4</th>\n",
              "      <td>Fuel_Type_Diesel</td>\n",
              "      <td>31.417994</td>\n",
              "    </tr>\n",
              "    <tr>\n",
              "      <th>5</th>\n",
              "      <td>Fuel_Type_Petrol</td>\n",
              "      <td>121.493777</td>\n",
              "    </tr>\n",
              "    <tr>\n",
              "      <th>6</th>\n",
              "      <td>Seller_Type_Individual</td>\n",
              "      <td>2.229915</td>\n",
              "    </tr>\n",
              "    <tr>\n",
              "      <th>7</th>\n",
              "      <td>Transmission_Manual</td>\n",
              "      <td>8.878733</td>\n",
              "    </tr>\n",
              "  </tbody>\n",
              "</table>\n",
              "</div>"
            ],
            "text/plain": [
              "                     vars   vif_score\n",
              "0                    Year  165.505933\n",
              "1           Present_Price    3.256794\n",
              "2              Kms_Driven    2.041561\n",
              "3                   Owner    1.066093\n",
              "4        Fuel_Type_Diesel   31.417994\n",
              "5        Fuel_Type_Petrol  121.493777\n",
              "6  Seller_Type_Individual    2.229915\n",
              "7     Transmission_Manual    8.878733"
            ]
          },
          "metadata": {
            "tags": []
          },
          "execution_count": 13
        }
      ]
    },
    {
      "cell_type": "code",
      "metadata": {
        "id": "huZIzdfkHW7W"
      },
      "source": [
        "# Yes multicollinearity seems to be present in Year, Fuel_type (both) and a little in Transmission too"
      ],
      "execution_count": 14,
      "outputs": []
    },
    {
      "cell_type": "markdown",
      "metadata": {
        "id": "l0sFUL-48PN_"
      },
      "source": [
        "<table align=\"left\">\n",
        "    <tr>\n",
        "        <td width=\"6%\">\n",
        "            <img src=\"question_icon.png\">\n",
        "        </td>\n",
        "        <td>\n",
        "            <div align=\"left\", style=\"font-size:120%\">\n",
        "                <font color=\"#21618C\">\n",
        "                    <b>3. What is the impact of present price of the car and seller type on the selling price?\n",
        "                    </b>\n",
        "                </font>\n",
        "            </div>\n",
        "        </td>\n",
        "    </tr>\n",
        "</table>"
      ]
    },
    {
      "cell_type": "code",
      "metadata": {
        "id": "RB3L5aYKI8qt"
      },
      "source": [
        "# Visually estimating the difference:"
      ],
      "execution_count": 15,
      "outputs": []
    },
    {
      "cell_type": "code",
      "metadata": {
        "colab": {
          "base_uri": "https://localhost:8080/",
          "height": 297
        },
        "id": "F6Z3gqBU8PN_",
        "outputId": "25f17e39-073e-4ea4-87ee-e05655cfe4e4"
      },
      "source": [
        "sns.regplot(x=dftr['Selling_Price'], y=dftr['Present_Price'])"
      ],
      "execution_count": 16,
      "outputs": [
        {
          "output_type": "execute_result",
          "data": {
            "text/plain": [
              "<matplotlib.axes._subplots.AxesSubplot at 0x7f7f178431d0>"
            ]
          },
          "metadata": {
            "tags": []
          },
          "execution_count": 16
        },
        {
          "output_type": "display_data",
          "data": {
            "image/png": "[encoded data removed]",
            "text/plain": [
              "<Figure size 432x288 with 1 Axes>"
            ]
          },
          "metadata": {
            "tags": [],
            "needs_background": "light"
          }
        }
      ]
    },
    {
      "cell_type": "markdown",
      "metadata": {
        "id": "XQpLUgzpKjw4"
      },
      "source": [
        "As the present price increases, there is a slow increase in selling price too "
      ]
    },
    {
      "cell_type": "code",
      "metadata": {
        "colab": {
          "base_uri": "https://localhost:8080/",
          "height": 338
        },
        "id": "ZsnKoJrxHsvD",
        "outputId": "96244a9e-f08d-4e31-9344-ffc88c2d47f6"
      },
      "source": [
        "df1['Selling_Price'].groupby(df1['Seller_Type']).mean().plot(kind='bar')"
      ],
      "execution_count": 17,
      "outputs": [
        {
          "output_type": "execute_result",
          "data": {
            "text/plain": [
              "<matplotlib.axes._subplots.AxesSubplot at 0x7f7f17303a90>"
            ]
          },
          "metadata": {
            "tags": []
          },
          "execution_count": 17
        },
        {
          "output_type": "display_data",
          "data": {
            "image/png": "[encoded data removed]",
            "text/plain": [
              "<Figure size 432x288 with 1 Axes>"
            ]
          },
          "metadata": {
            "tags": [],
            "needs_background": "light"
          }
        }
      ]
    },
    {
      "cell_type": "markdown",
      "metadata": {
        "id": "4Fpa4vNYKuF2"
      },
      "source": [
        "Cars sold through dealers tend to have a higher average selling price compared to sold by individual owners"
      ]
    },
    {
      "cell_type": "code",
      "metadata": {
        "id": "8ZOhEYU5Ksx_"
      },
      "source": [
        ""
      ],
      "execution_count": 17,
      "outputs": []
    },
    {
      "cell_type": "code",
      "metadata": {
        "colab": {
          "base_uri": "https://localhost:8080/"
        },
        "id": "6Tmh3r14IZCV",
        "outputId": "815f0e5b-339f-462f-9171-0d307897d4b2"
      },
      "source": [
        "import statsmodels.api as sm\r\n",
        "xc= sm.add_constant(dt[['Present_Price', 'Seller_Type_Individual']])\r\n",
        "model = sm.OLS(df1['Selling_Price'], xc).fit()\r\n",
        "print(model.summary())"
      ],
      "execution_count": 18,
      "outputs": [
        {
          "output_type": "stream",
          "text": [
            "                            OLS Regression Results                            \n",
            "==============================================================================\n",
            "Dep. Variable:          Selling_Price   R-squared:                       0.786\n",
            "Model:                            OLS   Adj. R-squared:                  0.785\n",
            "Method:                 Least Squares   F-statistic:                     548.4\n",
            "Date:                Fri, 29 Jan 2021   Prob (F-statistic):          1.34e-100\n",
            "Time:                        03:44:54   Log-Likelihood:                -683.71\n",
            "No. Observations:                 301   AIC:                             1373.\n",
            "Df Residuals:                     298   BIC:                             1385.\n",
            "Df Model:                           2                                         \n",
            "Covariance Type:            nonrobust                                         \n",
            "==========================================================================================\n",
            "                             coef    std err          t      P>|t|      [0.025      0.975]\n",
            "------------------------------------------------------------------------------------------\n",
            "const                      1.5423      0.261      5.901      0.000       1.028       2.057\n",
            "Present_Price              0.4758      0.018     25.956      0.000       0.440       0.512\n",
            "Seller_Type_Individual    -1.4493      0.331     -4.376      0.000      -2.101      -0.798\n",
            "==============================================================================\n",
            "Omnibus:                       72.895   Durbin-Watson:                   1.645\n",
            "Prob(Omnibus):                  0.000   Jarque-Bera (JB):              845.311\n",
            "Skew:                           0.581   Prob(JB):                    2.77e-184\n",
            "Kurtosis:                      11.127   Cond. No.                         33.4\n",
            "==============================================================================\n",
            "\n",
            "Warnings:\n",
            "[1] Standard Errors assume that the covariance matrix of the errors is correctly specified.\n"
          ],
          "name": "stdout"
        }
      ]
    },
    {
      "cell_type": "code",
      "metadata": {
        "id": "RjuywmaAJEce"
      },
      "source": [
        "# as we can see we have an overall 78% of R2 adjusted from two variables alone- they do contribute significantly "
      ],
      "execution_count": 19,
      "outputs": []
    },
    {
      "cell_type": "code",
      "metadata": {
        "id": "nI3FCws3Hs4D"
      },
      "source": [
        ""
      ],
      "execution_count": 19,
      "outputs": []
    },
    {
      "cell_type": "markdown",
      "metadata": {
        "id": "_wyPN96j8POA"
      },
      "source": [
        "<table align=\"left\">\n",
        "    <tr>\n",
        "        <td width=\"6%\">\n",
        "            <img src=\"question_icon.png\">\n",
        "        </td>\n",
        "        <td>\n",
        "            <div align=\"left\", style=\"font-size:120%\">\n",
        "                <font color=\"#21618C\">\n",
        "                    <b>4. Consider all the numeric features in the data. Do all of them significantly contribute to explaining the variation in the selling price?\n",
        "                    </b>\n",
        "                </font>\n",
        "            </div>\n",
        "        </td>\n",
        "    </tr>\n",
        "</table>"
      ]
    },
    {
      "cell_type": "code",
      "metadata": {
        "colab": {
          "base_uri": "https://localhost:8080/"
        },
        "id": "0ORw2keo8POA",
        "outputId": "9087a71d-0ea1-4fe0-9756-3a499c5ed5b6"
      },
      "source": [
        "xc= sm.add_constant(dftr.iloc[:,dftr.columns!='Selling_Price'])\r\n",
        "model = sm.OLS(df1['Selling_Price'], xc).fit()\r\n",
        "print(model.summary())"
      ],
      "execution_count": 20,
      "outputs": [
        {
          "output_type": "stream",
          "text": [
            "                            OLS Regression Results                            \n",
            "==============================================================================\n",
            "Dep. Variable:          Selling_Price   R-squared:                       0.883\n",
            "Model:                            OLS   Adj. R-squared:                  0.879\n",
            "Method:                 Least Squares   F-statistic:                     274.3\n",
            "Date:                Fri, 29 Jan 2021   Prob (F-statistic):          5.71e-131\n",
            "Time:                        03:44:54   Log-Likelihood:                -593.62\n",
            "No. Observations:                 301   AIC:                             1205.\n",
            "Df Residuals:                     292   BIC:                             1239.\n",
            "Df Model:                           8                                         \n",
            "Covariance Type:            nonrobust                                         \n",
            "==========================================================================================\n",
            "                             coef    std err          t      P>|t|      [0.025      0.975]\n",
            "------------------------------------------------------------------------------------------\n",
            "const                   -789.2366     86.522     -9.122      0.000    -959.522    -618.951\n",
            "Year                       0.3931      0.043      9.159      0.000       0.309       0.478\n",
            "Present_Price              0.4372      0.016     27.355      0.000       0.406       0.469\n",
            "Kms_Driven             -7.013e-06   3.23e-06     -2.172      0.031   -1.34e-05   -6.57e-07\n",
            "Owner                     -0.6742      0.423     -1.595      0.112      -1.506       0.158\n",
            "Fuel_Type_Diesel           2.4699      1.278      1.932      0.054      -0.046       4.986\n",
            "Fuel_Type_Petrol           0.6077      1.259      0.483      0.630      -1.870       3.085\n",
            "Seller_Type_Individual    -1.1213      0.257     -4.371      0.000      -1.626      -0.616\n",
            "Transmission_Manual       -1.4482      0.328     -4.417      0.000      -2.093      -0.803\n",
            "==============================================================================\n",
            "Omnibus:                       95.107   Durbin-Watson:                   1.795\n",
            "Prob(Omnibus):                  0.000   Jarque-Bera (JB):              696.392\n",
            "Skew:                           1.075   Prob(JB):                    6.03e-152\n",
            "Kurtosis:                      10.135   Cond. No.                     4.56e+07\n",
            "==============================================================================\n",
            "\n",
            "Warnings:\n",
            "[1] Standard Errors assume that the covariance matrix of the errors is correctly specified.\n",
            "[2] The condition number is large, 4.56e+07. This might indicate that there are\n",
            "strong multicollinearity or other numerical problems.\n"
          ],
          "name": "stdout"
        }
      ]
    },
    {
      "cell_type": "code",
      "metadata": {
        "id": "qeDWd3uiMkiN"
      },
      "source": [
        "# only fuel type and owner is not significantly contributing to the overall model accuracy, rest of them are contributing."
      ],
      "execution_count": 21,
      "outputs": []
    },
    {
      "cell_type": "markdown",
      "metadata": {
        "id": "DxCqr3aH8POA"
      },
      "source": [
        "<table align=\"left\">\n",
        "    <tr>\n",
        "        <td width=\"6%\">\n",
        "            <img src=\"question_icon.png\">\n",
        "        </td>\n",
        "        <td>\n",
        "            <div align=\"left\", style=\"font-size:120%\">\n",
        "                <font color=\"#21618C\">\n",
        "                    <b>5. In the model obtained in question 4, consider the interaction effect of the present price of the car and the year in which it was purchased. Compare the resultant model with the model obtained in previous question and give your interpretation \n",
        "                    </b>\n",
        "                </font>\n",
        "            </div>\n",
        "        </td>\n",
        "    </tr>\n",
        "</table>"
      ]
    },
    {
      "cell_type": "code",
      "metadata": {
        "id": "Bcqgq-D5DWl7"
      },
      "source": [
        "df1['Inter_price/year'] = df1['Present_Price']*df1['Year']"
      ],
      "execution_count": 22,
      "outputs": []
    },
    {
      "cell_type": "code",
      "metadata": {
        "colab": {
          "base_uri": "https://localhost:8080/",
          "height": 227
        },
        "id": "jYyaM6-sDlKG",
        "outputId": "c3c12126-6fca-4dcc-a034-e4c5a2a04b3e"
      },
      "source": [
        "df1.head()"
      ],
      "execution_count": 23,
      "outputs": [
        {
          "output_type": "execute_result",
          "data": {
            "text/html": [
              "<div>\n",
              "<style scoped>\n",
              "    .dataframe tbody tr th:only-of-type {\n",
              "        vertical-align: middle;\n",
              "    }\n",
              "\n",
              "    .dataframe tbody tr th {\n",
              "        vertical-align: top;\n",
              "    }\n",
              "\n",
              "    .dataframe thead th {\n",
              "        text-align: right;\n",
              "    }\n",
              "</style>\n",
              "<table border=\"1\" class=\"dataframe\">\n",
              "  <thead>\n",
              "    <tr style=\"text-align: right;\">\n",
              "      <th></th>\n",
              "      <th>Year</th>\n",
              "      <th>Selling_Price</th>\n",
              "      <th>Present_Price</th>\n",
              "      <th>Kms_Driven</th>\n",
              "      <th>Fuel_Type</th>\n",
              "      <th>Seller_Type</th>\n",
              "      <th>Transmission</th>\n",
              "      <th>Owner</th>\n",
              "      <th>Inter_price/year</th>\n",
              "    </tr>\n",
              "    <tr>\n",
              "      <th>Car_Name</th>\n",
              "      <th></th>\n",
              "      <th></th>\n",
              "      <th></th>\n",
              "      <th></th>\n",
              "      <th></th>\n",
              "      <th></th>\n",
              "      <th></th>\n",
              "      <th></th>\n",
              "      <th></th>\n",
              "    </tr>\n",
              "  </thead>\n",
              "  <tbody>\n",
              "    <tr>\n",
              "      <th>ritz</th>\n",
              "      <td>2014</td>\n",
              "      <td>3.35</td>\n",
              "      <td>5.59</td>\n",
              "      <td>27000</td>\n",
              "      <td>Petrol</td>\n",
              "      <td>Dealer</td>\n",
              "      <td>Manual</td>\n",
              "      <td>0</td>\n",
              "      <td>11258.26</td>\n",
              "    </tr>\n",
              "    <tr>\n",
              "      <th>sx4</th>\n",
              "      <td>2013</td>\n",
              "      <td>4.75</td>\n",
              "      <td>9.54</td>\n",
              "      <td>43000</td>\n",
              "      <td>Diesel</td>\n",
              "      <td>Dealer</td>\n",
              "      <td>Manual</td>\n",
              "      <td>0</td>\n",
              "      <td>19204.02</td>\n",
              "    </tr>\n",
              "    <tr>\n",
              "      <th>ciaz</th>\n",
              "      <td>2017</td>\n",
              "      <td>7.25</td>\n",
              "      <td>9.85</td>\n",
              "      <td>6900</td>\n",
              "      <td>Petrol</td>\n",
              "      <td>Dealer</td>\n",
              "      <td>Manual</td>\n",
              "      <td>0</td>\n",
              "      <td>19867.45</td>\n",
              "    </tr>\n",
              "    <tr>\n",
              "      <th>wagon r</th>\n",
              "      <td>2011</td>\n",
              "      <td>2.85</td>\n",
              "      <td>4.15</td>\n",
              "      <td>5200</td>\n",
              "      <td>Petrol</td>\n",
              "      <td>Dealer</td>\n",
              "      <td>Manual</td>\n",
              "      <td>0</td>\n",
              "      <td>8345.65</td>\n",
              "    </tr>\n",
              "    <tr>\n",
              "      <th>swift</th>\n",
              "      <td>2014</td>\n",
              "      <td>4.60</td>\n",
              "      <td>6.87</td>\n",
              "      <td>42450</td>\n",
              "      <td>Diesel</td>\n",
              "      <td>Dealer</td>\n",
              "      <td>Manual</td>\n",
              "      <td>0</td>\n",
              "      <td>13836.18</td>\n",
              "    </tr>\n",
              "  </tbody>\n",
              "</table>\n",
              "</div>"
            ],
            "text/plain": [
              "          Year  Selling_Price  ...  Owner  Inter_price/year\n",
              "Car_Name                       ...                         \n",
              "ritz      2014           3.35  ...      0          11258.26\n",
              "sx4       2013           4.75  ...      0          19204.02\n",
              "ciaz      2017           7.25  ...      0          19867.45\n",
              "wagon r   2011           2.85  ...      0           8345.65\n",
              "swift     2014           4.60  ...      0          13836.18\n",
              "\n",
              "[5 rows x 9 columns]"
            ]
          },
          "metadata": {
            "tags": []
          },
          "execution_count": 23
        }
      ]
    },
    {
      "cell_type": "code",
      "metadata": {
        "colab": {
          "base_uri": "https://localhost:8080/"
        },
        "id": "nCRfsApF-gK7",
        "outputId": "ecf2a084-b5d8-429c-c6fd-a5f23746362f"
      },
      "source": [
        "xc= sm.add_constant(df1[['Inter_price/year']])\r\n",
        "model = sm.OLS(df1['Selling_Price'], xc).fit()\r\n",
        "print(model.summary())"
      ],
      "execution_count": 24,
      "outputs": [
        {
          "output_type": "stream",
          "text": [
            "                            OLS Regression Results                            \n",
            "==============================================================================\n",
            "Dep. Variable:          Selling_Price   R-squared:                       0.774\n",
            "Model:                            OLS   Adj. R-squared:                  0.773\n",
            "Method:                 Least Squares   F-statistic:                     1024.\n",
            "Date:                Fri, 29 Jan 2021   Prob (F-statistic):           1.37e-98\n",
            "Time:                        03:44:55   Log-Likelihood:                -692.11\n",
            "No. Observations:                 301   AIC:                             1388.\n",
            "Df Residuals:                     299   BIC:                             1396.\n",
            "Df Model:                           1                                         \n",
            "Covariance Type:            nonrobust                                         \n",
            "====================================================================================\n",
            "                       coef    std err          t      P>|t|      [0.025      0.975]\n",
            "------------------------------------------------------------------------------------\n",
            "const                0.7126      0.186      3.827      0.000       0.346       1.079\n",
            "Inter_price/year     0.0003   8.03e-06     32.007      0.000       0.000       0.000\n",
            "==============================================================================\n",
            "Omnibus:                       59.763   Durbin-Watson:                   1.534\n",
            "Prob(Omnibus):                  0.000   Jarque-Bera (JB):              929.065\n",
            "Skew:                           0.075   Prob(JB):                    1.80e-202\n",
            "Kurtosis:                      11.606   Cond. No.                     3.10e+04\n",
            "==============================================================================\n",
            "\n",
            "Warnings:\n",
            "[1] Standard Errors assume that the covariance matrix of the errors is correctly specified.\n",
            "[2] The condition number is large, 3.1e+04. This might indicate that there are\n",
            "strong multicollinearity or other numerical problems.\n"
          ],
          "name": "stdout"
        }
      ]
    },
    {
      "cell_type": "code",
      "metadata": {
        "id": "pigQkOER-gVk"
      },
      "source": [
        "# present price and year are indeed important contributors for the expected price. The R2 adjusted is almost equal to when taken all the features.\r\n",
        "\r\n",
        "# it is significant, and overall model f score is good too"
      ],
      "execution_count": 25,
      "outputs": []
    },
    {
      "cell_type": "markdown",
      "metadata": {
        "id": "TNMN12Xx8POB"
      },
      "source": [
        "<table align=\"left\">\n",
        "    <tr>\n",
        "        <td width=\"6%\">\n",
        "            <img src=\"question_icon.png\">\n",
        "        </td>\n",
        "        <td>\n",
        "            <div align=\"left\", style=\"font-size:120%\">\n",
        "                <font color=\"#21618C\">\n",
        "                    <b>6. What is the impact of fuel type of cars on the selling price? \n",
        "                    </b>\n",
        "                </font>\n",
        "            </div>\n",
        "        </td>\n",
        "    </tr>\n",
        "</table>"
      ]
    },
    {
      "cell_type": "code",
      "metadata": {
        "colab": {
          "base_uri": "https://localhost:8080/"
        },
        "id": "eswIQJ2U8POC",
        "outputId": "61886cfb-0b71-41f8-8f43-491b02e029fd"
      },
      "source": [
        "xc= sm.add_constant(dftr[['Fuel_Type_Diesel', 'Fuel_Type_Petrol']])\r\n",
        "model = sm.OLS(df1['Selling_Price'], xc).fit()\r\n",
        "print(model.summary())"
      ],
      "execution_count": 26,
      "outputs": [
        {
          "output_type": "stream",
          "text": [
            "                            OLS Regression Results                            \n",
            "==============================================================================\n",
            "Dep. Variable:          Selling_Price   R-squared:                       0.305\n",
            "Model:                            OLS   Adj. R-squared:                  0.300\n",
            "Method:                 Least Squares   F-statistic:                     65.41\n",
            "Date:                Fri, 29 Jan 2021   Prob (F-statistic):           2.80e-24\n",
            "Time:                        03:44:55   Log-Likelihood:                -861.21\n",
            "No. Observations:                 301   AIC:                             1728.\n",
            "Df Residuals:                     298   BIC:                             1740.\n",
            "Df Model:                           2                                         \n",
            "Covariance Type:            nonrobust                                         \n",
            "====================================================================================\n",
            "                       coef    std err          t      P>|t|      [0.025      0.975]\n",
            "------------------------------------------------------------------------------------\n",
            "const                3.1000      3.006      1.031      0.303      -2.816       9.016\n",
            "Fuel_Type_Diesel     7.1785      3.056      2.349      0.019       1.165      13.192\n",
            "Fuel_Type_Petrol     0.1642      3.019      0.054      0.957      -5.776       6.105\n",
            "==============================================================================\n",
            "Omnibus:                      149.368   Durbin-Watson:                   1.338\n",
            "Prob(Omnibus):                  0.000   Jarque-Bera (JB):              826.132\n",
            "Skew:                           2.022   Prob(JB):                    4.05e-180\n",
            "Kurtosis:                      10.036   Cond. No.                         27.9\n",
            "==============================================================================\n",
            "\n",
            "Warnings:\n",
            "[1] Standard Errors assume that the covariance matrix of the errors is correctly specified.\n"
          ],
          "name": "stdout"
        }
      ]
    },
    {
      "cell_type": "markdown",
      "metadata": {
        "id": "WXW6LPF_Cu-R"
      },
      "source": [
        "Diesel cars are somehow contributing more in the prediction model. Petrol cars' P  value is more than 0.05- so they arent contributing so much."
      ]
    },
    {
      "cell_type": "markdown",
      "metadata": {
        "id": "PxKzFqvM8POC"
      },
      "source": [
        "<table align=\"left\">\n",
        "    <tr>\n",
        "        <td width=\"6%\">\n",
        "            <img src=\"question_icon.png\">\n",
        "        </td>\n",
        "        <td>\n",
        "            <div align=\"left\", style=\"font-size:120%\">\n",
        "                <font color=\"#21618C\">\n",
        "                    <b>7. Does the model significantly explain variation in the target variable? Justify your answer with analysis of variation \n",
        "                    </b>\n",
        "                </font>\n",
        "            </div>\n",
        "        </td>\n",
        "    </tr>\n",
        "</table>"
      ]
    },
    {
      "cell_type": "markdown",
      "metadata": {
        "id": "kE5a_N0n8POC"
      },
      "source": [
        "            Regress the selling price over the transmission.\n",
        "            \n",
        "            Selling_Price ~ Transmission"
      ]
    },
    {
      "cell_type": "code",
      "metadata": {
        "colab": {
          "base_uri": "https://localhost:8080/"
        },
        "id": "HPVSMDTF8POD",
        "outputId": "5897096e-beb1-4830-d9f8-811205893d2c"
      },
      "source": [
        " \r\n",
        "xc= sm.add_constant(dftr['Transmission_Manual'])\r\n",
        "model = sm.OLS(df1['Selling_Price'], xc).fit()\r\n",
        "yu = model.predict(xc)\r\n",
        "print(model.summary())\r\n"
      ],
      "execution_count": 27,
      "outputs": [
        {
          "output_type": "stream",
          "text": [
            "                            OLS Regression Results                            \n",
            "==============================================================================\n",
            "Dep. Variable:          Selling_Price   R-squared:                       0.135\n",
            "Model:                            OLS   Adj. R-squared:                  0.132\n",
            "Method:                 Least Squares   F-statistic:                     46.58\n",
            "Date:                Fri, 29 Jan 2021   Prob (F-statistic):           4.90e-11\n",
            "Time:                        03:44:55   Log-Likelihood:                -894.20\n",
            "No. Observations:                 301   AIC:                             1792.\n",
            "Df Residuals:                     299   BIC:                             1800.\n",
            "Df Model:                           1                                         \n",
            "Covariance Type:            nonrobust                                         \n",
            "=======================================================================================\n",
            "                          coef    std err          t      P>|t|      [0.025      0.975]\n",
            "---------------------------------------------------------------------------------------\n",
            "const                   9.4200      0.749     12.580      0.000       7.946      10.894\n",
            "Transmission_Manual    -5.4880      0.804     -6.825      0.000      -7.070      -3.906\n",
            "==============================================================================\n",
            "Omnibus:                      143.925   Durbin-Watson:                   1.182\n",
            "Prob(Omnibus):                  0.000   Jarque-Bera (JB):              946.055\n",
            "Skew:                           1.855   Prob(JB):                    3.69e-206\n",
            "Kurtosis:                      10.853   Cond. No.                         5.31\n",
            "==============================================================================\n",
            "\n",
            "Warnings:\n",
            "[1] Standard Errors assume that the covariance matrix of the errors is correctly specified.\n"
          ],
          "name": "stdout"
        }
      ]
    },
    {
      "cell_type": "code",
      "metadata": {
        "id": "PwehuSu7DSLH"
      },
      "source": [
        "# only 13.5% variation in expected price is explained by the transmission of the car. \r\n",
        "# although the model is doing a good job with just one variable- its not the best we can have"
      ],
      "execution_count": 28,
      "outputs": []
    },
    {
      "cell_type": "code",
      "metadata": {
        "colab": {
          "base_uri": "https://localhost:8080/"
        },
        "id": "73-wiOcfHW2Q",
        "outputId": "92a89bc3-80b8-4348-f1a7-cf85ffcdc5e8"
      },
      "source": [
        "from sklearn.metrics import mean_squared_error\r\n",
        "\r\n",
        "mean_squared_error(y_true= df1['Selling_Price'], y_pred= yu)"
      ],
      "execution_count": 29,
      "outputs": [
        {
          "output_type": "execute_result",
          "data": {
            "text/plain": [
              "22.278603867058717"
            ]
          },
          "metadata": {
            "tags": []
          },
          "execution_count": 29
        }
      ]
    },
    {
      "cell_type": "markdown",
      "metadata": {
        "id": "vHfFIjpXHPTK"
      },
      "source": [
        "The analysis of variance (MSE) is :"
      ]
    },
    {
      "cell_type": "markdown",
      "metadata": {
        "id": "GXrLJzFQ8POD"
      },
      "source": [
        "<table align=\"left\">\n",
        "    <tr>\n",
        "        <td width=\"6%\">\n",
        "            <img src=\"question_icon.png\">\n",
        "        </td>\n",
        "        <td>\n",
        "            <div align=\"left\", style=\"font-size:120%\">\n",
        "                <font color=\"#21618C\">\n",
        "                    <b>8. Regress the selling price over the present price. Compare the 99% and 95% confidence interval of present price of a car\n",
        "                    </b>\n",
        "                </font>\n",
        "            </div>\n",
        "        </td>\n",
        "    </tr>\n",
        "</table>"
      ]
    },
    {
      "cell_type": "code",
      "metadata": {
        "id": "tN83FsZF8POD",
        "colab": {
          "base_uri": "https://localhost:8080/"
        },
        "outputId": "cc6b23b9-e7cc-482d-95b5-0fb1cc72042e"
      },
      "source": [
        "xc= sm.add_constant(dftr['Present_Price'])\r\n",
        "model = sm.OLS(df1['Selling_Price'], xc).fit()\r\n",
        "print(model.summary())"
      ],
      "execution_count": 30,
      "outputs": [
        {
          "output_type": "stream",
          "text": [
            "                            OLS Regression Results                            \n",
            "==============================================================================\n",
            "Dep. Variable:          Selling_Price   R-squared:                       0.773\n",
            "Model:                            OLS   Adj. R-squared:                  0.772\n",
            "Method:                 Least Squares   F-statistic:                     1016.\n",
            "Date:                Fri, 29 Jan 2021   Prob (F-statistic):           3.60e-98\n",
            "Time:                        03:44:55   Log-Likelihood:                -693.08\n",
            "No. Observations:                 301   AIC:                             1390.\n",
            "Df Residuals:                     299   BIC:                             1398.\n",
            "Df Model:                           1                                         \n",
            "Covariance Type:            nonrobust                                         \n",
            "=================================================================================\n",
            "                    coef    std err          t      P>|t|      [0.025      0.975]\n",
            "---------------------------------------------------------------------------------\n",
            "const             0.7185      0.187      3.847      0.000       0.351       1.086\n",
            "Present_Price     0.5168      0.016     31.874      0.000       0.485       0.549\n",
            "==============================================================================\n",
            "Omnibus:                       59.775   Durbin-Watson:                   1.533\n",
            "Prob(Omnibus):                  0.000   Jarque-Bera (JB):              926.121\n",
            "Skew:                           0.084   Prob(JB):                    7.86e-202\n",
            "Kurtosis:                      11.592   Cond. No.                         15.4\n",
            "==============================================================================\n",
            "\n",
            "Warnings:\n",
            "[1] Standard Errors assume that the covariance matrix of the errors is correctly specified.\n"
          ],
          "name": "stdout"
        }
      ]
    },
    {
      "cell_type": "code",
      "metadata": {
        "colab": {
          "base_uri": "https://localhost:8080/"
        },
        "id": "eAifpdzcKIi5",
        "outputId": "c538c072-f818-4b06-cc0a-d64f8bfd9461"
      },
      "source": [
        "model.conf_int(0.99).loc['Present_Price']"
      ],
      "execution_count": 31,
      "outputs": [
        {
          "output_type": "execute_result",
          "data": {
            "text/plain": [
              "0    0.516646\n",
              "1    0.517052\n",
              "Name: Present_Price, dtype: float64"
            ]
          },
          "metadata": {
            "tags": []
          },
          "execution_count": 31
        }
      ]
    },
    {
      "cell_type": "code",
      "metadata": {
        "colab": {
          "base_uri": "https://localhost:8080/",
          "height": 107
        },
        "id": "rSaSmXB7KI6h",
        "outputId": "8368c9e0-04ef-4d2e-f882-a0b328c14103"
      },
      "source": [
        "model.conf_int(0.95)"
      ],
      "execution_count": 32,
      "outputs": [
        {
          "output_type": "execute_result",
          "data": {
            "text/html": [
              "<div>\n",
              "<style scoped>\n",
              "    .dataframe tbody tr th:only-of-type {\n",
              "        vertical-align: middle;\n",
              "    }\n",
              "\n",
              "    .dataframe tbody tr th {\n",
              "        vertical-align: top;\n",
              "    }\n",
              "\n",
              "    .dataframe thead th {\n",
              "        text-align: right;\n",
              "    }\n",
              "</style>\n",
              "<table border=\"1\" class=\"dataframe\">\n",
              "  <thead>\n",
              "    <tr style=\"text-align: right;\">\n",
              "      <th></th>\n",
              "      <th>0</th>\n",
              "      <th>1</th>\n",
              "    </tr>\n",
              "  </thead>\n",
              "  <tbody>\n",
              "    <tr>\n",
              "      <th>const</th>\n",
              "      <td>0.706806</td>\n",
              "      <td>0.730249</td>\n",
              "    </tr>\n",
              "    <tr>\n",
              "      <th>Present_Price</th>\n",
              "      <td>0.515831</td>\n",
              "      <td>0.517867</td>\n",
              "    </tr>\n",
              "  </tbody>\n",
              "</table>\n",
              "</div>"
            ],
            "text/plain": [
              "                      0         1\n",
              "const          0.706806  0.730249\n",
              "Present_Price  0.515831  0.517867"
            ]
          },
          "metadata": {
            "tags": []
          },
          "execution_count": 32
        }
      ]
    },
    {
      "cell_type": "markdown",
      "metadata": {
        "id": "NrKoPGnf8POE"
      },
      "source": [
        "<table align=\"left\">\n",
        "    <tr>\n",
        "        <td width=\"6%\">\n",
        "            <img src=\"question_icon.png\">\n",
        "        </td>\n",
        "        <td>\n",
        "            <div align=\"left\", style=\"font-size:120%\">\n",
        "                <font color=\"#21618C\">\n",
        "                        <b>9. Verify the statement: The sum of the residuals in any regression model that contains an intercept β<sub>0</sub> is always zero\n",
        "                    </b>\n",
        "                </font>\n",
        "            </div>\n",
        "        </td>\n",
        "    </tr>\n",
        "</table>"
      ]
    },
    {
      "cell_type": "markdown",
      "metadata": {
        "id": "eitCImTn8POF"
      },
      "source": [
        "        To verify the result, we will fit a regression model of 'Present_Price' on 'Selling_Price' "
      ]
    },
    {
      "cell_type": "code",
      "metadata": {
        "id": "sE4EIF4H8POH",
        "colab": {
          "base_uri": "https://localhost:8080/"
        },
        "outputId": "c5af8099-276d-4ae5-d0dd-c4b1b4a25685"
      },
      "source": [
        "print(model.summary())"
      ],
      "execution_count": 33,
      "outputs": [
        {
          "output_type": "stream",
          "text": [
            "                            OLS Regression Results                            \n",
            "==============================================================================\n",
            "Dep. Variable:          Selling_Price   R-squared:                       0.773\n",
            "Model:                            OLS   Adj. R-squared:                  0.772\n",
            "Method:                 Least Squares   F-statistic:                     1016.\n",
            "Date:                Fri, 29 Jan 2021   Prob (F-statistic):           3.60e-98\n",
            "Time:                        03:44:55   Log-Likelihood:                -693.08\n",
            "No. Observations:                 301   AIC:                             1390.\n",
            "Df Residuals:                     299   BIC:                             1398.\n",
            "Df Model:                           1                                         \n",
            "Covariance Type:            nonrobust                                         \n",
            "=================================================================================\n",
            "                    coef    std err          t      P>|t|      [0.025      0.975]\n",
            "---------------------------------------------------------------------------------\n",
            "const             0.7185      0.187      3.847      0.000       0.351       1.086\n",
            "Present_Price     0.5168      0.016     31.874      0.000       0.485       0.549\n",
            "==============================================================================\n",
            "Omnibus:                       59.775   Durbin-Watson:                   1.533\n",
            "Prob(Omnibus):                  0.000   Jarque-Bera (JB):              926.121\n",
            "Skew:                           0.084   Prob(JB):                    7.86e-202\n",
            "Kurtosis:                      11.592   Cond. No.                         15.4\n",
            "==============================================================================\n",
            "\n",
            "Warnings:\n",
            "[1] Standard Errors assume that the covariance matrix of the errors is correctly specified.\n"
          ],
          "name": "stdout"
        }
      ]
    },
    {
      "cell_type": "code",
      "metadata": {
        "colab": {
          "base_uri": "https://localhost:8080/"
        },
        "id": "iPBouGY_MgTu",
        "outputId": "f5da7b77-122d-484b-eff3-6a03940fb3b3"
      },
      "source": [
        "model.resid.sum()"
      ],
      "execution_count": 34,
      "outputs": [
        {
          "output_type": "execute_result",
          "data": {
            "text/plain": [
              "-6.110667527536862e-13"
            ]
          },
          "metadata": {
            "tags": []
          },
          "execution_count": 34
        }
      ]
    },
    {
      "cell_type": "code",
      "metadata": {
        "id": "rtspgix7MgaX"
      },
      "source": [
        "# Since we are doing the OLS method- geometrically it is obvious that sum and mean is going to be 0"
      ],
      "execution_count": 36,
      "outputs": []
    },
    {
      "cell_type": "markdown",
      "metadata": {
        "id": "DLgmwLGH8POH"
      },
      "source": [
        "<table align=\"left\">\n",
        "    <tr>\n",
        "        <td width=\"6%\">\n",
        "            <img src=\"question_icon.png\">\n",
        "        </td>\n",
        "        <td>\n",
        "            <div align=\"left\", style=\"font-size:120%\">\n",
        "                <font color=\"#21618C\">\n",
        "                    <b>10. Consider two models as specified below. Compare the performance of the models\n",
        "                    </b>\n",
        "                </font>\n",
        "            </div>\n",
        "        </td>\n",
        "    </tr>\n",
        "</table>"
      ]
    },
    {
      "cell_type": "markdown",
      "metadata": {
        "id": "_S_6gpsy8POI"
      },
      "source": [
        "                First model:\n",
        "        \n",
        "        Selling_Price ~ Year + Present_Price + Kms_Driven + Owner + Fuel_Type + Seller_Type + Transmission\n",
        "        \n",
        "        \n",
        "                Second model:\n",
        "        \n",
        "        Selling_Price ~ Year + Present_Price + Kms_Driven + Owner "
      ]
    },
    {
      "cell_type": "code",
      "metadata": {
        "id": "Wl5ultQy8POK",
        "colab": {
          "base_uri": "https://localhost:8080/"
        },
        "outputId": "ce859f13-8882-47b9-ffca-c51db1f6cf00"
      },
      "source": [
        "# 1\r\n",
        "\r\n",
        "xc= sm.add_constant(dt)\r\n",
        "model = sm.OLS(dftr['Selling_Price'], xc).fit()\r\n",
        "print(model.summary())"
      ],
      "execution_count": 43,
      "outputs": [
        {
          "output_type": "stream",
          "text": [
            "                            OLS Regression Results                            \n",
            "==============================================================================\n",
            "Dep. Variable:          Selling_Price   R-squared:                       0.883\n",
            "Model:                            OLS   Adj. R-squared:                  0.879\n",
            "Method:                 Least Squares   F-statistic:                     274.3\n",
            "Date:                Fri, 29 Jan 2021   Prob (F-statistic):          5.71e-131\n",
            "Time:                        03:50:35   Log-Likelihood:                -593.62\n",
            "No. Observations:                 301   AIC:                             1205.\n",
            "Df Residuals:                     292   BIC:                             1239.\n",
            "Df Model:                           8                                         \n",
            "Covariance Type:            nonrobust                                         \n",
            "==========================================================================================\n",
            "                             coef    std err          t      P>|t|      [0.025      0.975]\n",
            "------------------------------------------------------------------------------------------\n",
            "const                   -789.2366     86.522     -9.122      0.000    -959.522    -618.951\n",
            "Year                       0.3931      0.043      9.159      0.000       0.309       0.478\n",
            "Present_Price              0.4372      0.016     27.355      0.000       0.406       0.469\n",
            "Kms_Driven             -7.013e-06   3.23e-06     -2.172      0.031   -1.34e-05   -6.57e-07\n",
            "Owner                     -0.6742      0.423     -1.595      0.112      -1.506       0.158\n",
            "Fuel_Type_Diesel           2.4699      1.278      1.932      0.054      -0.046       4.986\n",
            "Fuel_Type_Petrol           0.6077      1.259      0.483      0.630      -1.870       3.085\n",
            "Seller_Type_Individual    -1.1213      0.257     -4.371      0.000      -1.626      -0.616\n",
            "Transmission_Manual       -1.4482      0.328     -4.417      0.000      -2.093      -0.803\n",
            "==============================================================================\n",
            "Omnibus:                       95.107   Durbin-Watson:                   1.795\n",
            "Prob(Omnibus):                  0.000   Jarque-Bera (JB):              696.392\n",
            "Skew:                           1.075   Prob(JB):                    6.03e-152\n",
            "Kurtosis:                      10.135   Cond. No.                     4.56e+07\n",
            "==============================================================================\n",
            "\n",
            "Warnings:\n",
            "[1] Standard Errors assume that the covariance matrix of the errors is correctly specified.\n",
            "[2] The condition number is large, 4.56e+07. This might indicate that there are\n",
            "strong multicollinearity or other numerical problems.\n"
          ],
          "name": "stdout"
        }
      ]
    },
    {
      "cell_type": "code",
      "metadata": {
        "colab": {
          "base_uri": "https://localhost:8080/"
        },
        "id": "5u0IxsReQW7k",
        "outputId": "33de62c8-df66-4f14-cdee-868d548fddfb"
      },
      "source": [
        "xc1= sm.add_constant(dt[['Year', 'Present_Price', 'Kms_Driven', 'Owner']])\r\n",
        "model = sm.OLS(dftr['Selling_Price'], xc1).fit()\r\n",
        "print(model.summary())"
      ],
      "execution_count": 44,
      "outputs": [
        {
          "output_type": "stream",
          "text": [
            "                            OLS Regression Results                            \n",
            "==============================================================================\n",
            "Dep. Variable:          Selling_Price   R-squared:                       0.852\n",
            "Model:                            OLS   Adj. R-squared:                  0.850\n",
            "Method:                 Least Squares   F-statistic:                     426.6\n",
            "Date:                Fri, 29 Jan 2021   Prob (F-statistic):          1.66e-121\n",
            "Time:                        03:51:47   Log-Likelihood:                -628.25\n",
            "No. Observations:                 301   AIC:                             1267.\n",
            "Df Residuals:                     296   BIC:                             1285.\n",
            "Df Model:                           4                                         \n",
            "Covariance Type:            nonrobust                                         \n",
            "=================================================================================\n",
            "                    coef    std err          t      P>|t|      [0.025      0.975]\n",
            "---------------------------------------------------------------------------------\n",
            "const          -937.7642     94.392     -9.935      0.000   -1123.528    -752.000\n",
            "Year              0.4661      0.047      9.949      0.000       0.374       0.558\n",
            "Present_Price     0.5256      0.013     39.067      0.000       0.499       0.552\n",
            "Kms_Driven    -1.267e-06   3.51e-06     -0.361      0.718   -8.17e-06    5.64e-06\n",
            "Owner            -0.9513      0.466     -2.042      0.042      -1.868      -0.034\n",
            "==============================================================================\n",
            "Omnibus:                       69.450   Durbin-Watson:                   1.560\n",
            "Prob(Omnibus):                  0.000   Jarque-Bera (JB):             1362.873\n",
            "Skew:                           0.241   Prob(JB):                    1.14e-296\n",
            "Kurtosis:                      13.413   Cond. No.                     4.46e+07\n",
            "==============================================================================\n",
            "\n",
            "Warnings:\n",
            "[1] Standard Errors assume that the covariance matrix of the errors is correctly specified.\n",
            "[2] The condition number is large, 4.46e+07. This might indicate that there are\n",
            "strong multicollinearity or other numerical problems.\n"
          ],
          "name": "stdout"
        }
      ]
    },
    {
      "cell_type": "code",
      "metadata": {
        "id": "H5bXRKsRQYlt"
      },
      "source": [
        "# first model's R2 is better. A better perfomance- since more features are involved"
      ],
      "execution_count": 45,
      "outputs": []
    },
    {
      "cell_type": "code",
      "metadata": {
        "id": "jSzNss0FRSJ_"
      },
      "source": [
        ""
      ],
      "execution_count": null,
      "outputs": []
    }
  ]
}