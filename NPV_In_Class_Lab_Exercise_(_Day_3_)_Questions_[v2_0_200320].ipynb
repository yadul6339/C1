{
  "nbformat": 4,
  "nbformat_minor": 0,
  "metadata": {
    "kernelspec": {
      "display_name": "Python 3",
      "language": "python",
      "name": "python3"
    },
    "language_info": {
      "codemirror_mode": {
        "name": "ipython",
        "version": 3
      },
      "file_extension": ".py",
      "mimetype": "text/x-python",
      "name": "python",
      "nbconvert_exporter": "python",
      "pygments_lexer": "ipython3",
      "version": "3.7.4"
    },
    "colab": {
      "name": "NPV - In-Class Lab Exercise ( Day 3 ) - Questions [v2.0 - 200320].ipynb",
      "provenance": [],
      "collapsed_sections": [],
      "include_colab_link": true
    }
  },
  "cells": [
    {
      "cell_type": "markdown",
      "metadata": {
        "id": "view-in-github",
        "colab_type": "text"
      },
      "source": [
        "<a href=\"https://colab.research.google.com/github/zerryberry/C1/blob/master/NPV_In_Class_Lab_Exercise_(_Day_3_)_Questions_%5Bv2_0_200320%5D.ipynb\" target=\"_parent\"><img src=\"https://colab.research.google.com/assets/colab-badge.svg\" alt=\"Open In Colab\"/></a>"
      ]
    },
    {
      "cell_type": "markdown",
      "metadata": {
        "collapsed": true,
        "id": "1AE0Oix9DxqE"
      },
      "source": [
        "<table align=\"left\" width=100%>\n",
        "    <tr>\n",
        "        <td width=\"10%\">\n",
        "            <img src=\"in_class.png\">\n",
        "        </td>\n",
        "        <td>\n",
        "            <div align=\"center\">\n",
        "                <font color=\"#21618C\" size=8px>\n",
        "                    <b>Inclass - Lab<br> (Day 3)\n",
        "                    </b>\n",
        "                </font>\n",
        "            </div>\n",
        "        </td>\n",
        "    </tr>\n",
        "</table>"
      ]
    },
    {
      "cell_type": "markdown",
      "metadata": {
        "id": "IFhv_flSDxqG"
      },
      "source": [
        "## Table of Content\n",
        "\n",
        "1. **[Pivot Table](#Pivoting)**\n",
        "2. **[Duplicate](#Duplicating)**\n",
        "3. **[Replace](#Replacing)**\n",
        "4. **[Summary Statistics](#Summary_Statistics)**\n",
        "5. **[Merge, Join, Concatenate](#merge)**"
      ]
    },
    {
      "cell_type": "markdown",
      "metadata": {
        "id": "950wsPG6DxqH"
      },
      "source": [
        "**Let us import the required library**"
      ]
    },
    {
      "cell_type": "code",
      "metadata": {
        "id": "iag-HF5UDxqI"
      },
      "source": [
        "import pandas as pd\n",
        "import numpy as np"
      ],
      "execution_count": null,
      "outputs": []
    },
    {
      "cell_type": "markdown",
      "metadata": {
        "id": "zRn50dzADxqT"
      },
      "source": [
        "### Let's begin with some hands-on practice exercises"
      ]
    },
    {
      "cell_type": "markdown",
      "metadata": {
        "id": "FfwWgGEFDxqU"
      },
      "source": [
        "<a id='Pivoting'></a>\n",
        "## 1. Pivot Table"
      ]
    },
    {
      "cell_type": "markdown",
      "metadata": {
        "id": "sQhjRPq5DxqV"
      },
      "source": [
        "<table align=\"left\" width=100%>\n",
        "    <tr>\n",
        "        <td width=\"6%\">\n",
        "            <img src=\"question_icon.png\">\n",
        "        </td>\n",
        "        <td>\n",
        "            <div align=\"left\">\n",
        "                <font color=\"#21618C\" size=4px>\n",
        "                    <b> 3. Find the average sales for each store\n",
        "                    </b>\n",
        "                </font>\n",
        "            </div>\n",
        "        </td>\n",
        "    </tr>\n",
        "</table>"
      ]
    },
    {
      "cell_type": "markdown",
      "metadata": {
        "id": "D5OfedJ9DxqW"
      },
      "source": [
        "**Use the dataframe given below:**\n",
        "   \n",
        "<table>\n",
        "<tr>\n",
        "<th>Store</th>\n",
        "<th>Location</th>\n",
        "<th>Sales</th>\n",
        "</tr>\n",
        "<tr>\n",
        "<td>A</td>\n",
        "<td>Mumbai</td>\n",
        "<td>40000</td>\n",
        "</tr>\n",
        "<tr>\n",
        "<td>B</td>\n",
        "<td>Pune</td>\n",
        "<td>45000</td>\n",
        "</tr>\n",
        "<tr>\n",
        "<td>A</td>\n",
        "<td>Hyderabad</td>\n",
        "<td>50000</td>\n",
        "</tr>\n",
        "<tr>\n",
        "<td>C</td>\n",
        "<td>Mumbai</td>\n",
        "<td>90000</td>\n",
        "</tr>\n",
        "<tr>\n",
        "<td>D</td>\n",
        "<td>Pune</td>\n",
        "<td>89000</td>\n",
        "</tr>\n",
        "<tr>\n",
        "<td>A</td>\n",
        "<td>Delhi</td>\n",
        "<td>87000</td>\n",
        "</tr>\n",
        "<tr>\n",
        "<td>D</td>\n",
        "<td>Hyderabad</td>\n",
        "<td>85000</td>\n",
        "</tr>\n",
        "<tr>\n",
        "<td>A</td>\n",
        "<td>Pune</td>\n",
        "<td>78000</td>\n",
        "</tr>\n",
        "<tr>\n",
        "<td>C</td>\n",
        "<td>Mumbai</td>\n",
        "<td>89000</td>\n",
        "</tr>\n",
        "<tr>\n",
        "<td>B</td>\n",
        "<td>Pune</td>\n",
        "<td>70000</td>\n",
        "</tr>\n",
        "   \n",
        "</table>"
      ]
    },
    {
      "cell_type": "code",
      "metadata": {
        "id": "ds-5u5qMDxqs"
      },
      "source": [
        "df= pd.DataFrame({'Store': ['A', 'B', 'A', 'C', 'D', 'A', 'D', 'A', 'C', 'B'], 'Location': ['Mumbai', 'Pune', 'Hyderabad', 'Mumbai', 'Pune', 'Delhi', 'Hyderabad', 'Pune', 'Mumbai', 'Pune'], \n",
        "                  'Sales': [40000, 45000, 50000, 90000, 89000, 87000, 85000, 78000, 89000, 70000]})"
      ],
      "execution_count": null,
      "outputs": []
    },
    {
      "cell_type": "code",
      "metadata": {
        "id": "f3q7DntIUOhS",
        "outputId": "8a6c5b97-5715-4477-a243-c2a8648156e2",
        "colab": {
          "base_uri": "https://localhost:8080/",
          "height": 204
        }
      },
      "source": [
        "df.pivot_table(values= 'Sales', index= 'Store')"
      ],
      "execution_count": null,
      "outputs": [
        {
          "output_type": "execute_result",
          "data": {
            "text/html": [
              "<div>\n",
              "<style scoped>\n",
              "    .dataframe tbody tr th:only-of-type {\n",
              "        vertical-align: middle;\n",
              "    }\n",
              "\n",
              "    .dataframe tbody tr th {\n",
              "        vertical-align: top;\n",
              "    }\n",
              "\n",
              "    .dataframe thead th {\n",
              "        text-align: right;\n",
              "    }\n",
              "</style>\n",
              "<table border=\"1\" class=\"dataframe\">\n",
              "  <thead>\n",
              "    <tr style=\"text-align: right;\">\n",
              "      <th></th>\n",
              "      <th>Sales</th>\n",
              "    </tr>\n",
              "    <tr>\n",
              "      <th>Store</th>\n",
              "      <th></th>\n",
              "    </tr>\n",
              "  </thead>\n",
              "  <tbody>\n",
              "    <tr>\n",
              "      <th>A</th>\n",
              "      <td>63750</td>\n",
              "    </tr>\n",
              "    <tr>\n",
              "      <th>B</th>\n",
              "      <td>57500</td>\n",
              "    </tr>\n",
              "    <tr>\n",
              "      <th>C</th>\n",
              "      <td>89500</td>\n",
              "    </tr>\n",
              "    <tr>\n",
              "      <th>D</th>\n",
              "      <td>87000</td>\n",
              "    </tr>\n",
              "  </tbody>\n",
              "</table>\n",
              "</div>"
            ],
            "text/plain": [
              "       Sales\n",
              "Store       \n",
              "A      63750\n",
              "B      57500\n",
              "C      89500\n",
              "D      87000"
            ]
          },
          "metadata": {
            "tags": []
          },
          "execution_count": 6
        }
      ]
    },
    {
      "cell_type": "markdown",
      "metadata": {
        "id": "-5oQSxzeDxq0"
      },
      "source": [
        "<table align=\"left\" width=100%>\n",
        "    <tr>\n",
        "        <td width=\"6%\">\n",
        "            <img src=\"question_icon.png\">\n",
        "        </td>\n",
        "        <td>\n",
        "            <div align=\"left\">\n",
        "                <font color=\"#21618C\" size=4px>\n",
        "                    <b> 4. Compute the average sales for each store in every city\n",
        "                    </b>\n",
        "                </font>\n",
        "            </div>\n",
        "        </td>\n",
        "    </tr>\n",
        "</table>"
      ]
    },
    {
      "cell_type": "markdown",
      "metadata": {
        "id": "_0PcDerXDxq1"
      },
      "source": [
        "**Use the dataframe given below:**\n",
        "   \n",
        "<table>\n",
        "<tr>\n",
        "<th>Store</th>\n",
        "<th>Location</th>\n",
        "<th>Sales</th>\n",
        "</tr>\n",
        "<tr>\n",
        "<td>A</td>\n",
        "<td>Mumbai</td>\n",
        "<td>40000</td>\n",
        "</tr>\n",
        "<tr>\n",
        "<td>B</td>\n",
        "<td>Pune</td>\n",
        "<td>45000</td>\n",
        "</tr>\n",
        "<tr>\n",
        "<td>A</td>\n",
        "<td>Hyderabad</td>\n",
        "<td>50000</td>\n",
        "</tr>\n",
        "<tr>\n",
        "<td>C</td>\n",
        "<td>Mumbai</td>\n",
        "<td>90000</td>\n",
        "</tr>\n",
        "<tr>\n",
        "<td>D</td>\n",
        "<td>Pune</td>\n",
        "<td>89000</td>\n",
        "</tr>\n",
        "<tr>\n",
        "<td>A</td>\n",
        "<td>Delhi</td>\n",
        "<td>87000</td>\n",
        "</tr>\n",
        "<tr>\n",
        "<td>D</td>\n",
        "<td>Hyderabad</td>\n",
        "<td>85000</td>\n",
        "</tr>\n",
        "<tr>\n",
        "<td>A</td>\n",
        "<td>Pune</td>\n",
        "<td>78000</td>\n",
        "</tr>\n",
        "<tr>\n",
        "<td>C</td>\n",
        "<td>Mumbai</td>\n",
        "<td>89000</td>\n",
        "</tr>\n",
        "<tr>\n",
        "<td>B</td>\n",
        "<td>Pune</td>\n",
        "<td>70000</td>\n",
        "</tr>\n",
        "   \n",
        "</table>"
      ]
    },
    {
      "cell_type": "code",
      "metadata": {
        "id": "XhxZ2ZshDxq2",
        "outputId": "1bbdaf76-dfc3-4ec0-e62e-babdec366813",
        "colab": {
          "base_uri": "https://localhost:8080/",
          "height": 204
        }
      },
      "source": [
        "df.pivot_table('Sales', columns= 'Store', index= 'Location')"
      ],
      "execution_count": null,
      "outputs": [
        {
          "output_type": "execute_result",
          "data": {
            "text/html": [
              "<div>\n",
              "<style scoped>\n",
              "    .dataframe tbody tr th:only-of-type {\n",
              "        vertical-align: middle;\n",
              "    }\n",
              "\n",
              "    .dataframe tbody tr th {\n",
              "        vertical-align: top;\n",
              "    }\n",
              "\n",
              "    .dataframe thead th {\n",
              "        text-align: right;\n",
              "    }\n",
              "</style>\n",
              "<table border=\"1\" class=\"dataframe\">\n",
              "  <thead>\n",
              "    <tr style=\"text-align: right;\">\n",
              "      <th>Store</th>\n",
              "      <th>A</th>\n",
              "      <th>B</th>\n",
              "      <th>C</th>\n",
              "      <th>D</th>\n",
              "    </tr>\n",
              "    <tr>\n",
              "      <th>Location</th>\n",
              "      <th></th>\n",
              "      <th></th>\n",
              "      <th></th>\n",
              "      <th></th>\n",
              "    </tr>\n",
              "  </thead>\n",
              "  <tbody>\n",
              "    <tr>\n",
              "      <th>Delhi</th>\n",
              "      <td>87000.0</td>\n",
              "      <td>NaN</td>\n",
              "      <td>NaN</td>\n",
              "      <td>NaN</td>\n",
              "    </tr>\n",
              "    <tr>\n",
              "      <th>Hyderabad</th>\n",
              "      <td>50000.0</td>\n",
              "      <td>NaN</td>\n",
              "      <td>NaN</td>\n",
              "      <td>85000.0</td>\n",
              "    </tr>\n",
              "    <tr>\n",
              "      <th>Mumbai</th>\n",
              "      <td>40000.0</td>\n",
              "      <td>NaN</td>\n",
              "      <td>89500.0</td>\n",
              "      <td>NaN</td>\n",
              "    </tr>\n",
              "    <tr>\n",
              "      <th>Pune</th>\n",
              "      <td>78000.0</td>\n",
              "      <td>57500.0</td>\n",
              "      <td>NaN</td>\n",
              "      <td>89000.0</td>\n",
              "    </tr>\n",
              "  </tbody>\n",
              "</table>\n",
              "</div>"
            ],
            "text/plain": [
              "Store            A        B        C        D\n",
              "Location                                     \n",
              "Delhi      87000.0      NaN      NaN      NaN\n",
              "Hyderabad  50000.0      NaN      NaN  85000.0\n",
              "Mumbai     40000.0      NaN  89500.0      NaN\n",
              "Pune       78000.0  57500.0      NaN  89000.0"
            ]
          },
          "metadata": {
            "tags": []
          },
          "execution_count": 8
        }
      ]
    },
    {
      "cell_type": "markdown",
      "metadata": {
        "id": "kQe2pfIPDxq9"
      },
      "source": [
        "<table align=\"left\" width=100%>\n",
        "    <tr>\n",
        "        <td width=\"6%\">\n",
        "            <img src=\"question_icon.png\">\n",
        "        </td>\n",
        "        <td>\n",
        "            <div align=\"left\">\n",
        "                <font color=\"#21618C\" size=4px>\n",
        "                    <b> 5. Compute the minimum sales for each store in every city\n",
        "                    </b>\n",
        "                </font>\n",
        "            </div>\n",
        "        </td>\n",
        "    </tr>\n",
        "</table>"
      ]
    },
    {
      "cell_type": "markdown",
      "metadata": {
        "id": "V4wi1xmNDxq-"
      },
      "source": [
        "**Use the dataframe given below:**\n",
        "   \n",
        "<table>\n",
        "<tr>\n",
        "<th>Store</th>\n",
        "<th>Location</th>\n",
        "<th>Sales</th>\n",
        "</tr>\n",
        "<tr>\n",
        "<td>A</td>\n",
        "<td>Mumbai</td>\n",
        "<td>40000</td>\n",
        "</tr>\n",
        "<tr>\n",
        "<td>B</td>\n",
        "<td>Pune</td>\n",
        "<td>45000</td>\n",
        "</tr>\n",
        "<tr>\n",
        "<td>A</td>\n",
        "<td>Hyderabad</td>\n",
        "<td>50000</td>\n",
        "</tr>\n",
        "<tr>\n",
        "<td>C</td>\n",
        "<td>Mumbai</td>\n",
        "<td>90000</td>\n",
        "</tr>\n",
        "<tr>\n",
        "<td>D</td>\n",
        "<td>Pune</td>\n",
        "<td>89000</td>\n",
        "</tr>\n",
        "<tr>\n",
        "<td>A</td>\n",
        "<td>Delhi</td>\n",
        "<td>87000</td>\n",
        "</tr>\n",
        "<tr>\n",
        "<td>D</td>\n",
        "<td>Hyderabad</td>\n",
        "<td>85000</td>\n",
        "</tr>\n",
        "<tr>\n",
        "<td>A</td>\n",
        "<td>Pune</td>\n",
        "<td>78000</td>\n",
        "</tr>\n",
        "<tr>\n",
        "<td>C</td>\n",
        "<td>Mumbai</td>\n",
        "<td>89000</td>\n",
        "</tr>\n",
        "<tr>\n",
        "<td>B</td>\n",
        "<td>Pune</td>\n",
        "<td>70000</td>\n",
        "</tr>\n",
        "   \n",
        "</table>"
      ]
    },
    {
      "cell_type": "code",
      "metadata": {
        "id": "2HmN1YW8DxrA",
        "outputId": "0aa09577-e052-4a0f-9399-35a5532d4c9c",
        "colab": {
          "base_uri": "https://localhost:8080/",
          "height": 187
        }
      },
      "source": [
        "df['Sales'].groupby([df['Store'], df['Location']]).min()"
      ],
      "execution_count": null,
      "outputs": [
        {
          "output_type": "execute_result",
          "data": {
            "text/plain": [
              "Store  Location \n",
              "A      Delhi        87000\n",
              "       Hyderabad    50000\n",
              "       Mumbai       40000\n",
              "       Pune         78000\n",
              "B      Pune         45000\n",
              "C      Mumbai       89000\n",
              "D      Hyderabad    85000\n",
              "       Pune         89000\n",
              "Name: Sales, dtype: int64"
            ]
          },
          "metadata": {
            "tags": []
          },
          "execution_count": 11
        }
      ]
    },
    {
      "cell_type": "markdown",
      "metadata": {
        "id": "FBia3guTDxrF"
      },
      "source": [
        "<a id='Duplicating'></a>\n",
        "## 2. Duplicate"
      ]
    },
    {
      "cell_type": "markdown",
      "metadata": {
        "id": "KXYTjkhNDxrG"
      },
      "source": [
        "<table align=\"left\" width=100%>\n",
        "    <tr>\n",
        "        <td width=\"6%\">\n",
        "            <img src=\"question_icon.png\">\n",
        "        </td>\n",
        "        <td>\n",
        "            <div align=\"left\">\n",
        "                <font color=\"#21618C\" size=4px>\n",
        "                    <b> 6. Find duplicate rows in the data\n",
        "                    </b>\n",
        "                </font>\n",
        "            </div>\n",
        "        </td>\n",
        "    </tr>\n",
        "</table>"
      ]
    },
    {
      "cell_type": "markdown",
      "metadata": {
        "id": "bXUoDcFlDxrH"
      },
      "source": [
        "**Use the dataframe given below:**\n",
        "   \n",
        "<table>\n",
        "<tr>\n",
        "<th>Name</th>\n",
        "<th>Salary</th>\n",
        "<th>City</th>\n",
        "</tr>\n",
        "<tr>\n",
        "<td>John</td>\n",
        "<td>3400</td>\n",
        "<td>Sydeny</td>\n",
        "</tr>\n",
        "<tr>\n",
        "<td>Robert</td>\n",
        "<td>3000</td>\n",
        "<td>Chicago</td>\n",
        "</tr>\n",
        "<tr>\n",
        "<td>Aadi</td>\n",
        "<td>1600</td>\n",
        "<td>New York</td>\n",
        "</tr>\n",
        "<tr>\n",
        "<td>Robert</td>\n",
        "<td>3000</td>\n",
        "<td>Chicago</td>\n",
        "</tr>\n",
        "<tr>\n",
        "<td>Robert</td>\n",
        "<td>3000</td>\n",
        "<td>Chicago</td>\n",
        "</tr>\n",
        "<tr>\n",
        "<td>Robert</td>\n",
        "<td>3000</td>\n",
        "<td>Texas</td>\n",
        "</tr>\n",
        "<tr>\n",
        "<td>Aadi</td>\n",
        "<td>4000</td>\n",
        "<td>London</td>\n",
        "</tr>\n",
        "<tr>\n",
        "<td>Sachine</td>\n",
        "<td>3000</td>\n",
        "<td>Chicago</td>\n",
        "</tr>\n",
        "   \n",
        "</table>"
      ]
    },
    {
      "cell_type": "code",
      "metadata": {
        "id": "RzYadaqgDxrH"
      },
      "source": [
        "Name\t= ['John','Robert','Aadi','Robert','Robert','Robert','Aadi','Sachine']\n",
        "Salary= [3400, 3000, 1600, 3000, \t3000, 3000, 4000, 3000]\n",
        "city= ['Sydeny', 'Chicago', 'New York', 'Chicago', 'Chicago', 'Texas', 'London', 'Chicago']\n",
        "col= ['Name', 'Salary', 'city']\n",
        "df= pd.DataFrame(list(zip(Name, Salary, city)), columns= col )\n",
        "df"
      ],
      "execution_count": null,
      "outputs": []
    },
    {
      "cell_type": "code",
      "metadata": {
        "id": "PSqWMQ0MZrNV",
        "outputId": "607d4f1d-67f1-4cfd-f8dd-4256fd0d0666",
        "colab": {
          "base_uri": "https://localhost:8080/",
          "height": 111
        }
      },
      "source": [
        "df[df.duplicated()]"
      ],
      "execution_count": null,
      "outputs": [
        {
          "output_type": "execute_result",
          "data": {
            "text/html": [
              "<div>\n",
              "<style scoped>\n",
              "    .dataframe tbody tr th:only-of-type {\n",
              "        vertical-align: middle;\n",
              "    }\n",
              "\n",
              "    .dataframe tbody tr th {\n",
              "        vertical-align: top;\n",
              "    }\n",
              "\n",
              "    .dataframe thead th {\n",
              "        text-align: right;\n",
              "    }\n",
              "</style>\n",
              "<table border=\"1\" class=\"dataframe\">\n",
              "  <thead>\n",
              "    <tr style=\"text-align: right;\">\n",
              "      <th></th>\n",
              "      <th>Name</th>\n",
              "      <th>Salary</th>\n",
              "      <th>city</th>\n",
              "    </tr>\n",
              "  </thead>\n",
              "  <tbody>\n",
              "    <tr>\n",
              "      <th>3</th>\n",
              "      <td>Robert</td>\n",
              "      <td>3000</td>\n",
              "      <td>Chicago</td>\n",
              "    </tr>\n",
              "    <tr>\n",
              "      <th>4</th>\n",
              "      <td>Robert</td>\n",
              "      <td>3000</td>\n",
              "      <td>Chicago</td>\n",
              "    </tr>\n",
              "  </tbody>\n",
              "</table>\n",
              "</div>"
            ],
            "text/plain": [
              "     Name  Salary     city\n",
              "3  Robert    3000  Chicago\n",
              "4  Robert    3000  Chicago"
            ]
          },
          "metadata": {
            "tags": []
          },
          "execution_count": 25
        }
      ]
    },
    {
      "cell_type": "markdown",
      "metadata": {
        "id": "vRZImClkDxrP"
      },
      "source": [
        "<table align=\"left\" width=100%>\n",
        "    <tr>\n",
        "        <td width=\"6%\">\n",
        "            <img src=\"question_icon.png\">\n",
        "        </td>\n",
        "        <td>\n",
        "            <div align=\"left\">\n",
        "                <font color=\"#21618C\" size=4px>\n",
        "                    <b> 7. Select duplicate rows, except the last occurrence \n",
        "                    </b>\n",
        "                </font>\n",
        "            </div>\n",
        "        </td>\n",
        "    </tr>\n",
        "</table>"
      ]
    },
    {
      "cell_type": "markdown",
      "metadata": {
        "id": "JDM5EE_FDxrQ"
      },
      "source": [
        "**Use the dataframe given below:**\n",
        "   \n",
        "<table>\n",
        "<tr>\n",
        "<th>Name</th>\n",
        "<th>Salary</th>\n",
        "<th>City</th>\n",
        "</tr>\n",
        "<tr>\n",
        "<td>John</td>\n",
        "<td>3400</td>\n",
        "<td>Sydeny</td>\n",
        "</tr>\n",
        "<tr>\n",
        "<td>Robert</td>\n",
        "<td>3000</td>\n",
        "<td>Chicago</td>\n",
        "</tr>\n",
        "<tr>\n",
        "<td>Aadi</td>\n",
        "<td>1600</td>\n",
        "<td>New York</td>\n",
        "</tr>\n",
        "<tr>\n",
        "<td>Robert</td>\n",
        "<td>3000</td>\n",
        "<td>Chicago</td>\n",
        "</tr>\n",
        "<tr>\n",
        "<td>Robert</td>\n",
        "<td>3000</td>\n",
        "<td>Chicago</td>\n",
        "</tr>\n",
        "<tr>\n",
        "<td>Robert</td>\n",
        "<td>3000</td>\n",
        "<td>Texas</td>\n",
        "</tr>\n",
        "<tr>\n",
        "<td>Aadi</td>\n",
        "<td>4000</td>\n",
        "<td>London</td>\n",
        "</tr>\n",
        "<tr>\n",
        "<td>Sachine</td>\n",
        "<td>3000</td>\n",
        "<td>Chicago</td>\n",
        "</tr>\n",
        "   \n",
        "</table>"
      ]
    },
    {
      "cell_type": "code",
      "metadata": {
        "id": "VnycehJoDxrR",
        "outputId": "9d61f6d8-0075-4a40-ad25-d0cf3f6f02c9",
        "colab": {
          "base_uri": "https://localhost:8080/",
          "height": 111
        }
      },
      "source": [
        "df[df.duplicated(keep='last')]"
      ],
      "execution_count": null,
      "outputs": [
        {
          "output_type": "execute_result",
          "data": {
            "text/html": [
              "<div>\n",
              "<style scoped>\n",
              "    .dataframe tbody tr th:only-of-type {\n",
              "        vertical-align: middle;\n",
              "    }\n",
              "\n",
              "    .dataframe tbody tr th {\n",
              "        vertical-align: top;\n",
              "    }\n",
              "\n",
              "    .dataframe thead th {\n",
              "        text-align: right;\n",
              "    }\n",
              "</style>\n",
              "<table border=\"1\" class=\"dataframe\">\n",
              "  <thead>\n",
              "    <tr style=\"text-align: right;\">\n",
              "      <th></th>\n",
              "      <th>Name</th>\n",
              "      <th>Salary</th>\n",
              "      <th>city</th>\n",
              "    </tr>\n",
              "  </thead>\n",
              "  <tbody>\n",
              "    <tr>\n",
              "      <th>1</th>\n",
              "      <td>Robert</td>\n",
              "      <td>3000</td>\n",
              "      <td>Chicago</td>\n",
              "    </tr>\n",
              "    <tr>\n",
              "      <th>3</th>\n",
              "      <td>Robert</td>\n",
              "      <td>3000</td>\n",
              "      <td>Chicago</td>\n",
              "    </tr>\n",
              "  </tbody>\n",
              "</table>\n",
              "</div>"
            ],
            "text/plain": [
              "     Name  Salary     city\n",
              "1  Robert    3000  Chicago\n",
              "3  Robert    3000  Chicago"
            ]
          },
          "metadata": {
            "tags": []
          },
          "execution_count": 28
        }
      ]
    },
    {
      "cell_type": "markdown",
      "metadata": {
        "id": "dNAPRfMEDxrV"
      },
      "source": [
        "<table align=\"left\" width=100%>\n",
        "    <tr>\n",
        "        <td width=\"6%\">\n",
        "            <img src=\"question_icon.png\">\n",
        "        </td>\n",
        "        <td>\n",
        "            <div align=\"left\">\n",
        "                <font color=\"#21618C\" size=4px>\n",
        "                    <b> 8.  Select the duplicated rows based on the column names 'Salary' and 'City'\n",
        "                    </b>\n",
        "                </font>\n",
        "            </div>\n",
        "        </td>\n",
        "    </tr>\n",
        "</table>"
      ]
    },
    {
      "cell_type": "markdown",
      "metadata": {
        "id": "KulVZCxcDxrW"
      },
      "source": [
        "**Use the dataframe given below:**\n",
        "   \n",
        "<table>\n",
        "<tr>\n",
        "<th>Name</th>\n",
        "<th>Salary</th>\n",
        "<th>City</th>\n",
        "</tr>\n",
        "<tr>\n",
        "<td>John</td>\n",
        "<td>3400</td>\n",
        "<td>Sydeny</td>\n",
        "</tr>\n",
        "<tr>\n",
        "<td>Robert</td>\n",
        "<td>3000</td>\n",
        "<td>Chicago</td>\n",
        "</tr>\n",
        "<tr>\n",
        "<td>Aadi</td>\n",
        "<td>1600</td>\n",
        "<td>New York</td>\n",
        "</tr>\n",
        "<tr>\n",
        "<td>Robert</td>\n",
        "<td>3000</td>\n",
        "<td>Chicago</td>\n",
        "</tr>\n",
        "<tr>\n",
        "<td>Robert</td>\n",
        "<td>3000</td>\n",
        "<td>Chicago</td>\n",
        "</tr>\n",
        "<tr>\n",
        "<td>Robert</td>\n",
        "<td>3000</td>\n",
        "<td>Texas</td>\n",
        "</tr>\n",
        "<tr>\n",
        "<td>Aadi</td>\n",
        "<td>4000</td>\n",
        "<td>London</td>\n",
        "</tr>\n",
        "<tr>\n",
        "<td>Sachine</td>\n",
        "<td>3000</td>\n",
        "<td>Chicago</td>\n",
        "</tr>\n",
        "   \n",
        "</table>"
      ]
    },
    {
      "cell_type": "code",
      "metadata": {
        "id": "7dLjTh2IDxrX",
        "outputId": "bade6e8a-e090-4753-89ff-2f5e4faca677",
        "colab": {
          "base_uri": "https://localhost:8080/",
          "height": 142
        }
      },
      "source": [
        "df[df.duplicated(['Salary' , 'city'])]"
      ],
      "execution_count": null,
      "outputs": [
        {
          "output_type": "execute_result",
          "data": {
            "text/html": [
              "<div>\n",
              "<style scoped>\n",
              "    .dataframe tbody tr th:only-of-type {\n",
              "        vertical-align: middle;\n",
              "    }\n",
              "\n",
              "    .dataframe tbody tr th {\n",
              "        vertical-align: top;\n",
              "    }\n",
              "\n",
              "    .dataframe thead th {\n",
              "        text-align: right;\n",
              "    }\n",
              "</style>\n",
              "<table border=\"1\" class=\"dataframe\">\n",
              "  <thead>\n",
              "    <tr style=\"text-align: right;\">\n",
              "      <th></th>\n",
              "      <th>Name</th>\n",
              "      <th>Salary</th>\n",
              "      <th>city</th>\n",
              "    </tr>\n",
              "  </thead>\n",
              "  <tbody>\n",
              "    <tr>\n",
              "      <th>3</th>\n",
              "      <td>Robert</td>\n",
              "      <td>3000</td>\n",
              "      <td>Chicago</td>\n",
              "    </tr>\n",
              "    <tr>\n",
              "      <th>4</th>\n",
              "      <td>Robert</td>\n",
              "      <td>3000</td>\n",
              "      <td>Chicago</td>\n",
              "    </tr>\n",
              "    <tr>\n",
              "      <th>7</th>\n",
              "      <td>Sachine</td>\n",
              "      <td>3000</td>\n",
              "      <td>Chicago</td>\n",
              "    </tr>\n",
              "  </tbody>\n",
              "</table>\n",
              "</div>"
            ],
            "text/plain": [
              "      Name  Salary     city\n",
              "3   Robert    3000  Chicago\n",
              "4   Robert    3000  Chicago\n",
              "7  Sachine    3000  Chicago"
            ]
          },
          "metadata": {
            "tags": []
          },
          "execution_count": 44
        }
      ]
    },
    {
      "cell_type": "markdown",
      "metadata": {
        "id": "xnN5yBw1Dxra"
      },
      "source": [
        "<a id='Replacing'></a>\n",
        "## 3. Replace"
      ]
    },
    {
      "cell_type": "markdown",
      "metadata": {
        "id": "CwPuu7fEDxrb"
      },
      "source": [
        "<table align=\"left\" width=100%>\n",
        "    <tr>\n",
        "        <td width=\"6%\">\n",
        "            <img src=\"question_icon.png\">\n",
        "        </td>\n",
        "        <td>\n",
        "            <div align=\"left\">\n",
        "                <font color=\"#21618C\" size=4px>\n",
        "                    <b> 9.  Replace 'football' with 'hockey' in the column tournament \n",
        "                    </b>\n",
        "                </font>\n",
        "            </div>\n",
        "        </td>\n",
        "    </tr>\n",
        "</table>"
      ]
    },
    {
      "cell_type": "markdown",
      "metadata": {
        "id": "ZMQ55E5HDxrg"
      },
      "source": [
        " \n",
        "<table>\n",
        "<tr>\n",
        "<th>Days</th>\n",
        "<th>Tournament</th>\n",
        "</tr>\n",
        "<tr>\n",
        "<td>Mon</td>\n",
        "<td>Football</td>\n",
        "</tr>\n",
        "<tr>\n",
        "<td>Tues</td>\n",
        "<td>Cricket</td>\n",
        "</tr>\n",
        "<tr>\n",
        "<td>Wed</td>\n",
        "<td>Football</td>\n",
        "</tr>\n",
        "<tr>\n",
        "<td>Thurs</td>\n",
        "<td>Football</td>\n",
        "</tr>\n",
        "<tr>\n",
        "<td>Fri</td>\n",
        "<td>Cricket</td>\n",
        "</tr>\n",
        "   \n",
        "</table>"
      ]
    },
    {
      "cell_type": "code",
      "metadata": {
        "id": "pfoVmiTkDxrh",
        "outputId": "edb398ff-dc05-4cf6-cda8-37efb97ecf4a",
        "colab": {
          "base_uri": "https://localhost:8080/",
          "height": 204
        }
      },
      "source": [
        "a= ['Mon', 'Tues', 'Wed', 'Thurs', 'Fri']\n",
        "b= ['Football', 'Cricket', 'Football', 'Football', 'Cricket']\n",
        "col= ['Days', 'Tournament']\n",
        "df= pd.DataFrame(list(zip(a,b)), columns= col)\n",
        "df"
      ],
      "execution_count": null,
      "outputs": [
        {
          "output_type": "execute_result",
          "data": {
            "text/html": [
              "<div>\n",
              "<style scoped>\n",
              "    .dataframe tbody tr th:only-of-type {\n",
              "        vertical-align: middle;\n",
              "    }\n",
              "\n",
              "    .dataframe tbody tr th {\n",
              "        vertical-align: top;\n",
              "    }\n",
              "\n",
              "    .dataframe thead th {\n",
              "        text-align: right;\n",
              "    }\n",
              "</style>\n",
              "<table border=\"1\" class=\"dataframe\">\n",
              "  <thead>\n",
              "    <tr style=\"text-align: right;\">\n",
              "      <th></th>\n",
              "      <th>Days</th>\n",
              "      <th>Tournament</th>\n",
              "    </tr>\n",
              "  </thead>\n",
              "  <tbody>\n",
              "    <tr>\n",
              "      <th>0</th>\n",
              "      <td>Mon</td>\n",
              "      <td>Football</td>\n",
              "    </tr>\n",
              "    <tr>\n",
              "      <th>1</th>\n",
              "      <td>Tues</td>\n",
              "      <td>Cricket</td>\n",
              "    </tr>\n",
              "    <tr>\n",
              "      <th>2</th>\n",
              "      <td>Wed</td>\n",
              "      <td>Football</td>\n",
              "    </tr>\n",
              "    <tr>\n",
              "      <th>3</th>\n",
              "      <td>Thurs</td>\n",
              "      <td>Football</td>\n",
              "    </tr>\n",
              "    <tr>\n",
              "      <th>4</th>\n",
              "      <td>Fri</td>\n",
              "      <td>Cricket</td>\n",
              "    </tr>\n",
              "  </tbody>\n",
              "</table>\n",
              "</div>"
            ],
            "text/plain": [
              "    Days Tournament\n",
              "0    Mon   Football\n",
              "1   Tues    Cricket\n",
              "2    Wed   Football\n",
              "3  Thurs   Football\n",
              "4    Fri    Cricket"
            ]
          },
          "metadata": {
            "tags": []
          },
          "execution_count": 49
        }
      ]
    },
    {
      "cell_type": "code",
      "metadata": {
        "id": "CBa4EkudeluW"
      },
      "source": [
        "df['Tournament'].replace('Football', 'hockey', inplace= True)"
      ],
      "execution_count": null,
      "outputs": []
    },
    {
      "cell_type": "code",
      "metadata": {
        "id": "TCzTacI1fHWe",
        "outputId": "14d7d921-0fa9-43a3-bafc-5799b345fac5",
        "colab": {
          "base_uri": "https://localhost:8080/",
          "height": 204
        }
      },
      "source": [
        "df"
      ],
      "execution_count": null,
      "outputs": [
        {
          "output_type": "execute_result",
          "data": {
            "text/html": [
              "<div>\n",
              "<style scoped>\n",
              "    .dataframe tbody tr th:only-of-type {\n",
              "        vertical-align: middle;\n",
              "    }\n",
              "\n",
              "    .dataframe tbody tr th {\n",
              "        vertical-align: top;\n",
              "    }\n",
              "\n",
              "    .dataframe thead th {\n",
              "        text-align: right;\n",
              "    }\n",
              "</style>\n",
              "<table border=\"1\" class=\"dataframe\">\n",
              "  <thead>\n",
              "    <tr style=\"text-align: right;\">\n",
              "      <th></th>\n",
              "      <th>Days</th>\n",
              "      <th>Tournament</th>\n",
              "    </tr>\n",
              "  </thead>\n",
              "  <tbody>\n",
              "    <tr>\n",
              "      <th>0</th>\n",
              "      <td>Mon</td>\n",
              "      <td>hockey</td>\n",
              "    </tr>\n",
              "    <tr>\n",
              "      <th>1</th>\n",
              "      <td>Tues</td>\n",
              "      <td>Cricket</td>\n",
              "    </tr>\n",
              "    <tr>\n",
              "      <th>2</th>\n",
              "      <td>Wed</td>\n",
              "      <td>hockey</td>\n",
              "    </tr>\n",
              "    <tr>\n",
              "      <th>3</th>\n",
              "      <td>Thurs</td>\n",
              "      <td>hockey</td>\n",
              "    </tr>\n",
              "    <tr>\n",
              "      <th>4</th>\n",
              "      <td>Fri</td>\n",
              "      <td>Cricket</td>\n",
              "    </tr>\n",
              "  </tbody>\n",
              "</table>\n",
              "</div>"
            ],
            "text/plain": [
              "    Days Tournament\n",
              "0    Mon     hockey\n",
              "1   Tues    Cricket\n",
              "2    Wed     hockey\n",
              "3  Thurs     hockey\n",
              "4    Fri    Cricket"
            ]
          },
          "metadata": {
            "tags": []
          },
          "execution_count": 54
        }
      ]
    },
    {
      "cell_type": "markdown",
      "metadata": {
        "id": "8CTxucxUDxrl"
      },
      "source": [
        "<table align=\"left\" width=100%>\n",
        "    <tr>\n",
        "        <td width=\"6%\">\n",
        "            <img src=\"question_icon.png\">\n",
        "        </td>\n",
        "        <td>\n",
        "            <div align=\"left\">\n",
        "                <font color=\"#21618C\" size=4px>\n",
        "                    <b> 10.  Replace all 0's with male and all 1's with female in the gender column\n",
        "                    </b>\n",
        "                </font>\n",
        "            </div>\n",
        "        </td>\n",
        "    </tr>\n",
        "</table>"
      ]
    },
    {
      "cell_type": "markdown",
      "metadata": {
        "id": "RwyIM-njDxrm"
      },
      "source": [
        "**Use the dataframe given below:**\n",
        "   \n",
        "<table>\n",
        "<tr>\n",
        "<th>Name</th>\n",
        "<th>Num_Children</th>\n",
        "<th>Gender</th>\n",
        "</tr>\n",
        "<tr>\n",
        "<td>John</td>\n",
        "<td>0</td>\n",
        "<td>0</td>\n",
        "</tr>\n",
        "<tr>\n",
        "<td>Robert</td>\n",
        "<td>4</td>\n",
        "<td>0</td>\n",
        "</tr>\n",
        "<tr>\n",
        "<td>Johny</td>\n",
        "<td>5</td>\n",
        "<td>0</td>\n",
        "</tr>\n",
        "<tr>\n",
        "<td>Mia</td>\n",
        "<td>3</td>\n",
        "<td>1</td>\n",
        "</tr>\n",
        "   \n",
        "</table>"
      ]
    },
    {
      "cell_type": "code",
      "metadata": {
        "id": "fA7BWKfXDxrn",
        "outputId": "a7dd4c85-8e46-4422-f68f-82ed44f965e5",
        "colab": {
          "base_uri": "https://localhost:8080/",
          "height": 173
        }
      },
      "source": [
        "names= ['John', 'Robert', 'Johny', 'Mia']\n",
        "Num_children = [0,4,5,3]\n",
        "Gender= [0,0,0,1]\n",
        "col= ['Name', 'Num_Children', 'Gender']\n",
        "df= pd.DataFrame(list(zip(names, Num_children, Gender)), columns= col )\n",
        "df"
      ],
      "execution_count": null,
      "outputs": [
        {
          "output_type": "execute_result",
          "data": {
            "text/html": [
              "<div>\n",
              "<style scoped>\n",
              "    .dataframe tbody tr th:only-of-type {\n",
              "        vertical-align: middle;\n",
              "    }\n",
              "\n",
              "    .dataframe tbody tr th {\n",
              "        vertical-align: top;\n",
              "    }\n",
              "\n",
              "    .dataframe thead th {\n",
              "        text-align: right;\n",
              "    }\n",
              "</style>\n",
              "<table border=\"1\" class=\"dataframe\">\n",
              "  <thead>\n",
              "    <tr style=\"text-align: right;\">\n",
              "      <th></th>\n",
              "      <th>Name</th>\n",
              "      <th>Num_Children</th>\n",
              "      <th>Gender</th>\n",
              "    </tr>\n",
              "  </thead>\n",
              "  <tbody>\n",
              "    <tr>\n",
              "      <th>0</th>\n",
              "      <td>John</td>\n",
              "      <td>0</td>\n",
              "      <td>0</td>\n",
              "    </tr>\n",
              "    <tr>\n",
              "      <th>1</th>\n",
              "      <td>Robert</td>\n",
              "      <td>4</td>\n",
              "      <td>0</td>\n",
              "    </tr>\n",
              "    <tr>\n",
              "      <th>2</th>\n",
              "      <td>Johny</td>\n",
              "      <td>5</td>\n",
              "      <td>0</td>\n",
              "    </tr>\n",
              "    <tr>\n",
              "      <th>3</th>\n",
              "      <td>Mia</td>\n",
              "      <td>3</td>\n",
              "      <td>1</td>\n",
              "    </tr>\n",
              "  </tbody>\n",
              "</table>\n",
              "</div>"
            ],
            "text/plain": [
              "     Name  Num_Children  Gender\n",
              "0    John             0       0\n",
              "1  Robert             4       0\n",
              "2   Johny             5       0\n",
              "3     Mia             3       1"
            ]
          },
          "metadata": {
            "tags": []
          },
          "execution_count": 56
        }
      ]
    },
    {
      "cell_type": "code",
      "metadata": {
        "id": "m5b2P5vtfsV5"
      },
      "source": [
        "df['Gender'] = ['male' if df['Gender'][i] == 0 else 'female' for i in range(len(df['Gender'])) ]"
      ],
      "execution_count": null,
      "outputs": []
    },
    {
      "cell_type": "code",
      "metadata": {
        "id": "9KAWxCDMhoq3",
        "outputId": "e317b5da-1b90-44ef-840c-d97defa4a921",
        "colab": {
          "base_uri": "https://localhost:8080/",
          "height": 173
        }
      },
      "source": [
        "df"
      ],
      "execution_count": null,
      "outputs": [
        {
          "output_type": "execute_result",
          "data": {
            "text/html": [
              "<div>\n",
              "<style scoped>\n",
              "    .dataframe tbody tr th:only-of-type {\n",
              "        vertical-align: middle;\n",
              "    }\n",
              "\n",
              "    .dataframe tbody tr th {\n",
              "        vertical-align: top;\n",
              "    }\n",
              "\n",
              "    .dataframe thead th {\n",
              "        text-align: right;\n",
              "    }\n",
              "</style>\n",
              "<table border=\"1\" class=\"dataframe\">\n",
              "  <thead>\n",
              "    <tr style=\"text-align: right;\">\n",
              "      <th></th>\n",
              "      <th>Name</th>\n",
              "      <th>Num_Children</th>\n",
              "      <th>Gender</th>\n",
              "    </tr>\n",
              "  </thead>\n",
              "  <tbody>\n",
              "    <tr>\n",
              "      <th>0</th>\n",
              "      <td>John</td>\n",
              "      <td>0</td>\n",
              "      <td>male</td>\n",
              "    </tr>\n",
              "    <tr>\n",
              "      <th>1</th>\n",
              "      <td>Robert</td>\n",
              "      <td>4</td>\n",
              "      <td>male</td>\n",
              "    </tr>\n",
              "    <tr>\n",
              "      <th>2</th>\n",
              "      <td>Johny</td>\n",
              "      <td>5</td>\n",
              "      <td>male</td>\n",
              "    </tr>\n",
              "    <tr>\n",
              "      <th>3</th>\n",
              "      <td>Mia</td>\n",
              "      <td>3</td>\n",
              "      <td>female</td>\n",
              "    </tr>\n",
              "  </tbody>\n",
              "</table>\n",
              "</div>"
            ],
            "text/plain": [
              "     Name  Num_Children  Gender\n",
              "0    John             0    male\n",
              "1  Robert             4    male\n",
              "2   Johny             5    male\n",
              "3     Mia             3  female"
            ]
          },
          "metadata": {
            "tags": []
          },
          "execution_count": 67
        }
      ]
    },
    {
      "cell_type": "markdown",
      "metadata": {
        "id": "AnZDPm--Dxrw"
      },
      "source": [
        "<a id='Summary_Statistics'></a>\n",
        "## 4. Summary Statistics"
      ]
    },
    {
      "cell_type": "markdown",
      "metadata": {
        "id": "IyVCjoMrDxrx"
      },
      "source": [
        "<table align=\"left\" width=100%>\n",
        "    <tr>\n",
        "        <td width=\"6%\">\n",
        "            <img src=\"question_icon.png\">\n",
        "        </td>\n",
        "        <td>\n",
        "            <div align=\"left\">\n",
        "                <font color=\"#21618C\" size=4px>\n",
        "                    <b> 12.  Find the descriptive statistics for the sales column of the given dataframe\n",
        "                    </b>\n",
        "                </font>\n",
        "            </div>\n",
        "        </td>\n",
        "    </tr>\n",
        "</table>"
      ]
    },
    {
      "cell_type": "markdown",
      "metadata": {
        "id": "zKXIreMkDxrx"
      },
      "source": [
        "**Use the dataframe given below:**\n",
        "   \n",
        "<table>\n",
        "<tr>\n",
        "<th>Month</th>\n",
        "<th>Sales</th>\n",
        "<th>Seasons</th>\n",
        "</tr>\n",
        "<tr>\n",
        "<td>Jan</td>\n",
        "<td>22000</td>\n",
        "<td>Winter</td>\n",
        "</tr>\n",
        "<tr>\n",
        "<td>Feb</td>\n",
        "<td>27000</td>\n",
        "<td>Winter</td>\n",
        "</tr>\n",
        "<tr>\n",
        "<td>Mar</td>\n",
        "<td>25000</td>\n",
        "<td>Spring</td>\n",
        "</tr>\n",
        "<tr>\n",
        "<td>Apr</td>\n",
        "<td>29000</td>\n",
        "<td>Spring</td>\n",
        "</tr>\n",
        "<tr>\n",
        "<td>May</td>\n",
        "<td>35000</td>\n",
        "<td>Spring</td>\n",
        "</tr>\n",
        "<tr>\n",
        "<td>June</td>\n",
        "<td>67000</td>\n",
        "<td>Summer</td>\n",
        "</tr>\n",
        "<tr>\n",
        "<td>July</td>\n",
        "<td>78000</td>\n",
        "<td>Summer</td>\n",
        "</tr>\n",
        "<tr>\n",
        "<td>Aug</td>\n",
        "<td>67000</td>\n",
        "<td>Summer</td>\n",
        "</tr>\n",
        "<tr>\n",
        "<td>Sep</td>\n",
        "<td>56000</td>\n",
        "<td>Fall</td>\n",
        "</tr>\n",
        "<tr>\n",
        "<td>Oct</td>\n",
        "<td>56000</td>\n",
        "<td>Fall</td>\n",
        "</tr>\n",
        "<tr>\n",
        "<td>Nov</td>\n",
        "<td>56000</td>\n",
        "<td>Fall</td>\n",
        "</tr>\n",
        "<tr>\n",
        "<td>Dec</td>\n",
        "<td>60000</td>\n",
        "<td>Winter</td>\n",
        "</tr>\n",
        "\n",
        "</table>"
      ]
    },
    {
      "cell_type": "code",
      "metadata": {
        "id": "Z5468sGlDxry",
        "outputId": "c7a596ba-6505-45c1-888a-a2c46b22afe3",
        "colab": {
          "base_uri": "https://localhost:8080/",
          "height": 421
        }
      },
      "source": [
        "months= ['Jan', 'Feb', 'Mar', 'Apr', 'May', 'June', 'July', 'Aug', 'Sep', 'Oct', 'Nov', 'Dec']\n",
        "Sales= [22000, 27000, 25000, 29000, 35000, 67000, 78000, 67000, 56000, 56000, 56000\t, 60000]\n",
        "Seasons= ['Winter', 'Winter', 'Spring' , 'Spring', 'Spring', 'Summer', 'Summer', 'Summer', 'Fall', 'Fall', 'Fall', 'Winter']\n",
        "col= ['Month', 'Sales', 'Seasons']\n",
        "df= pd.DataFrame(list(zip(months, Sales, Seasons)), columns= col)\n",
        "df"
      ],
      "execution_count": null,
      "outputs": [
        {
          "output_type": "execute_result",
          "data": {
            "text/html": [
              "<div>\n",
              "<style scoped>\n",
              "    .dataframe tbody tr th:only-of-type {\n",
              "        vertical-align: middle;\n",
              "    }\n",
              "\n",
              "    .dataframe tbody tr th {\n",
              "        vertical-align: top;\n",
              "    }\n",
              "\n",
              "    .dataframe thead th {\n",
              "        text-align: right;\n",
              "    }\n",
              "</style>\n",
              "<table border=\"1\" class=\"dataframe\">\n",
              "  <thead>\n",
              "    <tr style=\"text-align: right;\">\n",
              "      <th></th>\n",
              "      <th>Month</th>\n",
              "      <th>Sales</th>\n",
              "      <th>Seasons</th>\n",
              "    </tr>\n",
              "  </thead>\n",
              "  <tbody>\n",
              "    <tr>\n",
              "      <th>0</th>\n",
              "      <td>Jan</td>\n",
              "      <td>22000</td>\n",
              "      <td>Winter</td>\n",
              "    </tr>\n",
              "    <tr>\n",
              "      <th>1</th>\n",
              "      <td>Feb</td>\n",
              "      <td>27000</td>\n",
              "      <td>Winter</td>\n",
              "    </tr>\n",
              "    <tr>\n",
              "      <th>2</th>\n",
              "      <td>Mar</td>\n",
              "      <td>25000</td>\n",
              "      <td>Spring</td>\n",
              "    </tr>\n",
              "    <tr>\n",
              "      <th>3</th>\n",
              "      <td>Apr</td>\n",
              "      <td>29000</td>\n",
              "      <td>Spring</td>\n",
              "    </tr>\n",
              "    <tr>\n",
              "      <th>4</th>\n",
              "      <td>May</td>\n",
              "      <td>35000</td>\n",
              "      <td>Spring</td>\n",
              "    </tr>\n",
              "    <tr>\n",
              "      <th>5</th>\n",
              "      <td>June</td>\n",
              "      <td>67000</td>\n",
              "      <td>Summer</td>\n",
              "    </tr>\n",
              "    <tr>\n",
              "      <th>6</th>\n",
              "      <td>July</td>\n",
              "      <td>78000</td>\n",
              "      <td>Summer</td>\n",
              "    </tr>\n",
              "    <tr>\n",
              "      <th>7</th>\n",
              "      <td>Aug</td>\n",
              "      <td>67000</td>\n",
              "      <td>Summer</td>\n",
              "    </tr>\n",
              "    <tr>\n",
              "      <th>8</th>\n",
              "      <td>Sep</td>\n",
              "      <td>56000</td>\n",
              "      <td>Fall</td>\n",
              "    </tr>\n",
              "    <tr>\n",
              "      <th>9</th>\n",
              "      <td>Oct</td>\n",
              "      <td>56000</td>\n",
              "      <td>Fall</td>\n",
              "    </tr>\n",
              "    <tr>\n",
              "      <th>10</th>\n",
              "      <td>Nov</td>\n",
              "      <td>56000</td>\n",
              "      <td>Fall</td>\n",
              "    </tr>\n",
              "    <tr>\n",
              "      <th>11</th>\n",
              "      <td>Dec</td>\n",
              "      <td>60000</td>\n",
              "      <td>Winter</td>\n",
              "    </tr>\n",
              "  </tbody>\n",
              "</table>\n",
              "</div>"
            ],
            "text/plain": [
              "   Month  Sales Seasons\n",
              "0    Jan  22000  Winter\n",
              "1    Feb  27000  Winter\n",
              "2    Mar  25000  Spring\n",
              "3    Apr  29000  Spring\n",
              "4    May  35000  Spring\n",
              "5   June  67000  Summer\n",
              "6   July  78000  Summer\n",
              "7    Aug  67000  Summer\n",
              "8    Sep  56000    Fall\n",
              "9    Oct  56000    Fall\n",
              "10   Nov  56000    Fall\n",
              "11   Dec  60000  Winter"
            ]
          },
          "metadata": {
            "tags": []
          },
          "execution_count": 80
        }
      ]
    },
    {
      "cell_type": "code",
      "metadata": {
        "id": "cCLiaLSqu9V0",
        "outputId": "f50b9b2a-fc99-4411-a494-6cc383f2fdf5",
        "colab": {
          "base_uri": "https://localhost:8080/",
          "height": 170
        }
      },
      "source": [
        "df['Sales'].describe()"
      ],
      "execution_count": null,
      "outputs": [
        {
          "output_type": "execute_result",
          "data": {
            "text/plain": [
              "count       12.000000\n",
              "mean     48166.666667\n",
              "std      19385.249000\n",
              "min      22000.000000\n",
              "25%      28500.000000\n",
              "50%      56000.000000\n",
              "75%      61750.000000\n",
              "max      78000.000000\n",
              "Name: Sales, dtype: float64"
            ]
          },
          "metadata": {
            "tags": []
          },
          "execution_count": 82
        }
      ]
    },
    {
      "cell_type": "markdown",
      "metadata": {
        "id": "zdbpL0e7Dxr2"
      },
      "source": [
        "<table align=\"left\" width=100%>\n",
        "    <tr>\n",
        "        <td width=\"6%\">\n",
        "            <img src=\"question_icon.png\">\n",
        "        </td>\n",
        "        <td>\n",
        "            <div align=\"left\">\n",
        "                <font color=\"#21618C\" size=4px>\n",
        "                    <b> 13.  Find the median of sales for each season \n",
        "                    </b>\n",
        "                </font>\n",
        "            </div>\n",
        "        </td>\n",
        "    </tr>\n",
        "</table>"
      ]
    },
    {
      "cell_type": "markdown",
      "metadata": {
        "id": "va5cbPUDDxr3"
      },
      "source": [
        "**Use the dataframe given below:**\n",
        "   \n",
        "<table>\n",
        "<tr>\n",
        "<th>Month</th>\n",
        "<th>Sales</th>\n",
        "<th>Seasons</th>\n",
        "</tr>\n",
        "<tr>\n",
        "<td>Jan</td>\n",
        "<td>22000</td>\n",
        "<td>Winter</td>\n",
        "</tr>\n",
        "<tr>\n",
        "<td>Feb</td>\n",
        "<td>27000</td>\n",
        "<td>Winter</td>\n",
        "</tr>\n",
        "<tr>\n",
        "<td>Mar</td>\n",
        "<td>25000</td>\n",
        "<td>Spring</td>\n",
        "</tr>\n",
        "<tr>\n",
        "<td>Apr</td>\n",
        "<td>29000</td>\n",
        "<td>Spring</td>\n",
        "</tr>\n",
        "<tr>\n",
        "<td>May</td>\n",
        "<td>35000</td>\n",
        "<td>Spring</td>\n",
        "</tr>\n",
        "<tr>\n",
        "<td>June</td>\n",
        "<td>67000</td>\n",
        "<td>Summer</td>\n",
        "</tr>\n",
        "<tr>\n",
        "<td>July</td>\n",
        "<td>78000</td>\n",
        "<td>Summer</td>\n",
        "</tr>\n",
        "<tr>\n",
        "<td>Aug</td>\n",
        "<td>67000</td>\n",
        "<td>Summer</td>\n",
        "</tr>\n",
        "<tr>\n",
        "<td>Sep</td>\n",
        "<td>56000</td>\n",
        "<td>Fall</td>\n",
        "</tr>\n",
        "<tr>\n",
        "<td>Oct</td>\n",
        "<td>56000</td>\n",
        "<td>Fall</td>\n",
        "</tr>\n",
        "<tr>\n",
        "<td>Nov</td>\n",
        "<td>56000</td>\n",
        "<td>Fall</td>\n",
        "</tr>\n",
        "<tr>\n",
        "<td>Dec</td>\n",
        "<td>60000</td>\n",
        "<td>Winter</td>\n",
        "</tr>\n",
        "\n",
        "</table>"
      ]
    },
    {
      "cell_type": "code",
      "metadata": {
        "id": "628KAjmCDxr4",
        "outputId": "f12de1bb-cbcd-4487-db8a-690165efbb45",
        "colab": {
          "base_uri": "https://localhost:8080/",
          "height": 119
        }
      },
      "source": [
        "df['Sales'].groupby(df['Seasons']).median()"
      ],
      "execution_count": null,
      "outputs": [
        {
          "output_type": "execute_result",
          "data": {
            "text/plain": [
              "Seasons\n",
              "Fall      56000\n",
              "Spring    29000\n",
              "Summer    67000\n",
              "Winter    27000\n",
              "Name: Sales, dtype: int64"
            ]
          },
          "metadata": {
            "tags": []
          },
          "execution_count": 84
        }
      ]
    },
    {
      "cell_type": "markdown",
      "metadata": {
        "id": "_ITU3jqmDxr8"
      },
      "source": [
        "<table align=\"left\" width=100%>\n",
        "    <tr>\n",
        "        <td width=\"6%\">\n",
        "            <img src=\"question_icon.png\">\n",
        "        </td>\n",
        "        <td>\n",
        "            <div align=\"left\">\n",
        "                <font color=\"#21618C\" size=4px>\n",
        "                    <b> 14. Find the descriptive statistics for categorical data from the dataframe\n",
        "                    </b>\n",
        "                </font>\n",
        "            </div>\n",
        "        </td>\n",
        "    </tr>\n",
        "</table>"
      ]
    },
    {
      "cell_type": "markdown",
      "metadata": {
        "id": "fyxeTg_eDxr9"
      },
      "source": [
        "**Use the dataframe given below:**\n",
        "   \n",
        "<table>\n",
        "<tr>\n",
        "<th>Month</th>\n",
        "<th>Sales</th>\n",
        "<th>Seasons</th>\n",
        "</tr>\n",
        "<tr>\n",
        "<td>Jan</td>\n",
        "<td>22000</td>\n",
        "<td>Winter</td>\n",
        "</tr>\n",
        "<tr>\n",
        "<td>Feb</td>\n",
        "<td>27000</td>\n",
        "<td>Winter</td>\n",
        "</tr>\n",
        "<tr>\n",
        "<td>Mar</td>\n",
        "<td>25000</td>\n",
        "<td>Spring</td>\n",
        "</tr>\n",
        "<tr>\n",
        "<td>Apr</td>\n",
        "<td>29000</td>\n",
        "<td>Spring</td>\n",
        "</tr>\n",
        "<tr>\n",
        "<td>May</td>\n",
        "<td>35000</td>\n",
        "<td>Spring</td>\n",
        "</tr>\n",
        "<tr>\n",
        "<td>June</td>\n",
        "<td>67000</td>\n",
        "<td>Summer</td>\n",
        "</tr>\n",
        "<tr>\n",
        "<td>July</td>\n",
        "<td>78000</td>\n",
        "<td>Summer</td>\n",
        "</tr>\n",
        "<tr>\n",
        "<td>Aug</td>\n",
        "<td>67000</td>\n",
        "<td>Summer</td>\n",
        "</tr>\n",
        "<tr>\n",
        "<td>Sep</td>\n",
        "<td>56000</td>\n",
        "<td>Fall</td>\n",
        "</tr>\n",
        "<tr>\n",
        "<td>Oct</td>\n",
        "<td>56000</td>\n",
        "<td>Fall</td>\n",
        "</tr>\n",
        "<tr>\n",
        "<td>Nov</td>\n",
        "<td>56000</td>\n",
        "<td>Fall</td>\n",
        "</tr>\n",
        "<tr>\n",
        "<td>Dec</td>\n",
        "<td>60000</td>\n",
        "<td>Winter</td>\n",
        "</tr>\n",
        "\n",
        "</table>"
      ]
    },
    {
      "cell_type": "code",
      "metadata": {
        "id": "Glte3Jz9Dxr-",
        "outputId": "e126588a-0bc1-4b42-f16d-58e6400e7696",
        "colab": {
          "base_uri": "https://localhost:8080/",
          "height": 173
        }
      },
      "source": [
        "df.select_dtypes(include= 'object').describe()"
      ],
      "execution_count": null,
      "outputs": [
        {
          "output_type": "execute_result",
          "data": {
            "text/html": [
              "<div>\n",
              "<style scoped>\n",
              "    .dataframe tbody tr th:only-of-type {\n",
              "        vertical-align: middle;\n",
              "    }\n",
              "\n",
              "    .dataframe tbody tr th {\n",
              "        vertical-align: top;\n",
              "    }\n",
              "\n",
              "    .dataframe thead th {\n",
              "        text-align: right;\n",
              "    }\n",
              "</style>\n",
              "<table border=\"1\" class=\"dataframe\">\n",
              "  <thead>\n",
              "    <tr style=\"text-align: right;\">\n",
              "      <th></th>\n",
              "      <th>Month</th>\n",
              "      <th>Seasons</th>\n",
              "    </tr>\n",
              "  </thead>\n",
              "  <tbody>\n",
              "    <tr>\n",
              "      <th>count</th>\n",
              "      <td>12</td>\n",
              "      <td>12</td>\n",
              "    </tr>\n",
              "    <tr>\n",
              "      <th>unique</th>\n",
              "      <td>12</td>\n",
              "      <td>4</td>\n",
              "    </tr>\n",
              "    <tr>\n",
              "      <th>top</th>\n",
              "      <td>Sep</td>\n",
              "      <td>Summer</td>\n",
              "    </tr>\n",
              "    <tr>\n",
              "      <th>freq</th>\n",
              "      <td>1</td>\n",
              "      <td>3</td>\n",
              "    </tr>\n",
              "  </tbody>\n",
              "</table>\n",
              "</div>"
            ],
            "text/plain": [
              "       Month Seasons\n",
              "count     12      12\n",
              "unique    12       4\n",
              "top      Sep  Summer\n",
              "freq       1       3"
            ]
          },
          "metadata": {
            "tags": []
          },
          "execution_count": 86
        }
      ]
    },
    {
      "cell_type": "markdown",
      "metadata": {
        "id": "IWazj_nKDxsD"
      },
      "source": [
        "<table align=\"left\" width=100%>\n",
        "    <tr>\n",
        "        <td width=\"6%\">\n",
        "            <img src=\"question_icon.png\">\n",
        "        </td>\n",
        "        <td>\n",
        "            <div align=\"left\">\n",
        "                <font color=\"#21618C\" size=4px>\n",
        "                    <b> 15. Find the kurtosis for each subject\n",
        "                    </b>\n",
        "                </font>\n",
        "            </div>\n",
        "        </td>\n",
        "    </tr>\n",
        "</table>"
      ]
    },
    {
      "cell_type": "markdown",
      "metadata": {
        "id": "XwFLoK6ODxsE"
      },
      "source": [
        "**Use the dataframe given below:**\n",
        "   \n",
        "<table>\n",
        "<tr>\n",
        "<th>Name</th>\n",
        "<th>Maths</th>\n",
        "<th>Science</th>\n",
        "<th>English</th>\n",
        "</tr>\n",
        "<tr>\n",
        "<td>Emma</td>\n",
        "<td>56</td>\n",
        "<td>89</td>\n",
        "<td>89</td>\n",
        "</tr>\n",
        "<tr>\n",
        "<td>Mia</td>\n",
        "<td>78</td>\n",
        "<td>87</td>\n",
        "<td>89</td>\n",
        "</tr>\n",
        "<tr>\n",
        "<td>Sophia</td>\n",
        "<td>78</td>\n",
        "<td>78</td>\n",
        "<td>76</td>\n",
        "</tr>\n",
        "<tr>\n",
        "<td>James</td>\n",
        "<td>67</td>\n",
        "<td>89</td>\n",
        "<td>78</td>\n",
        "</tr>\n",
        "<td>John</td>\n",
        "<td>88</td>\n",
        "<td>78</td>\n",
        "<td>87</td>\n",
        "</tr>\n",
        "   \n",
        "</table>"
      ]
    },
    {
      "cell_type": "code",
      "metadata": {
        "id": "z8kHm3e_DxsE",
        "outputId": "db1e91eb-ba6f-4f4a-d1f8-6f4c1dcbbe39",
        "colab": {
          "base_uri": "https://localhost:8080/",
          "height": 195
        }
      },
      "source": [
        "Name= ['Emma', 'Mia', 'Sophia', 'James', 'John']\n",
        "maths= [56, 78, 78, 67, 88]\n",
        "science= [89, 87, 78, 89,  78]\n",
        "english= [89, 89, 76, 78, 87]\n",
        "col= ['Name', 'maths', 'science', 'english']\n",
        "dff= pd.DataFrame(list(zip(Name, maths, science, english)), columns= col)\n",
        "dff"
      ],
      "execution_count": 83,
      "outputs": [
        {
          "output_type": "execute_result",
          "data": {
            "text/html": [
              "<div>\n",
              "<style scoped>\n",
              "    .dataframe tbody tr th:only-of-type {\n",
              "        vertical-align: middle;\n",
              "    }\n",
              "\n",
              "    .dataframe tbody tr th {\n",
              "        vertical-align: top;\n",
              "    }\n",
              "\n",
              "    .dataframe thead th {\n",
              "        text-align: right;\n",
              "    }\n",
              "</style>\n",
              "<table border=\"1\" class=\"dataframe\">\n",
              "  <thead>\n",
              "    <tr style=\"text-align: right;\">\n",
              "      <th></th>\n",
              "      <th>Name</th>\n",
              "      <th>maths</th>\n",
              "      <th>science</th>\n",
              "      <th>english</th>\n",
              "    </tr>\n",
              "  </thead>\n",
              "  <tbody>\n",
              "    <tr>\n",
              "      <th>0</th>\n",
              "      <td>Emma</td>\n",
              "      <td>56</td>\n",
              "      <td>89</td>\n",
              "      <td>89</td>\n",
              "    </tr>\n",
              "    <tr>\n",
              "      <th>1</th>\n",
              "      <td>Mia</td>\n",
              "      <td>78</td>\n",
              "      <td>87</td>\n",
              "      <td>89</td>\n",
              "    </tr>\n",
              "    <tr>\n",
              "      <th>2</th>\n",
              "      <td>Sophia</td>\n",
              "      <td>78</td>\n",
              "      <td>78</td>\n",
              "      <td>76</td>\n",
              "    </tr>\n",
              "    <tr>\n",
              "      <th>3</th>\n",
              "      <td>James</td>\n",
              "      <td>67</td>\n",
              "      <td>89</td>\n",
              "      <td>78</td>\n",
              "    </tr>\n",
              "    <tr>\n",
              "      <th>4</th>\n",
              "      <td>John</td>\n",
              "      <td>88</td>\n",
              "      <td>78</td>\n",
              "      <td>87</td>\n",
              "    </tr>\n",
              "  </tbody>\n",
              "</table>\n",
              "</div>"
            ],
            "text/plain": [
              "     Name  maths  science  english\n",
              "0    Emma     56       89       89\n",
              "1     Mia     78       87       89\n",
              "2  Sophia     78       78       76\n",
              "3   James     67       89       78\n",
              "4    John     88       78       87"
            ]
          },
          "metadata": {
            "tags": []
          },
          "execution_count": 83
        }
      ]
    },
    {
      "cell_type": "code",
      "metadata": {
        "id": "yZ81FUws5bJO",
        "outputId": "95c65df8-f0b5-4955-cd19-35bbc189e1e5",
        "colab": {
          "base_uri": "https://localhost:8080/",
          "height": 67
        }
      },
      "source": [
        "from scipy.stats import kurtosis\n",
        "X,Y,Z= dff['maths'], dff['science'], dff['english']\n",
        "print(kurtosis(x))\n",
        "print(kurtosis(y))\n",
        "print(kurtosis(z))"
      ],
      "execution_count": 97,
      "outputs": [
        {
          "output_type": "stream",
          "text": [
            "-1.0548996347600086\n",
            "-1.808082933535336\n",
            "-1.7309703126090523\n"
          ],
          "name": "stdout"
        }
      ]
    },
    {
      "cell_type": "markdown",
      "metadata": {
        "id": "q4V5u-XcocV2"
      },
      "source": [
        "All of the kurtosis are negatively ifluenced. Somewhat resembling Platykurtic curves. Lets look at the curves and confirm the same"
      ]
    },
    {
      "cell_type": "code",
      "metadata": {
        "id": "N6QsoDmpoyU6",
        "outputId": "63b7a702-9d73-439e-964f-19297b631349",
        "colab": {
          "base_uri": "https://localhost:8080/",
          "height": 282
        }
      },
      "source": [
        "fig= plt.figure()\n",
        "ax1= fig.add_subplot(2,2,1)\n",
        "ax2= fig.add_subplot(2,2,2)\n",
        "ax3= fig.add_subplot(2,2,3)\n",
        "ax1.scatter(x=dff['Name'], y= X)\n",
        "ax2.scatter(x=dff['Name'], y= Y)\n",
        "ax3.scatter(x=dff['Name'], y= Z)"
      ],
      "execution_count": 100,
      "outputs": [
        {
          "output_type": "execute_result",
          "data": {
            "text/plain": [
              "<matplotlib.collections.PathCollection at 0x7f06b63ef588>"
            ]
          },
          "metadata": {
            "tags": []
          },
          "execution_count": 100
        },
        {
          "output_type": "display_data",
          "data": {
            "image/png": "[encoded data removed]",
            "text/plain": [
              "<Figure size 432x288 with 3 Axes>"
            ]
          },
          "metadata": {
            "tags": [],
            "needs_background": "light"
          }
        }
      ]
    },
    {
      "cell_type": "markdown",
      "metadata": {
        "id": "j1rk_EMkDxsI"
      },
      "source": [
        "<a id='merge'></a>\n",
        "## 5. Merge, Join, Concatenate"
      ]
    },
    {
      "cell_type": "markdown",
      "metadata": {
        "id": "w4r7I8KXDxsJ"
      },
      "source": [
        "<table align=\"left\" width=100%>\n",
        "    <tr>\n",
        "        <td width=\"6%\">\n",
        "            <img src=\"question_icon.png\">\n",
        "        </td>\n",
        "        <td>\n",
        "            <div align=\"left\">\n",
        "                <font color=\"#21618C\" size=4px>\n",
        "                    <b> 16. Merge the given dataframes on the column 'Brand'\n",
        "                    </b>\n",
        "                </font>\n",
        "            </div>\n",
        "        </td>\n",
        "    </tr>\n",
        "</table>"
      ]
    },
    {
      "cell_type": "markdown",
      "metadata": {
        "id": "UjQx8IhdDxsK"
      },
      "source": [
        "**Use the dataframe given below:**\n",
        "   \n",
        "<table>\n",
        "<tr>\n",
        "<th>ID</th>\n",
        "<th>Brand</th>\n",
        "<th>Product</th>\n",
        "</tr>\n",
        "<tr>\n",
        "<td>101</td>\n",
        "<td>Apple</td>\n",
        "<td>iPhone</td>\n",
        "</tr>\n",
        "<tr>\n",
        "<td>102</td>\n",
        "<td>Canon</td>\n",
        "<td>DSLR</td>\n",
        "</tr>\n",
        "<tr>\n",
        "<td>103</td>\n",
        "<td>Samsung</td>\n",
        "<td>SmartPhone</td>\n",
        "</tr>\n",
        "<tr>\n",
        "<td>104</td>\n",
        "<td>Nikon</td>\n",
        "<td>DSLR</td>\n",
        "</tr>\n",
        "<td>105</td>\n",
        "<td>Sony</td>\n",
        "<td>SmartTV</td>\n",
        "</tr>\n",
        "   \n",
        "</table><br>\n",
        "\n",
        "<table>\n",
        "<tr>\n",
        "    <th>ID</th>\n",
        "<th>Brand</th>\n",
        "<th>Quantity_sold</th>\n",
        "</tr>\n",
        "<tr>\n",
        "    <td>101</td>\n",
        "<td>Apple</td>\n",
        "<td>234</td>\n",
        "</tr>\n",
        "<tr>\n",
        "    <td>102</td>\n",
        "<td>Canon</td>\n",
        "<td>344</td>\n",
        "</tr>\n",
        "<tr>\n",
        "    <td>104</td>\n",
        "<td>Samsung</td>\n",
        "<td>345</td>\n",
        "</tr>\n",
        "<tr>\n",
        "    <td>103</td>\n",
        "<td>Nikon</td>\n",
        "<td>262</td>\n",
        "</tr>\n",
        "    <td>105</td>\n",
        "<td>Sony</td>\n",
        "<td>356</td>\n",
        "</tr>\n",
        "</table>"
      ]
    },
    {
      "cell_type": "code",
      "metadata": {
        "id": "XgTvTEaNDxsL"
      },
      "source": [
        "brand1= ['Apple', 'Canon', 'Samsung', 'Nikon', 'Sony']\n",
        "id1= [i for i in range(101, 106)]\n",
        "Prod= ['iPhone', 'DSLR', 'SmartPhone', 'DSLR', 'SmartTV']\n",
        "id2= [101, 102, 104, 103, 105]\n",
        "quant= [234, 344, 345, 262, 356]\n",
        "col= ['ID', 'Brand', 'Product']\n",
        "col2= ['ID', 'Brand', 'Quantity_sold']\n",
        "a= pd.DataFrame(list(zip(id1, brand1, Prod)), columns= col)\n",
        "b= pd.DataFrame(list(zip(id2, brand1, quant)), columns= col2)"
      ],
      "execution_count": null,
      "outputs": []
    },
    {
      "cell_type": "code",
      "metadata": {
        "id": "8EWv4ltcaTiD"
      },
      "source": [
        "a= pd.DataFrame(list(zip(id1, brand1, Prod)), columns= col)\n",
        "b= pd.DataFrame(list(zip(id2, brand1, quant)), columns= col2)"
      ],
      "execution_count": null,
      "outputs": []
    },
    {
      "cell_type": "code",
      "metadata": {
        "id": "fZ3DsVgoACqR",
        "outputId": "435d75c3-ae1b-4ebd-e54e-8a122b09f616",
        "colab": {
          "base_uri": "https://localhost:8080/",
          "height": 195
        }
      },
      "source": [
        "a"
      ],
      "execution_count": null,
      "outputs": [
        {
          "output_type": "execute_result",
          "data": {
            "text/html": [
              "<div>\n",
              "<style scoped>\n",
              "    .dataframe tbody tr th:only-of-type {\n",
              "        vertical-align: middle;\n",
              "    }\n",
              "\n",
              "    .dataframe tbody tr th {\n",
              "        vertical-align: top;\n",
              "    }\n",
              "\n",
              "    .dataframe thead th {\n",
              "        text-align: right;\n",
              "    }\n",
              "</style>\n",
              "<table border=\"1\" class=\"dataframe\">\n",
              "  <thead>\n",
              "    <tr style=\"text-align: right;\">\n",
              "      <th></th>\n",
              "      <th>ID</th>\n",
              "      <th>Brand</th>\n",
              "      <th>Product</th>\n",
              "    </tr>\n",
              "  </thead>\n",
              "  <tbody>\n",
              "    <tr>\n",
              "      <th>0</th>\n",
              "      <td>101</td>\n",
              "      <td>Apple</td>\n",
              "      <td>iPhone</td>\n",
              "    </tr>\n",
              "    <tr>\n",
              "      <th>1</th>\n",
              "      <td>102</td>\n",
              "      <td>Canon</td>\n",
              "      <td>DSLR</td>\n",
              "    </tr>\n",
              "    <tr>\n",
              "      <th>2</th>\n",
              "      <td>103</td>\n",
              "      <td>Samsung</td>\n",
              "      <td>SmartPhone</td>\n",
              "    </tr>\n",
              "    <tr>\n",
              "      <th>3</th>\n",
              "      <td>104</td>\n",
              "      <td>Nikon</td>\n",
              "      <td>DSLR</td>\n",
              "    </tr>\n",
              "    <tr>\n",
              "      <th>4</th>\n",
              "      <td>105</td>\n",
              "      <td>Sony</td>\n",
              "      <td>SmartTV</td>\n",
              "    </tr>\n",
              "  </tbody>\n",
              "</table>\n",
              "</div>"
            ],
            "text/plain": [
              "    ID    Brand     Product\n",
              "0  101    Apple      iPhone\n",
              "1  102    Canon        DSLR\n",
              "2  103  Samsung  SmartPhone\n",
              "3  104    Nikon        DSLR\n",
              "4  105     Sony     SmartTV"
            ]
          },
          "metadata": {
            "tags": []
          },
          "execution_count": 3
        }
      ]
    },
    {
      "cell_type": "code",
      "metadata": {
        "id": "DnUGVeD6ACyb",
        "outputId": "b0b32806-64fc-4658-c20a-5dd8fd97c465",
        "colab": {
          "base_uri": "https://localhost:8080/",
          "height": 195
        }
      },
      "source": [
        "b"
      ],
      "execution_count": null,
      "outputs": [
        {
          "output_type": "execute_result",
          "data": {
            "text/html": [
              "<div>\n",
              "<style scoped>\n",
              "    .dataframe tbody tr th:only-of-type {\n",
              "        vertical-align: middle;\n",
              "    }\n",
              "\n",
              "    .dataframe tbody tr th {\n",
              "        vertical-align: top;\n",
              "    }\n",
              "\n",
              "    .dataframe thead th {\n",
              "        text-align: right;\n",
              "    }\n",
              "</style>\n",
              "<table border=\"1\" class=\"dataframe\">\n",
              "  <thead>\n",
              "    <tr style=\"text-align: right;\">\n",
              "      <th></th>\n",
              "      <th>ID</th>\n",
              "      <th>Brand</th>\n",
              "      <th>Quantity_sold</th>\n",
              "    </tr>\n",
              "  </thead>\n",
              "  <tbody>\n",
              "    <tr>\n",
              "      <th>0</th>\n",
              "      <td>101</td>\n",
              "      <td>Apple</td>\n",
              "      <td>234</td>\n",
              "    </tr>\n",
              "    <tr>\n",
              "      <th>1</th>\n",
              "      <td>102</td>\n",
              "      <td>Canon</td>\n",
              "      <td>344</td>\n",
              "    </tr>\n",
              "    <tr>\n",
              "      <th>2</th>\n",
              "      <td>104</td>\n",
              "      <td>Samsung</td>\n",
              "      <td>345</td>\n",
              "    </tr>\n",
              "    <tr>\n",
              "      <th>3</th>\n",
              "      <td>103</td>\n",
              "      <td>Nikon</td>\n",
              "      <td>262</td>\n",
              "    </tr>\n",
              "    <tr>\n",
              "      <th>4</th>\n",
              "      <td>105</td>\n",
              "      <td>Sony</td>\n",
              "      <td>356</td>\n",
              "    </tr>\n",
              "  </tbody>\n",
              "</table>\n",
              "</div>"
            ],
            "text/plain": [
              "    ID    Brand  Quantity_sold\n",
              "0  101    Apple            234\n",
              "1  102    Canon            344\n",
              "2  104  Samsung            345\n",
              "3  103    Nikon            262\n",
              "4  105     Sony            356"
            ]
          },
          "metadata": {
            "tags": []
          },
          "execution_count": 4
        }
      ]
    },
    {
      "cell_type": "code",
      "metadata": {
        "id": "1BHwwENdAC5x",
        "outputId": "f2cf29f3-b51a-417a-9488-788d1dbac6b8",
        "colab": {
          "base_uri": "https://localhost:8080/",
          "height": 204
        }
      },
      "source": [
        "zf= pd.merge(a,b, left_on=  'Brand', right_on= 'Brand')\n",
        "zf.drop(columns= 'ID_y', inplace= True)\n",
        "zf"
      ],
      "execution_count": null,
      "outputs": [
        {
          "output_type": "execute_result",
          "data": {
            "text/html": [
              "<div>\n",
              "<style scoped>\n",
              "    .dataframe tbody tr th:only-of-type {\n",
              "        vertical-align: middle;\n",
              "    }\n",
              "\n",
              "    .dataframe tbody tr th {\n",
              "        vertical-align: top;\n",
              "    }\n",
              "\n",
              "    .dataframe thead th {\n",
              "        text-align: right;\n",
              "    }\n",
              "</style>\n",
              "<table border=\"1\" class=\"dataframe\">\n",
              "  <thead>\n",
              "    <tr style=\"text-align: right;\">\n",
              "      <th></th>\n",
              "      <th>ID_x</th>\n",
              "      <th>Brand</th>\n",
              "      <th>Product</th>\n",
              "      <th>Quantity_sold</th>\n",
              "    </tr>\n",
              "  </thead>\n",
              "  <tbody>\n",
              "    <tr>\n",
              "      <th>0</th>\n",
              "      <td>101</td>\n",
              "      <td>Apple</td>\n",
              "      <td>iPhone</td>\n",
              "      <td>234</td>\n",
              "    </tr>\n",
              "    <tr>\n",
              "      <th>1</th>\n",
              "      <td>102</td>\n",
              "      <td>Canon</td>\n",
              "      <td>DSLR</td>\n",
              "      <td>344</td>\n",
              "    </tr>\n",
              "    <tr>\n",
              "      <th>2</th>\n",
              "      <td>103</td>\n",
              "      <td>Samsung</td>\n",
              "      <td>SmartPhone</td>\n",
              "      <td>345</td>\n",
              "    </tr>\n",
              "    <tr>\n",
              "      <th>3</th>\n",
              "      <td>104</td>\n",
              "      <td>Nikon</td>\n",
              "      <td>DSLR</td>\n",
              "      <td>262</td>\n",
              "    </tr>\n",
              "    <tr>\n",
              "      <th>4</th>\n",
              "      <td>105</td>\n",
              "      <td>Sony</td>\n",
              "      <td>SmartTV</td>\n",
              "      <td>356</td>\n",
              "    </tr>\n",
              "  </tbody>\n",
              "</table>\n",
              "</div>"
            ],
            "text/plain": [
              "   ID_x    Brand     Product  Quantity_sold\n",
              "0   101    Apple      iPhone            234\n",
              "1   102    Canon        DSLR            344\n",
              "2   103  Samsung  SmartPhone            345\n",
              "3   104    Nikon        DSLR            262\n",
              "4   105     Sony     SmartTV            356"
            ]
          },
          "metadata": {
            "tags": []
          },
          "execution_count": 121
        }
      ]
    },
    {
      "cell_type": "markdown",
      "metadata": {
        "id": "hwbn2T5qDxsP"
      },
      "source": [
        "<table align=\"left\" width=100%>\n",
        "    <tr>\n",
        "        <td width=\"6%\">\n",
        "            <img src=\"question_icon.png\">\n",
        "        </td>\n",
        "        <td>\n",
        "            <div align=\"left\">\n",
        "                <font color=\"#21618C\" size=4px>\n",
        "                    <b> 17. Using the dataframes created in question 16, merge the given dataframes by 'ID' and 'Brand'\n",
        "                    </b>\n",
        "                </font>\n",
        "            </div>\n",
        "        </td>\n",
        "    </tr>\n",
        "</table>"
      ]
    },
    {
      "cell_type": "code",
      "metadata": {
        "id": "zqOgFdO0DxsQ",
        "outputId": "3802e21d-5703-49f9-c924-61109afda4b6",
        "colab": {
          "base_uri": "https://localhost:8080/",
          "height": 254
        }
      },
      "source": [
        "#SInce the type of join is not specified, i am doing an outer join to include every information from both the data frames. \n",
        "\n",
        "a.merge(b, on= ['ID', 'Brand'], how= 'outer')"
      ],
      "execution_count": 79,
      "outputs": [
        {
          "output_type": "execute_result",
          "data": {
            "text/html": [
              "<div>\n",
              "<style scoped>\n",
              "    .dataframe tbody tr th:only-of-type {\n",
              "        vertical-align: middle;\n",
              "    }\n",
              "\n",
              "    .dataframe tbody tr th {\n",
              "        vertical-align: top;\n",
              "    }\n",
              "\n",
              "    .dataframe thead th {\n",
              "        text-align: right;\n",
              "    }\n",
              "</style>\n",
              "<table border=\"1\" class=\"dataframe\">\n",
              "  <thead>\n",
              "    <tr style=\"text-align: right;\">\n",
              "      <th></th>\n",
              "      <th>ID</th>\n",
              "      <th>Brand</th>\n",
              "      <th>Product</th>\n",
              "      <th>Quantity_sold</th>\n",
              "    </tr>\n",
              "  </thead>\n",
              "  <tbody>\n",
              "    <tr>\n",
              "      <th>0</th>\n",
              "      <td>101</td>\n",
              "      <td>Apple</td>\n",
              "      <td>iPhone</td>\n",
              "      <td>234.0</td>\n",
              "    </tr>\n",
              "    <tr>\n",
              "      <th>1</th>\n",
              "      <td>102</td>\n",
              "      <td>Canon</td>\n",
              "      <td>DSLR</td>\n",
              "      <td>344.0</td>\n",
              "    </tr>\n",
              "    <tr>\n",
              "      <th>2</th>\n",
              "      <td>103</td>\n",
              "      <td>Samsung</td>\n",
              "      <td>SmartPhone</td>\n",
              "      <td>NaN</td>\n",
              "    </tr>\n",
              "    <tr>\n",
              "      <th>3</th>\n",
              "      <td>104</td>\n",
              "      <td>Nikon</td>\n",
              "      <td>DSLR</td>\n",
              "      <td>NaN</td>\n",
              "    </tr>\n",
              "    <tr>\n",
              "      <th>4</th>\n",
              "      <td>105</td>\n",
              "      <td>Sony</td>\n",
              "      <td>SmartTV</td>\n",
              "      <td>356.0</td>\n",
              "    </tr>\n",
              "    <tr>\n",
              "      <th>5</th>\n",
              "      <td>104</td>\n",
              "      <td>Samsung</td>\n",
              "      <td>NaN</td>\n",
              "      <td>345.0</td>\n",
              "    </tr>\n",
              "    <tr>\n",
              "      <th>6</th>\n",
              "      <td>103</td>\n",
              "      <td>Nikon</td>\n",
              "      <td>NaN</td>\n",
              "      <td>262.0</td>\n",
              "    </tr>\n",
              "  </tbody>\n",
              "</table>\n",
              "</div>"
            ],
            "text/plain": [
              "    ID    Brand     Product  Quantity_sold\n",
              "0  101    Apple      iPhone          234.0\n",
              "1  102    Canon        DSLR          344.0\n",
              "2  103  Samsung  SmartPhone            NaN\n",
              "3  104    Nikon        DSLR            NaN\n",
              "4  105     Sony     SmartTV          356.0\n",
              "5  104  Samsung         NaN          345.0\n",
              "6  103    Nikon         NaN          262.0"
            ]
          },
          "metadata": {
            "tags": []
          },
          "execution_count": 79
        }
      ]
    },
    {
      "cell_type": "markdown",
      "metadata": {
        "id": "EFIzTRAvDxsU"
      },
      "source": [
        "<table align=\"left\" width=100%>\n",
        "    <tr>\n",
        "        <td width=\"6%\">\n",
        "            <img src=\"question_icon.png\">\n",
        "        </td>\n",
        "        <td>\n",
        "            <div align=\"left\">\n",
        "                <font color=\"#21618C\" size=4px>\n",
        "                    <b> 18. Using the dataframes created in question 16, perform left join to combine values in the columns 'Brand' and 'ID'\n",
        "                    </b>\n",
        "                </font>\n",
        "            </div>\n",
        "        </td>\n",
        "    </tr>\n",
        "</table>"
      ]
    },
    {
      "cell_type": "code",
      "metadata": {
        "id": "6IVX0yGJDxsV",
        "outputId": "1c744ce0-87f3-46d0-ac80-c3efd04117cb",
        "colab": {
          "base_uri": "https://localhost:8080/",
          "height": 195
        }
      },
      "source": [
        "a.merge(b, on= ['ID', \"Brand\"], left_index=True, right_index=True, how= 'left')"
      ],
      "execution_count": 81,
      "outputs": [
        {
          "output_type": "execute_result",
          "data": {
            "text/html": [
              "<div>\n",
              "<style scoped>\n",
              "    .dataframe tbody tr th:only-of-type {\n",
              "        vertical-align: middle;\n",
              "    }\n",
              "\n",
              "    .dataframe tbody tr th {\n",
              "        vertical-align: top;\n",
              "    }\n",
              "\n",
              "    .dataframe thead th {\n",
              "        text-align: right;\n",
              "    }\n",
              "</style>\n",
              "<table border=\"1\" class=\"dataframe\">\n",
              "  <thead>\n",
              "    <tr style=\"text-align: right;\">\n",
              "      <th></th>\n",
              "      <th>ID</th>\n",
              "      <th>Brand</th>\n",
              "      <th>Product</th>\n",
              "      <th>Quantity_sold</th>\n",
              "    </tr>\n",
              "  </thead>\n",
              "  <tbody>\n",
              "    <tr>\n",
              "      <th>0</th>\n",
              "      <td>101</td>\n",
              "      <td>Apple</td>\n",
              "      <td>iPhone</td>\n",
              "      <td>234</td>\n",
              "    </tr>\n",
              "    <tr>\n",
              "      <th>1</th>\n",
              "      <td>102</td>\n",
              "      <td>Canon</td>\n",
              "      <td>DSLR</td>\n",
              "      <td>344</td>\n",
              "    </tr>\n",
              "    <tr>\n",
              "      <th>2</th>\n",
              "      <td>103</td>\n",
              "      <td>Samsung</td>\n",
              "      <td>SmartPhone</td>\n",
              "      <td>345</td>\n",
              "    </tr>\n",
              "    <tr>\n",
              "      <th>3</th>\n",
              "      <td>104</td>\n",
              "      <td>Nikon</td>\n",
              "      <td>DSLR</td>\n",
              "      <td>262</td>\n",
              "    </tr>\n",
              "    <tr>\n",
              "      <th>4</th>\n",
              "      <td>105</td>\n",
              "      <td>Sony</td>\n",
              "      <td>SmartTV</td>\n",
              "      <td>356</td>\n",
              "    </tr>\n",
              "  </tbody>\n",
              "</table>\n",
              "</div>"
            ],
            "text/plain": [
              "    ID    Brand     Product  Quantity_sold\n",
              "0  101    Apple      iPhone            234\n",
              "1  102    Canon        DSLR            344\n",
              "2  103  Samsung  SmartPhone            345\n",
              "3  104    Nikon        DSLR            262\n",
              "4  105     Sony     SmartTV            356"
            ]
          },
          "metadata": {
            "tags": []
          },
          "execution_count": 81
        }
      ]
    },
    {
      "cell_type": "markdown",
      "metadata": {
        "id": "QU3tG1QUDxsY"
      },
      "source": [
        "<table align=\"left\" width=100%>\n",
        "    <tr>\n",
        "        <td width=\"6%\">\n",
        "            <img src=\"question_icon.png\">\n",
        "        </td>\n",
        "        <td>\n",
        "            <div align=\"left\">\n",
        "                <font color=\"#21618C\" size=4px>\n",
        "                    <b> 19. Using the dataframes created in question 16, perform outer join to combine values in the columns 'Brand' and 'ID'\n",
        "                    </b>\n",
        "                </font>\n",
        "            </div>\n",
        "        </td>\n",
        "    </tr>\n",
        "</table>"
      ]
    },
    {
      "cell_type": "code",
      "metadata": {
        "id": "RFaQK6N5MDzI",
        "outputId": "e757eda1-c001-4679-9823-c9ba3cd6cf52",
        "colab": {
          "base_uri": "https://localhost:8080/",
          "height": 252
        }
      },
      "source": [
        "print(a)\n",
        "print(b)"
      ],
      "execution_count": null,
      "outputs": [
        {
          "output_type": "stream",
          "text": [
            "       Brand     Product\n",
            "ID                      \n",
            "101    Apple      iPhone\n",
            "102    Canon        DSLR\n",
            "103  Samsung  SmartPhone\n",
            "104    Nikon        DSLR\n",
            "105     Sony     SmartTV\n",
            "       Brand  Quantity_sold\n",
            "ID                         \n",
            "101    Apple            234\n",
            "102    Canon            344\n",
            "104  Samsung            345\n",
            "103    Nikon            262\n",
            "105     Sony            356\n"
          ],
          "name": "stdout"
        }
      ]
    },
    {
      "cell_type": "code",
      "metadata": {
        "id": "16CYDkoIYiAf"
      },
      "source": [
        "aa= a\n",
        "bb= b\n",
        "aa.set_index('ID', inplace=True)\n",
        "bb.set_index('ID', inplace=True)"
      ],
      "execution_count": null,
      "outputs": []
    },
    {
      "cell_type": "code",
      "metadata": {
        "id": "PKSNZLS2YiYt",
        "outputId": "addcc534-1869-4de9-e5ed-8dd2ff3ecae7",
        "colab": {
          "base_uri": "https://localhost:8080/",
          "height": 195
        }
      },
      "source": [
        "pd.merge(aa, bb, how= 'outer')"
      ],
      "execution_count": null,
      "outputs": [
        {
          "output_type": "execute_result",
          "data": {
            "text/html": [
              "<div>\n",
              "<style scoped>\n",
              "    .dataframe tbody tr th:only-of-type {\n",
              "        vertical-align: middle;\n",
              "    }\n",
              "\n",
              "    .dataframe tbody tr th {\n",
              "        vertical-align: top;\n",
              "    }\n",
              "\n",
              "    .dataframe thead th {\n",
              "        text-align: right;\n",
              "    }\n",
              "</style>\n",
              "<table border=\"1\" class=\"dataframe\">\n",
              "  <thead>\n",
              "    <tr style=\"text-align: right;\">\n",
              "      <th></th>\n",
              "      <th>Brand</th>\n",
              "      <th>Product</th>\n",
              "      <th>Quantity_sold</th>\n",
              "    </tr>\n",
              "  </thead>\n",
              "  <tbody>\n",
              "    <tr>\n",
              "      <th>0</th>\n",
              "      <td>Apple</td>\n",
              "      <td>iPhone</td>\n",
              "      <td>234</td>\n",
              "    </tr>\n",
              "    <tr>\n",
              "      <th>1</th>\n",
              "      <td>Canon</td>\n",
              "      <td>DSLR</td>\n",
              "      <td>344</td>\n",
              "    </tr>\n",
              "    <tr>\n",
              "      <th>2</th>\n",
              "      <td>Samsung</td>\n",
              "      <td>SmartPhone</td>\n",
              "      <td>345</td>\n",
              "    </tr>\n",
              "    <tr>\n",
              "      <th>3</th>\n",
              "      <td>Nikon</td>\n",
              "      <td>DSLR</td>\n",
              "      <td>262</td>\n",
              "    </tr>\n",
              "    <tr>\n",
              "      <th>4</th>\n",
              "      <td>Sony</td>\n",
              "      <td>SmartTV</td>\n",
              "      <td>356</td>\n",
              "    </tr>\n",
              "  </tbody>\n",
              "</table>\n",
              "</div>"
            ],
            "text/plain": [
              "     Brand     Product  Quantity_sold\n",
              "0    Apple      iPhone            234\n",
              "1    Canon        DSLR            344\n",
              "2  Samsung  SmartPhone            345\n",
              "3    Nikon        DSLR            262\n",
              "4     Sony     SmartTV            356"
            ]
          },
          "metadata": {
            "tags": []
          },
          "execution_count": 16
        }
      ]
    },
    {
      "cell_type": "markdown",
      "metadata": {
        "id": "hyYqjd1QDxsd"
      },
      "source": [
        "<table align=\"left\" width=100%>\n",
        "    <tr>\n",
        "        <td width=\"6%\">\n",
        "            <img src=\"question_icon.png\">\n",
        "        </td>\n",
        "        <td>\n",
        "            <div align=\"left\">\n",
        "                <font color=\"#21618C\" size=4px>\n",
        "                    <b> 20. Concatenate rows of the given dataframes and assign the store as its key \n",
        "                    </b>\n",
        "                </font>\n",
        "            </div>\n",
        "        </td>\n",
        "    </tr>\n",
        "</table>"
      ]
    },
    {
      "cell_type": "markdown",
      "metadata": {
        "id": "qRUkCJ73Dxsd"
      },
      "source": [
        "                           Products in Store_A:\n",
        "<table>\n",
        "    <tr>\n",
        "        <th>ID</th>\n",
        "        <th>Brand</th>\n",
        "        <th>Product</th>\n",
        "    </tr>\n",
        "    <tr>\n",
        "        <td>101</td>\n",
        "        <td>Apple</td>\n",
        "        <td>iPhone</td>\n",
        "        </tr>\n",
        "    <tr>\n",
        "        <td>102</td>\n",
        "        <td>Canon</td>\n",
        "        <td>DSLR</td>\n",
        "    </tr>\n",
        "    <tr>\n",
        "        <td>103</td>\n",
        "        <td>Samsung</td>\n",
        "        <td>SmartPhone</td>\n",
        "    </tr>\n",
        "    <tr>\n",
        "        <td>104</td>\n",
        "        <td>Nikon</td>\n",
        "        <td>DSLR</td>\n",
        "  </tr>\n",
        "      <td>105</td>\n",
        "      <td>Sony</td>\n",
        "      <td>SmartTV</td>\n",
        "  </tr> \n",
        "</table>"
      ]
    },
    {
      "cell_type": "markdown",
      "metadata": {
        "id": "9-l6ECLkDxse"
      },
      "source": [
        "                          Products in Store_B:\n",
        "<table>\n",
        "    <tr>\n",
        "        <th>ID</th>\n",
        "        <th>Brand</th>\n",
        "        <th>Product</th>\n",
        "    </tr>\n",
        "    <tr>\n",
        "        <td>103</td>\n",
        "        <td>Apple</td>\n",
        "        <td>iPhone</td>\n",
        "        </tr>\n",
        "    <tr>\n",
        "        <td>104</td>\n",
        "        <td>Apple</td>\n",
        "        <td>iPod</td>\n",
        "    </tr>\n",
        "    <tr>\n",
        "        <td>104</td>\n",
        "        <td>Samsung</td>\n",
        "        <td>SmartPhone</td>\n",
        "    </tr>\n",
        "    <tr>\n",
        "        <td>107</td>\n",
        "        <td>Canon</td>\n",
        "        <td>DSLR</td>\n",
        "  </tr>\n",
        "      <td>101</td>\n",
        "      <td>Sony</td>\n",
        "      <td>SmartTV</td>\n",
        "  </tr> \n",
        "</table>"
      ]
    },
    {
      "cell_type": "code",
      "metadata": {
        "id": "S35aQB92Dxsf",
        "outputId": "806e31aa-509c-4c79-acdd-6224dda75a2b",
        "colab": {
          "base_uri": "https://localhost:8080/",
          "height": 204
        }
      },
      "source": [
        "store_a= pd.DataFrame({'store': ['A' for i in range(5)], 'ID': (101,102,103,104,105), 'Brand': ('Apple', 'Canon', 'Samsung', 'Nikon', 'Sony'), 'Product': ('iPhone', 'DSLR', 'SmartPhone', 'DSLR', 'SmartTV')})\n",
        "store_a"
      ],
      "execution_count": null,
      "outputs": [
        {
          "output_type": "execute_result",
          "data": {
            "text/html": [
              "<div>\n",
              "<style scoped>\n",
              "    .dataframe tbody tr th:only-of-type {\n",
              "        vertical-align: middle;\n",
              "    }\n",
              "\n",
              "    .dataframe tbody tr th {\n",
              "        vertical-align: top;\n",
              "    }\n",
              "\n",
              "    .dataframe thead th {\n",
              "        text-align: right;\n",
              "    }\n",
              "</style>\n",
              "<table border=\"1\" class=\"dataframe\">\n",
              "  <thead>\n",
              "    <tr style=\"text-align: right;\">\n",
              "      <th></th>\n",
              "      <th>store</th>\n",
              "      <th>ID</th>\n",
              "      <th>Brand</th>\n",
              "      <th>Product</th>\n",
              "    </tr>\n",
              "  </thead>\n",
              "  <tbody>\n",
              "    <tr>\n",
              "      <th>0</th>\n",
              "      <td>A</td>\n",
              "      <td>101</td>\n",
              "      <td>Apple</td>\n",
              "      <td>iPhone</td>\n",
              "    </tr>\n",
              "    <tr>\n",
              "      <th>1</th>\n",
              "      <td>A</td>\n",
              "      <td>102</td>\n",
              "      <td>Canon</td>\n",
              "      <td>DSLR</td>\n",
              "    </tr>\n",
              "    <tr>\n",
              "      <th>2</th>\n",
              "      <td>A</td>\n",
              "      <td>103</td>\n",
              "      <td>Samsung</td>\n",
              "      <td>SmartPhone</td>\n",
              "    </tr>\n",
              "    <tr>\n",
              "      <th>3</th>\n",
              "      <td>A</td>\n",
              "      <td>104</td>\n",
              "      <td>Nikon</td>\n",
              "      <td>DSLR</td>\n",
              "    </tr>\n",
              "    <tr>\n",
              "      <th>4</th>\n",
              "      <td>A</td>\n",
              "      <td>105</td>\n",
              "      <td>Sony</td>\n",
              "      <td>SmartTV</td>\n",
              "    </tr>\n",
              "  </tbody>\n",
              "</table>\n",
              "</div>"
            ],
            "text/plain": [
              "  store   ID    Brand     Product\n",
              "0     A  101    Apple      iPhone\n",
              "1     A  102    Canon        DSLR\n",
              "2     A  103  Samsung  SmartPhone\n",
              "3     A  104    Nikon        DSLR\n",
              "4     A  105     Sony     SmartTV"
            ]
          },
          "metadata": {
            "tags": []
          },
          "execution_count": 2
        }
      ]
    },
    {
      "cell_type": "code",
      "metadata": {
        "id": "SuwFxRv_Vcqb",
        "outputId": "51db3d60-5da4-421f-983f-2e736dc240d8",
        "colab": {
          "base_uri": "https://localhost:8080/",
          "height": 204
        }
      },
      "source": [
        "store_b= pd.DataFrame({'store': ['B' for i in range(5)], 'ID': (103,104,104,107,101), 'Brand': ('Apple', 'Apple', 'Samsung', 'Canon', 'Sony'), 'Product': ('iPhone', 'iPod', 'SmartPhone', 'Canon', 'Sony')})\n",
        "store_b"
      ],
      "execution_count": null,
      "outputs": [
        {
          "output_type": "execute_result",
          "data": {
            "text/html": [
              "<div>\n",
              "<style scoped>\n",
              "    .dataframe tbody tr th:only-of-type {\n",
              "        vertical-align: middle;\n",
              "    }\n",
              "\n",
              "    .dataframe tbody tr th {\n",
              "        vertical-align: top;\n",
              "    }\n",
              "\n",
              "    .dataframe thead th {\n",
              "        text-align: right;\n",
              "    }\n",
              "</style>\n",
              "<table border=\"1\" class=\"dataframe\">\n",
              "  <thead>\n",
              "    <tr style=\"text-align: right;\">\n",
              "      <th></th>\n",
              "      <th>store</th>\n",
              "      <th>ID</th>\n",
              "      <th>Brand</th>\n",
              "      <th>Product</th>\n",
              "    </tr>\n",
              "  </thead>\n",
              "  <tbody>\n",
              "    <tr>\n",
              "      <th>0</th>\n",
              "      <td>B</td>\n",
              "      <td>103</td>\n",
              "      <td>Apple</td>\n",
              "      <td>iPhone</td>\n",
              "    </tr>\n",
              "    <tr>\n",
              "      <th>1</th>\n",
              "      <td>B</td>\n",
              "      <td>104</td>\n",
              "      <td>Apple</td>\n",
              "      <td>iPod</td>\n",
              "    </tr>\n",
              "    <tr>\n",
              "      <th>2</th>\n",
              "      <td>B</td>\n",
              "      <td>104</td>\n",
              "      <td>Samsung</td>\n",
              "      <td>SmartPhone</td>\n",
              "    </tr>\n",
              "    <tr>\n",
              "      <th>3</th>\n",
              "      <td>B</td>\n",
              "      <td>107</td>\n",
              "      <td>Canon</td>\n",
              "      <td>Canon</td>\n",
              "    </tr>\n",
              "    <tr>\n",
              "      <th>4</th>\n",
              "      <td>B</td>\n",
              "      <td>101</td>\n",
              "      <td>Sony</td>\n",
              "      <td>Sony</td>\n",
              "    </tr>\n",
              "  </tbody>\n",
              "</table>\n",
              "</div>"
            ],
            "text/plain": [
              "  store   ID    Brand     Product\n",
              "0     B  103    Apple      iPhone\n",
              "1     B  104    Apple        iPod\n",
              "2     B  104  Samsung  SmartPhone\n",
              "3     B  107    Canon       Canon\n",
              "4     B  101     Sony        Sony"
            ]
          },
          "metadata": {
            "tags": []
          },
          "execution_count": 3
        }
      ]
    },
    {
      "cell_type": "code",
      "metadata": {
        "id": "Fb0l8hKKV6g3",
        "outputId": "d3e51e05-fb18-4f80-ae8f-1415569619ec",
        "colab": {
          "base_uri": "https://localhost:8080/",
          "height": 359
        }
      },
      "source": [
        "pd.concat([store_a,store_b], keys= ['A', 'B'])"
      ],
      "execution_count": null,
      "outputs": [
        {
          "output_type": "execute_result",
          "data": {
            "text/html": [
              "<div>\n",
              "<style scoped>\n",
              "    .dataframe tbody tr th:only-of-type {\n",
              "        vertical-align: middle;\n",
              "    }\n",
              "\n",
              "    .dataframe tbody tr th {\n",
              "        vertical-align: top;\n",
              "    }\n",
              "\n",
              "    .dataframe thead th {\n",
              "        text-align: right;\n",
              "    }\n",
              "</style>\n",
              "<table border=\"1\" class=\"dataframe\">\n",
              "  <thead>\n",
              "    <tr style=\"text-align: right;\">\n",
              "      <th></th>\n",
              "      <th></th>\n",
              "      <th>store</th>\n",
              "      <th>ID</th>\n",
              "      <th>Brand</th>\n",
              "      <th>Product</th>\n",
              "    </tr>\n",
              "  </thead>\n",
              "  <tbody>\n",
              "    <tr>\n",
              "      <th rowspan=\"5\" valign=\"top\">A</th>\n",
              "      <th>0</th>\n",
              "      <td>A</td>\n",
              "      <td>101</td>\n",
              "      <td>Apple</td>\n",
              "      <td>iPhone</td>\n",
              "    </tr>\n",
              "    <tr>\n",
              "      <th>1</th>\n",
              "      <td>A</td>\n",
              "      <td>102</td>\n",
              "      <td>Canon</td>\n",
              "      <td>DSLR</td>\n",
              "    </tr>\n",
              "    <tr>\n",
              "      <th>2</th>\n",
              "      <td>A</td>\n",
              "      <td>103</td>\n",
              "      <td>Samsung</td>\n",
              "      <td>SmartPhone</td>\n",
              "    </tr>\n",
              "    <tr>\n",
              "      <th>3</th>\n",
              "      <td>A</td>\n",
              "      <td>104</td>\n",
              "      <td>Nikon</td>\n",
              "      <td>DSLR</td>\n",
              "    </tr>\n",
              "    <tr>\n",
              "      <th>4</th>\n",
              "      <td>A</td>\n",
              "      <td>105</td>\n",
              "      <td>Sony</td>\n",
              "      <td>SmartTV</td>\n",
              "    </tr>\n",
              "    <tr>\n",
              "      <th rowspan=\"5\" valign=\"top\">B</th>\n",
              "      <th>0</th>\n",
              "      <td>B</td>\n",
              "      <td>103</td>\n",
              "      <td>Apple</td>\n",
              "      <td>iPhone</td>\n",
              "    </tr>\n",
              "    <tr>\n",
              "      <th>1</th>\n",
              "      <td>B</td>\n",
              "      <td>104</td>\n",
              "      <td>Apple</td>\n",
              "      <td>iPod</td>\n",
              "    </tr>\n",
              "    <tr>\n",
              "      <th>2</th>\n",
              "      <td>B</td>\n",
              "      <td>104</td>\n",
              "      <td>Samsung</td>\n",
              "      <td>SmartPhone</td>\n",
              "    </tr>\n",
              "    <tr>\n",
              "      <th>3</th>\n",
              "      <td>B</td>\n",
              "      <td>107</td>\n",
              "      <td>Canon</td>\n",
              "      <td>Canon</td>\n",
              "    </tr>\n",
              "    <tr>\n",
              "      <th>4</th>\n",
              "      <td>B</td>\n",
              "      <td>101</td>\n",
              "      <td>Sony</td>\n",
              "      <td>Sony</td>\n",
              "    </tr>\n",
              "  </tbody>\n",
              "</table>\n",
              "</div>"
            ],
            "text/plain": [
              "    store   ID    Brand     Product\n",
              "A 0     A  101    Apple      iPhone\n",
              "  1     A  102    Canon        DSLR\n",
              "  2     A  103  Samsung  SmartPhone\n",
              "  3     A  104    Nikon        DSLR\n",
              "  4     A  105     Sony     SmartTV\n",
              "B 0     B  103    Apple      iPhone\n",
              "  1     B  104    Apple        iPod\n",
              "  2     B  104  Samsung  SmartPhone\n",
              "  3     B  107    Canon       Canon\n",
              "  4     B  101     Sony        Sony"
            ]
          },
          "metadata": {
            "tags": []
          },
          "execution_count": 7
        }
      ]
    },
    {
      "cell_type": "code",
      "metadata": {
        "id": "7DY1UkTWxG4X"
      },
      "source": [
        "#that's it for now folks!"
      ],
      "execution_count": null,
      "outputs": []
    }
  ]
}