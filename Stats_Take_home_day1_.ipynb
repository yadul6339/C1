{
  "nbformat": 4,
  "nbformat_minor": 0,
  "metadata": {
    "kernelspec": {
      "display_name": "Python 3",
      "language": "python",
      "name": "python3"
    },
    "language_info": {
      "codemirror_mode": {
        "name": "ipython",
        "version": 3
      },
      "file_extension": ".py",
      "mimetype": "text/x-python",
      "name": "python",
      "nbconvert_exporter": "python",
      "pygments_lexer": "ipython3",
      "version": "3.7.3"
    },
    "colab": {
      "name": "Day_my01 Take home .ipynb",
      "provenance": [],
      "include_colab_link": true
    }
  },
  "cells": [
    {
      "cell_type": "markdown",
      "metadata": {
        "id": "view-in-github",
        "colab_type": "text"
      },
      "source": [
        "<a href=\"https://colab.research.google.com/github/zerryberry/C1/blob/master/Stats_Take_home_day1_.ipynb\" target=\"_parent\"><img src=\"https://colab.research.google.com/assets/colab-badge.svg\" alt=\"Open In Colab\"/></a>"
      ]
    },
    {
      "cell_type": "code",
      "metadata": {
        "id": "d89k2LDYGn0F"
      },
      "source": [
        "## CALLING LIBRARIES\n",
        "import numpy             as np\n",
        "import pandas            as pd\n",
        "import scipy.stats       as stats\n",
        "import matplotlib.pyplot as plt\n",
        "%matplotlib inline\n",
        "import seaborn           as sns\n",
        "import math"
      ],
      "execution_count": 1,
      "outputs": []
    },
    {
      "cell_type": "markdown",
      "metadata": {
        "id": "g57YPx1NGn0J"
      },
      "source": [
        "## Normal Distribution"
      ]
    },
    {
      "cell_type": "markdown",
      "metadata": {
        "id": "hN7mH0usGn0J"
      },
      "source": [
        "**Problem:** The fill amount in 2-liter soft drink bottles is normally distributed, with a mean of 2.0 liters and a standard deviation of 0.05 liter. If the bottles contain less than 95% of the listed net content (1.90 liters, in our case), the manufacturer may be subject to penalty by the state office of consumer affairs. Bottles that have a net content above 2.1 liters may cause excess spillage upon opening. What is the proportion of bottles that will contain\n",
        "\n",
        "* a) between 1.9 and 2.0 liters\n",
        "* b) between 1.9 and 2.1 liters\n",
        "* c) below 1.9 liters or above 2.1 liters\n",
        "* d) At least how much soft drink is contained in 99% of the bottles?"
      ]
    },
    {
      "cell_type": "code",
      "metadata": {
        "id": "HnVAX5ENGn0K"
      },
      "source": [
        "mu     = 2\n",
        "sigma  = 0.05"
      ],
      "execution_count": 2,
      "outputs": []
    },
    {
      "cell_type": "markdown",
      "metadata": {
        "id": "sk98nhZtGn0O"
      },
      "source": [
        "#### a. between 1.9 and 2.0 liters\n",
        "----------"
      ]
    },
    {
      "cell_type": "code",
      "metadata": {
        "id": "AQ699nLuGn0O",
        "colab": {
          "base_uri": "https://localhost:8080/"
        },
        "outputId": "17efb7b7-5ac6-439c-cba1-8a01260686dd"
      },
      "source": [
        "stats.norm.cdf(2, loc=2, scale=0.05) - stats.norm.cdf(1.9, loc=2, scale=0.05)"
      ],
      "execution_count": 7,
      "outputs": [
        {
          "output_type": "execute_result",
          "data": {
            "text/plain": [
              "0.4772498680518209"
            ]
          },
          "metadata": {
            "tags": []
          },
          "execution_count": 7
        }
      ]
    },
    {
      "cell_type": "markdown",
      "metadata": {
        "id": "VMg1N610Gn0R"
      },
      "source": [
        "#### b) between 1.9 and 2.1 liters\n",
        "-------"
      ]
    },
    {
      "cell_type": "code",
      "metadata": {
        "id": "rTGEGVWQGn0R",
        "colab": {
          "base_uri": "https://localhost:8080/"
        },
        "outputId": "befe5699-4498-43ca-d4b6-c04612064363"
      },
      "source": [
        "stats.norm.cdf(2.1, loc=2, scale=0.05) - stats.norm.cdf(1.9, loc=2, scale=0.05)"
      ],
      "execution_count": 8,
      "outputs": [
        {
          "output_type": "execute_result",
          "data": {
            "text/plain": [
              "0.9544997361036418"
            ]
          },
          "metadata": {
            "tags": []
          },
          "execution_count": 8
        }
      ]
    },
    {
      "cell_type": "markdown",
      "metadata": {
        "id": "WgVEEnzmGn0U"
      },
      "source": [
        "#### c. below 1.9 liters or above 2.1 liters\n",
        "------"
      ]
    },
    {
      "cell_type": "code",
      "metadata": {
        "id": "L8WyBAqNGn0U",
        "colab": {
          "base_uri": "https://localhost:8080/"
        },
        "outputId": "7307a6c2-545e-4026-d0c4-adfb623c4ea2"
      },
      "source": [
        "1 - (stats.norm.cdf(2.1, loc=2, scale=0.05) - stats.norm.cdf(1.9, loc=2, scale=0.05))"
      ],
      "execution_count": 10,
      "outputs": [
        {
          "output_type": "execute_result",
          "data": {
            "text/plain": [
              "0.045500263896358195"
            ]
          },
          "metadata": {
            "tags": []
          },
          "execution_count": 10
        }
      ]
    },
    {
      "cell_type": "markdown",
      "metadata": {
        "id": "lAkpxgrRGn0X"
      },
      "source": [
        "#### d) At least how much soft drink is contained in 99% of the bottles?\n",
        "-----------"
      ]
    },
    {
      "cell_type": "code",
      "metadata": {
        "id": "5I94xzhdGn0X",
        "colab": {
          "base_uri": "https://localhost:8080/"
        },
        "outputId": "25d9d19a-7ab2-4bd4-f645-f6473cab0a8a"
      },
      "source": [
        "stats.norm.isf(0.99, loc=2, scale=0.05)"
      ],
      "execution_count": 9,
      "outputs": [
        {
          "output_type": "execute_result",
          "data": {
            "text/plain": [
              "1.883682606297958"
            ]
          },
          "metadata": {
            "tags": []
          },
          "execution_count": 9
        }
      ]
    },
    {
      "cell_type": "markdown",
      "metadata": {
        "id": "C1bKDZiTGn0a"
      },
      "source": [
        "------"
      ]
    },
    {
      "cell_type": "markdown",
      "metadata": {
        "id": "EezgPOmzGn0a"
      },
      "source": [
        "**Problem)**. The following table contains the age of the vistors in the cricket stadium  ( n =50).**\n",
        "* Decide whether the data appears to be normally distributed by\n",
        "* a. Mean and median "
      ]
    },
    {
      "cell_type": "markdown",
      "metadata": {
        "id": "JzulqPOVGn0b"
      },
      "source": [
        "**solution :**"
      ]
    },
    {
      "cell_type": "code",
      "metadata": {
        "id": "tGGvPbgTGn0c",
        "colab": {
          "base_uri": "https://localhost:8080/"
        },
        "outputId": "ec74c210-9941-4f9c-bf66-9c55d0ceb45e"
      },
      "source": [
        "mpg = np.array([38,36,31,30, 28,25, 26, 20, 20, 20, 21, 19, 21, 19, 21, 20, 20, 20, 19, 21, 21, 22, 20, 22, 20, 20, 22, 20, 22, 21, 19,\n",
        "                             19, 20, 20, 21, 20, 19, 18, 20, 21, 21, 20, 21, 21, 20,  21, 24, 32, 35,38])\n",
        "print(mpg)"
      ],
      "execution_count": 11,
      "outputs": [
        {
          "output_type": "stream",
          "text": [
            "[38 36 31 30 28 25 26 20 20 20 21 19 21 19 21 20 20 20 19 21 21 22 20 22\n",
            " 20 20 22 20 22 21 19 19 20 20 21 20 19 18 20 21 21 20 21 21 20 21 24 32\n",
            " 35 38]\n"
          ],
          "name": "stdout"
        }
      ]
    },
    {
      "cell_type": "code",
      "metadata": {
        "colab": {
          "base_uri": "https://localhost:8080/",
          "height": 336
        },
        "id": "yETGh7Td7y3e",
        "outputId": "ace2e5be-9301-43d9-a93a-ed9d92f25a0a"
      },
      "source": [
        "sns.distplot(mpg)"
      ],
      "execution_count": 13,
      "outputs": [
        {
          "output_type": "stream",
          "text": [
            "/usr/local/lib/python3.6/dist-packages/seaborn/distributions.py:2557: FutureWarning: `distplot` is a deprecated function and will be removed in a future version. Please adapt your code to use either `displot` (a figure-level function with similar flexibility) or `histplot` (an axes-level function for histograms).\n",
            "  warnings.warn(msg, FutureWarning)\n"
          ],
          "name": "stderr"
        },
        {
          "output_type": "execute_result",
          "data": {
            "text/plain": [
              "<matplotlib.axes._subplots.AxesSubplot at 0x7fb99fe21b00>"
            ]
          },
          "metadata": {
            "tags": []
          },
          "execution_count": 13
        },
        {
          "output_type": "display_data",
          "data": {
            "image/png": "[encoded data removed]",
            "text/plain": [
              "<Figure size 432x288 with 1 Axes>"
            ]
          },
          "metadata": {
            "tags": [],
            "needs_background": "light"
          }
        }
      ]
    },
    {
      "cell_type": "code",
      "metadata": {
        "id": "I6cfjR9iGn0g",
        "colab": {
          "base_uri": "https://localhost:8080/"
        },
        "outputId": "9a2f694a-ad0c-4706-9cf1-624e076c3e7c"
      },
      "source": [
        "print(np.std(mpg))\r\n",
        "print(np.mean(mpg))\r\n",
        "print(np.median(mpg))\r\n",
        "print(pd.Series(mpg).skew())\r\n",
        "print(pd.Series(mpg).kurt())\r\n",
        "\r\n",
        "# it is highly skewed, so doesn't seem like a normal distribution."
      ],
      "execution_count": 15,
      "outputs": [
        {
          "output_type": "stream",
          "text": [
            "5.115662224971465\n",
            "22.7\n",
            "21.0\n",
            "1.9345800070338026\n",
            "2.7056627079331417\n"
          ],
          "name": "stdout"
        }
      ]
    },
    {
      "cell_type": "markdown",
      "metadata": {
        "id": "VsB673p9mXi3"
      },
      "source": [
        "**Problem** ) Provided the Population data and sample data.\n",
        "\n",
        "#### a)plot the population data and sample data check how the data is distributed.Give inference whether the sampling distribution similar to population data."
      ]
    },
    {
      "cell_type": "code",
      "metadata": {
        "id": "yWi8Vny6mcIb",
        "colab": {
          "base_uri": "https://localhost:8080/"
        },
        "outputId": "10811c77-33a4-400a-c851-7077fb661558"
      },
      "source": [
        "import numpy as np\n",
        "import scipy.stats as stats\n",
        "np.random.seed(7)\n",
        "population_horsepower1 = stats.poisson.rvs(loc=1800, mu=25, size=15000)\n",
        "population_horsepower2 = stats.poisson.rvs(loc=1800, mu=5, size=10000)\n",
        "population_hp = np.concatenate((population_horsepower1, population_horsepower2))\n",
        "\n",
        "print(population_hp) # population data"
      ],
      "execution_count": 16,
      "outputs": [
        {
          "output_type": "stream",
          "text": [
            "[1824 1825 1821 ... 1812 1807 1805]\n"
          ],
          "name": "stdout"
        }
      ]
    },
    {
      "cell_type": "code",
      "metadata": {
        "id": "9x245SPSmoM1",
        "colab": {
          "base_uri": "https://localhost:8080/"
        },
        "outputId": "0d6c4b0d-dea2-404b-85a1-2ce1952cdf17"
      },
      "source": [
        "np.random.seed(7)\n",
        "sample_hp = np.random.choice(a= population_hp,size=100)            # Sample 100 values\n",
        "print(sample_hp) #sample data"
      ],
      "execution_count": 17,
      "outputs": [
        {
          "output_type": "stream",
          "text": [
            "[1806 1816 1833 1809 1834 1819 1818 1803 1823 1803 1824 1807 1823 1835\n",
            " 1804 1802 1812 1804 1802 1821 1819 1829 1822 1826 1841 1831 1804 1820\n",
            " 1805 1828 1821 1826 1801 1820 1807 1806 1806 1807 1817 1824 1828 1806\n",
            " 1824 1819 1823 1818 1827 1803 1829 1824 1804 1802 1826 1827 1824 1809\n",
            " 1828 1822 1805 1805 1806 1805 1801 1810 1827 1822 1831 1822 1803 1820\n",
            " 1806 1822 1811 1816 1830 1835 1828 1822 1826 1803 1835 1827 1827 1824\n",
            " 1819 1826 1831 1803 1807 1831 1811 1818 1817 1832 1805 1808 1802 1821\n",
            " 1804 1836]\n"
          ],
          "name": "stdout"
        }
      ]
    },
    {
      "cell_type": "code",
      "metadata": {
        "colab": {
          "base_uri": "https://localhost:8080/",
          "height": 353
        },
        "id": "GSvYyPFYBFqz",
        "outputId": "9ca7822b-0447-48b0-8613-e8c3d93558d1"
      },
      "source": [
        "sns.distplot(population_hp)\r\n",
        "sns.distplot(sample_hp)\r\n",
        "plt.show()"
      ],
      "execution_count": 19,
      "outputs": [
        {
          "output_type": "stream",
          "text": [
            "/usr/local/lib/python3.6/dist-packages/seaborn/distributions.py:2557: FutureWarning: `distplot` is a deprecated function and will be removed in a future version. Please adapt your code to use either `displot` (a figure-level function with similar flexibility) or `histplot` (an axes-level function for histograms).\n",
            "  warnings.warn(msg, FutureWarning)\n",
            "/usr/local/lib/python3.6/dist-packages/seaborn/distributions.py:2557: FutureWarning: `distplot` is a deprecated function and will be removed in a future version. Please adapt your code to use either `displot` (a figure-level function with similar flexibility) or `histplot` (an axes-level function for histograms).\n",
            "  warnings.warn(msg, FutureWarning)\n"
          ],
          "name": "stderr"
        },
        {
          "output_type": "display_data",
          "data": {
            "image/png": "[encoded data removed]",
            "text/plain": [
              "<Figure size 432x288 with 1 Axes>"
            ]
          },
          "metadata": {
            "tags": [],
            "needs_background": "light"
          }
        }
      ]
    },
    {
      "cell_type": "code",
      "metadata": {
        "colab": {
          "base_uri": "https://localhost:8080/"
        },
        "id": "Tl_PNzQOBFtz",
        "outputId": "f4f608fa-d3ac-4e57-9ca1-949a286cb6b0"
      },
      "source": [
        "print(pd.Series(population_hp).skew())\r\n",
        "print(pd.Series(sample_hp).skew())\r\n",
        "print(pd.Series(population_hp).kurt())\r\n",
        "print(pd.Series(sample_hp).kurt())"
      ],
      "execution_count": 20,
      "outputs": [
        {
          "output_type": "stream",
          "text": [
            "-0.06703683273537898\n",
            "-0.014188655629895998\n",
            "-1.4575091950003514\n",
            "-1.2754948604492706\n"
          ],
          "name": "stdout"
        }
      ]
    },
    {
      "cell_type": "code",
      "metadata": {
        "id": "mLseAw_LBlor"
      },
      "source": [
        "# we can observe similar kurtosis of both the distributions- even visually they both look similar. "
      ],
      "execution_count": null,
      "outputs": []
    },
    {
      "cell_type": "markdown",
      "metadata": {
        "id": "hwe_kBn1Gn0i"
      },
      "source": [
        "------------------"
      ]
    }
  ]
}