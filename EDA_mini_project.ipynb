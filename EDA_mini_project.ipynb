{
  "nbformat": 4,
  "nbformat_minor": 0,
  "metadata": {
    "colab": {
      "name": "EDA_mini_project.ipynb",
      "provenance": [],
      "collapsed_sections": [],
      "authorship_tag": "ABX9TyM/dCM5+gX4ASSWezTA7J43",
      "include_colab_link": true
    },
    "kernelspec": {
      "name": "python3",
      "display_name": "Python 3"
    }
  },
  "cells": [
    {
      "cell_type": "markdown",
      "metadata": {
        "id": "view-in-github",
        "colab_type": "text"
      },
      "source": [
        "<a href=\"https://colab.research.google.com/github/zerryberry/C1/blob/master/EDA_mini_project.ipynb\" target=\"_parent\"><img src=\"https://colab.research.google.com/assets/colab-badge.svg\" alt=\"Open In Colab\"/></a>"
      ]
    },
    {
      "cell_type": "code",
      "metadata": {
        "colab": {
          "base_uri": "https://localhost:8080/"
        },
        "id": "5lEp8AKgMMOv",
        "outputId": "5adefbe9-5484-4c22-a147-ddb23d524ad2"
      },
      "source": [
        "import pandas as pd\r\n",
        "import numpy as np\r\n",
        "import seaborn as sns\r\n",
        "import matplotlib.pyplot as plt\r\n",
        "import warnings\r\n",
        "warnings.filterwarnings(\"ignore\")\r\n",
        "print('done')"
      ],
      "execution_count": 1,
      "outputs": [
        {
          "output_type": "stream",
          "text": [
            "done\n"
          ],
          "name": "stdout"
        }
      ]
    },
    {
      "cell_type": "code",
      "metadata": {
        "colab": {
          "base_uri": "https://localhost:8080/"
        },
        "id": "gcJC1m12NFGJ",
        "outputId": "f601acd3-4d9e-4ef0-9609-9474ec3ebf78"
      },
      "source": [
        "df1= pd.read_csv('/content/fifa.csv')\r\n",
        "df2= pd.read_csv('/content/fifa_+variable_information.csv')\r\n",
        "print(df1.shape)\r\n",
        "print(df2.shape)"
      ],
      "execution_count": 2,
      "outputs": [
        {
          "output_type": "stream",
          "text": [
            "(5674, 60)\n",
            "(59, 2)\n"
          ],
          "name": "stdout"
        }
      ]
    },
    {
      "cell_type": "markdown",
      "metadata": {
        "id": "ewI6_AtqPBy8"
      },
      "source": [
        "## 1"
      ]
    },
    {
      "cell_type": "code",
      "metadata": {
        "colab": {
          "base_uri": "https://localhost:8080/",
          "height": 351
        },
        "id": "v8y3_jb-Ohej",
        "outputId": "c08b0200-7d9f-4efa-f7d7-d2319c8b2afc"
      },
      "source": [
        "df1.head()"
      ],
      "execution_count": null,
      "outputs": [
        {
          "output_type": "execute_result",
          "data": {
            "text/html": [
              "<div>\n",
              "<style scoped>\n",
              "    .dataframe tbody tr th:only-of-type {\n",
              "        vertical-align: middle;\n",
              "    }\n",
              "\n",
              "    .dataframe tbody tr th {\n",
              "        vertical-align: top;\n",
              "    }\n",
              "\n",
              "    .dataframe thead th {\n",
              "        text-align: right;\n",
              "    }\n",
              "</style>\n",
              "<table border=\"1\" class=\"dataframe\">\n",
              "  <thead>\n",
              "    <tr style=\"text-align: right;\">\n",
              "      <th></th>\n",
              "      <th>ID</th>\n",
              "      <th>Name</th>\n",
              "      <th>Age</th>\n",
              "      <th>Photo</th>\n",
              "      <th>Nationality</th>\n",
              "      <th>Flag</th>\n",
              "      <th>Overall</th>\n",
              "      <th>Potential</th>\n",
              "      <th>Club</th>\n",
              "      <th>Club Logo</th>\n",
              "      <th>Value</th>\n",
              "      <th>Wage</th>\n",
              "      <th>Preferred Foot</th>\n",
              "      <th>International Reputation</th>\n",
              "      <th>Weak Foot</th>\n",
              "      <th>Skill Moves</th>\n",
              "      <th>Work Rate</th>\n",
              "      <th>Body Type</th>\n",
              "      <th>Position</th>\n",
              "      <th>Jersey Number</th>\n",
              "      <th>Joined</th>\n",
              "      <th>Loaned From</th>\n",
              "      <th>Contract Valid Until</th>\n",
              "      <th>Height</th>\n",
              "      <th>Weight</th>\n",
              "      <th>Crossing</th>\n",
              "      <th>Finishing</th>\n",
              "      <th>HeadingAccuracy</th>\n",
              "      <th>ShortPassing</th>\n",
              "      <th>Volleys</th>\n",
              "      <th>Dribbling</th>\n",
              "      <th>Curve</th>\n",
              "      <th>FKAccuracy</th>\n",
              "      <th>LongPassing</th>\n",
              "      <th>BallControl</th>\n",
              "      <th>Acceleration</th>\n",
              "      <th>SprintSpeed</th>\n",
              "      <th>Agility</th>\n",
              "      <th>Reactions</th>\n",
              "      <th>Balance</th>\n",
              "      <th>ShotPower</th>\n",
              "      <th>Jumping</th>\n",
              "      <th>Stamina</th>\n",
              "      <th>Strength</th>\n",
              "      <th>LongShots</th>\n",
              "      <th>Aggression</th>\n",
              "      <th>Interceptions</th>\n",
              "      <th>Positioning</th>\n",
              "      <th>Vision</th>\n",
              "      <th>Penalties</th>\n",
              "      <th>Composure</th>\n",
              "      <th>Marking</th>\n",
              "      <th>StandingTackle</th>\n",
              "      <th>SlidingTackle</th>\n",
              "      <th>GKDiving</th>\n",
              "      <th>GKHandling</th>\n",
              "      <th>GKKicking</th>\n",
              "      <th>GKPositioning</th>\n",
              "      <th>GKReflexes</th>\n",
              "      <th>Release Clause</th>\n",
              "    </tr>\n",
              "  </thead>\n",
              "  <tbody>\n",
              "    <tr>\n",
              "      <th>0</th>\n",
              "      <td>158023</td>\n",
              "      <td>L. Messi</td>\n",
              "      <td>31</td>\n",
              "      <td>https://cdn.sofifa.org/players/4/19/158023.png</td>\n",
              "      <td>Argentina</td>\n",
              "      <td>https://cdn.sofifa.org/flags/52.png</td>\n",
              "      <td>94</td>\n",
              "      <td>94</td>\n",
              "      <td>FC Barcelona</td>\n",
              "      <td>https://cdn.sofifa.org/teams/2/light/241.png</td>\n",
              "      <td>€110.5M</td>\n",
              "      <td>€565K</td>\n",
              "      <td>Left</td>\n",
              "      <td>5.0</td>\n",
              "      <td>4.0</td>\n",
              "      <td>4.0</td>\n",
              "      <td>Medium/ Medium</td>\n",
              "      <td>Messi</td>\n",
              "      <td>RF</td>\n",
              "      <td>10.0</td>\n",
              "      <td>Jul 1, 2004</td>\n",
              "      <td>NaN</td>\n",
              "      <td>2021</td>\n",
              "      <td>5'7</td>\n",
              "      <td>159lbs</td>\n",
              "      <td>84.0</td>\n",
              "      <td>95.0</td>\n",
              "      <td>70.0</td>\n",
              "      <td>90.0</td>\n",
              "      <td>86.0</td>\n",
              "      <td>97.0</td>\n",
              "      <td>93.0</td>\n",
              "      <td>94.0</td>\n",
              "      <td>87.0</td>\n",
              "      <td>96.0</td>\n",
              "      <td>91.0</td>\n",
              "      <td>86.0</td>\n",
              "      <td>91.0</td>\n",
              "      <td>95.0</td>\n",
              "      <td>95.0</td>\n",
              "      <td>85.0</td>\n",
              "      <td>68.0</td>\n",
              "      <td>72.0</td>\n",
              "      <td>59.0</td>\n",
              "      <td>94.0</td>\n",
              "      <td>48.0</td>\n",
              "      <td>22.0</td>\n",
              "      <td>94.0</td>\n",
              "      <td>94.0</td>\n",
              "      <td>75.0</td>\n",
              "      <td>96.0</td>\n",
              "      <td>33.0</td>\n",
              "      <td>28.0</td>\n",
              "      <td>26.0</td>\n",
              "      <td>6.0</td>\n",
              "      <td>11.0</td>\n",
              "      <td>15.0</td>\n",
              "      <td>14.0</td>\n",
              "      <td>8.0</td>\n",
              "      <td>€226.5M</td>\n",
              "    </tr>\n",
              "    <tr>\n",
              "      <th>1</th>\n",
              "      <td>20801</td>\n",
              "      <td>Cristiano Ronaldo</td>\n",
              "      <td>33</td>\n",
              "      <td>https://cdn.sofifa.org/players/4/19/20801.png</td>\n",
              "      <td>Portugal</td>\n",
              "      <td>https://cdn.sofifa.org/flags/38.png</td>\n",
              "      <td>94</td>\n",
              "      <td>94</td>\n",
              "      <td>Juventus</td>\n",
              "      <td>https://cdn.sofifa.org/teams/2/light/45.png</td>\n",
              "      <td>€77M</td>\n",
              "      <td>€405K</td>\n",
              "      <td>Right</td>\n",
              "      <td>5.0</td>\n",
              "      <td>4.0</td>\n",
              "      <td>5.0</td>\n",
              "      <td>High/ Low</td>\n",
              "      <td>C. Ronaldo</td>\n",
              "      <td>ST</td>\n",
              "      <td>7.0</td>\n",
              "      <td>Jul 10, 2018</td>\n",
              "      <td>NaN</td>\n",
              "      <td>2022</td>\n",
              "      <td>6'2</td>\n",
              "      <td>183lbs</td>\n",
              "      <td>84.0</td>\n",
              "      <td>94.0</td>\n",
              "      <td>89.0</td>\n",
              "      <td>81.0</td>\n",
              "      <td>87.0</td>\n",
              "      <td>88.0</td>\n",
              "      <td>81.0</td>\n",
              "      <td>76.0</td>\n",
              "      <td>77.0</td>\n",
              "      <td>94.0</td>\n",
              "      <td>89.0</td>\n",
              "      <td>91.0</td>\n",
              "      <td>87.0</td>\n",
              "      <td>96.0</td>\n",
              "      <td>70.0</td>\n",
              "      <td>95.0</td>\n",
              "      <td>95.0</td>\n",
              "      <td>88.0</td>\n",
              "      <td>79.0</td>\n",
              "      <td>93.0</td>\n",
              "      <td>63.0</td>\n",
              "      <td>29.0</td>\n",
              "      <td>95.0</td>\n",
              "      <td>82.0</td>\n",
              "      <td>85.0</td>\n",
              "      <td>95.0</td>\n",
              "      <td>28.0</td>\n",
              "      <td>31.0</td>\n",
              "      <td>23.0</td>\n",
              "      <td>7.0</td>\n",
              "      <td>11.0</td>\n",
              "      <td>15.0</td>\n",
              "      <td>14.0</td>\n",
              "      <td>11.0</td>\n",
              "      <td>€127.1M</td>\n",
              "    </tr>\n",
              "    <tr>\n",
              "      <th>2</th>\n",
              "      <td>190871</td>\n",
              "      <td>Neymar Jr</td>\n",
              "      <td>26</td>\n",
              "      <td>https://cdn.sofifa.org/players/4/19/190871.png</td>\n",
              "      <td>Brazil</td>\n",
              "      <td>https://cdn.sofifa.org/flags/54.png</td>\n",
              "      <td>92</td>\n",
              "      <td>93</td>\n",
              "      <td>Paris Saint-Germain</td>\n",
              "      <td>https://cdn.sofifa.org/teams/2/light/73.png</td>\n",
              "      <td>€118.5M</td>\n",
              "      <td>€290K</td>\n",
              "      <td>Right</td>\n",
              "      <td>5.0</td>\n",
              "      <td>5.0</td>\n",
              "      <td>5.0</td>\n",
              "      <td>High/ Medium</td>\n",
              "      <td>Neymar</td>\n",
              "      <td>LW</td>\n",
              "      <td>10.0</td>\n",
              "      <td>Aug 3, 2017</td>\n",
              "      <td>NaN</td>\n",
              "      <td>2022</td>\n",
              "      <td>5'9</td>\n",
              "      <td>150lbs</td>\n",
              "      <td>79.0</td>\n",
              "      <td>87.0</td>\n",
              "      <td>62.0</td>\n",
              "      <td>84.0</td>\n",
              "      <td>84.0</td>\n",
              "      <td>96.0</td>\n",
              "      <td>88.0</td>\n",
              "      <td>87.0</td>\n",
              "      <td>78.0</td>\n",
              "      <td>95.0</td>\n",
              "      <td>94.0</td>\n",
              "      <td>90.0</td>\n",
              "      <td>96.0</td>\n",
              "      <td>94.0</td>\n",
              "      <td>84.0</td>\n",
              "      <td>80.0</td>\n",
              "      <td>61.0</td>\n",
              "      <td>81.0</td>\n",
              "      <td>49.0</td>\n",
              "      <td>82.0</td>\n",
              "      <td>56.0</td>\n",
              "      <td>36.0</td>\n",
              "      <td>89.0</td>\n",
              "      <td>87.0</td>\n",
              "      <td>81.0</td>\n",
              "      <td>94.0</td>\n",
              "      <td>27.0</td>\n",
              "      <td>24.0</td>\n",
              "      <td>33.0</td>\n",
              "      <td>9.0</td>\n",
              "      <td>9.0</td>\n",
              "      <td>15.0</td>\n",
              "      <td>15.0</td>\n",
              "      <td>11.0</td>\n",
              "      <td>€228.1M</td>\n",
              "    </tr>\n",
              "    <tr>\n",
              "      <th>3</th>\n",
              "      <td>193080</td>\n",
              "      <td>De Gea</td>\n",
              "      <td>27</td>\n",
              "      <td>https://cdn.sofifa.org/players/4/19/193080.png</td>\n",
              "      <td>Spain</td>\n",
              "      <td>https://cdn.sofifa.org/flags/45.png</td>\n",
              "      <td>91</td>\n",
              "      <td>93</td>\n",
              "      <td>Manchester United</td>\n",
              "      <td>https://cdn.sofifa.org/teams/2/light/11.png</td>\n",
              "      <td>€72M</td>\n",
              "      <td>€260K</td>\n",
              "      <td>Right</td>\n",
              "      <td>4.0</td>\n",
              "      <td>3.0</td>\n",
              "      <td>1.0</td>\n",
              "      <td>Medium/ Medium</td>\n",
              "      <td>Lean</td>\n",
              "      <td>GK</td>\n",
              "      <td>1.0</td>\n",
              "      <td>Jul 1, 2011</td>\n",
              "      <td>NaN</td>\n",
              "      <td>2020</td>\n",
              "      <td>6'4</td>\n",
              "      <td>168lbs</td>\n",
              "      <td>17.0</td>\n",
              "      <td>13.0</td>\n",
              "      <td>21.0</td>\n",
              "      <td>50.0</td>\n",
              "      <td>13.0</td>\n",
              "      <td>18.0</td>\n",
              "      <td>21.0</td>\n",
              "      <td>19.0</td>\n",
              "      <td>51.0</td>\n",
              "      <td>42.0</td>\n",
              "      <td>57.0</td>\n",
              "      <td>58.0</td>\n",
              "      <td>60.0</td>\n",
              "      <td>90.0</td>\n",
              "      <td>43.0</td>\n",
              "      <td>31.0</td>\n",
              "      <td>67.0</td>\n",
              "      <td>43.0</td>\n",
              "      <td>64.0</td>\n",
              "      <td>12.0</td>\n",
              "      <td>38.0</td>\n",
              "      <td>30.0</td>\n",
              "      <td>12.0</td>\n",
              "      <td>68.0</td>\n",
              "      <td>40.0</td>\n",
              "      <td>68.0</td>\n",
              "      <td>15.0</td>\n",
              "      <td>21.0</td>\n",
              "      <td>13.0</td>\n",
              "      <td>90.0</td>\n",
              "      <td>85.0</td>\n",
              "      <td>87.0</td>\n",
              "      <td>88.0</td>\n",
              "      <td>94.0</td>\n",
              "      <td>€138.6M</td>\n",
              "    </tr>\n",
              "    <tr>\n",
              "      <th>4</th>\n",
              "      <td>192985</td>\n",
              "      <td>K. De Bruyne</td>\n",
              "      <td>27</td>\n",
              "      <td>https://cdn.sofifa.org/players/4/19/192985.png</td>\n",
              "      <td>Belgium</td>\n",
              "      <td>https://cdn.sofifa.org/flags/7.png</td>\n",
              "      <td>91</td>\n",
              "      <td>92</td>\n",
              "      <td>Manchester City</td>\n",
              "      <td>https://cdn.sofifa.org/teams/2/light/10.png</td>\n",
              "      <td>€102M</td>\n",
              "      <td>€355K</td>\n",
              "      <td>Right</td>\n",
              "      <td>4.0</td>\n",
              "      <td>5.0</td>\n",
              "      <td>4.0</td>\n",
              "      <td>High/ High</td>\n",
              "      <td>Normal</td>\n",
              "      <td>RCM</td>\n",
              "      <td>7.0</td>\n",
              "      <td>Aug 30, 2015</td>\n",
              "      <td>NaN</td>\n",
              "      <td>2023</td>\n",
              "      <td>5'11</td>\n",
              "      <td>154lbs</td>\n",
              "      <td>93.0</td>\n",
              "      <td>82.0</td>\n",
              "      <td>55.0</td>\n",
              "      <td>92.0</td>\n",
              "      <td>82.0</td>\n",
              "      <td>86.0</td>\n",
              "      <td>85.0</td>\n",
              "      <td>83.0</td>\n",
              "      <td>91.0</td>\n",
              "      <td>91.0</td>\n",
              "      <td>78.0</td>\n",
              "      <td>76.0</td>\n",
              "      <td>79.0</td>\n",
              "      <td>91.0</td>\n",
              "      <td>77.0</td>\n",
              "      <td>91.0</td>\n",
              "      <td>63.0</td>\n",
              "      <td>90.0</td>\n",
              "      <td>75.0</td>\n",
              "      <td>91.0</td>\n",
              "      <td>76.0</td>\n",
              "      <td>61.0</td>\n",
              "      <td>87.0</td>\n",
              "      <td>94.0</td>\n",
              "      <td>79.0</td>\n",
              "      <td>88.0</td>\n",
              "      <td>68.0</td>\n",
              "      <td>58.0</td>\n",
              "      <td>51.0</td>\n",
              "      <td>15.0</td>\n",
              "      <td>13.0</td>\n",
              "      <td>5.0</td>\n",
              "      <td>10.0</td>\n",
              "      <td>13.0</td>\n",
              "      <td>€196.4M</td>\n",
              "    </tr>\n",
              "  </tbody>\n",
              "</table>\n",
              "</div>"
            ],
            "text/plain": [
              "       ID               Name  Age  ... GKPositioning GKReflexes Release Clause\n",
              "0  158023           L. Messi   31  ...          14.0        8.0        €226.5M\n",
              "1   20801  Cristiano Ronaldo   33  ...          14.0       11.0        €127.1M\n",
              "2  190871          Neymar Jr   26  ...          15.0       11.0        €228.1M\n",
              "3  193080             De Gea   27  ...          88.0       94.0        €138.6M\n",
              "4  192985       K. De Bruyne   27  ...          10.0       13.0        €196.4M\n",
              "\n",
              "[5 rows x 60 columns]"
            ]
          },
          "metadata": {
            "tags": []
          },
          "execution_count": 172
        }
      ]
    },
    {
      "cell_type": "code",
      "metadata": {
        "colab": {
          "base_uri": "https://localhost:8080/",
          "height": 197
        },
        "id": "rjJnoJ-0OlOh",
        "outputId": "1db026bc-502f-47a8-a55b-fb11dab37924"
      },
      "source": [
        "df2.head()"
      ],
      "execution_count": null,
      "outputs": [
        {
          "output_type": "execute_result",
          "data": {
            "text/html": [
              "<div>\n",
              "<style scoped>\n",
              "    .dataframe tbody tr th:only-of-type {\n",
              "        vertical-align: middle;\n",
              "    }\n",
              "\n",
              "    .dataframe tbody tr th {\n",
              "        vertical-align: top;\n",
              "    }\n",
              "\n",
              "    .dataframe thead th {\n",
              "        text-align: right;\n",
              "    }\n",
              "</style>\n",
              "<table border=\"1\" class=\"dataframe\">\n",
              "  <thead>\n",
              "    <tr style=\"text-align: right;\">\n",
              "      <th></th>\n",
              "      <th>ID</th>\n",
              "      <th>unique id for every player</th>\n",
              "    </tr>\n",
              "  </thead>\n",
              "  <tbody>\n",
              "    <tr>\n",
              "      <th>0</th>\n",
              "      <td>Name</td>\n",
              "      <td>name</td>\n",
              "    </tr>\n",
              "    <tr>\n",
              "      <th>1</th>\n",
              "      <td>Age</td>\n",
              "      <td>age</td>\n",
              "    </tr>\n",
              "    <tr>\n",
              "      <th>2</th>\n",
              "      <td>Photo</td>\n",
              "      <td>url to the player's photo</td>\n",
              "    </tr>\n",
              "    <tr>\n",
              "      <th>3</th>\n",
              "      <td>Nationality</td>\n",
              "      <td>nationality</td>\n",
              "    </tr>\n",
              "    <tr>\n",
              "      <th>4</th>\n",
              "      <td>Flag</td>\n",
              "      <td>url to players's country flag</td>\n",
              "    </tr>\n",
              "  </tbody>\n",
              "</table>\n",
              "</div>"
            ],
            "text/plain": [
              "            ID     unique id for every player\n",
              "0         Name                           name\n",
              "1          Age                            age\n",
              "2        Photo      url to the player's photo\n",
              "3  Nationality                    nationality\n",
              "4         Flag  url to players's country flag"
            ]
          },
          "metadata": {
            "tags": []
          },
          "execution_count": 5
        }
      ]
    },
    {
      "cell_type": "code",
      "metadata": {
        "id": "ZxH7yFGaOoD3",
        "colab": {
          "base_uri": "https://localhost:8080/"
        },
        "outputId": "d8669b6c-9225-4270-9253-cb598695c58e"
      },
      "source": [
        "# 2\r\n",
        "df_n = pd.concat((df1.iloc[:,[0,1,2,4,6,7,8,10,11,12,13,14,15,16,18,22,25,26]], df1.iloc[:, 26:60]), axis=1)\r\n",
        "df_n.shape"
      ],
      "execution_count": 82,
      "outputs": [
        {
          "output_type": "execute_result",
          "data": {
            "text/plain": [
              "(5674, 52)"
            ]
          },
          "metadata": {
            "tags": []
          },
          "execution_count": 82
        }
      ]
    },
    {
      "cell_type": "code",
      "metadata": {
        "id": "WZQZZKRu_qIB"
      },
      "source": [
        "# 3 - Values\r\n",
        "import re\r\n",
        "df_n['Value'] = df_n['Value'].str.replace('€', '')"
      ],
      "execution_count": 83,
      "outputs": []
    },
    {
      "cell_type": "code",
      "metadata": {
        "id": "1zUy_Jd-Mz4a"
      },
      "source": [
        "def clrm(n):\r\n",
        "  if 'M' in n and '.' in n:\r\n",
        "    return float(''.join(re.findall('\\d+', n)))*100000\r\n",
        "  elif 'M' in n and '.' not in n:\r\n",
        "    return float(''.join(re.findall('\\d+', n)))*1000000\r\n",
        "  elif 'K' in n and '.' in n:\r\n",
        "    return float(''.join(re.findall('\\d+', n)))*100\r\n",
        "  elif 'K' in n and '.' not in n:\r\n",
        "    return float(''.join(re.findall('\\d+', n)))*1000"
      ],
      "execution_count": 110,
      "outputs": []
    },
    {
      "cell_type": "code",
      "metadata": {
        "id": "8KSOqLrxWke7"
      },
      "source": [
        "df_n['Value'] = df_n['Value'].apply(clrm)"
      ],
      "execution_count": 112,
      "outputs": []
    },
    {
      "cell_type": "code",
      "metadata": {
        "id": "DfDBH4HCZ0iT"
      },
      "source": [
        "# Wage\r\n",
        "df_n['Wage'] = df_n['Wage'].str.replace('€', '')\r\n",
        "df_n['Wage'] = df_n['Wage'].apply(clrm)"
      ],
      "execution_count": 121,
      "outputs": []
    },
    {
      "cell_type": "code",
      "metadata": {
        "colab": {
          "base_uri": "https://localhost:8080/"
        },
        "id": "5BAHB6Bfbkvq",
        "outputId": "a65e1863-3d2f-48ea-b7e7-237bbe69b4a0"
      },
      "source": [
        "# We now know that we have date in this format as well \r\n",
        "print(max(df1['Joined'], key= lambda x: len(x) if not isinstance(x, float) else 0))\r\n",
        "\r\n",
        "# lets see the head\r\n",
        "df1['Joined'].head()"
      ],
      "execution_count": 133,
      "outputs": [
        {
          "output_type": "stream",
          "text": [
            "Jul 10, 2018\n"
          ],
          "name": "stdout"
        },
        {
          "output_type": "execute_result",
          "data": {
            "text/plain": [
              "0     Jul 1, 2004\n",
              "1    Jul 10, 2018\n",
              "2     Aug 3, 2017\n",
              "3     Jul 1, 2011\n",
              "4    Aug 30, 2015\n",
              "Name: Joined, dtype: object"
            ]
          },
          "metadata": {
            "tags": []
          },
          "execution_count": 133
        }
      ]
    },
    {
      "cell_type": "code",
      "metadata": {
        "id": "OQFEIllyhD8w"
      },
      "source": [
        "df1['Joined'] = df1['Joined'].apply(lambda x: int(x.split(' ')[-1]) if not isinstance(x, float) else x)"
      ],
      "execution_count": null,
      "outputs": []
    },
    {
      "cell_type": "code",
      "metadata": {
        "colab": {
          "base_uri": "https://localhost:8080/"
        },
        "id": "SMG9g1dvbv_w",
        "outputId": "c5791739-ceb6-4d23-94bc-fb91d500cd74"
      },
      "source": [
        "# Sanity check with nan\r\n",
        "df1['Joined'].isna().sum()"
      ],
      "execution_count": 137,
      "outputs": [
        {
          "output_type": "execute_result",
          "data": {
            "text/plain": [
              "523"
            ]
          },
          "metadata": {
            "tags": []
          },
          "execution_count": 137
        }
      ]
    },
    {
      "cell_type": "code",
      "metadata": {
        "colab": {
          "base_uri": "https://localhost:8080/"
        },
        "id": "SlDS5uZfcG6G",
        "outputId": "4b8a7fc8-bcb0-4628-f34d-6ca53f3c0ec4"
      },
      "source": [
        "# Contract valid until \r\n",
        "\r\n",
        "df_n['Contract Valid Until'].head()"
      ],
      "execution_count": 138,
      "outputs": [
        {
          "output_type": "execute_result",
          "data": {
            "text/plain": [
              "0    2021\n",
              "1    2022\n",
              "2    2022\n",
              "3    2020\n",
              "4    2023\n",
              "Name: Contract Valid Until, dtype: object"
            ]
          },
          "metadata": {
            "tags": []
          },
          "execution_count": 138
        }
      ]
    },
    {
      "cell_type": "code",
      "metadata": {
        "id": "5as_fm_wuLtM"
      },
      "source": [
        "df_n['Contract Valid Until'] = pd.to_datetime(df1['Contract Valid Until'], errors='coerce')"
      ],
      "execution_count": 196,
      "outputs": []
    },
    {
      "cell_type": "code",
      "metadata": {
        "colab": {
          "base_uri": "https://localhost:8080/"
        },
        "id": "92LhI-zHu_G_",
        "outputId": "c283d5e4-b4a0-47b5-c94f-22ed9f96f87e"
      },
      "source": [
        "# Height\r\n",
        "df1['Height'].head()"
      ],
      "execution_count": 200,
      "outputs": [
        {
          "output_type": "execute_result",
          "data": {
            "text/plain": [
              "0     5'7\n",
              "1     6'2\n",
              "2     5'9\n",
              "3     6'4\n",
              "4    5'11\n",
              "Name: Height, dtype: object"
            ]
          },
          "metadata": {
            "tags": []
          },
          "execution_count": 200
        }
      ]
    },
    {
      "cell_type": "code",
      "metadata": {
        "colab": {
          "base_uri": "https://localhost:8080/"
        },
        "id": "NgvKAqhCvbMQ",
        "outputId": "0cf71d4c-6a52-4037-f4f1-931959af696d"
      },
      "source": [
        "df1['Height'].unique()"
      ],
      "execution_count": 201,
      "outputs": [
        {
          "output_type": "execute_result",
          "data": {
            "text/plain": [
              "array([\"5'7\", \"6'2\", \"5'9\", \"6'4\", \"5'11\", \"5'8\", \"6'0\", \"5'6\", \"5'10\",\n",
              "       \"6'6\", \"6'1\", \"5'4\", \"6'3\", \"5'5\", \"6'5\", \"6'7\", \"5'3\", \"5'2\",\n",
              "       \"6'8\", nan], dtype=object)"
            ]
          },
          "metadata": {
            "tags": []
          },
          "execution_count": 201
        }
      ]
    },
    {
      "cell_type": "code",
      "metadata": {
        "id": "t4N31vFWvhSr"
      },
      "source": [
        "df_n['Height']= df1['Height'].apply(lambda x: float('.'.join(x.split(\"'\"))) if not isinstance(x, float) else x)"
      ],
      "execution_count": 207,
      "outputs": []
    },
    {
      "cell_type": "code",
      "metadata": {
        "colab": {
          "base_uri": "https://localhost:8080/"
        },
        "id": "uwwEeFY4v2wI",
        "outputId": "c230d0bc-6633-4eaa-b19c-83513c82e197"
      },
      "source": [
        "# Weight\r\n",
        "\r\n",
        "df1['Weight'].head()"
      ],
      "execution_count": 221,
      "outputs": [
        {
          "output_type": "execute_result",
          "data": {
            "text/plain": [
              "0    159.0\n",
              "1    183.0\n",
              "2    150.0\n",
              "3    168.0\n",
              "4    154.0\n",
              "Name: Weight, dtype: float64"
            ]
          },
          "metadata": {
            "tags": []
          },
          "execution_count": 221
        }
      ]
    },
    {
      "cell_type": "code",
      "metadata": {
        "id": "yQnIj6wjwxo5"
      },
      "source": [
        "df_n['Weight'] = df1['Weight'].apply(lambda x: float(x[:-3]) if not isinstance(x, float) else x)"
      ],
      "execution_count": 222,
      "outputs": []
    },
    {
      "cell_type": "code",
      "metadata": {
        "colab": {
          "base_uri": "https://localhost:8080/"
        },
        "id": "pEwQ0zuk442a",
        "outputId": "3bfeefd2-ce93-45ce-b7c2-fa677cc57997"
      },
      "source": [
        "# Release clause\r\n",
        "\r\n",
        "df_n['Release Clause'].head()"
      ],
      "execution_count": 224,
      "outputs": [
        {
          "output_type": "execute_result",
          "data": {
            "text/plain": [
              "0    €226.5M\n",
              "1    €127.1M\n",
              "2    €228.1M\n",
              "3    €138.6M\n",
              "4    €196.4M\n",
              "Name: Release Clause, dtype: object"
            ]
          },
          "metadata": {
            "tags": []
          },
          "execution_count": 224
        }
      ]
    },
    {
      "cell_type": "code",
      "metadata": {
        "id": "m5fBQkDO8b7d"
      },
      "source": [
        "df_n['Release Clause']= df_n['Release Clause'].apply(lambda x: clrm(x) if not isinstance(x, float) else x)"
      ],
      "execution_count": 232,
      "outputs": []
    },
    {
      "cell_type": "code",
      "metadata": {
        "colab": {
          "base_uri": "https://localhost:8080/"
        },
        "id": "06Dx9gXy9U2t",
        "outputId": "c8452fb5-cc08-46eb-e458-ad102c624b0a"
      },
      "source": [
        "df_n['Release Clause'].isna().sum()"
      ],
      "execution_count": 234,
      "outputs": [
        {
          "output_type": "execute_result",
          "data": {
            "text/plain": [
              "526"
            ]
          },
          "metadata": {
            "tags": []
          },
          "execution_count": 234
        }
      ]
    },
    {
      "cell_type": "code",
      "metadata": {
        "id": "MGY4j1_A9fcj"
      },
      "source": [
        "# mean imputations\r\n",
        "\r\n",
        "for i in df_n.select_dtypes(include='number'):\r\n",
        "  df_n[i] = df_n[i].fillna(df_n[i].mean())"
      ],
      "execution_count": 239,
      "outputs": []
    },
    {
      "cell_type": "code",
      "metadata": {
        "colab": {
          "base_uri": "https://localhost:8080/",
          "height": 296
        },
        "id": "uaxseFtM_CWi",
        "outputId": "28dff299-aafc-419a-c70d-cc2dc12ee9d5"
      },
      "source": [
        "# overall ratings\r\n",
        "\r\n",
        "sns.distplot(df1['Overall'])"
      ],
      "execution_count": 242,
      "outputs": [
        {
          "output_type": "execute_result",
          "data": {
            "text/plain": [
              "<matplotlib.axes._subplots.AxesSubplot at 0x7f149026f940>"
            ]
          },
          "metadata": {
            "tags": []
          },
          "execution_count": 242
        },
        {
          "output_type": "display_data",
          "data": {
            "image/png": "[encoded data removed]",
            "text/plain": [
              "<Figure size 432x288 with 1 Axes>"
            ]
          },
          "metadata": {
            "tags": [],
            "needs_background": "light"
          }
        }
      ]
    },
    {
      "cell_type": "code",
      "metadata": {
        "colab": {
          "base_uri": "https://localhost:8080/",
          "height": 296
        },
        "id": "pdK5SD_BO2Gn",
        "outputId": "5379d11b-f5a9-4669-a492-ce3207bf6d8e"
      },
      "source": [
        "#1\r\n",
        "sns.boxplot(df1['Overall'])"
      ],
      "execution_count": 246,
      "outputs": [
        {
          "output_type": "execute_result",
          "data": {
            "text/plain": [
              "<matplotlib.axes._subplots.AxesSubplot at 0x7f148fce4240>"
            ]
          },
          "metadata": {
            "tags": []
          },
          "execution_count": 246
        },
        {
          "output_type": "display_data",
          "data": {
            "image/png": "[encoded data removed]",
            "text/plain": [
              "<Figure size 432x288 with 1 Axes>"
            ]
          },
          "metadata": {
            "tags": [],
            "needs_background": "light"
          }
        }
      ]
    },
    {
      "cell_type": "code",
      "metadata": {
        "id": "T9C7u5TB_nwo"
      },
      "source": [
        "# right skewed distribution\r\n",
        "# most players are in 70-80 ratings\r\n",
        "# few in 90-95 ratings"
      ],
      "execution_count": null,
      "outputs": []
    },
    {
      "cell_type": "code",
      "metadata": {
        "id": "KRItYT-7PQLB"
      },
      "source": [
        "r= ['Overall', 'Value', 'Wage', 'International Reputation', 'Height', 'Weight', 'Release Clause']"
      ],
      "execution_count": 249,
      "outputs": []
    },
    {
      "cell_type": "code",
      "metadata": {
        "id": "0F_z2nabPQNx"
      },
      "source": [
        "#2\r\n",
        "sns.pairplot(df_n[r])"
      ],
      "execution_count": null,
      "outputs": []
    },
    {
      "cell_type": "code",
      "metadata": {
        "id": "pMV8pJPiPQP0"
      },
      "source": [
        "#3\r\n",
        "\r\n",
        "av= df_n.loc[(df_n['Contract Valid Until'] == '2020-01-01T00:00:00.000000000')].sort_values(by='Overall', ascending=False)[:20]"
      ],
      "execution_count": 266,
      "outputs": []
    },
    {
      "cell_type": "code",
      "metadata": {
        "colab": {
          "base_uri": "https://localhost:8080/",
          "height": 334
        },
        "id": "3mlVimyqPQS-",
        "outputId": "27029063-2d11-452b-8c63-1a2256f4e2c3"
      },
      "source": [
        "av.head()"
      ],
      "execution_count": 267,
      "outputs": [
        {
          "output_type": "execute_result",
          "data": {
            "text/html": [
              "<div>\n",
              "<style scoped>\n",
              "    .dataframe tbody tr th:only-of-type {\n",
              "        vertical-align: middle;\n",
              "    }\n",
              "\n",
              "    .dataframe tbody tr th {\n",
              "        vertical-align: top;\n",
              "    }\n",
              "\n",
              "    .dataframe thead th {\n",
              "        text-align: right;\n",
              "    }\n",
              "</style>\n",
              "<table border=\"1\" class=\"dataframe\">\n",
              "  <thead>\n",
              "    <tr style=\"text-align: right;\">\n",
              "      <th></th>\n",
              "      <th>ID</th>\n",
              "      <th>Name</th>\n",
              "      <th>Age</th>\n",
              "      <th>Nationality</th>\n",
              "      <th>Overall</th>\n",
              "      <th>Potential</th>\n",
              "      <th>Club</th>\n",
              "      <th>Value</th>\n",
              "      <th>Wage</th>\n",
              "      <th>Preferred Foot</th>\n",
              "      <th>International Reputation</th>\n",
              "      <th>Weak Foot</th>\n",
              "      <th>Skill Moves</th>\n",
              "      <th>Work Rate</th>\n",
              "      <th>Position</th>\n",
              "      <th>Contract Valid Until</th>\n",
              "      <th>Crossing</th>\n",
              "      <th>Finishing</th>\n",
              "      <th>Finishing</th>\n",
              "      <th>HeadingAccuracy</th>\n",
              "      <th>ShortPassing</th>\n",
              "      <th>Volleys</th>\n",
              "      <th>Dribbling</th>\n",
              "      <th>Curve</th>\n",
              "      <th>FKAccuracy</th>\n",
              "      <th>LongPassing</th>\n",
              "      <th>BallControl</th>\n",
              "      <th>Acceleration</th>\n",
              "      <th>SprintSpeed</th>\n",
              "      <th>Agility</th>\n",
              "      <th>Reactions</th>\n",
              "      <th>Balance</th>\n",
              "      <th>ShotPower</th>\n",
              "      <th>Jumping</th>\n",
              "      <th>Stamina</th>\n",
              "      <th>Strength</th>\n",
              "      <th>LongShots</th>\n",
              "      <th>Aggression</th>\n",
              "      <th>Interceptions</th>\n",
              "      <th>Positioning</th>\n",
              "      <th>Vision</th>\n",
              "      <th>Penalties</th>\n",
              "      <th>Composure</th>\n",
              "      <th>Marking</th>\n",
              "      <th>StandingTackle</th>\n",
              "      <th>SlidingTackle</th>\n",
              "      <th>GKDiving</th>\n",
              "      <th>GKHandling</th>\n",
              "      <th>GKKicking</th>\n",
              "      <th>GKPositioning</th>\n",
              "      <th>GKReflexes</th>\n",
              "      <th>Release Clause</th>\n",
              "      <th>Height</th>\n",
              "      <th>Weight</th>\n",
              "    </tr>\n",
              "  </thead>\n",
              "  <tbody>\n",
              "    <tr>\n",
              "      <th>3</th>\n",
              "      <td>193080</td>\n",
              "      <td>De Gea</td>\n",
              "      <td>27</td>\n",
              "      <td>Spain</td>\n",
              "      <td>91</td>\n",
              "      <td>93</td>\n",
              "      <td>Manchester United</td>\n",
              "      <td>72000000.0</td>\n",
              "      <td>260000.0</td>\n",
              "      <td>Right</td>\n",
              "      <td>4</td>\n",
              "      <td>3</td>\n",
              "      <td>1</td>\n",
              "      <td>Medium/ Medium</td>\n",
              "      <td>GK</td>\n",
              "      <td>2020-01-01</td>\n",
              "      <td>17.0</td>\n",
              "      <td>13.0</td>\n",
              "      <td>13.0</td>\n",
              "      <td>21.0</td>\n",
              "      <td>50.0</td>\n",
              "      <td>13.0</td>\n",
              "      <td>18.0</td>\n",
              "      <td>21.0</td>\n",
              "      <td>19.0</td>\n",
              "      <td>51.0</td>\n",
              "      <td>42.0</td>\n",
              "      <td>57.0</td>\n",
              "      <td>58.0</td>\n",
              "      <td>60.0</td>\n",
              "      <td>90.0</td>\n",
              "      <td>43.0</td>\n",
              "      <td>31.0</td>\n",
              "      <td>67.0</td>\n",
              "      <td>43.0</td>\n",
              "      <td>64.0</td>\n",
              "      <td>12.0</td>\n",
              "      <td>38.0</td>\n",
              "      <td>30.0</td>\n",
              "      <td>12.0</td>\n",
              "      <td>68.0</td>\n",
              "      <td>40.0</td>\n",
              "      <td>68.0</td>\n",
              "      <td>15.0</td>\n",
              "      <td>21.0</td>\n",
              "      <td>13.0</td>\n",
              "      <td>90.0</td>\n",
              "      <td>85.0</td>\n",
              "      <td>87.0</td>\n",
              "      <td>88.0</td>\n",
              "      <td>94.0</td>\n",
              "      <td>138600000.0</td>\n",
              "      <td>6.4</td>\n",
              "      <td>168.0</td>\n",
              "    </tr>\n",
              "    <tr>\n",
              "      <th>6</th>\n",
              "      <td>177003</td>\n",
              "      <td>L. Modrić</td>\n",
              "      <td>32</td>\n",
              "      <td>Croatia</td>\n",
              "      <td>91</td>\n",
              "      <td>91</td>\n",
              "      <td>Real Madrid</td>\n",
              "      <td>67000000.0</td>\n",
              "      <td>420000.0</td>\n",
              "      <td>Right</td>\n",
              "      <td>4</td>\n",
              "      <td>4</td>\n",
              "      <td>4</td>\n",
              "      <td>High/ High</td>\n",
              "      <td>RCM</td>\n",
              "      <td>2020-01-01</td>\n",
              "      <td>86.0</td>\n",
              "      <td>72.0</td>\n",
              "      <td>72.0</td>\n",
              "      <td>55.0</td>\n",
              "      <td>93.0</td>\n",
              "      <td>76.0</td>\n",
              "      <td>90.0</td>\n",
              "      <td>85.0</td>\n",
              "      <td>78.0</td>\n",
              "      <td>88.0</td>\n",
              "      <td>93.0</td>\n",
              "      <td>80.0</td>\n",
              "      <td>72.0</td>\n",
              "      <td>93.0</td>\n",
              "      <td>90.0</td>\n",
              "      <td>94.0</td>\n",
              "      <td>79.0</td>\n",
              "      <td>68.0</td>\n",
              "      <td>89.0</td>\n",
              "      <td>58.0</td>\n",
              "      <td>82.0</td>\n",
              "      <td>62.0</td>\n",
              "      <td>83.0</td>\n",
              "      <td>79.0</td>\n",
              "      <td>92.0</td>\n",
              "      <td>82.0</td>\n",
              "      <td>84.0</td>\n",
              "      <td>60.0</td>\n",
              "      <td>76.0</td>\n",
              "      <td>73.0</td>\n",
              "      <td>13.0</td>\n",
              "      <td>9.0</td>\n",
              "      <td>7.0</td>\n",
              "      <td>14.0</td>\n",
              "      <td>9.0</td>\n",
              "      <td>137400000.0</td>\n",
              "      <td>5.8</td>\n",
              "      <td>146.0</td>\n",
              "    </tr>\n",
              "    <tr>\n",
              "      <th>8</th>\n",
              "      <td>155862</td>\n",
              "      <td>Sergio Ramos</td>\n",
              "      <td>32</td>\n",
              "      <td>Spain</td>\n",
              "      <td>91</td>\n",
              "      <td>91</td>\n",
              "      <td>Real Madrid</td>\n",
              "      <td>51000000.0</td>\n",
              "      <td>380000.0</td>\n",
              "      <td>Right</td>\n",
              "      <td>4</td>\n",
              "      <td>3</td>\n",
              "      <td>3</td>\n",
              "      <td>High/ Medium</td>\n",
              "      <td>RCB</td>\n",
              "      <td>2020-01-01</td>\n",
              "      <td>66.0</td>\n",
              "      <td>60.0</td>\n",
              "      <td>60.0</td>\n",
              "      <td>91.0</td>\n",
              "      <td>78.0</td>\n",
              "      <td>66.0</td>\n",
              "      <td>63.0</td>\n",
              "      <td>74.0</td>\n",
              "      <td>72.0</td>\n",
              "      <td>77.0</td>\n",
              "      <td>84.0</td>\n",
              "      <td>76.0</td>\n",
              "      <td>75.0</td>\n",
              "      <td>78.0</td>\n",
              "      <td>85.0</td>\n",
              "      <td>66.0</td>\n",
              "      <td>79.0</td>\n",
              "      <td>93.0</td>\n",
              "      <td>84.0</td>\n",
              "      <td>83.0</td>\n",
              "      <td>59.0</td>\n",
              "      <td>88.0</td>\n",
              "      <td>90.0</td>\n",
              "      <td>60.0</td>\n",
              "      <td>63.0</td>\n",
              "      <td>75.0</td>\n",
              "      <td>82.0</td>\n",
              "      <td>87.0</td>\n",
              "      <td>92.0</td>\n",
              "      <td>91.0</td>\n",
              "      <td>11.0</td>\n",
              "      <td>8.0</td>\n",
              "      <td>9.0</td>\n",
              "      <td>7.0</td>\n",
              "      <td>11.0</td>\n",
              "      <td>104600000.0</td>\n",
              "      <td>6.0</td>\n",
              "      <td>181.0</td>\n",
              "    </tr>\n",
              "    <tr>\n",
              "      <th>5</th>\n",
              "      <td>183277</td>\n",
              "      <td>E. Hazard</td>\n",
              "      <td>27</td>\n",
              "      <td>Belgium</td>\n",
              "      <td>91</td>\n",
              "      <td>91</td>\n",
              "      <td>Chelsea</td>\n",
              "      <td>93000000.0</td>\n",
              "      <td>340000.0</td>\n",
              "      <td>Right</td>\n",
              "      <td>4</td>\n",
              "      <td>4</td>\n",
              "      <td>4</td>\n",
              "      <td>High/ Medium</td>\n",
              "      <td>LF</td>\n",
              "      <td>2020-01-01</td>\n",
              "      <td>81.0</td>\n",
              "      <td>84.0</td>\n",
              "      <td>84.0</td>\n",
              "      <td>61.0</td>\n",
              "      <td>89.0</td>\n",
              "      <td>80.0</td>\n",
              "      <td>95.0</td>\n",
              "      <td>83.0</td>\n",
              "      <td>79.0</td>\n",
              "      <td>83.0</td>\n",
              "      <td>94.0</td>\n",
              "      <td>94.0</td>\n",
              "      <td>88.0</td>\n",
              "      <td>95.0</td>\n",
              "      <td>90.0</td>\n",
              "      <td>94.0</td>\n",
              "      <td>82.0</td>\n",
              "      <td>56.0</td>\n",
              "      <td>83.0</td>\n",
              "      <td>66.0</td>\n",
              "      <td>80.0</td>\n",
              "      <td>54.0</td>\n",
              "      <td>41.0</td>\n",
              "      <td>87.0</td>\n",
              "      <td>89.0</td>\n",
              "      <td>86.0</td>\n",
              "      <td>91.0</td>\n",
              "      <td>34.0</td>\n",
              "      <td>27.0</td>\n",
              "      <td>22.0</td>\n",
              "      <td>11.0</td>\n",
              "      <td>12.0</td>\n",
              "      <td>6.0</td>\n",
              "      <td>8.0</td>\n",
              "      <td>8.0</td>\n",
              "      <td>172100000.0</td>\n",
              "      <td>5.8</td>\n",
              "      <td>163.0</td>\n",
              "    </tr>\n",
              "    <tr>\n",
              "      <th>13</th>\n",
              "      <td>168542</td>\n",
              "      <td>David Silva</td>\n",
              "      <td>32</td>\n",
              "      <td>Spain</td>\n",
              "      <td>90</td>\n",
              "      <td>90</td>\n",
              "      <td>Manchester City</td>\n",
              "      <td>60000000.0</td>\n",
              "      <td>285000.0</td>\n",
              "      <td>Left</td>\n",
              "      <td>4</td>\n",
              "      <td>2</td>\n",
              "      <td>4</td>\n",
              "      <td>High/ Medium</td>\n",
              "      <td>LCM</td>\n",
              "      <td>2020-01-01</td>\n",
              "      <td>84.0</td>\n",
              "      <td>76.0</td>\n",
              "      <td>76.0</td>\n",
              "      <td>54.0</td>\n",
              "      <td>93.0</td>\n",
              "      <td>82.0</td>\n",
              "      <td>89.0</td>\n",
              "      <td>82.0</td>\n",
              "      <td>77.0</td>\n",
              "      <td>87.0</td>\n",
              "      <td>94.0</td>\n",
              "      <td>70.0</td>\n",
              "      <td>64.0</td>\n",
              "      <td>92.0</td>\n",
              "      <td>90.0</td>\n",
              "      <td>90.0</td>\n",
              "      <td>72.0</td>\n",
              "      <td>64.0</td>\n",
              "      <td>78.0</td>\n",
              "      <td>52.0</td>\n",
              "      <td>75.0</td>\n",
              "      <td>57.0</td>\n",
              "      <td>50.0</td>\n",
              "      <td>89.0</td>\n",
              "      <td>92.0</td>\n",
              "      <td>75.0</td>\n",
              "      <td>93.0</td>\n",
              "      <td>59.0</td>\n",
              "      <td>53.0</td>\n",
              "      <td>29.0</td>\n",
              "      <td>6.0</td>\n",
              "      <td>15.0</td>\n",
              "      <td>7.0</td>\n",
              "      <td>6.0</td>\n",
              "      <td>12.0</td>\n",
              "      <td>111000000.0</td>\n",
              "      <td>5.8</td>\n",
              "      <td>148.0</td>\n",
              "    </tr>\n",
              "  </tbody>\n",
              "</table>\n",
              "</div>"
            ],
            "text/plain": [
              "        ID          Name  Age  ... Release Clause  Height  Weight\n",
              "3   193080        De Gea   27  ...    138600000.0     6.4   168.0\n",
              "6   177003     L. Modrić   32  ...    137400000.0     5.8   146.0\n",
              "8   155862  Sergio Ramos   32  ...    104600000.0     6.0   181.0\n",
              "5   183277     E. Hazard   27  ...    172100000.0     5.8   163.0\n",
              "13  168542   David Silva   32  ...    111000000.0     5.8   148.0\n",
              "\n",
              "[5 rows x 54 columns]"
            ]
          },
          "metadata": {
            "tags": []
          },
          "execution_count": 267
        }
      ]
    },
    {
      "cell_type": "code",
      "metadata": {
        "colab": {
          "base_uri": "https://localhost:8080/"
        },
        "id": "MfJ425x3PQVu",
        "outputId": "933a3f2e-104c-47d1-a1da-a743dcdb4acf"
      },
      "source": [
        "#3 a\r\n",
        "av['Wage'].mean()"
      ],
      "execution_count": 268,
      "outputs": [
        {
          "output_type": "execute_result",
          "data": {
            "text/plain": [
              "205450.0"
            ]
          },
          "metadata": {
            "tags": []
          },
          "execution_count": 268
        }
      ]
    },
    {
      "cell_type": "code",
      "metadata": {
        "colab": {
          "base_uri": "https://localhost:8080/"
        },
        "id": "J1JbOj9LPQYL",
        "outputId": "767600cf-6d6d-4300-af31-c9cceca2435b"
      },
      "source": [
        "av['Age'].mean()"
      ],
      "execution_count": 269,
      "outputs": [
        {
          "output_type": "execute_result",
          "data": {
            "text/plain": [
              "30.65"
            ]
          },
          "metadata": {
            "tags": []
          },
          "execution_count": 269
        }
      ]
    },
    {
      "cell_type": "code",
      "metadata": {
        "colab": {
          "base_uri": "https://localhost:8080/",
          "height": 307
        },
        "id": "zzfDoA_ePQbQ",
        "outputId": "5d41aee8-6572-4186-d547-8097b11ed28d"
      },
      "source": [
        "# C\r\n",
        "sns.regplot(x='Overall', y='Value', data= df_n)"
      ],
      "execution_count": 272,
      "outputs": [
        {
          "output_type": "execute_result",
          "data": {
            "text/plain": [
              "<matplotlib.axes._subplots.AxesSubplot at 0x7f1486051908>"
            ]
          },
          "metadata": {
            "tags": []
          },
          "execution_count": 272
        },
        {
          "output_type": "display_data",
          "data": {
            "image/png": "[encoded data removed]",
            "text/plain": [
              "<Figure size 432x288 with 1 Axes>"
            ]
          },
          "metadata": {
            "tags": [],
            "needs_background": "light"
          }
        }
      ]
    },
    {
      "cell_type": "code",
      "metadata": {
        "id": "qj87mpmBT8xF"
      },
      "source": [
        "# Yes there is a strong correlation between value and overall rating"
      ],
      "execution_count": 273,
      "outputs": []
    },
    {
      "cell_type": "code",
      "metadata": {
        "id": "gXAxKnc1Uo_u"
      },
      "source": [
        "#4\r\n",
        "\r\n",
        "top_5 = {}\r\n",
        "for i in df_n['Position'].unique():\r\n",
        "  try:\r\n",
        "    top_5[i]=list(df_n.sort_values(by=['Overall','Position'], ascending=[False, True]).groupby(df_n['Position']).get_group(i)[:5]['Name'].values)\r\n",
        "  except KeyError:\r\n",
        "    pass"
      ],
      "execution_count": 297,
      "outputs": []
    },
    {
      "cell_type": "code",
      "metadata": {
        "colab": {
          "base_uri": "https://localhost:8080/"
        },
        "id": "3vTBjoKRUpCR",
        "outputId": "d213a20a-2333-4489-d71b-6ea2c42cfecc"
      },
      "source": [
        "len(top_5.keys())"
      ],
      "execution_count": 301,
      "outputs": [
        {
          "output_type": "execute_result",
          "data": {
            "text/plain": [
              "27"
            ]
          },
          "metadata": {
            "tags": []
          },
          "execution_count": 301
        }
      ]
    },
    {
      "cell_type": "code",
      "metadata": {
        "colab": {
          "base_uri": "https://localhost:8080/"
        },
        "id": "Z2f71TlXUpE1",
        "outputId": "e96b426c-fe0f-42d2-8a42-31b56d479d33"
      },
      "source": [
        "len(df_n['Position'].unique())"
      ],
      "execution_count": 303,
      "outputs": [
        {
          "output_type": "execute_result",
          "data": {
            "text/plain": [
              "28"
            ]
          },
          "metadata": {
            "tags": []
          },
          "execution_count": 303
        }
      ]
    },
    {
      "cell_type": "code",
      "metadata": {
        "id": "rZ5PkQ3sUpHH"
      },
      "source": [
        "# We have one less value bcoz of one NaN"
      ],
      "execution_count": 304,
      "outputs": []
    },
    {
      "cell_type": "code",
      "metadata": {
        "id": "B-jOz2xxUpJ3"
      },
      "source": [
        "df_top_5 = pd.DataFrame(top_5)\r\n",
        "df_top_5"
      ],
      "execution_count": null,
      "outputs": []
    },
    {
      "cell_type": "code",
      "metadata": {
        "colab": {
          "base_uri": "https://localhost:8080/",
          "height": 317
        },
        "id": "9LpFvV0wUpVd",
        "outputId": "3e472b19-0d4b-4530-e4eb-e626f0c1a568"
      },
      "source": [
        "#4a\r\n",
        "\r\n",
        "df_top_5"
      ],
      "execution_count": 306,
      "outputs": [
        {
          "output_type": "execute_result",
          "data": {
            "text/html": [
              "<div>\n",
              "<style scoped>\n",
              "    .dataframe tbody tr th:only-of-type {\n",
              "        vertical-align: middle;\n",
              "    }\n",
              "\n",
              "    .dataframe tbody tr th {\n",
              "        vertical-align: top;\n",
              "    }\n",
              "\n",
              "    .dataframe thead th {\n",
              "        text-align: right;\n",
              "    }\n",
              "</style>\n",
              "<table border=\"1\" class=\"dataframe\">\n",
              "  <thead>\n",
              "    <tr style=\"text-align: right;\">\n",
              "      <th></th>\n",
              "      <th>RF</th>\n",
              "      <th>ST</th>\n",
              "      <th>LW</th>\n",
              "      <th>GK</th>\n",
              "      <th>RCM</th>\n",
              "      <th>LF</th>\n",
              "      <th>RS</th>\n",
              "      <th>RCB</th>\n",
              "      <th>LCM</th>\n",
              "      <th>CB</th>\n",
              "      <th>LDM</th>\n",
              "      <th>CAM</th>\n",
              "      <th>CDM</th>\n",
              "      <th>LS</th>\n",
              "      <th>LCB</th>\n",
              "      <th>RM</th>\n",
              "      <th>LAM</th>\n",
              "      <th>LM</th>\n",
              "      <th>LB</th>\n",
              "      <th>RDM</th>\n",
              "      <th>RW</th>\n",
              "      <th>CM</th>\n",
              "      <th>RB</th>\n",
              "      <th>RAM</th>\n",
              "      <th>CF</th>\n",
              "      <th>RWB</th>\n",
              "      <th>LWB</th>\n",
              "    </tr>\n",
              "  </thead>\n",
              "  <tbody>\n",
              "    <tr>\n",
              "      <th>0</th>\n",
              "      <td>L. Messi</td>\n",
              "      <td>Cristiano Ronaldo</td>\n",
              "      <td>Neymar Jr</td>\n",
              "      <td>De Gea</td>\n",
              "      <td>K. De Bruyne</td>\n",
              "      <td>E. Hazard</td>\n",
              "      <td>L. Suárez</td>\n",
              "      <td>Sergio Ramos</td>\n",
              "      <td>T. Kroos</td>\n",
              "      <td>D. Godín</td>\n",
              "      <td>N. Kanté</td>\n",
              "      <td>A. Griezmann</td>\n",
              "      <td>Sergio Busquets</td>\n",
              "      <td>E. Cavani</td>\n",
              "      <td>G. Chiellini</td>\n",
              "      <td>K. Mbappé</td>\n",
              "      <td>J. Rodríguez</td>\n",
              "      <td>P. Aubameyang</td>\n",
              "      <td>Marcelo</td>\n",
              "      <td>P. Pogba</td>\n",
              "      <td>Bernardo Silva</td>\n",
              "      <td>Thiago</td>\n",
              "      <td>Azpilicueta</td>\n",
              "      <td>J. Cuadrado</td>\n",
              "      <td>Luis Alberto</td>\n",
              "      <td>M. Ginter</td>\n",
              "      <td>N. Schulz</td>\n",
              "    </tr>\n",
              "    <tr>\n",
              "      <th>1</th>\n",
              "      <td>D. Mertens</td>\n",
              "      <td>R. Lewandowski</td>\n",
              "      <td>L. Insigne</td>\n",
              "      <td>J. Oblak</td>\n",
              "      <td>L. Modrić</td>\n",
              "      <td>P. Dybala</td>\n",
              "      <td>Z. Ibrahimović</td>\n",
              "      <td>Thiago Silva</td>\n",
              "      <td>David Silva</td>\n",
              "      <td>S. Umtiti</td>\n",
              "      <td>Paulinho</td>\n",
              "      <td>C. Eriksen</td>\n",
              "      <td>Casemiro</td>\n",
              "      <td>G. Higuaín</td>\n",
              "      <td>M. Hummels</td>\n",
              "      <td>M. Salah</td>\n",
              "      <td>D. Tadić</td>\n",
              "      <td>S. Mané</td>\n",
              "      <td>Jordi Alba</td>\n",
              "      <td>Illarramendi</td>\n",
              "      <td>R. Sterling</td>\n",
              "      <td>S. Milinković-Savić</td>\n",
              "      <td>Carvajal</td>\n",
              "      <td>H. Ziyech</td>\n",
              "      <td>S. Giovinco</td>\n",
              "      <td>P. Kadeřábek</td>\n",
              "      <td>Granell</td>\n",
              "    </tr>\n",
              "    <tr>\n",
              "      <th>2</th>\n",
              "      <td>D. Valeri</td>\n",
              "      <td>H. Kane</td>\n",
              "      <td>Isco</td>\n",
              "      <td>M. ter Stegen</td>\n",
              "      <td>I. Rakitić</td>\n",
              "      <td>Iniesta</td>\n",
              "      <td>Falcao</td>\n",
              "      <td>Piqué</td>\n",
              "      <td>M. Hamšík</td>\n",
              "      <td>M. Benatia</td>\n",
              "      <td>Marquinhos</td>\n",
              "      <td>Roberto Firmino</td>\n",
              "      <td>M. Pjanić</td>\n",
              "      <td>Diego Costa</td>\n",
              "      <td>K. Koulibaly</td>\n",
              "      <td>F. Thauvin</td>\n",
              "      <td>Fabrio Farinha</td>\n",
              "      <td>Douglas Costa</td>\n",
              "      <td>Alex Sandro</td>\n",
              "      <td>I. Gueye</td>\n",
              "      <td>Marco Asensio</td>\n",
              "      <td>Jorginho</td>\n",
              "      <td>K. Walker</td>\n",
              "      <td>Allan Bardinho</td>\n",
              "      <td>A. Milik</td>\n",
              "      <td>S. Coleman</td>\n",
              "      <td>Jonny</td>\n",
              "    </tr>\n",
              "    <tr>\n",
              "      <th>3</th>\n",
              "      <td>L. Podolski</td>\n",
              "      <td>S. Agüero</td>\n",
              "      <td>Coutinho</td>\n",
              "      <td>T. Courtois</td>\n",
              "      <td>J. Kimmich</td>\n",
              "      <td>Jonathan Viera</td>\n",
              "      <td>W. Ben Yedder</td>\n",
              "      <td>R. Varane</td>\n",
              "      <td>M. Verratti</td>\n",
              "      <td>N. Otamendi</td>\n",
              "      <td>Lucas Leiva</td>\n",
              "      <td>T. Müller</td>\n",
              "      <td>Fernandinho</td>\n",
              "      <td>A. Gómez</td>\n",
              "      <td>J. Vertonghen</td>\n",
              "      <td>José Callejón</td>\n",
              "      <td>Leo Caldeirinha</td>\n",
              "      <td>M. Reus</td>\n",
              "      <td>D. Alaba</td>\n",
              "      <td>D. De Rossi</td>\n",
              "      <td>R. Mahrez</td>\n",
              "      <td>I. Gündoğan</td>\n",
              "      <td>Sergi Roberto</td>\n",
              "      <td>Jacson Zonta</td>\n",
              "      <td>L. Stindl</td>\n",
              "      <td>D. Caligiuri</td>\n",
              "      <td>J. Hector</td>\n",
              "    </tr>\n",
              "    <tr>\n",
              "      <th>4</th>\n",
              "      <td>C. Ciano</td>\n",
              "      <td>G. Bale</td>\n",
              "      <td>L. Sané</td>\n",
              "      <td>M. Neuer</td>\n",
              "      <td>Saúl</td>\n",
              "      <td>S. Blanco</td>\n",
              "      <td>S. Zaza</td>\n",
              "      <td>L. Bonucci</td>\n",
              "      <td>Bruno Fernandes</td>\n",
              "      <td>Naldo</td>\n",
              "      <td>F. de Jong</td>\n",
              "      <td>M. Özil</td>\n",
              "      <td>Fabinho</td>\n",
              "      <td>Gerard Moreno</td>\n",
              "      <td>V. van Dijk</td>\n",
              "      <td>A. Di María</td>\n",
              "      <td>Nicolás Formido</td>\n",
              "      <td>Koke</td>\n",
              "      <td>Filipe Luís</td>\n",
              "      <td>M. Parolo</td>\n",
              "      <td>A. Sánchez</td>\n",
              "      <td>N. Keïta</td>\n",
              "      <td>L. Bender</td>\n",
              "      <td>Sebas Couteira</td>\n",
              "      <td>Raffael</td>\n",
              "      <td>Pablo Maffeo</td>\n",
              "      <td>J. Mojica</td>\n",
              "    </tr>\n",
              "  </tbody>\n",
              "</table>\n",
              "</div>"
            ],
            "text/plain": [
              "            RF                 ST  ...           RWB        LWB\n",
              "0     L. Messi  Cristiano Ronaldo  ...     M. Ginter  N. Schulz\n",
              "1   D. Mertens     R. Lewandowski  ...  P. Kadeřábek    Granell\n",
              "2    D. Valeri            H. Kane  ...    S. Coleman      Jonny\n",
              "3  L. Podolski          S. Agüero  ...  D. Caligiuri  J. Hector\n",
              "4     C. Ciano            G. Bale  ...  Pablo Maffeo  J. Mojica\n",
              "\n",
              "[5 rows x 27 columns]"
            ]
          },
          "metadata": {
            "tags": []
          },
          "execution_count": 306
        }
      ]
    },
    {
      "cell_type": "code",
      "metadata": {
        "id": "_RQZf_dyUpYw"
      },
      "source": [
        "from collections import Counter\r\n",
        "d= Counter([j for j in i for i in top_5.values()])\r\n",
        "dl= []\r\n",
        "for i in top_5.values():\r\n",
        "  for j in i:\r\n",
        "    dl.append(j)"
      ],
      "execution_count": 307,
      "outputs": []
    },
    {
      "cell_type": "code",
      "metadata": {
        "id": "4s--7QU-UpbR"
      },
      "source": [
        "Counter(dl).most_common()[:2]"
      ],
      "execution_count": 325,
      "outputs": []
    },
    {
      "cell_type": "code",
      "metadata": {
        "id": "UMn8n7aSUpd6"
      },
      "source": [
        "# There are no players being repeated. "
      ],
      "execution_count": 327,
      "outputs": []
    },
    {
      "cell_type": "code",
      "metadata": {
        "id": "_yNug8h-Upfz"
      },
      "source": [
        "# b\r\n",
        "\r\n",
        "sal= {}\r\n",
        "for i in df_top_5.columns:\r\n",
        "  h= []\r\n",
        "  for j in df_top_5[i]:\r\n",
        "    try:\r\n",
        "      h.append(*df_n.loc[df_n['Name'] == j]['Wage'].values)\r\n",
        "    except TypeError:\r\n",
        "      pass\r\n",
        "  sal[i]= sum(h)"
      ],
      "execution_count": 349,
      "outputs": []
    },
    {
      "cell_type": "code",
      "metadata": {
        "colab": {
          "base_uri": "https://localhost:8080/"
        },
        "id": "sQkrrk4jcHLK",
        "outputId": "bac61463-fa5f-49b4-997c-c738514ba1c2"
      },
      "source": [
        "# these are the average wage one can expect to pay position wise top 5 players.\r\n",
        "\r\n",
        "sal"
      ],
      "execution_count": 350,
      "outputs": [
        {
          "output_type": "execute_result",
          "data": {
            "text/plain": [
              "{'CAM': 870000.0,\n",
              " 'CB': 660000.0,\n",
              " 'CDM': 900000.0,\n",
              " 'CF': 237000.0,\n",
              " 'CM': 498000.0,\n",
              " 'GK': 964000.0,\n",
              " 'LAM': 93000.0,\n",
              " 'LB': 601000.0,\n",
              " 'LCB': 810000.0,\n",
              " 'LCM': 922000.0,\n",
              " 'LDM': 398000.0,\n",
              " 'LF': 606000.0,\n",
              " 'LM': 823000.0,\n",
              " 'LS': 651000.0,\n",
              " 'LW': 1110000.0,\n",
              " 'LWB': 171000.0,\n",
              " 'RAM': 77000.0,\n",
              " 'RB': 777000.0,\n",
              " 'RCB': 1155000.0,\n",
              " 'RCM': 1127000.0,\n",
              " 'RDM': 525000.0,\n",
              " 'RF': 740000.0,\n",
              " 'RM': 657000.0,\n",
              " 'RS': 206000.0,\n",
              " 'RW': 1010000.0,\n",
              " 'RWB': 221000.0,\n",
              " 'ST': 1470000.0}"
            ]
          },
          "metadata": {
            "tags": []
          },
          "execution_count": 350
        }
      ]
    },
    {
      "cell_type": "code",
      "metadata": {
        "id": "AtKBgdSydfSZ"
      },
      "source": [
        ""
      ],
      "execution_count": 345,
      "outputs": []
    },
    {
      "cell_type": "code",
      "metadata": {
        "colab": {
          "base_uri": "https://localhost:8080/"
        },
        "id": "nnsUlw9OdfVj",
        "outputId": "4c56777d-aef7-45e0-a8fd-dd766e81a028"
      },
      "source": [
        "# sanity check\r\n",
        "len(sal.keys())"
      ],
      "execution_count": 351,
      "outputs": [
        {
          "output_type": "execute_result",
          "data": {
            "text/plain": [
              "27"
            ]
          },
          "metadata": {
            "tags": []
          },
          "execution_count": 351
        }
      ]
    },
    {
      "cell_type": "code",
      "metadata": {
        "colab": {
          "base_uri": "https://localhost:8080/"
        },
        "id": "u1hmyL7_dfYU",
        "outputId": "af4f1f34-4047-48a4-c785-734f9128b58b"
      },
      "source": [
        "# Players recommended to the Brussels United FC\r\n",
        "\r\n",
        "for i in df_top_5.columns:\r\n",
        "  print(df_top_5[i][0])"
      ],
      "execution_count": 357,
      "outputs": [
        {
          "output_type": "stream",
          "text": [
            "L. Messi\n",
            "Cristiano Ronaldo\n",
            "Neymar Jr\n",
            "De Gea\n",
            "K. De Bruyne\n",
            "E. Hazard\n",
            "L. Suárez\n",
            "Sergio Ramos\n",
            "T. Kroos\n",
            "D. Godín\n",
            "N. Kanté\n",
            "A. Griezmann\n",
            "Sergio Busquets\n",
            "E. Cavani\n",
            "G. Chiellini\n",
            "K. Mbappé\n",
            "J. Rodríguez\n",
            "P. Aubameyang\n",
            "Marcelo\n",
            "P. Pogba\n",
            "Bernardo Silva\n",
            "Thiago\n",
            "Azpilicueta\n",
            "J. Cuadrado\n",
            "Luis Alberto\n",
            "M. Ginter\n",
            "N. Schulz\n"
          ],
          "name": "stdout"
        }
      ]
    },
    {
      "cell_type": "code",
      "metadata": {
        "id": "rVexDPN0dfau"
      },
      "source": [
        ""
      ],
      "execution_count": null,
      "outputs": []
    },
    {
      "cell_type": "code",
      "metadata": {
        "id": "rCGsyL3Udfdo"
      },
      "source": [
        ""
      ],
      "execution_count": null,
      "outputs": []
    },
    {
      "cell_type": "code",
      "metadata": {
        "id": "hYcWfTmxdfgD"
      },
      "source": [
        ""
      ],
      "execution_count": null,
      "outputs": []
    },
    {
      "cell_type": "code",
      "metadata": {
        "id": "XDXolMLddf9B"
      },
      "source": [
        ""
      ],
      "execution_count": null,
      "outputs": []
    },
    {
      "cell_type": "code",
      "metadata": {
        "id": "ETg1s_Ewdf_x"
      },
      "source": [
        ""
      ],
      "execution_count": null,
      "outputs": []
    },
    {
      "cell_type": "code",
      "metadata": {
        "id": "97plSXPmdgCn"
      },
      "source": [
        ""
      ],
      "execution_count": null,
      "outputs": []
    }
  ]
}