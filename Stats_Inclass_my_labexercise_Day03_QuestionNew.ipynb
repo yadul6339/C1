{
  "nbformat": 4,
  "nbformat_minor": 0,
  "metadata": {
    "kernelspec": {
      "display_name": "Python 3",
      "language": "python",
      "name": "python3"
    },
    "language_info": {
      "codemirror_mode": {
        "name": "ipython",
        "version": 3
      },
      "file_extension": ".py",
      "mimetype": "text/x-python",
      "name": "python",
      "nbconvert_exporter": "python",
      "pygments_lexer": "ipython3",
      "version": "3.7.3"
    },
    "colab": {
      "name": "Inclass_my_labexercise_Day03_QuestionNew.ipynb",
      "provenance": [],
      "collapsed_sections": [],
      "include_colab_link": true
    }
  },
  "cells": [
    {
      "cell_type": "markdown",
      "metadata": {
        "id": "view-in-github",
        "colab_type": "text"
      },
      "source": [
        "<a href=\"https://colab.research.google.com/github/zerryberry/C1/blob/master/Stats_Inclass_my_labexercise_Day03_QuestionNew.ipynb\" target=\"_parent\"><img src=\"https://colab.research.google.com/assets/colab-badge.svg\" alt=\"Open In Colab\"/></a>"
      ]
    },
    {
      "cell_type": "markdown",
      "metadata": {
        "id": "yMfPVLoY32rH"
      },
      "source": [
        "# ANOVA and Chi Square "
      ]
    },
    {
      "cell_type": "markdown",
      "metadata": {
        "id": "pZ4Elsao32rM"
      },
      "source": [
        "### Practice Exercise 1"
      ]
    },
    {
      "cell_type": "markdown",
      "metadata": {
        "id": "-0a3AGXH32rN"
      },
      "source": [
        "A company makes three types of electronic device.\n",
        "Life time in hours for each type of electronic device is given below:\n",
        "\n",
        "* life_type_A = [ 407, 411, 409 ]\n",
        "* life_type_B = [ 404, 406, 408, 405, 402 ]\n",
        "* ife_type_C  = [ 410, 408, 406, 408]"
      ]
    },
    {
      "cell_type": "markdown",
      "metadata": {
        "id": "qlNevwRL32rO"
      },
      "source": [
        "### Hint"
      ]
    },
    {
      "cell_type": "code",
      "metadata": {
        "id": "ixT_QxmT32rP"
      },
      "source": [
        "import pandas as pd\n",
        "import numpy as np\n",
        "import matplotlib.pyplot as plt\n",
        "import warnings\n",
        "warnings.filterwarnings(\"ignore\")\n",
        "import seaborn as sns"
      ],
      "execution_count": 41,
      "outputs": []
    },
    {
      "cell_type": "code",
      "metadata": {
        "id": "F1Q4O2_Y32rT"
      },
      "source": [
        "life_type_A = np.array([407, 411, 409 ])\n",
        "life_type_B = np.array([404, 406, 408, 405, 402 ])\n",
        "life_type_C  = np.array([410, 408, 406, 408])"
      ],
      "execution_count": 4,
      "outputs": []
    },
    {
      "cell_type": "code",
      "metadata": {
        "colab": {
          "base_uri": "https://localhost:8080/",
          "height": 421
        },
        "id": "noE60LSrjQa1",
        "outputId": "0765fe35-1f70-4e41-b097-3434403dc597"
      },
      "source": [
        "adf = pd.DataFrame()\r\n",
        "df1  = pd.DataFrame({'life_type': 'A', 'life':life_type_A})\r\n",
        "df2  = pd.DataFrame({'life_type': 'B', 'life':life_type_B})\r\n",
        "df3  = pd.DataFrame({'life_type': 'C', 'life':life_type_C})\r\n",
        "\r\n",
        "adf = adf.append(df1) \r\n",
        "adf = adf.append(df2) \r\n",
        "adf = adf.append(df3) \r\n",
        "adf"
      ],
      "execution_count": 139,
      "outputs": [
        {
          "output_type": "execute_result",
          "data": {
            "text/html": [
              "<div>\n",
              "<style scoped>\n",
              "    .dataframe tbody tr th:only-of-type {\n",
              "        vertical-align: middle;\n",
              "    }\n",
              "\n",
              "    .dataframe tbody tr th {\n",
              "        vertical-align: top;\n",
              "    }\n",
              "\n",
              "    .dataframe thead th {\n",
              "        text-align: right;\n",
              "    }\n",
              "</style>\n",
              "<table border=\"1\" class=\"dataframe\">\n",
              "  <thead>\n",
              "    <tr style=\"text-align: right;\">\n",
              "      <th></th>\n",
              "      <th>life_type</th>\n",
              "      <th>life</th>\n",
              "    </tr>\n",
              "  </thead>\n",
              "  <tbody>\n",
              "    <tr>\n",
              "      <th>0</th>\n",
              "      <td>A</td>\n",
              "      <td>407</td>\n",
              "    </tr>\n",
              "    <tr>\n",
              "      <th>1</th>\n",
              "      <td>A</td>\n",
              "      <td>411</td>\n",
              "    </tr>\n",
              "    <tr>\n",
              "      <th>2</th>\n",
              "      <td>A</td>\n",
              "      <td>409</td>\n",
              "    </tr>\n",
              "    <tr>\n",
              "      <th>0</th>\n",
              "      <td>B</td>\n",
              "      <td>404</td>\n",
              "    </tr>\n",
              "    <tr>\n",
              "      <th>1</th>\n",
              "      <td>B</td>\n",
              "      <td>406</td>\n",
              "    </tr>\n",
              "    <tr>\n",
              "      <th>2</th>\n",
              "      <td>B</td>\n",
              "      <td>408</td>\n",
              "    </tr>\n",
              "    <tr>\n",
              "      <th>3</th>\n",
              "      <td>B</td>\n",
              "      <td>405</td>\n",
              "    </tr>\n",
              "    <tr>\n",
              "      <th>4</th>\n",
              "      <td>B</td>\n",
              "      <td>402</td>\n",
              "    </tr>\n",
              "    <tr>\n",
              "      <th>0</th>\n",
              "      <td>C</td>\n",
              "      <td>410</td>\n",
              "    </tr>\n",
              "    <tr>\n",
              "      <th>1</th>\n",
              "      <td>C</td>\n",
              "      <td>408</td>\n",
              "    </tr>\n",
              "    <tr>\n",
              "      <th>2</th>\n",
              "      <td>C</td>\n",
              "      <td>406</td>\n",
              "    </tr>\n",
              "    <tr>\n",
              "      <th>3</th>\n",
              "      <td>C</td>\n",
              "      <td>408</td>\n",
              "    </tr>\n",
              "  </tbody>\n",
              "</table>\n",
              "</div>"
            ],
            "text/plain": [
              "  life_type  life\n",
              "0         A   407\n",
              "1         A   411\n",
              "2         A   409\n",
              "0         B   404\n",
              "1         B   406\n",
              "2         B   408\n",
              "3         B   405\n",
              "4         B   402\n",
              "0         C   410\n",
              "1         C   408\n",
              "2         C   406\n",
              "3         C   408"
            ]
          },
          "metadata": {
            "tags": []
          },
          "execution_count": 139
        }
      ]
    },
    {
      "cell_type": "markdown",
      "metadata": {
        "id": "sUvHWRhB32rY"
      },
      "source": [
        "### a)  Plot box plot for the above data and write your inference on the group means from the boxplots."
      ]
    },
    {
      "cell_type": "code",
      "metadata": {
        "id": "97DTdYkF32rZ",
        "colab": {
          "base_uri": "https://localhost:8080/",
          "height": 320
        },
        "outputId": "d12e51ee-33b3-44c1-97c4-b966df9ac00e"
      },
      "source": [
        "fig, axes= plt.subplots(1,3, figsize=(20, 5))\r\n",
        "sns.boxplot(life_type_A, ax=axes[0])\r\n",
        "sns.boxplot(life_type_B, ax=axes[1])\r\n",
        "sns.boxplot(life_type_C, ax=axes[2])\r\n",
        "plt.show()"
      ],
      "execution_count": 43,
      "outputs": [
        {
          "output_type": "display_data",
          "data": {
            "image/png": "[encoded data removed]",
            "text/plain": [
              "<Figure size 1440x360 with 3 Axes>"
            ]
          },
          "metadata": {
            "tags": [],
            "needs_background": "light"
          }
        }
      ]
    },
    {
      "cell_type": "code",
      "metadata": {
        "colab": {
          "base_uri": "https://localhost:8080/"
        },
        "id": "YXeo9KXC2ErQ",
        "outputId": "c9d34272-08b9-4fab-8488-8b71087d1e81"
      },
      "source": [
        "print(np.mean(life_type_A))\r\n",
        "print(np.mean(life_type_B))\r\n",
        "print(np.mean(life_type_C))"
      ],
      "execution_count": 119,
      "outputs": [
        {
          "output_type": "stream",
          "text": [
            "409.0\n",
            "405.0\n",
            "408.0\n"
          ],
          "name": "stdout"
        }
      ]
    },
    {
      "cell_type": "markdown",
      "metadata": {
        "id": "uPeWRNfiLNys"
      },
      "source": [
        "mean of life_type_A is 409, life_type_B is 405 and life_type_C is 408"
      ]
    },
    {
      "cell_type": "markdown",
      "metadata": {
        "id": "QmrC6MVu32rg"
      },
      "source": [
        "### b)  At 5% level of significance, is there any difference in the average lifetimes of the three types?"
      ]
    },
    {
      "cell_type": "code",
      "metadata": {
        "id": "pZkI8Gq432rl",
        "colab": {
          "base_uri": "https://localhost:8080/"
        },
        "outputId": "174c9ed1-77a7-416b-94c1-66e13429fc05"
      },
      "source": [
        "# Null hypothesis- they have same average lifetimes\r\n",
        "\r\n",
        "f_oneway(life_type_A, life_type_B, life_type_C)\r\n",
        "\r\n",
        "# since p value is less than 0.05, they dont have similar average lifetimes. "
      ],
      "execution_count": 99,
      "outputs": [
        {
          "output_type": "execute_result",
          "data": {
            "text/plain": [
              "F_onewayResult(statistic=4.5, pvalue=0.04419417382415922)"
            ]
          },
          "metadata": {
            "tags": []
          },
          "execution_count": 99
        }
      ]
    },
    {
      "cell_type": "markdown",
      "metadata": {
        "id": "uQUwrcNa32rr"
      },
      "source": [
        "### c)  If  you were able to reject the null hypothesis, you can proceed with post-hoc analysis to determine which means are different "
      ]
    },
    {
      "cell_type": "code",
      "metadata": {
        "id": "jsqFmZfx32rt"
      },
      "source": [
        "import statsmodels\r\n",
        "from statsmodels.stats.multicomp import pairwise_tukeyhsd"
      ],
      "execution_count": 136,
      "outputs": []
    },
    {
      "cell_type": "markdown",
      "metadata": {
        "id": "_oqp_TGnk7Sf"
      },
      "source": [
        "NULL hypothesis\r\n",
        "\r\n",
        "1. lifetime a = lifetime b\r\n",
        "2. lifetime b = lifetime c\r\n",
        "3. lifetime c = lifetime a\r\n",
        "\r\n",
        "Alternate hypothesis: \r\n",
        "Each of them have different means of lifetime"
      ]
    },
    {
      "cell_type": "code",
      "metadata": {
        "colab": {
          "base_uri": "https://localhost:8080/"
        },
        "id": "6BIBWUGMMKBP",
        "outputId": "511e254c-1264-4d5f-8f09-b4ca1e34e495"
      },
      "source": [
        "mc1= pairwise_tukeyhsd(adf['life'], adf['life_type'], alpha=0.05)\r\n",
        "print(mc1)"
      ],
      "execution_count": 142,
      "outputs": [
        {
          "output_type": "stream",
          "text": [
            "Multiple Comparison of Means - Tukey HSD, FWER=0.05\n",
            "===================================================\n",
            "group1 group2 meandiff p-adj   lower  upper  reject\n",
            "---------------------------------------------------\n",
            "     A      B     -4.0 0.0541 -8.0746 0.0746  False\n",
            "     A      C     -1.0 0.7824 -5.2613 3.2613  False\n",
            "     B      C      3.0 0.1177 -0.7427 6.7427  False\n",
            "---------------------------------------------------\n"
          ],
          "name": "stdout"
        }
      ]
    },
    {
      "cell_type": "code",
      "metadata": {
        "id": "H5Nkek0oMKGY"
      },
      "source": [
        "# Based on Honestly Significant T test between each samples, we fail to reject null hypothesis. "
      ],
      "execution_count": null,
      "outputs": []
    },
    {
      "cell_type": "markdown",
      "metadata": {
        "id": "tIDpYZ4432rw"
      },
      "source": [
        "### Practice Exercise 2"
      ]
    },
    {
      "cell_type": "markdown",
      "metadata": {
        "id": "z9KJ7wlzFYe1"
      },
      "source": [
        "### A sample of number of sell of a particular product over different days in different stores have been collected.Perform a test to check whether different stores and different days have any effect on the number of products that have been sold."
      ]
    },
    {
      "cell_type": "code",
      "metadata": {
        "id": "HZ1AHwj032rw"
      },
      "source": [
        "table1  = [['Day','Store-A','Store-B','Store-C','Store-D','Store-E'], [1,69, 71, 64, 67, 56],\\\n",
        "           [2, 68, 76, 79, 87, 76], [3, 71, 77, 74, 84, 72], [4, 70, 73, 71, 78, 73], [5, 60, 64, 67, 79, 58]]"
      ],
      "execution_count": 83,
      "outputs": []
    },
    {
      "cell_type": "code",
      "metadata": {
        "id": "woODVMWf32rz",
        "colab": {
          "base_uri": "https://localhost:8080/",
          "height": 173
        },
        "outputId": "bcf5a8be-2f3c-4343-90fb-0c556bd79e43"
      },
      "source": [
        "\n",
        "headers = ['Day','Store_A','Store_B','Store_C','Store_D','Store_E'] #\n",
        "\n",
        "df1 = pd.DataFrame(table1, columns=headers)\n",
        "df1"
      ],
      "execution_count": 109,
      "outputs": [
        {
          "output_type": "execute_result",
          "data": {
            "text/html": [
              "<div>\n",
              "<style scoped>\n",
              "    .dataframe tbody tr th:only-of-type {\n",
              "        vertical-align: middle;\n",
              "    }\n",
              "\n",
              "    .dataframe tbody tr th {\n",
              "        vertical-align: top;\n",
              "    }\n",
              "\n",
              "    .dataframe thead th {\n",
              "        text-align: right;\n",
              "    }\n",
              "</style>\n",
              "<table border=\"1\" class=\"dataframe\">\n",
              "  <thead>\n",
              "    <tr style=\"text-align: right;\">\n",
              "      <th></th>\n",
              "      <th>Day</th>\n",
              "      <th>Store_A</th>\n",
              "      <th>Store_B</th>\n",
              "      <th>Store_C</th>\n",
              "      <th>Store_D</th>\n",
              "      <th>Store_E</th>\n",
              "    </tr>\n",
              "  </thead>\n",
              "  <tbody>\n",
              "    <tr>\n",
              "      <th>0</th>\n",
              "      <td>2</td>\n",
              "      <td>68</td>\n",
              "      <td>76</td>\n",
              "      <td>79</td>\n",
              "      <td>87</td>\n",
              "      <td>76</td>\n",
              "    </tr>\n",
              "    <tr>\n",
              "      <th>1</th>\n",
              "      <td>3</td>\n",
              "      <td>71</td>\n",
              "      <td>77</td>\n",
              "      <td>74</td>\n",
              "      <td>84</td>\n",
              "      <td>72</td>\n",
              "    </tr>\n",
              "    <tr>\n",
              "      <th>2</th>\n",
              "      <td>4</td>\n",
              "      <td>70</td>\n",
              "      <td>73</td>\n",
              "      <td>71</td>\n",
              "      <td>78</td>\n",
              "      <td>73</td>\n",
              "    </tr>\n",
              "    <tr>\n",
              "      <th>3</th>\n",
              "      <td>5</td>\n",
              "      <td>60</td>\n",
              "      <td>64</td>\n",
              "      <td>67</td>\n",
              "      <td>79</td>\n",
              "      <td>58</td>\n",
              "    </tr>\n",
              "  </tbody>\n",
              "</table>\n",
              "</div>"
            ],
            "text/plain": [
              "   Day  Store_A  Store_B  Store_C  Store_D  Store_E\n",
              "0    2       68       76       79       87       76\n",
              "1    3       71       77       74       84       72\n",
              "2    4       70       73       71       78       73\n",
              "3    5       60       64       67       79       58"
            ]
          },
          "metadata": {
            "tags": []
          },
          "execution_count": 109
        }
      ]
    },
    {
      "cell_type": "code",
      "metadata": {
        "colab": {
          "base_uri": "https://localhost:8080/"
        },
        "id": "DokySDJgDjq7",
        "outputId": "a79d4e7b-5b8f-4f59-c65e-acdc0cac2b54"
      },
      "source": [
        "import statsmodels.api         as     sm\r\n",
        "from   statsmodels.formula.api import ols\r\n",
        "from   statsmodels.stats.anova import anova_lm\r\n",
        "\r\n",
        "formula = 'Day ~ Store_A'\r\n",
        "model = ols(formula, df1).fit()\r\n",
        "aov_table = anova_lm(model)\r\n",
        "\r\n",
        "print(aov_table)"
      ],
      "execution_count": 128,
      "outputs": [
        {
          "output_type": "stream",
          "text": [
            "           df    sum_sq   mean_sq         F    PR(>F)\n",
            "Store_A   1.0  2.090301  2.090301  1.436782  0.353424\n",
            "Residual  2.0  2.909699  1.454849       NaN       NaN\n"
          ],
          "name": "stdout"
        }
      ]
    },
    {
      "cell_type": "code",
      "metadata": {
        "colab": {
          "base_uri": "https://localhost:8080/"
        },
        "id": "QW2OJX0-dhXO",
        "outputId": "a978b001-ec16-4260-a81a-11eafd8ac944"
      },
      "source": [
        "formula = 'Day ~ Store_B'\r\n",
        "model = ols(formula, df1).fit()\r\n",
        "aov_table = anova_lm(model)\r\n",
        "\r\n",
        "print(aov_table)"
      ],
      "execution_count": 129,
      "outputs": [
        {
          "output_type": "stream",
          "text": [
            "           df    sum_sq   mean_sq    F    PR(>F)\n",
            "Store_B   1.0  3.809524  3.809524  6.4  0.127128\n",
            "Residual  2.0  1.190476  0.595238  NaN       NaN\n"
          ],
          "name": "stdout"
        }
      ]
    },
    {
      "cell_type": "code",
      "metadata": {
        "colab": {
          "base_uri": "https://localhost:8080/"
        },
        "id": "6BuwC-z2dhuS",
        "outputId": "70ffce55-2467-43e0-829b-0217837ec38d"
      },
      "source": [
        "formula = 'Day ~ Store_C'\r\n",
        "model = ols(formula, df1).fit()\r\n",
        "aov_table = anova_lm(model)\r\n",
        "\r\n",
        "print(aov_table)"
      ],
      "execution_count": 130,
      "outputs": [
        {
          "output_type": "stream",
          "text": [
            "           df    sum_sq   mean_sq           F    PR(>F)\n",
            "Store_C   1.0  4.954397  4.954397  217.285714  0.004571\n",
            "Residual  2.0  0.045603  0.022801         NaN       NaN\n"
          ],
          "name": "stdout"
        }
      ]
    },
    {
      "cell_type": "code",
      "metadata": {
        "colab": {
          "base_uri": "https://localhost:8080/"
        },
        "id": "Xk43Rpeddh4t",
        "outputId": "c01937e0-76d5-4ae1-c6d7-a7e5d494c0f9"
      },
      "source": [
        "formula = 'Day ~ Store_D'\r\n",
        "model = ols(formula, df1).fit()\r\n",
        "aov_table = anova_lm(model)\r\n",
        "\r\n",
        "print(aov_table)"
      ],
      "execution_count": 131,
      "outputs": [
        {
          "output_type": "stream",
          "text": [
            "           df    sum_sq   mean_sq     F    PR(>F)\n",
            "Store_D   1.0  4.166667  4.166667  10.0  0.087129\n",
            "Residual  2.0  0.833333  0.416667   NaN       NaN\n"
          ],
          "name": "stdout"
        }
      ]
    },
    {
      "cell_type": "code",
      "metadata": {
        "colab": {
          "base_uri": "https://localhost:8080/"
        },
        "id": "QAThAQckdiJc",
        "outputId": "ba6e13e3-1b5f-42a1-cce4-44698b25203c"
      },
      "source": [
        "formula = 'Day ~ Store_E'\r\n",
        "model = ols(formula, df1).fit()\r\n",
        "aov_table = anova_lm(model)\r\n",
        "\r\n",
        "print(aov_table)"
      ],
      "execution_count": 132,
      "outputs": [
        {
          "output_type": "stream",
          "text": [
            "           df   sum_sq  mean_sq         F    PR(>F)\n",
            "Store_E   1.0  3.64332  3.64332  5.370937  0.146382\n",
            "Residual  2.0  1.35668  0.67834       NaN       NaN\n"
          ],
          "name": "stdout"
        }
      ]
    },
    {
      "cell_type": "markdown",
      "metadata": {
        "id": "Vdm7gE2mdrad"
      },
      "source": [
        "## We can see that effect of days is significant in store C, the rest of the store has no effect from days"
      ]
    },
    {
      "cell_type": "markdown",
      "metadata": {
        "id": "Kb94aLbz32r7"
      },
      "source": [
        "## Chi Square"
      ]
    },
    {
      "cell_type": "markdown",
      "metadata": {
        "id": "cYhYKQjd32r7"
      },
      "source": [
        "### Practice Exercise 3"
      ]
    },
    {
      "cell_type": "markdown",
      "metadata": {
        "id": "RdPFcdeu026A"
      },
      "source": [
        "A1 airlines operated daily flights to several Indian cities. The operations manager believes that 28% of their passengers prefer vegan food, 42% prefer vegetarian food , 25% prefer non-veg food 5% request for Jain food. \n",
        "\n",
        "A sample of 500 passengers was chosen to analyse the food preferences and the data is shown in the following table:\n",
        "\n",
        "|               | Food type | Vegan | Vegetarian | Non-Vegetarian | Jain |\n",
        "| ------------------------- | ---- | ---- | ----- | ---- | ---- |\n",
        "|Number of passengers |  | 190 | 185 | 90 | 35 |\n",
        "\n",
        "At 5% level of significance, can you confirm that the meal preference is as per the belief of the operations manager?"
      ]
    },
    {
      "cell_type": "code",
      "metadata": {
        "id": "FYf-ylr-32r9"
      },
      "source": [
        "import scipy.stats as stats\n",
        "import scipy\n",
        "\n",
        "observed_values    = scipy.array([190, 185, 90, 35])\n",
        "n                  = observed_values.sum()\n"
      ],
      "execution_count": 81,
      "outputs": []
    },
    {
      "cell_type": "markdown",
      "metadata": {
        "id": "EWbAD67L-dxq"
      },
      "source": [
        "Null hypothesis:  H0 : Meal preference is as per the perceived ratios of the operations manager\r\n",
        "\r\n",
        "Alternative hypothesis:  HA : Meal preference is different from the perceived ratios of the operations manager\r\n",
        "\r\n"
      ]
    },
    {
      "cell_type": "code",
      "metadata": {
        "id": "BQ7xWvqF32sD",
        "colab": {
          "base_uri": "https://localhost:8080/"
        },
        "outputId": "55a161a9-18df-4434-eb76-c013745f1132"
      },
      "source": [
        "n= 500\r\n",
        "expected_values    = np.array([n*0.3, n*.45, n*0.2, n*0.05])\r\n",
        "\r\n",
        "chi_square_stat, p_value = stats.chisquare(observed_values, f_exp=expected_values)\r\n",
        "\r\n",
        "print('At 5 %s level of significance, the p-value is %1.7f' %('%', p_value))"
      ],
      "execution_count": 82,
      "outputs": [
        {
          "output_type": "stream",
          "text": [
            "At 5 % level of significance, the p-value is 0.0000449\n"
          ],
          "name": "stdout"
        }
      ]
    },
    {
      "cell_type": "markdown",
      "metadata": {
        "id": "PmPLBOV3-0YF"
      },
      "source": [
        "p value is 0.0000449 and < 0.05 so we reject the null hypothesis, \r\n",
        "## Meal preference is different from the perceived ratios of the operations manager"
      ]
    },
    {
      "cell_type": "markdown",
      "metadata": {
        "id": "0iSz4fc332sI"
      },
      "source": [
        "### Chi-square tests of independence"
      ]
    },
    {
      "cell_type": "markdown",
      "metadata": {
        "id": "Se0dGLN232sK"
      },
      "source": [
        "### Practice Exercise 4"
      ]
    },
    {
      "cell_type": "markdown",
      "metadata": {
        "id": "3g1a0FKB32sM"
      },
      "source": [
        "A Cable service provider company is interested in checking whether or not the customer churn depends on customer segment.  Use 5% as level of significance"
      ]
    },
    {
      "cell_type": "markdown",
      "metadata": {
        "id": "hxol9h7l32sO"
      },
      "source": [
        "| Customer Segment | Churned | Retained |\n",
        "|  -------- | ----- | ---- |\n",
        "| S1 | 15 | 142 |\n",
        "| S2 | 24 | 400 |\n",
        "| S3 | 30 | 389 |\n"
      ]
    },
    {
      "cell_type": "markdown",
      "metadata": {
        "id": "lujEIbTI32sQ"
      },
      "source": [
        "#### Hint"
      ]
    },
    {
      "cell_type": "code",
      "metadata": {
        "id": "6lpZw_cm32sS"
      },
      "source": [
        "import numpy as np\n",
        "import scipy.stats as stats\n",
        "\n",
        "churn_array = np.array([[15,142],[24, 400],[30, 389]])"
      ],
      "execution_count": 45,
      "outputs": []
    },
    {
      "cell_type": "markdown",
      "metadata": {
        "id": "3IFFKZye-Bh_"
      },
      "source": [
        "Null hypothesis:  H0 : There is no difference in Customer Segment\r\n",
        "\r\n",
        "Alternative hypothesis:  HA : There is a significant difference in Customer Segment"
      ]
    },
    {
      "cell_type": "code",
      "metadata": {
        "id": "p9z0C3Ux32sa",
        "colab": {
          "base_uri": "https://localhost:8080/"
        },
        "outputId": "d9562843-c4a9-4e2c-ee4f-b15e51bc88cf"
      },
      "source": [
        "# we use a Chi square test.\r\n",
        "\r\n",
        "stats.chi2_contingency(churn_array)"
      ],
      "execution_count": 77,
      "outputs": [
        {
          "output_type": "execute_result",
          "data": {
            "text/plain": [
              "(2.779977047087869, 0.24907816314986156, 2, array([[ 10.833, 146.167],\n",
              "        [ 29.256, 394.744],\n",
              "        [ 28.911, 390.089]]))"
            ]
          },
          "metadata": {
            "tags": []
          },
          "execution_count": 77
        }
      ]
    },
    {
      "cell_type": "markdown",
      "metadata": {
        "id": "RI_lJDua-LPU"
      },
      "source": [
        "since p value is more than 0.05, we fail to reject the null hypothesis. \r\n",
        "there is indeed no difference in Customer Segment"
      ]
    },
    {
      "cell_type": "code",
      "metadata": {
        "id": "EIL2yj7kI-aJ"
      },
      "source": [
        ""
      ],
      "execution_count": null,
      "outputs": []
    },
    {
      "cell_type": "markdown",
      "metadata": {
        "id": "Sh3-MCI232sf"
      },
      "source": [
        "## E N D  "
      ]
    }
  ]
}