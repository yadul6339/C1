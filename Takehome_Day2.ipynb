{
  "nbformat": 4,
  "nbformat_minor": 0,
  "metadata": {
    "colab": {
      "name": "Takehome-Day2.ipynb",
      "provenance": [],
      "collapsed_sections": [],
      "include_colab_link": true
    },
    "kernelspec": {
      "display_name": "Python 3",
      "language": "python",
      "name": "python3"
    },
    "language_info": {
      "codemirror_mode": {
        "name": "ipython",
        "version": 3
      },
      "file_extension": ".py",
      "mimetype": "text/x-python",
      "name": "python",
      "nbconvert_exporter": "python",
      "pygments_lexer": "ipython3",
      "version": "3.7.3"
    }
  },
  "cells": [
    {
      "cell_type": "markdown",
      "metadata": {
        "id": "view-in-github",
        "colab_type": "text"
      },
      "source": [
        "<a href=\"https://colab.research.google.com/github/zerryberry/C1/blob/master/Takehome_Day2.ipynb\" target=\"_parent\"><img src=\"https://colab.research.google.com/assets/colab-badge.svg\" alt=\"Open In Colab\"/></a>"
      ]
    },
    {
      "cell_type": "markdown",
      "metadata": {
        "id": "3rJl1IuGNDuW"
      },
      "source": [
        "1. For the given lists answer the below questions \n",
        "List1 = ['a','b','c']  \n",
        "List2 = [1,2,3,4]"
      ]
    },
    {
      "cell_type": "markdown",
      "metadata": {
        "id": "5LdqB7aSNDuX"
      },
      "source": [
        "1.A. Repeat the elements present in list1 thrice\n",
        "Output should be ['a', 'b', 'c', 'a', 'b', 'c', 'a', 'b', 'c']"
      ]
    },
    {
      "cell_type": "code",
      "metadata": {
        "id": "RT9WxCvUNDuY",
        "outputId": "cfb10d09-4b5a-43c5-e7b0-08a9304b7ec7",
        "colab": {
          "base_uri": "https://localhost:8080/",
          "height": 35
        }
      },
      "source": [
        "List1 = ['a','b','c']\n",
        "List1*3"
      ],
      "execution_count": null,
      "outputs": [
        {
          "output_type": "execute_result",
          "data": {
            "text/plain": [
              "['a', 'b', 'c', 'a', 'b', 'c', 'a', 'b', 'c']"
            ]
          },
          "metadata": {
            "tags": []
          },
          "execution_count": 3
        }
      ]
    },
    {
      "cell_type": "markdown",
      "metadata": {
        "id": "DXPXh29DNDub"
      },
      "source": [
        "1.B.Concat the elements present in list1 and list2"
      ]
    },
    {
      "cell_type": "code",
      "metadata": {
        "id": "DeSeXnX3NDuc",
        "outputId": "cc2e8350-10b6-432a-a6b3-400e2a3aaf7c",
        "colab": {
          "base_uri": "https://localhost:8080/",
          "height": 35
        }
      },
      "source": [
        "List2 = [1,2,3,4]\n",
        "List1 + List2"
      ],
      "execution_count": null,
      "outputs": [
        {
          "output_type": "execute_result",
          "data": {
            "text/plain": [
              "['a', 'b', 'c', 1, 2, 3, 4]"
            ]
          },
          "metadata": {
            "tags": []
          },
          "execution_count": 4
        }
      ]
    },
    {
      "cell_type": "markdown",
      "metadata": {
        "id": "pml7ky7kNDue"
      },
      "source": [
        "1.C. Use list1, check whether character 'a' is present in the list"
      ]
    },
    {
      "cell_type": "code",
      "metadata": {
        "id": "bDjtmOTxNDuf",
        "outputId": "eb0b83a9-a848-4d29-9d4f-40a62886f397",
        "colab": {
          "base_uri": "https://localhost:8080/",
          "height": 35
        }
      },
      "source": [
        "'a' in List1"
      ],
      "execution_count": null,
      "outputs": [
        {
          "output_type": "execute_result",
          "data": {
            "text/plain": [
              "True"
            ]
          },
          "metadata": {
            "tags": []
          },
          "execution_count": 6
        }
      ]
    },
    {
      "cell_type": "markdown",
      "metadata": {
        "id": "HFjYnNCMNDuh"
      },
      "source": [
        "1.D. Check the length of list1"
      ]
    },
    {
      "cell_type": "code",
      "metadata": {
        "id": "nyYVbkpoNDuh",
        "outputId": "daf5ac23-3dce-4f33-97c1-17eb00a3acc3",
        "colab": {
          "base_uri": "https://localhost:8080/",
          "height": 35
        }
      },
      "source": [
        "len(List1)"
      ],
      "execution_count": null,
      "outputs": [
        {
          "output_type": "execute_result",
          "data": {
            "text/plain": [
              "3"
            ]
          },
          "metadata": {
            "tags": []
          },
          "execution_count": 7
        }
      ]
    },
    {
      "cell_type": "markdown",
      "metadata": {
        "id": "X2q_9d2iNDuk"
      },
      "source": [
        "1.E. Using for loop iterate over the elements present in the list and print it"
      ]
    },
    {
      "cell_type": "code",
      "metadata": {
        "id": "NE7U7b63NDul",
        "outputId": "ed4b2585-d28c-41a4-e96d-95ec9c92abbc",
        "colab": {
          "base_uri": "https://localhost:8080/",
          "height": 72
        }
      },
      "source": [
        "for i in List1:\n",
        "  print(i)"
      ],
      "execution_count": null,
      "outputs": [
        {
          "output_type": "stream",
          "text": [
            "a\n",
            "b\n",
            "c\n"
          ],
          "name": "stdout"
        }
      ]
    },
    {
      "cell_type": "markdown",
      "metadata": {
        "id": "by7bBXV2NDun"
      },
      "source": [
        "2. Using the below tuple, answer the below questions\n",
        "  Tuple1 = (11,4,21,4,115,6,13,51,4,16,77,8,17,17,876,89,8765,14,51,11,876,9,3456,4234)\n"
      ]
    },
    {
      "cell_type": "markdown",
      "metadata": {
        "id": "sYO5rayHNDun"
      },
      "source": [
        "2.A. Fetch the item in tuple with maximum value"
      ]
    },
    {
      "cell_type": "code",
      "metadata": {
        "id": "0813gtlsNDuo",
        "outputId": "b88547be-55e7-4027-a37e-790b557a31dd",
        "colab": {
          "base_uri": "https://localhost:8080/",
          "height": 35
        }
      },
      "source": [
        "Tuple1 = (11,4,21,4,115,6,13,51,4,16,77,8,17,17,876,89,8765,14,51,11,876,9,3456,4234)\n",
        "max(Tuple1)"
      ],
      "execution_count": null,
      "outputs": [
        {
          "output_type": "execute_result",
          "data": {
            "text/plain": [
              "8765"
            ]
          },
          "metadata": {
            "tags": []
          },
          "execution_count": 12
        }
      ]
    },
    {
      "cell_type": "markdown",
      "metadata": {
        "id": "XcymUbppNDur"
      },
      "source": [
        "2.B.  Fetch the item in tuple with minimum value"
      ]
    },
    {
      "cell_type": "code",
      "metadata": {
        "id": "lpmQA7pjNDur",
        "outputId": "b15cf9d7-bcc8-44c5-bd89-2469628f15aa",
        "colab": {
          "base_uri": "https://localhost:8080/",
          "height": 35
        }
      },
      "source": [
        "min(Tuple1)"
      ],
      "execution_count": null,
      "outputs": [
        {
          "output_type": "execute_result",
          "data": {
            "text/plain": [
              "4"
            ]
          },
          "metadata": {
            "tags": []
          },
          "execution_count": 13
        }
      ]
    },
    {
      "cell_type": "markdown",
      "metadata": {
        "id": "SRVy5lcVNDut"
      },
      "source": [
        "2.C.Convert the string 'my string' to a tuple"
      ]
    },
    {
      "cell_type": "code",
      "metadata": {
        "id": "w922ZfGcNDuu",
        "outputId": "eaaa7352-ba7f-40f2-e233-6198beb602c6",
        "colab": {
          "base_uri": "https://localhost:8080/",
          "height": 35
        }
      },
      "source": [
        "a= 'my string', \n",
        "type(a)"
      ],
      "execution_count": null,
      "outputs": [
        {
          "output_type": "execute_result",
          "data": {
            "text/plain": [
              "tuple"
            ]
          },
          "metadata": {
            "tags": []
          },
          "execution_count": 15
        }
      ]
    },
    {
      "cell_type": "markdown",
      "metadata": {
        "id": "zoglai2INDuw"
      },
      "source": [
        "3. Use the below list and answer the below questions\n",
        "           List = ['white','red', 'blue', 'green','blue','yellow', 'black']\n"
      ]
    },
    {
      "cell_type": "markdown",
      "metadata": {
        "id": "BtWytSvENDuw"
      },
      "source": [
        "3.A) Append 'C' to the list"
      ]
    },
    {
      "cell_type": "code",
      "metadata": {
        "id": "muqTp3oONDux"
      },
      "source": [
        "   List = ['white','red', 'blue', 'green','blue','yellow', 'black']\n",
        "   List.append('c')"
      ],
      "execution_count": null,
      "outputs": []
    },
    {
      "cell_type": "markdown",
      "metadata": {
        "id": "hBDf5ARONDu2"
      },
      "source": [
        "3.B) Clear all the elements present in the list."
      ]
    },
    {
      "cell_type": "code",
      "metadata": {
        "id": "rQLMpwXkNDu3",
        "outputId": "83289452-67ff-4385-e7e4-ec6e7ced7ebe",
        "colab": {
          "base_uri": "https://localhost:8080/",
          "height": 35
        }
      },
      "source": [
        "List.clear()\n",
        "List"
      ],
      "execution_count": null,
      "outputs": [
        {
          "output_type": "execute_result",
          "data": {
            "text/plain": [
              "[]"
            ]
          },
          "metadata": {
            "tags": []
          },
          "execution_count": 20
        }
      ]
    },
    {
      "cell_type": "markdown",
      "metadata": {
        "id": "Xwjs9u24NDu7"
      },
      "source": [
        "3.C) Copy the list and store it in another variable."
      ]
    },
    {
      "cell_type": "code",
      "metadata": {
        "id": "rDTtMNlZNDu8",
        "outputId": "f9f4203c-19cc-4ba2-8583-72aafe7a3064",
        "colab": {
          "base_uri": "https://localhost:8080/",
          "height": 35
        }
      },
      "source": [
        "   List = ['white','red', 'blue', 'green','blue','yellow', 'black']\n",
        "\n",
        "   d= List.copy()\n",
        "\n",
        "   d"
      ],
      "execution_count": null,
      "outputs": [
        {
          "output_type": "execute_result",
          "data": {
            "text/plain": [
              "['white', 'red', 'blue', 'green', 'blue', 'yellow', 'black']"
            ]
          },
          "metadata": {
            "tags": []
          },
          "execution_count": 21
        }
      ]
    },
    {
      "cell_type": "markdown",
      "metadata": {
        "id": "aWKmQpzPNDu-"
      },
      "source": [
        "3. D) Count how many times 'blue' is present in the list"
      ]
    },
    {
      "cell_type": "code",
      "metadata": {
        "id": "hJDqcqddNDu_",
        "outputId": "ceec0ac8-a335-43e5-d26c-cdf154d62174",
        "colab": {
          "base_uri": "https://localhost:8080/",
          "height": 35
        }
      },
      "source": [
        "List.count('blue')"
      ],
      "execution_count": null,
      "outputs": [
        {
          "output_type": "execute_result",
          "data": {
            "text/plain": [
              "2"
            ]
          },
          "metadata": {
            "tags": []
          },
          "execution_count": 22
        }
      ]
    },
    {
      "cell_type": "markdown",
      "metadata": {
        "id": "5_LVtewTNDvB"
      },
      "source": [
        "3.E) Append List1 = ['a', 'e', 'i', 'o', 'i', 'u','y','w','tre','ytre','uyt'] to the existing list"
      ]
    },
    {
      "cell_type": "code",
      "metadata": {
        "id": "f1-JQ0-PNDvC"
      },
      "source": [
        "List1 = ['a', 'e', 'i', 'o', 'i', 'u','y','w','tre','ytre','uyt']\n",
        "List.append(List1)"
      ],
      "execution_count": null,
      "outputs": []
    },
    {
      "cell_type": "code",
      "metadata": {
        "id": "f2h1an9kDY0k",
        "outputId": "876c870a-456c-4aa3-cbb1-cce49c690af8",
        "colab": {
          "base_uri": "https://localhost:8080/",
          "height": 181
        }
      },
      "source": [
        "List"
      ],
      "execution_count": null,
      "outputs": [
        {
          "output_type": "execute_result",
          "data": {
            "text/plain": [
              "['white',\n",
              " 'red',\n",
              " 'blue',\n",
              " 'green',\n",
              " 'blue',\n",
              " 'yellow',\n",
              " 'black',\n",
              " ['a', 'b', 'c'],\n",
              " ['a', 'e', 'i', 'o', 'i', 'u', 'y', 'w', 'tre', 'ytre', 'uyt']]"
            ]
          },
          "metadata": {
            "tags": []
          },
          "execution_count": 27
        }
      ]
    },
    {
      "cell_type": "markdown",
      "metadata": {
        "id": "bCp1Tmh5NDvE"
      },
      "source": [
        "3.F) Find the index position of 'red'"
      ]
    },
    {
      "cell_type": "code",
      "metadata": {
        "id": "W4EPXQ2DNDvF",
        "outputId": "31190131-bc6f-4628-c591-a0fdf7200c5d",
        "colab": {
          "base_uri": "https://localhost:8080/",
          "height": 35
        }
      },
      "source": [
        "List.index('red')"
      ],
      "execution_count": null,
      "outputs": [
        {
          "output_type": "execute_result",
          "data": {
            "text/plain": [
              "1"
            ]
          },
          "metadata": {
            "tags": []
          },
          "execution_count": 28
        }
      ]
    },
    {
      "cell_type": "markdown",
      "metadata": {
        "id": "bBgon2JMNDvK"
      },
      "source": [
        "3.G) Insert letter 'o' in index position 3 "
      ]
    },
    {
      "cell_type": "code",
      "metadata": {
        "id": "s7gHxBgoNDvK",
        "outputId": "ab361231-0d80-4827-844d-b11e31233f14",
        "colab": {
          "base_uri": "https://localhost:8080/",
          "height": 199
        }
      },
      "source": [
        "List.insert(3, 'o' )\n",
        "List"
      ],
      "execution_count": null,
      "outputs": [
        {
          "output_type": "execute_result",
          "data": {
            "text/plain": [
              "['white',\n",
              " 'red',\n",
              " 'blue',\n",
              " 'o',\n",
              " 'green',\n",
              " 'blue',\n",
              " 'yellow',\n",
              " 'black',\n",
              " ['a', 'b', 'c'],\n",
              " ['a', 'e', 'i', 'o', 'i', 'u', 'y', 'w', 'tre', 'ytre', 'uyt']]"
            ]
          },
          "metadata": {
            "tags": []
          },
          "execution_count": 29
        }
      ]
    },
    {
      "cell_type": "markdown",
      "metadata": {
        "id": "mtkDfja8NDvN"
      },
      "source": [
        "3.H) Remove the list element present in index position 3"
      ]
    },
    {
      "cell_type": "code",
      "metadata": {
        "id": "vJ3WawWZNDvO",
        "outputId": "90033bf7-24ec-4619-f01f-ff1f1dae953e",
        "colab": {
          "base_uri": "https://localhost:8080/",
          "height": 35
        }
      },
      "source": [
        "List.pop(3)"
      ],
      "execution_count": null,
      "outputs": [
        {
          "output_type": "execute_result",
          "data": {
            "application/vnd.google.colaboratory.intrinsic+json": {
              "type": "string"
            },
            "text/plain": [
              "'o'"
            ]
          },
          "metadata": {
            "tags": []
          },
          "execution_count": 30
        }
      ]
    },
    {
      "cell_type": "code",
      "metadata": {
        "id": "lDgAHU9kD2al",
        "outputId": "8bfc10e0-b282-4ab8-be4c-aaed48269c88",
        "colab": {
          "base_uri": "https://localhost:8080/",
          "height": 181
        }
      },
      "source": [
        "List"
      ],
      "execution_count": null,
      "outputs": [
        {
          "output_type": "execute_result",
          "data": {
            "text/plain": [
              "['white',\n",
              " 'red',\n",
              " 'blue',\n",
              " 'green',\n",
              " 'blue',\n",
              " 'yellow',\n",
              " 'black',\n",
              " ['a', 'b', 'c'],\n",
              " ['a', 'e', 'i', 'o', 'i', 'u', 'y', 'w', 'tre', 'ytre', 'uyt']]"
            ]
          },
          "metadata": {
            "tags": []
          },
          "execution_count": 31
        }
      ]
    },
    {
      "cell_type": "markdown",
      "metadata": {
        "id": "gpm1RipgNDvQ"
      },
      "source": [
        "3.I) Remove 'blue' from the list"
      ]
    },
    {
      "cell_type": "code",
      "metadata": {
        "id": "k3_nd5SyNDvQ",
        "outputId": "6dbe64eb-1755-4471-8902-0b552c70d54a",
        "colab": {
          "base_uri": "https://localhost:8080/",
          "height": 145
        }
      },
      "source": [
        "for i in List:\n",
        "  if i == 'blue':\n",
        "    List.remove(i)\n",
        "\n",
        "List"
      ],
      "execution_count": null,
      "outputs": [
        {
          "output_type": "execute_result",
          "data": {
            "text/plain": [
              "['white',\n",
              " 'red',\n",
              " 'green',\n",
              " 'yellow',\n",
              " 'black',\n",
              " ['a', 'b', 'c'],\n",
              " ['a', 'e', 'i', 'o', 'i', 'u', 'y', 'w', 'tre', 'ytre', 'uyt']]"
            ]
          },
          "metadata": {
            "tags": []
          },
          "execution_count": 33
        }
      ]
    },
    {
      "cell_type": "markdown",
      "metadata": {
        "id": "O1fnWG0PNDvS"
      },
      "source": [
        "3.j) Reverse all the elements present in the list"
      ]
    },
    {
      "cell_type": "code",
      "metadata": {
        "id": "wx46wVlWNDvS",
        "outputId": "c1a4cda9-d2d5-4082-cb08-cdcb7c69a73d",
        "colab": {
          "base_uri": "https://localhost:8080/",
          "height": 145
        }
      },
      "source": [
        "List[::-1]"
      ],
      "execution_count": null,
      "outputs": [
        {
          "output_type": "execute_result",
          "data": {
            "text/plain": [
              "[['a', 'e', 'i', 'o', 'i', 'u', 'y', 'w', 'tre', 'ytre', 'uyt'],\n",
              " ['a', 'b', 'c'],\n",
              " 'black',\n",
              " 'yellow',\n",
              " 'green',\n",
              " 'red',\n",
              " 'white']"
            ]
          },
          "metadata": {
            "tags": []
          },
          "execution_count": 34
        }
      ]
    },
    {
      "cell_type": "markdown",
      "metadata": {
        "id": "iihpj6eLNDvU"
      },
      "source": [
        "3.K) Sort the list in ascending order"
      ]
    },
    {
      "cell_type": "code",
      "metadata": {
        "id": "jnDgiTRkNDvV",
        "outputId": "92372a66-129c-406d-8e2b-1c1b34ca1295",
        "colab": {
          "base_uri": "https://localhost:8080/",
          "height": 35
        }
      },
      "source": [
        "#List isnt homogenous in data types of elements. cant do this operation\n",
        "\n",
        "# removing first 2 elements, then we can do a sorted. "
      ],
      "execution_count": null,
      "outputs": [
        {
          "output_type": "stream",
          "text": [
            "['a', 'b', 'c']\n"
          ],
          "name": "stdout"
        }
      ]
    },
    {
      "cell_type": "markdown",
      "metadata": {
        "id": "GpGUQUZvNDvX"
      },
      "source": [
        "4. Use the below sets and perform union, intersection, difference and symmetric difference\n",
        "\n",
        "        Set1 = {1,4,3,4,4,3,5,6,7,8,9,6,8,5,436,54,876,9876,87654,787654,56}\n",
        "        Set2 = {9,8,9,5,7,4,6,57,88,7654,8,876,678,8765,45,6789,8765,467,887,65}\n",
        "    "
      ]
    },
    {
      "cell_type": "markdown",
      "metadata": {
        "id": "5BXnGvcXA-O8"
      },
      "source": [
        "Union:"
      ]
    },
    {
      "cell_type": "code",
      "metadata": {
        "id": "fKdGvjGBNDvY",
        "outputId": "71143004-93e6-40eb-ea34-84c43cbd9c3d",
        "colab": {
          "base_uri": "https://localhost:8080/",
          "height": 472
        }
      },
      "source": [
        " Set1 = {1,4,3,4,4,3,5,6,7,8,9,6,8,5,436,54,876,9876,87654,787654,56}\n",
        " Set2 = {9,8,9,5,7,4,6,57,88,7654,8,876,678,8765,45,6789,8765,467,887,65}\n",
        "\n",
        " Set1.union(Set2)"
      ],
      "execution_count": null,
      "outputs": [
        {
          "output_type": "execute_result",
          "data": {
            "text/plain": [
              "{1,\n",
              " 3,\n",
              " 4,\n",
              " 5,\n",
              " 6,\n",
              " 7,\n",
              " 8,\n",
              " 9,\n",
              " 45,\n",
              " 54,\n",
              " 56,\n",
              " 57,\n",
              " 65,\n",
              " 88,\n",
              " 436,\n",
              " 467,\n",
              " 678,\n",
              " 876,\n",
              " 887,\n",
              " 6789,\n",
              " 7654,\n",
              " 8765,\n",
              " 9876,\n",
              " 87654,\n",
              " 787654}"
            ]
          },
          "metadata": {
            "tags": []
          },
          "execution_count": 2
        }
      ]
    },
    {
      "cell_type": "markdown",
      "metadata": {
        "id": "Lr0LV0YbNDvc"
      },
      "source": [
        "Intersection:"
      ]
    },
    {
      "cell_type": "code",
      "metadata": {
        "id": "Eru4gzGDNDvd",
        "outputId": "fee13524-8aff-43f5-9557-b1ea42ea7fbb",
        "colab": {
          "base_uri": "https://localhost:8080/",
          "height": 35
        }
      },
      "source": [
        "Set1.intersection(Set2)"
      ],
      "execution_count": null,
      "outputs": [
        {
          "output_type": "execute_result",
          "data": {
            "text/plain": [
              "{4, 5, 6, 7, 8, 9, 876}"
            ]
          },
          "metadata": {
            "tags": []
          },
          "execution_count": 44
        }
      ]
    },
    {
      "cell_type": "markdown",
      "metadata": {
        "id": "-f1doL1INDvg"
      },
      "source": [
        "Difference:"
      ]
    },
    {
      "cell_type": "code",
      "metadata": {
        "id": "Y3lupr_7NDvh",
        "outputId": "4257716c-2784-4bba-cc5e-3789f1820f51",
        "colab": {
          "base_uri": "https://localhost:8080/",
          "height": 35
        }
      },
      "source": [
        "Set1.difference(Set2)"
      ],
      "execution_count": null,
      "outputs": [
        {
          "output_type": "execute_result",
          "data": {
            "text/plain": [
              "{1, 3, 54, 56, 436, 9876, 87654, 787654}"
            ]
          },
          "metadata": {
            "tags": []
          },
          "execution_count": 45
        }
      ]
    },
    {
      "cell_type": "markdown",
      "metadata": {
        "id": "kPnoCMmENDvj"
      },
      "source": [
        "Symmetric difference:"
      ]
    },
    {
      "cell_type": "code",
      "metadata": {
        "id": "Idek56PJNDvk",
        "outputId": "68a7a6ae-1d5f-490d-8491-d59425a28888",
        "colab": {
          "base_uri": "https://localhost:8080/",
          "height": 345
        }
      },
      "source": [
        "Set1.symmetric_difference(Set2)"
      ],
      "execution_count": null,
      "outputs": [
        {
          "output_type": "execute_result",
          "data": {
            "text/plain": [
              "{1,\n",
              " 3,\n",
              " 45,\n",
              " 54,\n",
              " 56,\n",
              " 57,\n",
              " 65,\n",
              " 88,\n",
              " 436,\n",
              " 467,\n",
              " 678,\n",
              " 887,\n",
              " 6789,\n",
              " 7654,\n",
              " 8765,\n",
              " 9876,\n",
              " 87654,\n",
              " 787654}"
            ]
          },
          "metadata": {
            "tags": []
          },
          "execution_count": 46
        }
      ]
    },
    {
      "cell_type": "markdown",
      "metadata": {
        "id": "ujkvS9qJNDvn"
      },
      "source": [
        "5. Use the given dictionary and answer the below questions\n",
        "\n",
        "                            dictionaries = {'a': 'alpha', 'o': 'omega', 'g': 'gamma'}"
      ]
    },
    {
      "cell_type": "markdown",
      "metadata": {
        "id": "AZPNS03zNDvo"
      },
      "source": [
        "5.A) Wipe out all the items present in the dictionary"
      ]
    },
    {
      "cell_type": "code",
      "metadata": {
        "id": "EBbzUz5HNDvo"
      },
      "source": [
        "dictionaries = {'a': 'alpha', 'o': 'omega', 'g': 'gamma'}\n",
        "dictionaries.clear()"
      ],
      "execution_count": null,
      "outputs": []
    },
    {
      "cell_type": "code",
      "metadata": {
        "id": "9hof3aqVImdx",
        "outputId": "2db4e097-9248-40a6-8d9a-cc556f4ab7b3",
        "colab": {
          "base_uri": "https://localhost:8080/",
          "height": 35
        }
      },
      "source": [
        "dictionaries"
      ],
      "execution_count": null,
      "outputs": [
        {
          "output_type": "execute_result",
          "data": {
            "text/plain": [
              "{}"
            ]
          },
          "metadata": {
            "tags": []
          },
          "execution_count": 49
        }
      ]
    },
    {
      "cell_type": "markdown",
      "metadata": {
        "id": "Q_9tfFfdNDvw"
      },
      "source": [
        "5.B) Copy all the items present in the dictionary to create a new variable"
      ]
    },
    {
      "cell_type": "code",
      "metadata": {
        "id": "U_QbHv6bNDvw",
        "outputId": "b0252ed7-e721-4d5b-a706-f37e5ddee3da",
        "colab": {
          "base_uri": "https://localhost:8080/",
          "height": 35
        }
      },
      "source": [
        "a= dictionaries.copy()\n",
        "a"
      ],
      "execution_count": null,
      "outputs": [
        {
          "output_type": "execute_result",
          "data": {
            "text/plain": [
              "{'a': 'alpha', 'g': 'gamma', 'o': 'omega'}"
            ]
          },
          "metadata": {
            "tags": []
          },
          "execution_count": 51
        }
      ]
    },
    {
      "cell_type": "markdown",
      "metadata": {
        "id": "wxwkAmPyNDvy"
      },
      "source": [
        "5.C) How to get the output: {'a': None, 'o': None, 'e': None, 'u': None, 'i': None}"
      ]
    },
    {
      "cell_type": "code",
      "metadata": {
        "id": "dlMpsEqhNDvz",
        "outputId": "b7bd98b3-dada-42b4-96fe-9f6599ec664e",
        "colab": {
          "base_uri": "https://localhost:8080/",
          "height": 35
        }
      },
      "source": [
        "vowels= ['a', 'o',  'e', 'u', 'i']\n",
        "a= {}\n",
        "for i in vowels:\n",
        "  a[i] = None\n",
        "\n",
        "a"
      ],
      "execution_count": null,
      "outputs": [
        {
          "output_type": "execute_result",
          "data": {
            "text/plain": [
              "{'a': None, 'e': None, 'i': None, 'o': None, 'u': None}"
            ]
          },
          "metadata": {
            "tags": []
          },
          "execution_count": 52
        }
      ]
    },
    {
      "cell_type": "markdown",
      "metadata": {
        "id": "H-Q6pM38NDv1"
      },
      "source": [
        "5.D) Fetch all the items present in the dictionary"
      ]
    },
    {
      "cell_type": "code",
      "metadata": {
        "id": "WRfHDTYhNDv1",
        "outputId": "33d69bce-a306-4ff3-cf62-f21bbb9789bf",
        "colab": {
          "base_uri": "https://localhost:8080/",
          "height": 35
        }
      },
      "source": [
        "dictionaries.items()"
      ],
      "execution_count": null,
      "outputs": [
        {
          "output_type": "execute_result",
          "data": {
            "text/plain": [
              "dict_items([('a', 'alpha'), ('o', 'omega'), ('g', 'gamma')])"
            ]
          },
          "metadata": {
            "tags": []
          },
          "execution_count": 53
        }
      ]
    },
    {
      "cell_type": "markdown",
      "metadata": {
        "id": "hZz9h2bMNDv4"
      },
      "source": [
        "5.E) Fetch only the keys from the dictionary"
      ]
    },
    {
      "cell_type": "code",
      "metadata": {
        "id": "P4Zs0pszNDv4",
        "outputId": "9b1ccdea-1fe6-495f-8242-9eea6a298c51",
        "colab": {
          "base_uri": "https://localhost:8080/",
          "height": 35
        }
      },
      "source": [
        "dictionaries.keys()"
      ],
      "execution_count": null,
      "outputs": [
        {
          "output_type": "execute_result",
          "data": {
            "text/plain": [
              "dict_keys(['a', 'o', 'g'])"
            ]
          },
          "metadata": {
            "tags": []
          },
          "execution_count": 54
        }
      ]
    },
    {
      "cell_type": "markdown",
      "metadata": {
        "id": "aXRChXncNDv6"
      },
      "source": [
        "5.F) Insert key 'Salary' with no value in the dictionary"
      ]
    },
    {
      "cell_type": "code",
      "metadata": {
        "id": "0NCXOqBBNDv6"
      },
      "source": [
        "dictionaries['Salary'] = ''"
      ],
      "execution_count": null,
      "outputs": []
    },
    {
      "cell_type": "code",
      "metadata": {
        "id": "MH9h_-ggJtUn",
        "outputId": "d1436329-12b8-4665-be22-9a9d8ac1bdc4",
        "colab": {
          "base_uri": "https://localhost:8080/",
          "height": 35
        }
      },
      "source": [
        "dictionaries"
      ],
      "execution_count": null,
      "outputs": [
        {
          "output_type": "execute_result",
          "data": {
            "text/plain": [
              "{'Salary': '', 'a': 'alpha', 'g': 'gamma', 'o': 'omega'}"
            ]
          },
          "metadata": {
            "tags": []
          },
          "execution_count": 56
        }
      ]
    },
    {
      "cell_type": "markdown",
      "metadata": {
        "id": "gLOIs170NDv8"
      },
      "source": [
        "5.G) Insert key-value 3: 'three' inside the dictionary"
      ]
    },
    {
      "cell_type": "code",
      "metadata": {
        "id": "Y0T4-hqSNDv8",
        "outputId": "3d29a1d6-cc62-477f-d699-7a1be9fbf298",
        "colab": {
          "base_uri": "https://localhost:8080/",
          "height": 35
        }
      },
      "source": [
        "dictionaries[3] = 'three'\n",
        "dictionaries"
      ],
      "execution_count": null,
      "outputs": [
        {
          "output_type": "execute_result",
          "data": {
            "text/plain": [
              "{3: 'three', 'Salary': '', 'a': 'alpha', 'g': 'gamma', 'o': 'omega'}"
            ]
          },
          "metadata": {
            "tags": []
          },
          "execution_count": 57
        }
      ]
    },
    {
      "cell_type": "markdown",
      "metadata": {
        "id": "_kdovPYmNDv-"
      },
      "source": [
        "5.H)  Fetch only the values from the dictionary"
      ]
    },
    {
      "cell_type": "code",
      "metadata": {
        "id": "xgm5d61jNDv_",
        "outputId": "12e5147c-1099-4f50-d0b7-bcb6784fc4e5",
        "colab": {
          "base_uri": "https://localhost:8080/",
          "height": 35
        }
      },
      "source": [
        "dictionaries.values()"
      ],
      "execution_count": null,
      "outputs": [
        {
          "output_type": "execute_result",
          "data": {
            "text/plain": [
              "dict_values(['alpha', 'omega', 'gamma', '', 'three'])"
            ]
          },
          "metadata": {
            "tags": []
          },
          "execution_count": 59
        }
      ]
    },
    {
      "cell_type": "markdown",
      "metadata": {
        "id": "UWw4vvDwNDwB"
      },
      "source": [
        "6. Store a number in a variable and check if that variable is equal to 10, If yes, print \"Hello\""
      ]
    },
    {
      "cell_type": "code",
      "metadata": {
        "id": "TYboAoY7NDwB",
        "outputId": "11bec19d-ed5b-416e-daec-9ba962c0c3e1",
        "colab": {
          "base_uri": "https://localhost:8080/",
          "height": 35
        }
      },
      "source": [
        "a= 10\n",
        "if a==10:\n",
        "  print('Hello')"
      ],
      "execution_count": null,
      "outputs": [
        {
          "output_type": "stream",
          "text": [
            "Hello\n"
          ],
          "name": "stdout"
        }
      ]
    },
    {
      "cell_type": "markdown",
      "metadata": {
        "id": "dg8569QWNDwH"
      },
      "source": [
        "7. Store a number in a variable and check if that variable is equal to 10, If yes, print \"Hello\", else print \"Good Bye\""
      ]
    },
    {
      "cell_type": "code",
      "metadata": {
        "id": "b3teYV7_NDwH",
        "outputId": "f06cc61d-7be7-46c4-a349-b4448a198735",
        "colab": {
          "base_uri": "https://localhost:8080/",
          "height": 35
        }
      },
      "source": [
        "a= 456\n",
        "\n",
        "['Hello' if a==10 else 'Good Bye']\n",
        "\n",
        "\n",
        "#or\n",
        "\n",
        "if a==10:\n",
        "  print('Hello')\n",
        "else:\n",
        "  print('Good Bye')"
      ],
      "execution_count": null,
      "outputs": [
        {
          "output_type": "stream",
          "text": [
            "Good Bye\n"
          ],
          "name": "stdout"
        }
      ]
    },
    {
      "cell_type": "markdown",
      "metadata": {
        "id": "yV3fY_m2NDwM"
      },
      "source": [
        "8. Get an integer input from user (age of the user), if the number is between 0 to 17 print 'You are a kid', if the number is between 18 to 35 print 'You are in the correct age category', if the number is above 36 print 'you  have crossed the age limit' and if the number is negative print 'enter a positive number'"
      ]
    },
    {
      "cell_type": "code",
      "metadata": {
        "id": "1AaHPavoNDwN",
        "outputId": "7b79bed6-0fa1-4614-e2b5-3af672b80523",
        "colab": {
          "base_uri": "https://localhost:8080/",
          "height": 54
        }
      },
      "source": [
        "n= int(input())\n",
        "if a>0 and a<=17:\n",
        "  print('you are a kid')\n",
        "elif a<0:\n",
        "  print('enter a positive number')\n",
        "elif a>18 and a<35:\n",
        "  print('You are in correct age category')\n",
        "else:\n",
        "  print('you have crossed the age limit')"
      ],
      "execution_count": null,
      "outputs": [
        {
          "output_type": "stream",
          "text": [
            "36\n",
            "you have crossed the age limit\n"
          ],
          "name": "stdout"
        }
      ]
    },
    {
      "cell_type": "code",
      "metadata": {
        "id": "ZMyauVeZLzpK"
      },
      "source": [
        ""
      ],
      "execution_count": null,
      "outputs": []
    }
  ]
}