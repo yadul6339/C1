{
  "nbformat": 4,
  "nbformat_minor": 0,
  "metadata": {
    "kernelspec": {
      "display_name": "Python 3",
      "language": "python",
      "name": "python3"
    },
    "language_info": {
      "codemirror_mode": {
        "name": "ipython",
        "version": 3
      },
      "file_extension": ".py",
      "mimetype": "text/x-python",
      "name": "python",
      "nbconvert_exporter": "python",
      "pygments_lexer": "ipython3",
      "version": "3.7.3"
    },
    "colab": {
      "name": "my_Inclass_LabExercise_Day02 .ipynb",
      "provenance": [],
      "collapsed_sections": [],
      "include_colab_link": true
    }
  },
  "cells": [
    {
      "cell_type": "markdown",
      "metadata": {
        "id": "view-in-github",
        "colab_type": "text"
      },
      "source": [
        "<a href=\"https://colab.research.google.com/github/zerryberry/C1/blob/master/Stats_my_Inclass_LabExercise_Day02_.ipynb\" target=\"_parent\"><img src=\"https://colab.research.google.com/assets/colab-badge.svg\" alt=\"Open In Colab\"/></a>"
      ]
    },
    {
      "cell_type": "code",
      "metadata": {
        "id": "BRhW47c6xHR0",
        "colab": {
          "base_uri": "https://localhost:8080/"
        },
        "outputId": "c0e78d97-fd36-4531-857c-fb67af177937"
      },
      "source": [
        "import numpy       as np\n",
        "import pandas      as pd\n",
        "import scipy.stats as stats\n",
        "from scipy.stats             import ttest_1samp,ttest_ind, wilcoxon\n",
        "from statsmodels.stats.power import ttest_power\n",
        "import matplotlib.pyplot     as     plt"
      ],
      "execution_count": 1,
      "outputs": [
        {
          "output_type": "stream",
          "text": [
            "/usr/local/lib/python3.6/dist-packages/statsmodels/tools/_testing.py:19: FutureWarning: pandas.util.testing is deprecated. Use the functions in the public API at pandas.testing instead.\n",
            "  import pandas.util.testing as tm\n"
          ],
          "name": "stderr"
        }
      ]
    },
    {
      "cell_type": "markdown",
      "metadata": {
        "id": "rpOKoIt-xHR3"
      },
      "source": [
        "## Practice Exercise :\n",
        "\n",
        "You are given the daily sugar intake of 11 diabetic patients in the following Python code. \n",
        "\n",
        "**Is there any evidence to the claim that the average daily sugar intake of the diabetic patients is 7600 mg.** \n",
        "\n",
        "**Hint: Use t test**"
      ]
    },
    {
      "cell_type": "code",
      "metadata": {
        "id": "fXqipuhPxHR4"
      },
      "source": [
        "# daily intake of Sugar in milligrams for 11 diabetic patients\n",
        "import numpy as np\n",
        "daily_intake = np.array([5560, 5770, 7640, 5180, 5690, 6435, 6803, 7689, 6876, 8213, 8765])"
      ],
      "execution_count": 2,
      "outputs": []
    },
    {
      "cell_type": "code",
      "metadata": {
        "id": "ng4LB2so38ub"
      },
      "source": [
        "xbar= np.mean(daily_intake)\r\n",
        "n= 11\r\n",
        "s= np.std(daily_intake, ddof=1)\r\n",
        "se= s/np.sqrt(n)"
      ],
      "execution_count": 7,
      "outputs": []
    },
    {
      "cell_type": "markdown",
      "metadata": {
        "id": "oVrnSZv0Ebyo"
      },
      "source": [
        "H0 is - mu (sample) = mu (population)\r\n",
        "\r\n",
        "Ha is - mu (sample) != mu (population)"
      ]
    },
    {
      "cell_type": "code",
      "metadata": {
        "id": "h-wCqZ31383t",
        "colab": {
          "base_uri": "https://localhost:8080/"
        },
        "outputId": "80c3d96f-f166-4fd0-bfa0-94aa6c7f8024"
      },
      "source": [
        "# T test\r\n",
        "\r\n",
        "stats.ttest_1samp(daily_intake, 7600)"
      ],
      "execution_count": 8,
      "outputs": [
        {
          "output_type": "execute_result",
          "data": {
            "text/plain": [
              "Ttest_1sampResult(statistic=-2.2925841964555027, pvalue=0.04481624562570511)"
            ]
          },
          "metadata": {
            "tags": []
          },
          "execution_count": 8
        }
      ]
    },
    {
      "cell_type": "code",
      "metadata": {
        "id": "S2Qxg7m138kO",
        "colab": {
          "base_uri": "https://localhost:8080/"
        },
        "outputId": "8884cbdf-70f6-4015-9112-d644a1e954fc"
      },
      "source": [
        "stats.t.cdf(xbar, loc=7600, df=n-1, scale=se)*2"
      ],
      "execution_count": 9,
      "outputs": [
        {
          "output_type": "execute_result",
          "data": {
            "text/plain": [
              "0.04481624562570511"
            ]
          },
          "metadata": {
            "tags": []
          },
          "execution_count": 9
        }
      ]
    },
    {
      "cell_type": "markdown",
      "metadata": {
        "id": "orTCRZbSHAmN"
      },
      "source": [
        "Since p value is less than 0.05, we reject the null hypothesis. \r\n",
        "We do not have statistical evidence to say that average daily sugar intake of the diabetic patients is 7600 mg from the sample. "
      ]
    },
    {
      "cell_type": "markdown",
      "metadata": {
        "id": "HSSLTeUExHSE"
      },
      "source": [
        "## Practice Exercise "
      ]
    },
    {
      "cell_type": "markdown",
      "metadata": {
        "id": "182whitMxHSF"
      },
      "source": [
        "Compare the following two unrelated samples. \n",
        "Data was collected on the weights of women and men enrolled in a weight reduction program. At  𝛼 = 0.05, test whether the average weights of these two samples are different."
      ]
    },
    {
      "cell_type": "code",
      "metadata": {
        "id": "LAkBViewxHSF"
      },
      "source": [
        "Weight_Female       =  [ 53.8, 54.4, 51.2, 52.5, 61.0, 50.6, 51.6, 70.0]\n",
        "Weight_Male         =  [ 72.5, 80.3, 71.3, 67.7, 66.2, 73.4, 61.3, 76.8]"
      ],
      "execution_count": 10,
      "outputs": []
    },
    {
      "cell_type": "code",
      "metadata": {
        "id": "NpOVhCQbxHSH"
      },
      "source": [
        "from    scipy.stats             import  ttest_1samp,ttest_ind, wilcoxon, ttest_ind_from_stats\n",
        "import  scipy.stats             as      stats  \n",
        "from    statsmodels.stats.power import  ttest_power\n",
        "import  matplotlib.pyplot       as      plt"
      ],
      "execution_count": 11,
      "outputs": []
    },
    {
      "cell_type": "code",
      "metadata": {
        "id": "RrNv313_4KQR"
      },
      "source": [
        "# its a 2 sample independent test we do here. "
      ],
      "execution_count": 12,
      "outputs": []
    },
    {
      "cell_type": "code",
      "metadata": {
        "id": "OICVwpMS4KUW"
      },
      "source": [
        "# Hypothesis Forming. \r\n",
        "\r\n",
        "# H0 = MU male = MU female\r\n",
        "# Ha = MU male != MU female"
      ],
      "execution_count": null,
      "outputs": []
    },
    {
      "cell_type": "code",
      "metadata": {
        "id": "bUMtbPWC4Y2K",
        "colab": {
          "base_uri": "https://localhost:8080/"
        },
        "outputId": "391600c8-b43c-465d-d290-d135dff3e2fe"
      },
      "source": [
        "stats.ttest_ind(Weight_Female, Weight_Male)"
      ],
      "execution_count": 13,
      "outputs": [
        {
          "output_type": "execute_result",
          "data": {
            "text/plain": [
              "Ttest_indResult(statistic=-4.886344172533444, pvalue=0.00024034957515992796)"
            ]
          },
          "metadata": {
            "tags": []
          },
          "execution_count": 13
        }
      ]
    },
    {
      "cell_type": "markdown",
      "metadata": {
        "id": "ENLV0KTdIvS4"
      },
      "source": [
        "SInce P value is less than 0.05, we reject the null hypothesis. \r\n",
        "i;e there is a statistical significant difference between weights of female and male"
      ]
    },
    {
      "cell_type": "markdown",
      "metadata": {
        "id": "L9yfAE2PxHSN"
      },
      "source": [
        "## Practice Exercise :"
      ]
    },
    {
      "cell_type": "markdown",
      "metadata": {
        "id": "mDI6UConxHSO"
      },
      "source": [
        "**Here weight of 25 people were recorded before they had a new therapy and then again 6 months later. \n",
        "Check if new therapy leads to a change in weight.**"
      ]
    },
    {
      "cell_type": "code",
      "metadata": {
        "id": "sITE_teAxHSP"
      },
      "source": [
        "wt_before = [76, 76, 72, 73, 64, 63, 75, 75, 71, 76, 71, 76, 78, 73, 76, 70, 71, 82, 84, 68, 70, 68, 66, 67, 74]\n",
        "wt_after  = [63, 72, 67, 69, 58, 59, 70, 71, 70, 71, 68, 71, 72, 69, 72, 67, 67, 78, 79, 62, 67, 63, 61, 63, 69]"
      ],
      "execution_count": 14,
      "outputs": []
    },
    {
      "cell_type": "markdown",
      "metadata": {
        "id": "xSfzCRu6xHSR"
      },
      "source": [
        "**At 5% level of significance, is there any evidence that the new therapy has any effect on the weight of the participants?**"
      ]
    },
    {
      "cell_type": "code",
      "metadata": {
        "id": "vRz9VrqA4iQM"
      },
      "source": [
        "# Its a Paired 2 sample T test"
      ],
      "execution_count": 15,
      "outputs": []
    },
    {
      "cell_type": "markdown",
      "metadata": {
        "id": "eCNB3HXhJX-K"
      },
      "source": [
        "#### H0 is that there is no chnage pre and post therapy. MU before = MU after\r\n",
        "Ha is MU before != MU after"
      ]
    },
    {
      "cell_type": "code",
      "metadata": {
        "colab": {
          "base_uri": "https://localhost:8080/"
        },
        "id": "MnZyg8SGJKzZ",
        "outputId": "49701829-9d67-498c-b567-ece88fe5aab1"
      },
      "source": [
        "stats.ttest_rel(wt_after, wt_before)"
      ],
      "execution_count": 16,
      "outputs": [
        {
          "output_type": "execute_result",
          "data": {
            "text/plain": [
              "Ttest_relResult(statistic=-11.381954836452902, pvalue=3.704651177780503e-11)"
            ]
          },
          "metadata": {
            "tags": []
          },
          "execution_count": 16
        }
      ]
    },
    {
      "cell_type": "markdown",
      "metadata": {
        "id": "jwDPJIt-JrdJ"
      },
      "source": [
        "## We see that p value is less than 0.05, so we reject the null hypothesis. \r\n",
        "## There is sigificant change in weight before and after therapy"
      ]
    },
    {
      "cell_type": "markdown",
      "metadata": {
        "id": "LXvJFHOIxHSR"
      },
      "source": [
        "**Hint: Use a paired t test**"
      ]
    },
    {
      "cell_type": "markdown",
      "metadata": {
        "id": "2bvdEdUwxHSU"
      },
      "source": [
        "## Practice Exercise :"
      ]
    },
    {
      "cell_type": "markdown",
      "metadata": {
        "id": "WmBi4MI7xHSV"
      },
      "source": [
        "We collect the sample data, calculate the test statistic. \n",
        "In our example, \n",
        "* $\\overline{X}$ = 3.001\n",
        "* $\\mu$   = 2.89\n",
        "* $\\sigma$ = 11\n",
        "* n       = 100\n",
        "* $Z_{STAT} = \\frac{\\overline{X} - \\mu} {\\frac{\\sigma}{\\sqrt{n}}}$ "
      ]
    },
    {
      "cell_type": "code",
      "metadata": {
        "id": "xjZe6NmW4SN6"
      },
      "source": [
        "# population mean and std dev is given, we use a Z test. \r\n",
        "Xbar= 3.001\r\n",
        "mu= 2.89\r\n",
        "sigma= 11\r\n",
        "n = 100\r\n",
        "se= sigma/np.sqrt(n)\r\n",
        "z= (Xbar - mu)/se"
      ],
      "execution_count": 30,
      "outputs": []
    },
    {
      "cell_type": "code",
      "metadata": {
        "colab": {
          "base_uri": "https://localhost:8080/"
        },
        "id": "OG8XVe7bNk-G",
        "outputId": "e29e0c6d-32d2-4c02-8a0e-f8ba70b0a0e0"
      },
      "source": [
        "stats.norm.cdf(0.05, loc=mu, scale=se)*2"
      ],
      "execution_count": 25,
      "outputs": [
        {
          "output_type": "execute_result",
          "data": {
            "text/plain": [
              "0.009828134782599654"
            ]
          },
          "metadata": {
            "tags": []
          },
          "execution_count": 25
        }
      ]
    },
    {
      "cell_type": "code",
      "metadata": {
        "id": "uwXaiJYTQENg"
      },
      "source": [
        "# We reject the null hypothesis. \r\n",
        "\r\n",
        "# H0 = xbar = mu\r\n",
        "# Ha = xbar != mu"
      ],
      "execution_count": 35,
      "outputs": []
    },
    {
      "cell_type": "code",
      "metadata": {
        "id": "vq7jM4eFS9go"
      },
      "source": [
        ""
      ],
      "execution_count": null,
      "outputs": []
    }
  ]
}