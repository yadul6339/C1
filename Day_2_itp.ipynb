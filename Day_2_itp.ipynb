{
  "nbformat": 4,
  "nbformat_minor": 0,
  "metadata": {
    "colab": {
      "name": "Day_2_itp",
      "provenance": [],
      "collapsed_sections": [],
      "include_colab_link": true
    },
    "kernelspec": {
      "display_name": "Python 3",
      "language": "python",
      "name": "python3"
    },
    "language_info": {
      "codemirror_mode": {
        "name": "ipython",
        "version": 3
      },
      "file_extension": ".py",
      "mimetype": "text/x-python",
      "name": "python",
      "nbconvert_exporter": "python",
      "pygments_lexer": "ipython3",
      "version": "3.7.4"
    }
  },
  "cells": [
    {
      "cell_type": "markdown",
      "metadata": {
        "id": "view-in-github",
        "colab_type": "text"
      },
      "source": [
        "<a href=\"https://colab.research.google.com/github/zerryberry/C1/blob/master/Day_2_itp.ipynb\" target=\"_parent\"><img src=\"https://colab.research.google.com/assets/colab-badge.svg\" alt=\"Open In Colab\"/></a>"
      ]
    },
    {
      "cell_type": "markdown",
      "metadata": {
        "id": "MxMm-12-Hq75"
      },
      "source": [
        "<table align=\"left\" width=100%>\n",
        "    <tr>\n",
        "        <td width=\"10%\">\n",
        "            <img src=\"in_class.png\">\n",
        "        </td>\n",
        "        <td>\n",
        "            <div align=\"center\">\n",
        "                <font color=\"#21618C\" size=8px>\n",
        "                  <b> In-class Lab <br> (Day 2) </b>\n",
        "                </font>\n",
        "            </div>\n",
        "        </td>\n",
        "    </tr>\n",
        "</table>"
      ]
    },
    {
      "cell_type": "markdown",
      "metadata": {
        "id": "zE66hRPFHq76"
      },
      "source": [
        "##  Table of Content\n",
        "\n",
        "1. **[String](#string)**\n",
        "2. **[List](#list)**\n",
        "2. **[Tuple](#tuple)**\n",
        "3. **[Set](#set)**\n",
        "4. **[Dictionary](#dict)**\n",
        "5. **[Conditional Statements](#cond)**"
      ]
    },
    {
      "cell_type": "markdown",
      "metadata": {
        "id": "7vXnI5roHq76"
      },
      "source": [
        "### Let's begin with some hands-on practice exercises"
      ]
    },
    {
      "cell_type": "markdown",
      "metadata": {
        "id": "GhwNCvTmf99O"
      },
      "source": [
        "<a id=\"string\"></a>\n",
        "## 1. String Operations"
      ]
    },
    {
      "cell_type": "markdown",
      "metadata": {
        "id": "WWphSfFZjAVY"
      },
      "source": [
        "<table align=\"left\">\n",
        "    <tr>\n",
        "        <td width=\"6%\">\n",
        "            <img src=\"question_icon.png\">\n",
        "        </td>\n",
        "        <td>\n",
        "            <div align=\"left\", style=\"font-size:120%\">\n",
        "                <font color=\"#21618C\">\n",
        "                    <b>11. Create a string with the name 'country' and 'India' as its element. Perform the following on it:\n",
        "                    <ol type = \"1\">\n",
        "                        <li>Find its length. </li>\n",
        "                        <li>Extract it first two letters. </li>\n",
        "                        </ol></b>\n",
        "                </font>\n",
        "            </div>\n",
        "        </td>\n",
        "    </tr>\n",
        "</table>"
      ]
    },
    {
      "cell_type": "code",
      "metadata": {
        "id": "yn4OaCmVjAVZ",
        "outputId": "64133eda-676f-4f50-993a-42d2b1dfe822",
        "colab": {
          "base_uri": "https://localhost:8080/",
          "height": 54
        }
      },
      "source": [
        "country= 'India'\n",
        "print(len(country))\n",
        "print(country[:2])"
      ],
      "execution_count": null,
      "outputs": [
        {
          "output_type": "stream",
          "text": [
            "5\n",
            "In\n"
          ],
          "name": "stdout"
        }
      ]
    },
    {
      "cell_type": "markdown",
      "metadata": {
        "id": "uNrOdvg8f99U"
      },
      "source": [
        "<table align=\"left\">\n",
        "    <tr>\n",
        "        <td width=\"6%\">\n",
        "            <img src=\"question_icon.png\">\n",
        "        </td>\n",
        "        <td>\n",
        "            <div align=\"left\", style=\"font-size:120%\">\n",
        "                <font color=\"#21618C\">\n",
        "                    <b>2. Given the string 'Today is a sunny day.' \n",
        "                        <ol > <li>  Write a code to get 'Today'  and 'sunny'. </li>\n",
        "                             <li>  Obtain the last two letters. </li>\n",
        "                             <li>  Write the statement backwards.</li>\n",
        "                        </ol> </b>\n",
        "                </font>\n",
        "            </div>\n",
        "        </td>\n",
        "    </tr>\n",
        "</table>"
      ]
    },
    {
      "cell_type": "code",
      "metadata": {
        "id": "26parQocjAVc",
        "outputId": "163faf54-5dc3-4a65-9575-513014bda7c7",
        "colab": {
          "base_uri": "https://localhost:8080/",
          "height": 72
        }
      },
      "source": [
        "a= 'Today is a sunny day'\n",
        "\n",
        "print(a[:5], a[11:16])\n",
        "\n",
        "print(a[-2:])\n",
        "\n",
        "a[::-1]"
      ],
      "execution_count": null,
      "outputs": [
        {
          "output_type": "stream",
          "text": [
            "Today sunny\n",
            "ay\n"
          ],
          "name": "stdout"
        },
        {
          "output_type": "execute_result",
          "data": {
            "application/vnd.google.colaboratory.intrinsic+json": {
              "type": "string"
            },
            "text/plain": [
              "'yad ynnus a si yadoT'"
            ]
          },
          "metadata": {
            "tags": []
          },
          "execution_count": 9
        }
      ]
    },
    {
      "cell_type": "markdown",
      "metadata": {
        "id": "xozR0EP9Hq77"
      },
      "source": [
        "<a id=\"list\"> </a>\n",
        "## 2. List"
      ]
    },
    {
      "cell_type": "markdown",
      "metadata": {
        "id": "h-ajPgCZHq78"
      },
      "source": [
        "<table align=\"left\">\n",
        "    <tr>\n",
        "        <td width=\"6%\">\n",
        "            <img src=\"question_icon.png\">\n",
        "        </td>\n",
        "        <td>\n",
        "            <div align=\"left\", style=\"font-size:120%\">\n",
        "                <font color=\"#21618C\">\n",
        "                    <b>3. Write a program to perform following list operations on the list given below:<br><br>\n",
        "                        a. Check the length of mix_list_1<br>\n",
        "                        b. Check the membership of '24' in mix_list_1<br> \n",
        "                        c. Concatenate the mix_list_1 and mix_list_2<br>\n",
        "                        d. Repeat the mix_list_2 three times </b>\n",
        "                </font>\n",
        "            </div>\n",
        "        </td>\n",
        "    </tr>\n",
        "</table>"
      ]
    },
    {
      "cell_type": "code",
      "metadata": {
        "id": "eeXPYYRypYCL",
        "outputId": "877fbd92-bf76-43a0-91c2-df4e7ea89a0f",
        "colab": {
          "base_uri": "https://localhost:8080/",
          "height": 72
        }
      },
      "source": [
        "mix_list_1 = ['Learn', 24, 'Blue', False, -8]\n",
        "mix_list_2 = [4, 7, 'Summer']\n",
        "print(len(mix_list_1))\n",
        "print(24 in mix_list_1)\n",
        "print(mix_list_1*3)"
      ],
      "execution_count": null,
      "outputs": [
        {
          "output_type": "stream",
          "text": [
            "5\n",
            "True\n",
            "['Learn', 24, 'Blue', False, -8, 'Learn', 24, 'Blue', False, -8, 'Learn', 24, 'Blue', False, -8]\n"
          ],
          "name": "stdout"
        }
      ]
    },
    {
      "cell_type": "markdown",
      "metadata": {
        "id": "y5fuZzHvHq78"
      },
      "source": [
        "**Lists to perform operations:**\n",
        "\n",
        "mix_list_1 = ['Learn', 24, 'Blue', False, -8]\n",
        "\n",
        "mix_list_2 = [4, 7, 'Summer']"
      ]
    },
    {
      "cell_type": "markdown",
      "metadata": {
        "id": "fb4IvjnCHq79"
      },
      "source": [
        "**a. Check the length of mix_list_1**"
      ]
    },
    {
      "cell_type": "code",
      "metadata": {
        "id": "2LoU4Gt2Hq79",
        "outputId": "34dc642d-6e8c-41af-e51d-bf5f7d938b6d",
        "colab": {
          "base_uri": "https://localhost:8080/",
          "height": 35
        }
      },
      "source": [
        "len(mix_list_1)"
      ],
      "execution_count": null,
      "outputs": [
        {
          "output_type": "execute_result",
          "data": {
            "text/plain": [
              "5"
            ]
          },
          "metadata": {
            "tags": []
          },
          "execution_count": 13
        }
      ]
    },
    {
      "cell_type": "markdown",
      "metadata": {
        "id": "EHjSh-veHq8C"
      },
      "source": [
        "**b. Check the membership of '24' in mix_list_1**"
      ]
    },
    {
      "cell_type": "code",
      "metadata": {
        "id": "xy0gdMTsHq8C",
        "outputId": "b2ccf12a-29f9-46d6-e794-3a2cffbd0b2f",
        "colab": {
          "base_uri": "https://localhost:8080/",
          "height": 35
        }
      },
      "source": [
        "24 in mix_list_1"
      ],
      "execution_count": null,
      "outputs": [
        {
          "output_type": "execute_result",
          "data": {
            "text/plain": [
              "True"
            ]
          },
          "metadata": {
            "tags": []
          },
          "execution_count": 14
        }
      ]
    },
    {
      "cell_type": "markdown",
      "metadata": {
        "id": "NggnUh-sHq8F"
      },
      "source": [
        "**c. Concatenate the mix_list_1 and mix_list_2**"
      ]
    },
    {
      "cell_type": "code",
      "metadata": {
        "id": "zkokv2UxHq8F",
        "outputId": "3aa1e06a-9abc-4b30-cb01-d210aa386b9c",
        "colab": {
          "base_uri": "https://localhost:8080/",
          "height": 35
        }
      },
      "source": [
        "mix_list_1 + mix_list_2"
      ],
      "execution_count": null,
      "outputs": [
        {
          "output_type": "execute_result",
          "data": {
            "text/plain": [
              "['Learn', 24, 'Blue', False, -8, 4, 7, 'Summer']"
            ]
          },
          "metadata": {
            "tags": []
          },
          "execution_count": 15
        }
      ]
    },
    {
      "cell_type": "markdown",
      "metadata": {
        "id": "KXnGgSLHHq8I"
      },
      "source": [
        "**d. Repeat the mix_list_2 three times**"
      ]
    },
    {
      "cell_type": "code",
      "metadata": {
        "id": "7_9BewysHq8I",
        "outputId": "cdb0792d-f41e-4f42-a6bd-05fc6f5b1392",
        "colab": {
          "base_uri": "https://localhost:8080/",
          "height": 35
        }
      },
      "source": [
        "print(mix_list_2*3)"
      ],
      "execution_count": null,
      "outputs": [
        {
          "output_type": "stream",
          "text": [
            "[4, 7, 'Summer', 4, 7, 'Summer', 4, 7, 'Summer']\n"
          ],
          "name": "stdout"
        }
      ]
    },
    {
      "cell_type": "markdown",
      "metadata": {
        "id": "WsoC37bTHq8L"
      },
      "source": [
        "<table align=\"left\">\n",
        "    <tr>\n",
        "        <td width=\"6%\">\n",
        "            <img src=\"question_icon.png\">\n",
        "        </td>\n",
        "        <td>\n",
        "            <div align=\"left\", style=\"font-size:120%\">\n",
        "                <font color=\"#21618C\">\n",
        "                    <b>4. Write the program to multiply the two lists</b>\n",
        "                </font>\n",
        "            </div>\n",
        "        </td>\n",
        "    </tr>\n",
        "</table>"
      ]
    },
    {
      "cell_type": "markdown",
      "metadata": {
        "id": "Rz2kjxyYHq8L"
      },
      "source": [
        "**Lists to perform multiplication:**\n",
        "\n",
        "num_list_1 = [1, 2, 3, 4]\n",
        "\n",
        "num_list_2 = [0, 5, 2, 1]"
      ]
    },
    {
      "cell_type": "code",
      "metadata": {
        "id": "Fu5bsAB3Hq8M"
      },
      "source": [
        "num_list_1 = [1, 2, 3, 4]\n",
        "\n",
        "num_list_2 = [0, 5, 2, 1]\n",
        "\n",
        "#Cant multiply two list unless a for loop is used'"
      ],
      "execution_count": null,
      "outputs": []
    },
    {
      "cell_type": "markdown",
      "metadata": {
        "id": "xNgztYzkHq8P"
      },
      "source": [
        "<table align=\"left\">\n",
        "    <tr>\n",
        "        <td width=\"6%\">\n",
        "            <img src=\"question_icon.png\">\n",
        "        </td>\n",
        "        <td>\n",
        "            <div align=\"left\", style=\"font-size:120%\">\n",
        "                <font color=\"#21618C\">\n",
        "                    <b>5. Write a code to retrieve elements from a list<br><br>\n",
        "                       a. First element<br>\n",
        "                       b. Second last element<br>\n",
        "                       c. First three elements<br>\n",
        "                       d. Slice the list from 1st index till the last index with an increment of an index by 2\n",
        "                    </b>\n",
        "                </font>\n",
        "            </div>\n",
        "        </td>\n",
        "    </tr>\n",
        "</table>"
      ]
    },
    {
      "cell_type": "markdown",
      "metadata": {
        "id": "C7-N9cjuHq8P"
      },
      "source": [
        "**Use the below list**\n",
        "\n",
        "mix_list = ['Python', 1, 2, 3, 'Data', True] "
      ]
    },
    {
      "cell_type": "markdown",
      "metadata": {
        "id": "5gvhfoqGHq8Q"
      },
      "source": [
        "**a. First element**"
      ]
    },
    {
      "cell_type": "code",
      "metadata": {
        "id": "RnPABxeeHq8R",
        "outputId": "603b8182-ee07-4bc3-95ec-5a2b91bd8fe6",
        "colab": {
          "base_uri": "https://localhost:8080/",
          "height": 35
        }
      },
      "source": [
        "mix_list = ['Python', 1, 2, 3, 'Data', True]\n",
        "mix_list[0]"
      ],
      "execution_count": null,
      "outputs": [
        {
          "output_type": "execute_result",
          "data": {
            "application/vnd.google.colaboratory.intrinsic+json": {
              "type": "string"
            },
            "text/plain": [
              "'Python'"
            ]
          },
          "metadata": {
            "tags": []
          },
          "execution_count": 22
        }
      ]
    },
    {
      "cell_type": "markdown",
      "metadata": {
        "id": "O4D_YwEEHq8U"
      },
      "source": [
        "**b. Second last element**"
      ]
    },
    {
      "cell_type": "code",
      "metadata": {
        "id": "qoNIWqPcHq8U",
        "outputId": "3194b61c-6279-451e-c6b9-3d5d89ebe90a",
        "colab": {
          "base_uri": "https://localhost:8080/",
          "height": 35
        }
      },
      "source": [
        "mix_list[-2]"
      ],
      "execution_count": null,
      "outputs": [
        {
          "output_type": "execute_result",
          "data": {
            "application/vnd.google.colaboratory.intrinsic+json": {
              "type": "string"
            },
            "text/plain": [
              "'Data'"
            ]
          },
          "metadata": {
            "tags": []
          },
          "execution_count": 23
        }
      ]
    },
    {
      "cell_type": "markdown",
      "metadata": {
        "id": "KkYrr5nxHq8X"
      },
      "source": [
        "**c. First three elements**"
      ]
    },
    {
      "cell_type": "code",
      "metadata": {
        "id": "cNrHgcS3Hq8Y",
        "outputId": "f7ab35b8-8573-43e7-dd9b-130a479d5215",
        "colab": {
          "base_uri": "https://localhost:8080/",
          "height": 35
        }
      },
      "source": [
        "mix_list[0:3]"
      ],
      "execution_count": null,
      "outputs": [
        {
          "output_type": "execute_result",
          "data": {
            "text/plain": [
              "['Python', 1, 2]"
            ]
          },
          "metadata": {
            "tags": []
          },
          "execution_count": 25
        }
      ]
    },
    {
      "cell_type": "markdown",
      "metadata": {
        "collapsed": true,
        "id": "xPzM8IujHq8b"
      },
      "source": [
        "**d. Slice the list from 1st index till the last index with an increment of an index by 2**"
      ]
    },
    {
      "cell_type": "code",
      "metadata": {
        "id": "LFNqcmtMHq8c",
        "outputId": "d98a7dee-7703-4b96-abad-685fcdb8d8aa",
        "colab": {
          "base_uri": "https://localhost:8080/",
          "height": 35
        }
      },
      "source": [
        "mix_list[::2]"
      ],
      "execution_count": null,
      "outputs": [
        {
          "output_type": "execute_result",
          "data": {
            "text/plain": [
              "['Python', 2, 'Data']"
            ]
          },
          "metadata": {
            "tags": []
          },
          "execution_count": 29
        }
      ]
    },
    {
      "cell_type": "markdown",
      "metadata": {
        "id": "__H6fsMJHq8f"
      },
      "source": [
        "<table align=\"left\">\n",
        "    <tr>\n",
        "        <td width=\"6%\">\n",
        "            <img src=\"question_icon.png\">\n",
        "        </td>\n",
        "        <td>\n",
        "            <div align=\"left\", style=\"font-size:120%\">\n",
        "                <font color=\"#21618C\">\n",
        "                    <b>6. Write a program to perform following built-in list operations:<br><br>\n",
        "                        a. Min(list)<br>\n",
        "                        b. Max(list)<br>\n",
        "                        c. Sort the elements (use sort() and sorted() function)<br>\n",
        "                        d. Create a copy of a list<br>\n",
        "                        e. Remove element '5' from the list</b>\n",
        "                </font>\n",
        "            </div>\n",
        "        </td>\n",
        "    </tr>\n",
        "</table>"
      ]
    },
    {
      "cell_type": "markdown",
      "metadata": {
        "id": "ZzC2S5YnHq8g"
      },
      "source": [
        "**Use the below list**\n",
        "\n",
        "num_list = [4, 5, 7, -2, 0, 1] "
      ]
    },
    {
      "cell_type": "markdown",
      "metadata": {
        "id": "mcQc-2B5Hq8g"
      },
      "source": [
        "**a. Min(list)**"
      ]
    },
    {
      "cell_type": "code",
      "metadata": {
        "id": "VOAZDd41Hq8g",
        "outputId": "d39f523a-4a54-494f-bf50-dd9a78171331",
        "colab": {
          "base_uri": "https://localhost:8080/",
          "height": 35
        }
      },
      "source": [
        "num_list = [4, 5, 7, -2, 0, 1]\n",
        "min(num_list)"
      ],
      "execution_count": null,
      "outputs": [
        {
          "output_type": "execute_result",
          "data": {
            "text/plain": [
              "-2"
            ]
          },
          "metadata": {
            "tags": []
          },
          "execution_count": 53
        }
      ]
    },
    {
      "cell_type": "markdown",
      "metadata": {
        "id": "aQYj7JFHHq8j"
      },
      "source": [
        "**b. Max(list)**"
      ]
    },
    {
      "cell_type": "code",
      "metadata": {
        "id": "jMRj1xagHq8j",
        "outputId": "a6beb71e-4c94-4f55-936c-c7fd724070cf",
        "colab": {
          "base_uri": "https://localhost:8080/",
          "height": 35
        }
      },
      "source": [
        "max(num_list)"
      ],
      "execution_count": null,
      "outputs": [
        {
          "output_type": "execute_result",
          "data": {
            "text/plain": [
              "7"
            ]
          },
          "metadata": {
            "tags": []
          },
          "execution_count": 31
        }
      ]
    },
    {
      "cell_type": "markdown",
      "metadata": {
        "id": "SmJUIeeqHq8m"
      },
      "source": [
        "**c. Sort the elements (use sort() and sorted() function)**"
      ]
    },
    {
      "cell_type": "code",
      "metadata": {
        "id": "hbhRFjnZHq8m",
        "outputId": "1a523dcd-0b07-4cad-a442-20cdf16f3487",
        "colab": {
          "base_uri": "https://localhost:8080/",
          "height": 54
        }
      },
      "source": [
        "num_list.sort()\n",
        "\n",
        "print(num_list)\n",
        "\n",
        "print(sorted(num_list))"
      ],
      "execution_count": null,
      "outputs": [
        {
          "output_type": "stream",
          "text": [
            "[-2, 0, 1, 4, 5, 7]\n",
            "[-2, 0, 1, 4, 5, 7]\n"
          ],
          "name": "stdout"
        }
      ]
    },
    {
      "cell_type": "markdown",
      "metadata": {
        "id": "KmSbjVUwHq8o"
      },
      "source": [
        "**d. Create a copy of a list**"
      ]
    },
    {
      "cell_type": "code",
      "metadata": {
        "id": "56UyQFdiHq8p",
        "outputId": "12689f73-89c3-4d1c-903a-19b088d13bec",
        "colab": {
          "base_uri": "https://localhost:8080/",
          "height": 35
        }
      },
      "source": [
        "a= num_list.copy()\n",
        "a"
      ],
      "execution_count": null,
      "outputs": [
        {
          "output_type": "execute_result",
          "data": {
            "text/plain": [
              "[-2, 0, 1, 4, 5, 7]"
            ]
          },
          "metadata": {
            "tags": []
          },
          "execution_count": 57
        }
      ]
    },
    {
      "cell_type": "markdown",
      "metadata": {
        "id": "Jfot8PkZHq8r"
      },
      "source": [
        "**e. Remove element '5' from the list**"
      ]
    },
    {
      "cell_type": "code",
      "metadata": {
        "id": "hERL4T88Hq8s",
        "outputId": "73cb4b1d-aab6-482d-f308-b491493020f5",
        "colab": {
          "base_uri": "https://localhost:8080/",
          "height": 35
        }
      },
      "source": [
        "a.remove(5)\n",
        "a"
      ],
      "execution_count": null,
      "outputs": [
        {
          "output_type": "execute_result",
          "data": {
            "text/plain": [
              "[-2, 0, 1, 4, 7]"
            ]
          },
          "metadata": {
            "tags": []
          },
          "execution_count": 58
        }
      ]
    },
    {
      "cell_type": "markdown",
      "metadata": {
        "id": "irtsAX9KHq8u"
      },
      "source": [
        "<table align=\"left\">\n",
        "    <tr>\n",
        "        <td width=\"6%\">\n",
        "            <img src=\"question_icon.png\">\n",
        "        </td>\n",
        "        <td>\n",
        "            <div align=\"left\", style=\"font-size:120%\">\n",
        "                <font color=\"#21618C\">\n",
        "                    <b>7. Manipulating a list:<br><br>\n",
        "                        a. Add a new element 'Data' in the given list<br>\n",
        "                        b. Add elements 'Excel' and 'Data' in the given list<br>\n",
        "                        c. Replace an element 'C' with 'C++' in the given list<br>\n",
        "                    </b>\n",
        "                </font>\n",
        "            </div>\n",
        "        </td>\n",
        "    </tr>\n",
        "</table>"
      ]
    },
    {
      "cell_type": "markdown",
      "metadata": {
        "id": "6ksiCCmSHq8v"
      },
      "source": [
        "#### Use the below list\n",
        "\n",
        "languages_list = ['R', 'Python', 'C', 'Java']"
      ]
    },
    {
      "cell_type": "code",
      "metadata": {
        "id": "X9GNwJGCxdCA",
        "outputId": "458d2c82-9828-43a8-9383-863f8a06da69",
        "colab": {
          "base_uri": "https://localhost:8080/",
          "height": 35
        }
      },
      "source": [
        "languages_list = ['R', 'Python', 'C', 'Java']\n",
        "\n",
        "languages_list.append('Data')\n",
        "languages_list.extend(('Excel', 'Data'))\n",
        "languages_list[2] = 'C+'\n",
        "languages_list"
      ],
      "execution_count": null,
      "outputs": [
        {
          "output_type": "execute_result",
          "data": {
            "text/plain": [
              "['R', 'Python', 'C+', 'Java', 'Data', 'Excel', 'Data']"
            ]
          },
          "metadata": {
            "tags": []
          },
          "execution_count": 64
        }
      ]
    },
    {
      "cell_type": "markdown",
      "metadata": {
        "id": "N1ZIGDiDHq8v"
      },
      "source": [
        "**a. Add a new element 'Data' in the given list**"
      ]
    },
    {
      "cell_type": "code",
      "metadata": {
        "id": "pqdSAn1MHq8w"
      },
      "source": [
        "languages_list.append('Data')"
      ],
      "execution_count": null,
      "outputs": []
    },
    {
      "cell_type": "markdown",
      "metadata": {
        "id": "xuln8KAsHq8y"
      },
      "source": [
        "**b. Add elements 'Excel' and 'Data' in the given list**"
      ]
    },
    {
      "cell_type": "code",
      "metadata": {
        "id": "8lu6nYthHq8z"
      },
      "source": [
        "languages_list.extend(('Excel', 'Data'))"
      ],
      "execution_count": null,
      "outputs": []
    },
    {
      "cell_type": "markdown",
      "metadata": {
        "id": "wCl5_gw2Hq81"
      },
      "source": [
        "**c. Replace an element 'C' with 'C++' in the given list**"
      ]
    },
    {
      "cell_type": "code",
      "metadata": {
        "id": "r9wdhVe-Hq82"
      },
      "source": [
        "languages_list[2] = 'C+'"
      ],
      "execution_count": null,
      "outputs": []
    },
    {
      "cell_type": "markdown",
      "metadata": {
        "id": "ftGI6ZUOHq84"
      },
      "source": [
        "<table align=\"left\">\n",
        "    <tr>\n",
        "        <td width=\"6%\">\n",
        "            <img src=\"question_icon.png\">\n",
        "        </td>\n",
        "        <td>\n",
        "            <div align=\"left\", style=\"font-size:120%\">\n",
        "                <font color=\"#21618C\">\n",
        "                    <b>8. How many times 'Summer' is occuring in a given list?\n",
        "                    </b>\n",
        "                </font>\n",
        "            </div>\n",
        "        </td>\n",
        "    </tr>\n",
        "</table>"
      ]
    },
    {
      "cell_type": "markdown",
      "metadata": {
        "id": "Jhgx8xp0Hq84"
      },
      "source": [
        "#### Use the below list\n",
        "\n",
        "seasons_list = ['Summer', 'Winter', 'Spring', 'Winter', 'Spring' ,'Summer', 'Spring', 'Summer', 'Winter', 'Summer', 'Spring']"
      ]
    },
    {
      "cell_type": "code",
      "metadata": {
        "id": "5u7MipCXHq84",
        "outputId": "17999144-6b8b-40c8-a2ca-0db3577ee326",
        "colab": {
          "base_uri": "https://localhost:8080/",
          "height": 35
        }
      },
      "source": [
        "seasons_list = ['Summer', 'Winter', 'Spring', 'Winter', 'Spring' ,'Summer', 'Spring', 'Summer', 'Winter', 'Summer', 'Spring']\n",
        "\n",
        "seasons_list.count('Summer')"
      ],
      "execution_count": null,
      "outputs": [
        {
          "output_type": "execute_result",
          "data": {
            "text/plain": [
              "4"
            ]
          },
          "metadata": {
            "tags": []
          },
          "execution_count": 65
        }
      ]
    },
    {
      "cell_type": "markdown",
      "metadata": {
        "id": "tjmTbT_5Hq88"
      },
      "source": [
        "<a id=\"tuple\"> </a>\n",
        "## 3. Tuple"
      ]
    },
    {
      "cell_type": "markdown",
      "metadata": {
        "id": "EcQuIDOKHq88"
      },
      "source": [
        "<table align=\"left\">\n",
        "    <tr>\n",
        "        <td width=\"6%\">\n",
        "            <img src=\"question_icon.png\">\n",
        "        </td>\n",
        "        <td>\n",
        "            <div align=\"left\", style=\"font-size:120%\">\n",
        "                <font color=\"#21618C\">\n",
        "                    <b>9. Write a code to perform operations on tuple:<br><br>\n",
        "                        a. Check the length of num_tuple<br>\n",
        "                        b. Concatenate the num_tuple and mix_tuple<br>\n",
        "                        c. Repeat the mix_tuple two times\n",
        "                    </b>\n",
        "                </font>\n",
        "            </div>\n",
        "        </td>\n",
        "    </tr>\n",
        "</table>"
      ]
    },
    {
      "cell_type": "markdown",
      "metadata": {
        "id": "OUWhCypvHq89"
      },
      "source": [
        "**Tuples to perform operations:**\n",
        "\n",
        "num_tuple = (4, 4, 8)\n",
        "\n",
        "mix_tuple = 'John', 5, -2"
      ]
    },
    {
      "cell_type": "markdown",
      "metadata": {
        "id": "6YRuHhpRHq89"
      },
      "source": [
        "**a. Check the length of num_tuple**"
      ]
    },
    {
      "cell_type": "code",
      "metadata": {
        "id": "fnDwxnKHHq8-",
        "outputId": "fc27da69-7fd0-45b5-d0c4-df2b9523cbb0",
        "colab": {
          "base_uri": "https://localhost:8080/",
          "height": 35
        }
      },
      "source": [
        "num_tuple = (4, 4, 8)\n",
        "\n",
        "mix_tuple = 'John', 5, -2\n",
        "\n",
        "len(num_tuple)"
      ],
      "execution_count": null,
      "outputs": [
        {
          "output_type": "execute_result",
          "data": {
            "text/plain": [
              "3"
            ]
          },
          "metadata": {
            "tags": []
          },
          "execution_count": 66
        }
      ]
    },
    {
      "cell_type": "markdown",
      "metadata": {
        "id": "pf41oJT1Hq9A"
      },
      "source": [
        "**b. Concatenate the num_tuple and mix_tuple**"
      ]
    },
    {
      "cell_type": "code",
      "metadata": {
        "id": "k_4RrgIyHq9A",
        "outputId": "273252b7-14c8-42c4-f327-5b7d289aeb98",
        "colab": {
          "base_uri": "https://localhost:8080/",
          "height": 35
        }
      },
      "source": [
        "num_tuple + mix_tuple"
      ],
      "execution_count": null,
      "outputs": [
        {
          "output_type": "execute_result",
          "data": {
            "text/plain": [
              "(4, 4, 8, 'John', 5, -2)"
            ]
          },
          "metadata": {
            "tags": []
          },
          "execution_count": 67
        }
      ]
    },
    {
      "cell_type": "markdown",
      "metadata": {
        "id": "5eVMFRY4Hq9C"
      },
      "source": [
        "**c. Repeat the mix_tuple two times**"
      ]
    },
    {
      "cell_type": "code",
      "metadata": {
        "id": "scFq2y3VHq9C",
        "outputId": "f6e90ea1-c270-417c-b6f1-9f1b5597bbae",
        "colab": {
          "base_uri": "https://localhost:8080/",
          "height": 35
        }
      },
      "source": [
        "a= mix_tuple*2\n",
        "a"
      ],
      "execution_count": null,
      "outputs": [
        {
          "output_type": "execute_result",
          "data": {
            "text/plain": [
              "('John', 5, -2, 'John', 5, -2)"
            ]
          },
          "metadata": {
            "tags": []
          },
          "execution_count": 69
        }
      ]
    },
    {
      "cell_type": "markdown",
      "metadata": {
        "id": "xhwXYp7lHq9F"
      },
      "source": [
        "<table align=\"left\">\n",
        "    <tr>\n",
        "        <td width=\"6%\">\n",
        "            <img src=\"question_icon.png\">\n",
        "        </td>\n",
        "        <td>\n",
        "            <div align=\"left\", style=\"font-size:120%\">\n",
        "                <font color=\"#21618C\">\n",
        "                    <b>10. Add a new element '4' to the given tuple</b>\n",
        "                </font>\n",
        "            </div>\n",
        "        </td>\n",
        "    </tr>\n",
        "</table>"
      ]
    },
    {
      "cell_type": "markdown",
      "metadata": {
        "id": "y1tlFRgTHq9G"
      },
      "source": [
        "**Use the tuple below:**\n",
        "\n",
        "mix_tuple = (['a', 1, True], 2, 'Science', -5)"
      ]
    },
    {
      "cell_type": "code",
      "metadata": {
        "id": "vVr8nMfWHq9G"
      },
      "source": [
        "mix_tuple = (['a', 1, True], 2, 'Science', -5)"
      ],
      "execution_count": null,
      "outputs": []
    },
    {
      "cell_type": "markdown",
      "metadata": {
        "id": "84aJcvgaHq9J"
      },
      "source": [
        "<table align=\"left\">\n",
        "    <tr>\n",
        "        <td width=\"6%\">\n",
        "            <img src=\"question_icon.png\">\n",
        "        </td>\n",
        "        <td>\n",
        "            <div align=\"left\", style=\"font-size:120%\">\n",
        "                <font color=\"#21618C\">\n",
        "                    <b>11. Replace the elements in the given tuple: <br><br>\n",
        "                        a. Replace '2' with '3'<br>\n",
        "                        b. Replace 'True' in first element with 'False'\n",
        "                    </b>\n",
        "                </font>\n",
        "            </div>\n",
        "        </td>\n",
        "    </tr>\n",
        "</table>"
      ]
    },
    {
      "cell_type": "markdown",
      "metadata": {
        "id": "bizHUBQ9Hq9J"
      },
      "source": [
        "**Use the tuple below:**\n",
        "\n",
        "mix_tuple = (['a', 1, True], 2, 'Science', -5)"
      ]
    },
    {
      "cell_type": "markdown",
      "metadata": {
        "id": "YG7TWxVhHq9K"
      },
      "source": [
        "**a. Replace '2' with '3'**"
      ]
    },
    {
      "cell_type": "code",
      "metadata": {
        "id": "eZAmxxuDHq9K"
      },
      "source": [
        "# Tuples are immutable"
      ],
      "execution_count": null,
      "outputs": []
    },
    {
      "cell_type": "markdown",
      "metadata": {
        "id": "yYdRaCumHq9M"
      },
      "source": [
        "**b. Replace 'True' in first element of the tuple with 'False'**"
      ]
    },
    {
      "cell_type": "code",
      "metadata": {
        "id": "rr8Vr6Z_Hq9N",
        "outputId": "8b99c057-9be5-419f-c4cf-00628cbee17a",
        "colab": {
          "base_uri": "https://localhost:8080/",
          "height": 35
        }
      },
      "source": [
        "mix_tuple[0][2] = False\n",
        "mix_tuple"
      ],
      "execution_count": null,
      "outputs": [
        {
          "output_type": "execute_result",
          "data": {
            "text/plain": [
              "(['a', 1, False], 2, 'Science', -5)"
            ]
          },
          "metadata": {
            "tags": []
          },
          "execution_count": 75
        }
      ]
    },
    {
      "cell_type": "markdown",
      "metadata": {
        "id": "mndBIIDcHq9Q"
      },
      "source": [
        "<a id=\"set\"> </a>\n",
        "## 4. Set"
      ]
    },
    {
      "cell_type": "markdown",
      "metadata": {
        "id": "Gx8dkV4yHq9Q"
      },
      "source": [
        "<table align=\"left\">\n",
        "    <tr>\n",
        "        <td width=\"6%\">\n",
        "            <img src=\"question_icon.png\">\n",
        "        </td>\n",
        "        <td>\n",
        "            <div align=\"left\", style=\"font-size:120%\">\n",
        "                <font color=\"#21618C\">\n",
        "                    <b>12. Write the program to perform following manipulations:<br><br>\n",
        "                        a. Add '7' to the given set<br>\n",
        "                        b. Remove '3' from a given set<br>\n",
        "                        c. Clear the set\n",
        "                    </b>\n",
        "                </font>\n",
        "            </div>\n",
        "        </td>\n",
        "    </tr>\n",
        "</table>"
      ]
    },
    {
      "cell_type": "markdown",
      "metadata": {
        "id": "v_a9Jxw3Hq9R"
      },
      "source": [
        "**Use the below set for manipulation**\n",
        "\n",
        "num_set = {1, 2, 3, 4, 5, 6}"
      ]
    },
    {
      "cell_type": "markdown",
      "metadata": {
        "id": "VKR2QdmMHq9R"
      },
      "source": [
        "**a. Add '7' to the given set**"
      ]
    },
    {
      "cell_type": "code",
      "metadata": {
        "id": "xxKBLla5Hq9S",
        "outputId": "272c5896-02ae-4ce0-ca3d-d83c86ad44c6",
        "colab": {
          "base_uri": "https://localhost:8080/",
          "height": 35
        }
      },
      "source": [
        "num_set = {1, 2, 3, 4, 5, 6}\n",
        "\n",
        "num_set.add(7)\n",
        "\n",
        "num_set"
      ],
      "execution_count": null,
      "outputs": [
        {
          "output_type": "execute_result",
          "data": {
            "text/plain": [
              "{1, 2, 3, 4, 5, 6, 7}"
            ]
          },
          "metadata": {
            "tags": []
          },
          "execution_count": 77
        }
      ]
    },
    {
      "cell_type": "markdown",
      "metadata": {
        "id": "bnzgEbLuHq9U"
      },
      "source": [
        "**b. Remove '3' from a given set**"
      ]
    },
    {
      "cell_type": "code",
      "metadata": {
        "id": "F51ucH0wHq9W"
      },
      "source": [
        "num_set.remove(3)"
      ],
      "execution_count": null,
      "outputs": []
    },
    {
      "cell_type": "code",
      "metadata": {
        "id": "ldpCqJJZzyTo",
        "outputId": "6138c707-1462-466c-9a2d-3f576336530a",
        "colab": {
          "base_uri": "https://localhost:8080/",
          "height": 35
        }
      },
      "source": [
        "num_set"
      ],
      "execution_count": null,
      "outputs": [
        {
          "output_type": "execute_result",
          "data": {
            "text/plain": [
              "{1, 2, 4, 5, 6, 7}"
            ]
          },
          "metadata": {
            "tags": []
          },
          "execution_count": 79
        }
      ]
    },
    {
      "cell_type": "markdown",
      "metadata": {
        "id": "JGhiYu4uHq9Y"
      },
      "source": [
        "**c. Clear the set**"
      ]
    },
    {
      "cell_type": "code",
      "metadata": {
        "id": "hwIWOYClHq9Y",
        "outputId": "006748f8-fc26-4e81-ad7c-fc8853953799",
        "colab": {
          "base_uri": "https://localhost:8080/",
          "height": 35
        }
      },
      "source": [
        "num_set.clear()\n",
        "num_set"
      ],
      "execution_count": null,
      "outputs": [
        {
          "output_type": "execute_result",
          "data": {
            "text/plain": [
              "set()"
            ]
          },
          "metadata": {
            "tags": []
          },
          "execution_count": 80
        }
      ]
    },
    {
      "cell_type": "markdown",
      "metadata": {
        "id": "LtYFMb3zHq9a"
      },
      "source": [
        "<table align=\"left\">\n",
        "    <tr>\n",
        "        <td width=\"6%\">\n",
        "            <img src=\"question_icon.png\">\n",
        "        </td>\n",
        "        <td>\n",
        "            <div align=\"left\", style=\"font-size:120%\">\n",
        "                <font color=\"#21618C\">\n",
        "                    <b>13. Create two sets of words from the given sentences and perform the following operations:<br><br>\n",
        "                        a. Find the count of unique words in each of the sentence<br> \n",
        "                        b. Find the common words in both the sentences<br>\n",
        "                        c. Find the unique words in both the sentences\n",
        "                       </b>\n",
        "                </font>\n",
        "            </div>\n",
        "        </td>\n",
        "    </tr>\n",
        "</table>"
      ]
    },
    {
      "cell_type": "markdown",
      "metadata": {
        "id": "rZ9yCM5VHq9b"
      },
      "source": [
        "**Use the sentences given below:**\n",
        "    \n",
        "sentence_1 = 'We shall analyse the data using python' \n",
        "\n",
        "sentence_2 = 'Python for data science'"
      ]
    },
    {
      "cell_type": "markdown",
      "metadata": {
        "id": "EFD3WWtsHq9b"
      },
      "source": [
        "**Create set of words**"
      ]
    },
    {
      "cell_type": "code",
      "metadata": {
        "id": "w7c2XTM6Hq9b"
      },
      "source": [
        "sentence_1 = 'We shall analyse the data using python'\n",
        "\n",
        "sentence_2 = 'Python for data science'\n",
        "\n",
        "sentence_1= set(sentence_1.split())\n",
        "sentence_2= set(sentence_2.split())"
      ],
      "execution_count": null,
      "outputs": []
    },
    {
      "cell_type": "markdown",
      "metadata": {
        "id": "-fe598g4Hq9e"
      },
      "source": [
        "**a. Find the number of unique words in the sentences**"
      ]
    },
    {
      "cell_type": "code",
      "metadata": {
        "id": "YzxURB_hHq9e",
        "outputId": "a73eba97-333f-47b9-e513-267e2b868007",
        "colab": {
          "base_uri": "https://localhost:8080/",
          "height": 54
        }
      },
      "source": [
        "print(len(sentence_1))\n",
        "print(len(sentence_2))"
      ],
      "execution_count": null,
      "outputs": [
        {
          "output_type": "stream",
          "text": [
            "7\n",
            "4\n"
          ],
          "name": "stdout"
        }
      ]
    },
    {
      "cell_type": "markdown",
      "metadata": {
        "id": "z2Vs9Nl0Hq9h"
      },
      "source": [
        "**b. Find the common words in both the sentences**"
      ]
    },
    {
      "cell_type": "code",
      "metadata": {
        "id": "AWiLMR3FHq9i",
        "outputId": "4ceac05c-0543-49b0-d8d6-266ba3289d4c",
        "colab": {
          "base_uri": "https://localhost:8080/",
          "height": 35
        }
      },
      "source": [
        "sentence_1.intersection(sentence_2)"
      ],
      "execution_count": null,
      "outputs": [
        {
          "output_type": "execute_result",
          "data": {
            "text/plain": [
              "{'data'}"
            ]
          },
          "metadata": {
            "tags": []
          },
          "execution_count": 91
        }
      ]
    },
    {
      "cell_type": "markdown",
      "metadata": {
        "id": "i4EVZBkoHq9m"
      },
      "source": [
        "**c. Find the unique words in both the sentences**"
      ]
    },
    {
      "cell_type": "code",
      "metadata": {
        "id": "0WByAYsbHq9m",
        "outputId": "92eadd82-f2d8-4eef-a5e3-9717e6a1599e",
        "colab": {
          "base_uri": "https://localhost:8080/",
          "height": 199
        }
      },
      "source": [
        "sentence_1.union(sentence_2) # We see python word repeated two times because one word is 'Python' and another word is 'python. Both have different P. "
      ],
      "execution_count": null,
      "outputs": [
        {
          "output_type": "execute_result",
          "data": {
            "text/plain": [
              "{'Python',\n",
              " 'We',\n",
              " 'analyse',\n",
              " 'data',\n",
              " 'for',\n",
              " 'python',\n",
              " 'science',\n",
              " 'shall',\n",
              " 'the',\n",
              " 'using'}"
            ]
          },
          "metadata": {
            "tags": []
          },
          "execution_count": 93
        }
      ]
    },
    {
      "cell_type": "markdown",
      "metadata": {
        "id": "Z_PShZZgHq9r"
      },
      "source": [
        "<table align=\"left\">\n",
        "    <tr>\n",
        "        <td width=\"6%\">\n",
        "            <img src=\"question_icon.png\">\n",
        "        </td>\n",
        "        <td>\n",
        "            <div align=\"left\", style=\"font-size:120%\">\n",
        "                <font color=\"#21618C\">\n",
        "                    <b>14. Write a program to perform following set operations:<br><br>\n",
        "                        a. Union<br> \n",
        "                        b. Intersection<br>\n",
        "                        c. Set of all the elements of set A that are not in set B<br>\n",
        "                        d. Set of all the elements of set B that are not in set A<br>\n",
        "                        e. Symmetric difference\n",
        "                    </b>\n",
        "                </font>\n",
        "            </div>\n",
        "        </td>\n",
        "    </tr>\n",
        "</table>"
      ]
    },
    {
      "cell_type": "markdown",
      "metadata": {
        "id": "Ajmm_h0PHq9r"
      },
      "source": [
        "**Use the below set:**\n",
        "\n",
        "A = {1, 4, 5, 2, 6, 3, 40, 7, 87, 4, 71}\n",
        "\n",
        "B = {3, 42, 51, 6, 7, 8, 54, 5}"
      ]
    },
    {
      "cell_type": "markdown",
      "metadata": {
        "id": "BLnHDTcqHq9s"
      },
      "source": [
        "**a. Union**"
      ]
    },
    {
      "cell_type": "code",
      "metadata": {
        "id": "gIuyHiKQHq9s",
        "outputId": "a24dd9c8-d54a-4c5a-8467-ed4c7ba75570",
        "colab": {
          "base_uri": "https://localhost:8080/",
          "height": 35
        }
      },
      "source": [
        "A = {1, 4, 5, 2, 6, 3, 40, 7, 87, 4, 71}\n",
        "\n",
        "B = {3, 42, 51, 6, 7, 8, 54, 5}\n",
        "\n",
        "print(A.union(B) )"
      ],
      "execution_count": null,
      "outputs": [
        {
          "output_type": "stream",
          "text": [
            "{1, 2, 3, 4, 5, 6, 7, 40, 71, 8, 42, 51, 54, 87}\n"
          ],
          "name": "stdout"
        }
      ]
    },
    {
      "cell_type": "markdown",
      "metadata": {
        "id": "aATppGqYHq9v"
      },
      "source": [
        "**b. Intersection**"
      ]
    },
    {
      "cell_type": "code",
      "metadata": {
        "id": "-ba7OgAdHq9v",
        "outputId": "e2780034-78ac-4253-9e73-03a1cd15d2fc",
        "colab": {
          "base_uri": "https://localhost:8080/",
          "height": 35
        }
      },
      "source": [
        "A.intersection(B)"
      ],
      "execution_count": null,
      "outputs": [
        {
          "output_type": "execute_result",
          "data": {
            "text/plain": [
              "{3, 5, 6, 7}"
            ]
          },
          "metadata": {
            "tags": []
          },
          "execution_count": 95
        }
      ]
    },
    {
      "cell_type": "markdown",
      "metadata": {
        "id": "6zSbv6h9Hq9x"
      },
      "source": [
        "**c. Set of all the elements of set A that are not in set B**"
      ]
    },
    {
      "cell_type": "code",
      "metadata": {
        "id": "Pbk8QtY-Hq9y",
        "outputId": "3cfd64ec-aee7-4d27-c24b-ec980356655b",
        "colab": {
          "base_uri": "https://localhost:8080/",
          "height": 35
        }
      },
      "source": [
        "A.difference(B)"
      ],
      "execution_count": null,
      "outputs": [
        {
          "output_type": "execute_result",
          "data": {
            "text/plain": [
              "{1, 2, 4, 40, 71, 87}"
            ]
          },
          "metadata": {
            "tags": []
          },
          "execution_count": 97
        }
      ]
    },
    {
      "cell_type": "markdown",
      "metadata": {
        "id": "qe1z_syuHq91"
      },
      "source": [
        "**d. Set of all the elements of set B that are not in set A**"
      ]
    },
    {
      "cell_type": "code",
      "metadata": {
        "id": "qN641EbnHq92",
        "outputId": "a0896159-b904-440b-a875-e43c7b6cb9a0",
        "colab": {
          "base_uri": "https://localhost:8080/",
          "height": 35
        }
      },
      "source": [
        "B.difference(A)"
      ],
      "execution_count": null,
      "outputs": [
        {
          "output_type": "execute_result",
          "data": {
            "text/plain": [
              "{8, 42, 51, 54}"
            ]
          },
          "metadata": {
            "tags": []
          },
          "execution_count": 98
        }
      ]
    },
    {
      "cell_type": "markdown",
      "metadata": {
        "id": "a1EQeXOUHq94"
      },
      "source": [
        "**e. Symmetric difference**"
      ]
    },
    {
      "cell_type": "code",
      "metadata": {
        "id": "Ee7s6P4tHq94",
        "outputId": "a038ef98-875d-4ddf-84d3-3bb91d62d7fc",
        "colab": {
          "base_uri": "https://localhost:8080/",
          "height": 35
        }
      },
      "source": [
        "A.symmetric_difference(B)"
      ],
      "execution_count": null,
      "outputs": [
        {
          "output_type": "execute_result",
          "data": {
            "text/plain": [
              "{1, 2, 4, 8, 40, 42, 51, 54, 71, 87}"
            ]
          },
          "metadata": {
            "tags": []
          },
          "execution_count": 99
        }
      ]
    },
    {
      "cell_type": "markdown",
      "metadata": {
        "id": "_6RhO3T4Hq95"
      },
      "source": [
        "<a id=\"dict\"> </a>\n",
        "## 5. Dictionary"
      ]
    },
    {
      "cell_type": "markdown",
      "metadata": {
        "id": "iXqXH07dHq96"
      },
      "source": [
        "<table align=\"left\">\n",
        "    <tr>\n",
        "        <td width=\"6%\">\n",
        "            <img src=\"question_icon.png\">\n",
        "        </td>\n",
        "        <td>\n",
        "            <div align=\"left\", style=\"font-size:120%\">\n",
        "                <font color=\"#21618C\">\n",
        "                    <b>15. Write a code to add a key to a dictionary\n",
        "                    </b>\n",
        "                </font>\n",
        "            </div>\n",
        "        </td>\n",
        "    </tr>\n",
        "</table>"
      ]
    },
    {
      "cell_type": "markdown",
      "metadata": {
        "id": "03XpGb8QHq96"
      },
      "source": [
        "**Use the given dictionary and add a key (4:16)**\n",
        "\n",
        "square_dictionary = {1:1, 2:4, 3:9}"
      ]
    },
    {
      "cell_type": "code",
      "metadata": {
        "id": "7RFqgZ5jHq96",
        "outputId": "57f2daa3-b50c-492e-d05a-d1d898700fa1",
        "colab": {
          "base_uri": "https://localhost:8080/",
          "height": 35
        }
      },
      "source": [
        "square_dictionary = {1:1, 2:4, 3:9}\n",
        "\n",
        "square_dictionary[4] = 16\n",
        "\n",
        "square_dictionary"
      ],
      "execution_count": null,
      "outputs": [
        {
          "output_type": "execute_result",
          "data": {
            "text/plain": [
              "{1: 1, 2: 4, 3: 9, 4: 16}"
            ]
          },
          "metadata": {
            "tags": []
          },
          "execution_count": 101
        }
      ]
    },
    {
      "cell_type": "markdown",
      "metadata": {
        "id": "436RgdALHq99"
      },
      "source": [
        "<table align=\"left\">\n",
        "    <tr>\n",
        "        <td width=\"6%\">\n",
        "            <img src=\"question_icon.png\">\n",
        "        </td>\n",
        "        <td>\n",
        "            <div align=\"left\", style=\"font-size:120%\">\n",
        "                <font color=\"#21618C\">\n",
        "                    <b>16. Write a program to retrieve the keys/values of dictionary </b>\n",
        "                </font>\n",
        "            </div>\n",
        "        </td>\n",
        "    </tr>\n",
        "</table>"
      ]
    },
    {
      "cell_type": "markdown",
      "metadata": {
        "id": "Vhb4L29kHq99"
      },
      "source": [
        "**Use the dictionary**\n",
        "\n",
        "mix_dictionary = {0:3, 'x':5, 1:2}"
      ]
    },
    {
      "cell_type": "code",
      "metadata": {
        "id": "rP76yL6OHq99",
        "outputId": "a4287a97-4997-43b8-cb35-490f4c214ca5",
        "colab": {
          "base_uri": "https://localhost:8080/",
          "height": 35
        }
      },
      "source": [
        "mix_dictionary = {0:3, 'x':5, 1:2}\n",
        "\n",
        "mix_dictionary.items()"
      ],
      "execution_count": null,
      "outputs": [
        {
          "output_type": "execute_result",
          "data": {
            "text/plain": [
              "dict_items([(0, 3), ('x', 5), (1, 2)])"
            ]
          },
          "metadata": {
            "tags": []
          },
          "execution_count": 104
        }
      ]
    },
    {
      "cell_type": "markdown",
      "metadata": {
        "id": "cSvrg14xHq9_"
      },
      "source": [
        "<table align=\"left\">\n",
        "    <tr>\n",
        "        <td width=\"6%\">\n",
        "            <img src=\"question_icon.png\">\n",
        "        </td>\n",
        "        <td>\n",
        "            <div align=\"left\", style=\"font-size:120%\">\n",
        "                <font color=\"#21618C\">\n",
        "                    <b>17. Write a program to get the value for 'Age' from the dictionary</b>\n",
        "                </font>\n",
        "            </div>\n",
        "        </td>\n",
        "    </tr>\n",
        "</table>"
      ]
    },
    {
      "cell_type": "markdown",
      "metadata": {
        "id": "EkV8dsu3Hq9_"
      },
      "source": [
        "**Use the dictionary**\n",
        "\n",
        "emp_record = {'Weight': 67, 'BMI': 25, 'Age': 27, 'Profession': 'CA'}"
      ]
    },
    {
      "cell_type": "code",
      "metadata": {
        "id": "HVd1ohFpHq-B",
        "outputId": "40a9fa75-8ac3-49f3-c2d3-90142b5a1396",
        "colab": {
          "base_uri": "https://localhost:8080/",
          "height": 35
        }
      },
      "source": [
        "emp_record = {'Weight': 67, 'BMI': 25, 'Age': 27, 'Profession': 'CA'}\n",
        "emp_record['Age']"
      ],
      "execution_count": null,
      "outputs": [
        {
          "output_type": "execute_result",
          "data": {
            "text/plain": [
              "27"
            ]
          },
          "metadata": {
            "tags": []
          },
          "execution_count": 106
        }
      ]
    },
    {
      "cell_type": "markdown",
      "metadata": {
        "id": "l2q3uZc9Hq-E"
      },
      "source": [
        "<table align=\"left\">\n",
        "    <tr>\n",
        "        <td width=\"6%\">\n",
        "            <img src=\"question_icon.png\">\n",
        "        </td>\n",
        "        <td>\n",
        "            <div align=\"left\", style=\"font-size:120%\">\n",
        "                <font color=\"#21618C\">\n",
        "                    <b>18. Write a program to create a dictionary using given keys and values</b>\n",
        "                </font>\n",
        "            </div>\n",
        "        </td>\n",
        "    </tr>\n",
        "</table>"
      ]
    },
    {
      "cell_type": "markdown",
      "metadata": {
        "id": "CFXu0XK9Hq-F"
      },
      "source": [
        "**Use the keys and values to create a dictionary**\n",
        "\n",
        "key = ['a','b','c','d']\n",
        "\n",
        "value = [1, 2, 3, 4]"
      ]
    },
    {
      "cell_type": "code",
      "metadata": {
        "id": "ClQMdd0-Hq-G",
        "outputId": "9cbb748b-e21f-4edc-f20b-22ff7c81f323",
        "colab": {
          "base_uri": "https://localhost:8080/",
          "height": 72
        }
      },
      "source": [
        "s= dict([('a', 1), ('b', 2), ('c', 3), ('d', 4)])\n",
        "\n",
        "print(s)\n",
        "print(type(s))\n",
        "\n",
        "# Or using a zip function:\n",
        "\n",
        "\n",
        "\n",
        "key = ['a','b','c','d']\n",
        "\n",
        "value = [1, 2, 3, 4]\n",
        "\n",
        "a= {}\n",
        "\n",
        "for i, j in zip(key, value):\n",
        "  a[i] = j\n",
        "\n",
        "print(a)"
      ],
      "execution_count": null,
      "outputs": [
        {
          "output_type": "stream",
          "text": [
            "{'a': 1, 'b': 2, 'c': 3, 'd': 4}\n",
            "<class 'dict'>\n",
            "{'a': 1, 'b': 2, 'c': 3, 'd': 4}\n"
          ],
          "name": "stdout"
        }
      ]
    },
    {
      "cell_type": "markdown",
      "metadata": {
        "id": "_hmw3BX5Hq-J"
      },
      "source": [
        "<table align=\"left\">\n",
        "    <tr>\n",
        "        <td width=\"6%\">\n",
        "            <img src=\"question_icon.png\">\n",
        "        </td>\n",
        "        <td>\n",
        "            <div align=\"left\", style=\"font-size:120%\">\n",
        "                <font color=\"#21618C\">\n",
        "                    <b>19. Set the country of an employee as 'India' in the given employee record</b>\n",
        "                </font>\n",
        "            </div>\n",
        "        </td>\n",
        "    </tr>\n",
        "</table>"
      ]
    },
    {
      "cell_type": "markdown",
      "metadata": {
        "id": "V_z2TsDUHq-K"
      },
      "source": [
        "**Use the dictionary**\n",
        "\n",
        "emp_record = {'Emp_ID': 'ES001', 'Weight': 67, 'BMI': 25, 'Age': 27, 'Profession': 'CA'}"
      ]
    },
    {
      "cell_type": "code",
      "metadata": {
        "id": "VJLZof_iHq-K"
      },
      "source": [
        "emp_record = {'Emp_ID': 'ES001', 'Weight': 67, 'BMI': 25, 'Age': 27, 'Profession': 'CA'}\n",
        "\n",
        "emp_record['Country'] = 'India'"
      ],
      "execution_count": null,
      "outputs": []
    },
    {
      "cell_type": "code",
      "metadata": {
        "id": "G1TzlDwi6L_E",
        "outputId": "71e0fbcc-7f59-4290-d0bd-d0b4e351237a",
        "colab": {
          "base_uri": "https://localhost:8080/",
          "height": 126
        }
      },
      "source": [
        "emp_record"
      ],
      "execution_count": null,
      "outputs": [
        {
          "output_type": "execute_result",
          "data": {
            "text/plain": [
              "{'Age': 27,\n",
              " 'BMI': 25,\n",
              " 'Country': 'India',\n",
              " 'Emp_ID': 'ES001',\n",
              " 'Profession': 'CA',\n",
              " 'Weight': 67}"
            ]
          },
          "metadata": {
            "tags": []
          },
          "execution_count": 116
        }
      ]
    },
    {
      "cell_type": "code",
      "metadata": {
        "id": "N6Si1cRU6UMr"
      },
      "source": [
        ""
      ],
      "execution_count": null,
      "outputs": []
    }
  ]
}