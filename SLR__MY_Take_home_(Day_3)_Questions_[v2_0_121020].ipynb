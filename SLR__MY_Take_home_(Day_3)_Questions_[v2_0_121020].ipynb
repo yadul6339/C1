{
  "nbformat": 4,
  "nbformat_minor": 0,
  "metadata": {
    "kernelspec": {
      "display_name": "Python 3",
      "language": "python",
      "name": "python3"
    },
    "language_info": {
      "codemirror_mode": {
        "name": "ipython",
        "version": 3
      },
      "file_extension": ".py",
      "mimetype": "text/x-python",
      "name": "python",
      "nbconvert_exporter": "python",
      "pygments_lexer": "ipython3",
      "version": "3.8.3"
    },
    "colab": {
      "name": "SLR _MY_Take home (Day 3) - Questions [v2.0 - 121020].ipynb",
      "provenance": [],
      "collapsed_sections": [],
      "include_colab_link": true
    }
  },
  "cells": [
    {
      "cell_type": "markdown",
      "metadata": {
        "id": "view-in-github",
        "colab_type": "text"
      },
      "source": [
        "<a href=\"https://colab.research.google.com/github/zerryberry/C1/blob/master/SLR__MY_Take_home_(Day_3)_Questions_%5Bv2_0_121020%5D.ipynb\" target=\"_parent\"><img src=\"https://colab.research.google.com/assets/colab-badge.svg\" alt=\"Open In Colab\"/></a>"
      ]
    },
    {
      "cell_type": "markdown",
      "metadata": {
        "id": "mIQubP3LO32t"
      },
      "source": [
        "<table align=\"center\" width=100%>\n",
        "    <tr>\n",
        "        <td width=\"15%\">\n",
        "            <img src=\"homework.png\">\n",
        "        </td>\n",
        "        <td>\n",
        "            <div align=\"center\">\n",
        "                <font color=\"#21618C\" size=8px>\n",
        "                    <b> Take-Home <br>(Day 3)\n",
        "                    </b>\n",
        "                </font>\n",
        "            </div>\n",
        "        </td>\n",
        "    </tr>\n",
        "</table>"
      ]
    },
    {
      "cell_type": "markdown",
      "metadata": {
        "id": "Q_RmuCcZO322"
      },
      "source": [
        "#### Import the required libraries"
      ]
    },
    {
      "cell_type": "code",
      "metadata": {
        "colab": {
          "base_uri": "https://localhost:8080/"
        },
        "id": "V0PtZSsKO323",
        "outputId": "4d105737-7ef2-4396-edec-31dd1cd25b52"
      },
      "source": [
        "import pandas as pd\r\n",
        "import numpy as np\r\n",
        "import seaborn as sns\r\n",
        "import matplotlib.pyplot as plt\r\n",
        "import statsmodels.stats as stats"
      ],
      "execution_count": 1,
      "outputs": [
        {
          "output_type": "stream",
          "text": [
            "/usr/local/lib/python3.6/dist-packages/statsmodels/tools/_testing.py:19: FutureWarning: pandas.util.testing is deprecated. Use the functions in the public API at pandas.testing instead.\n",
            "  import pandas.util.testing as tm\n"
          ],
          "name": "stderr"
        }
      ]
    },
    {
      "cell_type": "markdown",
      "metadata": {
        "id": "XzI1vePwO323"
      },
      "source": [
        "#### Read the data\n",
        "\n",
        "Load the csv file and print the first five observations."
      ]
    },
    {
      "cell_type": "code",
      "metadata": {
        "colab": {
          "base_uri": "https://localhost:8080/",
          "height": 215
        },
        "id": "2jJnh7YKO324",
        "outputId": "cb7374b9-8412-414b-dd03-13ffd8db0d35"
      },
      "source": [
        "df= pd.read_csv('/content/fish_weight_predict.csv')\r\n",
        "print(df.shape)\r\n",
        "df.head()"
      ],
      "execution_count": 2,
      "outputs": [
        {
          "output_type": "stream",
          "text": [
            "(159, 7)\n"
          ],
          "name": "stdout"
        },
        {
          "output_type": "execute_result",
          "data": {
            "text/html": [
              "<div>\n",
              "<style scoped>\n",
              "    .dataframe tbody tr th:only-of-type {\n",
              "        vertical-align: middle;\n",
              "    }\n",
              "\n",
              "    .dataframe tbody tr th {\n",
              "        vertical-align: top;\n",
              "    }\n",
              "\n",
              "    .dataframe thead th {\n",
              "        text-align: right;\n",
              "    }\n",
              "</style>\n",
              "<table border=\"1\" class=\"dataframe\">\n",
              "  <thead>\n",
              "    <tr style=\"text-align: right;\">\n",
              "      <th></th>\n",
              "      <th>Species</th>\n",
              "      <th>Weight</th>\n",
              "      <th>V_length</th>\n",
              "      <th>D_length</th>\n",
              "      <th>C_length</th>\n",
              "      <th>Height</th>\n",
              "      <th>Width</th>\n",
              "    </tr>\n",
              "  </thead>\n",
              "  <tbody>\n",
              "    <tr>\n",
              "      <th>0</th>\n",
              "      <td>Bream</td>\n",
              "      <td>242.0</td>\n",
              "      <td>23.2</td>\n",
              "      <td>25.4</td>\n",
              "      <td>30.0</td>\n",
              "      <td>11.5200</td>\n",
              "      <td>4.0200</td>\n",
              "    </tr>\n",
              "    <tr>\n",
              "      <th>1</th>\n",
              "      <td>Bream</td>\n",
              "      <td>290.0</td>\n",
              "      <td>24.0</td>\n",
              "      <td>26.3</td>\n",
              "      <td>31.2</td>\n",
              "      <td>12.4800</td>\n",
              "      <td>4.3056</td>\n",
              "    </tr>\n",
              "    <tr>\n",
              "      <th>2</th>\n",
              "      <td>Bream</td>\n",
              "      <td>340.0</td>\n",
              "      <td>23.9</td>\n",
              "      <td>26.5</td>\n",
              "      <td>31.1</td>\n",
              "      <td>12.3778</td>\n",
              "      <td>4.6961</td>\n",
              "    </tr>\n",
              "    <tr>\n",
              "      <th>3</th>\n",
              "      <td>Bream</td>\n",
              "      <td>363.0</td>\n",
              "      <td>26.3</td>\n",
              "      <td>29.0</td>\n",
              "      <td>33.5</td>\n",
              "      <td>12.7300</td>\n",
              "      <td>4.4555</td>\n",
              "    </tr>\n",
              "    <tr>\n",
              "      <th>4</th>\n",
              "      <td>Bream</td>\n",
              "      <td>430.0</td>\n",
              "      <td>26.5</td>\n",
              "      <td>29.0</td>\n",
              "      <td>34.0</td>\n",
              "      <td>12.4440</td>\n",
              "      <td>5.1340</td>\n",
              "    </tr>\n",
              "  </tbody>\n",
              "</table>\n",
              "</div>"
            ],
            "text/plain": [
              "  Species  Weight  V_length  D_length  C_length   Height   Width\n",
              "0   Bream   242.0      23.2      25.4      30.0  11.5200  4.0200\n",
              "1   Bream   290.0      24.0      26.3      31.2  12.4800  4.3056\n",
              "2   Bream   340.0      23.9      26.5      31.1  12.3778  4.6961\n",
              "3   Bream   363.0      26.3      29.0      33.5  12.7300  4.4555\n",
              "4   Bream   430.0      26.5      29.0      34.0  12.4440  5.1340"
            ]
          },
          "metadata": {
            "tags": []
          },
          "execution_count": 2
        }
      ]
    },
    {
      "cell_type": "code",
      "metadata": {
        "id": "RSB4dfK7VGGb"
      },
      "source": [
        "we = df['Weight']"
      ],
      "execution_count": 3,
      "outputs": []
    },
    {
      "cell_type": "code",
      "metadata": {
        "colab": {
          "base_uri": "https://localhost:8080/"
        },
        "id": "lvPetZBSXjZN",
        "outputId": "31c9cd30-7cfa-44d7-d55a-bf511f9e4eb9"
      },
      "source": [
        "we.head()"
      ],
      "execution_count": 8,
      "outputs": [
        {
          "output_type": "execute_result",
          "data": {
            "text/plain": [
              "0    242.0\n",
              "1    290.0\n",
              "2    340.0\n",
              "3    363.0\n",
              "4    430.0\n",
              "Name: Weight, dtype: float64"
            ]
          },
          "metadata": {
            "tags": []
          },
          "execution_count": 8
        }
      ]
    },
    {
      "cell_type": "code",
      "metadata": {
        "id": "Ckh9d5cKVaox"
      },
      "source": [
        "df.columns = [i.strip() for i in df.columns]"
      ],
      "execution_count": 4,
      "outputs": []
    },
    {
      "cell_type": "code",
      "metadata": {
        "colab": {
          "base_uri": "https://localhost:8080/"
        },
        "id": "pvwys4KMVauP",
        "outputId": "812c803e-a7a6-45e0-e0b7-d87ca433293c"
      },
      "source": [
        "df.isna().sum()"
      ],
      "execution_count": 5,
      "outputs": [
        {
          "output_type": "execute_result",
          "data": {
            "text/plain": [
              "Species     0\n",
              "Weight      0\n",
              "V_length    0\n",
              "D_length    0\n",
              "C_length    0\n",
              "Height      0\n",
              "Width       0\n",
              "dtype: int64"
            ]
          },
          "metadata": {
            "tags": []
          },
          "execution_count": 5
        }
      ]
    },
    {
      "cell_type": "code",
      "metadata": {
        "id": "jKrrkvkZXUEx"
      },
      "source": [
        "df.drop({'Weight'}, axis=1, inplace=True)"
      ],
      "execution_count": 6,
      "outputs": []
    },
    {
      "cell_type": "markdown",
      "metadata": {
        "id": "jHhibKHqO324"
      },
      "source": [
        "Our objective is to predict the weight of a fish."
      ]
    },
    {
      "cell_type": "markdown",
      "metadata": {
        "id": "rtpYIYirO325"
      },
      "source": [
        "**The data definition is as follows:** <br>\n",
        "\n",
        "**Species:** Species of a fish\n",
        "\n",
        "**Weight:** Weight of a fish (target/dependent variable)\n",
        "\n",
        "**V_length:** Vertical length of a fish\n",
        "\n",
        "**D_length:** Diagonal length of a fish\n",
        "\n",
        "**C_length:** Cross length of a fish\n",
        "\n",
        "**Height:** Height of a fish\n",
        "\n",
        "**Width:** Diagonal width of a fish"
      ]
    },
    {
      "cell_type": "markdown",
      "metadata": {
        "id": "wEU3uFiRO325"
      },
      "source": [
        "### Let's begin with some hands-on practice exercises"
      ]
    },
    {
      "cell_type": "markdown",
      "metadata": {
        "id": "pO1EMnoPO326"
      },
      "source": [
        "<table align=\"left\">\n",
        "    <tr>\n",
        "        <td width=\"6%\">\n",
        "            <img src=\"question_icon.png\">\n",
        "        </td>\n",
        "        <td>\n",
        "            <div align=\"left\", style=\"font-size:120%\">\n",
        "                <font color=\"#21618C\">\n",
        "                    <b>1. Build a full model on the scaled data and check whether the model is overfitting or not</b>\n",
        "                </font>\n",
        "            </div>\n",
        "        </td>\n",
        "    </tr>\n",
        "</table>"
      ]
    },
    {
      "cell_type": "code",
      "metadata": {
        "colab": {
          "base_uri": "https://localhost:8080/",
          "height": 197
        },
        "id": "XYAZJGdVwFs1",
        "outputId": "192836f8-2bf7-494c-b6a6-81409a221b45"
      },
      "source": [
        "# scaling data\r\n",
        "from sklearn.preprocessing import StandardScaler\r\n",
        "r = StandardScaler()\r\n",
        "r1 = r.fit_transform(df)\r\n",
        "df_sc = pd.DataFrame(r1, columns=df.columns)\r\n",
        "df_sc.head()"
      ],
      "execution_count": 20,
      "outputs": [
        {
          "output_type": "execute_result",
          "data": {
            "text/html": [
              "<div>\n",
              "<style scoped>\n",
              "    .dataframe tbody tr th:only-of-type {\n",
              "        vertical-align: middle;\n",
              "    }\n",
              "\n",
              "    .dataframe tbody tr th {\n",
              "        vertical-align: top;\n",
              "    }\n",
              "\n",
              "    .dataframe thead th {\n",
              "        text-align: right;\n",
              "    }\n",
              "</style>\n",
              "<table border=\"1\" class=\"dataframe\">\n",
              "  <thead>\n",
              "    <tr style=\"text-align: right;\">\n",
              "      <th></th>\n",
              "      <th>V_length</th>\n",
              "      <th>D_length</th>\n",
              "      <th>C_length</th>\n",
              "      <th>Height</th>\n",
              "      <th>Width</th>\n",
              "      <th>Species_Parkki</th>\n",
              "      <th>Species_Perch</th>\n",
              "      <th>Species_Pike</th>\n",
              "      <th>Species_Roach</th>\n",
              "      <th>Species_Smelt</th>\n",
              "      <th>Species_Whitefish</th>\n",
              "    </tr>\n",
              "  </thead>\n",
              "  <tbody>\n",
              "    <tr>\n",
              "      <th>0</th>\n",
              "      <td>-0.305789</td>\n",
              "      <td>-0.282303</td>\n",
              "      <td>-0.106020</td>\n",
              "      <td>0.596579</td>\n",
              "      <td>-0.236529</td>\n",
              "      <td>-0.272625</td>\n",
              "      <td>-0.737353</td>\n",
              "      <td>-0.346003</td>\n",
              "      <td>-0.379322</td>\n",
              "      <td>-0.310728</td>\n",
              "      <td>-0.19803</td>\n",
              "    </tr>\n",
              "    <tr>\n",
              "      <th>1</th>\n",
              "      <td>-0.225507</td>\n",
              "      <td>-0.198054</td>\n",
              "      <td>-0.002337</td>\n",
              "      <td>0.821261</td>\n",
              "      <td>-0.066579</td>\n",
              "      <td>-0.272625</td>\n",
              "      <td>-0.737353</td>\n",
              "      <td>-0.346003</td>\n",
              "      <td>-0.379322</td>\n",
              "      <td>-0.310728</td>\n",
              "      <td>-0.19803</td>\n",
              "    </tr>\n",
              "    <tr>\n",
              "      <th>2</th>\n",
              "      <td>-0.235542</td>\n",
              "      <td>-0.179332</td>\n",
              "      <td>-0.010977</td>\n",
              "      <td>0.797341</td>\n",
              "      <td>0.165793</td>\n",
              "      <td>-0.272625</td>\n",
              "      <td>-0.737353</td>\n",
              "      <td>-0.346003</td>\n",
              "      <td>-0.379322</td>\n",
              "      <td>-0.310728</td>\n",
              "      <td>-0.19803</td>\n",
              "    </tr>\n",
              "    <tr>\n",
              "      <th>3</th>\n",
              "      <td>0.005302</td>\n",
              "      <td>0.054694</td>\n",
              "      <td>0.196390</td>\n",
              "      <td>0.879771</td>\n",
              "      <td>0.022621</td>\n",
              "      <td>-0.272625</td>\n",
              "      <td>-0.737353</td>\n",
              "      <td>-0.346003</td>\n",
              "      <td>-0.379322</td>\n",
              "      <td>-0.310728</td>\n",
              "      <td>-0.19803</td>\n",
              "    </tr>\n",
              "    <tr>\n",
              "      <th>4</th>\n",
              "      <td>0.025372</td>\n",
              "      <td>0.054694</td>\n",
              "      <td>0.239592</td>\n",
              "      <td>0.812835</td>\n",
              "      <td>0.426371</td>\n",
              "      <td>-0.272625</td>\n",
              "      <td>-0.737353</td>\n",
              "      <td>-0.346003</td>\n",
              "      <td>-0.379322</td>\n",
              "      <td>-0.310728</td>\n",
              "      <td>-0.19803</td>\n",
              "    </tr>\n",
              "  </tbody>\n",
              "</table>\n",
              "</div>"
            ],
            "text/plain": [
              "   V_length  D_length  ...  Species_Smelt  Species_Whitefish\n",
              "0 -0.305789 -0.282303  ...      -0.310728           -0.19803\n",
              "1 -0.225507 -0.198054  ...      -0.310728           -0.19803\n",
              "2 -0.235542 -0.179332  ...      -0.310728           -0.19803\n",
              "3  0.005302  0.054694  ...      -0.310728           -0.19803\n",
              "4  0.025372  0.054694  ...      -0.310728           -0.19803\n",
              "\n",
              "[5 rows x 11 columns]"
            ]
          },
          "metadata": {
            "tags": []
          },
          "execution_count": 20
        }
      ]
    },
    {
      "cell_type": "code",
      "metadata": {
        "id": "4AWbTPMgwF3C"
      },
      "source": [
        ""
      ],
      "execution_count": null,
      "outputs": []
    },
    {
      "cell_type": "code",
      "metadata": {
        "colab": {
          "base_uri": "https://localhost:8080/"
        },
        "id": "OCiVZyU6egMM",
        "outputId": "3e84e8f1-f0c7-402b-8c92-eccbfd26d510"
      },
      "source": [
        "df.dtypes"
      ],
      "execution_count": 10,
      "outputs": [
        {
          "output_type": "execute_result",
          "data": {
            "text/plain": [
              "Species      object\n",
              "V_length    float64\n",
              "D_length    float64\n",
              "C_length    float64\n",
              "Height      float64\n",
              "Width       float64\n",
              "dtype: object"
            ]
          },
          "metadata": {
            "tags": []
          },
          "execution_count": 10
        }
      ]
    },
    {
      "cell_type": "code",
      "metadata": {
        "id": "xqLk7gPRekBn"
      },
      "source": [
        "df = pd.get_dummies(data= df, columns=['Species'], drop_first=True)"
      ],
      "execution_count": 11,
      "outputs": []
    },
    {
      "cell_type": "code",
      "metadata": {
        "colab": {
          "base_uri": "https://localhost:8080/"
        },
        "id": "eZrQ597qO326",
        "outputId": "b40086a0-2c19-4726-d699-ad05a78e2104"
      },
      "source": [
        "# without scaling\r\n",
        "\r\n",
        "import statsmodels.api as sm\r\n",
        "\r\n",
        "xc= sm.add_constant(df)\r\n",
        "md= sm.OLS(we, xc).fit()\r\n",
        "print(md.summary())"
      ],
      "execution_count": 18,
      "outputs": [
        {
          "output_type": "stream",
          "text": [
            "                            OLS Regression Results                            \n",
            "==============================================================================\n",
            "Dep. Variable:                 Weight   R-squared:                       0.936\n",
            "Model:                            OLS   Adj. R-squared:                  0.931\n",
            "Method:                 Least Squares   F-statistic:                     194.7\n",
            "Date:                Sat, 30 Jan 2021   Prob (F-statistic):           9.67e-82\n",
            "Time:                        14:10:55   Log-Likelihood:                -941.46\n",
            "No. Observations:                 159   AIC:                             1907.\n",
            "Df Residuals:                     147   BIC:                             1944.\n",
            "Df Model:                          11                                         \n",
            "Covariance Type:            nonrobust                                         \n",
            "=====================================================================================\n",
            "                        coef    std err          t      P>|t|      [0.025      0.975]\n",
            "-------------------------------------------------------------------------------------\n",
            "const              -907.1500    127.078     -7.139      0.000   -1158.285    -656.015\n",
            "V_length            -79.3905     36.277     -2.188      0.030    -151.082      -7.699\n",
            "D_length             83.5100     45.716      1.827      0.070      -6.835     173.856\n",
            "C_length             28.0340     29.299      0.957      0.340     -29.867      85.935\n",
            "Height                6.3568     13.055      0.487      0.627     -19.444      32.157\n",
            "Width                -1.0454     23.912     -0.044      0.965     -48.301      46.210\n",
            "Species_Parkki      157.1605     75.696      2.076      0.040       7.567     306.754\n",
            "Species_Perch       129.2065    120.308      1.074      0.285    -108.551     366.964\n",
            "Species_Pike       -209.6167    135.300     -1.549      0.123    -477.002      57.769\n",
            "Species_Roach       106.7884     91.304      1.170      0.244     -73.650     287.227\n",
            "Species_Smelt       438.3931    119.425      3.671      0.000     202.381     674.405\n",
            "Species_Whitefish    89.2880     96.654      0.924      0.357    -101.722     280.298\n",
            "==============================================================================\n",
            "Omnibus:                       42.986   Durbin-Watson:                   0.947\n",
            "Prob(Omnibus):                  0.000   Jarque-Bera (JB):               95.736\n",
            "Skew:                           1.170   Prob(JB):                     1.63e-21\n",
            "Kurtosis:                       5.996   Cond. No.                     2.03e+03\n",
            "==============================================================================\n",
            "\n",
            "Warnings:\n",
            "[1] Standard Errors assume that the covariance matrix of the errors is correctly specified.\n",
            "[2] The condition number is large, 2.03e+03. This might indicate that there are\n",
            "strong multicollinearity or other numerical problems.\n"
          ],
          "name": "stdout"
        }
      ]
    },
    {
      "cell_type": "code",
      "metadata": {
        "colab": {
          "base_uri": "https://localhost:8080/"
        },
        "id": "Ka-2z_a5wpaR",
        "outputId": "b22efe87-0e88-443d-a317-bebbd6bb2455"
      },
      "source": [
        "# With scaling\r\n",
        "xc= sm.add_constant(df_sc)\r\n",
        "md= sm.OLS(we, xc).fit()\r\n",
        "print(md.summary())"
      ],
      "execution_count": 21,
      "outputs": [
        {
          "output_type": "stream",
          "text": [
            "                            OLS Regression Results                            \n",
            "==============================================================================\n",
            "Dep. Variable:                 Weight   R-squared:                       0.936\n",
            "Model:                            OLS   Adj. R-squared:                  0.931\n",
            "Method:                 Least Squares   F-statistic:                     194.7\n",
            "Date:                Sat, 30 Jan 2021   Prob (F-statistic):           9.67e-82\n",
            "Time:                        14:46:59   Log-Likelihood:                -941.46\n",
            "No. Observations:                 159   AIC:                             1907.\n",
            "Df Residuals:                     147   BIC:                             1944.\n",
            "Df Model:                          11                                         \n",
            "Covariance Type:            nonrobust                                         \n",
            "=====================================================================================\n",
            "                        coef    std err          t      P>|t|      [0.025      0.975]\n",
            "-------------------------------------------------------------------------------------\n",
            "const               399.2698      7.441     53.661      0.000     384.565     413.974\n",
            "V_length           -791.1227    361.498     -2.188      0.030   -1505.527     -76.718\n",
            "D_length            892.1024    488.365      1.827      0.070     -73.021    1857.225\n",
            "C_length            324.4561    339.096      0.957      0.340    -345.676     994.589\n",
            "Height               27.1607     55.782      0.487      0.627     -83.077     137.399\n",
            "Width                -1.7568     40.184     -0.044      0.965     -81.170      77.656\n",
            "Species_Parkki       39.8817     19.209      2.076      0.040       1.920      77.843\n",
            "Species_Perch        61.7163     57.466      1.074      0.285     -51.850     175.283\n",
            "Species_Pike        -64.7735     41.809     -1.549      0.123    -147.398      17.851\n",
            "Species_Roach        35.4119     30.277      1.170      0.244     -24.423      95.247\n",
            "Species_Smelt       124.2266     33.841      3.671      0.000      57.348     191.105\n",
            "Species_Whitefish    17.0144     18.418      0.924      0.357     -19.384      53.413\n",
            "==============================================================================\n",
            "Omnibus:                       42.986   Durbin-Watson:                   0.947\n",
            "Prob(Omnibus):                  0.000   Jarque-Bera (JB):               95.736\n",
            "Skew:                           1.170   Prob(JB):                     1.63e-21\n",
            "Kurtosis:                       5.996   Cond. No.                         180.\n",
            "==============================================================================\n",
            "\n",
            "Warnings:\n",
            "[1] Standard Errors assume that the covariance matrix of the errors is correctly specified.\n"
          ],
          "name": "stdout"
        }
      ]
    },
    {
      "cell_type": "code",
      "metadata": {
        "id": "YE5453ZOwpz_"
      },
      "source": [
        ""
      ],
      "execution_count": 21,
      "outputs": []
    },
    {
      "cell_type": "code",
      "metadata": {
        "id": "JRpAD_vffUcM"
      },
      "source": [
        "from sklearn.model_selection import train_test_split\r\n",
        "\r\n",
        "xtr, xts, ytr, yts = train_test_split(df, we)"
      ],
      "execution_count": 13,
      "outputs": []
    },
    {
      "cell_type": "code",
      "metadata": {
        "id": "DfmXjgGzwzYU"
      },
      "source": [
        "# scaled data\r\n",
        "\r\n",
        "xtr1, xts1, ytr1, yts1 = train_test_split(df_sc, we)"
      ],
      "execution_count": 22,
      "outputs": []
    },
    {
      "cell_type": "code",
      "metadata": {
        "colab": {
          "base_uri": "https://localhost:8080/"
        },
        "id": "l1nAbDARfRDD",
        "outputId": "1fb16359-2cac-4ad8-c02c-df3a92f250a2"
      },
      "source": [
        "xc= sm.add_constant(xtr)\r\n",
        "md= sm.OLS(ytr, xc).fit()\r\n",
        "print(md.summary())"
      ],
      "execution_count": 15,
      "outputs": [
        {
          "output_type": "stream",
          "text": [
            "                            OLS Regression Results                            \n",
            "==============================================================================\n",
            "Dep. Variable:                 Weight   R-squared:                       0.940\n",
            "Model:                            OLS   Adj. R-squared:                  0.934\n",
            "Method:                 Least Squares   F-statistic:                     153.4\n",
            "Date:                Sat, 30 Jan 2021   Prob (F-statistic):           3.37e-60\n",
            "Time:                        13:32:36   Log-Likelihood:                -705.95\n",
            "No. Observations:                 119   AIC:                             1436.\n",
            "Df Residuals:                     107   BIC:                             1469.\n",
            "Df Model:                          11                                         \n",
            "Covariance Type:            nonrobust                                         \n",
            "=====================================================================================\n",
            "                        coef    std err          t      P>|t|      [0.025      0.975]\n",
            "-------------------------------------------------------------------------------------\n",
            "const             -1082.3777    150.371     -7.198      0.000   -1380.471    -784.284\n",
            "V_length            -90.9407     42.914     -2.119      0.036    -176.013      -5.868\n",
            "D_length             50.4847     55.708      0.906      0.367     -59.951     160.920\n",
            "C_length             73.4304     36.375      2.019      0.046       1.322     145.539\n",
            "Height                4.8251     15.362      0.314      0.754     -25.628      35.278\n",
            "Width               -20.1574     27.058     -0.745      0.458     -73.796      33.481\n",
            "Species_Parkki      210.8046     91.421      2.306      0.023      29.572     392.037\n",
            "Species_Perch       293.5650    144.131      2.037      0.044       7.843     579.287\n",
            "Species_Pike       -127.0172    166.074     -0.765      0.446    -456.240     202.206\n",
            "Species_Roach       186.2369    107.059      1.740      0.085     -25.995     398.469\n",
            "Species_Smelt       577.7771    140.512      4.112      0.000     299.228     856.326\n",
            "Species_Whitefish   195.6738    115.475      1.695      0.093     -33.242     424.589\n",
            "==============================================================================\n",
            "Omnibus:                       36.244   Durbin-Watson:                   2.073\n",
            "Prob(Omnibus):                  0.000   Jarque-Bera (JB):               79.409\n",
            "Skew:                           1.222   Prob(JB):                     5.71e-18\n",
            "Kurtosis:                       6.168   Cond. No.                     2.06e+03\n",
            "==============================================================================\n",
            "\n",
            "Warnings:\n",
            "[1] Standard Errors assume that the covariance matrix of the errors is correctly specified.\n",
            "[2] The condition number is large, 2.06e+03. This might indicate that there are\n",
            "strong multicollinearity or other numerical problems.\n"
          ],
          "name": "stdout"
        }
      ]
    },
    {
      "cell_type": "code",
      "metadata": {
        "colab": {
          "base_uri": "https://localhost:8080/"
        },
        "id": "ITgup9bL4Q67",
        "outputId": "6aba97be-8b51-4d52-f18f-8df003ebcee4"
      },
      "source": [
        "xc= sm.add_constant(xtr1)\r\n",
        "md1= sm.OLS(ytr1, xc).fit()\r\n",
        "print(md1.summary())"
      ],
      "execution_count": 23,
      "outputs": [
        {
          "output_type": "stream",
          "text": [
            "                            OLS Regression Results                            \n",
            "==============================================================================\n",
            "Dep. Variable:                 Weight   R-squared:                       0.935\n",
            "Model:                            OLS   Adj. R-squared:                  0.928\n",
            "Method:                 Least Squares   F-statistic:                     139.5\n",
            "Date:                Sat, 30 Jan 2021   Prob (F-statistic):           3.77e-58\n",
            "Time:                        15:20:11   Log-Likelihood:                -704.12\n",
            "No. Observations:                 119   AIC:                             1432.\n",
            "Df Residuals:                     107   BIC:                             1466.\n",
            "Df Model:                          11                                         \n",
            "Covariance Type:            nonrobust                                         \n",
            "=====================================================================================\n",
            "                        coef    std err          t      P>|t|      [0.025      0.975]\n",
            "-------------------------------------------------------------------------------------\n",
            "const               399.1870      8.729     45.733      0.000     381.884     416.490\n",
            "V_length           -859.5825    418.081     -2.056      0.042   -1688.378     -30.787\n",
            "D_length            984.2234    577.674      1.704      0.091    -160.947    2129.394\n",
            "C_length            243.1333    409.048      0.594      0.554    -567.756    1054.023\n",
            "Height               69.4467     63.810      1.088      0.279     -57.048     195.942\n",
            "Width                20.0075     45.349      0.441      0.660     -69.892     109.907\n",
            "Species_Parkki       51.0476     23.981      2.129      0.036       3.508      98.587\n",
            "Species_Perch        78.2730     67.729      1.156      0.250     -55.992     212.538\n",
            "Species_Pike        -26.4885     49.013     -0.540      0.590    -123.651      70.674\n",
            "Species_Roach        50.3183     35.581      1.414      0.160     -20.217     120.854\n",
            "Species_Smelt       139.4760     39.500      3.531      0.001      61.172     217.780\n",
            "Species_Whitefish    25.1644     21.678      1.161      0.248     -17.810      68.139\n",
            "==============================================================================\n",
            "Omnibus:                       43.181   Durbin-Watson:                   1.902\n",
            "Prob(Omnibus):                  0.000   Jarque-Bera (JB):              117.494\n",
            "Skew:                           1.358   Prob(JB):                     3.06e-26\n",
            "Kurtosis:                       7.040   Cond. No.                         182.\n",
            "==============================================================================\n",
            "\n",
            "Warnings:\n",
            "[1] Standard Errors assume that the covariance matrix of the errors is correctly specified.\n"
          ],
          "name": "stdout"
        }
      ]
    },
    {
      "cell_type": "code",
      "metadata": {
        "colab": {
          "base_uri": "https://localhost:8080/"
        },
        "id": "jsavVnB-fhFU",
        "outputId": "d8d30ecb-7e51-4e08-814d-690e75b8fb34"
      },
      "source": [
        "# lets check on test set\r\n",
        "xy= sm.add_constant(xts)\r\n",
        "y_pr= md.predict(xy)\r\n",
        "y_train_pred = md.predict(xc)\r\n",
        "\r\n",
        "from sklearn.metrics import r2_score, mean_squared_error\r\n",
        "\r\n",
        "print('rsq', r2_score(ytr, y_train_pred), mean_squared_error(ytr, y_train_pred))\r\n",
        "print('rsq', r2_score(yts, y_pr), mean_squared_error(yts, y_pr))"
      ],
      "execution_count": 16,
      "outputs": [
        {
          "output_type": "stream",
          "text": [
            "rsq 0.9403662870517541 8322.907289568471\n",
            "rsq 0.8901559631389053 9411.872324270254\n"
          ],
          "name": "stdout"
        }
      ]
    },
    {
      "cell_type": "code",
      "metadata": {
        "colab": {
          "base_uri": "https://localhost:8080/"
        },
        "id": "Lc8MWA6n4W_Y",
        "outputId": "77103d8d-9b0e-448e-d80a-d360e5c110d3"
      },
      "source": [
        "# scaled check on test\r\n",
        "\r\n",
        "xy= sm.add_constant(xts1)\r\n",
        "y_pr= md1.predict(xy)\r\n",
        "y_train_pred = md1.predict(xc)\r\n",
        "\r\n",
        "print('rsq', r2_score(ytr1, y_train_pred), mean_squared_error(ytr1, y_train_pred))\r\n",
        "print('rsq', r2_score(yts1, y_pr), mean_squared_error(yts1, y_pr))"
      ],
      "execution_count": 26,
      "outputs": [
        {
          "output_type": "stream",
          "text": [
            "rsq 0.9348349660417078 8071.35799127727\n",
            "rsq 0.9325872911217306 9117.808290336208\n"
          ],
          "name": "stdout"
        }
      ]
    },
    {
      "cell_type": "code",
      "metadata": {
        "id": "ETUB546B4u5t"
      },
      "source": [
        "# almost same score on scaled data too"
      ],
      "execution_count": null,
      "outputs": []
    },
    {
      "cell_type": "code",
      "metadata": {
        "id": "WoInWvI5fhI0"
      },
      "source": [
        "# yes the model is slightly overfitting as we can see the better performace on training set but not that great performance on test set.\r\n",
        "\r\n",
        "# We can use regularization tho"
      ],
      "execution_count": 17,
      "outputs": []
    },
    {
      "cell_type": "markdown",
      "metadata": {
        "id": "D9kzoncUO327"
      },
      "source": [
        "<table align=\"left\">\n",
        "    <tr>\n",
        "        <td width=\"6%\">\n",
        "            <img src=\"question_icon.png\">\n",
        "        </td>\n",
        "        <td>\n",
        "            <div align=\"left\", style=\"font-size:120%\">\n",
        "                <font color=\"#21618C\">\n",
        "                    <b>2. Is there multicollinearity present in the scaled data?\n",
        "                     </b>\n",
        "                </font>\n",
        "            </div>\n",
        "        </td>\n",
        "    </tr>\n",
        "</table>"
      ]
    },
    {
      "cell_type": "code",
      "metadata": {
        "colab": {
          "base_uri": "https://localhost:8080/",
          "height": 407
        },
        "id": "biSyYFqTO327",
        "outputId": "610ea23e-e26b-4768-e212-f8009e26ac49"
      },
      "source": [
        "# we can check the VIF of features \r\n",
        "\r\n",
        "from statsmodels.stats.outliers_influence import variance_inflation_factor as vif\r\n",
        "\r\n",
        "ar = [vif(xc.values, i) for i in range(xc.shape[1])]\r\n",
        "fr= pd.DataFrame(ar, index=xc.columns)\r\n",
        "fr"
      ],
      "execution_count": 27,
      "outputs": [
        {
          "output_type": "execute_result",
          "data": {
            "text/html": [
              "<div>\n",
              "<style scoped>\n",
              "    .dataframe tbody tr th:only-of-type {\n",
              "        vertical-align: middle;\n",
              "    }\n",
              "\n",
              "    .dataframe tbody tr th {\n",
              "        vertical-align: top;\n",
              "    }\n",
              "\n",
              "    .dataframe thead th {\n",
              "        text-align: right;\n",
              "    }\n",
              "</style>\n",
              "<table border=\"1\" class=\"dataframe\">\n",
              "  <thead>\n",
              "    <tr style=\"text-align: right;\">\n",
              "      <th></th>\n",
              "      <th>0</th>\n",
              "    </tr>\n",
              "  </thead>\n",
              "  <tbody>\n",
              "    <tr>\n",
              "      <th>const</th>\n",
              "      <td>1.010003</td>\n",
              "    </tr>\n",
              "    <tr>\n",
              "      <th>V_length</th>\n",
              "      <td>2308.293666</td>\n",
              "    </tr>\n",
              "    <tr>\n",
              "      <th>D_length</th>\n",
              "      <td>4402.081127</td>\n",
              "    </tr>\n",
              "    <tr>\n",
              "      <th>C_length</th>\n",
              "      <td>2216.992479</td>\n",
              "    </tr>\n",
              "    <tr>\n",
              "      <th>Height</th>\n",
              "      <td>54.712344</td>\n",
              "    </tr>\n",
              "    <tr>\n",
              "      <th>Width</th>\n",
              "      <td>26.410351</td>\n",
              "    </tr>\n",
              "    <tr>\n",
              "      <th>Species_Parkki</th>\n",
              "      <td>6.554437</td>\n",
              "    </tr>\n",
              "    <tr>\n",
              "      <th>Species_Perch</th>\n",
              "      <td>60.870222</td>\n",
              "    </tr>\n",
              "    <tr>\n",
              "      <th>Species_Pike</th>\n",
              "      <td>32.454507</td>\n",
              "    </tr>\n",
              "    <tr>\n",
              "      <th>Species_Roach</th>\n",
              "      <td>16.813444</td>\n",
              "    </tr>\n",
              "    <tr>\n",
              "      <th>Species_Smelt</th>\n",
              "      <td>19.827359</td>\n",
              "    </tr>\n",
              "    <tr>\n",
              "      <th>Species_Whitefish</th>\n",
              "      <td>6.905788</td>\n",
              "    </tr>\n",
              "  </tbody>\n",
              "</table>\n",
              "</div>"
            ],
            "text/plain": [
              "                             0\n",
              "const                 1.010003\n",
              "V_length           2308.293666\n",
              "D_length           4402.081127\n",
              "C_length           2216.992479\n",
              "Height               54.712344\n",
              "Width                26.410351\n",
              "Species_Parkki        6.554437\n",
              "Species_Perch        60.870222\n",
              "Species_Pike         32.454507\n",
              "Species_Roach        16.813444\n",
              "Species_Smelt        19.827359\n",
              "Species_Whitefish     6.905788"
            ]
          },
          "metadata": {
            "tags": []
          },
          "execution_count": 27
        }
      ]
    },
    {
      "cell_type": "code",
      "metadata": {
        "id": "wNP_dyhkg-z9"
      },
      "source": [
        "# Huge multicollinearity between V_length, D_length, C_length, Height, Weight-- and more"
      ],
      "execution_count": null,
      "outputs": []
    },
    {
      "cell_type": "code",
      "metadata": {
        "id": "yUIYR_Vug-2j"
      },
      "source": [
        "# The only less multicollinearity is Species_Whitefish, Species_Parkki even in scaled data"
      ],
      "execution_count": null,
      "outputs": []
    },
    {
      "cell_type": "markdown",
      "metadata": {
        "id": "sp1z_mguO327"
      },
      "source": [
        "<table align=\"left\">\n",
        "    <tr>\n",
        "        <td width=\"6%\">\n",
        "            <img src=\"question_icon.png\">\n",
        "        </td>\n",
        "        <td>\n",
        "            <div align=\"left\", style=\"font-size:120%\">\n",
        "                <font color=\"#21618C\">\n",
        "                    <b>3. Apply the ridge regression with 'alpha = 1.5' and compare the RMSE on the test dataset with the RMSE obtained from linear regression using OLS\n",
        "                    </b>\n",
        "                </font>\n",
        "            </div>\n",
        "        </td>\n",
        "    </tr>\n",
        "</table>"
      ]
    },
    {
      "cell_type": "code",
      "metadata": {
        "colab": {
          "base_uri": "https://localhost:8080/",
          "height": 197
        },
        "id": "33uhbVqWO328",
        "outputId": "20219a74-4556-4aee-9003-e01eed64010b"
      },
      "source": [
        "df.head()"
      ],
      "execution_count": 29,
      "outputs": [
        {
          "output_type": "execute_result",
          "data": {
            "text/html": [
              "<div>\n",
              "<style scoped>\n",
              "    .dataframe tbody tr th:only-of-type {\n",
              "        vertical-align: middle;\n",
              "    }\n",
              "\n",
              "    .dataframe tbody tr th {\n",
              "        vertical-align: top;\n",
              "    }\n",
              "\n",
              "    .dataframe thead th {\n",
              "        text-align: right;\n",
              "    }\n",
              "</style>\n",
              "<table border=\"1\" class=\"dataframe\">\n",
              "  <thead>\n",
              "    <tr style=\"text-align: right;\">\n",
              "      <th></th>\n",
              "      <th>V_length</th>\n",
              "      <th>D_length</th>\n",
              "      <th>C_length</th>\n",
              "      <th>Height</th>\n",
              "      <th>Width</th>\n",
              "      <th>Species_Parkki</th>\n",
              "      <th>Species_Perch</th>\n",
              "      <th>Species_Pike</th>\n",
              "      <th>Species_Roach</th>\n",
              "      <th>Species_Smelt</th>\n",
              "      <th>Species_Whitefish</th>\n",
              "    </tr>\n",
              "  </thead>\n",
              "  <tbody>\n",
              "    <tr>\n",
              "      <th>0</th>\n",
              "      <td>23.2</td>\n",
              "      <td>25.4</td>\n",
              "      <td>30.0</td>\n",
              "      <td>11.5200</td>\n",
              "      <td>4.0200</td>\n",
              "      <td>0</td>\n",
              "      <td>0</td>\n",
              "      <td>0</td>\n",
              "      <td>0</td>\n",
              "      <td>0</td>\n",
              "      <td>0</td>\n",
              "    </tr>\n",
              "    <tr>\n",
              "      <th>1</th>\n",
              "      <td>24.0</td>\n",
              "      <td>26.3</td>\n",
              "      <td>31.2</td>\n",
              "      <td>12.4800</td>\n",
              "      <td>4.3056</td>\n",
              "      <td>0</td>\n",
              "      <td>0</td>\n",
              "      <td>0</td>\n",
              "      <td>0</td>\n",
              "      <td>0</td>\n",
              "      <td>0</td>\n",
              "    </tr>\n",
              "    <tr>\n",
              "      <th>2</th>\n",
              "      <td>23.9</td>\n",
              "      <td>26.5</td>\n",
              "      <td>31.1</td>\n",
              "      <td>12.3778</td>\n",
              "      <td>4.6961</td>\n",
              "      <td>0</td>\n",
              "      <td>0</td>\n",
              "      <td>0</td>\n",
              "      <td>0</td>\n",
              "      <td>0</td>\n",
              "      <td>0</td>\n",
              "    </tr>\n",
              "    <tr>\n",
              "      <th>3</th>\n",
              "      <td>26.3</td>\n",
              "      <td>29.0</td>\n",
              "      <td>33.5</td>\n",
              "      <td>12.7300</td>\n",
              "      <td>4.4555</td>\n",
              "      <td>0</td>\n",
              "      <td>0</td>\n",
              "      <td>0</td>\n",
              "      <td>0</td>\n",
              "      <td>0</td>\n",
              "      <td>0</td>\n",
              "    </tr>\n",
              "    <tr>\n",
              "      <th>4</th>\n",
              "      <td>26.5</td>\n",
              "      <td>29.0</td>\n",
              "      <td>34.0</td>\n",
              "      <td>12.4440</td>\n",
              "      <td>5.1340</td>\n",
              "      <td>0</td>\n",
              "      <td>0</td>\n",
              "      <td>0</td>\n",
              "      <td>0</td>\n",
              "      <td>0</td>\n",
              "      <td>0</td>\n",
              "    </tr>\n",
              "  </tbody>\n",
              "</table>\n",
              "</div>"
            ],
            "text/plain": [
              "   V_length  D_length  ...  Species_Smelt  Species_Whitefish\n",
              "0      23.2      25.4  ...              0                  0\n",
              "1      24.0      26.3  ...              0                  0\n",
              "2      23.9      26.5  ...              0                  0\n",
              "3      26.3      29.0  ...              0                  0\n",
              "4      26.5      29.0  ...              0                  0\n",
              "\n",
              "[5 rows x 11 columns]"
            ]
          },
          "metadata": {
            "tags": []
          },
          "execution_count": 29
        }
      ]
    },
    {
      "cell_type": "code",
      "metadata": {
        "id": "oYMcLnxruesp"
      },
      "source": [
        "from sklearn.linear_model import Ridge\r\n",
        "\r\n",
        "tr= Ridge(alpha= 1.5)"
      ],
      "execution_count": 31,
      "outputs": []
    },
    {
      "cell_type": "code",
      "metadata": {
        "colab": {
          "base_uri": "https://localhost:8080/"
        },
        "id": "g4b8Zaqt5XrI",
        "outputId": "40d0e6ed-064c-4cdc-f7f7-5db5744907ee"
      },
      "source": [
        "tr.fit(xtr, ytr)"
      ],
      "execution_count": 36,
      "outputs": [
        {
          "output_type": "execute_result",
          "data": {
            "text/plain": [
              "Ridge(alpha=1.5, copy_X=True, fit_intercept=True, max_iter=None,\n",
              "      normalize=False, random_state=None, solver='auto', tol=0.001)"
            ]
          },
          "metadata": {
            "tags": []
          },
          "execution_count": 36
        }
      ]
    },
    {
      "cell_type": "code",
      "metadata": {
        "colab": {
          "base_uri": "https://localhost:8080/"
        },
        "id": "0fhry4ia5Xtx",
        "outputId": "59e2be62-0e38-4eec-cc45-8df5a75dc43e"
      },
      "source": [
        "rid_ts = tr.predict(xts)\r\n",
        "np.sqrt(mean_squared_error(yts, rid_ts))"
      ],
      "execution_count": 37,
      "outputs": [
        {
          "output_type": "execute_result",
          "data": {
            "text/plain": [
              "89.50850202832372"
            ]
          },
          "metadata": {
            "tags": []
          },
          "execution_count": 37
        }
      ]
    },
    {
      "cell_type": "code",
      "metadata": {
        "colab": {
          "base_uri": "https://localhost:8080/"
        },
        "id": "WWw9QN5Auexk",
        "outputId": "757adbe1-611c-4556-ea37-685087a5218a"
      },
      "source": [
        "xy= sm.add_constant(xtr)\r\n",
        "model = sm.OLS(ytr, xy).fit()\r\n",
        "print(model.summary())"
      ],
      "execution_count": 38,
      "outputs": [
        {
          "output_type": "stream",
          "text": [
            "                            OLS Regression Results                            \n",
            "==============================================================================\n",
            "Dep. Variable:                 Weight   R-squared:                       0.940\n",
            "Model:                            OLS   Adj. R-squared:                  0.934\n",
            "Method:                 Least Squares   F-statistic:                     153.4\n",
            "Date:                Sat, 30 Jan 2021   Prob (F-statistic):           3.37e-60\n",
            "Time:                        15:30:29   Log-Likelihood:                -705.95\n",
            "No. Observations:                 119   AIC:                             1436.\n",
            "Df Residuals:                     107   BIC:                             1469.\n",
            "Df Model:                          11                                         \n",
            "Covariance Type:            nonrobust                                         \n",
            "=====================================================================================\n",
            "                        coef    std err          t      P>|t|      [0.025      0.975]\n",
            "-------------------------------------------------------------------------------------\n",
            "const             -1082.3777    150.371     -7.198      0.000   -1380.471    -784.284\n",
            "V_length            -90.9407     42.914     -2.119      0.036    -176.013      -5.868\n",
            "D_length             50.4847     55.708      0.906      0.367     -59.951     160.920\n",
            "C_length             73.4304     36.375      2.019      0.046       1.322     145.539\n",
            "Height                4.8251     15.362      0.314      0.754     -25.628      35.278\n",
            "Width               -20.1574     27.058     -0.745      0.458     -73.796      33.481\n",
            "Species_Parkki      210.8046     91.421      2.306      0.023      29.572     392.037\n",
            "Species_Perch       293.5650    144.131      2.037      0.044       7.843     579.287\n",
            "Species_Pike       -127.0172    166.074     -0.765      0.446    -456.240     202.206\n",
            "Species_Roach       186.2369    107.059      1.740      0.085     -25.995     398.469\n",
            "Species_Smelt       577.7771    140.512      4.112      0.000     299.228     856.326\n",
            "Species_Whitefish   195.6738    115.475      1.695      0.093     -33.242     424.589\n",
            "==============================================================================\n",
            "Omnibus:                       36.244   Durbin-Watson:                   2.073\n",
            "Prob(Omnibus):                  0.000   Jarque-Bera (JB):               79.409\n",
            "Skew:                           1.222   Prob(JB):                     5.71e-18\n",
            "Kurtosis:                       6.168   Cond. No.                     2.06e+03\n",
            "==============================================================================\n",
            "\n",
            "Warnings:\n",
            "[1] Standard Errors assume that the covariance matrix of the errors is correctly specified.\n",
            "[2] The condition number is large, 2.06e+03. This might indicate that there are\n",
            "strong multicollinearity or other numerical problems.\n"
          ],
          "name": "stdout"
        }
      ]
    },
    {
      "cell_type": "code",
      "metadata": {
        "colab": {
          "base_uri": "https://localhost:8080/"
        },
        "id": "KFjsRFEl6JYE",
        "outputId": "adaa90d8-2ceb-4b93-9f60-93b59a3e922f"
      },
      "source": [
        "rr= sm.add_constant(xts)\r\n",
        "lr_pred= model.predict(rr)\r\n",
        "np.sqrt(mean_squared_error(yts, lr_pred))"
      ],
      "execution_count": 41,
      "outputs": [
        {
          "output_type": "execute_result",
          "data": {
            "text/plain": [
              "97.01480466542338"
            ]
          },
          "metadata": {
            "tags": []
          },
          "execution_count": 41
        }
      ]
    },
    {
      "cell_type": "code",
      "metadata": {
        "id": "A1VcjIne7Mu_"
      },
      "source": [
        "# overfitting as RMSE on traning is less- testing is more - quite obvious inference"
      ],
      "execution_count": 42,
      "outputs": []
    },
    {
      "cell_type": "markdown",
      "metadata": {
        "id": "TzBmwmQWO328"
      },
      "source": [
        "<table align=\"left\">\n",
        "    <tr>\n",
        "        <td width=\"6%\">\n",
        "            <img src=\"question_icon.png\">\n",
        "        </td>\n",
        "        <td>\n",
        "            <div align=\"left\", style=\"font-size:120%\">\n",
        "                <font color=\"#21618C\">\n",
        "                    <b>4. Build a full model using SGD. Plot a multiple barchart to compare the beta coefficients for each variable obtained by the SGD model and the full model build using OLS \n",
        "                    </b>\n",
        "                </font>\n",
        "            </div>\n",
        "        </td>\n",
        "    </tr>\n",
        "</table>"
      ]
    },
    {
      "cell_type": "code",
      "metadata": {
        "id": "YWME4jt-O329"
      },
      "source": [
        "from sklearn.linear_model import SGDRegressor\r\n",
        "sgd = SGDRegressor()"
      ],
      "execution_count": 43,
      "outputs": []
    },
    {
      "cell_type": "code",
      "metadata": {
        "colab": {
          "base_uri": "https://localhost:8080/"
        },
        "id": "G2JIUl5TugCF",
        "outputId": "be760842-ed76-4c2e-c77f-80bac73ad2d3"
      },
      "source": [
        "sgd.fit(df, we)"
      ],
      "execution_count": 44,
      "outputs": [
        {
          "output_type": "execute_result",
          "data": {
            "text/plain": [
              "SGDRegressor(alpha=0.0001, average=False, early_stopping=False, epsilon=0.1,\n",
              "             eta0=0.01, fit_intercept=True, l1_ratio=0.15,\n",
              "             learning_rate='invscaling', loss='squared_loss', max_iter=1000,\n",
              "             n_iter_no_change=5, penalty='l2', power_t=0.25, random_state=None,\n",
              "             shuffle=True, tol=0.001, validation_fraction=0.1, verbose=0,\n",
              "             warm_start=False)"
            ]
          },
          "metadata": {
            "tags": []
          },
          "execution_count": 44
        }
      ]
    },
    {
      "cell_type": "code",
      "metadata": {
        "colab": {
          "base_uri": "https://localhost:8080/"
        },
        "id": "TLU_FQsQugEt",
        "outputId": "27927717-507e-4ba7-d857-cba752b4cb81"
      },
      "source": [
        "sgd.coef_/10000000000"
      ],
      "execution_count": 52,
      "outputs": [
        {
          "output_type": "execute_result",
          "data": {
            "text/plain": [
              "array([ 1.6342593 ,  2.46210517, -1.72972048,  1.99173354,  8.70611821,\n",
              "       -0.89334022,  3.76584412, -1.50559736,  0.41510248, -0.32948383,\n",
              "       -0.32012529])"
            ]
          },
          "metadata": {
            "tags": []
          },
          "execution_count": 52
        }
      ]
    },
    {
      "cell_type": "code",
      "metadata": {
        "id": "_4IdUKGLAH8s"
      },
      "source": [
        "xy= sm.add_constant(df)\r\n",
        "model = sm.OLS(we, xy).fit()\r\n",
        "print(model.summary())"
      ],
      "execution_count": null,
      "outputs": []
    },
    {
      "cell_type": "code",
      "metadata": {
        "id": "xxI_VcCgAH_0"
      },
      "source": [
        "a = list(sgd.coef_/10000000000)\r\n",
        "b= list(model.params[1:]/10)"
      ],
      "execution_count": 77,
      "outputs": []
    },
    {
      "cell_type": "code",
      "metadata": {
        "colab": {
          "base_uri": "https://localhost:8080/",
          "height": 197
        },
        "id": "p_ScEQGyAIdt",
        "outputId": "83cb568c-1e03-46e3-ab0d-9715af745101"
      },
      "source": [
        "rr= pd.DataFrame({'sgd': a, 'Linear':b})\r\n",
        "rr.head()"
      ],
      "execution_count": 78,
      "outputs": [
        {
          "output_type": "execute_result",
          "data": {
            "text/html": [
              "<div>\n",
              "<style scoped>\n",
              "    .dataframe tbody tr th:only-of-type {\n",
              "        vertical-align: middle;\n",
              "    }\n",
              "\n",
              "    .dataframe tbody tr th {\n",
              "        vertical-align: top;\n",
              "    }\n",
              "\n",
              "    .dataframe thead th {\n",
              "        text-align: right;\n",
              "    }\n",
              "</style>\n",
              "<table border=\"1\" class=\"dataframe\">\n",
              "  <thead>\n",
              "    <tr style=\"text-align: right;\">\n",
              "      <th></th>\n",
              "      <th>sgd</th>\n",
              "      <th>Linear</th>\n",
              "    </tr>\n",
              "  </thead>\n",
              "  <tbody>\n",
              "    <tr>\n",
              "      <th>0</th>\n",
              "      <td>1.634259</td>\n",
              "      <td>-7.939048</td>\n",
              "    </tr>\n",
              "    <tr>\n",
              "      <th>1</th>\n",
              "      <td>2.462105</td>\n",
              "      <td>8.351005</td>\n",
              "    </tr>\n",
              "    <tr>\n",
              "      <th>2</th>\n",
              "      <td>-1.729720</td>\n",
              "      <td>2.803397</td>\n",
              "    </tr>\n",
              "    <tr>\n",
              "      <th>3</th>\n",
              "      <td>1.991734</td>\n",
              "      <td>0.635680</td>\n",
              "    </tr>\n",
              "    <tr>\n",
              "      <th>4</th>\n",
              "      <td>8.706118</td>\n",
              "      <td>-0.104542</td>\n",
              "    </tr>\n",
              "  </tbody>\n",
              "</table>\n",
              "</div>"
            ],
            "text/plain": [
              "        sgd    Linear\n",
              "0  1.634259 -7.939048\n",
              "1  2.462105  8.351005\n",
              "2 -1.729720  2.803397\n",
              "3  1.991734  0.635680\n",
              "4  8.706118 -0.104542"
            ]
          },
          "metadata": {
            "tags": []
          },
          "execution_count": 78
        }
      ]
    },
    {
      "cell_type": "code",
      "metadata": {
        "colab": {
          "base_uri": "https://localhost:8080/",
          "height": 285
        },
        "id": "XvtG_SQhBoSo",
        "outputId": "ab1fc51b-16e1-46da-aa88-836620a5809c"
      },
      "source": [
        "rr.plot(kind='bar')"
      ],
      "execution_count": 79,
      "outputs": [
        {
          "output_type": "execute_result",
          "data": {
            "text/plain": [
              "<matplotlib.axes._subplots.AxesSubplot at 0x7f4de92dd4a8>"
            ]
          },
          "metadata": {
            "tags": []
          },
          "execution_count": 79
        },
        {
          "output_type": "display_data",
          "data": {
            "image/png": "[encoded data removed]",
            "text/plain": [
              "<Figure size 432x288 with 1 Axes>"
            ]
          },
          "metadata": {
            "tags": [],
            "needs_background": "light"
          }
        }
      ]
    },
    {
      "cell_type": "code",
      "metadata": {
        "id": "y-X009xKBoVe"
      },
      "source": [
        "# scaled down SGD coeff by e^10\r\n",
        "\r\n",
        "# scaled down LR coeff by e^1"
      ],
      "execution_count": 80,
      "outputs": []
    },
    {
      "cell_type": "markdown",
      "metadata": {
        "id": "ny7qHVK8O329"
      },
      "source": [
        "<table align=\"left\">\n",
        "    <tr>\n",
        "        <td width=\"6%\">\n",
        "            <img src=\"question_icon.png\">\n",
        "        </td>\n",
        "        <td>\n",
        "            <div align=\"left\", style=\"font-size:120%\">\n",
        "                <font color=\"#21618C\">\n",
        "                    <b>5. Identify the least significant variables in the data by considering 'alpha = 0.1' \n",
        "                    </b>\n",
        "                </font>\n",
        "            </div>\n",
        "        </td>\n",
        "    </tr>\n",
        "</table>"
      ]
    },
    {
      "cell_type": "code",
      "metadata": {
        "id": "WgHhMJhdO329"
      },
      "source": [
        "from sklearn.linear_model import Lasso\r\n",
        "las= Lasso(alpha=0.1, max_iter=100000).fit(df, we)"
      ],
      "execution_count": 95,
      "outputs": []
    },
    {
      "cell_type": "code",
      "metadata": {
        "colab": {
          "base_uri": "https://localhost:8080/"
        },
        "id": "p7w0ZFLbug22",
        "outputId": "6e734b75-bd92-4cac-c1b6-1c23be53033c"
      },
      "source": [
        "np.sum(las.coef_!=0)"
      ],
      "execution_count": 96,
      "outputs": [
        {
          "output_type": "execute_result",
          "data": {
            "text/plain": [
              "11"
            ]
          },
          "metadata": {
            "tags": []
          },
          "execution_count": 96
        }
      ]
    },
    {
      "cell_type": "code",
      "metadata": {
        "colab": {
          "base_uri": "https://localhost:8080/"
        },
        "id": "e7I48zcsVQM5",
        "outputId": "5fe79fc4-a8f0-4b26-b8d9-bb4ed714f188"
      },
      "source": [
        "df.columns"
      ],
      "execution_count": 98,
      "outputs": [
        {
          "output_type": "execute_result",
          "data": {
            "text/plain": [
              "Index(['V_length', 'D_length', 'C_length', 'Height', 'Width', 'Species_Parkki',\n",
              "       'Species_Perch', 'Species_Pike', 'Species_Roach', 'Species_Smelt',\n",
              "       'Species_Whitefish'],\n",
              "      dtype='object')"
            ]
          },
          "metadata": {
            "tags": []
          },
          "execution_count": 98
        }
      ]
    },
    {
      "cell_type": "code",
      "metadata": {
        "colab": {
          "base_uri": "https://localhost:8080/",
          "height": 406
        },
        "id": "m_Lv5VFHug55",
        "outputId": "e5fc2413-03e7-4d20-cd8f-ba7c322d9986"
      },
      "source": [
        "df.iloc[:,las.coef_!=0]"
      ],
      "execution_count": 97,
      "outputs": [
        {
          "output_type": "execute_result",
          "data": {
            "text/html": [
              "<div>\n",
              "<style scoped>\n",
              "    .dataframe tbody tr th:only-of-type {\n",
              "        vertical-align: middle;\n",
              "    }\n",
              "\n",
              "    .dataframe tbody tr th {\n",
              "        vertical-align: top;\n",
              "    }\n",
              "\n",
              "    .dataframe thead th {\n",
              "        text-align: right;\n",
              "    }\n",
              "</style>\n",
              "<table border=\"1\" class=\"dataframe\">\n",
              "  <thead>\n",
              "    <tr style=\"text-align: right;\">\n",
              "      <th></th>\n",
              "      <th>V_length</th>\n",
              "      <th>D_length</th>\n",
              "      <th>C_length</th>\n",
              "      <th>Height</th>\n",
              "      <th>Width</th>\n",
              "      <th>Species_Parkki</th>\n",
              "      <th>Species_Perch</th>\n",
              "      <th>Species_Pike</th>\n",
              "      <th>Species_Roach</th>\n",
              "      <th>Species_Smelt</th>\n",
              "      <th>Species_Whitefish</th>\n",
              "    </tr>\n",
              "  </thead>\n",
              "  <tbody>\n",
              "    <tr>\n",
              "      <th>0</th>\n",
              "      <td>23.2</td>\n",
              "      <td>25.4</td>\n",
              "      <td>30.0</td>\n",
              "      <td>11.5200</td>\n",
              "      <td>4.0200</td>\n",
              "      <td>0</td>\n",
              "      <td>0</td>\n",
              "      <td>0</td>\n",
              "      <td>0</td>\n",
              "      <td>0</td>\n",
              "      <td>0</td>\n",
              "    </tr>\n",
              "    <tr>\n",
              "      <th>1</th>\n",
              "      <td>24.0</td>\n",
              "      <td>26.3</td>\n",
              "      <td>31.2</td>\n",
              "      <td>12.4800</td>\n",
              "      <td>4.3056</td>\n",
              "      <td>0</td>\n",
              "      <td>0</td>\n",
              "      <td>0</td>\n",
              "      <td>0</td>\n",
              "      <td>0</td>\n",
              "      <td>0</td>\n",
              "    </tr>\n",
              "    <tr>\n",
              "      <th>2</th>\n",
              "      <td>23.9</td>\n",
              "      <td>26.5</td>\n",
              "      <td>31.1</td>\n",
              "      <td>12.3778</td>\n",
              "      <td>4.6961</td>\n",
              "      <td>0</td>\n",
              "      <td>0</td>\n",
              "      <td>0</td>\n",
              "      <td>0</td>\n",
              "      <td>0</td>\n",
              "      <td>0</td>\n",
              "    </tr>\n",
              "    <tr>\n",
              "      <th>3</th>\n",
              "      <td>26.3</td>\n",
              "      <td>29.0</td>\n",
              "      <td>33.5</td>\n",
              "      <td>12.7300</td>\n",
              "      <td>4.4555</td>\n",
              "      <td>0</td>\n",
              "      <td>0</td>\n",
              "      <td>0</td>\n",
              "      <td>0</td>\n",
              "      <td>0</td>\n",
              "      <td>0</td>\n",
              "    </tr>\n",
              "    <tr>\n",
              "      <th>4</th>\n",
              "      <td>26.5</td>\n",
              "      <td>29.0</td>\n",
              "      <td>34.0</td>\n",
              "      <td>12.4440</td>\n",
              "      <td>5.1340</td>\n",
              "      <td>0</td>\n",
              "      <td>0</td>\n",
              "      <td>0</td>\n",
              "      <td>0</td>\n",
              "      <td>0</td>\n",
              "      <td>0</td>\n",
              "    </tr>\n",
              "    <tr>\n",
              "      <th>...</th>\n",
              "      <td>...</td>\n",
              "      <td>...</td>\n",
              "      <td>...</td>\n",
              "      <td>...</td>\n",
              "      <td>...</td>\n",
              "      <td>...</td>\n",
              "      <td>...</td>\n",
              "      <td>...</td>\n",
              "      <td>...</td>\n",
              "      <td>...</td>\n",
              "      <td>...</td>\n",
              "    </tr>\n",
              "    <tr>\n",
              "      <th>154</th>\n",
              "      <td>11.5</td>\n",
              "      <td>12.2</td>\n",
              "      <td>13.4</td>\n",
              "      <td>2.0904</td>\n",
              "      <td>1.3936</td>\n",
              "      <td>0</td>\n",
              "      <td>0</td>\n",
              "      <td>0</td>\n",
              "      <td>0</td>\n",
              "      <td>1</td>\n",
              "      <td>0</td>\n",
              "    </tr>\n",
              "    <tr>\n",
              "      <th>155</th>\n",
              "      <td>11.7</td>\n",
              "      <td>12.4</td>\n",
              "      <td>13.5</td>\n",
              "      <td>2.4300</td>\n",
              "      <td>1.2690</td>\n",
              "      <td>0</td>\n",
              "      <td>0</td>\n",
              "      <td>0</td>\n",
              "      <td>0</td>\n",
              "      <td>1</td>\n",
              "      <td>0</td>\n",
              "    </tr>\n",
              "    <tr>\n",
              "      <th>156</th>\n",
              "      <td>12.1</td>\n",
              "      <td>13.0</td>\n",
              "      <td>13.8</td>\n",
              "      <td>2.2770</td>\n",
              "      <td>1.2558</td>\n",
              "      <td>0</td>\n",
              "      <td>0</td>\n",
              "      <td>0</td>\n",
              "      <td>0</td>\n",
              "      <td>1</td>\n",
              "      <td>0</td>\n",
              "    </tr>\n",
              "    <tr>\n",
              "      <th>157</th>\n",
              "      <td>13.2</td>\n",
              "      <td>14.3</td>\n",
              "      <td>15.2</td>\n",
              "      <td>2.8728</td>\n",
              "      <td>2.0672</td>\n",
              "      <td>0</td>\n",
              "      <td>0</td>\n",
              "      <td>0</td>\n",
              "      <td>0</td>\n",
              "      <td>1</td>\n",
              "      <td>0</td>\n",
              "    </tr>\n",
              "    <tr>\n",
              "      <th>158</th>\n",
              "      <td>13.8</td>\n",
              "      <td>15.0</td>\n",
              "      <td>16.2</td>\n",
              "      <td>2.9322</td>\n",
              "      <td>1.8792</td>\n",
              "      <td>0</td>\n",
              "      <td>0</td>\n",
              "      <td>0</td>\n",
              "      <td>0</td>\n",
              "      <td>1</td>\n",
              "      <td>0</td>\n",
              "    </tr>\n",
              "  </tbody>\n",
              "</table>\n",
              "<p>159 rows × 11 columns</p>\n",
              "</div>"
            ],
            "text/plain": [
              "     V_length  D_length  ...  Species_Smelt  Species_Whitefish\n",
              "0        23.2      25.4  ...              0                  0\n",
              "1        24.0      26.3  ...              0                  0\n",
              "2        23.9      26.5  ...              0                  0\n",
              "3        26.3      29.0  ...              0                  0\n",
              "4        26.5      29.0  ...              0                  0\n",
              "..        ...       ...  ...            ...                ...\n",
              "154      11.5      12.2  ...              1                  0\n",
              "155      11.7      12.4  ...              1                  0\n",
              "156      12.1      13.0  ...              1                  0\n",
              "157      13.2      14.3  ...              1                  0\n",
              "158      13.8      15.0  ...              1                  0\n",
              "\n",
              "[159 rows x 11 columns]"
            ]
          },
          "metadata": {
            "tags": []
          },
          "execution_count": 97
        }
      ]
    },
    {
      "cell_type": "code",
      "metadata": {
        "colab": {
          "base_uri": "https://localhost:8080/"
        },
        "id": "8P0cYUFuug8N",
        "outputId": "0f2b174d-487e-428a-b675-f55817f694f1"
      },
      "source": [
        "las.coef_"
      ],
      "execution_count": 87,
      "outputs": [
        {
          "output_type": "execute_result",
          "data": {
            "text/plain": [
              "array([ -71.7441661 ,   91.09880601,   13.74852375,    2.36292344,\n",
              "          6.76275974,  109.34331458,   52.2466638 , -276.58406786,\n",
              "         48.97492227,  360.28875419,   31.30579461])"
            ]
          },
          "metadata": {
            "tags": []
          },
          "execution_count": 87
        }
      ]
    },
    {
      "cell_type": "code",
      "metadata": {
        "id": "xeTwjdc7VWBb"
      },
      "source": [
        "# with 0.1 learning rate- none of the columns are ignored by Lasso. \r\n",
        "\r\n",
        "# from the coeff, the least contributing attribute looks like - Height"
      ],
      "execution_count": 99,
      "outputs": []
    },
    {
      "cell_type": "markdown",
      "metadata": {
        "id": "eK189MDPO32-"
      },
      "source": [
        "<table align=\"left\">\n",
        "    <tr>\n",
        "        <td width=\"6%\">\n",
        "            <img src=\"question_icon.png\">\n",
        "        </td>\n",
        "        <td>\n",
        "            <div align=\"left\", style=\"font-size:120%\">\n",
        "                <font color=\"#21618C\">\n",
        "                    <b>6. What is the impact of diagonal width on the weight of a fish?\n",
        "                    </b>\n",
        "                </font>\n",
        "            </div>\n",
        "        </td>\n",
        "    </tr>\n",
        "</table>"
      ]
    },
    {
      "cell_type": "code",
      "metadata": {
        "id": "wo9rlTA8O32-"
      },
      "source": [
        "# interaction name- Diagonal\r\n",
        "\r\n",
        "# interaction representation= df['diag']\r\n",
        "\r\n",
        "# interaction scope- V_length, Height, Width\r\n",
        "\r\n",
        "# interaction calculation:  np.sqrt(V_length**2 + Height**2 + Width**2)"
      ],
      "execution_count": null,
      "outputs": []
    },
    {
      "cell_type": "code",
      "metadata": {
        "colab": {
          "base_uri": "https://localhost:8080/",
          "height": 197
        },
        "id": "4Z0QVKVMuhmF",
        "outputId": "8d9ddfd5-3563-4af2-8bf6-e5907fffe2a6"
      },
      "source": [
        "df_n = df.copy()\r\n",
        "df_n['diag'] = np.sqrt(df_n['V_length']**2 + df_n['Height']**2 + df_n['Width']**2)\r\n",
        "df_n.head()"
      ],
      "execution_count": 100,
      "outputs": [
        {
          "output_type": "execute_result",
          "data": {
            "text/html": [
              "<div>\n",
              "<style scoped>\n",
              "    .dataframe tbody tr th:only-of-type {\n",
              "        vertical-align: middle;\n",
              "    }\n",
              "\n",
              "    .dataframe tbody tr th {\n",
              "        vertical-align: top;\n",
              "    }\n",
              "\n",
              "    .dataframe thead th {\n",
              "        text-align: right;\n",
              "    }\n",
              "</style>\n",
              "<table border=\"1\" class=\"dataframe\">\n",
              "  <thead>\n",
              "    <tr style=\"text-align: right;\">\n",
              "      <th></th>\n",
              "      <th>V_length</th>\n",
              "      <th>D_length</th>\n",
              "      <th>C_length</th>\n",
              "      <th>Height</th>\n",
              "      <th>Width</th>\n",
              "      <th>Species_Parkki</th>\n",
              "      <th>Species_Perch</th>\n",
              "      <th>Species_Pike</th>\n",
              "      <th>Species_Roach</th>\n",
              "      <th>Species_Smelt</th>\n",
              "      <th>Species_Whitefish</th>\n",
              "      <th>diag</th>\n",
              "    </tr>\n",
              "  </thead>\n",
              "  <tbody>\n",
              "    <tr>\n",
              "      <th>0</th>\n",
              "      <td>23.2</td>\n",
              "      <td>25.4</td>\n",
              "      <td>30.0</td>\n",
              "      <td>11.5200</td>\n",
              "      <td>4.0200</td>\n",
              "      <td>0</td>\n",
              "      <td>0</td>\n",
              "      <td>0</td>\n",
              "      <td>0</td>\n",
              "      <td>0</td>\n",
              "      <td>0</td>\n",
              "      <td>26.212798</td>\n",
              "    </tr>\n",
              "    <tr>\n",
              "      <th>1</th>\n",
              "      <td>24.0</td>\n",
              "      <td>26.3</td>\n",
              "      <td>31.2</td>\n",
              "      <td>12.4800</td>\n",
              "      <td>4.3056</td>\n",
              "      <td>0</td>\n",
              "      <td>0</td>\n",
              "      <td>0</td>\n",
              "      <td>0</td>\n",
              "      <td>0</td>\n",
              "      <td>0</td>\n",
              "      <td>27.391396</td>\n",
              "    </tr>\n",
              "    <tr>\n",
              "      <th>2</th>\n",
              "      <td>23.9</td>\n",
              "      <td>26.5</td>\n",
              "      <td>31.1</td>\n",
              "      <td>12.3778</td>\n",
              "      <td>4.6961</td>\n",
              "      <td>0</td>\n",
              "      <td>0</td>\n",
              "      <td>0</td>\n",
              "      <td>0</td>\n",
              "      <td>0</td>\n",
              "      <td>0</td>\n",
              "      <td>27.321663</td>\n",
              "    </tr>\n",
              "    <tr>\n",
              "      <th>3</th>\n",
              "      <td>26.3</td>\n",
              "      <td>29.0</td>\n",
              "      <td>33.5</td>\n",
              "      <td>12.7300</td>\n",
              "      <td>4.4555</td>\n",
              "      <td>0</td>\n",
              "      <td>0</td>\n",
              "      <td>0</td>\n",
              "      <td>0</td>\n",
              "      <td>0</td>\n",
              "      <td>0</td>\n",
              "      <td>29.556630</td>\n",
              "    </tr>\n",
              "    <tr>\n",
              "      <th>4</th>\n",
              "      <td>26.5</td>\n",
              "      <td>29.0</td>\n",
              "      <td>34.0</td>\n",
              "      <td>12.4440</td>\n",
              "      <td>5.1340</td>\n",
              "      <td>0</td>\n",
              "      <td>0</td>\n",
              "      <td>0</td>\n",
              "      <td>0</td>\n",
              "      <td>0</td>\n",
              "      <td>0</td>\n",
              "      <td>29.723073</td>\n",
              "    </tr>\n",
              "  </tbody>\n",
              "</table>\n",
              "</div>"
            ],
            "text/plain": [
              "   V_length  D_length  C_length  ...  Species_Smelt  Species_Whitefish       diag\n",
              "0      23.2      25.4      30.0  ...              0                  0  26.212798\n",
              "1      24.0      26.3      31.2  ...              0                  0  27.391396\n",
              "2      23.9      26.5      31.1  ...              0                  0  27.321663\n",
              "3      26.3      29.0      33.5  ...              0                  0  29.556630\n",
              "4      26.5      29.0      34.0  ...              0                  0  29.723073\n",
              "\n",
              "[5 rows x 12 columns]"
            ]
          },
          "metadata": {
            "tags": []
          },
          "execution_count": 100
        }
      ]
    },
    {
      "cell_type": "code",
      "metadata": {
        "id": "yhVQXBuTuhpE"
      },
      "source": [
        "df_n['weight'] = we"
      ],
      "execution_count": 102,
      "outputs": []
    },
    {
      "cell_type": "code",
      "metadata": {
        "colab": {
          "base_uri": "https://localhost:8080/",
          "height": 367
        },
        "id": "AGjUjZ_zuhr_",
        "outputId": "2733db91-6a3f-4ba3-efa1-d8caa925fdae"
      },
      "source": [
        "sns.heatmap(df_n.corr())"
      ],
      "execution_count": 106,
      "outputs": [
        {
          "output_type": "execute_result",
          "data": {
            "text/plain": [
              "<matplotlib.axes._subplots.AxesSubplot at 0x7f4de94a0da0>"
            ]
          },
          "metadata": {
            "tags": []
          },
          "execution_count": 106
        },
        {
          "output_type": "display_data",
          "data": {
            "image/png": "[encoded data removed]",
            "text/plain": [
              "<Figure size 432x288 with 2 Axes>"
            ]
          },
          "metadata": {
            "tags": [],
            "needs_background": "light"
          }
        }
      ]
    },
    {
      "cell_type": "code",
      "metadata": {
        "colab": {
          "base_uri": "https://localhost:8080/"
        },
        "id": "4tRWqx58uhuf",
        "outputId": "6db66240-1e75-4082-8999-3c2da6edd58b"
      },
      "source": [
        "df_n['diag'].corr(df_n['weight'])"
      ],
      "execution_count": 107,
      "outputs": [
        {
          "output_type": "execute_result",
          "data": {
            "text/plain": [
              "0.9320432430399666"
            ]
          },
          "metadata": {
            "tags": []
          },
          "execution_count": 107
        }
      ]
    },
    {
      "cell_type": "code",
      "metadata": {
        "id": "g7-YDa3DYm_b"
      },
      "source": [
        "# Very strong positive correlation. "
      ],
      "execution_count": null,
      "outputs": []
    },
    {
      "cell_type": "code",
      "metadata": {
        "id": "3QMJC6igYnCm"
      },
      "source": [
        ""
      ],
      "execution_count": null,
      "outputs": []
    },
    {
      "cell_type": "markdown",
      "metadata": {
        "id": "FZAWBF6fO32-"
      },
      "source": [
        "<table align=\"left\">\n",
        "    <tr>\n",
        "        <td width=\"6%\">\n",
        "            <img src=\"question_icon.png\">\n",
        "        </td>\n",
        "        <td>\n",
        "            <div align=\"left\", style=\"font-size:120%\">\n",
        "                <font color=\"#21618C\">\n",
        "                    <b>7. Which value of alpha from the list of values returns lowest RMSE on the test set in ridge regression\n",
        "                    </b>\n",
        "                </font>\n",
        "            </div>\n",
        "        </td>\n",
        "    </tr>\n",
        "</table>"
      ]
    },
    {
      "cell_type": "markdown",
      "metadata": {
        "id": "lhfOW36WO32_"
      },
      "source": [
        "Consider the list of values for alpha:\n",
        "\n",
        "    list_of_alpha = [0.00001, 0.001, 0.1, 10, 100]\n",
        "    \n",
        "Consider 5-fold cross validation."
      ]
    },
    {
      "cell_type": "code",
      "metadata": {
        "id": "pc-5FVjqO32_"
      },
      "source": [
        "from sklearn.linear_model import Ridge"
      ],
      "execution_count": 108,
      "outputs": []
    },
    {
      "cell_type": "code",
      "metadata": {
        "id": "pFDDU-njbEfw"
      },
      "source": [
        "rr= sm.add_constant(xts)\r\n",
        "lr_pred= model.predict(rr)\r\n",
        "np.sqrt(mean_squared_error(yts, lr_pred))"
      ],
      "execution_count": null,
      "outputs": []
    },
    {
      "cell_type": "code",
      "metadata": {
        "id": "2D6m5xp4uikk"
      },
      "source": [
        "al= [0.00001, 0.001, 0.1, 10, 100]\r\n",
        "from sklearn.model_selection import RepeatedKFold\r\n",
        "from sklearn.model_selection import cross_val_score\r\n",
        "from sklearn.metrics import mean_squared_error\r\n",
        "\r\n",
        "cv_ = RepeatedKFold(n_splits=5, n_repeats=2, random_state=1)"
      ],
      "execution_count": null,
      "outputs": []
    },
    {
      "cell_type": "code",
      "metadata": {
        "colab": {
          "base_uri": "https://localhost:8080/"
        },
        "id": "vWFZ_Cd5uinc",
        "outputId": "923bd031-62ca-43a0-e78f-e6d5e59e13fe"
      },
      "source": [
        "for i in al:\r\n",
        "  ar= Ridge(alpha= i, max_iter=10000)\r\n",
        "  cv_ = RepeatedKFold(n_splits=5, n_repeats=2, random_state=1)\r\n",
        "  scores = cross_val_score(ar, xts, yts, scoring = 'neg_root_mean_squared_error', cv=cv_, n_jobs=-1)\r\n",
        "  print(i, -1*np.mean(scores))"
      ],
      "execution_count": 113,
      "outputs": [
        {
          "output_type": "stream",
          "text": [
            "1e-05 108.65723162673093\n",
            "0.001 107.27474928670645\n",
            "0.1 87.18382121761482\n",
            "10 91.60287165079741\n",
            "100 114.04529907908326\n"
          ],
          "name": "stdout"
        }
      ]
    },
    {
      "cell_type": "code",
      "metadata": {
        "id": "RIaVgJmQuixo"
      },
      "source": [
        "# best score is from alpha = 0.1"
      ],
      "execution_count": null,
      "outputs": []
    },
    {
      "cell_type": "markdown",
      "metadata": {
        "id": "ZVTVqg17O32_"
      },
      "source": [
        "<table align=\"left\">\n",
        "    <tr>\n",
        "        <td width=\"6%\">\n",
        "            <img src=\"question_icon.png\">\n",
        "        </td>\n",
        "        <td>\n",
        "            <div align=\"left\", style=\"font-size:120%\">\n",
        "                <font color=\"#21618C\">\n",
        "                    <b>8. Select the best value for the elastic net mixing parameter from the list of values\n",
        "                    </b>\n",
        "                </font>\n",
        "            </div>\n",
        "        </td>\n",
        "    </tr>\n",
        "</table>"
      ]
    },
    {
      "cell_type": "markdown",
      "metadata": {
        "id": "4mOcxAXbO33A"
      },
      "source": [
        "Consider the below list of values:\n",
        "\n",
        "    list_of_parameter = [0.0001, 0.001, 0.01, 0.1, 1]\n",
        "\n",
        "Consider 5-fold cross validation."
      ]
    },
    {
      "cell_type": "code",
      "metadata": {
        "id": "g01Z2nkcujow"
      },
      "source": [
        "from sklearn.linear_model import ElasticNet"
      ],
      "execution_count": 114,
      "outputs": []
    },
    {
      "cell_type": "code",
      "metadata": {
        "id": "bEzODcBxujrn"
      },
      "source": [
        "ElasticNet()"
      ],
      "execution_count": null,
      "outputs": []
    },
    {
      "cell_type": "code",
      "metadata": {
        "colab": {
          "base_uri": "https://localhost:8080/"
        },
        "id": "ihjIDxnKujuk",
        "outputId": "e1fd3203-cd48-43ff-f9ad-0a0afadc21f2"
      },
      "source": [
        "for i in al:\r\n",
        "  ar= ElasticNet(alpha= i, max_iter=10000)\r\n",
        "  cv_ = RepeatedKFold(n_splits=5, n_repeats=2, random_state=1)\r\n",
        "  scores = cross_val_score(ar, xts, yts, scoring = 'neg_root_mean_squared_error', cv=cv_, n_jobs=-1)\r\n",
        "  print(i,'is', -1*np.mean(scores))"
      ],
      "execution_count": 115,
      "outputs": [
        {
          "output_type": "stream",
          "text": [
            "1e-05 is 107.36541094323336\n",
            "0.001 is 96.34699195225352\n",
            "0.1 is 81.22562009636167\n",
            "10 is 118.98092328111906\n",
            "100 is 138.1880785986174\n"
          ],
          "name": "stdout"
        }
      ]
    },
    {
      "cell_type": "code",
      "metadata": {
        "id": "sTGY11pzO33A"
      },
      "source": [
        "# Same as above- best score is with 0.1"
      ],
      "execution_count": null,
      "outputs": []
    },
    {
      "cell_type": "markdown",
      "metadata": {
        "id": "lROzbZikO33A"
      },
      "source": [
        "<table align=\"left\">\n",
        "    <tr>\n",
        "        <td width=\"6%\">\n",
        "            <img src=\"question_icon.png\">\n",
        "        </td>\n",
        "        <td>\n",
        "            <div align=\"left\", style=\"font-size:120%\">\n",
        "                <font color=\"#21618C\">\n",
        "                    <b>9. Identify the best value of alpha from the list of values for lasso regression\n",
        "                    </b>\n",
        "                </font>\n",
        "            </div>\n",
        "        </td>\n",
        "    </tr>\n",
        "</table>"
      ]
    },
    {
      "cell_type": "markdown",
      "metadata": {
        "id": "Nd_BPJSqO33B"
      },
      "source": [
        "Consider the list of values for alpha:\n",
        "\n",
        "    list_of_alpha = [0.0001, 0.001, 0.1, 1, 2, 3]\n",
        "    \n",
        "Consider 5-fold cross validation."
      ]
    },
    {
      "cell_type": "code",
      "metadata": {
        "colab": {
          "base_uri": "https://localhost:8080/"
        },
        "id": "XeEuLfRHO33B",
        "outputId": "0f24fa62-ed01-4746-abbe-80e458fe5989"
      },
      "source": [
        "for i in al:\r\n",
        "  ar= Lasso(alpha= i, max_iter=10000)\r\n",
        "  cv_ = RepeatedKFold(n_splits=5, n_repeats=2, random_state=1)\r\n",
        "  scores = cross_val_score(ar, xts, yts, scoring = 'neg_root_mean_squared_error', cv=cv_, n_jobs=-1)\r\n",
        "  print(i,'is', -1*np.mean(scores))"
      ],
      "execution_count": 116,
      "outputs": [
        {
          "output_type": "stream",
          "text": [
            "1e-05 is 107.58464013476457\n",
            "0.001 is 107.50945312512415\n",
            "0.1 is 98.27056827640713\n",
            "10 is 91.22701211549183\n",
            "100 is 120.78339090737416\n"
          ],
          "name": "stdout"
        }
      ]
    },
    {
      "cell_type": "code",
      "metadata": {
        "id": "XHKkmVFKuk3M"
      },
      "source": [
        "# Ah! a change for once! In one of the greatest cosmic coincidences, we miserable nerds can say that the best RMSE is obtained with alpha = 10"
      ],
      "execution_count": null,
      "outputs": []
    },
    {
      "cell_type": "code",
      "metadata": {
        "id": "GxPFweXCulAR"
      },
      "source": [
        ""
      ],
      "execution_count": null,
      "outputs": []
    },
    {
      "cell_type": "markdown",
      "metadata": {
        "id": "-ymtWnFzO33B"
      },
      "source": [
        "<table align=\"left\">\n",
        "    <tr>\n",
        "        <td width=\"6%\">\n",
        "            <img src=\"question_icon.png\">\n",
        "        </td>\n",
        "        <td>\n",
        "            <div align=\"left\", style=\"font-size:120%\">\n",
        "                <font color=\"#21618C\">\n",
        "                    <b>10. Build the elastic net regression model with 'alpha = 0.1' and best l1_ratio obtained by the GridSearchCV method. Also, compute the RMSE for test set\n",
        "                    </b>\n",
        "                </font>\n",
        "            </div>\n",
        "        </td>\n",
        "    </tr>\n",
        "</table>"
      ]
    },
    {
      "cell_type": "code",
      "metadata": {
        "colab": {
          "base_uri": "https://localhost:8080/"
        },
        "id": "NODBhZLljUwS",
        "outputId": "93e43582-077e-4736-b97b-4f9630e9aa52"
      },
      "source": [
        ""
      ],
      "execution_count": 117,
      "outputs": [
        {
          "output_type": "execute_result",
          "data": {
            "text/plain": [
              "array([0.1, 0.2, 0.3, 0.4, 0.5, 0.6, 0.7, 0.8, 0.9, 1. ])"
            ]
          },
          "metadata": {
            "tags": []
          },
          "execution_count": 117
        }
      ]
    },
    {
      "cell_type": "code",
      "metadata": {
        "id": "vvXDsqYCjHdZ"
      },
      "source": [
        "rr= {'l1_ratio': np.linspace(0.1,1,10)}"
      ],
      "execution_count": 118,
      "outputs": []
    },
    {
      "cell_type": "code",
      "metadata": {
        "colab": {
          "base_uri": "https://localhost:8080/"
        },
        "id": "P_3iYxf7O33C",
        "outputId": "6cc725a9-0dbd-48f2-d054-5b11a9521217"
      },
      "source": [
        "from sklearn.model_selection import KFold, GridSearchCV\r\n",
        "ar = ElasticNet(alpha=0.1, max_iter=100000)\r\n",
        "gs= GridSearchCV(ar, param_grid= rr, scoring= 'r2', cv=3)\r\n",
        "gs.fit(xtr, ytr)"
      ],
      "execution_count": 125,
      "outputs": [
        {
          "output_type": "execute_result",
          "data": {
            "text/plain": [
              "GridSearchCV(cv=3, error_score=nan,\n",
              "             estimator=ElasticNet(alpha=0.1, copy_X=True, fit_intercept=True,\n",
              "                                  l1_ratio=0.5, max_iter=100000,\n",
              "                                  normalize=False, positive=False,\n",
              "                                  precompute=False, random_state=None,\n",
              "                                  selection='cyclic', tol=0.0001,\n",
              "                                  warm_start=False),\n",
              "             iid='deprecated', n_jobs=None,\n",
              "             param_grid={'l1_ratio': array([0.1, 0.2, 0.3, 0.4, 0.5, 0.6, 0.7, 0.8, 0.9, 1. ])},\n",
              "             pre_dispatch='2*n_jobs', refit=True, return_train_score=False,\n",
              "             scoring='r2', verbose=0)"
            ]
          },
          "metadata": {
            "tags": []
          },
          "execution_count": 125
        }
      ]
    },
    {
      "cell_type": "code",
      "metadata": {
        "colab": {
          "base_uri": "https://localhost:8080/"
        },
        "id": "IVNgOTmKuloh",
        "outputId": "2597a58d-ed1d-4e6c-99ff-6ede3c9e199c"
      },
      "source": [
        "gs.best_params_"
      ],
      "execution_count": 126,
      "outputs": [
        {
          "output_type": "execute_result",
          "data": {
            "text/plain": [
              "{'l1_ratio': 0.8}"
            ]
          },
          "metadata": {
            "tags": []
          },
          "execution_count": 126
        }
      ]
    },
    {
      "cell_type": "code",
      "metadata": {
        "colab": {
          "base_uri": "https://localhost:8080/"
        },
        "id": "X_wkWTKculrS",
        "outputId": "a5a59e9e-4213-417d-9e36-2658d8c403d3"
      },
      "source": [
        "# testing on test set\r\n",
        "\r\n",
        "ar.fit(xtr, ytr)"
      ],
      "execution_count": 128,
      "outputs": [
        {
          "output_type": "execute_result",
          "data": {
            "text/plain": [
              "ElasticNet(alpha=0.1, copy_X=True, fit_intercept=True, l1_ratio=0.5,\n",
              "           max_iter=100000, normalize=False, positive=False, precompute=False,\n",
              "           random_state=None, selection='cyclic', tol=0.0001, warm_start=False)"
            ]
          },
          "metadata": {
            "tags": []
          },
          "execution_count": 128
        }
      ]
    },
    {
      "cell_type": "code",
      "metadata": {
        "id": "CGlGL_rBuluH"
      },
      "source": [
        "y_test = ar.predict(xts)"
      ],
      "execution_count": 129,
      "outputs": []
    },
    {
      "cell_type": "code",
      "metadata": {
        "colab": {
          "base_uri": "https://localhost:8080/"
        },
        "id": "FIMR-L0eulxL",
        "outputId": "10f09d51-ce82-42a2-fe00-f8def165b8dc"
      },
      "source": [
        "from sklearn.metrics import mean_squared_error\r\n",
        "print(np.sqrt(mean_squared_error(yts, y_test)))"
      ],
      "execution_count": 130,
      "outputs": [
        {
          "output_type": "stream",
          "text": [
            "95.17490822233094\n"
          ],
          "name": "stdout"
        }
      ]
    },
    {
      "cell_type": "code",
      "metadata": {
        "id": "dTZdU7OtulzY"
      },
      "source": [
        ""
      ],
      "execution_count": null,
      "outputs": []
    }
  ]
}