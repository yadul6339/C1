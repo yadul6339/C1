{
  "nbformat": 4,
  "nbformat_minor": 0,
  "metadata": {
    "colab": {
      "name": "inteview_python.ipynb",
      "provenance": [],
      "collapsed_sections": [],
      "authorship_tag": "ABX9TyM+YrwMtBrOvw8N7va91jre",
      "include_colab_link": true
    },
    "kernelspec": {
      "name": "python3",
      "display_name": "Python 3"
    }
  },
  "cells": [
    {
      "cell_type": "markdown",
      "metadata": {
        "id": "view-in-github",
        "colab_type": "text"
      },
      "source": [
        "<a href=\"https://colab.research.google.com/github/zerryberry/C1/blob/master/inteview_python.ipynb\" target=\"_parent\"><img src=\"https://colab.research.google.com/assets/colab-badge.svg\" alt=\"Open In Colab\"/></a>"
      ]
    },
    {
      "cell_type": "code",
      "metadata": {
        "id": "Vl5gCRs_bQB6"
      },
      "source": [
        "#Prime\n",
        "\n",
        "def prime(n):\n",
        "  if n==1:\n",
        "    return f'{n} is neither composite nor prime'\n",
        "  return f'{n} is prime' if (all([n%i!=0 for i in range(2,int(n**0.5))])) else f'{n} is not a prime'\n",
        "\n",
        "#print prime\n",
        "\n",
        "def print_prime(n):\n",
        "  return [x for x in range(1, n) if all(x % y != 0 for y in range(2, int(x**0.5) + 1))]"
      ],
      "execution_count": null,
      "outputs": []
    },
    {
      "cell_type": "code",
      "metadata": {
        "id": "YctHF21Xrdvi"
      },
      "source": [
        "#alphabet triangle with changing alphabets:\n",
        "\n",
        "n= 5\n",
        "num = 65\n",
        "for i in range(0,n):\n",
        "  for j in range(0,i+1):\n",
        "    print(chr(num), end= ' ')\n",
        "    num+=1\n",
        "  print('\\r')"
      ],
      "execution_count": null,
      "outputs": []
    },
    {
      "cell_type": "code",
      "metadata": {
        "id": "3zMOZA9vc6gl"
      },
      "source": [
        "# triangle with repeating characters:\n",
        "\n",
        "for i in range(6):\n",
        "    print(*[chr(65+i) for i in range(i)])\n",
        "\n",
        "#or\n",
        "\n",
        "for i in range(1, 6):\n",
        "    print(\"\".join(ascii_uppercase[:i]))\n",
        "\n",
        "for i in range(6):\n",
        "    print(chr(64+i)*i, end='\\n')\n",
        "\n",
        "#inverted triangle\n",
        "\n",
        "n=70\n",
        "i=5\n",
        "while i!=0:\n",
        "    print(chr(n-i)*i, end='\\n')\n",
        "    i-=1"
      ],
      "execution_count": null,
      "outputs": []
    },
    {
      "cell_type": "code",
      "metadata": {
        "id": "wBFwWiUNheLM"
      },
      "source": [
        "#astrics pyramids\n",
        "\n",
        "i=0\n",
        "n=20\n",
        "while i<n:\n",
        "    print(' '*int((n-i)/2),'*'*(i-1),' '*int((n-i)/2))\n",
        "    i+=1\n",
        "\n",
        "#alphabet pyramid\n",
        "\n",
        "i=0\n",
        "n=20\n",
        "while i<n:\n",
        "    print(' '*int((n-i)/2),chr(63+i)*(i-1),' '*int((n-i)/2))\n",
        "    i+=1"
      ],
      "execution_count": null,
      "outputs": []
    },
    {
      "cell_type": "code",
      "metadata": {
        "id": "DTNfwgmUtzgw"
      },
      "source": [
        ""
      ],
      "execution_count": null,
      "outputs": []
    }
  ]
}