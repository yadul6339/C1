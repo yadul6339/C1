{
 "cells": [
  {
   "cell_type": "code",
   "execution_count": 1,
   "metadata": {},
   "outputs": [
    {
     "name": "stdout",
     "output_type": "stream",
     "text": [
      "Done\n"
     ]
    }
   ],
   "source": [
    "import itertools\n",
    "import numpy as np\n",
    "import matplotlib.pyplot as plt\n",
    "from matplotlib.ticker import NullFormatter\n",
    "import pandas as pd\n",
    "import numpy as np\n",
    "import matplotlib.ticker as ticker\n",
    "from sklearn import preprocessing\n",
    "%matplotlib inline\n",
    "print('Done')"
   ]
  },
  {
   "cell_type": "code",
   "execution_count": 2,
   "metadata": {},
   "outputs": [
    {
     "name": "stderr",
     "output_type": "stream",
     "text": [
      "--2020-04-23 17:21:06--  https://s3-api.us-geo.objectstorage.softlayer.net/cf-courses-data/CognitiveClass/ML0101ENv3/labs/loan_train.csv\n",
      "Resolving s3-api.us-geo.objectstorage.softlayer.net (s3-api.us-geo.objectstorage.softlayer.net)... 67.228.254.196\n",
      "Connecting to s3-api.us-geo.objectstorage.softlayer.net (s3-api.us-geo.objectstorage.softlayer.net)|67.228.254.196|:443... connected.\n",
      "HTTP request sent, awaiting response... 200 OK\n",
      "Length: 23101 (23K) [text/csv]\n",
      "Saving to: 'loan_train.csv'\n",
      "\n",
      "     0K .......... .......... ..                              100%  185K=0.1s\n",
      "\n",
      "2020-04-23 17:21:08 (185 KB/s) - 'loan_train.csv' saved [23101/23101]\n",
      "\n"
     ]
    }
   ],
   "source": [
    "!wget -O loan_train.csv https://s3-api.us-geo.objectstorage.softlayer.net/cf-courses-data/CognitiveClass/ML0101ENv3/labs/loan_train.csv"
   ]
  },
  {
   "cell_type": "code",
   "execution_count": 123,
   "metadata": {},
   "outputs": [
    {
     "data": {
      "text/html": [
       "<div>\n",
       "<style scoped>\n",
       "    .dataframe tbody tr th:only-of-type {\n",
       "        vertical-align: middle;\n",
       "    }\n",
       "\n",
       "    .dataframe tbody tr th {\n",
       "        vertical-align: top;\n",
       "    }\n",
       "\n",
       "    .dataframe thead th {\n",
       "        text-align: right;\n",
       "    }\n",
       "</style>\n",
       "<table border=\"1\" class=\"dataframe\">\n",
       "  <thead>\n",
       "    <tr style=\"text-align: right;\">\n",
       "      <th></th>\n",
       "      <th>Unnamed: 0</th>\n",
       "      <th>Unnamed: 0.1</th>\n",
       "      <th>loan_status</th>\n",
       "      <th>Principal</th>\n",
       "      <th>terms</th>\n",
       "      <th>effective_date</th>\n",
       "      <th>due_date</th>\n",
       "      <th>age</th>\n",
       "      <th>education</th>\n",
       "      <th>Gender</th>\n",
       "    </tr>\n",
       "  </thead>\n",
       "  <tbody>\n",
       "    <tr>\n",
       "      <th>0</th>\n",
       "      <td>0</td>\n",
       "      <td>0</td>\n",
       "      <td>PAIDOFF</td>\n",
       "      <td>1000</td>\n",
       "      <td>30</td>\n",
       "      <td>9/8/2016</td>\n",
       "      <td>10/7/2016</td>\n",
       "      <td>45</td>\n",
       "      <td>High School or Below</td>\n",
       "      <td>male</td>\n",
       "    </tr>\n",
       "    <tr>\n",
       "      <th>1</th>\n",
       "      <td>2</td>\n",
       "      <td>2</td>\n",
       "      <td>PAIDOFF</td>\n",
       "      <td>1000</td>\n",
       "      <td>30</td>\n",
       "      <td>9/8/2016</td>\n",
       "      <td>10/7/2016</td>\n",
       "      <td>33</td>\n",
       "      <td>Bechalor</td>\n",
       "      <td>female</td>\n",
       "    </tr>\n",
       "    <tr>\n",
       "      <th>2</th>\n",
       "      <td>3</td>\n",
       "      <td>3</td>\n",
       "      <td>PAIDOFF</td>\n",
       "      <td>1000</td>\n",
       "      <td>15</td>\n",
       "      <td>9/8/2016</td>\n",
       "      <td>9/22/2016</td>\n",
       "      <td>27</td>\n",
       "      <td>college</td>\n",
       "      <td>male</td>\n",
       "    </tr>\n",
       "    <tr>\n",
       "      <th>3</th>\n",
       "      <td>4</td>\n",
       "      <td>4</td>\n",
       "      <td>PAIDOFF</td>\n",
       "      <td>1000</td>\n",
       "      <td>30</td>\n",
       "      <td>9/9/2016</td>\n",
       "      <td>10/8/2016</td>\n",
       "      <td>28</td>\n",
       "      <td>college</td>\n",
       "      <td>female</td>\n",
       "    </tr>\n",
       "    <tr>\n",
       "      <th>4</th>\n",
       "      <td>6</td>\n",
       "      <td>6</td>\n",
       "      <td>PAIDOFF</td>\n",
       "      <td>1000</td>\n",
       "      <td>30</td>\n",
       "      <td>9/9/2016</td>\n",
       "      <td>10/8/2016</td>\n",
       "      <td>29</td>\n",
       "      <td>college</td>\n",
       "      <td>male</td>\n",
       "    </tr>\n",
       "  </tbody>\n",
       "</table>\n",
       "</div>"
      ],
      "text/plain": [
       "   Unnamed: 0  Unnamed: 0.1 loan_status  Principal  terms effective_date  \\\n",
       "0           0             0     PAIDOFF       1000     30       9/8/2016   \n",
       "1           2             2     PAIDOFF       1000     30       9/8/2016   \n",
       "2           3             3     PAIDOFF       1000     15       9/8/2016   \n",
       "3           4             4     PAIDOFF       1000     30       9/9/2016   \n",
       "4           6             6     PAIDOFF       1000     30       9/9/2016   \n",
       "\n",
       "    due_date  age             education  Gender  \n",
       "0  10/7/2016   45  High School or Below    male  \n",
       "1  10/7/2016   33              Bechalor  female  \n",
       "2  9/22/2016   27               college    male  \n",
       "3  10/8/2016   28               college  female  \n",
       "4  10/8/2016   29               college    male  "
      ]
     },
     "execution_count": 123,
     "metadata": {},
     "output_type": "execute_result"
    }
   ],
   "source": [
    "df= pd.read_csv('loan_train.csv')\n",
    "df.head()"
   ]
  },
  {
   "cell_type": "code",
   "execution_count": 55,
   "metadata": {},
   "outputs": [],
   "source": [
    "df1.drop(['Unnamed: 0.1', 'Unnamed: 0', 'due_date', 'effective_date'], axis=1, inplace= True)"
   ]
  },
  {
   "cell_type": "code",
   "execution_count": 57,
   "metadata": {},
   "outputs": [
    {
     "data": {
      "text/html": [
       "<div>\n",
       "<style scoped>\n",
       "    .dataframe tbody tr th:only-of-type {\n",
       "        vertical-align: middle;\n",
       "    }\n",
       "\n",
       "    .dataframe tbody tr th {\n",
       "        vertical-align: top;\n",
       "    }\n",
       "\n",
       "    .dataframe thead th {\n",
       "        text-align: right;\n",
       "    }\n",
       "</style>\n",
       "<table border=\"1\" class=\"dataframe\">\n",
       "  <thead>\n",
       "    <tr style=\"text-align: right;\">\n",
       "      <th></th>\n",
       "      <th>loan_status</th>\n",
       "      <th>Principal</th>\n",
       "      <th>terms</th>\n",
       "      <th>age</th>\n",
       "      <th>education</th>\n",
       "      <th>Gender</th>\n",
       "      <th>dayofweek</th>\n",
       "      <th>weekend</th>\n",
       "    </tr>\n",
       "  </thead>\n",
       "  <tbody>\n",
       "    <tr>\n",
       "      <th>0</th>\n",
       "      <td>PAIDOFF</td>\n",
       "      <td>1000</td>\n",
       "      <td>30</td>\n",
       "      <td>45</td>\n",
       "      <td>High School or Below</td>\n",
       "      <td>0</td>\n",
       "      <td>3</td>\n",
       "      <td>0</td>\n",
       "    </tr>\n",
       "    <tr>\n",
       "      <th>1</th>\n",
       "      <td>PAIDOFF</td>\n",
       "      <td>1000</td>\n",
       "      <td>30</td>\n",
       "      <td>33</td>\n",
       "      <td>Bechalor</td>\n",
       "      <td>1</td>\n",
       "      <td>3</td>\n",
       "      <td>0</td>\n",
       "    </tr>\n",
       "  </tbody>\n",
       "</table>\n",
       "</div>"
      ],
      "text/plain": [
       "  loan_status  Principal  terms  age             education  Gender  dayofweek  \\\n",
       "0     PAIDOFF       1000     30   45  High School or Below       0          3   \n",
       "1     PAIDOFF       1000     30   33              Bechalor       1          3   \n",
       "\n",
       "   weekend  \n",
       "0        0  \n",
       "1        0  "
      ]
     },
     "execution_count": 57,
     "metadata": {},
     "output_type": "execute_result"
    }
   ],
   "source": [
    "df1.head(2)"
   ]
  },
  {
   "cell_type": "code",
   "execution_count": 8,
   "metadata": {},
   "outputs": [
    {
     "data": {
      "text/html": [
       "<div>\n",
       "<style scoped>\n",
       "    .dataframe tbody tr th:only-of-type {\n",
       "        vertical-align: middle;\n",
       "    }\n",
       "\n",
       "    .dataframe tbody tr th {\n",
       "        vertical-align: top;\n",
       "    }\n",
       "\n",
       "    .dataframe thead th {\n",
       "        text-align: right;\n",
       "    }\n",
       "</style>\n",
       "<table border=\"1\" class=\"dataframe\">\n",
       "  <thead>\n",
       "    <tr style=\"text-align: right;\">\n",
       "      <th></th>\n",
       "      <th>Unnamed: 0</th>\n",
       "      <th>Unnamed: 0.1</th>\n",
       "      <th>loan_status</th>\n",
       "      <th>Principal</th>\n",
       "      <th>terms</th>\n",
       "      <th>effective_date</th>\n",
       "      <th>due_date</th>\n",
       "      <th>age</th>\n",
       "      <th>education</th>\n",
       "      <th>Gender</th>\n",
       "    </tr>\n",
       "  </thead>\n",
       "  <tbody>\n",
       "    <tr>\n",
       "      <th>0</th>\n",
       "      <td>0</td>\n",
       "      <td>0</td>\n",
       "      <td>PAIDOFF</td>\n",
       "      <td>1000</td>\n",
       "      <td>30</td>\n",
       "      <td>2016-09-08</td>\n",
       "      <td>2016-10-07</td>\n",
       "      <td>45</td>\n",
       "      <td>High School or Below</td>\n",
       "      <td>male</td>\n",
       "    </tr>\n",
       "    <tr>\n",
       "      <th>1</th>\n",
       "      <td>2</td>\n",
       "      <td>2</td>\n",
       "      <td>PAIDOFF</td>\n",
       "      <td>1000</td>\n",
       "      <td>30</td>\n",
       "      <td>2016-09-08</td>\n",
       "      <td>2016-10-07</td>\n",
       "      <td>33</td>\n",
       "      <td>Bechalor</td>\n",
       "      <td>female</td>\n",
       "    </tr>\n",
       "    <tr>\n",
       "      <th>2</th>\n",
       "      <td>3</td>\n",
       "      <td>3</td>\n",
       "      <td>PAIDOFF</td>\n",
       "      <td>1000</td>\n",
       "      <td>15</td>\n",
       "      <td>2016-09-08</td>\n",
       "      <td>2016-09-22</td>\n",
       "      <td>27</td>\n",
       "      <td>college</td>\n",
       "      <td>male</td>\n",
       "    </tr>\n",
       "    <tr>\n",
       "      <th>3</th>\n",
       "      <td>4</td>\n",
       "      <td>4</td>\n",
       "      <td>PAIDOFF</td>\n",
       "      <td>1000</td>\n",
       "      <td>30</td>\n",
       "      <td>2016-09-09</td>\n",
       "      <td>2016-10-08</td>\n",
       "      <td>28</td>\n",
       "      <td>college</td>\n",
       "      <td>female</td>\n",
       "    </tr>\n",
       "    <tr>\n",
       "      <th>4</th>\n",
       "      <td>6</td>\n",
       "      <td>6</td>\n",
       "      <td>PAIDOFF</td>\n",
       "      <td>1000</td>\n",
       "      <td>30</td>\n",
       "      <td>2016-09-09</td>\n",
       "      <td>2016-10-08</td>\n",
       "      <td>29</td>\n",
       "      <td>college</td>\n",
       "      <td>male</td>\n",
       "    </tr>\n",
       "  </tbody>\n",
       "</table>\n",
       "</div>"
      ],
      "text/plain": [
       "   Unnamed: 0  Unnamed: 0.1 loan_status  Principal  terms effective_date  \\\n",
       "0           0             0     PAIDOFF       1000     30     2016-09-08   \n",
       "1           2             2     PAIDOFF       1000     30     2016-09-08   \n",
       "2           3             3     PAIDOFF       1000     15     2016-09-08   \n",
       "3           4             4     PAIDOFF       1000     30     2016-09-09   \n",
       "4           6             6     PAIDOFF       1000     30     2016-09-09   \n",
       "\n",
       "    due_date  age             education  Gender  \n",
       "0 2016-10-07   45  High School or Below    male  \n",
       "1 2016-10-07   33              Bechalor  female  \n",
       "2 2016-09-22   27               college    male  \n",
       "3 2016-10-08   28               college  female  \n",
       "4 2016-10-08   29               college    male  "
      ]
     },
     "execution_count": 8,
     "metadata": {},
     "output_type": "execute_result"
    }
   ],
   "source": [
    "df['due_date'] = pd.to_datetime(df['due_date'])\n",
    "df['effective_date'] = pd.to_datetime(df['effective_date'])\n",
    "df.head()"
   ]
  },
  {
   "cell_type": "code",
   "execution_count": 10,
   "metadata": {},
   "outputs": [],
   "source": [
    "df['dayofweek'] = df['effective_date'].dt.dayofweek"
   ]
  },
  {
   "cell_type": "code",
   "execution_count": 11,
   "metadata": {},
   "outputs": [
    {
     "data": {
      "text/html": [
       "<div>\n",
       "<style scoped>\n",
       "    .dataframe tbody tr th:only-of-type {\n",
       "        vertical-align: middle;\n",
       "    }\n",
       "\n",
       "    .dataframe tbody tr th {\n",
       "        vertical-align: top;\n",
       "    }\n",
       "\n",
       "    .dataframe thead th {\n",
       "        text-align: right;\n",
       "    }\n",
       "</style>\n",
       "<table border=\"1\" class=\"dataframe\">\n",
       "  <thead>\n",
       "    <tr style=\"text-align: right;\">\n",
       "      <th></th>\n",
       "      <th>Unnamed: 0</th>\n",
       "      <th>Unnamed: 0.1</th>\n",
       "      <th>loan_status</th>\n",
       "      <th>Principal</th>\n",
       "      <th>terms</th>\n",
       "      <th>effective_date</th>\n",
       "      <th>due_date</th>\n",
       "      <th>age</th>\n",
       "      <th>education</th>\n",
       "      <th>Gender</th>\n",
       "      <th>dayofweek</th>\n",
       "      <th>weekend</th>\n",
       "    </tr>\n",
       "  </thead>\n",
       "  <tbody>\n",
       "    <tr>\n",
       "      <th>0</th>\n",
       "      <td>0</td>\n",
       "      <td>0</td>\n",
       "      <td>PAIDOFF</td>\n",
       "      <td>1000</td>\n",
       "      <td>30</td>\n",
       "      <td>2016-09-08</td>\n",
       "      <td>2016-10-07</td>\n",
       "      <td>45</td>\n",
       "      <td>High School or Below</td>\n",
       "      <td>male</td>\n",
       "      <td>3</td>\n",
       "      <td>0</td>\n",
       "    </tr>\n",
       "    <tr>\n",
       "      <th>1</th>\n",
       "      <td>2</td>\n",
       "      <td>2</td>\n",
       "      <td>PAIDOFF</td>\n",
       "      <td>1000</td>\n",
       "      <td>30</td>\n",
       "      <td>2016-09-08</td>\n",
       "      <td>2016-10-07</td>\n",
       "      <td>33</td>\n",
       "      <td>Bechalor</td>\n",
       "      <td>female</td>\n",
       "      <td>3</td>\n",
       "      <td>0</td>\n",
       "    </tr>\n",
       "    <tr>\n",
       "      <th>2</th>\n",
       "      <td>3</td>\n",
       "      <td>3</td>\n",
       "      <td>PAIDOFF</td>\n",
       "      <td>1000</td>\n",
       "      <td>15</td>\n",
       "      <td>2016-09-08</td>\n",
       "      <td>2016-09-22</td>\n",
       "      <td>27</td>\n",
       "      <td>college</td>\n",
       "      <td>male</td>\n",
       "      <td>3</td>\n",
       "      <td>0</td>\n",
       "    </tr>\n",
       "    <tr>\n",
       "      <th>3</th>\n",
       "      <td>4</td>\n",
       "      <td>4</td>\n",
       "      <td>PAIDOFF</td>\n",
       "      <td>1000</td>\n",
       "      <td>30</td>\n",
       "      <td>2016-09-09</td>\n",
       "      <td>2016-10-08</td>\n",
       "      <td>28</td>\n",
       "      <td>college</td>\n",
       "      <td>female</td>\n",
       "      <td>4</td>\n",
       "      <td>1</td>\n",
       "    </tr>\n",
       "    <tr>\n",
       "      <th>4</th>\n",
       "      <td>6</td>\n",
       "      <td>6</td>\n",
       "      <td>PAIDOFF</td>\n",
       "      <td>1000</td>\n",
       "      <td>30</td>\n",
       "      <td>2016-09-09</td>\n",
       "      <td>2016-10-08</td>\n",
       "      <td>29</td>\n",
       "      <td>college</td>\n",
       "      <td>male</td>\n",
       "      <td>4</td>\n",
       "      <td>1</td>\n",
       "    </tr>\n",
       "  </tbody>\n",
       "</table>\n",
       "</div>"
      ],
      "text/plain": [
       "   Unnamed: 0  Unnamed: 0.1 loan_status  Principal  terms effective_date  \\\n",
       "0           0             0     PAIDOFF       1000     30     2016-09-08   \n",
       "1           2             2     PAIDOFF       1000     30     2016-09-08   \n",
       "2           3             3     PAIDOFF       1000     15     2016-09-08   \n",
       "3           4             4     PAIDOFF       1000     30     2016-09-09   \n",
       "4           6             6     PAIDOFF       1000     30     2016-09-09   \n",
       "\n",
       "    due_date  age             education  Gender  dayofweek  weekend  \n",
       "0 2016-10-07   45  High School or Below    male          3        0  \n",
       "1 2016-10-07   33              Bechalor  female          3        0  \n",
       "2 2016-09-22   27               college    male          3        0  \n",
       "3 2016-10-08   28               college  female          4        1  \n",
       "4 2016-10-08   29               college    male          4        1  "
      ]
     },
     "execution_count": 11,
     "metadata": {},
     "output_type": "execute_result"
    }
   ],
   "source": [
    "df['weekend'] = df['dayofweek'].apply(lambda x: 1 if (x>3)  else 0)\n",
    "df.head()"
   ]
  },
  {
   "cell_type": "code",
   "execution_count": 92,
   "metadata": {},
   "outputs": [
    {
     "data": {
      "text/html": [
       "<div>\n",
       "<style scoped>\n",
       "    .dataframe tbody tr th:only-of-type {\n",
       "        vertical-align: middle;\n",
       "    }\n",
       "\n",
       "    .dataframe tbody tr th {\n",
       "        vertical-align: top;\n",
       "    }\n",
       "\n",
       "    .dataframe thead th {\n",
       "        text-align: right;\n",
       "    }\n",
       "</style>\n",
       "<table border=\"1\" class=\"dataframe\">\n",
       "  <thead>\n",
       "    <tr style=\"text-align: right;\">\n",
       "      <th></th>\n",
       "      <th>loan_status</th>\n",
       "      <th>Principal</th>\n",
       "      <th>terms</th>\n",
       "      <th>age</th>\n",
       "      <th>education</th>\n",
       "      <th>Gender</th>\n",
       "      <th>dayofweek</th>\n",
       "      <th>weekend</th>\n",
       "    </tr>\n",
       "  </thead>\n",
       "  <tbody>\n",
       "    <tr>\n",
       "      <th>0</th>\n",
       "      <td>1</td>\n",
       "      <td>1000</td>\n",
       "      <td>30</td>\n",
       "      <td>45</td>\n",
       "      <td>High School or Below</td>\n",
       "      <td>0</td>\n",
       "      <td>3</td>\n",
       "      <td>0</td>\n",
       "    </tr>\n",
       "    <tr>\n",
       "      <th>1</th>\n",
       "      <td>1</td>\n",
       "      <td>1000</td>\n",
       "      <td>30</td>\n",
       "      <td>33</td>\n",
       "      <td>Bechalor</td>\n",
       "      <td>1</td>\n",
       "      <td>3</td>\n",
       "      <td>0</td>\n",
       "    </tr>\n",
       "    <tr>\n",
       "      <th>2</th>\n",
       "      <td>1</td>\n",
       "      <td>1000</td>\n",
       "      <td>15</td>\n",
       "      <td>27</td>\n",
       "      <td>college</td>\n",
       "      <td>0</td>\n",
       "      <td>3</td>\n",
       "      <td>0</td>\n",
       "    </tr>\n",
       "    <tr>\n",
       "      <th>3</th>\n",
       "      <td>1</td>\n",
       "      <td>1000</td>\n",
       "      <td>30</td>\n",
       "      <td>28</td>\n",
       "      <td>college</td>\n",
       "      <td>1</td>\n",
       "      <td>4</td>\n",
       "      <td>1</td>\n",
       "    </tr>\n",
       "    <tr>\n",
       "      <th>4</th>\n",
       "      <td>1</td>\n",
       "      <td>1000</td>\n",
       "      <td>30</td>\n",
       "      <td>29</td>\n",
       "      <td>college</td>\n",
       "      <td>0</td>\n",
       "      <td>4</td>\n",
       "      <td>1</td>\n",
       "    </tr>\n",
       "  </tbody>\n",
       "</table>\n",
       "</div>"
      ],
      "text/plain": [
       "   loan_status  Principal  terms  age             education  Gender  \\\n",
       "0            1       1000     30   45  High School or Below       0   \n",
       "1            1       1000     30   33              Bechalor       1   \n",
       "2            1       1000     15   27               college       0   \n",
       "3            1       1000     30   28               college       1   \n",
       "4            1       1000     30   29               college       0   \n",
       "\n",
       "   dayofweek  weekend  \n",
       "0          3        0  \n",
       "1          3        0  \n",
       "2          3        0  \n",
       "3          4        1  \n",
       "4          4        1  "
      ]
     },
     "execution_count": 92,
     "metadata": {},
     "output_type": "execute_result"
    }
   ],
   "source": [
    "df['loan_status'].replace(to_replace=['PAIDOFF','COLLECTION'], value=[1,0],inplace=True)\n",
    "df.head()"
   ]
  },
  {
   "cell_type": "code",
   "execution_count": 13,
   "metadata": {},
   "outputs": [
    {
     "data": {
      "text/html": [
       "<div>\n",
       "<style scoped>\n",
       "    .dataframe tbody tr th:only-of-type {\n",
       "        vertical-align: middle;\n",
       "    }\n",
       "\n",
       "    .dataframe tbody tr th {\n",
       "        vertical-align: top;\n",
       "    }\n",
       "\n",
       "    .dataframe thead th {\n",
       "        text-align: right;\n",
       "    }\n",
       "</style>\n",
       "<table border=\"1\" class=\"dataframe\">\n",
       "  <thead>\n",
       "    <tr style=\"text-align: right;\">\n",
       "      <th></th>\n",
       "      <th>Principal</th>\n",
       "      <th>terms</th>\n",
       "      <th>age</th>\n",
       "      <th>Gender</th>\n",
       "      <th>weekend</th>\n",
       "      <th>Bechalor</th>\n",
       "      <th>High School or Below</th>\n",
       "      <th>college</th>\n",
       "    </tr>\n",
       "  </thead>\n",
       "  <tbody>\n",
       "    <tr>\n",
       "      <th>0</th>\n",
       "      <td>1000</td>\n",
       "      <td>30</td>\n",
       "      <td>45</td>\n",
       "      <td>0</td>\n",
       "      <td>0</td>\n",
       "      <td>0</td>\n",
       "      <td>1</td>\n",
       "      <td>0</td>\n",
       "    </tr>\n",
       "    <tr>\n",
       "      <th>1</th>\n",
       "      <td>1000</td>\n",
       "      <td>30</td>\n",
       "      <td>33</td>\n",
       "      <td>1</td>\n",
       "      <td>0</td>\n",
       "      <td>1</td>\n",
       "      <td>0</td>\n",
       "      <td>0</td>\n",
       "    </tr>\n",
       "    <tr>\n",
       "      <th>2</th>\n",
       "      <td>1000</td>\n",
       "      <td>15</td>\n",
       "      <td>27</td>\n",
       "      <td>0</td>\n",
       "      <td>0</td>\n",
       "      <td>0</td>\n",
       "      <td>0</td>\n",
       "      <td>1</td>\n",
       "    </tr>\n",
       "    <tr>\n",
       "      <th>3</th>\n",
       "      <td>1000</td>\n",
       "      <td>30</td>\n",
       "      <td>28</td>\n",
       "      <td>1</td>\n",
       "      <td>1</td>\n",
       "      <td>0</td>\n",
       "      <td>0</td>\n",
       "      <td>1</td>\n",
       "    </tr>\n",
       "    <tr>\n",
       "      <th>4</th>\n",
       "      <td>1000</td>\n",
       "      <td>30</td>\n",
       "      <td>29</td>\n",
       "      <td>0</td>\n",
       "      <td>1</td>\n",
       "      <td>0</td>\n",
       "      <td>0</td>\n",
       "      <td>1</td>\n",
       "    </tr>\n",
       "  </tbody>\n",
       "</table>\n",
       "</div>"
      ],
      "text/plain": [
       "   Principal  terms  age  Gender  weekend  Bechalor  High School or Below  \\\n",
       "0       1000     30   45       0        0         0                     1   \n",
       "1       1000     30   33       1        0         1                     0   \n",
       "2       1000     15   27       0        0         0                     0   \n",
       "3       1000     30   28       1        1         0                     0   \n",
       "4       1000     30   29       0        1         0                     0   \n",
       "\n",
       "   college  \n",
       "0        0  \n",
       "1        0  \n",
       "2        1  \n",
       "3        1  \n",
       "4        1  "
      ]
     },
     "execution_count": 13,
     "metadata": {},
     "output_type": "execute_result"
    }
   ],
   "source": [
    "Feature = df[['Principal','terms','age','Gender','weekend']]\n",
    "Feature = pd.concat([Feature,pd.get_dummies(df['education'])], axis=1)\n",
    "Feature.drop(['Master or Above'], axis = 1,inplace=True)\n",
    "Feature.head()"
   ]
  },
  {
   "cell_type": "code",
   "execution_count": 15,
   "metadata": {},
   "outputs": [
    {
     "data": {
      "text/html": [
       "<div>\n",
       "<style scoped>\n",
       "    .dataframe tbody tr th:only-of-type {\n",
       "        vertical-align: middle;\n",
       "    }\n",
       "\n",
       "    .dataframe tbody tr th {\n",
       "        vertical-align: top;\n",
       "    }\n",
       "\n",
       "    .dataframe thead th {\n",
       "        text-align: right;\n",
       "    }\n",
       "</style>\n",
       "<table border=\"1\" class=\"dataframe\">\n",
       "  <thead>\n",
       "    <tr style=\"text-align: right;\">\n",
       "      <th></th>\n",
       "      <th>Principal</th>\n",
       "      <th>terms</th>\n",
       "      <th>age</th>\n",
       "      <th>Gender</th>\n",
       "      <th>weekend</th>\n",
       "      <th>Bechalor</th>\n",
       "      <th>High School or Below</th>\n",
       "      <th>college</th>\n",
       "    </tr>\n",
       "  </thead>\n",
       "  <tbody>\n",
       "    <tr>\n",
       "      <th>0</th>\n",
       "      <td>1000</td>\n",
       "      <td>30</td>\n",
       "      <td>45</td>\n",
       "      <td>0</td>\n",
       "      <td>0</td>\n",
       "      <td>0</td>\n",
       "      <td>1</td>\n",
       "      <td>0</td>\n",
       "    </tr>\n",
       "    <tr>\n",
       "      <th>1</th>\n",
       "      <td>1000</td>\n",
       "      <td>30</td>\n",
       "      <td>33</td>\n",
       "      <td>1</td>\n",
       "      <td>0</td>\n",
       "      <td>1</td>\n",
       "      <td>0</td>\n",
       "      <td>0</td>\n",
       "    </tr>\n",
       "    <tr>\n",
       "      <th>2</th>\n",
       "      <td>1000</td>\n",
       "      <td>15</td>\n",
       "      <td>27</td>\n",
       "      <td>0</td>\n",
       "      <td>0</td>\n",
       "      <td>0</td>\n",
       "      <td>0</td>\n",
       "      <td>1</td>\n",
       "    </tr>\n",
       "    <tr>\n",
       "      <th>3</th>\n",
       "      <td>1000</td>\n",
       "      <td>30</td>\n",
       "      <td>28</td>\n",
       "      <td>1</td>\n",
       "      <td>1</td>\n",
       "      <td>0</td>\n",
       "      <td>0</td>\n",
       "      <td>1</td>\n",
       "    </tr>\n",
       "    <tr>\n",
       "      <th>4</th>\n",
       "      <td>1000</td>\n",
       "      <td>30</td>\n",
       "      <td>29</td>\n",
       "      <td>0</td>\n",
       "      <td>1</td>\n",
       "      <td>0</td>\n",
       "      <td>0</td>\n",
       "      <td>1</td>\n",
       "    </tr>\n",
       "  </tbody>\n",
       "</table>\n",
       "</div>"
      ],
      "text/plain": [
       "   Principal  terms  age  Gender  weekend  Bechalor  High School or Below  \\\n",
       "0       1000     30   45       0        0         0                     1   \n",
       "1       1000     30   33       1        0         1                     0   \n",
       "2       1000     15   27       0        0         0                     0   \n",
       "3       1000     30   28       1        1         0                     0   \n",
       "4       1000     30   29       0        1         0                     0   \n",
       "\n",
       "   college  \n",
       "0        0  \n",
       "1        0  \n",
       "2        1  \n",
       "3        1  \n",
       "4        1  "
      ]
     },
     "execution_count": 15,
     "metadata": {},
     "output_type": "execute_result"
    }
   ],
   "source": [
    "X = Feature\n",
    "X[0:5]"
   ]
  },
  {
   "cell_type": "code",
   "execution_count": 16,
   "metadata": {},
   "outputs": [
    {
     "data": {
      "text/plain": [
       "array(['PAIDOFF', 'PAIDOFF', 'PAIDOFF', 'PAIDOFF', 'PAIDOFF'],\n",
       "      dtype=object)"
      ]
     },
     "execution_count": 16,
     "metadata": {},
     "output_type": "execute_result"
    }
   ],
   "source": [
    "y = df['loan_status'].values\n",
    "y[0:5]"
   ]
  },
  {
   "cell_type": "code",
   "execution_count": 17,
   "metadata": {},
   "outputs": [
    {
     "data": {
      "text/plain": [
       "array([[ 0.51578458,  0.92071769,  2.33152555, -0.42056004, -1.20577805,\n",
       "        -0.38170062,  1.13639374, -0.86968108],\n",
       "       [ 0.51578458,  0.92071769,  0.34170148,  2.37778177, -1.20577805,\n",
       "         2.61985426, -0.87997669, -0.86968108],\n",
       "       [ 0.51578458, -0.95911111, -0.65321055, -0.42056004, -1.20577805,\n",
       "        -0.38170062, -0.87997669,  1.14984679],\n",
       "       [ 0.51578458,  0.92071769, -0.48739188,  2.37778177,  0.82934003,\n",
       "        -0.38170062, -0.87997669,  1.14984679],\n",
       "       [ 0.51578458,  0.92071769, -0.3215732 , -0.42056004,  0.82934003,\n",
       "        -0.38170062, -0.87997669,  1.14984679]])"
      ]
     },
     "execution_count": 17,
     "metadata": {},
     "output_type": "execute_result"
    }
   ],
   "source": [
    "X= preprocessing.StandardScaler().fit(X).transform(X)\n",
    "X[0:5]"
   ]
  },
  {
   "cell_type": "code",
   "execution_count": 19,
   "metadata": {},
   "outputs": [],
   "source": [
    "from sklearn.neighbors import KNeighborsClassifier"
   ]
  },
  {
   "cell_type": "code",
   "execution_count": 20,
   "metadata": {},
   "outputs": [
    {
     "data": {
      "text/plain": [
       "KNeighborsClassifier(algorithm='auto', leaf_size=30, metric='minkowski',\n",
       "                     metric_params=None, n_jobs=None, n_neighbors=4, p=2,\n",
       "                     weights='uniform')"
      ]
     },
     "execution_count": 20,
     "metadata": {},
     "output_type": "execute_result"
    }
   ],
   "source": [
    "k = 4\n",
    "neigh = KNeighborsClassifier(n_neighbors = k).fit(X_train,y_train)\n",
    "neigh"
   ]
  },
  {
   "cell_type": "code",
   "execution_count": 22,
   "metadata": {},
   "outputs": [
    {
     "name": "stdout",
     "output_type": "stream",
     "text": [
      "Train set Accuracy:  0.8152173913043478\n",
      "Test set Accuracy:  0.6857142857142857\n"
     ]
    }
   ],
   "source": [
    "from sklearn import metrics\n",
    "print(\"Train set Accuracy: \", metrics.accuracy_score(y_train, neigh.predict(X_train)))\n",
    "print(\"Test set Accuracy: \", metrics.accuracy_score(y_test, yhat))"
   ]
  },
  {
   "cell_type": "code",
   "execution_count": 23,
   "metadata": {},
   "outputs": [
    {
     "data": {
      "text/plain": [
       "array([0.67142857, 0.65714286, 0.71428571, 0.68571429, 0.75714286,\n",
       "       0.71428571, 0.78571429, 0.75714286, 0.75714286])"
      ]
     },
     "execution_count": 23,
     "metadata": {},
     "output_type": "execute_result"
    }
   ],
   "source": [
    "Ks = 10\n",
    "mean_acc = np.zeros((Ks-1))\n",
    "std_acc = np.zeros((Ks-1))\n",
    "ConfustionMx = [];\n",
    "for n in range(1,Ks):\n",
    "    \n",
    "    \n",
    "    neigh = KNeighborsClassifier(n_neighbors = n).fit(X_train,y_train)\n",
    "    yhat=neigh.predict(X_test)\n",
    "    mean_acc[n-1] = metrics.accuracy_score(y_test, yhat)\n",
    "\n",
    "    \n",
    "    std_acc[n-1]=np.std(yhat==y_test)/np.sqrt(yhat.shape[0])\n",
    "\n",
    "mean_acc"
   ]
  },
  {
   "cell_type": "code",
   "execution_count": 24,
   "metadata": {},
   "outputs": [
    {
     "data": {
      "image/png": "[encoded data removed]",
      "text/plain": [
       "<Figure size 432x288 with 1 Axes>"
      ]
     },
     "metadata": {
      "needs_background": "light"
     },
     "output_type": "display_data"
    }
   ],
   "source": [
    "plt.plot(range(1,Ks),mean_acc,'g')\n",
    "plt.fill_between(range(1,Ks),mean_acc - 1 * std_acc,mean_acc + 1 * std_acc, alpha=0.10)\n",
    "plt.legend(('Accuracy ', '+/- 3xstd'))\n",
    "plt.ylabel('Accuracy ')\n",
    "plt.xlabel('Number of Nabors (K)')\n",
    "plt.tight_layout()\n",
    "plt.show()"
   ]
  },
  {
   "cell_type": "code",
   "execution_count": 25,
   "metadata": {},
   "outputs": [
    {
     "name": "stdout",
     "output_type": "stream",
     "text": [
      "The best accuracy was with 0.7857142857142857 with k= 7\n"
     ]
    }
   ],
   "source": [
    "print( \"The best accuracy was with\", mean_acc.max(), \"with k=\", mean_acc.argmax()+1)"
   ]
  },
  {
   "cell_type": "markdown",
   "metadata": {},
   "source": [
    "## We saw that the best possible value for K is 7. "
   ]
  },
  {
   "cell_type": "markdown",
   "metadata": {},
   "source": [
    "# Now we will try making a decison tree"
   ]
  },
  {
   "cell_type": "code",
   "execution_count": 91,
   "metadata": {},
   "outputs": [
    {
     "data": {
      "text/html": [
       "<div>\n",
       "<style scoped>\n",
       "    .dataframe tbody tr th:only-of-type {\n",
       "        vertical-align: middle;\n",
       "    }\n",
       "\n",
       "    .dataframe tbody tr th {\n",
       "        vertical-align: top;\n",
       "    }\n",
       "\n",
       "    .dataframe thead th {\n",
       "        text-align: right;\n",
       "    }\n",
       "</style>\n",
       "<table border=\"1\" class=\"dataframe\">\n",
       "  <thead>\n",
       "    <tr style=\"text-align: right;\">\n",
       "      <th></th>\n",
       "      <th>loan_status</th>\n",
       "      <th>Principal</th>\n",
       "      <th>terms</th>\n",
       "      <th>age</th>\n",
       "      <th>education</th>\n",
       "      <th>Gender</th>\n",
       "      <th>dayofweek</th>\n",
       "      <th>weekend</th>\n",
       "    </tr>\n",
       "  </thead>\n",
       "  <tbody>\n",
       "    <tr>\n",
       "      <th>0</th>\n",
       "      <td>PAIDOFF</td>\n",
       "      <td>1000</td>\n",
       "      <td>30</td>\n",
       "      <td>45</td>\n",
       "      <td>High School or Below</td>\n",
       "      <td>0</td>\n",
       "      <td>3</td>\n",
       "      <td>0</td>\n",
       "    </tr>\n",
       "    <tr>\n",
       "      <th>1</th>\n",
       "      <td>PAIDOFF</td>\n",
       "      <td>1000</td>\n",
       "      <td>30</td>\n",
       "      <td>33</td>\n",
       "      <td>Bechalor</td>\n",
       "      <td>1</td>\n",
       "      <td>3</td>\n",
       "      <td>0</td>\n",
       "    </tr>\n",
       "    <tr>\n",
       "      <th>2</th>\n",
       "      <td>PAIDOFF</td>\n",
       "      <td>1000</td>\n",
       "      <td>15</td>\n",
       "      <td>27</td>\n",
       "      <td>college</td>\n",
       "      <td>0</td>\n",
       "      <td>3</td>\n",
       "      <td>0</td>\n",
       "    </tr>\n",
       "    <tr>\n",
       "      <th>3</th>\n",
       "      <td>PAIDOFF</td>\n",
       "      <td>1000</td>\n",
       "      <td>30</td>\n",
       "      <td>28</td>\n",
       "      <td>college</td>\n",
       "      <td>1</td>\n",
       "      <td>4</td>\n",
       "      <td>1</td>\n",
       "    </tr>\n",
       "    <tr>\n",
       "      <th>4</th>\n",
       "      <td>PAIDOFF</td>\n",
       "      <td>1000</td>\n",
       "      <td>30</td>\n",
       "      <td>29</td>\n",
       "      <td>college</td>\n",
       "      <td>0</td>\n",
       "      <td>4</td>\n",
       "      <td>1</td>\n",
       "    </tr>\n",
       "  </tbody>\n",
       "</table>\n",
       "</div>"
      ],
      "text/plain": [
       "  loan_status  Principal  terms  age             education  Gender  dayofweek  \\\n",
       "0     PAIDOFF       1000     30   45  High School or Below       0          3   \n",
       "1     PAIDOFF       1000     30   33              Bechalor       1          3   \n",
       "2     PAIDOFF       1000     15   27               college       0          3   \n",
       "3     PAIDOFF       1000     30   28               college       1          4   \n",
       "4     PAIDOFF       1000     30   29               college       0          4   \n",
       "\n",
       "   weekend  \n",
       "0        0  \n",
       "1        0  \n",
       "2        0  \n",
       "3        1  \n",
       "4        1  "
      ]
     },
     "execution_count": 91,
     "metadata": {},
     "output_type": "execute_result"
    }
   ],
   "source": [
    "df.head()"
   ]
  },
  {
   "cell_type": "code",
   "execution_count": 38,
   "metadata": {},
   "outputs": [
    {
     "data": {
      "text/html": [
       "<div>\n",
       "<style scoped>\n",
       "    .dataframe tbody tr th:only-of-type {\n",
       "        vertical-align: middle;\n",
       "    }\n",
       "\n",
       "    .dataframe tbody tr th {\n",
       "        vertical-align: top;\n",
       "    }\n",
       "\n",
       "    .dataframe thead th {\n",
       "        text-align: right;\n",
       "    }\n",
       "</style>\n",
       "<table border=\"1\" class=\"dataframe\">\n",
       "  <thead>\n",
       "    <tr style=\"text-align: right;\">\n",
       "      <th></th>\n",
       "      <th>Principal</th>\n",
       "      <th>terms</th>\n",
       "      <th>age</th>\n",
       "      <th>Gender</th>\n",
       "      <th>weekend</th>\n",
       "      <th>Bechalor</th>\n",
       "      <th>High School or Below</th>\n",
       "      <th>college</th>\n",
       "    </tr>\n",
       "  </thead>\n",
       "  <tbody>\n",
       "    <tr>\n",
       "      <th>0</th>\n",
       "      <td>1000</td>\n",
       "      <td>30</td>\n",
       "      <td>45</td>\n",
       "      <td>0</td>\n",
       "      <td>0</td>\n",
       "      <td>0</td>\n",
       "      <td>1</td>\n",
       "      <td>0</td>\n",
       "    </tr>\n",
       "    <tr>\n",
       "      <th>1</th>\n",
       "      <td>1000</td>\n",
       "      <td>30</td>\n",
       "      <td>33</td>\n",
       "      <td>1</td>\n",
       "      <td>0</td>\n",
       "      <td>1</td>\n",
       "      <td>0</td>\n",
       "      <td>0</td>\n",
       "    </tr>\n",
       "    <tr>\n",
       "      <th>2</th>\n",
       "      <td>1000</td>\n",
       "      <td>15</td>\n",
       "      <td>27</td>\n",
       "      <td>0</td>\n",
       "      <td>0</td>\n",
       "      <td>0</td>\n",
       "      <td>0</td>\n",
       "      <td>1</td>\n",
       "    </tr>\n",
       "    <tr>\n",
       "      <th>3</th>\n",
       "      <td>1000</td>\n",
       "      <td>30</td>\n",
       "      <td>28</td>\n",
       "      <td>1</td>\n",
       "      <td>1</td>\n",
       "      <td>0</td>\n",
       "      <td>0</td>\n",
       "      <td>1</td>\n",
       "    </tr>\n",
       "    <tr>\n",
       "      <th>4</th>\n",
       "      <td>1000</td>\n",
       "      <td>30</td>\n",
       "      <td>29</td>\n",
       "      <td>0</td>\n",
       "      <td>1</td>\n",
       "      <td>0</td>\n",
       "      <td>0</td>\n",
       "      <td>1</td>\n",
       "    </tr>\n",
       "  </tbody>\n",
       "</table>\n",
       "</div>"
      ],
      "text/plain": [
       "   Principal  terms  age  Gender  weekend  Bechalor  High School or Below  \\\n",
       "0       1000     30   45       0        0         0                     1   \n",
       "1       1000     30   33       1        0         1                     0   \n",
       "2       1000     15   27       0        0         0                     0   \n",
       "3       1000     30   28       1        1         0                     0   \n",
       "4       1000     30   29       0        1         0                     0   \n",
       "\n",
       "   college  \n",
       "0        0  \n",
       "1        0  \n",
       "2        1  \n",
       "3        1  \n",
       "4        1  "
      ]
     },
     "execution_count": 38,
     "metadata": {},
     "output_type": "execute_result"
    }
   ],
   "source": [
    "Feature.head()"
   ]
  },
  {
   "cell_type": "code",
   "execution_count": 39,
   "metadata": {},
   "outputs": [
    {
     "data": {
      "text/plain": [
       "array([[1000,   30,   45,    0,    0,    0,    1,    0],\n",
       "       [1000,   30,   33,    1,    0,    1,    0,    0],\n",
       "       [1000,   15,   27,    0,    0,    0,    0,    1],\n",
       "       [1000,   30,   28,    1,    1,    0,    0,    1],\n",
       "       [1000,   30,   29,    0,    1,    0,    0,    1]], dtype=int64)"
      ]
     },
     "execution_count": 39,
     "metadata": {},
     "output_type": "execute_result"
    }
   ],
   "source": [
    "X = Feature.values\n",
    "X[0:5]"
   ]
  },
  {
   "cell_type": "code",
   "execution_count": 63,
   "metadata": {},
   "outputs": [
    {
     "data": {
      "text/plain": [
       "array(['PAIDOFF', 'PAIDOFF', 'PAIDOFF', 'PAIDOFF', 'PAIDOFF'],\n",
       "      dtype=object)"
      ]
     },
     "execution_count": 63,
     "metadata": {},
     "output_type": "execute_result"
    }
   ],
   "source": [
    "y = df['loan_status'].values\n",
    "y[0:5]"
   ]
  },
  {
   "cell_type": "code",
   "execution_count": 41,
   "metadata": {},
   "outputs": [],
   "source": [
    "from sklearn.model_selection import train_test_split"
   ]
  },
  {
   "cell_type": "code",
   "execution_count": 42,
   "metadata": {},
   "outputs": [],
   "source": [
    "X_trainset, X_testset, y_trainset, y_testset = train_test_split(X, y, test_size=0.3, random_state=3)"
   ]
  },
  {
   "cell_type": "code",
   "execution_count": 44,
   "metadata": {},
   "outputs": [
    {
     "data": {
      "text/plain": [
       "DecisionTreeClassifier(class_weight=None, criterion='entropy', max_depth=4,\n",
       "                       max_features=None, max_leaf_nodes=None,\n",
       "                       min_impurity_decrease=0.0, min_impurity_split=None,\n",
       "                       min_samples_leaf=1, min_samples_split=2,\n",
       "                       min_weight_fraction_leaf=0.0, presort=False,\n",
       "                       random_state=None, splitter='best')"
      ]
     },
     "execution_count": 44,
     "metadata": {},
     "output_type": "execute_result"
    }
   ],
   "source": [
    "from sklearn.tree import DecisionTreeClassifier\n",
    "LoanTree = DecisionTreeClassifier(criterion=\"entropy\", max_depth = 4)\n",
    "LoanTree"
   ]
  },
  {
   "cell_type": "code",
   "execution_count": 47,
   "metadata": {},
   "outputs": [
    {
     "data": {
      "text/plain": [
       "DecisionTreeClassifier(class_weight=None, criterion='entropy', max_depth=4,\n",
       "                       max_features=None, max_leaf_nodes=None,\n",
       "                       min_impurity_decrease=0.0, min_impurity_split=None,\n",
       "                       min_samples_leaf=1, min_samples_split=2,\n",
       "                       min_weight_fraction_leaf=0.0, presort=False,\n",
       "                       random_state=None, splitter='best')"
      ]
     },
     "execution_count": 47,
     "metadata": {},
     "output_type": "execute_result"
    }
   ],
   "source": [
    "LoanTree.fit(X_trainset,y_trainset)"
   ]
  },
  {
   "cell_type": "code",
   "execution_count": 48,
   "metadata": {},
   "outputs": [],
   "source": [
    "predTree = LoanTree.predict(X_testset)"
   ]
  },
  {
   "cell_type": "code",
   "execution_count": 49,
   "metadata": {},
   "outputs": [
    {
     "name": "stdout",
     "output_type": "stream",
     "text": [
      "['PAIDOFF' 'PAIDOFF' 'PAIDOFF' 'PAIDOFF' 'PAIDOFF']\n",
      "['PAIDOFF' 'PAIDOFF' 'COLLECTION' 'COLLECTION' 'PAIDOFF']\n"
     ]
    }
   ],
   "source": [
    "print (predTree [0:5])\n",
    "print (y_testset [0:5])"
   ]
  },
  {
   "cell_type": "code",
   "execution_count": 50,
   "metadata": {},
   "outputs": [
    {
     "name": "stdout",
     "output_type": "stream",
     "text": [
      "DecisionTrees's Accuracy:  0.6538461538461539\n"
     ]
    }
   ],
   "source": [
    "from sklearn import metrics\n",
    "import matplotlib.pyplot as plt\n",
    "print(\"DecisionTrees's Accuracy: \", metrics.accuracy_score(y_testset, predTree))"
   ]
  },
  {
   "cell_type": "code",
   "execution_count": 129,
   "metadata": {},
   "outputs": [
    {
     "data": {
      "text/plain": [
       "(104, 8)"
      ]
     },
     "execution_count": 129,
     "metadata": {},
     "output_type": "execute_result"
    }
   ],
   "source": [
    "X_testset.shape"
   ]
  },
  {
   "cell_type": "code",
   "execution_count": 51,
   "metadata": {
    "collapsed": true
   },
   "outputs": [
    {
     "name": "stdout",
     "output_type": "stream",
     "text": [
      "Collecting package metadata (current_repodata.json): ...working... done\n",
      "Solving environment: ...working... done\n",
      "\n",
      "## Package Plan ##\n",
      "\n",
      "  environment location: C:\\Users\\DELL\\Anaconda3\n",
      "\n",
      "  added / updated specs:\n",
      "    - pydotplus\n",
      "\n",
      "\n",
      "The following packages will be downloaded:\n",
      "\n",
      "    package                    |            build\n",
      "    ---------------------------|-----------------\n",
      "    graphviz-2.38.0            |    h6538335_1011        41.0 MB  conda-forge\n",
      "    pydotplus-2.0.2            |             py_2          23 KB  conda-forge\n",
      "    ------------------------------------------------------------\n",
      "                                           Total:        41.0 MB\n",
      "\n",
      "The following NEW packages will be INSTALLED:\n",
      "\n",
      "  graphviz           conda-forge/win-64::graphviz-2.38.0-h6538335_1011\n",
      "  pydotplus          conda-forge/noarch::pydotplus-2.0.2-py_2\n",
      "\n",
      "The following packages will be UPDATED:\n",
      "\n",
      "  ca-certificates      anaconda::ca-certificates-2020.1.1-0 --> conda-forge::ca-certificates-2020.4.5.1-hecc5488_0\n",
      "  conda                        anaconda::conda-4.8.3-py37_0 --> conda-forge::conda-4.8.3-py37hc8dfbb8_1\n",
      "\n",
      "The following packages will be SUPERSEDED by a higher-priority channel:\n",
      "\n",
      "  certifi               anaconda::certifi-2020.4.5.1-py37_0 --> conda-forge::certifi-2020.4.5.1-py37hc8dfbb8_0\n",
      "\n",
      "\n",
      "\n",
      "Downloading and Extracting Packages\n",
      "\n",
      "graphviz-2.38.0      | 41.0 MB   |            |   0% \n",
      "graphviz-2.38.0      | 41.0 MB   |            |   0% \n",
      "graphviz-2.38.0      | 41.0 MB   |            |   0% \n",
      "graphviz-2.38.0      | 41.0 MB   |            |   0% \n",
      "graphviz-2.38.0      | 41.0 MB   |            |   0% \n",
      "graphviz-2.38.0      | 41.0 MB   |            |   1% \n",
      "graphviz-2.38.0      | 41.0 MB   |            |   1% \n",
      "graphviz-2.38.0      | 41.0 MB   |            |   1% \n",
      "graphviz-2.38.0      | 41.0 MB   |            |   1% \n",
      "graphviz-2.38.0      | 41.0 MB   | 1          |   1% \n",
      "graphviz-2.38.0      | 41.0 MB   | 1          |   1% \n",
      "graphviz-2.38.0      | 41.0 MB   | 1          |   1% \n",
      "graphviz-2.38.0      | 41.0 MB   | 1          |   1% \n",
      "graphviz-2.38.0      | 41.0 MB   | 1          |   2% \n",
      "graphviz-2.38.0      | 41.0 MB   | 1          |   2% \n",
      "graphviz-2.38.0      | 41.0 MB   | 1          |   2% \n",
      "graphviz-2.38.0      | 41.0 MB   | 1          |   2% \n",
      "graphviz-2.38.0      | 41.0 MB   | 2          |   2% \n",
      "graphviz-2.38.0      | 41.0 MB   | 2          |   2% \n",
      "graphviz-2.38.0      | 41.0 MB   | 2          |   3% \n",
      "graphviz-2.38.0      | 41.0 MB   | 2          |   3% \n",
      "graphviz-2.38.0      | 41.0 MB   | 2          |   3% \n",
      "graphviz-2.38.0      | 41.0 MB   | 3          |   3% \n",
      "graphviz-2.38.0      | 41.0 MB   | 3          |   3% \n",
      "graphviz-2.38.0      | 41.0 MB   | 3          |   4% \n",
      "graphviz-2.38.0      | 41.0 MB   | 3          |   4% \n",
      "graphviz-2.38.0      | 41.0 MB   | 4          |   4% \n",
      "graphviz-2.38.0      | 41.0 MB   | 4          |   4% \n",
      "graphviz-2.38.0      | 41.0 MB   | 4          |   4% \n",
      "graphviz-2.38.0      | 41.0 MB   | 4          |   5% \n",
      "graphviz-2.38.0      | 41.0 MB   | 4          |   5% \n",
      "graphviz-2.38.0      | 41.0 MB   | 4          |   5% \n",
      "graphviz-2.38.0      | 41.0 MB   | 5          |   5% \n",
      "graphviz-2.38.0      | 41.0 MB   | 5          |   5% \n",
      "graphviz-2.38.0      | 41.0 MB   | 5          |   5% \n",
      "graphviz-2.38.0      | 41.0 MB   | 5          |   5% \n",
      "graphviz-2.38.0      | 41.0 MB   | 5          |   6% \n",
      "graphviz-2.38.0      | 41.0 MB   | 5          |   6% \n",
      "graphviz-2.38.0      | 41.0 MB   | 5          |   6% \n",
      "graphviz-2.38.0      | 41.0 MB   | 5          |   6% \n",
      "graphviz-2.38.0      | 41.0 MB   | 6          |   6% \n",
      "graphviz-2.38.0      | 41.0 MB   | 6          |   6% \n",
      "graphviz-2.38.0      | 41.0 MB   | 6          |   6% \n",
      "graphviz-2.38.0      | 41.0 MB   | 6          |   7% \n",
      "graphviz-2.38.0      | 41.0 MB   | 6          |   7% \n",
      "graphviz-2.38.0      | 41.0 MB   | 6          |   7% \n",
      "graphviz-2.38.0      | 41.0 MB   | 6          |   7% \n",
      "graphviz-2.38.0      | 41.0 MB   | 7          |   7% \n",
      "graphviz-2.38.0      | 41.0 MB   | 7          |   7% \n",
      "graphviz-2.38.0      | 41.0 MB   | 7          |   7% \n",
      "graphviz-2.38.0      | 41.0 MB   | 7          |   8% \n",
      "graphviz-2.38.0      | 41.0 MB   | 7          |   8% \n",
      "graphviz-2.38.0      | 41.0 MB   | 7          |   8% \n",
      "graphviz-2.38.0      | 41.0 MB   | 8          |   8% \n",
      "graphviz-2.38.0      | 41.0 MB   | 8          |   8% \n",
      "graphviz-2.38.0      | 41.0 MB   | 8          |   8% \n",
      "graphviz-2.38.0      | 41.0 MB   | 8          |   9% \n",
      "graphviz-2.38.0      | 41.0 MB   | 8          |   9% \n",
      "graphviz-2.38.0      | 41.0 MB   | 8          |   9% \n",
      "graphviz-2.38.0      | 41.0 MB   | 9          |   9% \n",
      "graphviz-2.38.0      | 41.0 MB   | 9          |   9% \n",
      "graphviz-2.38.0      | 41.0 MB   | 9          |   9% \n",
      "graphviz-2.38.0      | 41.0 MB   | 9          |   9% \n",
      "graphviz-2.38.0      | 41.0 MB   | #          |  10% \n",
      "graphviz-2.38.0      | 41.0 MB   | #          |  10% \n",
      "graphviz-2.38.0      | 41.0 MB   | #          |  11% \n",
      "graphviz-2.38.0      | 41.0 MB   | #          |  11% \n",
      "graphviz-2.38.0      | 41.0 MB   | #1         |  11% \n",
      "graphviz-2.38.0      | 41.0 MB   | #1         |  11% \n",
      "graphviz-2.38.0      | 41.0 MB   | #1         |  11% \n",
      "graphviz-2.38.0      | 41.0 MB   | #1         |  12% \n",
      "graphviz-2.38.0      | 41.0 MB   | #1         |  12% \n",
      "graphviz-2.38.0      | 41.0 MB   | #1         |  12% \n",
      "graphviz-2.38.0      | 41.0 MB   | #2         |  12% \n",
      "graphviz-2.38.0      | 41.0 MB   | #2         |  12% \n",
      "graphviz-2.38.0      | 41.0 MB   | #2         |  12% \n",
      "graphviz-2.38.0      | 41.0 MB   | #2         |  13% \n",
      "graphviz-2.38.0      | 41.0 MB   | #2         |  13% \n",
      "graphviz-2.38.0      | 41.0 MB   | #3         |  13% \n",
      "graphviz-2.38.0      | 41.0 MB   | #3         |  13% \n",
      "graphviz-2.38.0      | 41.0 MB   | #3         |  13% \n",
      "graphviz-2.38.0      | 41.0 MB   | #3         |  14% \n",
      "graphviz-2.38.0      | 41.0 MB   | #3         |  14% \n",
      "graphviz-2.38.0      | 41.0 MB   | #3         |  14% \n",
      "graphviz-2.38.0      | 41.0 MB   | #4         |  14% \n",
      "graphviz-2.38.0      | 41.0 MB   | #4         |  14% \n",
      "graphviz-2.38.0      | 41.0 MB   | #4         |  15% \n",
      "graphviz-2.38.0      | 41.0 MB   | #4         |  15% \n",
      "graphviz-2.38.0      | 41.0 MB   | #5         |  15% \n",
      "graphviz-2.38.0      | 41.0 MB   | #5         |  16% \n",
      "graphviz-2.38.0      | 41.0 MB   | #5         |  16% \n",
      "graphviz-2.38.0      | 41.0 MB   | #6         |  16% \n",
      "graphviz-2.38.0      | 41.0 MB   | #6         |  17% \n",
      "graphviz-2.38.0      | 41.0 MB   | #7         |  17% \n",
      "graphviz-2.38.0      | 41.0 MB   | #7         |  18% \n",
      "graphviz-2.38.0      | 41.0 MB   | #8         |  18% \n",
      "graphviz-2.38.0      | 41.0 MB   | #8         |  19% \n",
      "graphviz-2.38.0      | 41.0 MB   | #8         |  19% \n",
      "graphviz-2.38.0      | 41.0 MB   | #9         |  19% \n",
      "graphviz-2.38.0      | 41.0 MB   | #9         |  20% \n",
      "graphviz-2.38.0      | 41.0 MB   | ##         |  20% \n",
      "graphviz-2.38.0      | 41.0 MB   | ##         |  21% \n",
      "graphviz-2.38.0      | 41.0 MB   | ##         |  21% \n",
      "graphviz-2.38.0      | 41.0 MB   | ##1        |  21% \n",
      "graphviz-2.38.0      | 41.0 MB   | ##2        |  22% \n",
      "graphviz-2.38.0      | 41.0 MB   | ##2        |  23% \n",
      "graphviz-2.38.0      | 41.0 MB   | ##3        |  23% \n",
      "graphviz-2.38.0      | 41.0 MB   | ##3        |  24% \n",
      "graphviz-2.38.0      | 41.0 MB   | ##3        |  24% \n",
      "graphviz-2.38.0      | 41.0 MB   | ##4        |  24% \n",
      "graphviz-2.38.0      | 41.0 MB   | ##4        |  24% \n",
      "graphviz-2.38.0      | 41.0 MB   | ##4        |  25% \n",
      "graphviz-2.38.0      | 41.0 MB   | ##4        |  25% \n",
      "graphviz-2.38.0      | 41.0 MB   | ##5        |  25% \n",
      "graphviz-2.38.0      | 41.0 MB   | ##5        |  25% \n",
      "graphviz-2.38.0      | 41.0 MB   | ##5        |  25% \n",
      "graphviz-2.38.0      | 41.0 MB   | ##5        |  26% \n",
      "graphviz-2.38.0      | 41.0 MB   | ##5        |  26% \n",
      "graphviz-2.38.0      | 41.0 MB   | ##5        |  26% \n",
      "graphviz-2.38.0      | 41.0 MB   | ##6        |  26% \n",
      "graphviz-2.38.0      | 41.0 MB   | ##6        |  26% \n",
      "graphviz-2.38.0      | 41.0 MB   | ##6        |  26% \n",
      "graphviz-2.38.0      | 41.0 MB   | ##6        |  27% \n",
      "graphviz-2.38.0      | 41.0 MB   | ##6        |  27% \n",
      "graphviz-2.38.0      | 41.0 MB   | ##7        |  27% \n",
      "graphviz-2.38.0      | 41.0 MB   | ##7        |  27% \n",
      "graphviz-2.38.0      | 41.0 MB   | ##7        |  27% \n",
      "graphviz-2.38.0      | 41.0 MB   | ##7        |  28% \n",
      "graphviz-2.38.0      | 41.0 MB   | ##7        |  28% \n",
      "graphviz-2.38.0      | 41.0 MB   | ##8        |  28% \n",
      "graphviz-2.38.0      | 41.0 MB   | ##8        |  28% \n",
      "graphviz-2.38.0      | 41.0 MB   | ##8        |  29% \n",
      "graphviz-2.38.0      | 41.0 MB   | ##8        |  29% \n",
      "graphviz-2.38.0      | 41.0 MB   | ##8        |  29% \n",
      "graphviz-2.38.0      | 41.0 MB   | ##9        |  29% \n",
      "graphviz-2.38.0      | 41.0 MB   | ##9        |  29% \n",
      "graphviz-2.38.0      | 41.0 MB   | ##9        |  30% \n",
      "graphviz-2.38.0      | 41.0 MB   | ##9        |  30% \n",
      "graphviz-2.38.0      | 41.0 MB   | ##9        |  30% \n",
      "graphviz-2.38.0      | 41.0 MB   | ###        |  30% \n",
      "graphviz-2.38.0      | 41.0 MB   | ###        |  30% \n",
      "graphviz-2.38.0      | 41.0 MB   | ###        |  30% \n",
      "graphviz-2.38.0      | 41.0 MB   | ###        |  30% \n",
      "graphviz-2.38.0      | 41.0 MB   | ###        |  31% \n",
      "graphviz-2.38.0      | 41.0 MB   | ###        |  31% \n",
      "graphviz-2.38.0      | 41.0 MB   | ###        |  31% \n",
      "graphviz-2.38.0      | 41.0 MB   | ###1       |  31% \n",
      "graphviz-2.38.0      | 41.0 MB   | ###1       |  31% \n",
      "graphviz-2.38.0      | 41.0 MB   | ###1       |  31% \n",
      "graphviz-2.38.0      | 41.0 MB   | ###1       |  32% \n",
      "graphviz-2.38.0      | 41.0 MB   | ###1       |  32% \n",
      "graphviz-2.38.0      | 41.0 MB   | ###1       |  32% \n",
      "graphviz-2.38.0      | 41.0 MB   | ###2       |  32% \n",
      "graphviz-2.38.0      | 41.0 MB   | ###2       |  32% \n",
      "graphviz-2.38.0      | 41.0 MB   | ###2       |  33% \n",
      "graphviz-2.38.0      | 41.0 MB   | ###2       |  33% \n",
      "graphviz-2.38.0      | 41.0 MB   | ###2       |  33% \n",
      "graphviz-2.38.0      | 41.0 MB   | ###3       |  33% \n",
      "graphviz-2.38.0      | 41.0 MB   | ###3       |  33% \n",
      "graphviz-2.38.0      | 41.0 MB   | ###3       |  33% \n",
      "graphviz-2.38.0      | 41.0 MB   | ###3       |  34% \n",
      "graphviz-2.38.0      | 41.0 MB   | ###3       |  34% \n",
      "graphviz-2.38.0      | 41.0 MB   | ###4       |  34% \n",
      "graphviz-2.38.0      | 41.0 MB   | ###4       |  34% \n",
      "graphviz-2.38.0      | 41.0 MB   | ###4       |  34% \n",
      "graphviz-2.38.0      | 41.0 MB   | ###4       |  35% \n",
      "graphviz-2.38.0      | 41.0 MB   | ###4       |  35% \n",
      "graphviz-2.38.0      | 41.0 MB   | ###4       |  35% \n",
      "graphviz-2.38.0      | 41.0 MB   | ###5       |  35% \n",
      "graphviz-2.38.0      | 41.0 MB   | ###5       |  35% \n",
      "graphviz-2.38.0      | 41.0 MB   | ###5       |  36% \n",
      "graphviz-2.38.0      | 41.0 MB   | ###5       |  36% \n",
      "graphviz-2.38.0      | 41.0 MB   | ###5       |  36% \n",
      "graphviz-2.38.0      | 41.0 MB   | ###5       |  36% \n",
      "graphviz-2.38.0      | 41.0 MB   | ###6       |  36% \n",
      "graphviz-2.38.0      | 41.0 MB   | ###6       |  36% \n",
      "graphviz-2.38.0      | 41.0 MB   | ###6       |  36% \n",
      "graphviz-2.38.0      | 41.0 MB   | ###6       |  37% \n",
      "graphviz-2.38.0      | 41.0 MB   | ###6       |  37% \n",
      "graphviz-2.38.0      | 41.0 MB   | ###6       |  37% \n",
      "graphviz-2.38.0      | 41.0 MB   | ###7       |  37% \n",
      "graphviz-2.38.0      | 41.0 MB   | ###7       |  37% \n",
      "graphviz-2.38.0      | 41.0 MB   | ###7       |  37% \n",
      "graphviz-2.38.0      | 41.0 MB   | ###7       |  37% \n",
      "graphviz-2.38.0      | 41.0 MB   | ###7       |  38% \n",
      "graphviz-2.38.0      | 41.0 MB   | ###7       |  38% \n",
      "graphviz-2.38.0      | 41.0 MB   | ###7       |  38% \n",
      "graphviz-2.38.0      | 41.0 MB   | ###8       |  38% \n",
      "graphviz-2.38.0      | 41.0 MB   | ###8       |  38% \n",
      "graphviz-2.38.0      | 41.0 MB   | ###8       |  39% \n",
      "graphviz-2.38.0      | 41.0 MB   | ###8       |  39% \n",
      "graphviz-2.38.0      | 41.0 MB   | ###8       |  39% \n",
      "graphviz-2.38.0      | 41.0 MB   | ###9       |  39% \n",
      "graphviz-2.38.0      | 41.0 MB   | ###9       |  39% \n",
      "graphviz-2.38.0      | 41.0 MB   | ###9       |  39% \n",
      "graphviz-2.38.0      | 41.0 MB   | ###9       |  40% \n",
      "graphviz-2.38.0      | 41.0 MB   | ###9       |  40% \n",
      "graphviz-2.38.0      | 41.0 MB   | ####       |  40% \n",
      "graphviz-2.38.0      | 41.0 MB   | ####       |  40% \n",
      "graphviz-2.38.0      | 41.0 MB   | ####       |  40% \n",
      "graphviz-2.38.0      | 41.0 MB   | ####       |  41% \n",
      "graphviz-2.38.0      | 41.0 MB   | ####       |  41% \n",
      "graphviz-2.38.0      | 41.0 MB   | ####       |  41% \n",
      "graphviz-2.38.0      | 41.0 MB   | ####1      |  41% \n",
      "graphviz-2.38.0      | 41.0 MB   | ####1      |  41% \n",
      "graphviz-2.38.0      | 41.0 MB   | ####1      |  41% \n",
      "graphviz-2.38.0      | 41.0 MB   | ####1      |  42% \n",
      "graphviz-2.38.0      | 41.0 MB   | ####1      |  42% \n",
      "graphviz-2.38.0      | 41.0 MB   | ####1      |  42% \n",
      "graphviz-2.38.0      | 41.0 MB   | ####1      |  42% \n",
      "graphviz-2.38.0      | 41.0 MB   | ####2      |  42% \n",
      "graphviz-2.38.0      | 41.0 MB   | ####2      |  42% \n",
      "graphviz-2.38.0      | 41.0 MB   | ####2      |  42% \n",
      "graphviz-2.38.0      | 41.0 MB   | ####2      |  43% \n",
      "graphviz-2.38.0      | 41.0 MB   | ####2      |  43% \n",
      "graphviz-2.38.0      | 41.0 MB   | ####2      |  43% \n",
      "graphviz-2.38.0      | 41.0 MB   | ####3      |  43% \n",
      "graphviz-2.38.0      | 41.0 MB   | ####3      |  43% \n",
      "graphviz-2.38.0      | 41.0 MB   | ####3      |  43% \n",
      "graphviz-2.38.0      | 41.0 MB   | ####3      |  44% \n",
      "graphviz-2.38.0      | 41.0 MB   | ####3      |  44% \n",
      "graphviz-2.38.0      | 41.0 MB   | ####3      |  44% \n",
      "graphviz-2.38.0      | 41.0 MB   | ####3      |  44% \n",
      "graphviz-2.38.0      | 41.0 MB   | ####4      |  44% \n",
      "graphviz-2.38.0      | 41.0 MB   | ####4      |  44% \n",
      "graphviz-2.38.0      | 41.0 MB   | ####4      |  44% \n",
      "graphviz-2.38.0      | 41.0 MB   | ####4      |  45% \n",
      "graphviz-2.38.0      | 41.0 MB   | ####4      |  45% \n",
      "graphviz-2.38.0      | 41.0 MB   | ####4      |  45% \n",
      "graphviz-2.38.0      | 41.0 MB   | ####5      |  45% \n",
      "graphviz-2.38.0      | 41.0 MB   | ####5      |  45% \n",
      "graphviz-2.38.0      | 41.0 MB   | ####5      |  45% \n",
      "graphviz-2.38.0      | 41.0 MB   | ####5      |  46% \n",
      "graphviz-2.38.0      | 41.0 MB   | ####5      |  46% \n",
      "graphviz-2.38.0      | 41.0 MB   | ####5      |  46% \n",
      "graphviz-2.38.0      | 41.0 MB   | ####6      |  46% \n",
      "graphviz-2.38.0      | 41.0 MB   | ####6      |  46% \n",
      "graphviz-2.38.0      | 41.0 MB   | ####6      |  46% \n",
      "graphviz-2.38.0      | 41.0 MB   | ####6      |  47% \n",
      "graphviz-2.38.0      | 41.0 MB   | ####6      |  47% \n",
      "graphviz-2.38.0      | 41.0 MB   | ####6      |  47% \n",
      "graphviz-2.38.0      | 41.0 MB   | ####6      |  47% \n",
      "graphviz-2.38.0      | 41.0 MB   | ####7      |  47% \n",
      "graphviz-2.38.0      | 41.0 MB   | ####7      |  47% \n",
      "graphviz-2.38.0      | 41.0 MB   | ####7      |  47% \n",
      "graphviz-2.38.0      | 41.0 MB   | ####7      |  47% \n",
      "graphviz-2.38.0      | 41.0 MB   | ####7      |  48% \n",
      "graphviz-2.38.0      | 41.0 MB   | ####7      |  48% \n",
      "graphviz-2.38.0      | 41.0 MB   | ####7      |  48% \n",
      "graphviz-2.38.0      | 41.0 MB   | ####7      |  48% \n",
      "graphviz-2.38.0      | 41.0 MB   | ####8      |  48% \n",
      "graphviz-2.38.0      | 41.0 MB   | ####8      |  48% \n",
      "graphviz-2.38.0      | 41.0 MB   | ####8      |  48% \n",
      "graphviz-2.38.0      | 41.0 MB   | ####8      |  49% \n",
      "graphviz-2.38.0      | 41.0 MB   | ####8      |  49% \n",
      "graphviz-2.38.0      | 41.0 MB   | ####8      |  49% \n",
      "graphviz-2.38.0      | 41.0 MB   | ####9      |  49% \n",
      "graphviz-2.38.0      | 41.0 MB   | ####9      |  49% \n",
      "graphviz-2.38.0      | 41.0 MB   | ####9      |  49% \n",
      "graphviz-2.38.0      | 41.0 MB   | ####9      |  50% \n",
      "graphviz-2.38.0      | 41.0 MB   | ####9      |  50% \n",
      "graphviz-2.38.0      | 41.0 MB   | ####9      |  50% \n",
      "graphviz-2.38.0      | 41.0 MB   | ####9      |  50% \n",
      "graphviz-2.38.0      | 41.0 MB   | #####      |  50% \n",
      "graphviz-2.38.0      | 41.0 MB   | #####      |  50% \n",
      "graphviz-2.38.0      | 41.0 MB   | #####      |  50% \n",
      "graphviz-2.38.0      | 41.0 MB   | #####      |  51% \n",
      "graphviz-2.38.0      | 41.0 MB   | #####      |  51% \n",
      "graphviz-2.38.0      | 41.0 MB   | #####      |  51% \n",
      "graphviz-2.38.0      | 41.0 MB   | #####1     |  51% \n",
      "graphviz-2.38.0      | 41.0 MB   | #####1     |  51% \n",
      "graphviz-2.38.0      | 41.0 MB   | #####1     |  51% \n",
      "graphviz-2.38.0      | 41.0 MB   | #####1     |  52% \n",
      "graphviz-2.38.0      | 41.0 MB   | #####1     |  52% \n",
      "graphviz-2.38.0      | 41.0 MB   | #####2     |  52% \n",
      "graphviz-2.38.0      | 41.0 MB   | #####2     |  52% \n",
      "graphviz-2.38.0      | 41.0 MB   | #####2     |  52% \n",
      "graphviz-2.38.0      | 41.0 MB   | #####2     |  53% \n",
      "graphviz-2.38.0      | 41.0 MB   | #####2     |  53% \n",
      "graphviz-2.38.0      | 41.0 MB   | #####3     |  53% \n",
      "graphviz-2.38.0      | 41.0 MB   | #####3     |  53% \n",
      "graphviz-2.38.0      | 41.0 MB   | #####3     |  54% \n",
      "graphviz-2.38.0      | 41.0 MB   | #####3     |  54% \n",
      "graphviz-2.38.0      | 41.0 MB   | #####4     |  54% \n",
      "graphviz-2.38.0      | 41.0 MB   | #####4     |  55% \n",
      "graphviz-2.38.0      | 41.0 MB   | #####4     |  55% \n",
      "graphviz-2.38.0      | 41.0 MB   | #####5     |  55% \n",
      "graphviz-2.38.0      | 41.0 MB   | #####5     |  56% \n",
      "graphviz-2.38.0      | 41.0 MB   | #####6     |  56% \n",
      "graphviz-2.38.0      | 41.0 MB   | #####6     |  56% \n",
      "graphviz-2.38.0      | 41.0 MB   | #####6     |  57% \n",
      "graphviz-2.38.0      | 41.0 MB   | #####6     |  57% \n",
      "graphviz-2.38.0      | 41.0 MB   | #####7     |  57% \n",
      "graphviz-2.38.0      | 41.0 MB   | #####7     |  57% \n",
      "graphviz-2.38.0      | 41.0 MB   | #####7     |  58% \n",
      "graphviz-2.38.0      | 41.0 MB   | #####7     |  58% \n",
      "graphviz-2.38.0      | 41.0 MB   | #####8     |  58% \n",
      "graphviz-2.38.0      | 41.0 MB   | #####8     |  58% \n",
      "graphviz-2.38.0      | 41.0 MB   | #####8     |  59% \n",
      "graphviz-2.38.0      | 41.0 MB   | #####8     |  59% \n",
      "graphviz-2.38.0      | 41.0 MB   | #####8     |  59% \n",
      "graphviz-2.38.0      | 41.0 MB   | #####9     |  59% \n",
      "graphviz-2.38.0      | 41.0 MB   | #####9     |  59% \n",
      "graphviz-2.38.0      | 41.0 MB   | #####9     |  60% \n",
      "graphviz-2.38.0      | 41.0 MB   | #####9     |  60% \n",
      "graphviz-2.38.0      | 41.0 MB   | ######     |  60% \n",
      "graphviz-2.38.0      | 41.0 MB   | ######     |  60% \n",
      "graphviz-2.38.0      | 41.0 MB   | ######     |  61% \n",
      "graphviz-2.38.0      | 41.0 MB   | ######     |  61% \n",
      "graphviz-2.38.0      | 41.0 MB   | ######1    |  61% \n",
      "graphviz-2.38.0      | 41.0 MB   | ######1    |  61% \n",
      "graphviz-2.38.0      | 41.0 MB   | ######1    |  61% \n",
      "graphviz-2.38.0      | 41.0 MB   | ######1    |  62% \n",
      "graphviz-2.38.0      | 41.0 MB   | ######1    |  62% \n",
      "graphviz-2.38.0      | 41.0 MB   | ######1    |  62% \n",
      "graphviz-2.38.0      | 41.0 MB   | ######2    |  62% \n",
      "graphviz-2.38.0      | 41.0 MB   | ######2    |  62% \n",
      "graphviz-2.38.0      | 41.0 MB   | ######2    |  62% \n",
      "graphviz-2.38.0      | 41.0 MB   | ######2    |  63% \n",
      "graphviz-2.38.0      | 41.0 MB   | ######2    |  63% \n",
      "graphviz-2.38.0      | 41.0 MB   | ######2    |  63% \n",
      "graphviz-2.38.0      | 41.0 MB   | ######3    |  63% \n",
      "graphviz-2.38.0      | 41.0 MB   | ######3    |  63% \n",
      "graphviz-2.38.0      | 41.0 MB   | ######3    |  63% \n",
      "graphviz-2.38.0      | 41.0 MB   | ######3    |  63% \n",
      "graphviz-2.38.0      | 41.0 MB   | ######3    |  64% \n",
      "graphviz-2.38.0      | 41.0 MB   | ######3    |  64% \n",
      "graphviz-2.38.0      | 41.0 MB   | ######4    |  64% \n",
      "graphviz-2.38.0      | 41.0 MB   | ######4    |  64% \n",
      "graphviz-2.38.0      | 41.0 MB   | ######4    |  65% \n",
      "graphviz-2.38.0      | 41.0 MB   | ######4    |  65% \n",
      "graphviz-2.38.0      | 41.0 MB   | ######4    |  65% \n",
      "graphviz-2.38.0      | 41.0 MB   | ######5    |  65% \n",
      "graphviz-2.38.0      | 41.0 MB   | ######5    |  65% \n",
      "graphviz-2.38.0      | 41.0 MB   | ######5    |  66% \n",
      "graphviz-2.38.0      | 41.0 MB   | ######5    |  66% \n",
      "graphviz-2.38.0      | 41.0 MB   | ######6    |  66% \n",
      "graphviz-2.38.0      | 41.0 MB   | ######6    |  66% \n",
      "graphviz-2.38.0      | 41.0 MB   | ######6    |  66% \n",
      "graphviz-2.38.0      | 41.0 MB   | ######6    |  67% \n",
      "graphviz-2.38.0      | 41.0 MB   | ######6    |  67% \n",
      "graphviz-2.38.0      | 41.0 MB   | ######7    |  67% \n",
      "graphviz-2.38.0      | 41.0 MB   | ######7    |  67% \n",
      "graphviz-2.38.0      | 41.0 MB   | ######7    |  68% \n",
      "graphviz-2.38.0      | 41.0 MB   | ######7    |  68% \n",
      "graphviz-2.38.0      | 41.0 MB   | ######8    |  68% \n",
      "graphviz-2.38.0      | 41.0 MB   | ######8    |  68% \n",
      "graphviz-2.38.0      | 41.0 MB   | ######8    |  69% \n",
      "graphviz-2.38.0      | 41.0 MB   | ######8    |  69% \n",
      "graphviz-2.38.0      | 41.0 MB   | ######9    |  69% \n",
      "graphviz-2.38.0      | 41.0 MB   | ######9    |  69% \n",
      "graphviz-2.38.0      | 41.0 MB   | ######9    |  69% \n",
      "graphviz-2.38.0      | 41.0 MB   | ######9    |  70% \n",
      "graphviz-2.38.0      | 41.0 MB   | ######9    |  70% \n",
      "graphviz-2.38.0      | 41.0 MB   | #######    |  70% \n",
      "graphviz-2.38.0      | 41.0 MB   | #######    |  70% \n",
      "graphviz-2.38.0      | 41.0 MB   | #######    |  71% \n",
      "graphviz-2.38.0      | 41.0 MB   | #######    |  71% \n",
      "graphviz-2.38.0      | 41.0 MB   | #######    |  71% \n",
      "graphviz-2.38.0      | 41.0 MB   | #######1   |  71% \n",
      "graphviz-2.38.0      | 41.0 MB   | #######1   |  71% \n",
      "graphviz-2.38.0      | 41.0 MB   | #######1   |  72% \n",
      "graphviz-2.38.0      | 41.0 MB   | #######1   |  72% \n",
      "graphviz-2.38.0      | 41.0 MB   | #######1   |  72% \n",
      "graphviz-2.38.0      | 41.0 MB   | #######2   |  72% \n",
      "graphviz-2.38.0      | 41.0 MB   | #######2   |  73% \n",
      "graphviz-2.38.0      | 41.0 MB   | #######2   |  73% \n",
      "graphviz-2.38.0      | 41.0 MB   | #######3   |  73% \n",
      "graphviz-2.38.0      | 41.0 MB   | #######3   |  73% \n",
      "graphviz-2.38.0      | 41.0 MB   | #######3   |  74% \n",
      "graphviz-2.38.0      | 41.0 MB   | #######3   |  74% \n",
      "graphviz-2.38.0      | 41.0 MB   | #######4   |  74% \n",
      "graphviz-2.38.0      | 41.0 MB   | #######4   |  74% \n",
      "graphviz-2.38.0      | 41.0 MB   | #######4   |  75% \n",
      "graphviz-2.38.0      | 41.0 MB   | #######4   |  75% \n",
      "graphviz-2.38.0      | 41.0 MB   | #######5   |  75% \n",
      "graphviz-2.38.0      | 41.0 MB   | #######5   |  75% \n",
      "graphviz-2.38.0      | 41.0 MB   | #######5   |  76% \n",
      "graphviz-2.38.0      | 41.0 MB   | #######5   |  76% \n",
      "graphviz-2.38.0      | 41.0 MB   | #######6   |  76% \n",
      "graphviz-2.38.0      | 41.0 MB   | #######6   |  76% \n",
      "graphviz-2.38.0      | 41.0 MB   | #######6   |  77% \n",
      "graphviz-2.38.0      | 41.0 MB   | #######6   |  77% \n",
      "graphviz-2.38.0      | 41.0 MB   | #######7   |  77% \n",
      "graphviz-2.38.0      | 41.0 MB   | #######7   |  77% \n",
      "graphviz-2.38.0      | 41.0 MB   | #######7   |  78% \n",
      "graphviz-2.38.0      | 41.0 MB   | #######7   |  78% \n",
      "graphviz-2.38.0      | 41.0 MB   | #######8   |  78% \n",
      "graphviz-2.38.0      | 41.0 MB   | #######8   |  78% \n",
      "graphviz-2.38.0      | 41.0 MB   | #######8   |  79% \n",
      "graphviz-2.38.0      | 41.0 MB   | #######8   |  79% \n",
      "graphviz-2.38.0      | 41.0 MB   | #######9   |  79% \n",
      "graphviz-2.38.0      | 41.0 MB   | #######9   |  79% \n",
      "graphviz-2.38.0      | 41.0 MB   | #######9   |  79% \n",
      "graphviz-2.38.0      | 41.0 MB   | #######9   |  80% \n",
      "graphviz-2.38.0      | 41.0 MB   | #######9   |  80% \n",
      "graphviz-2.38.0      | 41.0 MB   | ########   |  80% \n",
      "graphviz-2.38.0      | 41.0 MB   | ########   |  80% \n",
      "graphviz-2.38.0      | 41.0 MB   | ########   |  81% \n",
      "graphviz-2.38.0      | 41.0 MB   | ########   |  81% \n",
      "graphviz-2.38.0      | 41.0 MB   | ########1  |  81% \n",
      "graphviz-2.38.0      | 41.0 MB   | ########1  |  81% \n",
      "graphviz-2.38.0      | 41.0 MB   | ########1  |  81% \n",
      "graphviz-2.38.0      | 41.0 MB   | ########1  |  82% \n",
      "graphviz-2.38.0      | 41.0 MB   | ########1  |  82% \n",
      "graphviz-2.38.0      | 41.0 MB   | ########1  |  82% \n",
      "graphviz-2.38.0      | 41.0 MB   | ########2  |  82% \n",
      "graphviz-2.38.0      | 41.0 MB   | ########2  |  82% \n",
      "graphviz-2.38.0      | 41.0 MB   | ########2  |  82% \n",
      "graphviz-2.38.0      | 41.0 MB   | ########2  |  83% \n",
      "graphviz-2.38.0      | 41.0 MB   | ########2  |  83% \n",
      "graphviz-2.38.0      | 41.0 MB   | ########2  |  83% \n",
      "graphviz-2.38.0      | 41.0 MB   | ########2  |  83% \n",
      "graphviz-2.38.0      | 41.0 MB   | ########3  |  83% \n",
      "graphviz-2.38.0      | 41.0 MB   | ########3  |  83% \n",
      "graphviz-2.38.0      | 41.0 MB   | ########3  |  83% \n",
      "graphviz-2.38.0      | 41.0 MB   | ########3  |  83% \n",
      "graphviz-2.38.0      | 41.0 MB   | ########3  |  83% \n",
      "graphviz-2.38.0      | 41.0 MB   | ########3  |  84% \n",
      "graphviz-2.38.0      | 41.0 MB   | ########3  |  84% \n",
      "graphviz-2.38.0      | 41.0 MB   | ########3  |  84% \n",
      "graphviz-2.38.0      | 41.0 MB   | ########3  |  84% \n",
      "graphviz-2.38.0      | 41.0 MB   | ########4  |  84% \n",
      "graphviz-2.38.0      | 41.0 MB   | ########4  |  84% \n",
      "graphviz-2.38.0      | 41.0 MB   | ########4  |  84% \n",
      "graphviz-2.38.0      | 41.0 MB   | ########4  |  84% \n",
      "graphviz-2.38.0      | 41.0 MB   | ########4  |  85% \n",
      "graphviz-2.38.0      | 41.0 MB   | ########4  |  85% \n",
      "graphviz-2.38.0      | 41.0 MB   | ########4  |  85% \n",
      "graphviz-2.38.0      | 41.0 MB   | ########4  |  85% \n",
      "graphviz-2.38.0      | 41.0 MB   | ########4  |  85% \n",
      "graphviz-2.38.0      | 41.0 MB   | ########5  |  85% \n",
      "graphviz-2.38.0      | 41.0 MB   | ########5  |  85% \n",
      "graphviz-2.38.0      | 41.0 MB   | ########5  |  85% \n",
      "graphviz-2.38.0      | 41.0 MB   | ########5  |  85% \n",
      "graphviz-2.38.0      | 41.0 MB   | ########5  |  86% \n",
      "graphviz-2.38.0      | 41.0 MB   | ########5  |  86% \n",
      "graphviz-2.38.0      | 41.0 MB   | ########5  |  86% \n",
      "graphviz-2.38.0      | 41.0 MB   | ########5  |  86% \n",
      "graphviz-2.38.0      | 41.0 MB   | ########6  |  86% \n",
      "graphviz-2.38.0      | 41.0 MB   | ########6  |  86% \n",
      "graphviz-2.38.0      | 41.0 MB   | ########6  |  86% \n",
      "graphviz-2.38.0      | 41.0 MB   | ########6  |  86% \n",
      "graphviz-2.38.0      | 41.0 MB   | ########6  |  86% \n",
      "graphviz-2.38.0      | 41.0 MB   | ########6  |  87% \n",
      "graphviz-2.38.0      | 41.0 MB   | ########6  |  87% \n",
      "graphviz-2.38.0      | 41.0 MB   | ########6  |  87% \n",
      "graphviz-2.38.0      | 41.0 MB   | ########6  |  87% \n",
      "graphviz-2.38.0      | 41.0 MB   | ########7  |  87% \n",
      "graphviz-2.38.0      | 41.0 MB   | ########7  |  87% \n",
      "graphviz-2.38.0      | 41.0 MB   | ########7  |  87% \n",
      "graphviz-2.38.0      | 41.0 MB   | ########7  |  87% \n",
      "graphviz-2.38.0      | 41.0 MB   | ########7  |  88% \n",
      "graphviz-2.38.0      | 41.0 MB   | ########7  |  88% \n",
      "graphviz-2.38.0      | 41.0 MB   | ########7  |  88% \n",
      "graphviz-2.38.0      | 41.0 MB   | ########7  |  88% \n",
      "graphviz-2.38.0      | 41.0 MB   | ########8  |  88% \n",
      "graphviz-2.38.0      | 41.0 MB   | ########8  |  88% \n",
      "graphviz-2.38.0      | 41.0 MB   | ########8  |  88% \n",
      "graphviz-2.38.0      | 41.0 MB   | ########8  |  88% \n",
      "graphviz-2.38.0      | 41.0 MB   | ########8  |  89% \n",
      "graphviz-2.38.0      | 41.0 MB   | ########8  |  89% \n",
      "graphviz-2.38.0      | 41.0 MB   | ########8  |  89% \n",
      "graphviz-2.38.0      | 41.0 MB   | ########8  |  89% \n",
      "graphviz-2.38.0      | 41.0 MB   | ########9  |  89% \n",
      "graphviz-2.38.0      | 41.0 MB   | ########9  |  89% \n",
      "graphviz-2.38.0      | 41.0 MB   | ########9  |  89% \n",
      "graphviz-2.38.0      | 41.0 MB   | ########9  |  90% \n",
      "graphviz-2.38.0      | 41.0 MB   | ########9  |  90% \n",
      "graphviz-2.38.0      | 41.0 MB   | ########9  |  90% \n",
      "graphviz-2.38.0      | 41.0 MB   | #########  |  90% \n",
      "graphviz-2.38.0      | 41.0 MB   | #########  |  90% \n",
      "graphviz-2.38.0      | 41.0 MB   | #########  |  90% \n",
      "graphviz-2.38.0      | 41.0 MB   | #########  |  91% \n",
      "graphviz-2.38.0      | 41.0 MB   | #########  |  91% \n",
      "graphviz-2.38.0      | 41.0 MB   | #########  |  91% \n",
      "graphviz-2.38.0      | 41.0 MB   | #########  |  91% \n",
      "graphviz-2.38.0      | 41.0 MB   | #########1 |  91% \n",
      "graphviz-2.38.0      | 41.0 MB   | #########1 |  91% \n",
      "graphviz-2.38.0      | 41.0 MB   | #########1 |  91% \n",
      "graphviz-2.38.0      | 41.0 MB   | #########1 |  92% \n",
      "graphviz-2.38.0      | 41.0 MB   | #########1 |  92% \n",
      "graphviz-2.38.0      | 41.0 MB   | #########1 |  92% \n",
      "graphviz-2.38.0      | 41.0 MB   | #########2 |  92% \n",
      "graphviz-2.38.0      | 41.0 MB   | #########2 |  92% \n",
      "graphviz-2.38.0      | 41.0 MB   | #########2 |  92% \n",
      "graphviz-2.38.0      | 41.0 MB   | #########2 |  93% \n",
      "graphviz-2.38.0      | 41.0 MB   | #########2 |  93% \n",
      "graphviz-2.38.0      | 41.0 MB   | #########2 |  93% \n",
      "graphviz-2.38.0      | 41.0 MB   | #########2 |  93% \n",
      "graphviz-2.38.0      | 41.0 MB   | #########3 |  93% \n",
      "graphviz-2.38.0      | 41.0 MB   | #########3 |  93% \n",
      "graphviz-2.38.0      | 41.0 MB   | #########3 |  93% \n",
      "graphviz-2.38.0      | 41.0 MB   | #########3 |  93% \n",
      "graphviz-2.38.0      | 41.0 MB   | #########3 |  94% \n",
      "graphviz-2.38.0      | 41.0 MB   | #########3 |  94% \n",
      "graphviz-2.38.0      | 41.0 MB   | #########3 |  94% \n",
      "graphviz-2.38.0      | 41.0 MB   | #########3 |  94% \n",
      "graphviz-2.38.0      | 41.0 MB   | #########3 |  94% \n",
      "graphviz-2.38.0      | 41.0 MB   | #########4 |  94% \n",
      "graphviz-2.38.0      | 41.0 MB   | #########4 |  94% \n",
      "graphviz-2.38.0      | 41.0 MB   | #########4 |  94% \n",
      "graphviz-2.38.0      | 41.0 MB   | #########4 |  94% \n",
      "graphviz-2.38.0      | 41.0 MB   | #########4 |  95% \n",
      "graphviz-2.38.0      | 41.0 MB   | #########4 |  95% \n",
      "graphviz-2.38.0      | 41.0 MB   | #########4 |  95% \n",
      "graphviz-2.38.0      | 41.0 MB   | #########4 |  95% \n",
      "graphviz-2.38.0      | 41.0 MB   | #########5 |  95% \n",
      "graphviz-2.38.0      | 41.0 MB   | #########5 |  95% \n",
      "graphviz-2.38.0      | 41.0 MB   | #########5 |  95% \n",
      "graphviz-2.38.0      | 41.0 MB   | #########5 |  95% \n",
      "graphviz-2.38.0      | 41.0 MB   | #########5 |  96% \n",
      "graphviz-2.38.0      | 41.0 MB   | #########5 |  96% \n",
      "graphviz-2.38.0      | 41.0 MB   | #########5 |  96% \n",
      "graphviz-2.38.0      | 41.0 MB   | #########6 |  96% \n",
      "graphviz-2.38.0      | 41.0 MB   | #########6 |  96% \n",
      "graphviz-2.38.0      | 41.0 MB   | #########6 |  96% \n",
      "graphviz-2.38.0      | 41.0 MB   | #########6 |  97% \n",
      "graphviz-2.38.0      | 41.0 MB   | #########6 |  97% \n",
      "graphviz-2.38.0      | 41.0 MB   | #########7 |  97% \n",
      "graphviz-2.38.0      | 41.0 MB   | #########7 |  97% \n",
      "graphviz-2.38.0      | 41.0 MB   | #########7 |  97% \n",
      "graphviz-2.38.0      | 41.0 MB   | #########7 |  97% \n",
      "graphviz-2.38.0      | 41.0 MB   | #########7 |  98% \n",
      "graphviz-2.38.0      | 41.0 MB   | #########7 |  98% \n",
      "graphviz-2.38.0      | 41.0 MB   | #########7 |  98% \n",
      "graphviz-2.38.0      | 41.0 MB   | #########8 |  98% \n",
      "graphviz-2.38.0      | 41.0 MB   | #########8 |  98% \n",
      "graphviz-2.38.0      | 41.0 MB   | #########8 |  98% \n",
      "graphviz-2.38.0      | 41.0 MB   | #########8 |  99% \n",
      "graphviz-2.38.0      | 41.0 MB   | #########8 |  99% \n",
      "graphviz-2.38.0      | 41.0 MB   | #########8 |  99% \n",
      "graphviz-2.38.0      | 41.0 MB   | #########9 |  99% \n",
      "graphviz-2.38.0      | 41.0 MB   | #########9 |  99% \n",
      "graphviz-2.38.0      | 41.0 MB   | #########9 |  99% \n",
      "graphviz-2.38.0      | 41.0 MB   | #########9 | 100% \n",
      "graphviz-2.38.0      | 41.0 MB   | #########9 | 100% \n",
      "graphviz-2.38.0      | 41.0 MB   | #########9 | 100% \n",
      "graphviz-2.38.0      | 41.0 MB   | ########## | 100% \n",
      "\n",
      "pydotplus-2.0.2      | 23 KB     |            |   0% \n",
      "pydotplus-2.0.2      | 23 KB     | ######9    |  69% \n",
      "pydotplus-2.0.2      | 23 KB     | ########## | 100% \n",
      "Preparing transaction: ...working... done\n",
      "Verifying transaction: ...working... done\n",
      "Executing transaction: ...working... done\n"
     ]
    },
    {
     "name": "stdout",
     "output_type": "stream",
     "text": [
      "Collecting package metadata (current_repodata.json): ...working... done\n",
      "Solving environment: ...working... done\n",
      "\n",
      "## Package Plan ##\n",
      "\n",
      "  environment location: C:\\Users\\DELL\\Anaconda3\n",
      "\n",
      "  added / updated specs:\n",
      "    - python-graphviz\n",
      "\n",
      "\n",
      "The following packages will be downloaded:\n",
      "\n",
      "    package                    |            build\n",
      "    ---------------------------|-----------------\n",
      "    python-graphviz-0.13.2     |             py_0          18 KB  conda-forge\n",
      "    ------------------------------------------------------------\n",
      "                                           Total:          18 KB\n",
      "\n",
      "The following NEW packages will be INSTALLED:\n",
      "\n",
      "  python-graphviz    conda-forge/noarch::python-graphviz-0.13.2-py_0\n",
      "\n",
      "\n",
      "\n",
      "Downloading and Extracting Packages\n",
      "\n",
      "python-graphviz-0.13 | 18 KB     |            |   0% \n",
      "python-graphviz-0.13 | 18 KB     | ########8  |  88% \n",
      "python-graphviz-0.13 | 18 KB     | ########## | 100% \n",
      "Preparing transaction: ...working... done\n",
      "Verifying transaction: ...working... done\n",
      "Executing transaction: ...working... done\n",
      "Done\n"
     ]
    }
   ],
   "source": [
    "!conda install -c conda-forge pydotplus -y\n",
    "!conda install -c conda-forge python-graphviz -y\n",
    "print('Done')"
   ]
  },
  {
   "cell_type": "code",
   "execution_count": 52,
   "metadata": {},
   "outputs": [
    {
     "name": "stderr",
     "output_type": "stream",
     "text": [
      "C:\\Users\\DELL\\Anaconda3\\lib\\site-packages\\sklearn\\externals\\six.py:31: DeprecationWarning: The module is deprecated in version 0.21 and will be removed in version 0.23 since we've dropped support for Python 2.7. Please rely on the official version of six (https://pypi.org/project/six/).\n",
      "  \"(https://pypi.org/project/six/).\", DeprecationWarning)\n"
     ]
    }
   ],
   "source": [
    "from sklearn.externals.six import StringIO\n",
    "import pydotplus\n",
    "import matplotlib.image as mpimg\n",
    "from sklearn import tree\n",
    "%matplotlib inline "
   ]
  },
  {
   "cell_type": "code",
   "execution_count": 65,
   "metadata": {},
   "outputs": [
    {
     "data": {
      "text/plain": [
       "<matplotlib.image.AxesImage at 0x1ecdf7fff98>"
      ]
     },
     "execution_count": 65,
     "metadata": {},
     "output_type": "execute_result"
    },
    {
     "data": {
      "image/png": "[encoded data removed]",
      "text/plain": [
       "<Figure size 7200x14400 with 1 Axes>"
      ]
     },
     "metadata": {
      "needs_background": "light"
     },
     "output_type": "display_data"
    }
   ],
   "source": [
    "dot_data = StringIO()\n",
    "filename = \"Loantree.png\"\n",
    "featureNames = Feature.columns[0:8]\n",
    "targetNames = df[\"loan_status\"].unique().tolist()\n",
    "out=tree.export_graphviz(LoanTree,feature_names=featureNames, out_file=dot_data, class_names= np.unique(y_trainset), filled=True,  special_characters=True,rotate=False)  \n",
    "graph = pydotplus.graph_from_dot_data(dot_data.getvalue())  \n",
    "graph.write_png(filename)\n",
    "img = mpimg.imread(filename)\n",
    "plt.figure(figsize=(100, 200))\n",
    "plt.imshow(img,interpolation='nearest')"
   ]
  },
  {
   "cell_type": "markdown",
   "metadata": {},
   "source": [
    "## This is the decision tree we get with an accuracy of 65.38 %"
   ]
  },
  {
   "cell_type": "markdown",
   "metadata": {},
   "source": [
    "."
   ]
  },
  {
   "cell_type": "markdown",
   "metadata": {},
   "source": [
    "# Now lets find out through Logistic Regression:"
   ]
  },
  {
   "cell_type": "code",
   "execution_count": 66,
   "metadata": {},
   "outputs": [
    {
     "name": "stdout",
     "output_type": "stream",
     "text": [
      "Done\n"
     ]
    }
   ],
   "source": [
    "import pandas as pd\n",
    "import pylab as pl\n",
    "import numpy as np\n",
    "import scipy.optimize as opt\n",
    "from sklearn import preprocessing\n",
    "%matplotlib inline \n",
    "import matplotlib.pyplot as plt\n",
    "print('Done')"
   ]
  },
  {
   "cell_type": "code",
   "execution_count": 67,
   "metadata": {},
   "outputs": [
    {
     "data": {
      "text/plain": [
       "LogisticRegression(C=0.01, class_weight=None, dual=False, fit_intercept=True,\n",
       "                   intercept_scaling=1, l1_ratio=None, max_iter=100,\n",
       "                   multi_class='warn', n_jobs=None, penalty='l2',\n",
       "                   random_state=None, solver='liblinear', tol=0.0001, verbose=0,\n",
       "                   warm_start=False)"
      ]
     },
     "execution_count": 67,
     "metadata": {},
     "output_type": "execute_result"
    }
   ],
   "source": [
    "from sklearn.linear_model import LogisticRegression\n",
    "from sklearn.metrics import confusion_matrix\n",
    "LR = LogisticRegression(C=0.01, solver='liblinear').fit(X_train,y_train)\n",
    "LR"
   ]
  },
  {
   "cell_type": "code",
   "execution_count": 74,
   "metadata": {},
   "outputs": [],
   "source": [
    "yhat = np.where(yhat=='PAIDOFF', 0, yhat)"
   ]
  },
  {
   "cell_type": "code",
   "execution_count": 76,
   "metadata": {},
   "outputs": [],
   "source": [
    "yhat = np.where(yhat== 'COLLECTION', 1, yhat)"
   ]
  },
  {
   "cell_type": "code",
   "execution_count": 77,
   "metadata": {},
   "outputs": [
    {
     "data": {
      "text/plain": [
       "array([0, 0, 0, 0, 0, 0, 0, 1, 0, 0, 0, 0, 0, 0, 0, 0, 1, 0, 0, 0, 0, 1,\n",
       "       1, 0, 0, 1, 1, 0, 0, 0, 1, 0, 0, 0, 0, 0, 0, 0, 0, 0, 1, 0, 0, 1,\n",
       "       0, 0, 0, 0, 0, 0, 0, 0, 0, 0, 0, 0, 0, 0, 1, 0, 0, 0, 0, 1, 0, 1,\n",
       "       0, 0, 0, 0], dtype=object)"
      ]
     },
     "execution_count": 77,
     "metadata": {},
     "output_type": "execute_result"
    }
   ],
   "source": [
    "yhat"
   ]
  },
  {
   "cell_type": "code",
   "execution_count": 87,
   "metadata": {},
   "outputs": [],
   "source": [
    "yhat = LR.predict(X_test)"
   ]
  },
  {
   "cell_type": "code",
   "execution_count": 88,
   "metadata": {},
   "outputs": [],
   "source": [
    "yhat_prob = LR.predict_proba(X_test)"
   ]
  },
  {
   "cell_type": "code",
   "execution_count": 90,
   "metadata": {},
   "outputs": [
    {
     "name": "stderr",
     "output_type": "stream",
     "text": [
      "C:\\Users\\DELL\\Anaconda3\\lib\\site-packages\\sklearn\\metrics\\classification.py:635: DeprecationWarning: jaccard_similarity_score has been deprecated and replaced with jaccard_score. It will be removed in version 0.23. This implementation has surprising behavior for binary and multiclass classification tasks.\n",
      "  'and multiclass classification tasks.', DeprecationWarning)\n"
     ]
    },
    {
     "data": {
      "text/plain": [
       "0.6857142857142857"
      ]
     },
     "execution_count": 90,
     "metadata": {},
     "output_type": "execute_result"
    }
   ],
   "source": [
    "from sklearn.metrics import jaccard_similarity_score\n",
    "jaccard_similarity_score(y_test, yhat)"
   ]
  },
  {
   "cell_type": "markdown",
   "metadata": {},
   "source": [
    "## We get a score of 68.57%"
   ]
  },
  {
   "cell_type": "markdown",
   "metadata": {},
   "source": [
    "."
   ]
  },
  {
   "cell_type": "markdown",
   "metadata": {},
   "source": [
    "# Now we use Support Vector Machine"
   ]
  },
  {
   "cell_type": "markdown",
   "metadata": {},
   "source": [
    "### Lets look at the graph of Age vs Education as the most vital parameters in repaying loans as we plot it against Paidoff and Collection"
   ]
  },
  {
   "cell_type": "code",
   "execution_count": 108,
   "metadata": {},
   "outputs": [
    {
     "data": {
      "text/html": [
       "<div>\n",
       "<style scoped>\n",
       "    .dataframe tbody tr th:only-of-type {\n",
       "        vertical-align: middle;\n",
       "    }\n",
       "\n",
       "    .dataframe tbody tr th {\n",
       "        vertical-align: top;\n",
       "    }\n",
       "\n",
       "    .dataframe thead th {\n",
       "        text-align: right;\n",
       "    }\n",
       "</style>\n",
       "<table border=\"1\" class=\"dataframe\">\n",
       "  <thead>\n",
       "    <tr style=\"text-align: right;\">\n",
       "      <th></th>\n",
       "      <th>loan_status</th>\n",
       "      <th>Principal</th>\n",
       "      <th>terms</th>\n",
       "      <th>age</th>\n",
       "      <th>education</th>\n",
       "      <th>Gender</th>\n",
       "      <th>dayofweek</th>\n",
       "      <th>weekend</th>\n",
       "    </tr>\n",
       "  </thead>\n",
       "  <tbody>\n",
       "    <tr>\n",
       "      <th>0</th>\n",
       "      <td>1</td>\n",
       "      <td>1000</td>\n",
       "      <td>30</td>\n",
       "      <td>45</td>\n",
       "      <td>1</td>\n",
       "      <td>0</td>\n",
       "      <td>3</td>\n",
       "      <td>0</td>\n",
       "    </tr>\n",
       "    <tr>\n",
       "      <th>1</th>\n",
       "      <td>1</td>\n",
       "      <td>1000</td>\n",
       "      <td>30</td>\n",
       "      <td>33</td>\n",
       "      <td>2</td>\n",
       "      <td>1</td>\n",
       "      <td>3</td>\n",
       "      <td>0</td>\n",
       "    </tr>\n",
       "  </tbody>\n",
       "</table>\n",
       "</div>"
      ],
      "text/plain": [
       "   loan_status  Principal  terms  age  education  Gender  dayofweek  weekend\n",
       "0            1       1000     30   45          1       0          3        0\n",
       "1            1       1000     30   33          2       1          3        0"
      ]
     },
     "execution_count": 108,
     "metadata": {},
     "output_type": "execute_result"
    }
   ],
   "source": [
    "df2.head(2)"
   ]
  },
  {
   "cell_type": "code",
   "execution_count": 102,
   "metadata": {},
   "outputs": [],
   "source": [
    "df2['education'].replace(to_replace=['High School or Below','Bechalor', 'Master or Above', 'college'], value=[1,2,4,3],inplace=True)"
   ]
  },
  {
   "cell_type": "code",
   "execution_count": null,
   "metadata": {},
   "outputs": [],
   "source": []
  },
  {
   "cell_type": "code",
   "execution_count": 96,
   "metadata": {},
   "outputs": [
    {
     "data": {
      "text/html": [
       "<div>\n",
       "<style scoped>\n",
       "    .dataframe tbody tr th:only-of-type {\n",
       "        vertical-align: middle;\n",
       "    }\n",
       "\n",
       "    .dataframe tbody tr th {\n",
       "        vertical-align: top;\n",
       "    }\n",
       "\n",
       "    .dataframe thead th {\n",
       "        text-align: right;\n",
       "    }\n",
       "</style>\n",
       "<table border=\"1\" class=\"dataframe\">\n",
       "  <thead>\n",
       "    <tr style=\"text-align: right;\">\n",
       "      <th></th>\n",
       "      <th>loan_status</th>\n",
       "      <th>Principal</th>\n",
       "      <th>terms</th>\n",
       "      <th>age</th>\n",
       "      <th>Gender</th>\n",
       "      <th>weekend</th>\n",
       "      <th>Bechalor</th>\n",
       "      <th>High School or Below</th>\n",
       "      <th>college</th>\n",
       "    </tr>\n",
       "  </thead>\n",
       "  <tbody>\n",
       "    <tr>\n",
       "      <th>0</th>\n",
       "      <td>1</td>\n",
       "      <td>1000</td>\n",
       "      <td>30</td>\n",
       "      <td>45</td>\n",
       "      <td>0</td>\n",
       "      <td>0</td>\n",
       "      <td>0</td>\n",
       "      <td>1</td>\n",
       "      <td>0</td>\n",
       "    </tr>\n",
       "    <tr>\n",
       "      <th>1</th>\n",
       "      <td>1</td>\n",
       "      <td>1000</td>\n",
       "      <td>30</td>\n",
       "      <td>33</td>\n",
       "      <td>1</td>\n",
       "      <td>0</td>\n",
       "      <td>1</td>\n",
       "      <td>0</td>\n",
       "      <td>0</td>\n",
       "    </tr>\n",
       "    <tr>\n",
       "      <th>2</th>\n",
       "      <td>1</td>\n",
       "      <td>1000</td>\n",
       "      <td>15</td>\n",
       "      <td>27</td>\n",
       "      <td>0</td>\n",
       "      <td>0</td>\n",
       "      <td>0</td>\n",
       "      <td>0</td>\n",
       "      <td>1</td>\n",
       "    </tr>\n",
       "    <tr>\n",
       "      <th>3</th>\n",
       "      <td>1</td>\n",
       "      <td>1000</td>\n",
       "      <td>30</td>\n",
       "      <td>28</td>\n",
       "      <td>1</td>\n",
       "      <td>1</td>\n",
       "      <td>0</td>\n",
       "      <td>0</td>\n",
       "      <td>1</td>\n",
       "    </tr>\n",
       "    <tr>\n",
       "      <th>4</th>\n",
       "      <td>1</td>\n",
       "      <td>1000</td>\n",
       "      <td>30</td>\n",
       "      <td>29</td>\n",
       "      <td>0</td>\n",
       "      <td>1</td>\n",
       "      <td>0</td>\n",
       "      <td>0</td>\n",
       "      <td>1</td>\n",
       "    </tr>\n",
       "  </tbody>\n",
       "</table>\n",
       "</div>"
      ],
      "text/plain": [
       "   loan_status  Principal  terms  age  Gender  weekend  Bechalor  \\\n",
       "0            1       1000     30   45       0        0         0   \n",
       "1            1       1000     30   33       1        0         1   \n",
       "2            1       1000     15   27       0        0         0   \n",
       "3            1       1000     30   28       1        1         0   \n",
       "4            1       1000     30   29       0        1         0   \n",
       "\n",
       "   High School or Below  college  \n",
       "0                     1        0  \n",
       "1                     0        0  \n",
       "2                     0        1  \n",
       "3                     0        1  \n",
       "4                     0        1  "
      ]
     },
     "execution_count": 96,
     "metadata": {},
     "output_type": "execute_result"
    }
   ],
   "source": [
    "df1 = df[['loan_status', 'Principal','terms','age','Gender','weekend']]\n",
    "df1 = pd.concat([df1,pd.get_dummies(df['education'])], axis=1)\n",
    "df1.drop(['Master or Above'], axis = 1,inplace=True)\n",
    "df1.head()"
   ]
  },
  {
   "cell_type": "code",
   "execution_count": 112,
   "metadata": {},
   "outputs": [
    {
     "data": {
      "image/png": "[encoded data removed]",
      "text/plain": [
       "<Figure size 432x288 with 1 Axes>"
      ]
     },
     "metadata": {
      "needs_background": "light"
     },
     "output_type": "display_data"
    }
   ],
   "source": [
    "ax = df2[df2['loan_status'] == 1][0:50].plot(kind='scatter', x='age', y='education', color='DarkBlue', label='Paid Off');\n",
    "df2[df2['loan_status'] == 0][0:50].plot(kind='scatter', x='age', y='education', color='Yellow', label='Collection', ax=ax);\n",
    "plt.show()"
   ]
  },
  {
   "cell_type": "code",
   "execution_count": 113,
   "metadata": {},
   "outputs": [
    {
     "name": "stderr",
     "output_type": "stream",
     "text": [
      "C:\\Users\\DELL\\Anaconda3\\lib\\site-packages\\sklearn\\svm\\base.py:193: FutureWarning: The default value of gamma will change from 'auto' to 'scale' in version 0.22 to account better for unscaled features. Set gamma explicitly to 'auto' or 'scale' to avoid this warning.\n",
      "  \"avoid this warning.\", FutureWarning)\n"
     ]
    },
    {
     "data": {
      "text/plain": [
       "SVC(C=1.0, cache_size=200, class_weight=None, coef0=0.0,\n",
       "    decision_function_shape='ovr', degree=3, gamma='auto_deprecated',\n",
       "    kernel='rbf', max_iter=-1, probability=False, random_state=None,\n",
       "    shrinking=True, tol=0.001, verbose=False)"
      ]
     },
     "execution_count": 113,
     "metadata": {},
     "output_type": "execute_result"
    }
   ],
   "source": [
    "from sklearn import svm\n",
    "clf = svm.SVC(kernel='rbf')\n",
    "clf.fit(X_train, y_train) "
   ]
  },
  {
   "cell_type": "code",
   "execution_count": 114,
   "metadata": {},
   "outputs": [
    {
     "data": {
      "text/plain": [
       "array(['COLLECTION', 'PAIDOFF', 'PAIDOFF', 'PAIDOFF', 'PAIDOFF'],\n",
       "      dtype=object)"
      ]
     },
     "execution_count": 114,
     "metadata": {},
     "output_type": "execute_result"
    }
   ],
   "source": [
    "yhat = clf.predict(X_test)\n",
    "yhat [0:5]"
   ]
  },
  {
   "cell_type": "code",
   "execution_count": 118,
   "metadata": {},
   "outputs": [
    {
     "name": "stderr",
     "output_type": "stream",
     "text": [
      "C:\\Users\\DELL\\Anaconda3\\lib\\site-packages\\sklearn\\metrics\\classification.py:635: DeprecationWarning: jaccard_similarity_score has been deprecated and replaced with jaccard_score. It will be removed in version 0.23. This implementation has surprising behavior for binary and multiclass classification tasks.\n",
      "  'and multiclass classification tasks.', DeprecationWarning)\n"
     ]
    },
    {
     "data": {
      "text/plain": [
       "0.7428571428571429"
      ]
     },
     "execution_count": 118,
     "metadata": {},
     "output_type": "execute_result"
    }
   ],
   "source": [
    "from sklearn.metrics import jaccard_similarity_score\n",
    "jaccard_similarity_score(y_test, yhat)"
   ]
  },
  {
   "cell_type": "markdown",
   "metadata": {},
   "source": [
    "### We see that we get a Jaccard score of 74.28%"
   ]
  }
 ],
 "metadata": {
  "kernelspec": {
   "display_name": "Python 3",
   "language": "python",
   "name": "python3"
  },
  "language_info": {
   "codemirror_mode": {
    "name": "ipython",
    "version": 3
   },
   "file_extension": ".py",
   "mimetype": "text/x-python",
   "name": "python",
   "nbconvert_exporter": "python",
   "pygments_lexer": "ipython3",
   "version": "3.7.3"
  }
 },
 "nbformat": 4,
 "nbformat_minor": 2
}
