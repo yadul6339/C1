{
  "nbformat": 4,
  "nbformat_minor": 0,
  "metadata": {
    "kernelspec": {
      "display_name": "Python 3",
      "language": "python",
      "name": "python3"
    },
    "language_info": {
      "codemirror_mode": {
        "name": "ipython",
        "version": 3
      },
      "file_extension": ".py",
      "mimetype": "text/x-python",
      "name": "python",
      "nbconvert_exporter": "python",
      "pygments_lexer": "ipython3",
      "version": "3.8.3"
    },
    "colab": {
      "name": "EDA_MYIn_Class_Lab_Exercise_(Day_4)_Questions_[v3_0_121020] (1).ipynb",
      "provenance": [],
      "collapsed_sections": [],
      "include_colab_link": true
    }
  },
  "cells": [
    {
      "cell_type": "markdown",
      "metadata": {
        "id": "view-in-github",
        "colab_type": "text"
      },
      "source": [
        "<a href=\"https://colab.research.google.com/github/zerryberry/C1/blob/master/EDA_MYIn_Class_Lab_Exercise_(Day_4)_Questions_%5Bv3_0_121020%5D_(1).ipynb\" target=\"_parent\"><img src=\"https://colab.research.google.com/assets/colab-badge.svg\" alt=\"Open In Colab\"/></a>"
      ]
    },
    {
      "cell_type": "markdown",
      "metadata": {
        "id": "M9DrCGeVThvF"
      },
      "source": [
        "<table align=\"center\" width=100%>\n",
        "    <tr>\n",
        "        <td width=\"15%\">\n",
        "            <img src=\"in_class.png\">\n",
        "        </td>\n",
        "        <td>\n",
        "            <div align=\"center\">\n",
        "                <font color=\"#21618C\" size=8px>\n",
        "                    <b> Inclass - Lab <br>(Day 4)\n",
        "                    </b>\n",
        "                </font>\n",
        "            </div>\n",
        "        </td>\n",
        "    </tr>\n",
        "</table>"
      ]
    },
    {
      "cell_type": "markdown",
      "metadata": {
        "id": "_tJkhWahThvU"
      },
      "source": [
        "### About the data set (Detected Cases of Malaria)\n",
        "\n",
        "This dataset consists of data for countries with an active malaria outbreak.\n",
        "<br>\n",
        "\n",
        "Attribute Information:\n",
        "\n",
        "**Cases_Guinea**: Number of cases of malaria reported from Guinea\n",
        "\n",
        "**Cases_Liberia**: Number of cases of malaria reported from Liberia\n",
        "\n",
        "**Cases_SierraLeone**: Number of cases of malaria reported from Sierra Leone\n",
        "\n",
        "**Cases_Nigeria**: Number of cases of malaria reported from Nigeria\n",
        "\n",
        "**Cases_Senegal**: Number of cases of malaria reported from Senegal\n",
        "\n",
        "**Cases_UnitedStates**: Number of cases of malaria reported from the United States of America\n",
        "\n",
        "**Cases_Spain**: Number of cases of malaria reported from Spain\n",
        "\n",
        "**Cases_Mali**: Number of cases of malaria reported from Mali\n",
        "\n",
        "**Deaths_Guinea**: Number of deaths reported out of the detected cases of malaria from Guinea\n",
        "\n",
        "**Deaths_Liberia**: Number of deaths reported out of the detected cases of malaria from Liberia\n",
        "\n",
        "**Deaths_SierraLeone**: Number of deaths reported out of the detected cases of malaria from Sierra Leone\n",
        "\n",
        "**Deaths_Nigeria**: Number of deaths reported out of the detected cases of malaria from Nigeria\n",
        "\n",
        "**Deaths_Senegal**: Number of deaths reported out of the detected cases of malaria from Senegal\n",
        "\n",
        "**Deaths_UnitedStates**: Number of deaths reported out of the detected cases of malaria from the United States of America\n",
        "\n",
        "**Deaths_Spain**: Number of deaths reported out of the detected cases of malaria from Spain\n",
        "\n",
        "**Deaths_Mali**: Number of deaths reported out of the detected cases of malaria from Mali"
      ]
    },
    {
      "cell_type": "markdown",
      "metadata": {
        "id": "82c0KQ2fThvX"
      },
      "source": [
        "##  Table of Content\n",
        "\n",
        "1. **[Missing Values Detection](#msv)**\n",
        "2. **[Handling Missing Values](#hmsv)**\n",
        "3. **[Outlier Detection Techniques](#out)**\n",
        "4. **[Treatment of Outliers](#odt)**\n",
        "5. **[Feature Engineering](#fe)**\n",
        "6. **[Train-Test Split](#split)**"
      ]
    },
    {
      "cell_type": "markdown",
      "metadata": {
        "id": "AUo4R_i8ThvY"
      },
      "source": [
        "**Import the required libraries**"
      ]
    },
    {
      "cell_type": "code",
      "metadata": {
        "id": "9-YpRoCPThvZ"
      },
      "source": [
        "import pandas as pd\r\n",
        "import numpy as np\r\n",
        "import seaborn as sns\r\n",
        "import matplotlib.pyplot as plt"
      ],
      "execution_count": null,
      "outputs": []
    },
    {
      "cell_type": "markdown",
      "metadata": {
        "id": "TX5J7_j7Thva"
      },
      "source": [
        "#### Load the malaria dataset and display the first five records (Use for section 1, 2)"
      ]
    },
    {
      "cell_type": "code",
      "metadata": {
        "id": "yOAQuUT-Thvb"
      },
      "source": [
        "ho= pd.read_csv('/content/house.csv')\r\n",
        "ma= pd.read_csv('/content/malaria.csv')"
      ],
      "execution_count": null,
      "outputs": []
    },
    {
      "cell_type": "markdown",
      "metadata": {
        "id": "3wlfjZ9SThvb"
      },
      "source": [
        "### Let's begin with some hands-on practice exercises"
      ]
    },
    {
      "cell_type": "markdown",
      "metadata": {
        "id": "Su0qwSQqThvc"
      },
      "source": [
        "<a id=\"msv\"> </a>\n",
        "## 1. Missing Values Detection"
      ]
    },
    {
      "cell_type": "markdown",
      "metadata": {
        "collapsed": true,
        "id": "0RFSVR91Thvc"
      },
      "source": [
        "<table align=\"left\">\n",
        "    <tr>\n",
        "        <td width=\"6%\">\n",
        "            <img src=\"question_icon.png\">\n",
        "        </td>\n",
        "        <td>\n",
        "            <div align=\"left\", style=\"font-size:120%\">\n",
        "                <font color=\"#21618C\">\n",
        "                    <b>1. Are there any records where no data has been reported?</b>\n",
        "                </font>\n",
        "            </div>\n",
        "        </td>\n",
        "    </tr>\n",
        "</table>"
      ]
    },
    {
      "cell_type": "code",
      "metadata": {
        "colab": {
          "base_uri": "https://localhost:8080/"
        },
        "id": "88TVvyyMThvd",
        "outputId": "c23f1944-3fc7-4dff-f56a-183d778052f6"
      },
      "source": [
        "print(ho.isna().sum())\r\n",
        "print(ma.isna().sum())\r\n",
        "print(ho.shape)\r\n",
        "print(ma.shape)\r\n",
        "\r\n",
        "# NO"
      ],
      "execution_count": null,
      "outputs": [
        {
          "output_type": "stream",
          "text": [
            "Rooms         0\n",
            "Type          0\n",
            "Price         0\n",
            "Method        0\n",
            "Regionname    0\n",
            "Bathroom      0\n",
            "Car           0\n",
            "Landsize      0\n",
            "Distance      0\n",
            "Bedroom       0\n",
            "dtype: int64\n",
            "Cases_Guinea            34\n",
            "Cases_Liberia           44\n",
            "Cases_SierraLeone       40\n",
            "Cases_Nigeria           89\n",
            "Cases_Senegal          102\n",
            "Cases_UnitedStates      54\n",
            "Cases_Spain            111\n",
            "Cases_Mali             115\n",
            "Deaths_Guinea           35\n",
            "Deaths_Liberia          46\n",
            "Deaths_SierraLeone      40\n",
            "Deaths_Nigeria          89\n",
            "Deaths_Senegal         105\n",
            "Deaths_UnitedStates     70\n",
            "Deaths_Spain           111\n",
            "Deaths_Mali            115\n",
            "dtype: int64\n",
            "(4766, 10)\n",
            "(127, 16)\n"
          ],
          "name": "stdout"
        }
      ]
    },
    {
      "cell_type": "markdown",
      "metadata": {
        "collapsed": true,
        "id": "lRceE9WZThvd"
      },
      "source": [
        "<table align=\"left\">\n",
        "    <tr>\n",
        "        <td width=\"6%\">\n",
        "            <img src=\"question_icon.png\">\n",
        "        </td>\n",
        "        <td>\n",
        "            <div align=\"left\", style=\"font-size:120%\">\n",
        "                <font color=\"#21618C\">\n",
        "                    <b>2. Find a list of all the columns which have more than 60% of their values missing</b>\n",
        "                </font>\n",
        "            </div>\n",
        "        </td>\n",
        "    </tr>\n",
        "</table>"
      ]
    },
    {
      "cell_type": "code",
      "metadata": {
        "id": "DG518I9UThve"
      },
      "source": [
        "e= []\r\n",
        "for i in ma.columns:\r\n",
        "  r= len(ma[i])\r\n",
        "  t= ma[i].isna().sum()\r\n",
        "  if (t/r)*100 >= 60:\r\n",
        "    e.append(i)"
      ],
      "execution_count": null,
      "outputs": []
    },
    {
      "cell_type": "code",
      "metadata": {
        "id": "4bAzeL0AWGP5",
        "colab": {
          "base_uri": "https://localhost:8080/"
        },
        "outputId": "8cb9e08d-2d19-4fb0-e0a3-d9146100be80"
      },
      "source": [
        "e"
      ],
      "execution_count": null,
      "outputs": [
        {
          "output_type": "execute_result",
          "data": {
            "text/plain": [
              "['Cases_Nigeria',\n",
              " 'Cases_Senegal',\n",
              " 'Cases_Spain',\n",
              " 'Cases_Mali',\n",
              " 'Deaths_Nigeria',\n",
              " 'Deaths_Senegal',\n",
              " 'Deaths_Spain',\n",
              " 'Deaths_Mali']"
            ]
          },
          "metadata": {
            "tags": []
          },
          "execution_count": 7
        }
      ]
    },
    {
      "cell_type": "code",
      "metadata": {
        "id": "LGIDecggV7VH"
      },
      "source": [
        "f= []\r\n",
        "for i in ho.columns:\r\n",
        "  r= len(ho[i])\r\n",
        "  t= ho[i].isna().sum()\r\n",
        "  if (t/r)*100 >= 60:\r\n",
        "    e.append(i)"
      ],
      "execution_count": null,
      "outputs": []
    },
    {
      "cell_type": "code",
      "metadata": {
        "colab": {
          "base_uri": "https://localhost:8080/"
        },
        "id": "G4xwmRCYeO1W",
        "outputId": "ab04bac3-3cfc-47c6-9afd-aa6d3097be73"
      },
      "source": [
        "ma.columns"
      ],
      "execution_count": null,
      "outputs": [
        {
          "output_type": "execute_result",
          "data": {
            "text/plain": [
              "Index(['Cases_Guinea', 'Cases_Liberia', 'Cases_SierraLeone', 'Cases_Nigeria',\n",
              "       'Cases_Senegal', 'Cases_UnitedStates', 'Cases_Spain', 'Cases_Mali',\n",
              "       'Deaths_Guinea', 'Deaths_Liberia', 'Deaths_SierraLeone',\n",
              "       'Deaths_Nigeria', 'Deaths_Senegal', 'Deaths_UnitedStates',\n",
              "       'Deaths_Spain', 'Deaths_Mali'],\n",
              "      dtype='object')"
            ]
          },
          "metadata": {
            "tags": []
          },
          "execution_count": 9
        }
      ]
    },
    {
      "cell_type": "markdown",
      "metadata": {
        "collapsed": true,
        "id": "kOsnqvVJThve"
      },
      "source": [
        "<table align=\"left\">\n",
        "    <tr>\n",
        "        <td width=\"6%\">\n",
        "            <img src=\"question_icon.png\">\n",
        "        </td>\n",
        "        <td>\n",
        "            <div align=\"left\", style=\"font-size:120%\">\n",
        "                <font color=\"#21618C\">\n",
        "                    <b>3. In a scenario where one of the countries detected with malaria outbreak is to be recorded again for observations, which country should be considered first (consider only the first four countries)?</b>\n",
        "                </font>\n",
        "            </div>\n",
        "        </td>\n",
        "    </tr>\n",
        "</table>"
      ]
    },
    {
      "cell_type": "code",
      "metadata": {
        "colab": {
          "base_uri": "https://localhost:8080/"
        },
        "id": "i7Wg1sDYThvf",
        "outputId": "6529bf7a-1a6a-4b45-f168-332438610382"
      },
      "source": [
        "f= {}\r\n",
        "for i,j in zip(range(4), range(8,12)):\r\n",
        "  f[ma.columns[i]]= ma.iloc[:,i].isna().sum() + ma.iloc[:,j].isna().sum()\r\n",
        "\r\n",
        "f\r\n",
        "\r\n",
        "# It should be Cases_Nigeria"
      ],
      "execution_count": null,
      "outputs": [
        {
          "output_type": "execute_result",
          "data": {
            "text/plain": [
              "{'Cases_Guinea': 69,\n",
              " 'Cases_Liberia': 90,\n",
              " 'Cases_Nigeria': 178,\n",
              " 'Cases_SierraLeone': 80}"
            ]
          },
          "metadata": {
            "tags": []
          },
          "execution_count": 54
        }
      ]
    },
    {
      "cell_type": "markdown",
      "metadata": {
        "collapsed": true,
        "id": "xiem9JKLThvf"
      },
      "source": [
        "<table align=\"left\">\n",
        "    <tr>\n",
        "        <td width=\"6%\">\n",
        "            <img src=\"question_icon.png\">\n",
        "        </td>\n",
        "        <td>\n",
        "            <div align=\"left\", style=\"font-size:120%\">\n",
        "                <font color=\"#21618C\">\n",
        "                    <b>4. Visualize the missing values in the data</b>\n",
        "                </font>\n",
        "            </div>\n",
        "        </td>\n",
        "    </tr>\n",
        "</table>"
      ]
    },
    {
      "cell_type": "code",
      "metadata": {
        "colab": {
          "base_uri": "https://localhost:8080/",
          "height": 381
        },
        "id": "96HUAOeLThvg",
        "outputId": "2c8cb6f4-ee2c-41fc-bed4-2ea419988962"
      },
      "source": [
        "ma.isna().sum().plot(kind='bar')"
      ],
      "execution_count": null,
      "outputs": [
        {
          "output_type": "execute_result",
          "data": {
            "text/plain": [
              "<matplotlib.axes._subplots.AxesSubplot at 0x7fbb043d56d8>"
            ]
          },
          "metadata": {
            "tags": []
          },
          "execution_count": 17
        },
        {
          "output_type": "display_data",
          "data": {
            "image/png": "[encoded data removed]",
            "text/plain": [
              "<Figure size 432x288 with 1 Axes>"
            ]
          },
          "metadata": {
            "tags": [],
            "needs_background": "light"
          }
        }
      ]
    },
    {
      "cell_type": "markdown",
      "metadata": {
        "id": "HDXhRdBLThvg"
      },
      "source": [
        "<a id=\"hmsv\"> </a>\n",
        "## 2. Handling Missing Values"
      ]
    },
    {
      "cell_type": "markdown",
      "metadata": {
        "collapsed": true,
        "id": "j7LZ7j7UThvg"
      },
      "source": [
        "<table align=\"left\">\n",
        "    <tr>\n",
        "        <td width=\"6%\">\n",
        "            <img src=\"question_icon.png\">\n",
        "        </td>\n",
        "        <td>\n",
        "            <div align=\"left\", style=\"font-size:120%\">\n",
        "                <font color=\"#21618C\">\n",
        "                    <b>5. Eliminate all the records where no more than two observations have been recorded</b>\n",
        "                </font>\n",
        "            </div>\n",
        "        </td>\n",
        "    </tr>\n",
        "</table>"
      ]
    },
    {
      "cell_type": "code",
      "metadata": {
        "id": "EtiATBwEW_s3"
      },
      "source": [
        "ma.dropna(thresh=3, inplace= True)"
      ],
      "execution_count": null,
      "outputs": []
    },
    {
      "cell_type": "code",
      "metadata": {
        "colab": {
          "base_uri": "https://localhost:8080/"
        },
        "id": "82ky_Bi1bo90",
        "outputId": "6c2d2852-aa59-4c6c-f17c-917f734f4c44"
      },
      "source": [
        "ma.shape"
      ],
      "execution_count": null,
      "outputs": [
        {
          "output_type": "execute_result",
          "data": {
            "text/plain": [
              "(127, 16)"
            ]
          },
          "metadata": {
            "tags": []
          },
          "execution_count": 37
        }
      ]
    },
    {
      "cell_type": "markdown",
      "metadata": {
        "collapsed": true,
        "id": "3GFrCxXyThvi"
      },
      "source": [
        "<table align=\"left\">\n",
        "    <tr>\n",
        "        <td width=\"6%\">\n",
        "            <img src=\"question_icon.png\">\n",
        "        </td>\n",
        "        <td>\n",
        "            <div align=\"left\", style=\"font-size:120%\">\n",
        "                <font color=\"#21618C\">\n",
        "                    <b>6. Cast aside the unnecessary columns from the data\n",
        "</b>\n",
        "                </font>\n",
        "            </div>\n",
        "        </td>\n",
        "    </tr>\n",
        "</table>"
      ]
    },
    {
      "cell_type": "code",
      "metadata": {
        "colab": {
          "base_uri": "https://localhost:8080/"
        },
        "id": "I1u5NvcVThvj",
        "outputId": "7ccc627e-e920-4115-f883-f2fb4051a768"
      },
      "source": [
        "ma.isna().sum() # 6 Cases_Senegal, Cases_Spain, Cases_Mali , Deaths_Senegal  , Deaths_Spain , Deaths_Mali "
      ],
      "execution_count": null,
      "outputs": [
        {
          "output_type": "execute_result",
          "data": {
            "text/plain": [
              "Cases_Guinea            34\n",
              "Cases_Liberia           44\n",
              "Cases_SierraLeone       40\n",
              "Cases_Nigeria           89\n",
              "Cases_Senegal          102\n",
              "Cases_UnitedStates      54\n",
              "Cases_Spain            111\n",
              "Cases_Mali             115\n",
              "Deaths_Guinea           35\n",
              "Deaths_Liberia          46\n",
              "Deaths_SierraLeone      40\n",
              "Deaths_Nigeria          89\n",
              "Deaths_Senegal         105\n",
              "Deaths_UnitedStates     70\n",
              "Deaths_Spain           111\n",
              "Deaths_Mali            115\n",
              "dtype: int64"
            ]
          },
          "metadata": {
            "tags": []
          },
          "execution_count": 20
        }
      ]
    },
    {
      "cell_type": "code",
      "metadata": {
        "colab": {
          "base_uri": "https://localhost:8080/"
        },
        "id": "2lnwQcB0X_fO",
        "outputId": "633edec4-8b10-4da0-aea5-cedfad203e83"
      },
      "source": [
        "ma.shape"
      ],
      "execution_count": null,
      "outputs": [
        {
          "output_type": "execute_result",
          "data": {
            "text/plain": [
              "(127, 16)"
            ]
          },
          "metadata": {
            "tags": []
          },
          "execution_count": 21
        }
      ]
    },
    {
      "cell_type": "markdown",
      "metadata": {
        "collapsed": true,
        "id": "QF4oaYqNThvm"
      },
      "source": [
        "<table align=\"left\">\n",
        "    <tr>\n",
        "        <td width=\"6%\">\n",
        "            <img src=\"question_icon.png\">\n",
        "        </td>\n",
        "        <td>\n",
        "            <div align=\"left\", style=\"font-size:120%\">\n",
        "                <font color=\"#21618C\">\n",
        "                    <b>7. How would you treat the missing values of the reported cases from Liberia?</b>\n",
        "                </font>\n",
        "            </div>\n",
        "        </td>\n",
        "    </tr>\n",
        "</table>"
      ]
    },
    {
      "cell_type": "code",
      "metadata": {
        "colab": {
          "base_uri": "https://localhost:8080/"
        },
        "id": "ssdht_iTcIIr",
        "outputId": "7fa52359-50a1-4600-fb3e-3a8954bc6212"
      },
      "source": [
        "print(ma['Cases_Liberia'].skew())\r\n",
        "print(ma['Cases_Liberia'].kurt())\r\n",
        "\r\n",
        "# It is right skewed. so we Will use Median to fill in missing values."
      ],
      "execution_count": null,
      "outputs": [
        {
          "output_type": "stream",
          "text": [
            "0.9491336030709361\n",
            "-0.742875748189892\n"
          ],
          "name": "stdout"
        }
      ]
    },
    {
      "cell_type": "code",
      "metadata": {
        "colab": {
          "base_uri": "https://localhost:8080/",
          "height": 335
        },
        "id": "3FU7ILMSThvo",
        "outputId": "7a2a0450-0433-46f7-9e93-027864370d3c"
      },
      "source": [
        "sns.distplot(ma['Cases_Liberia'])\r\n",
        "plt.xkcd()\r\n",
        "plt.show()"
      ],
      "execution_count": null,
      "outputs": [
        {
          "output_type": "stream",
          "text": [
            "/usr/local/lib/python3.6/dist-packages/seaborn/distributions.py:2551: FutureWarning: `distplot` is a deprecated function and will be removed in a future version. Please adapt your code to use either `displot` (a figure-level function with similar flexibility) or `histplot` (an axes-level function for histograms).\n",
            "  warnings.warn(msg, FutureWarning)\n"
          ],
          "name": "stderr"
        },
        {
          "output_type": "display_data",
          "data": {
            "image/png": "[encoded data removed]",
            "text/plain": [
              "<Figure size 432x288 with 1 Axes>"
            ]
          },
          "metadata": {
            "tags": [],
            "needs_background": "light"
          }
        }
      ]
    },
    {
      "cell_type": "code",
      "metadata": {
        "colab": {
          "base_uri": "https://localhost:8080/",
          "height": 288
        },
        "id": "nndL7mhzh6z-",
        "outputId": "6e19f25f-9c1f-4637-e6da-b70217eb794c"
      },
      "source": [
        "ma['Cases_Liberia'].fillna(ma['Cases_Liberia'].median()).plot(kind='kde')"
      ],
      "execution_count": null,
      "outputs": [
        {
          "output_type": "execute_result",
          "data": {
            "text/plain": [
              "<matplotlib.axes._subplots.AxesSubplot at 0x7fbb02dad390>"
            ]
          },
          "metadata": {
            "tags": []
          },
          "execution_count": 44
        },
        {
          "output_type": "display_data",
          "data": {
            "image/png": "[encoded data removed]",
            "text/plain": [
              "<Figure size 432x288 with 1 Axes>"
            ]
          },
          "metadata": {
            "tags": []
          }
        }
      ]
    },
    {
      "cell_type": "markdown",
      "metadata": {
        "collapsed": true,
        "id": "hk77--owThvo"
      },
      "source": [
        "<table align=\"left\">\n",
        "    <tr>\n",
        "        <td width=\"6%\">\n",
        "            <img src=\"question_icon.png\">\n",
        "        </td>\n",
        "        <td>\n",
        "            <div align=\"left\", style=\"font-size:120%\">\n",
        "                <font color=\"#21618C\">\n",
        "                    <b>8. How would you treat the missing values from the reported cases of malaria from the United States of America?</b>\n",
        "                </font>\n",
        "            </div>\n",
        "        </td>\n",
        "    </tr>\n",
        "</table>"
      ]
    },
    {
      "cell_type": "code",
      "metadata": {
        "colab": {
          "base_uri": "https://localhost:8080/",
          "height": 341
        },
        "id": "luf0yuu7jAs5",
        "outputId": "290c2f26-4f9d-4071-b5b2-152376730399"
      },
      "source": [
        "sns.distplot(ma['Cases_UnitedStates'])\r\n",
        "plt.xkcd()\r\n",
        "plt.show()"
      ],
      "execution_count": null,
      "outputs": [
        {
          "output_type": "stream",
          "text": [
            "/usr/local/lib/python3.6/dist-packages/seaborn/distributions.py:2551: FutureWarning: `distplot` is a deprecated function and will be removed in a future version. Please adapt your code to use either `displot` (a figure-level function with similar flexibility) or `histplot` (an axes-level function for histograms).\n",
            "  warnings.warn(msg, FutureWarning)\n"
          ],
          "name": "stderr"
        },
        {
          "output_type": "display_data",
          "data": {
            "image/png": "[encoded data removed]",
            "text/plain": [
              "<Figure size 432x288 with 1 Axes>"
            ]
          },
          "metadata": {
            "tags": []
          }
        }
      ]
    },
    {
      "cell_type": "code",
      "metadata": {
        "colab": {
          "base_uri": "https://localhost:8080/"
        },
        "id": "PWNNJiwucqQK",
        "outputId": "1aa155f9-0bb8-427f-a923-581f246f099d"
      },
      "source": [
        "print(ma['Cases_UnitedStates'].skew())\r\n",
        "print(ma['Cases_UnitedStates'].kurt())\r\n",
        "\r\n",
        "# Mean is slightly skewed, so we can use mean to fill missing values. "
      ],
      "execution_count": null,
      "outputs": [
        {
          "output_type": "stream",
          "text": [
            "0.4685235032170701\n",
            "-0.41380010329328076\n"
          ],
          "name": "stdout"
        }
      ]
    },
    {
      "cell_type": "code",
      "metadata": {
        "colab": {
          "base_uri": "https://localhost:8080/",
          "height": 288
        },
        "id": "gr8XA2vJThvq",
        "outputId": "704b4b02-5002-44b1-ec2f-0cb5cf8121da"
      },
      "source": [
        "ma['Cases_UnitedStates'].fillna(ma['Cases_UnitedStates'].mean()).plot(kind='kde')"
      ],
      "execution_count": null,
      "outputs": [
        {
          "output_type": "execute_result",
          "data": {
            "text/plain": [
              "<matplotlib.axes._subplots.AxesSubplot at 0x7fbb02cc2f60>"
            ]
          },
          "metadata": {
            "tags": []
          },
          "execution_count": 49
        },
        {
          "output_type": "display_data",
          "data": {
            "image/png": "[encoded data removed]",
            "text/plain": [
              "<Figure size 432x288 with 1 Axes>"
            ]
          },
          "metadata": {
            "tags": []
          }
        }
      ]
    },
    {
      "cell_type": "markdown",
      "metadata": {
        "collapsed": true,
        "id": "Fu-mwY9OThvr"
      },
      "source": [
        "<table align=\"left\">\n",
        "    <tr>\n",
        "        <td width=\"6%\">\n",
        "            <img src=\"question_icon.png\">\n",
        "        </td>\n",
        "        <td>\n",
        "            <div align=\"left\", style=\"font-size:120%\">\n",
        "                <font color=\"#21618C\">\n",
        "                    <b>9. How should the missing values from the observations recorded in 'Guinea' be dealt with?</b>\n",
        "                </font>\n",
        "            </div>\n",
        "        </td>\n",
        "    </tr>\n",
        "</table>"
      ]
    },
    {
      "cell_type": "code",
      "metadata": {
        "colab": {
          "base_uri": "https://localhost:8080/",
          "height": 341
        },
        "id": "LbilEdCqThvr",
        "outputId": "95cecb32-3428-4d6a-bf13-42092a10785b"
      },
      "source": [
        "# Cases_Guinea\r\n",
        "sns.distplot(ma['Cases_Guinea'])\r\n",
        "plt.xkcd()\r\n",
        "plt.show()"
      ],
      "execution_count": null,
      "outputs": [
        {
          "output_type": "stream",
          "text": [
            "/usr/local/lib/python3.6/dist-packages/seaborn/distributions.py:2551: FutureWarning: `distplot` is a deprecated function and will be removed in a future version. Please adapt your code to use either `displot` (a figure-level function with similar flexibility) or `histplot` (an axes-level function for histograms).\n",
            "  warnings.warn(msg, FutureWarning)\n"
          ],
          "name": "stderr"
        },
        {
          "output_type": "display_data",
          "data": {
            "image/png": "[encoded data removed]",
            "text/plain": [
              "<Figure size 432x288 with 1 Axes>"
            ]
          },
          "metadata": {
            "tags": []
          }
        }
      ]
    },
    {
      "cell_type": "code",
      "metadata": {
        "colab": {
          "base_uri": "https://localhost:8080/",
          "height": 288
        },
        "id": "-mrdfx-UjZrg",
        "outputId": "8f783550-6e08-49c5-bfba-24b0696e3f1b"
      },
      "source": [
        "ma['Cases_Guinea'].fillna(ma['Cases_Guinea'].median()).plot(kind='kde')"
      ],
      "execution_count": null,
      "outputs": [
        {
          "output_type": "execute_result",
          "data": {
            "text/plain": [
              "<matplotlib.axes._subplots.AxesSubplot at 0x7fbb02e12c18>"
            ]
          },
          "metadata": {
            "tags": []
          },
          "execution_count": 52
        },
        {
          "output_type": "display_data",
          "data": {
            "image/png": "[encoded data removed]",
            "text/plain": [
              "<Figure size 432x288 with 1 Axes>"
            ]
          },
          "metadata": {
            "tags": []
          }
        }
      ]
    },
    {
      "cell_type": "code",
      "metadata": {
        "colab": {
          "base_uri": "https://localhost:8080/"
        },
        "id": "JpakHAtbjZuO",
        "outputId": "aef44534-367e-4322-b5d2-96a907435162"
      },
      "source": [
        "print(ma['Cases_Guinea'].skew())\r\n",
        "print(ma['Cases_Guinea'].kurt())\r\n",
        "\r\n",
        "# we can choose median to fill missing values as mean is skewed. "
      ],
      "execution_count": null,
      "outputs": [
        {
          "output_type": "stream",
          "text": [
            "1.0023009483886705\n",
            "-0.3536475847179972\n"
          ],
          "name": "stdout"
        }
      ]
    },
    {
      "cell_type": "markdown",
      "metadata": {
        "id": "bYWBQGXJThvs"
      },
      "source": [
        "## For questions hereon, we shall consider the following dataset."
      ]
    },
    {
      "cell_type": "markdown",
      "metadata": {
        "id": "_Hsse1eEThvs"
      },
      "source": [
        "### About the dataset (House Prices in Melbourne)\n",
        "\n",
        "The dataset contains different attributes that contribute to the price of the houses in Melbourne.  \n",
        "\n",
        "Attribute Information:\n",
        "\n",
        "**Rooms**: Number of rooms\n",
        "\n",
        "**Type**: h - house,cottage,villa, semi,terrace; u - unit, duplex; t - townhouse; dev site - development site; o res - other residential.\n",
        "\n",
        "**Price**: Price in dollars\n",
        "\n",
        "**Method**: S - property sold; SP - property sold prior; PI - property passed in; PN - sold prior not disclosed; SN - sold not disclosed; NB - no bid; VB - vendor bid; W - withdrawn before auction; SA - sold after auction; SS - sold after auction price not disclosed. N/A - price or highest bid not available.\n",
        "\n",
        "**Regionname**:  General Region (West, North West, North, Northeast,...)\n",
        "\n",
        "**Bathroom**: Number of Bathrooms\n",
        "\n",
        "**Car**: Number of car spots\n",
        "\n",
        "**Landsize**: Land Size of a house\n",
        "\n",
        "**Distance**: Distance from CBD (City Centre)\n",
        "\n",
        "**Bedroom**: Number of Bedrooms"
      ]
    },
    {
      "cell_type": "markdown",
      "metadata": {
        "id": "_-3XgBN0Thvt"
      },
      "source": [
        "#### Load the house dataset and display the first five records (Use for section 3 to 6)"
      ]
    },
    {
      "cell_type": "markdown",
      "metadata": {
        "id": "ABv-_YwlThvu"
      },
      "source": [
        "<a id=\"out\"> </a>\n",
        "## 3. Outlier Detection Techniques "
      ]
    },
    {
      "cell_type": "markdown",
      "metadata": {
        "collapsed": true,
        "id": "DB-ZnfmoThvu"
      },
      "source": [
        "<table align=\"left\">\n",
        "    <tr>\n",
        "        <td width=\"6%\">\n",
        "            <img src=\"question_icon.png\">\n",
        "        </td>\n",
        "        <td>\n",
        "            <div align=\"left\", style=\"font-size:120%\">\n",
        "                <font color=\"#21618C\">\n",
        "                    <b>10. Is there a feature in the dataset which could be exempted from outlier treatment?\n",
        "</b>\n",
        "                </font>\n",
        "            </div>\n",
        "        </td>\n",
        "    </tr>\n",
        "</table>"
      ]
    },
    {
      "cell_type": "code",
      "metadata": {
        "colab": {
          "base_uri": "https://localhost:8080/"
        },
        "id": "8RsbJTZNThvv",
        "outputId": "d0eaf6b0-a624-400a-eb47-5dc4b9ad998e"
      },
      "source": [
        "for i in ho.select_dtypes(include='number'):\r\n",
        "  print(i, ho[i].skew(), ho[i].kurt())"
      ],
      "execution_count": null,
      "outputs": [
        {
          "output_type": "stream",
          "text": [
            "Rooms 0.33752755616911884 0.7268628551867531\n",
            "Price 2.5112396135820827 9.971715889795528\n",
            "Bathroom 1.8257840393009035 10.413550039459059\n",
            "Car 4.187194736456107 85.21700249269362\n",
            "Landsize 52.58894892969384 3262.168219567789\n",
            "Distance 0.016669076752245382 -0.04183358907962598\n",
            "Bedroom 3.903058112122258 89.74295627631867\n"
          ],
          "name": "stdout"
        }
      ]
    },
    {
      "cell_type": "code",
      "metadata": {
        "colab": {
          "base_uri": "https://localhost:8080/"
        },
        "id": "S0RZPczqhNZw",
        "outputId": "14f01942-8785-4635-f94d-bf85a78e791a"
      },
      "source": [
        "# Landsize and car are heavily skewed and have heavy kurtosis so they can be removed from analysis."
      ],
      "execution_count": null,
      "outputs": [
        {
          "output_type": "execute_result",
          "data": {
            "text/plain": [
              "0       826\n",
              "650      23\n",
              "696      19\n",
              "700      16\n",
              "590      16\n",
              "       ... \n",
              "1177      1\n",
              "1185      1\n",
              "1197      1\n",
              "1205      1\n",
              "1437      1\n",
              "Name: Landsize, Length: 1028, dtype: int64"
            ]
          },
          "metadata": {
            "tags": []
          },
          "execution_count": 27
        }
      ]
    },
    {
      "cell_type": "markdown",
      "metadata": {
        "collapsed": true,
        "id": "L4SmbqLUThvv"
      },
      "source": [
        "<table align=\"left\">\n",
        "    <tr>\n",
        "        <td width=\"6%\">\n",
        "            <img src=\"question_icon.png\">\n",
        "        </td>\n",
        "        <td>\n",
        "            <div align=\"left\", style=\"font-size:120%\">\n",
        "                <font color=\"#21618C\">\n",
        "                    <b>11. How do we check the outlier values for the feature representing the number of car spots?</b>\n",
        "                </font>\n",
        "            </div>\n",
        "        </td>\n",
        "    </tr>\n",
        "</table>"
      ]
    },
    {
      "cell_type": "code",
      "metadata": {
        "id": "Fop_m3zeThvv",
        "colab": {
          "base_uri": "https://localhost:8080/"
        },
        "outputId": "ae37c30f-8546-441e-bb8c-0a09f7b902df"
      },
      "source": [
        "q1= ho['Car'].quantile(0.25)\r\n",
        "q3= ho['Car'].quantile(0.75)\r\n",
        "iqr= q3-q1\r\n",
        "ul= q3 + 1.5*iqr\r\n",
        "ll= q1 - 1.5*iqr\r\n",
        "\r\n",
        "ho[(ho['Car'] > ul) | (ho['Car'] < ll)]['Car']\r\n"
      ],
      "execution_count": null,
      "outputs": [
        {
          "output_type": "execute_result",
          "data": {
            "text/plain": [
              "56      5\n",
              "58      4\n",
              "117     4\n",
              "122     4\n",
              "123     4\n",
              "       ..\n",
              "4585    4\n",
              "4586    4\n",
              "4588    4\n",
              "4641    5\n",
              "4690    4\n",
              "Name: Car, Length: 206, dtype: int64"
            ]
          },
          "metadata": {
            "tags": []
          },
          "execution_count": 61
        }
      ]
    },
    {
      "cell_type": "code",
      "metadata": {
        "id": "I4fYXeEMKU3C"
      },
      "source": [
        "sns.distplot(ho['Car'])"
      ],
      "execution_count": null,
      "outputs": []
    },
    {
      "cell_type": "markdown",
      "metadata": {
        "collapsed": true,
        "id": "B1ZXxfMxThvw"
      },
      "source": [
        "<table align=\"left\">\n",
        "    <tr>\n",
        "        <td width=\"6%\">\n",
        "            <img src=\"question_icon.png\">\n",
        "        </td>\n",
        "        <td>\n",
        "            <div align=\"left\", style=\"font-size:120%\">\n",
        "                <font color=\"#21618C\">\n",
        "                    <b>12. Compare the outliers present in the price of real estates by their type\n",
        "</b>\n",
        "                </font>\n",
        "            </div>\n",
        "        </td>\n",
        "    </tr>\n",
        "</table>"
      ]
    },
    {
      "cell_type": "code",
      "metadata": {
        "colab": {
          "base_uri": "https://localhost:8080/",
          "height": 370
        },
        "id": "gUCzTY2MThvw",
        "outputId": "6165a07a-04b4-4fb9-e0eb-9ae00c674710"
      },
      "source": [
        "# Outliers in type H are far more than outliers in type T and type U. \r\n",
        "sns.boxplot(ho['Type'], ho['Price'])"
      ],
      "execution_count": null,
      "outputs": [
        {
          "output_type": "stream",
          "text": [
            "/usr/local/lib/python3.6/dist-packages/seaborn/_decorators.py:43: FutureWarning: Pass the following variables as keyword args: x, y. From version 0.12, the only valid positional argument will be `data`, and passing other arguments without an explicit keyword will result in an error or misinterpretation.\n",
            "  FutureWarning\n"
          ],
          "name": "stderr"
        },
        {
          "output_type": "execute_result",
          "data": {
            "text/plain": [
              "<matplotlib.axes._subplots.AxesSubplot at 0x7fbaf96b37b8>"
            ]
          },
          "metadata": {
            "tags": []
          },
          "execution_count": 59
        },
        {
          "output_type": "display_data",
          "data": {
            "image/png": "[encoded data removed]",
            "text/plain": [
              "<Figure size 432x288 with 1 Axes>"
            ]
          },
          "metadata": {
            "tags": []
          }
        }
      ]
    },
    {
      "cell_type": "markdown",
      "metadata": {
        "collapsed": true,
        "id": "uqKrZU8jThvx"
      },
      "source": [
        "<table align=\"left\">\n",
        "    <tr>\n",
        "        <td width=\"6%\">\n",
        "            <img src=\"question_icon.png\">\n",
        "        </td>\n",
        "        <td>\n",
        "            <div align=\"left\", style=\"font-size:120%\">\n",
        "                <font color=\"#21618C\">\n",
        "                    <b>13. What would be the extreme values for the feature representing the number of rooms?\n",
        "</b>\n",
        "                </font>\n",
        "            </div>\n",
        "        </td>\n",
        "    </tr>\n",
        "</table>"
      ]
    },
    {
      "cell_type": "code",
      "metadata": {
        "colab": {
          "base_uri": "https://localhost:8080/"
        },
        "id": "biseMzY0JQzE",
        "outputId": "ca6d266f-db06-4b6e-fdc5-ed183fee17cf"
      },
      "source": [
        "ho.columns"
      ],
      "execution_count": null,
      "outputs": [
        {
          "output_type": "execute_result",
          "data": {
            "text/plain": [
              "Index(['Rooms', 'Type', 'Price', 'Method', 'Regionname', 'Bathroom', 'Car',\n",
              "       'Landsize', 'Distance', 'Bedroom', 'dist'],\n",
              "      dtype='object')"
            ]
          },
          "metadata": {
            "tags": []
          },
          "execution_count": 58
        }
      ]
    },
    {
      "cell_type": "code",
      "metadata": {
        "id": "n81KVqFXThvx",
        "colab": {
          "base_uri": "https://localhost:8080/"
        },
        "outputId": "6da0ec34-7823-42e0-a1f4-fb6d0c281130"
      },
      "source": [
        "# maximum value:\r\n",
        "q1= ho['Rooms'].quantile(0.25)\r\n",
        "q3= ho['Rooms'].quantile(0.75)\r\n",
        "iqr= q3-q1\r\n",
        "ul= q3 + 1.5*iqr\r\n",
        "ll= q1 - 1.5*iqr\r\n",
        "print(ul)\r\n",
        "print(ll)\r\n"
      ],
      "execution_count": null,
      "outputs": [
        {
          "output_type": "stream",
          "text": [
            "7.0\n",
            "-1.0\n"
          ],
          "name": "stdout"
        }
      ]
    },
    {
      "cell_type": "markdown",
      "metadata": {
        "collapsed": true,
        "id": "TGl2ELkNThvx"
      },
      "source": [
        "<table align=\"left\">\n",
        "    <tr>\n",
        "        <td width=\"6%\">\n",
        "            <img src=\"question_icon.png\">\n",
        "        </td>\n",
        "        <td>\n",
        "            <div align=\"left\", style=\"font-size:120%\">\n",
        "                <font color=\"#21618C\">\n",
        "                    <b>14. Suggest a method to find the outlier values for the feature representing the number of bathrooms\n",
        " </b>\n",
        "                </font>\n",
        "            </div>\n",
        "        </td>\n",
        "    </tr>\n",
        "</table>"
      ]
    },
    {
      "cell_type": "code",
      "metadata": {
        "colab": {
          "base_uri": "https://localhost:8080/",
          "height": 358
        },
        "id": "znhJcowRThvy",
        "outputId": "c207f822-5ae9-4e74-cf82-2f9dcbf6f7f4"
      },
      "source": [
        "# we can use IQR method to find out outliers or we can visualize it using boxplot.\r\n",
        "\r\n",
        "sns.boxplot(ho['Bathroom'])"
      ],
      "execution_count": null,
      "outputs": [
        {
          "output_type": "stream",
          "text": [
            "/usr/local/lib/python3.6/dist-packages/seaborn/_decorators.py:43: FutureWarning: Pass the following variable as a keyword arg: x. From version 0.12, the only valid positional argument will be `data`, and passing other arguments without an explicit keyword will result in an error or misinterpretation.\n",
            "  FutureWarning\n"
          ],
          "name": "stderr"
        },
        {
          "output_type": "execute_result",
          "data": {
            "text/plain": [
              "<matplotlib.axes._subplots.AxesSubplot at 0x7fbaf7fa3438>"
            ]
          },
          "metadata": {
            "tags": []
          },
          "execution_count": 63
        },
        {
          "output_type": "display_data",
          "data": {
            "image/png": "[encoded data removed]",
            "text/plain": [
              "<Figure size 432x288 with 1 Axes>"
            ]
          },
          "metadata": {
            "tags": []
          }
        }
      ]
    },
    {
      "cell_type": "markdown",
      "metadata": {
        "collapsed": true,
        "id": "KGk9UJhIThvz"
      },
      "source": [
        "<table align=\"left\">\n",
        "    <tr>\n",
        "        <td width=\"6%\">\n",
        "            <img src=\"question_icon.png\">\n",
        "        </td>\n",
        "        <td>\n",
        "            <div align=\"left\", style=\"font-size:120%\">\n",
        "                <font color=\"#21618C\">\n",
        "                    <b>15. Extract the records corresponding to the extreme outliers present in the feature representing the number of bedrooms\n",
        "                    </b>\n",
        "                </font>\n",
        "            </div>\n",
        "        </td>\n",
        "    </tr>\n",
        "</table>"
      ]
    },
    {
      "cell_type": "code",
      "metadata": {
        "id": "gMesRSQgThvz",
        "colab": {
          "base_uri": "https://localhost:8080/"
        },
        "outputId": "29df6535-6950-4c04-f007-b7112703e58a"
      },
      "source": [
        "q1= ho['Bedroom'].quantile(0.25)\r\n",
        "q3= ho['Bedroom'].quantile(0.75)\r\n",
        "iqr= q3-q1\r\n",
        "ul= q3 + 1.5*iqr\r\n",
        "ll= q1 - 1.5*iqr\r\n",
        "print(q1)\r\n",
        "print(q3)\r\n",
        "print(ul)\r\n",
        "print(ll)\r\n",
        "print(iqr)"
      ],
      "execution_count": null,
      "outputs": [
        {
          "output_type": "stream",
          "text": [
            "2.0\n",
            "4.0\n",
            "7.0\n",
            "-1.0\n",
            "2.0\n"
          ],
          "name": "stdout"
        }
      ]
    },
    {
      "cell_type": "code",
      "metadata": {
        "id": "eDLqSIEIG-gH"
      },
      "source": [
        "er= []\r\n",
        "for i in range(len(ho['Bedroom'])):\r\n",
        "  if ho['Bedroom'][i] > 7 or ho['Bedroom'][i] < -1:\r\n",
        "    er.append(ho['Bedroom'][i])"
      ],
      "execution_count": null,
      "outputs": []
    },
    {
      "cell_type": "code",
      "metadata": {
        "colab": {
          "base_uri": "https://localhost:8080/"
        },
        "id": "6BFm7BTvHuVh",
        "outputId": "f516dafa-998c-4a46-d70b-d0755663306f"
      },
      "source": [
        "for i in range(len(ho['Bedroom'])):\r\n",
        "  if ho['Bedroom'][i] in er:\r\n",
        "    print(ho.iloc[i])"
      ],
      "execution_count": null,
      "outputs": [
        {
          "output_type": "stream",
          "text": [
            "Rooms                             3\n",
            "Type                              t\n",
            "Price                       1100000\n",
            "Method                            S\n",
            "Regionname    Southern Metropolitan\n",
            "Bathroom                          1\n",
            "Car                               1\n",
            "Landsize                          0\n",
            "Distance                       12.1\n",
            "Bedroom                           8\n",
            "dist                       near CBD\n",
            "Name: 279, dtype: object\n",
            "Rooms                                  2\n",
            "Type                                   u\n",
            "Price                             612000\n",
            "Method                                 S\n",
            "Regionname    South-Eastern Metropolitan\n",
            "Bathroom                               1\n",
            "Car                                    2\n",
            "Landsize                             766\n",
            "Distance                            27.1\n",
            "Bedroom                                9\n",
            "dist                             far_CBD\n",
            "Name: 467, dtype: object\n",
            "Rooms                            3\n",
            "Type                             h\n",
            "Price                       470000\n",
            "Method                          PI\n",
            "Regionname    Western Metropolitan\n",
            "Bathroom                         2\n",
            "Car                              2\n",
            "Landsize                       486\n",
            "Distance                      20.9\n",
            "Bedroom                          9\n",
            "dist                       mid-CBD\n",
            "Name: 1228, dtype: object\n",
            "Rooms                            3\n",
            "Type                             h\n",
            "Price                       496000\n",
            "Method                           S\n",
            "Regionname    Western Metropolitan\n",
            "Bathroom                         1\n",
            "Car                              1\n",
            "Landsize                         0\n",
            "Distance                      21.7\n",
            "Bedroom                         30\n",
            "dist                       mid-CBD\n",
            "Name: 1937, dtype: object\n",
            "Rooms                            3\n",
            "Type                             h\n",
            "Price                       825000\n",
            "Method                           S\n",
            "Regionname    Eastern Metropolitan\n",
            "Bathroom                         2\n",
            "Car                              2\n",
            "Landsize                       296\n",
            "Distance                      21.2\n",
            "Bedroom                          8\n",
            "dist                       mid-CBD\n",
            "Name: 4241, dtype: object\n",
            "Rooms                            3\n",
            "Type                             t\n",
            "Price                       750000\n",
            "Method                           S\n",
            "Regionname    Western Metropolitan\n",
            "Bathroom                         2\n",
            "Car                              0\n",
            "Landsize                       311\n",
            "Distance                      22.1\n",
            "Bedroom                          8\n",
            "dist                       mid-CBD\n",
            "Name: 4249, dtype: object\n"
          ],
          "name": "stdout"
        }
      ]
    },
    {
      "cell_type": "markdown",
      "metadata": {
        "id": "D5EiSV5xThv0"
      },
      "source": [
        "<a id=\"odt\"> </a>\n",
        "## 4. Treatment of Outliers"
      ]
    },
    {
      "cell_type": "markdown",
      "metadata": {
        "collapsed": true,
        "id": "xJaxtTeuThv0"
      },
      "source": [
        "<table align=\"left\">\n",
        "    <tr>\n",
        "        <td width=\"6%\">\n",
        "            <img src=\"question_icon.png\">\n",
        "        </td>\n",
        "        <td>\n",
        "            <div align=\"left\", style=\"font-size:120%\">\n",
        "                <font color=\"#21618C\">\n",
        "                    <b>16. What is the change in the average distance after handling the outliers using IQR method in the feature representing the distance?  \n",
        "</b>\n",
        "                </font>\n",
        "            </div>\n",
        "        </td>\n",
        "    </tr>\n",
        "</table>"
      ]
    },
    {
      "cell_type": "code",
      "metadata": {
        "id": "TM_qKqVdThv0",
        "colab": {
          "base_uri": "https://localhost:8080/"
        },
        "outputId": "b34f717c-7a58-4851-9def-7142d909013b"
      },
      "source": [
        "q1= ho['Distance'].quantile(0.25)\r\n",
        "q3= ho['Distance'].quantile(0.75)\r\n",
        "iqr= q3-q1\r\n",
        "ul= q3 + 1.5*iqr\r\n",
        "ll= q1 - 1.5*iqr\r\n",
        "print(q1)\r\n",
        "print(q3)\r\n",
        "print(ul)\r\n",
        "print(ll)\r\n",
        "print(iqr)"
      ],
      "execution_count": null,
      "outputs": [
        {
          "output_type": "stream",
          "text": [
            "16.5\n",
            "22.2\n",
            "30.75\n",
            "7.950000000000001\n",
            "5.699999999999999\n"
          ],
          "name": "stdout"
        }
      ]
    },
    {
      "cell_type": "code",
      "metadata": {
        "id": "LShg2q7mCFoo"
      },
      "source": [
        "out_1 = ho[(ho['Distance'] > ul) | (ho['Distance'] < ll)]['Distance']"
      ],
      "execution_count": null,
      "outputs": []
    },
    {
      "cell_type": "code",
      "metadata": {
        "colab": {
          "base_uri": "https://localhost:8080/"
        },
        "id": "x8n3VC_eGAjM",
        "outputId": "541ec7f4-7a54-48a4-caae-612b86fad7fe"
      },
      "source": [
        "len(out_1)"
      ],
      "execution_count": null,
      "outputs": [
        {
          "output_type": "execute_result",
          "data": {
            "text/plain": [
              "31"
            ]
          },
          "metadata": {
            "tags": []
          },
          "execution_count": 47
        }
      ]
    },
    {
      "cell_type": "code",
      "metadata": {
        "colab": {
          "base_uri": "https://localhost:8080/"
        },
        "id": "wkTkm8P0Fa8Q",
        "outputId": "787f6660-7f31-4151-d0f2-de5e247fb75f"
      },
      "source": [
        "out_1.values"
      ],
      "execution_count": null,
      "outputs": [
        {
          "output_type": "execute_result",
          "data": {
            "text/plain": [
              "array([33.1, 31.3, 31.7,  7.5, 31. , 31.9, 31.3,  6.7,  6. , 31.6,  7. ,\n",
              "        6.6, 30.9, 31.5, 31.1, 31.1,  7.1,  7.1,  7.1,  7.8,  5. , 31.6,\n",
              "       32.6, 31. , 30.9, 30.9, 32.2,  7.3, 30.9,  6.3, 31.2])"
            ]
          },
          "metadata": {
            "tags": []
          },
          "execution_count": 37
        }
      ]
    },
    {
      "cell_type": "code",
      "metadata": {
        "id": "xWVD0df9CFzU"
      },
      "source": [
        "t= []\r\n",
        "for i in range(len(ho['Distance'])):\r\n",
        "  if ho['Distance'][i] not in out_1.values:\r\n",
        "    t.append(ho['Distance'][i])"
      ],
      "execution_count": null,
      "outputs": []
    },
    {
      "cell_type": "code",
      "metadata": {
        "colab": {
          "base_uri": "https://localhost:8080/"
        },
        "id": "NGj9n7O7FzOB",
        "outputId": "81070985-3543-4cad-da04-8632f9889f1a"
      },
      "source": [
        "# before handling outliers:\r\n",
        "print(len(ho['Distance']))\r\n",
        "ho['Distance'].mean()"
      ],
      "execution_count": null,
      "outputs": [
        {
          "output_type": "stream",
          "text": [
            "4766\n"
          ],
          "name": "stdout"
        },
        {
          "output_type": "execute_result",
          "data": {
            "text/plain": [
              "19.32834662190515"
            ]
          },
          "metadata": {
            "tags": []
          },
          "execution_count": 45
        }
      ]
    },
    {
      "cell_type": "code",
      "metadata": {
        "colab": {
          "base_uri": "https://localhost:8080/"
        },
        "id": "tM1LSIQdFmPu",
        "outputId": "a6e8cdf1-744c-45a1-d47b-630eac8ab76d"
      },
      "source": [
        "print(len(t))\r\n",
        "sum(t)/len(t)"
      ],
      "execution_count": null,
      "outputs": [
        {
          "output_type": "stream",
          "text": [
            "4735\n"
          ],
          "name": "stdout"
        },
        {
          "output_type": "execute_result",
          "data": {
            "text/plain": [
              "19.311425554382247"
            ]
          },
          "metadata": {
            "tags": []
          },
          "execution_count": 46
        }
      ]
    },
    {
      "cell_type": "markdown",
      "metadata": {
        "collapsed": true,
        "id": "IF_5tDTIThv0"
      },
      "source": [
        "<table align=\"left\">\n",
        "    <tr>\n",
        "        <td width=\"6%\">\n",
        "            <img src=\"question_icon.png\">\n",
        "        </td>\n",
        "        <td>\n",
        "            <div align=\"left\", style=\"font-size:120%\">\n",
        "                <font color=\"#21618C\">\n",
        "                    <b>17. What should be the range (K*IQR) considered to eliminate the extreme outliers for the feature representing the house price? \n",
        "</b>\n",
        "                </font>\n",
        "            </div>\n",
        "        </td>\n",
        "    </tr>\n",
        "</table>"
      ]
    },
    {
      "cell_type": "code",
      "metadata": {
        "colab": {
          "base_uri": "https://localhost:8080/",
          "height": 358
        },
        "id": "Irgw3EbVThv1",
        "outputId": "eed5661d-ab51-42f0-c1ee-6795734c99f9"
      },
      "source": [
        "# 6.5 should be the range\r\n",
        "sns.boxplot(ho['Price'], whis=6.5)"
      ],
      "execution_count": null,
      "outputs": [
        {
          "output_type": "stream",
          "text": [
            "/usr/local/lib/python3.6/dist-packages/seaborn/_decorators.py:43: FutureWarning: Pass the following variable as a keyword arg: x. From version 0.12, the only valid positional argument will be `data`, and passing other arguments without an explicit keyword will result in an error or misinterpretation.\n",
            "  FutureWarning\n"
          ],
          "name": "stderr"
        },
        {
          "output_type": "execute_result",
          "data": {
            "text/plain": [
              "<matplotlib.axes._subplots.AxesSubplot at 0x7fbaf7f410f0>"
            ]
          },
          "metadata": {
            "tags": []
          },
          "execution_count": 67
        },
        {
          "output_type": "display_data",
          "data": {
            "image/png": "[encoded data removed]",
            "text/plain": [
              "<Figure size 432x288 with 1 Axes>"
            ]
          },
          "metadata": {
            "tags": []
          }
        }
      ]
    },
    {
      "cell_type": "markdown",
      "metadata": {
        "id": "uWkQDUAMThv1"
      },
      "source": [
        "<a id=\"fe\"> </a>\n",
        "## 5. Feature Engineering"
      ]
    },
    {
      "cell_type": "markdown",
      "metadata": {
        "collapsed": true,
        "id": "H_7JJzyTThv2"
      },
      "source": [
        "<table align=\"left\">\n",
        "    <tr>\n",
        "        <td width=\"6%\">\n",
        "            <img src=\"question_icon.png\">\n",
        "        </td>\n",
        "        <td>\n",
        "            <div align=\"left\", style=\"font-size:120%\">\n",
        "                <font color=\"#21618C\">\n",
        "                    <b>18. Categorize the houses in three groups based on their distance from CBD and create a new feature containing the group labels\n",
        "</b>\n",
        "                </font>\n",
        "            </div>\n",
        "        </td>\n",
        "    </tr>\n",
        "</table>"
      ]
    },
    {
      "cell_type": "code",
      "metadata": {
        "colab": {
          "base_uri": "https://localhost:8080/"
        },
        "id": "Uj1Lv4MUThv2",
        "outputId": "5eeb44f8-cc09-46a0-aac3-610291036b79"
      },
      "source": [
        "ho['Distance'].describe()"
      ],
      "execution_count": null,
      "outputs": [
        {
          "output_type": "execute_result",
          "data": {
            "text/plain": [
              "count    4766.000000\n",
              "mean       19.328347\n",
              "std         4.230650\n",
              "min         5.000000\n",
              "25%        16.500000\n",
              "50%        19.300000\n",
              "75%        22.200000\n",
              "max        33.100000\n",
              "Name: Distance, dtype: float64"
            ]
          },
          "metadata": {
            "tags": []
          },
          "execution_count": 4
        }
      ]
    },
    {
      "cell_type": "code",
      "metadata": {
        "id": "1w_HrBIn-Klw"
      },
      "source": [
        "ho['dist'] = [i for i in range(len(ho['Bathroom']))]\r\n",
        "for i in range(len(ho['Distance'])):\r\n",
        "  if ho['Distance'][i] <= 14:\r\n",
        "    ho['dist'][i] = 'near CBD'\r\n",
        "  elif ho['Distance'][i] <= 24:\r\n",
        "    ho['dist'][i] = 'mid-CBD'\r\n",
        "  else:\r\n",
        "    ho['dist'][i] = 'far_CBD'"
      ],
      "execution_count": null,
      "outputs": []
    },
    {
      "cell_type": "code",
      "metadata": {
        "colab": {
          "base_uri": "https://localhost:8080/",
          "height": 204
        },
        "id": "jv_OWHDVl20V",
        "outputId": "286ffaf3-5503-4c3e-ab41-06f342b2d445"
      },
      "source": [
        "ho.head()"
      ],
      "execution_count": null,
      "outputs": [
        {
          "output_type": "execute_result",
          "data": {
            "text/html": [
              "<div>\n",
              "<style scoped>\n",
              "    .dataframe tbody tr th:only-of-type {\n",
              "        vertical-align: middle;\n",
              "    }\n",
              "\n",
              "    .dataframe tbody tr th {\n",
              "        vertical-align: top;\n",
              "    }\n",
              "\n",
              "    .dataframe thead th {\n",
              "        text-align: right;\n",
              "    }\n",
              "</style>\n",
              "<table border=\"1\" class=\"dataframe\">\n",
              "  <thead>\n",
              "    <tr style=\"text-align: right;\">\n",
              "      <th></th>\n",
              "      <th>Rooms</th>\n",
              "      <th>Type</th>\n",
              "      <th>Price</th>\n",
              "      <th>Method</th>\n",
              "      <th>Regionname</th>\n",
              "      <th>Bathroom</th>\n",
              "      <th>Car</th>\n",
              "      <th>Landsize</th>\n",
              "      <th>Distance</th>\n",
              "      <th>Bedroom</th>\n",
              "      <th>dist</th>\n",
              "    </tr>\n",
              "  </thead>\n",
              "  <tbody>\n",
              "    <tr>\n",
              "      <th>0</th>\n",
              "      <td>3</td>\n",
              "      <td>h</td>\n",
              "      <td>1490000</td>\n",
              "      <td>S</td>\n",
              "      <td>Northern Metropolitan</td>\n",
              "      <td>1</td>\n",
              "      <td>1</td>\n",
              "      <td>126</td>\n",
              "      <td>25.2</td>\n",
              "      <td>2</td>\n",
              "      <td>far_CBD</td>\n",
              "    </tr>\n",
              "    <tr>\n",
              "      <th>1</th>\n",
              "      <td>3</td>\n",
              "      <td>h</td>\n",
              "      <td>1220000</td>\n",
              "      <td>S</td>\n",
              "      <td>Northern Metropolitan</td>\n",
              "      <td>1</td>\n",
              "      <td>1</td>\n",
              "      <td>202</td>\n",
              "      <td>21.8</td>\n",
              "      <td>2</td>\n",
              "      <td>mid-CBD</td>\n",
              "    </tr>\n",
              "    <tr>\n",
              "      <th>2</th>\n",
              "      <td>3</td>\n",
              "      <td>h</td>\n",
              "      <td>1420000</td>\n",
              "      <td>S</td>\n",
              "      <td>Northern Metropolitan</td>\n",
              "      <td>1</td>\n",
              "      <td>0</td>\n",
              "      <td>156</td>\n",
              "      <td>21.7</td>\n",
              "      <td>2</td>\n",
              "      <td>mid-CBD</td>\n",
              "    </tr>\n",
              "    <tr>\n",
              "      <th>3</th>\n",
              "      <td>3</td>\n",
              "      <td>h</td>\n",
              "      <td>1515000</td>\n",
              "      <td>S</td>\n",
              "      <td>Western Metropolitan</td>\n",
              "      <td>2</td>\n",
              "      <td>1</td>\n",
              "      <td>0</td>\n",
              "      <td>18.8</td>\n",
              "      <td>3</td>\n",
              "      <td>mid-CBD</td>\n",
              "    </tr>\n",
              "    <tr>\n",
              "      <th>4</th>\n",
              "      <td>2</td>\n",
              "      <td>h</td>\n",
              "      <td>670000</td>\n",
              "      <td>S</td>\n",
              "      <td>Western Metropolitan</td>\n",
              "      <td>2</td>\n",
              "      <td>0</td>\n",
              "      <td>134</td>\n",
              "      <td>20.6</td>\n",
              "      <td>3</td>\n",
              "      <td>mid-CBD</td>\n",
              "    </tr>\n",
              "  </tbody>\n",
              "</table>\n",
              "</div>"
            ],
            "text/plain": [
              "   Rooms Type    Price Method  ... Landsize  Distance  Bedroom     dist\n",
              "0      3    h  1490000      S  ...      126      25.2        2  far_CBD\n",
              "1      3    h  1220000      S  ...      202      21.8        2  mid-CBD\n",
              "2      3    h  1420000      S  ...      156      21.7        2  mid-CBD\n",
              "3      3    h  1515000      S  ...        0      18.8        3  mid-CBD\n",
              "4      2    h   670000      S  ...      134      20.6        3  mid-CBD\n",
              "\n",
              "[5 rows x 11 columns]"
            ]
          },
          "metadata": {
            "tags": []
          },
          "execution_count": 15
        }
      ]
    },
    {
      "cell_type": "markdown",
      "metadata": {
        "collapsed": true,
        "id": "OyRi0Y9CThv3"
      },
      "source": [
        "<table align=\"left\">\n",
        "    <tr>\n",
        "        <td width=\"6%\">\n",
        "            <img src=\"question_icon.png\">\n",
        "        </td>\n",
        "        <td>\n",
        "            <div align=\"left\", style=\"font-size:120%\">\n",
        "                <font color=\"#21618C\">\n",
        "                    <b>19. Compare the house prices based on the different distance levels \n",
        "</b>\n",
        "                </font>\n",
        "            </div>\n",
        "        </td>\n",
        "    </tr>\n",
        "</table>"
      ]
    },
    {
      "cell_type": "code",
      "metadata": {
        "colab": {
          "base_uri": "https://localhost:8080/"
        },
        "id": "hPaLlQf8AksU",
        "outputId": "a0fc671e-3b8e-4ec1-a58b-e7166c12527f"
      },
      "source": [
        "ho['dist'].value_counts()"
      ],
      "execution_count": null,
      "outputs": [
        {
          "output_type": "execute_result",
          "data": {
            "text/plain": [
              "mid-CBD     3662\n",
              "far_CBD      592\n",
              "near CBD     512\n",
              "Name: dist, dtype: int64"
            ]
          },
          "metadata": {
            "tags": []
          },
          "execution_count": 19
        }
      ]
    },
    {
      "cell_type": "code",
      "metadata": {
        "id": "sX65KOORThv3",
        "colab": {
          "base_uri": "https://localhost:8080/",
          "height": 334
        },
        "outputId": "5fcc6f5b-5357-46cb-8d8f-41f2b4c2a6c4"
      },
      "source": [
        "ho['Price'].groupby(ho['dist']).median().plot(kind='bar')"
      ],
      "execution_count": null,
      "outputs": [
        {
          "output_type": "execute_result",
          "data": {
            "text/plain": [
              "<matplotlib.axes._subplots.AxesSubplot at 0x7f96bffd0400>"
            ]
          },
          "metadata": {
            "tags": []
          },
          "execution_count": 18
        },
        {
          "output_type": "display_data",
          "data": {
            "image/png": "[encoded data removed]",
            "text/plain": [
              "<Figure size 432x288 with 1 Axes>"
            ]
          },
          "metadata": {
            "tags": [],
            "needs_background": "light"
          }
        }
      ]
    },
    {
      "cell_type": "markdown",
      "metadata": {
        "id": "Vf_mFKx_Thv3"
      },
      "source": [
        "<a id=\"split\"> </a>\n",
        "## 6. Train-Test Split"
      ]
    },
    {
      "cell_type": "markdown",
      "metadata": {
        "collapsed": true,
        "id": "GFvH4NzYThv4"
      },
      "source": [
        "<table align=\"left\">\n",
        "    <tr>\n",
        "        <td width=\"6%\">\n",
        "            <img src=\"question_icon.png\">\n",
        "        </td>\n",
        "        <td>\n",
        "            <div align=\"left\", style=\"font-size:120%\">\n",
        "                <font color=\"#21618C\">\n",
        "                    <b>20. Split the price of houses in the proportion 80:20 \n",
        "</b>\n",
        "                </font>\n",
        "            </div>\n",
        "        </td>\n",
        "    </tr>\n",
        "</table>"
      ]
    },
    {
      "cell_type": "code",
      "metadata": {
        "id": "F5U-7kAkThv4"
      },
      "source": [
        "from sklearn.model_selection import train_test_split\r\n",
        "\r\n",
        "a,b = train_test_split(ho['Price'], test_size= 0.2) "
      ],
      "execution_count": null,
      "outputs": []
    },
    {
      "cell_type": "code",
      "metadata": {
        "id": "hwZij1sqjILh"
      },
      "source": [
        ""
      ],
      "execution_count": null,
      "outputs": []
    }
  ]
}