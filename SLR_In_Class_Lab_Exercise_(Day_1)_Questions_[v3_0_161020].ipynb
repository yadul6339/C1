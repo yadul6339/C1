{
  "nbformat": 4,
  "nbformat_minor": 0,
  "metadata": {
    "kernelspec": {
      "display_name": "Python 3",
      "language": "python",
      "name": "python3"
    },
    "language_info": {
      "codemirror_mode": {
        "name": "ipython",
        "version": 3
      },
      "file_extension": ".py",
      "mimetype": "text/x-python",
      "name": "python",
      "nbconvert_exporter": "python",
      "pygments_lexer": "ipython3",
      "version": "3.8.3"
    },
    "colab": {
      "name": "SLR - In-Class - Lab Exercise (Day 1) - Questions  [v3.0 - 161020].ipynb",
      "provenance": [],
      "collapsed_sections": [],
      "include_colab_link": true
    }
  },
  "cells": [
    {
      "cell_type": "markdown",
      "metadata": {
        "id": "view-in-github",
        "colab_type": "text"
      },
      "source": [
        "<a href=\"https://colab.research.google.com/github/zerryberry/C1/blob/master/SLR_In_Class_Lab_Exercise_(Day_1)_Questions_%5Bv3_0_161020%5D.ipynb\" target=\"_parent\"><img src=\"https://colab.research.google.com/assets/colab-badge.svg\" alt=\"Open In Colab\"/></a>"
      ]
    },
    {
      "cell_type": "markdown",
      "metadata": {
        "id": "S5Xxukn1_W21"
      },
      "source": [
        "<table align=\"center\" width=100%>\n",
        "    <tr>\n",
        "        <td width=\"15%\">\n",
        "            <img src=\"in_class.png\">\n",
        "        </td>\n",
        "        <td>\n",
        "            <div align=\"center\">\n",
        "                <font color=\"#21618C\" size=8px>\n",
        "                    <b> Inclass - Lab <br>(Day 1)\n",
        "                    </b>\n",
        "                </font>\n",
        "            </div>\n",
        "        </td>\n",
        "    </tr>\n",
        "</table>"
      ]
    },
    {
      "cell_type": "markdown",
      "metadata": {
        "id": "eLkRLN9r_W3B"
      },
      "source": [
        "### About the data set 1 (Life Expectancy data)\n",
        "\n",
        "The dataset contains information about several health and economic factors that contribute to average life expectancy for different countries. <br> Attribute information: \n",
        "\n",
        "**Country:** Name of the country\n",
        "\n",
        "**Status:** Whether the country is Developed or Developing\n",
        "\n",
        "**Adult_Mortality:** Mortality rate for age group 15-60 out of every 1000 individuals of the population\n",
        "\n",
        "**Infant_Deaths:** Number of infant deaths per 1000 population\n",
        "\n",
        "**Hepatitis:** Hepatitis B (HepB) immunization coverage for 1 year olds (Percentage)\n",
        "\n",
        "**Measles:** Number of reported cases for measles per 1000 from population\n",
        "\n",
        "**BMI:** Average Body Mass Index for entire population\n",
        "\n",
        "**Underfive_Deaths:** Number of deaths under 5 years of age per 1000 population\n",
        "\n",
        "**Polio:** Polio (Pol3) immunization coverage for 1 year olds (Percentage)\n",
        "\n",
        "**Diphtheria:** Diphtheria tetanus toxoid and pertussis (DTP3) immunization coverage for 1 year olds (Percentage)\n",
        "\n",
        "**HIV:** Deaths per 1000 live births due to HIV/AIDS (0-4 years)\n",
        "\n",
        "**GDP:** Gross Domestic Product per capita (in USD)\n",
        "\n",
        "**Population:** Population of the country\n",
        "\n",
        "**Malnourished10_19:** Prevalence of malnutrition among children and adolescents for Age 10 to 19 (Percentage)\n",
        "\n",
        "**Malnourished5_9:** Prevalence of malnutrition among children for Age 5 to 9 (Percentage)\n",
        "\n",
        "**Income_Index:** Human Development Index (HDI) in terms of national income per capita (index ranging from 0 to 1)\n",
        "\n",
        "**Schooling:** Number of years of Schooling\n",
        "\n",
        "**Life_Expectancy:** Life Expectancy in age for the country\n",
        "\n",
        "\n",
        "\n"
      ]
    },
    {
      "cell_type": "markdown",
      "metadata": {
        "id": "qbKedpXo_W3C"
      },
      "source": [
        "## Table of Content\n",
        "\n",
        "1. **[Bivariate Regression](#Bivariate)**\n",
        "2. **[Multiple Linear Regression (MLR)](#MLR)**\n",
        "3. **[Inferences about slope](#ins)**\n",
        "4. **[Model Evaluation](#ML_eval)**\n",
        "5. **[Assumptions of Linear Regression](#assum)**\n",
        "6. **[Model Performance](#ml_perf)**"
      ]
    },
    {
      "cell_type": "markdown",
      "metadata": {
        "id": "z3rmALYF_W3D"
      },
      "source": [
        "**Import the required libraries**"
      ]
    },
    {
      "cell_type": "code",
      "metadata": {
        "id": "jv0lebgB_W3D"
      },
      "source": [
        "import pandas as pd\r\n",
        "import numpy as np\r\n",
        "import matplotlib.pyplot as plt\r\n",
        "import seaborn as sns\r\n",
        "import scipy.stats as stats"
      ],
      "execution_count": 106,
      "outputs": []
    },
    {
      "cell_type": "markdown",
      "metadata": {
        "id": "OJrw5WqL_W3E"
      },
      "source": [
        "#### Load the first dataset and check the first five observations\n",
        "\n",
        "Load the csv file and set the first column as index"
      ]
    },
    {
      "cell_type": "code",
      "metadata": {
        "colab": {
          "base_uri": "https://localhost:8080/"
        },
        "id": "Y1NxihX5_W3F",
        "outputId": "1c04664e-0b74-4100-9b3e-4b608cb96f3b"
      },
      "source": [
        "df= pd.read_csv('/content/FEV_data.csv')\n",
        "df1= pd.read_csv('/content/Life_Expectancy.csv')\n",
        "print(df.shape)\n",
        "print(df1.shape)"
      ],
      "execution_count": 107,
      "outputs": [
        {
          "output_type": "stream",
          "text": [
            "(654, 5)\n",
            "(124, 18)\n"
          ],
          "name": "stdout"
        }
      ]
    },
    {
      "cell_type": "code",
      "metadata": {
        "colab": {
          "base_uri": "https://localhost:8080/",
          "height": 217
        },
        "id": "iCeYdd4PJcZ5",
        "outputId": "ff620003-af36-40cc-981e-f59e932ba5c4"
      },
      "source": [
        "df1.head()"
      ],
      "execution_count": 108,
      "outputs": [
        {
          "output_type": "execute_result",
          "data": {
            "text/html": [
              "<div>\n",
              "<style scoped>\n",
              "    .dataframe tbody tr th:only-of-type {\n",
              "        vertical-align: middle;\n",
              "    }\n",
              "\n",
              "    .dataframe tbody tr th {\n",
              "        vertical-align: top;\n",
              "    }\n",
              "\n",
              "    .dataframe thead th {\n",
              "        text-align: right;\n",
              "    }\n",
              "</style>\n",
              "<table border=\"1\" class=\"dataframe\">\n",
              "  <thead>\n",
              "    <tr style=\"text-align: right;\">\n",
              "      <th></th>\n",
              "      <th>Country</th>\n",
              "      <th>Status</th>\n",
              "      <th>Adult_Mortality</th>\n",
              "      <th>Infant_Deaths</th>\n",
              "      <th>Hepatitis</th>\n",
              "      <th>Measles</th>\n",
              "      <th>BMI</th>\n",
              "      <th>Underfive_Deaths</th>\n",
              "      <th>Polio</th>\n",
              "      <th>Diphtheria</th>\n",
              "      <th>HIV</th>\n",
              "      <th>GDP</th>\n",
              "      <th>Population</th>\n",
              "      <th>Malnourished10_19</th>\n",
              "      <th>Malnourished5_9</th>\n",
              "      <th>Income_Index</th>\n",
              "      <th>Schooling</th>\n",
              "      <th>Expected</th>\n",
              "    </tr>\n",
              "  </thead>\n",
              "  <tbody>\n",
              "    <tr>\n",
              "      <th>0</th>\n",
              "      <td>Afghanistan</td>\n",
              "      <td>Developing</td>\n",
              "      <td>263</td>\n",
              "      <td>62</td>\n",
              "      <td>65</td>\n",
              "      <td>1154</td>\n",
              "      <td>19.1</td>\n",
              "      <td>83</td>\n",
              "      <td>6</td>\n",
              "      <td>65</td>\n",
              "      <td>0.1</td>\n",
              "      <td>584.259210</td>\n",
              "      <td>33736494</td>\n",
              "      <td>17.2</td>\n",
              "      <td>17.3</td>\n",
              "      <td>0.479</td>\n",
              "      <td>10.1</td>\n",
              "      <td>65.0</td>\n",
              "    </tr>\n",
              "    <tr>\n",
              "      <th>1</th>\n",
              "      <td>Albania</td>\n",
              "      <td>Developing</td>\n",
              "      <td>8</td>\n",
              "      <td>0</td>\n",
              "      <td>98</td>\n",
              "      <td>0</td>\n",
              "      <td>57.2</td>\n",
              "      <td>1</td>\n",
              "      <td>98</td>\n",
              "      <td>98</td>\n",
              "      <td>0.1</td>\n",
              "      <td>4575.763787</td>\n",
              "      <td>288914</td>\n",
              "      <td>1.2</td>\n",
              "      <td>1.3</td>\n",
              "      <td>0.761</td>\n",
              "      <td>14.2</td>\n",
              "      <td>77.5</td>\n",
              "    </tr>\n",
              "    <tr>\n",
              "      <th>2</th>\n",
              "      <td>Algeria</td>\n",
              "      <td>Developing</td>\n",
              "      <td>19</td>\n",
              "      <td>21</td>\n",
              "      <td>95</td>\n",
              "      <td>63</td>\n",
              "      <td>59.5</td>\n",
              "      <td>24</td>\n",
              "      <td>95</td>\n",
              "      <td>95</td>\n",
              "      <td>0.1</td>\n",
              "      <td>4132.762920</td>\n",
              "      <td>39871528</td>\n",
              "      <td>6.0</td>\n",
              "      <td>5.8</td>\n",
              "      <td>0.743</td>\n",
              "      <td>14.4</td>\n",
              "      <td>75.6</td>\n",
              "    </tr>\n",
              "    <tr>\n",
              "      <th>3</th>\n",
              "      <td>Angola</td>\n",
              "      <td>Developing</td>\n",
              "      <td>335</td>\n",
              "      <td>66</td>\n",
              "      <td>64</td>\n",
              "      <td>118</td>\n",
              "      <td>23.3</td>\n",
              "      <td>98</td>\n",
              "      <td>7</td>\n",
              "      <td>64</td>\n",
              "      <td>1.9</td>\n",
              "      <td>3695.793748</td>\n",
              "      <td>2785935</td>\n",
              "      <td>8.3</td>\n",
              "      <td>8.2</td>\n",
              "      <td>0.531</td>\n",
              "      <td>11.4</td>\n",
              "      <td>52.4</td>\n",
              "    </tr>\n",
              "    <tr>\n",
              "      <th>4</th>\n",
              "      <td>Argentina</td>\n",
              "      <td>Developing</td>\n",
              "      <td>116</td>\n",
              "      <td>8</td>\n",
              "      <td>94</td>\n",
              "      <td>0</td>\n",
              "      <td>62.8</td>\n",
              "      <td>9</td>\n",
              "      <td>93</td>\n",
              "      <td>94</td>\n",
              "      <td>0.1</td>\n",
              "      <td>13467.123600</td>\n",
              "      <td>43417765</td>\n",
              "      <td>1.0</td>\n",
              "      <td>0.9</td>\n",
              "      <td>0.826</td>\n",
              "      <td>17.3</td>\n",
              "      <td>76.3</td>\n",
              "    </tr>\n",
              "  </tbody>\n",
              "</table>\n",
              "</div>"
            ],
            "text/plain": [
              "       Country      Status  Adult_Mortality  ...  Income_Index  Schooling  Expected\n",
              "0  Afghanistan  Developing              263  ...         0.479       10.1      65.0\n",
              "1      Albania  Developing                8  ...         0.761       14.2      77.5\n",
              "2      Algeria  Developing               19  ...         0.743       14.4      75.6\n",
              "3       Angola  Developing              335  ...         0.531       11.4      52.4\n",
              "4    Argentina  Developing              116  ...         0.826       17.3      76.3\n",
              "\n",
              "[5 rows x 18 columns]"
            ]
          },
          "metadata": {
            "tags": []
          },
          "execution_count": 108
        }
      ]
    },
    {
      "cell_type": "code",
      "metadata": {
        "colab": {
          "base_uri": "https://localhost:8080/",
          "height": 426
        },
        "id": "u71dF8WcJcce",
        "outputId": "49068a80-266b-477c-c651-391ba2d0b656"
      },
      "source": [
        "df1.iloc[:, 2:]"
      ],
      "execution_count": 109,
      "outputs": [
        {
          "output_type": "execute_result",
          "data": {
            "text/html": [
              "<div>\n",
              "<style scoped>\n",
              "    .dataframe tbody tr th:only-of-type {\n",
              "        vertical-align: middle;\n",
              "    }\n",
              "\n",
              "    .dataframe tbody tr th {\n",
              "        vertical-align: top;\n",
              "    }\n",
              "\n",
              "    .dataframe thead th {\n",
              "        text-align: right;\n",
              "    }\n",
              "</style>\n",
              "<table border=\"1\" class=\"dataframe\">\n",
              "  <thead>\n",
              "    <tr style=\"text-align: right;\">\n",
              "      <th></th>\n",
              "      <th>Adult_Mortality</th>\n",
              "      <th>Infant_Deaths</th>\n",
              "      <th>Hepatitis</th>\n",
              "      <th>Measles</th>\n",
              "      <th>BMI</th>\n",
              "      <th>Underfive_Deaths</th>\n",
              "      <th>Polio</th>\n",
              "      <th>Diphtheria</th>\n",
              "      <th>HIV</th>\n",
              "      <th>GDP</th>\n",
              "      <th>Population</th>\n",
              "      <th>Malnourished10_19</th>\n",
              "      <th>Malnourished5_9</th>\n",
              "      <th>Income_Index</th>\n",
              "      <th>Schooling</th>\n",
              "      <th>Expected</th>\n",
              "    </tr>\n",
              "  </thead>\n",
              "  <tbody>\n",
              "    <tr>\n",
              "      <th>0</th>\n",
              "      <td>263</td>\n",
              "      <td>62</td>\n",
              "      <td>65</td>\n",
              "      <td>1154</td>\n",
              "      <td>19.1</td>\n",
              "      <td>83</td>\n",
              "      <td>6</td>\n",
              "      <td>65</td>\n",
              "      <td>0.1</td>\n",
              "      <td>584.259210</td>\n",
              "      <td>33736494</td>\n",
              "      <td>17.2</td>\n",
              "      <td>17.3</td>\n",
              "      <td>0.479</td>\n",
              "      <td>10.1</td>\n",
              "      <td>65.0</td>\n",
              "    </tr>\n",
              "    <tr>\n",
              "      <th>1</th>\n",
              "      <td>8</td>\n",
              "      <td>0</td>\n",
              "      <td>98</td>\n",
              "      <td>0</td>\n",
              "      <td>57.2</td>\n",
              "      <td>1</td>\n",
              "      <td>98</td>\n",
              "      <td>98</td>\n",
              "      <td>0.1</td>\n",
              "      <td>4575.763787</td>\n",
              "      <td>288914</td>\n",
              "      <td>1.2</td>\n",
              "      <td>1.3</td>\n",
              "      <td>0.761</td>\n",
              "      <td>14.2</td>\n",
              "      <td>77.5</td>\n",
              "    </tr>\n",
              "    <tr>\n",
              "      <th>2</th>\n",
              "      <td>19</td>\n",
              "      <td>21</td>\n",
              "      <td>95</td>\n",
              "      <td>63</td>\n",
              "      <td>59.5</td>\n",
              "      <td>24</td>\n",
              "      <td>95</td>\n",
              "      <td>95</td>\n",
              "      <td>0.1</td>\n",
              "      <td>4132.762920</td>\n",
              "      <td>39871528</td>\n",
              "      <td>6.0</td>\n",
              "      <td>5.8</td>\n",
              "      <td>0.743</td>\n",
              "      <td>14.4</td>\n",
              "      <td>75.6</td>\n",
              "    </tr>\n",
              "    <tr>\n",
              "      <th>3</th>\n",
              "      <td>335</td>\n",
              "      <td>66</td>\n",
              "      <td>64</td>\n",
              "      <td>118</td>\n",
              "      <td>23.3</td>\n",
              "      <td>98</td>\n",
              "      <td>7</td>\n",
              "      <td>64</td>\n",
              "      <td>1.9</td>\n",
              "      <td>3695.793748</td>\n",
              "      <td>2785935</td>\n",
              "      <td>8.3</td>\n",
              "      <td>8.2</td>\n",
              "      <td>0.531</td>\n",
              "      <td>11.4</td>\n",
              "      <td>52.4</td>\n",
              "    </tr>\n",
              "    <tr>\n",
              "      <th>4</th>\n",
              "      <td>116</td>\n",
              "      <td>8</td>\n",
              "      <td>94</td>\n",
              "      <td>0</td>\n",
              "      <td>62.8</td>\n",
              "      <td>9</td>\n",
              "      <td>93</td>\n",
              "      <td>94</td>\n",
              "      <td>0.1</td>\n",
              "      <td>13467.123600</td>\n",
              "      <td>43417765</td>\n",
              "      <td>1.0</td>\n",
              "      <td>0.9</td>\n",
              "      <td>0.826</td>\n",
              "      <td>17.3</td>\n",
              "      <td>76.3</td>\n",
              "    </tr>\n",
              "    <tr>\n",
              "      <th>...</th>\n",
              "      <td>...</td>\n",
              "      <td>...</td>\n",
              "      <td>...</td>\n",
              "      <td>...</td>\n",
              "      <td>...</td>\n",
              "      <td>...</td>\n",
              "      <td>...</td>\n",
              "      <td>...</td>\n",
              "      <td>...</td>\n",
              "      <td>...</td>\n",
              "      <td>...</td>\n",
              "      <td>...</td>\n",
              "      <td>...</td>\n",
              "      <td>...</td>\n",
              "      <td>...</td>\n",
              "      <td>...</td>\n",
              "    </tr>\n",
              "    <tr>\n",
              "      <th>119</th>\n",
              "      <td>37</td>\n",
              "      <td>24</td>\n",
              "      <td>95</td>\n",
              "      <td>129</td>\n",
              "      <td>15.4</td>\n",
              "      <td>38</td>\n",
              "      <td>95</td>\n",
              "      <td>95</td>\n",
              "      <td>7.1</td>\n",
              "      <td>287.931877</td>\n",
              "      <td>8991735</td>\n",
              "      <td>6.8</td>\n",
              "      <td>7.0</td>\n",
              "      <td>0.388</td>\n",
              "      <td>8.8</td>\n",
              "      <td>55.3</td>\n",
              "    </tr>\n",
              "    <tr>\n",
              "      <th>120</th>\n",
              "      <td>397</td>\n",
              "      <td>26</td>\n",
              "      <td>89</td>\n",
              "      <td>386</td>\n",
              "      <td>14.9</td>\n",
              "      <td>42</td>\n",
              "      <td>89</td>\n",
              "      <td>89</td>\n",
              "      <td>7.7</td>\n",
              "      <td>236.911438</td>\n",
              "      <td>8818438</td>\n",
              "      <td>6.9</td>\n",
              "      <td>7.1</td>\n",
              "      <td>0.371</td>\n",
              "      <td>8.2</td>\n",
              "      <td>53.4</td>\n",
              "    </tr>\n",
              "    <tr>\n",
              "      <th>121</th>\n",
              "      <td>48</td>\n",
              "      <td>29</td>\n",
              "      <td>96</td>\n",
              "      <td>1064</td>\n",
              "      <td>14.5</td>\n",
              "      <td>46</td>\n",
              "      <td>96</td>\n",
              "      <td>96</td>\n",
              "      <td>8.1</td>\n",
              "      <td>212.661949</td>\n",
              "      <td>868346</td>\n",
              "      <td>7.0</td>\n",
              "      <td>7.3</td>\n",
              "      <td>0.359</td>\n",
              "      <td>7.6</td>\n",
              "      <td>52.0</td>\n",
              "    </tr>\n",
              "    <tr>\n",
              "      <th>122</th>\n",
              "      <td>415</td>\n",
              "      <td>31</td>\n",
              "      <td>88</td>\n",
              "      <td>2738</td>\n",
              "      <td>14.1</td>\n",
              "      <td>50</td>\n",
              "      <td>85</td>\n",
              "      <td>88</td>\n",
              "      <td>8.0</td>\n",
              "      <td>196.597780</td>\n",
              "      <td>853625</td>\n",
              "      <td>7.2</td>\n",
              "      <td>7.4</td>\n",
              "      <td>0.343</td>\n",
              "      <td>7.2</td>\n",
              "      <td>57.0</td>\n",
              "    </tr>\n",
              "    <tr>\n",
              "      <th>123</th>\n",
              "      <td>438</td>\n",
              "      <td>33</td>\n",
              "      <td>85</td>\n",
              "      <td>896</td>\n",
              "      <td>13.7</td>\n",
              "      <td>54</td>\n",
              "      <td>76</td>\n",
              "      <td>77</td>\n",
              "      <td>8.1</td>\n",
              "      <td>21.569654</td>\n",
              "      <td>832946</td>\n",
              "      <td>7.4</td>\n",
              "      <td>7.5</td>\n",
              "      <td>0.332</td>\n",
              "      <td>7.1</td>\n",
              "      <td>48.6</td>\n",
              "    </tr>\n",
              "  </tbody>\n",
              "</table>\n",
              "<p>124 rows × 16 columns</p>\n",
              "</div>"
            ],
            "text/plain": [
              "     Adult_Mortality  Infant_Deaths  ...  Schooling  Expected\n",
              "0                263             62  ...       10.1      65.0\n",
              "1                  8              0  ...       14.2      77.5\n",
              "2                 19             21  ...       14.4      75.6\n",
              "3                335             66  ...       11.4      52.4\n",
              "4                116              8  ...       17.3      76.3\n",
              "..               ...            ...  ...        ...       ...\n",
              "119               37             24  ...        8.8      55.3\n",
              "120              397             26  ...        8.2      53.4\n",
              "121               48             29  ...        7.6      52.0\n",
              "122              415             31  ...        7.2      57.0\n",
              "123              438             33  ...        7.1      48.6\n",
              "\n",
              "[124 rows x 16 columns]"
            ]
          },
          "metadata": {
            "tags": []
          },
          "execution_count": 109
        }
      ]
    },
    {
      "cell_type": "code",
      "metadata": {
        "id": "41-GEmQ4T_wY",
        "colab": {
          "base_uri": "https://localhost:8080/"
        },
        "outputId": "41e5a045-4f00-46ad-99cd-c55539d9a988"
      },
      "source": [
        "['Hepatitis', 'Measles', 'Polio', 'Diphtheria']"
      ],
      "execution_count": 110,
      "outputs": [
        {
          "output_type": "execute_result",
          "data": {
            "text/plain": [
              "['Hepatitis', 'Measles', 'Polio', 'Diphtheria']"
            ]
          },
          "metadata": {
            "tags": []
          },
          "execution_count": 110
        }
      ]
    },
    {
      "cell_type": "code",
      "metadata": {
        "id": "ZSK-pv334aNA"
      },
      "source": [
        "df1.columns = [i.strip() for i in df1.columns]"
      ],
      "execution_count": 111,
      "outputs": []
    },
    {
      "cell_type": "markdown",
      "metadata": {
        "id": "7WSjCA5i_W3F"
      },
      "source": [
        "### Let's begin with some hands-on practice exercises"
      ]
    },
    {
      "cell_type": "markdown",
      "metadata": {
        "id": "qxT3C0MI_W3J"
      },
      "source": [
        "<a id=\"Bivariate\"> </a>\n",
        "## 1. Bivariate Regression"
      ]
    },
    {
      "cell_type": "markdown",
      "metadata": {
        "id": "Nj9gSzpX_W3K"
      },
      "source": [
        "## We shall use the life expectancy dataset"
      ]
    },
    {
      "cell_type": "markdown",
      "metadata": {
        "collapsed": true,
        "id": "quoiIHHs_W3K"
      },
      "source": [
        "<table align=\"left\">\n",
        "    <tr>\n",
        "        <td width=\"6%\">\n",
        "            <img src=\"question_icon.png\">\n",
        "        </td>\n",
        "        <td>\n",
        "            <div align=\"left\", style=\"font-size:120%\">\n",
        "                <font color=\"#21618C\">\n",
        "                    <b>1. How do we analyze the impact of adult mortality rate on average life expectancy of a country?</b>\n",
        "                </font>\n",
        "            </div>\n",
        "        </td>\n",
        "    </tr>\n",
        "</table>"
      ]
    },
    {
      "cell_type": "code",
      "metadata": {
        "colab": {
          "base_uri": "https://localhost:8080/",
          "height": 278
        },
        "id": "Z1txKGHPMbAs",
        "outputId": "20ee69a7-5f58-4249-839b-683b841ee1e9"
      },
      "source": [
        "sns.regplot(y=df1['Adult_Mortality'], x= df1['Expected'])\r\n",
        "plt.show()"
      ],
      "execution_count": 112,
      "outputs": [
        {
          "output_type": "display_data",
          "data": {
            "image/png": "[encoded data removed]",
            "text/plain": [
              "<Figure size 432x288 with 1 Axes>"
            ]
          },
          "metadata": {
            "tags": [],
            "needs_background": "light"
          }
        }
      ]
    },
    {
      "cell_type": "markdown",
      "metadata": {
        "id": "CFZM5YPENOse"
      },
      "source": [
        "From the reg plot, we can see a trend that as the Adult mortality decreases, expected lifespan increases. There is a negative correlation between them."
      ]
    },
    {
      "cell_type": "code",
      "metadata": {
        "id": "CME2RPa9M0QI"
      },
      "source": [
        "df1.set_index('Country', inplace=True)"
      ],
      "execution_count": 113,
      "outputs": []
    },
    {
      "cell_type": "markdown",
      "metadata": {
        "collapsed": true,
        "id": "lFW-RRua_W3L"
      },
      "source": [
        "<table align=\"left\">\n",
        "    <tr>\n",
        "        <td width=\"6%\">\n",
        "            <img src=\"question_icon.png\">\n",
        "        </td>\n",
        "        <td>\n",
        "            <div align=\"left\", style=\"font-size:120%\">\n",
        "                <font color=\"#21618C\">\n",
        "                    <b>2. A regression model is built to check the impact of Human Development Index (Income) on the life expectancy of a nation. What is the expected error value?</b>\n",
        "                </font>\n",
        "            </div>\n",
        "        </td>\n",
        "    </tr>\n",
        "</table>"
      ]
    },
    {
      "cell_type": "code",
      "metadata": {
        "colab": {
          "base_uri": "https://localhost:8080/"
        },
        "id": "EBu2y_0G_W3M",
        "outputId": "e70d054a-984c-4363-8fe8-9196544e08ab"
      },
      "source": [
        "import statsmodels.api as sm\r\n",
        "xc= sm.add_constant(df1['Income_Index'])\r\n",
        "model = sm.OLS(df1['Expected'], xc).fit()\r\n",
        "y_pred= model.predict(xc)\r\n",
        "print(model.summary())"
      ],
      "execution_count": 114,
      "outputs": [
        {
          "output_type": "stream",
          "text": [
            "                            OLS Regression Results                            \n",
            "==============================================================================\n",
            "Dep. Variable:               Expected   R-squared:                       0.711\n",
            "Model:                            OLS   Adj. R-squared:                  0.709\n",
            "Method:                 Least Squares   F-statistic:                     300.0\n",
            "Date:                Fri, 29 Jan 2021   Prob (F-statistic):           1.13e-34\n",
            "Time:                        02:38:39   Log-Likelihood:                -363.40\n",
            "No. Observations:                 124   AIC:                             730.8\n",
            "Df Residuals:                     122   BIC:                             736.4\n",
            "Df Model:                           1                                         \n",
            "Covariance Type:            nonrobust                                         \n",
            "================================================================================\n",
            "                   coef    std err          t      P>|t|      [0.025      0.975]\n",
            "--------------------------------------------------------------------------------\n",
            "const           41.9191      1.741     24.081      0.000      38.473      45.365\n",
            "Income_Index    42.4243      2.449     17.322      0.000      37.576      47.273\n",
            "==============================================================================\n",
            "Omnibus:                       11.870   Durbin-Watson:                   1.355\n",
            "Prob(Omnibus):                  0.003   Jarque-Bera (JB):               26.475\n",
            "Skew:                           0.280   Prob(JB):                     1.78e-06\n",
            "Kurtosis:                       5.193   Cond. No.                         8.87\n",
            "==============================================================================\n",
            "\n",
            "Warnings:\n",
            "[1] Standard Errors assume that the covariance matrix of the errors is correctly specified.\n"
          ],
          "name": "stdout"
        }
      ]
    },
    {
      "cell_type": "code",
      "metadata": {
        "colab": {
          "base_uri": "https://localhost:8080/"
        },
        "id": "-Rk3pioY3VyX",
        "outputId": "d72b803b-640f-4ef4-a7a4-57151542b4bb"
      },
      "source": [
        "model.resid.mean()"
      ],
      "execution_count": 115,
      "outputs": [
        {
          "output_type": "execute_result",
          "data": {
            "text/plain": [
              "2.5957730588655274e-14"
            ]
          },
          "metadata": {
            "tags": []
          },
          "execution_count": 115
        }
      ]
    },
    {
      "cell_type": "code",
      "metadata": {
        "colab": {
          "base_uri": "https://localhost:8080/"
        },
        "id": "Uf2tR4cgO43o",
        "outputId": "7a7b4982-f22a-439f-b3f8-ad5764760655"
      },
      "source": [
        "from sklearn.metrics import mean_squared_error\r\n",
        "mean_squared_error(y_true=df1['Expected'], y_pred = y_pred)"
      ],
      "execution_count": 116,
      "outputs": [
        {
          "output_type": "execute_result",
          "data": {
            "text/plain": [
              "20.561167769791123"
            ]
          },
          "metadata": {
            "tags": []
          },
          "execution_count": 116
        }
      ]
    },
    {
      "cell_type": "markdown",
      "metadata": {
        "id": "lkdg5TGH_W3M"
      },
      "source": [
        "<a id=\"MLR\"> </a>\n",
        "## 2. Multiple Linear Regression(MLR)"
      ]
    },
    {
      "cell_type": "markdown",
      "metadata": {
        "collapsed": true,
        "id": "HtYJidyL_W3N"
      },
      "source": [
        "<table align=\"left\">\n",
        "    <tr>\n",
        "        <td width=\"6%\">\n",
        "            <img src=\"question_icon.png\">\n",
        "        </td>\n",
        "        <td>\n",
        "            <div align=\"left\", style=\"font-size:120%\">\n",
        "                <font color=\"#21618C\">\n",
        "                    <b>3. Analyze the impact of immunization on life expectancy. </b>\n",
        "                </font>\n",
        "            </div>\n",
        "        </td>\n",
        "    </tr>\n",
        "</table>"
      ]
    },
    {
      "cell_type": "code",
      "metadata": {
        "colab": {
          "base_uri": "https://localhost:8080/",
          "height": 247
        },
        "id": "HhvrIFV24NZL",
        "outputId": "dbd69358-15bb-4974-af7e-8f16d6e757fc"
      },
      "source": [
        "df1.head()"
      ],
      "execution_count": 117,
      "outputs": [
        {
          "output_type": "execute_result",
          "data": {
            "text/html": [
              "<div>\n",
              "<style scoped>\n",
              "    .dataframe tbody tr th:only-of-type {\n",
              "        vertical-align: middle;\n",
              "    }\n",
              "\n",
              "    .dataframe tbody tr th {\n",
              "        vertical-align: top;\n",
              "    }\n",
              "\n",
              "    .dataframe thead th {\n",
              "        text-align: right;\n",
              "    }\n",
              "</style>\n",
              "<table border=\"1\" class=\"dataframe\">\n",
              "  <thead>\n",
              "    <tr style=\"text-align: right;\">\n",
              "      <th></th>\n",
              "      <th>Status</th>\n",
              "      <th>Adult_Mortality</th>\n",
              "      <th>Infant_Deaths</th>\n",
              "      <th>Hepatitis</th>\n",
              "      <th>Measles</th>\n",
              "      <th>BMI</th>\n",
              "      <th>Underfive_Deaths</th>\n",
              "      <th>Polio</th>\n",
              "      <th>Diphtheria</th>\n",
              "      <th>HIV</th>\n",
              "      <th>GDP</th>\n",
              "      <th>Population</th>\n",
              "      <th>Malnourished10_19</th>\n",
              "      <th>Malnourished5_9</th>\n",
              "      <th>Income_Index</th>\n",
              "      <th>Schooling</th>\n",
              "      <th>Expected</th>\n",
              "    </tr>\n",
              "    <tr>\n",
              "      <th>Country</th>\n",
              "      <th></th>\n",
              "      <th></th>\n",
              "      <th></th>\n",
              "      <th></th>\n",
              "      <th></th>\n",
              "      <th></th>\n",
              "      <th></th>\n",
              "      <th></th>\n",
              "      <th></th>\n",
              "      <th></th>\n",
              "      <th></th>\n",
              "      <th></th>\n",
              "      <th></th>\n",
              "      <th></th>\n",
              "      <th></th>\n",
              "      <th></th>\n",
              "      <th></th>\n",
              "    </tr>\n",
              "  </thead>\n",
              "  <tbody>\n",
              "    <tr>\n",
              "      <th>Afghanistan</th>\n",
              "      <td>Developing</td>\n",
              "      <td>263</td>\n",
              "      <td>62</td>\n",
              "      <td>65</td>\n",
              "      <td>1154</td>\n",
              "      <td>19.1</td>\n",
              "      <td>83</td>\n",
              "      <td>6</td>\n",
              "      <td>65</td>\n",
              "      <td>0.1</td>\n",
              "      <td>584.259210</td>\n",
              "      <td>33736494</td>\n",
              "      <td>17.2</td>\n",
              "      <td>17.3</td>\n",
              "      <td>0.479</td>\n",
              "      <td>10.1</td>\n",
              "      <td>65.0</td>\n",
              "    </tr>\n",
              "    <tr>\n",
              "      <th>Albania</th>\n",
              "      <td>Developing</td>\n",
              "      <td>8</td>\n",
              "      <td>0</td>\n",
              "      <td>98</td>\n",
              "      <td>0</td>\n",
              "      <td>57.2</td>\n",
              "      <td>1</td>\n",
              "      <td>98</td>\n",
              "      <td>98</td>\n",
              "      <td>0.1</td>\n",
              "      <td>4575.763787</td>\n",
              "      <td>288914</td>\n",
              "      <td>1.2</td>\n",
              "      <td>1.3</td>\n",
              "      <td>0.761</td>\n",
              "      <td>14.2</td>\n",
              "      <td>77.5</td>\n",
              "    </tr>\n",
              "    <tr>\n",
              "      <th>Algeria</th>\n",
              "      <td>Developing</td>\n",
              "      <td>19</td>\n",
              "      <td>21</td>\n",
              "      <td>95</td>\n",
              "      <td>63</td>\n",
              "      <td>59.5</td>\n",
              "      <td>24</td>\n",
              "      <td>95</td>\n",
              "      <td>95</td>\n",
              "      <td>0.1</td>\n",
              "      <td>4132.762920</td>\n",
              "      <td>39871528</td>\n",
              "      <td>6.0</td>\n",
              "      <td>5.8</td>\n",
              "      <td>0.743</td>\n",
              "      <td>14.4</td>\n",
              "      <td>75.6</td>\n",
              "    </tr>\n",
              "    <tr>\n",
              "      <th>Angola</th>\n",
              "      <td>Developing</td>\n",
              "      <td>335</td>\n",
              "      <td>66</td>\n",
              "      <td>64</td>\n",
              "      <td>118</td>\n",
              "      <td>23.3</td>\n",
              "      <td>98</td>\n",
              "      <td>7</td>\n",
              "      <td>64</td>\n",
              "      <td>1.9</td>\n",
              "      <td>3695.793748</td>\n",
              "      <td>2785935</td>\n",
              "      <td>8.3</td>\n",
              "      <td>8.2</td>\n",
              "      <td>0.531</td>\n",
              "      <td>11.4</td>\n",
              "      <td>52.4</td>\n",
              "    </tr>\n",
              "    <tr>\n",
              "      <th>Argentina</th>\n",
              "      <td>Developing</td>\n",
              "      <td>116</td>\n",
              "      <td>8</td>\n",
              "      <td>94</td>\n",
              "      <td>0</td>\n",
              "      <td>62.8</td>\n",
              "      <td>9</td>\n",
              "      <td>93</td>\n",
              "      <td>94</td>\n",
              "      <td>0.1</td>\n",
              "      <td>13467.123600</td>\n",
              "      <td>43417765</td>\n",
              "      <td>1.0</td>\n",
              "      <td>0.9</td>\n",
              "      <td>0.826</td>\n",
              "      <td>17.3</td>\n",
              "      <td>76.3</td>\n",
              "    </tr>\n",
              "  </tbody>\n",
              "</table>\n",
              "</div>"
            ],
            "text/plain": [
              "                 Status  Adult_Mortality  ...  Schooling  Expected\n",
              "Country                                   ...                     \n",
              "Afghanistan  Developing              263  ...       10.1      65.0\n",
              "Albania      Developing                8  ...       14.2      77.5\n",
              "Algeria      Developing               19  ...       14.4      75.6\n",
              "Angola       Developing              335  ...       11.4      52.4\n",
              "Argentina    Developing              116  ...       17.3      76.3\n",
              "\n",
              "[5 rows x 17 columns]"
            ]
          },
          "metadata": {
            "tags": []
          },
          "execution_count": 117
        }
      ]
    },
    {
      "cell_type": "code",
      "metadata": {
        "colab": {
          "base_uri": "https://localhost:8080/"
        },
        "id": "HQ9vEO7i_W3N",
        "outputId": "cee105e4-fac1-4237-9f02-5714c068efd9"
      },
      "source": [
        "xc= sm.add_constant(df1[['Hepatitis', 'Polio', 'Diphtheria']])\r\n",
        "model = sm.OLS(df1['Expected'], xc).fit()\r\n",
        "y_pred1= model.predict(xc)\r\n",
        "print(model.summary())"
      ],
      "execution_count": 118,
      "outputs": [
        {
          "output_type": "stream",
          "text": [
            "                            OLS Regression Results                            \n",
            "==============================================================================\n",
            "Dep. Variable:               Expected   R-squared:                       0.138\n",
            "Model:                            OLS   Adj. R-squared:                  0.116\n",
            "Method:                 Least Squares   F-statistic:                     6.395\n",
            "Date:                Fri, 29 Jan 2021   Prob (F-statistic):           0.000468\n",
            "Time:                        02:38:39   Log-Likelihood:                -431.15\n",
            "No. Observations:                 124   AIC:                             870.3\n",
            "Df Residuals:                     120   BIC:                             881.6\n",
            "Df Model:                           3                                         \n",
            "Covariance Type:            nonrobust                                         \n",
            "==============================================================================\n",
            "                 coef    std err          t      P>|t|      [0.025      0.975]\n",
            "------------------------------------------------------------------------------\n",
            "const         57.9881      3.524     16.453      0.000      51.010      64.966\n",
            "Hepatitis     -0.1037      0.068     -1.528      0.129      -0.238       0.031\n",
            "Polio          0.0910      0.043      2.099      0.038       0.005       0.177\n",
            "Diphtheria     0.1613      0.082      1.969      0.051      -0.001       0.323\n",
            "==============================================================================\n",
            "Omnibus:                        4.513   Durbin-Watson:                   1.000\n",
            "Prob(Omnibus):                  0.105   Jarque-Bera (JB):                4.279\n",
            "Skew:                          -0.396   Prob(JB):                        0.118\n",
            "Kurtosis:                       2.550   Cond. No.                         755.\n",
            "==============================================================================\n",
            "\n",
            "Warnings:\n",
            "[1] Standard Errors assume that the covariance matrix of the errors is correctly specified.\n"
          ],
          "name": "stdout"
        }
      ]
    },
    {
      "cell_type": "code",
      "metadata": {
        "id": "HkH93dTMVSo2"
      },
      "source": [
        "# P values of  Polio is lesser than the critical value- so only that feature is significant in prediction of expected life."
      ],
      "execution_count": 119,
      "outputs": []
    },
    {
      "cell_type": "markdown",
      "metadata": {
        "collapsed": true,
        "id": "AR9dN6mc_W3N"
      },
      "source": [
        "<table align=\"left\">\n",
        "    <tr>\n",
        "        <td width=\"6%\">\n",
        "            <img src=\"question_icon.png\">\n",
        "        </td>\n",
        "        <td>\n",
        "            <div align=\"left\", style=\"font-size:120%\">\n",
        "                <font color=\"#21618C\">\n",
        "                    <b>4. If the information that whether the country is a developed or a developing country is included, does it alter the impact of immunzation on life expectancy ?</b>\n",
        "                </font>\n",
        "            </div>\n",
        "        </td>\n",
        "    </tr>\n",
        "</table>"
      ]
    },
    {
      "cell_type": "code",
      "metadata": {
        "id": "rgkNtJSU_W3O"
      },
      "source": [
        "df1['Developing'] = pd.get_dummies(df1['Status'], drop_first=True)"
      ],
      "execution_count": 120,
      "outputs": []
    },
    {
      "cell_type": "code",
      "metadata": {
        "colab": {
          "base_uri": "https://localhost:8080/"
        },
        "id": "5I1dP0wQXHJg",
        "outputId": "f6bb7dfd-a394-43b5-f207-f6c5b7df2b6d"
      },
      "source": [
        "xc= sm.add_constant(df1[['Hepatitis', 'Measles', 'Polio', 'Diphtheria', 'Developing']])\r\n",
        "model = sm.OLS(df1['Expected'], xc).fit()\r\n",
        "y_pred1= model.predict(xc)\r\n",
        "print(model.summary())"
      ],
      "execution_count": 121,
      "outputs": [
        {
          "output_type": "stream",
          "text": [
            "                            OLS Regression Results                            \n",
            "==============================================================================\n",
            "Dep. Variable:               Expected   R-squared:                       0.323\n",
            "Model:                            OLS   Adj. R-squared:                  0.295\n",
            "Method:                 Least Squares   F-statistic:                     11.27\n",
            "Date:                Fri, 29 Jan 2021   Prob (F-statistic):           6.73e-09\n",
            "Time:                        02:38:39   Log-Likelihood:                -416.14\n",
            "No. Observations:                 124   AIC:                             844.3\n",
            "Df Residuals:                     118   BIC:                             861.2\n",
            "Df Model:                           5                                         \n",
            "Covariance Type:            nonrobust                                         \n",
            "==============================================================================\n",
            "                 coef    std err          t      P>|t|      [0.025      0.975]\n",
            "------------------------------------------------------------------------------\n",
            "const         70.0536      3.800     18.436      0.000      62.529      77.578\n",
            "Hepatitis     -0.0031      0.063     -0.049      0.961      -0.128       0.122\n",
            "Measles    -3.589e-05   5.63e-05     -0.638      0.525      -0.000    7.56e-05\n",
            "Polio          0.0760      0.039      1.959      0.053      -0.001       0.153\n",
            "Diphtheria     0.0438      0.076      0.576      0.566      -0.107       0.194\n",
            "Developing   -10.5163      1.882     -5.589      0.000     -14.242      -6.790\n",
            "==============================================================================\n",
            "Omnibus:                        3.402   Durbin-Watson:                   1.187\n",
            "Prob(Omnibus):                  0.182   Jarque-Bera (JB):                3.060\n",
            "Skew:                          -0.383   Prob(JB):                        0.217\n",
            "Kurtosis:                       3.081   Cond. No.                     7.33e+04\n",
            "==============================================================================\n",
            "\n",
            "Warnings:\n",
            "[1] Standard Errors assume that the covariance matrix of the errors is correctly specified.\n",
            "[2] The condition number is large, 7.33e+04. This might indicate that there are\n",
            "strong multicollinearity or other numerical problems.\n"
          ],
          "name": "stdout"
        }
      ]
    },
    {
      "cell_type": "markdown",
      "metadata": {
        "id": "yCn9Ewv7Ylz4"
      },
      "source": [
        "Yes, Indeed after adding the developing index- (categorical variable) our R2 and adjusted R2 indeed improved. \r\n",
        "\r\n",
        "AIC and BIC reduced\r\n",
        "\r\n",
        "F statistics increased. \r\n",
        "\r\n",
        "Residuals are normally distributed\r\n",
        "\r\n",
        "Also, autocorrelation increased between the residuals- not a great sign"
      ]
    },
    {
      "cell_type": "code",
      "metadata": {
        "colab": {
          "base_uri": "https://localhost:8080/"
        },
        "id": "4B2XAsR6aFXw",
        "outputId": "f2c1efd6-54bf-41b3-deab-90dc8f4beaa9"
      },
      "source": [
        "# MSE\r\n",
        "\r\n",
        "mean_squared_error(y_true = df1['Expected'], y_pred = y_pred1)"
      ],
      "execution_count": 122,
      "outputs": [
        {
          "output_type": "execute_result",
          "data": {
            "text/plain": [
              "48.13438590476449"
            ]
          },
          "metadata": {
            "tags": []
          },
          "execution_count": 122
        }
      ]
    },
    {
      "cell_type": "markdown",
      "metadata": {
        "id": "yIWQPaOD_W3O"
      },
      "source": [
        "<a id=\"ins\"> </a>\n",
        "## 3. Inferences about slope"
      ]
    },
    {
      "cell_type": "markdown",
      "metadata": {
        "collapsed": true,
        "id": "kdqhb6_d_W3O"
      },
      "source": [
        "<table align=\"left\">\n",
        "    <tr>\n",
        "        <td width=\"6%\">\n",
        "            <img src=\"question_icon.png\">\n",
        "        </td>\n",
        "        <td>\n",
        "            <div align=\"left\", style=\"font-size:120%\">\n",
        "                <font color=\"#21618C\">\n",
        "                    <b>5. Find the significant variables in the full model when all the variables are considered for prediction of life expectancy.</b>\n",
        "                </font>\n",
        "            </div>\n",
        "        </td>\n",
        "    </tr>\n",
        "</table>"
      ]
    },
    {
      "cell_type": "code",
      "metadata": {
        "colab": {
          "base_uri": "https://localhost:8080/",
          "height": 247
        },
        "id": "lcM0Q0A6asKA",
        "outputId": "8a17eeff-251a-45ba-ac3e-b634a616c3c1"
      },
      "source": [
        "dftr = df1.iloc[:, 2:]\r\n",
        "dftr.drop({'Expected'}, axis=1, inplace= True)\r\n",
        "dftr.head()"
      ],
      "execution_count": 131,
      "outputs": [
        {
          "output_type": "execute_result",
          "data": {
            "text/html": [
              "<div>\n",
              "<style scoped>\n",
              "    .dataframe tbody tr th:only-of-type {\n",
              "        vertical-align: middle;\n",
              "    }\n",
              "\n",
              "    .dataframe tbody tr th {\n",
              "        vertical-align: top;\n",
              "    }\n",
              "\n",
              "    .dataframe thead th {\n",
              "        text-align: right;\n",
              "    }\n",
              "</style>\n",
              "<table border=\"1\" class=\"dataframe\">\n",
              "  <thead>\n",
              "    <tr style=\"text-align: right;\">\n",
              "      <th></th>\n",
              "      <th>Hepatitis</th>\n",
              "      <th>Measles</th>\n",
              "      <th>BMI</th>\n",
              "      <th>Underfive_Deaths</th>\n",
              "      <th>Polio</th>\n",
              "      <th>Diphtheria</th>\n",
              "      <th>HIV</th>\n",
              "      <th>GDP</th>\n",
              "      <th>Population</th>\n",
              "      <th>Malnourished10_19</th>\n",
              "      <th>Malnourished5_9</th>\n",
              "      <th>Income_Index</th>\n",
              "      <th>Schooling</th>\n",
              "      <th>Developing</th>\n",
              "      <th>Status_Developing</th>\n",
              "    </tr>\n",
              "    <tr>\n",
              "      <th>Country</th>\n",
              "      <th></th>\n",
              "      <th></th>\n",
              "      <th></th>\n",
              "      <th></th>\n",
              "      <th></th>\n",
              "      <th></th>\n",
              "      <th></th>\n",
              "      <th></th>\n",
              "      <th></th>\n",
              "      <th></th>\n",
              "      <th></th>\n",
              "      <th></th>\n",
              "      <th></th>\n",
              "      <th></th>\n",
              "      <th></th>\n",
              "    </tr>\n",
              "  </thead>\n",
              "  <tbody>\n",
              "    <tr>\n",
              "      <th>Afghanistan</th>\n",
              "      <td>65</td>\n",
              "      <td>1154</td>\n",
              "      <td>19.1</td>\n",
              "      <td>83</td>\n",
              "      <td>6</td>\n",
              "      <td>65</td>\n",
              "      <td>0.1</td>\n",
              "      <td>584.259210</td>\n",
              "      <td>33736494</td>\n",
              "      <td>17.2</td>\n",
              "      <td>17.3</td>\n",
              "      <td>0.479</td>\n",
              "      <td>10.1</td>\n",
              "      <td>1</td>\n",
              "      <td>1</td>\n",
              "    </tr>\n",
              "    <tr>\n",
              "      <th>Albania</th>\n",
              "      <td>98</td>\n",
              "      <td>0</td>\n",
              "      <td>57.2</td>\n",
              "      <td>1</td>\n",
              "      <td>98</td>\n",
              "      <td>98</td>\n",
              "      <td>0.1</td>\n",
              "      <td>4575.763787</td>\n",
              "      <td>288914</td>\n",
              "      <td>1.2</td>\n",
              "      <td>1.3</td>\n",
              "      <td>0.761</td>\n",
              "      <td>14.2</td>\n",
              "      <td>1</td>\n",
              "      <td>1</td>\n",
              "    </tr>\n",
              "    <tr>\n",
              "      <th>Algeria</th>\n",
              "      <td>95</td>\n",
              "      <td>63</td>\n",
              "      <td>59.5</td>\n",
              "      <td>24</td>\n",
              "      <td>95</td>\n",
              "      <td>95</td>\n",
              "      <td>0.1</td>\n",
              "      <td>4132.762920</td>\n",
              "      <td>39871528</td>\n",
              "      <td>6.0</td>\n",
              "      <td>5.8</td>\n",
              "      <td>0.743</td>\n",
              "      <td>14.4</td>\n",
              "      <td>1</td>\n",
              "      <td>1</td>\n",
              "    </tr>\n",
              "    <tr>\n",
              "      <th>Angola</th>\n",
              "      <td>64</td>\n",
              "      <td>118</td>\n",
              "      <td>23.3</td>\n",
              "      <td>98</td>\n",
              "      <td>7</td>\n",
              "      <td>64</td>\n",
              "      <td>1.9</td>\n",
              "      <td>3695.793748</td>\n",
              "      <td>2785935</td>\n",
              "      <td>8.3</td>\n",
              "      <td>8.2</td>\n",
              "      <td>0.531</td>\n",
              "      <td>11.4</td>\n",
              "      <td>1</td>\n",
              "      <td>1</td>\n",
              "    </tr>\n",
              "    <tr>\n",
              "      <th>Argentina</th>\n",
              "      <td>94</td>\n",
              "      <td>0</td>\n",
              "      <td>62.8</td>\n",
              "      <td>9</td>\n",
              "      <td>93</td>\n",
              "      <td>94</td>\n",
              "      <td>0.1</td>\n",
              "      <td>13467.123600</td>\n",
              "      <td>43417765</td>\n",
              "      <td>1.0</td>\n",
              "      <td>0.9</td>\n",
              "      <td>0.826</td>\n",
              "      <td>17.3</td>\n",
              "      <td>1</td>\n",
              "      <td>1</td>\n",
              "    </tr>\n",
              "  </tbody>\n",
              "</table>\n",
              "</div>"
            ],
            "text/plain": [
              "             Hepatitis  Measles   BMI  ...  Schooling  Developing  Status_Developing\n",
              "Country                                ...                                          \n",
              "Afghanistan         65     1154  19.1  ...       10.1           1                  1\n",
              "Albania             98        0  57.2  ...       14.2           1                  1\n",
              "Algeria             95       63  59.5  ...       14.4           1                  1\n",
              "Angola              64      118  23.3  ...       11.4           1                  1\n",
              "Argentina           94        0  62.8  ...       17.3           1                  1\n",
              "\n",
              "[5 rows x 15 columns]"
            ]
          },
          "metadata": {
            "tags": []
          },
          "execution_count": 131
        }
      ]
    },
    {
      "cell_type": "code",
      "metadata": {
        "colab": {
          "base_uri": "https://localhost:8080/"
        },
        "id": "xoE5vX6C_W3P",
        "outputId": "0ed997c9-8b9a-41b2-8c4c-3baff21edbe1"
      },
      "source": [
        "xc= sm.add_constant(dftr)\r\n",
        "model = sm.OLS(df1['Expected'], xc).fit()\r\n",
        "y_pred2= model.predict(xc)\r\n",
        "print(model.summary())"
      ],
      "execution_count": 124,
      "outputs": [
        {
          "output_type": "stream",
          "text": [
            "                            OLS Regression Results                            \n",
            "==============================================================================\n",
            "Dep. Variable:               Expected   R-squared:                       0.803\n",
            "Model:                            OLS   Adj. R-squared:                  0.775\n",
            "Method:                 Least Squares   F-statistic:                     29.28\n",
            "Date:                Fri, 29 Jan 2021   Prob (F-statistic):           3.26e-31\n",
            "Time:                        02:38:40   Log-Likelihood:                -339.74\n",
            "No. Observations:                 124   AIC:                             711.5\n",
            "Df Residuals:                     108   BIC:                             756.6\n",
            "Df Model:                          15                                         \n",
            "Covariance Type:            nonrobust                                         \n",
            "=====================================================================================\n",
            "                        coef    std err          t      P>|t|      [0.025      0.975]\n",
            "-------------------------------------------------------------------------------------\n",
            "const                54.7805      4.123     13.287      0.000      46.608      62.953\n",
            "Infant_Deaths         0.0767      0.042      1.839      0.069      -0.006       0.159\n",
            "Hepatitis             0.0554      0.036      1.534      0.128      -0.016       0.127\n",
            "Measles           -5.798e-05   6.92e-05     -0.838      0.404      -0.000    7.91e-05\n",
            "BMI                  -0.0315      0.026     -1.230      0.222      -0.082       0.019\n",
            "Underfive_Deaths     -0.0568      0.031     -1.860      0.066      -0.117       0.004\n",
            "Polio                 0.0031      0.025      0.127      0.899      -0.046       0.052\n",
            "Diphtheria           -0.0317      0.045     -0.702      0.484      -0.121       0.058\n",
            "HIV                  -1.3723      0.297     -4.628      0.000      -1.960      -0.784\n",
            "GDP                6.589e-05   3.94e-05      1.674      0.097   -1.21e-05       0.000\n",
            "Population        -2.628e-08   9.64e-09     -2.727      0.007   -4.54e-08   -7.17e-09\n",
            "Malnourished10_19    -0.3460      0.340     -1.018      0.311      -1.020       0.328\n",
            "Malnourished5_9       0.1618      0.320      0.505      0.615      -0.473       0.797\n",
            "Income_Index         22.6350      7.125      3.177      0.002       8.511      36.759\n",
            "Schooling             0.3357      0.393      0.854      0.395      -0.443       1.115\n",
            "Developing           -2.8484      1.317     -2.163      0.033      -5.459      -0.238\n",
            "==============================================================================\n",
            "Omnibus:                        4.462   Durbin-Watson:                   1.510\n",
            "Prob(Omnibus):                  0.107   Jarque-Bera (JB):                5.509\n",
            "Skew:                           0.123   Prob(JB):                       0.0636\n",
            "Kurtosis:                       4.003   Cond. No.                     9.07e+08\n",
            "==============================================================================\n",
            "\n",
            "Warnings:\n",
            "[1] Standard Errors assume that the covariance matrix of the errors is correctly specified.\n",
            "[2] The condition number is large, 9.07e+08. This might indicate that there are\n",
            "strong multicollinearity or other numerical problems.\n"
          ],
          "name": "stdout"
        }
      ]
    },
    {
      "cell_type": "code",
      "metadata": {
        "colab": {
          "base_uri": "https://localhost:8080/"
        },
        "id": "dX_PvNDMa90v",
        "outputId": "ce4f27fe-c33d-45e7-c6a1-a188b6a13050"
      },
      "source": [
        "[(i,j) for i,j in zip(model.pvalues.index, model.pvalues.values) if j<= 0.05]"
      ],
      "execution_count": 125,
      "outputs": [
        {
          "output_type": "execute_result",
          "data": {
            "text/plain": [
              "[('const', 1.846605121365219e-24),\n",
              " ('HIV', 1.034477197709049e-05),\n",
              " ('Population', 0.007469564065173645),\n",
              " ('Income_Index', 0.0019428583564485612),\n",
              " ('Developing', 0.032738122826220524)]"
            ]
          },
          "metadata": {
            "tags": []
          },
          "execution_count": 125
        }
      ]
    },
    {
      "cell_type": "code",
      "metadata": {
        "id": "GsTF1qBwc4Nc"
      },
      "source": [
        "# the above mentioned features are significantly contributing to the target prediction"
      ],
      "execution_count": 126,
      "outputs": []
    },
    {
      "cell_type": "markdown",
      "metadata": {
        "collapsed": true,
        "id": "emoygqt3_W3P"
      },
      "source": [
        "<table align=\"left\">\n",
        "    <tr>\n",
        "        <td width=\"6%\">\n",
        "            <img src=\"question_icon.png\">\n",
        "        </td>\n",
        "        <td>\n",
        "            <div align=\"left\", style=\"font-size:120%\">\n",
        "                <font color=\"#21618C\">\n",
        "                    <b>6. If economic indices are used to predict the life expectancy, calculate the total variation for the observed values of life expectancy.</b>\n",
        "                </font>\n",
        "            </div>\n",
        "        </td>\n",
        "    </tr>\n",
        "</table>"
      ]
    },
    {
      "cell_type": "code",
      "metadata": {
        "colab": {
          "base_uri": "https://localhost:8080/"
        },
        "id": "42vEPvtM_W3P",
        "outputId": "97703163-cc02-4218-e205-4733d9ded68a"
      },
      "source": [
        "# RMSE\r\n",
        "from sklearn.metrics import mean_absolute_error\r\n",
        "\r\n",
        "xc= sm.add_constant(dftr['Income_Index'])\r\n",
        "model = sm.OLS(df1['Expected'], xc).fit()\r\n",
        "y_pred3= model.predict(xc)\r\n",
        "print(mean_absolute_error(y_true= df1['Expected'], y_pred=y_pred3))"
      ],
      "execution_count": 128,
      "outputs": [
        {
          "output_type": "stream",
          "text": [
            "3.384313725730104\n"
          ],
          "name": "stdout"
        }
      ]
    },
    {
      "cell_type": "markdown",
      "metadata": {
        "collapsed": true,
        "id": "AMIfnLns_W3Q"
      },
      "source": [
        "<table align=\"left\">\n",
        "    <tr>\n",
        "        <td width=\"6%\">\n",
        "            <img src=\"question_icon.png\">\n",
        "        </td>\n",
        "        <td>\n",
        "            <div align=\"left\", style=\"font-size:120%\">\n",
        "                <font color=\"#21618C\">\n",
        "                    <b>7. Determine the lower bound and upper bound for estimated value of life expectancy per unit change in HDI (for income)</b>\n",
        "                </font>\n",
        "            </div>\n",
        "        </td>\n",
        "    </tr>\n",
        "</table>"
      ]
    },
    {
      "cell_type": "code",
      "metadata": {
        "colab": {
          "base_uri": "https://localhost:8080/"
        },
        "id": "8bP4I7PW_W3R",
        "outputId": "0866dd2f-a3a9-478c-85c9-dbb1958ecd41"
      },
      "source": [
        "xc= sm.add_constant(dftr['Income_Index'])\r\n",
        "model = sm.OLS(df1['Expected'], xc).fit()\r\n",
        "y_pred3= model.predict(xc)\r\n",
        "print(model.summary())"
      ],
      "execution_count": 129,
      "outputs": [
        {
          "output_type": "stream",
          "text": [
            "                            OLS Regression Results                            \n",
            "==============================================================================\n",
            "Dep. Variable:               Expected   R-squared:                       0.711\n",
            "Model:                            OLS   Adj. R-squared:                  0.709\n",
            "Method:                 Least Squares   F-statistic:                     300.0\n",
            "Date:                Fri, 29 Jan 2021   Prob (F-statistic):           1.13e-34\n",
            "Time:                        02:39:11   Log-Likelihood:                -363.40\n",
            "No. Observations:                 124   AIC:                             730.8\n",
            "Df Residuals:                     122   BIC:                             736.4\n",
            "Df Model:                           1                                         \n",
            "Covariance Type:            nonrobust                                         \n",
            "================================================================================\n",
            "                   coef    std err          t      P>|t|      [0.025      0.975]\n",
            "--------------------------------------------------------------------------------\n",
            "const           41.9191      1.741     24.081      0.000      38.473      45.365\n",
            "Income_Index    42.4243      2.449     17.322      0.000      37.576      47.273\n",
            "==============================================================================\n",
            "Omnibus:                       11.870   Durbin-Watson:                   1.355\n",
            "Prob(Omnibus):                  0.003   Jarque-Bera (JB):               26.475\n",
            "Skew:                           0.280   Prob(JB):                     1.78e-06\n",
            "Kurtosis:                       5.193   Cond. No.                         8.87\n",
            "==============================================================================\n",
            "\n",
            "Warnings:\n",
            "[1] Standard Errors assume that the covariance matrix of the errors is correctly specified.\n"
          ],
          "name": "stdout"
        }
      ]
    },
    {
      "cell_type": "code",
      "metadata": {
        "id": "jAOw6V5T6qjt"
      },
      "source": [
        "# Lowest bound:\r\n",
        "\r\n",
        "37.576 \r\n",
        "\r\n",
        "# Upper bound:\r\n",
        "\r\n",
        "47.273"
      ],
      "execution_count": null,
      "outputs": []
    },
    {
      "cell_type": "markdown",
      "metadata": {
        "id": "GQpQsIsq_W3R"
      },
      "source": [
        "<a id=\"ML_eval\"> </a>\n",
        "## 4. Model Evaluation"
      ]
    },
    {
      "cell_type": "markdown",
      "metadata": {
        "collapsed": true,
        "id": "p0EJp-Da_W3S"
      },
      "source": [
        "<table align=\"left\">\n",
        "    <tr>\n",
        "        <td width=\"6%\">\n",
        "            <img src=\"question_icon.png\">\n",
        "        </td>\n",
        "        <td>\n",
        "            <div align=\"left\", style=\"font-size:120%\">\n",
        "                <font color=\"#21618C\">\n",
        "                    <b>8. A model is built to analyze the impact of mortality on Life expectancy. Would the addition of information about population of the country lead to a better prediction?</b>\n",
        "                </font>\n",
        "            </div>\n",
        "        </td>\n",
        "    </tr>\n",
        "</table>"
      ]
    },
    {
      "cell_type": "code",
      "metadata": {
        "id": "bj9zYkUvyti9"
      },
      "source": [
        "df1 = pd.get_dummies(columns=['Status'], data=df1, drop_first=True)"
      ],
      "execution_count": 130,
      "outputs": []
    },
    {
      "cell_type": "code",
      "metadata": {
        "id": "28NGqYs0zoeJ"
      },
      "source": [
        "df1.head()"
      ],
      "execution_count": null,
      "outputs": []
    },
    {
      "cell_type": "code",
      "metadata": {
        "id": "ofF7wZZszsBc"
      },
      "source": [
        "df1['gdp_inter'] = df1['GDP']* df1['Status_Developing']"
      ],
      "execution_count": null,
      "outputs": []
    },
    {
      "cell_type": "code",
      "metadata": {
        "id": "m6OY2kFl_W3T"
      },
      "source": [
        "# Lets do a population t test on life expectancy:\r\n",
        "\r\n",
        "xc= sm.add_constant(df1[['Adult_Mortality','Population']])\r\n",
        "model = sm.OLS(df1['Expected'], xc).fit()\r\n",
        "y_pred4= model.predict(xc)\r\n",
        "print(model.summary())"
      ],
      "execution_count": null,
      "outputs": []
    },
    {
      "cell_type": "code",
      "metadata": {
        "id": "5C25UQ4_7NBO"
      },
      "source": [
        "# seems like population has no significant value to contribute to expected life ."
      ],
      "execution_count": null,
      "outputs": []
    },
    {
      "cell_type": "code",
      "metadata": {
        "id": "4E_d4_Ux7NHa"
      },
      "source": [
        ""
      ],
      "execution_count": null,
      "outputs": []
    },
    {
      "cell_type": "markdown",
      "metadata": {
        "collapsed": true,
        "id": "c98Fe0et_W3T"
      },
      "source": [
        "<table align=\"left\">\n",
        "    <tr>\n",
        "        <td width=\"6%\">\n",
        "            <img src=\"question_icon.png\">\n",
        "        </td>\n",
        "        <td>\n",
        "            <div align=\"left\", style=\"font-size:120%\">\n",
        "                <font color=\"#21618C\">\n",
        "                    <b>9. Fit a full model and test the significance of the overall model. <br></b>\n",
        "                </font>\n",
        "            </div>\n",
        "        </td>\n",
        "    </tr>\n",
        "</table>"
      ]
    },
    {
      "cell_type": "code",
      "metadata": {
        "scrolled": true,
        "id": "ZSjT_UDi_W3U"
      },
      "source": [
        "xc= sm.add_constant(dftr)\r\n",
        "model = sm.OLS(df1['Expected'], xc).fit()\r\n",
        "y_pred4= model.predict(xc)\r\n",
        "print(model.summary())"
      ],
      "execution_count": null,
      "outputs": []
    },
    {
      "cell_type": "code",
      "metadata": {
        "id": "ZqY9T0Hi53w9"
      },
      "source": [
        "df1"
      ],
      "execution_count": null,
      "outputs": []
    },
    {
      "cell_type": "code",
      "metadata": {
        "id": "As149KFq7j5n"
      },
      "source": [
        "# Our overall model significance is given by p value of F score- which here is very less- So our model is a good model. \r\n",
        "\r\n",
        "# even R2 adjusted is higher. \r\n",
        "\r\n"
      ],
      "execution_count": null,
      "outputs": []
    },
    {
      "cell_type": "markdown",
      "metadata": {
        "id": "Uls7pNbV_W3U"
      },
      "source": [
        "<a id=\"assum\"> </a>\n",
        "## 5. Assumptions of Linear Regression"
      ]
    },
    {
      "cell_type": "markdown",
      "metadata": {
        "collapsed": true,
        "id": "UCrugKFd_W3V"
      },
      "source": [
        "<table align=\"left\">\n",
        "    <tr>\n",
        "        <td width=\"6%\">\n",
        "            <img src=\"question_icon.png\">\n",
        "        </td>\n",
        "        <td>\n",
        "            <div align=\"left\", style=\"font-size:120%\">\n",
        "                <font color=\"#21618C\">\n",
        "                    <b>10. A model is built using all the features (full model) to predict the life expectancy. Check whether the residuals obtained form the model follow a normal distribution.</b>\n",
        "                </font>\n",
        "            </div>\n",
        "        </td>\n",
        "    </tr>\n",
        "</table>"
      ]
    },
    {
      "cell_type": "code",
      "metadata": {
        "id": "08NgRzH__W3V"
      },
      "source": [
        "# QQ plot.\r\n",
        "\r\n",
        "stats.probplot(model.resid, plot=plt)\r\n",
        "plt.show()"
      ],
      "execution_count": null,
      "outputs": []
    },
    {
      "cell_type": "code",
      "metadata": {
        "id": "3sSfJvRR9F4j"
      },
      "source": [
        "# JB test\r\n",
        "\r\n",
        "stats.jarque_bera(model.resid)"
      ],
      "execution_count": null,
      "outputs": []
    },
    {
      "cell_type": "code",
      "metadata": {
        "id": "wXu1uB2y9ljW"
      },
      "source": [
        "# it is NOT normally distributed as shown by a JB test"
      ],
      "execution_count": null,
      "outputs": []
    },
    {
      "cell_type": "markdown",
      "metadata": {
        "collapsed": true,
        "id": "aITyQVf9_W3V"
      },
      "source": [
        "<table align=\"left\">\n",
        "    <tr>\n",
        "        <td width=\"6%\">\n",
        "            <img src=\"question_icon.png\">\n",
        "        </td>\n",
        "        <td>\n",
        "            <div align=\"left\", style=\"font-size:120%\">\n",
        "                <font color=\"#21618C\">\n",
        "                        <b>11. Does the interaction of status of the country and its GDP have significant effect on life expectancy? (consider the full model)</b>\n",
        "                </font>\n",
        "            </div>\n",
        "        </td>\n",
        "    </tr>\n",
        "</table>"
      ]
    },
    {
      "cell_type": "code",
      "metadata": {
        "id": "XPRVdHIczKmd"
      },
      "source": [
        ""
      ],
      "execution_count": null,
      "outputs": []
    },
    {
      "cell_type": "code",
      "metadata": {
        "id": "Zbcg6iUe_W3W"
      },
      "source": [
        "xc= sm.add_constant(df1['gdp_inter'])\r\n",
        "model = sm.OLS(df1['Expected'], xc).fit()\r\n",
        "print(model.summary())"
      ],
      "execution_count": null,
      "outputs": []
    },
    {
      "cell_type": "markdown",
      "metadata": {
        "id": "r7IrSuiW0PqN"
      },
      "source": [
        "The interaction brings out an interesting feature- also significant- but the model'score isnt vastly determined by this feature alone. \r\n",
        "\r\n",
        "Maybe along with other features, this works better"
      ]
    },
    {
      "cell_type": "code",
      "metadata": {
        "id": "621ZfwBl-lKM"
      },
      "source": [
        "from statsmodels.stats.outliers_influence import variance_inflation_factor as vif"
      ],
      "execution_count": null,
      "outputs": []
    },
    {
      "cell_type": "code",
      "metadata": {
        "id": "2Rv_K613-lRb"
      },
      "source": [
        "[vif(xc.values, i) for i in range(xc.shape[1])]"
      ],
      "execution_count": null,
      "outputs": []
    },
    {
      "cell_type": "code",
      "metadata": {
        "id": "kbx9uges-ljB"
      },
      "source": [
        "xc.columns"
      ],
      "execution_count": null,
      "outputs": []
    },
    {
      "cell_type": "markdown",
      "metadata": {
        "collapsed": true,
        "id": "BZfvFIJr_W3W"
      },
      "source": [
        "<table align=\"left\">\n",
        "    <tr>\n",
        "        <td width=\"6%\">\n",
        "            <img src=\"question_icon.png\">\n",
        "        </td>\n",
        "        <td>\n",
        "            <div align=\"left\", style=\"font-size:120%\">\n",
        "                <font color=\"#21618C\">\n",
        "                    <b>12. Construct a full no-intecept model. What would you conclude when all the variables take value 0? </b>\n",
        "                </font>\n",
        "            </div>\n",
        "        </td>\n",
        "    </tr>\n",
        "</table>"
      ]
    },
    {
      "cell_type": "code",
      "metadata": {
        "id": "p-35oIBG_W3W"
      },
      "source": [
        "df1.head()"
      ],
      "execution_count": null,
      "outputs": []
    },
    {
      "cell_type": "code",
      "metadata": {
        "colab": {
          "base_uri": "https://localhost:8080/"
        },
        "id": "0FIAsJBI1pFo",
        "outputId": "c54e19b6-b5a0-4279-d9c1-10053dd1c8a4"
      },
      "source": [
        "xc= sm.add_constant(dftr)\r\n",
        "model = sm.OLS(df1['Expected'], dftr).fit()\r\n",
        "print(model.summary())"
      ],
      "execution_count": 133,
      "outputs": [
        {
          "output_type": "stream",
          "text": [
            "                                 OLS Regression Results                                \n",
            "=======================================================================================\n",
            "Dep. Variable:               Expected   R-squared (uncentered):                   0.993\n",
            "Model:                            OLS   Adj. R-squared (uncentered):              0.992\n",
            "Method:                 Least Squares   F-statistic:                              1073.\n",
            "Date:                Fri, 29 Jan 2021   Prob (F-statistic):                   1.27e-110\n",
            "Time:                        02:40:33   Log-Likelihood:                         -400.46\n",
            "No. Observations:                 124   AIC:                                      828.9\n",
            "Df Residuals:                     110   BIC:                                      868.4\n",
            "Df Model:                          14                                                  \n",
            "Covariance Type:            nonrobust                                                  \n",
            "=====================================================================================\n",
            "                        coef    std err          t      P>|t|      [0.025      0.975]\n",
            "-------------------------------------------------------------------------------------\n",
            "Hepatitis             0.0287      0.058      0.492      0.624      -0.087       0.144\n",
            "Measles              -0.0002      0.000     -1.938      0.055      -0.000    4.63e-06\n",
            "BMI                  -0.0729      0.041     -1.778      0.078      -0.154       0.008\n",
            "Underfive_Deaths      0.0128      0.010      1.233      0.220      -0.008       0.033\n",
            "Polio                 0.0134      0.039      0.341      0.734      -0.065       0.091\n",
            "Diphtheria            0.0414      0.072      0.571      0.569      -0.102       0.185\n",
            "HIV                   0.5739      0.403      1.425      0.157      -0.224       1.372\n",
            "GDP               -2.861e-05   6.26e-05     -0.457      0.648      -0.000    9.54e-05\n",
            "Population        -2.242e-08   1.54e-08     -1.456      0.148   -5.29e-08     8.1e-09\n",
            "Malnourished10_19    -1.2191      0.520     -2.346      0.021      -2.249      -0.189\n",
            "Malnourished5_9       1.6376      0.485      3.376      0.001       0.676       2.599\n",
            "Income_Index         43.7404     11.229      3.895      0.000      21.487      65.993\n",
            "Schooling             2.1441      0.597      3.593      0.000       0.961       3.327\n",
            "Developing            3.8555      0.847      4.552      0.000       2.177       5.534\n",
            "Status_Developing     3.8555      0.847      4.552      0.000       2.177       5.534\n",
            "==============================================================================\n",
            "Omnibus:                        6.786   Durbin-Watson:                   1.515\n",
            "Prob(Omnibus):                  0.034   Jarque-Bera (JB):                6.323\n",
            "Skew:                           0.515   Prob(JB):                       0.0424\n",
            "Kurtosis:                       3.401   Cond. No.                     6.75e+23\n",
            "==============================================================================\n",
            "\n",
            "Warnings:\n",
            "[1] Standard Errors assume that the covariance matrix of the errors is correctly specified.\n",
            "[2] The smallest eigenvalue is 5.58e-31. This might indicate that there are\n",
            "strong multicollinearity problems or that the design matrix is singular.\n"
          ],
          "name": "stdout"
        }
      ]
    },
    {
      "cell_type": "markdown",
      "metadata": {
        "id": "CbDiwLmUA5Sa"
      },
      "source": [
        "The adjusted R2 and R2 has reached almost 99%. But our coeff wont make much sense without the intercept. "
      ]
    },
    {
      "cell_type": "markdown",
      "metadata": {
        "id": "O-nS8JIV_W3X"
      },
      "source": [
        "### Now we shall consider the FEV dataset."
      ]
    },
    {
      "cell_type": "markdown",
      "metadata": {
        "id": "P8MIcoDR_W3X"
      },
      "source": [
        "### About the data set (Respiratory function data)\n",
        "\n",
        "Dataset consists of information about respiratory function in youths and factors that might impact the respiratory function. <br> Attribute information: \n",
        "\n",
        "**Age:** Age in years\n",
        "\n",
        "**Height (cm):** Height (cm) in cm \n",
        "\n",
        "**Sex:** Gender of a person\n",
        "\n",
        "**Smoke_habits** Whether the person is a smoker or non- smoker\n",
        "\n",
        "**FEV:**  Forced Exhalation Volume (FEV), a measure of how much air somebody can forcibly exhale from their lung (Percentage)"
      ]
    },
    {
      "cell_type": "markdown",
      "metadata": {
        "id": "RXEp_ZsN_W3X"
      },
      "source": [
        "#### Load the dataset and check the first five observations"
      ]
    },
    {
      "cell_type": "code",
      "metadata": {
        "id": "GvD6v4uk_W3Y",
        "colab": {
          "base_uri": "https://localhost:8080/",
          "height": 197
        },
        "outputId": "446a4652-41f8-440a-f73c-22273bfa87f1"
      },
      "source": [
        "df.head()"
      ],
      "execution_count": 136,
      "outputs": [
        {
          "output_type": "execute_result",
          "data": {
            "text/html": [
              "<div>\n",
              "<style scoped>\n",
              "    .dataframe tbody tr th:only-of-type {\n",
              "        vertical-align: middle;\n",
              "    }\n",
              "\n",
              "    .dataframe tbody tr th {\n",
              "        vertical-align: top;\n",
              "    }\n",
              "\n",
              "    .dataframe thead th {\n",
              "        text-align: right;\n",
              "    }\n",
              "</style>\n",
              "<table border=\"1\" class=\"dataframe\">\n",
              "  <thead>\n",
              "    <tr style=\"text-align: right;\">\n",
              "      <th></th>\n",
              "      <th>Age</th>\n",
              "      <th>Height (cm)</th>\n",
              "      <th>FEV</th>\n",
              "      <th>Sex_M</th>\n",
              "      <th>Smoke_habit_smoker</th>\n",
              "    </tr>\n",
              "  </thead>\n",
              "  <tbody>\n",
              "    <tr>\n",
              "      <th>0</th>\n",
              "      <td>16</td>\n",
              "      <td>157.0</td>\n",
              "      <td>1.708</td>\n",
              "      <td>0</td>\n",
              "      <td>1</td>\n",
              "    </tr>\n",
              "    <tr>\n",
              "      <th>1</th>\n",
              "      <td>17</td>\n",
              "      <td>167.5</td>\n",
              "      <td>1.724</td>\n",
              "      <td>0</td>\n",
              "      <td>1</td>\n",
              "    </tr>\n",
              "    <tr>\n",
              "      <th>2</th>\n",
              "      <td>19</td>\n",
              "      <td>154.5</td>\n",
              "      <td>1.720</td>\n",
              "      <td>0</td>\n",
              "      <td>1</td>\n",
              "    </tr>\n",
              "    <tr>\n",
              "      <th>3</th>\n",
              "      <td>16</td>\n",
              "      <td>163.0</td>\n",
              "      <td>1.558</td>\n",
              "      <td>1</td>\n",
              "      <td>1</td>\n",
              "    </tr>\n",
              "    <tr>\n",
              "      <th>4</th>\n",
              "      <td>16</td>\n",
              "      <td>157.0</td>\n",
              "      <td>1.895</td>\n",
              "      <td>1</td>\n",
              "      <td>1</td>\n",
              "    </tr>\n",
              "  </tbody>\n",
              "</table>\n",
              "</div>"
            ],
            "text/plain": [
              "   Age  Height (cm)    FEV  Sex_M  Smoke_habit_smoker\n",
              "0   16        157.0  1.708      0                   1\n",
              "1   17        167.5  1.724      0                   1\n",
              "2   19        154.5  1.720      0                   1\n",
              "3   16        163.0  1.558      1                   1\n",
              "4   16        157.0  1.895      1                   1"
            ]
          },
          "metadata": {
            "tags": []
          },
          "execution_count": 136
        }
      ]
    },
    {
      "cell_type": "code",
      "metadata": {
        "id": "sH7rfMl3B4hg"
      },
      "source": [
        "df = pd.get_dummies(columns=['Sex', 'Smoke_habit'], data=df, drop_first=True)"
      ],
      "execution_count": 135,
      "outputs": []
    },
    {
      "cell_type": "markdown",
      "metadata": {
        "collapsed": true,
        "id": "AF_BXvKP_W3Y"
      },
      "source": [
        "<table align=\"left\">\n",
        "    <tr>\n",
        "        <td width=\"6%\">\n",
        "            <img src=\"question_icon.png\">\n",
        "        </td>\n",
        "        <td>\n",
        "            <div align=\"left\", style=\"font-size:120%\">\n",
        "                <font color=\"#21618C\">\n",
        "                    <b>13. Identify the numeric variable(s) that have highest impact on the FEV of a person</b>\n",
        "                </font>\n",
        "            </div>\n",
        "        </td>\n",
        "    </tr>\n",
        "</table>"
      ]
    },
    {
      "cell_type": "code",
      "metadata": {
        "id": "6vUfr7V6_W3Z",
        "colab": {
          "base_uri": "https://localhost:8080/"
        },
        "outputId": "6ab433d9-bd6c-4656-99cd-472b265e8ca4"
      },
      "source": [
        "xc= sm.add_constant(df.loc[:, df.columns!='FEV'])\r\n",
        "model = sm.OLS(df['FEV'], xc).fit()\r\n",
        "print(model.summary())"
      ],
      "execution_count": 137,
      "outputs": [
        {
          "output_type": "stream",
          "text": [
            "                            OLS Regression Results                            \n",
            "==============================================================================\n",
            "Dep. Variable:                    FEV   R-squared:                       0.701\n",
            "Model:                            OLS   Adj. R-squared:                  0.699\n",
            "Method:                 Least Squares   F-statistic:                     379.5\n",
            "Date:                Fri, 29 Jan 2021   Prob (F-statistic):          2.78e-168\n",
            "Time:                        02:52:23   Log-Likelihood:                -439.94\n",
            "No. Observations:                 654   AIC:                             889.9\n",
            "Df Residuals:                     649   BIC:                             912.3\n",
            "Df Model:                           4                                         \n",
            "Covariance Type:            nonrobust                                         \n",
            "======================================================================================\n",
            "                         coef    std err          t      P>|t|      [0.025      0.975]\n",
            "--------------------------------------------------------------------------------------\n",
            "const                -16.5268      0.575    -28.727      0.000     -17.656     -15.397\n",
            "Age                    0.0026      0.007      0.374      0.708      -0.011       0.016\n",
            "Height (cm)            0.1192      0.003     34.063      0.000       0.112       0.126\n",
            "Sex_M                  0.1801      0.038      4.769      0.000       0.106       0.254\n",
            "Smoke_habit_smoker    -0.2231      0.063     -3.515      0.000      -0.348      -0.098\n",
            "==============================================================================\n",
            "Omnibus:                      113.397   Durbin-Watson:                   1.647\n",
            "Prob(Omnibus):                  0.000   Jarque-Bera (JB):              652.393\n",
            "Skew:                          -0.625   Prob(JB):                    2.16e-142\n",
            "Kurtosis:                       7.730   Cond. No.                     5.03e+03\n",
            "==============================================================================\n",
            "\n",
            "Warnings:\n",
            "[1] Standard Errors assume that the covariance matrix of the errors is correctly specified.\n",
            "[2] The condition number is large, 5.03e+03. This might indicate that there are\n",
            "strong multicollinearity or other numerical problems.\n"
          ],
          "name": "stdout"
        }
      ]
    },
    {
      "cell_type": "code",
      "metadata": {
        "colab": {
          "base_uri": "https://localhost:8080/"
        },
        "id": "53FSFfNcDur5",
        "outputId": "7466981b-90f1-4851-ab36-aaf99867aa82"
      },
      "source": [
        "xc= sm.add_constant(df['Smoke_habit_smoker'])\r\n",
        "model = sm.OLS(df['FEV'], xc).fit()\r\n",
        "print(model.summary())"
      ],
      "execution_count": 142,
      "outputs": [
        {
          "output_type": "stream",
          "text": [
            "                            OLS Regression Results                            \n",
            "==============================================================================\n",
            "Dep. Variable:                    FEV   R-squared:                       0.098\n",
            "Model:                            OLS   Adj. R-squared:                  0.097\n",
            "Method:                 Least Squares   F-statistic:                     70.92\n",
            "Date:                Fri, 29 Jan 2021   Prob (F-statistic):           2.36e-16\n",
            "Time:                        02:54:37   Log-Likelihood:                -800.43\n",
            "No. Observations:                 654   AIC:                             1605.\n",
            "Df Residuals:                     652   BIC:                             1614.\n",
            "Df Model:                           1                                         \n",
            "Covariance Type:            nonrobust                                         \n",
            "======================================================================================\n",
            "                         coef    std err          t      P>|t|      [0.025      0.975]\n",
            "--------------------------------------------------------------------------------------\n",
            "const                  3.4206      0.098     34.729      0.000       3.227       3.614\n",
            "Smoke_habit_smoker    -0.8778      0.104     -8.422      0.000      -1.082      -0.673\n",
            "==============================================================================\n",
            "Omnibus:                       37.782   Durbin-Watson:                   1.125\n",
            "Prob(Omnibus):                  0.000   Jarque-Bera (JB):               42.957\n",
            "Skew:                           0.622   Prob(JB):                     4.70e-10\n",
            "Kurtosis:                       3.167   Cond. No.                         5.96\n",
            "==============================================================================\n",
            "\n",
            "Warnings:\n",
            "[1] Standard Errors assume that the covariance matrix of the errors is correctly specified.\n"
          ],
          "name": "stdout"
        }
      ]
    },
    {
      "cell_type": "code",
      "metadata": {
        "id": "TqfBd1x4DwNV"
      },
      "source": [
        "# We can say with fair conficence that smoking habit is the single most contributing factor while predicting FEV of a person"
      ],
      "execution_count": 143,
      "outputs": []
    },
    {
      "cell_type": "code",
      "metadata": {
        "id": "qlzHQCLIDwWK"
      },
      "source": [
        ""
      ],
      "execution_count": null,
      "outputs": []
    },
    {
      "cell_type": "markdown",
      "metadata": {
        "collapsed": true,
        "id": "0FylPIuT_W3Z"
      },
      "source": [
        "<table align=\"left\">\n",
        "    <tr>\n",
        "        <td width=\"6%\">\n",
        "            <img src=\"question_icon.png\">\n",
        "        </td>\n",
        "        <td>\n",
        "            <div align=\"left\", style=\"font-size:120%\">\n",
        "                <font color=\"#21618C\">\n",
        "                    <b>14. What is the impact of smoking habit of a person on FEV?\n",
        "                    </b>\n",
        "                </font>\n",
        "            </div>\n",
        "        </td>\n",
        "    </tr>\n",
        "</table>"
      ]
    },
    {
      "cell_type": "code",
      "metadata": {
        "id": "0huxQXDX_W3a"
      },
      "source": [
        "# reducing the FEV by -0.8778\r\n",
        "\r\n",
        "# P value = almost close to 0\r\n",
        "\r\n",
        "xc= sm.add_constant(df['Smoke_habit_smoker'])\r\n",
        "model = sm.OLS(df['FEV'], xc).fit()\r\n",
        "print(model.summary())"
      ],
      "execution_count": null,
      "outputs": []
    },
    {
      "cell_type": "markdown",
      "metadata": {
        "collapsed": true,
        "id": "vWPlnlOn_W3a"
      },
      "source": [
        "<table align=\"left\">\n",
        "    <tr>\n",
        "        <td width=\"6%\">\n",
        "            <img src=\"question_icon.png\">\n",
        "        </td>\n",
        "        <td>\n",
        "            <div align=\"left\", style=\"font-size:120%\">\n",
        "                <font color=\"#21618C\">\n",
        "                    <b>15. A Linear regression model is used to analyze the impact of all possible features on respiratory function (FEV). How do we check whether there is multicollinearity present or not?</b>\n",
        "                </font>\n",
        "            </div>\n",
        "        </td>\n",
        "    </tr>\n",
        "</table>"
      ]
    },
    {
      "cell_type": "code",
      "metadata": {
        "scrolled": false,
        "id": "gA332HK8_W3a"
      },
      "source": [
        "# We can do a VIF test. \r\n",
        "\r\n",
        "from statsmodels.stats.outliers_influence import variance_inflation_factor as vif\r\n",
        "\r\n",
        "dt= df.iloc[:,df.columns!='FEV']\r\n",
        "gt= pd.DataFrame()\r\n",
        "gt['vars'] = dt.columns\r\n",
        "gt['vif_score'] = [vif(dt.values, i) for i in range(dt.shape[1])]"
      ],
      "execution_count": 144,
      "outputs": []
    },
    {
      "cell_type": "code",
      "metadata": {
        "colab": {
          "base_uri": "https://localhost:8080/",
          "height": 167
        },
        "id": "Wv9qzQdJGEUb",
        "outputId": "60b98381-0523-4e3f-8769-b890ef5762a9"
      },
      "source": [
        "gt"
      ],
      "execution_count": 145,
      "outputs": [
        {
          "output_type": "execute_result",
          "data": {
            "text/html": [
              "<div>\n",
              "<style scoped>\n",
              "    .dataframe tbody tr th:only-of-type {\n",
              "        vertical-align: middle;\n",
              "    }\n",
              "\n",
              "    .dataframe tbody tr th {\n",
              "        vertical-align: top;\n",
              "    }\n",
              "\n",
              "    .dataframe thead th {\n",
              "        text-align: right;\n",
              "    }\n",
              "</style>\n",
              "<table border=\"1\" class=\"dataframe\">\n",
              "  <thead>\n",
              "    <tr style=\"text-align: right;\">\n",
              "      <th></th>\n",
              "      <th>vars</th>\n",
              "      <th>vif_score</th>\n",
              "    </tr>\n",
              "  </thead>\n",
              "  <tbody>\n",
              "    <tr>\n",
              "      <th>0</th>\n",
              "      <td>Age</td>\n",
              "      <td>46.847628</td>\n",
              "    </tr>\n",
              "    <tr>\n",
              "      <th>1</th>\n",
              "      <td>Height (cm)</td>\n",
              "      <td>53.368643</td>\n",
              "    </tr>\n",
              "    <tr>\n",
              "      <th>2</th>\n",
              "      <td>Sex_M</td>\n",
              "      <td>2.079638</td>\n",
              "    </tr>\n",
              "    <tr>\n",
              "      <th>3</th>\n",
              "      <td>Smoke_habit_smoker</td>\n",
              "      <td>8.760185</td>\n",
              "    </tr>\n",
              "  </tbody>\n",
              "</table>\n",
              "</div>"
            ],
            "text/plain": [
              "                 vars  vif_score\n",
              "0                 Age  46.847628\n",
              "1         Height (cm)  53.368643\n",
              "2               Sex_M   2.079638\n",
              "3  Smoke_habit_smoker   8.760185"
            ]
          },
          "metadata": {
            "tags": []
          },
          "execution_count": 145
        }
      ]
    },
    {
      "cell_type": "code",
      "metadata": {
        "id": "RCXnC0isGEXd"
      },
      "source": [
        "# Yes Age and height are - obviously - has a strong covariance. "
      ],
      "execution_count": null,
      "outputs": []
    },
    {
      "cell_type": "markdown",
      "metadata": {
        "collapsed": true,
        "id": "bjznW7qi_W3b"
      },
      "source": [
        "<table align=\"left\">\n",
        "    <tr>\n",
        "        <td width=\"6%\">\n",
        "            <img src=\"question_icon.png\">\n",
        "        </td>\n",
        "        <td>\n",
        "            <div align=\"left\", style=\"font-size:120%\">\n",
        "                <font color=\"#21618C\">\n",
        "                    <b>16.  A Linear regression model is used to analyze the impact of all possible features on respiratory function (FEV). Check whether the error terms are serially independent?</b>\n",
        "                </font>\n",
        "            </div>\n",
        "        </td>\n",
        "    </tr>\n",
        "</table>"
      ]
    },
    {
      "cell_type": "code",
      "metadata": {
        "id": "8onrQZl1_W3b",
        "colab": {
          "base_uri": "https://localhost:8080/"
        },
        "outputId": "e85bd476-a864-4b33-cb40-bc8d3e372f46"
      },
      "source": [
        "# DW statistics\r\n",
        "\r\n",
        "xc= sm.add_constant(df.loc[:, df.columns!='FEV'])\r\n",
        "model = sm.OLS(df['FEV'], xc).fit()\r\n",
        "print(model.summary())"
      ],
      "execution_count": 148,
      "outputs": [
        {
          "output_type": "stream",
          "text": [
            "                            OLS Regression Results                            \n",
            "==============================================================================\n",
            "Dep. Variable:                    FEV   R-squared:                       0.701\n",
            "Model:                            OLS   Adj. R-squared:                  0.699\n",
            "Method:                 Least Squares   F-statistic:                     379.5\n",
            "Date:                Fri, 29 Jan 2021   Prob (F-statistic):          2.78e-168\n",
            "Time:                        03:12:03   Log-Likelihood:                -439.94\n",
            "No. Observations:                 654   AIC:                             889.9\n",
            "Df Residuals:                     649   BIC:                             912.3\n",
            "Df Model:                           4                                         \n",
            "Covariance Type:            nonrobust                                         \n",
            "======================================================================================\n",
            "                         coef    std err          t      P>|t|      [0.025      0.975]\n",
            "--------------------------------------------------------------------------------------\n",
            "const                -16.5268      0.575    -28.727      0.000     -17.656     -15.397\n",
            "Age                    0.0026      0.007      0.374      0.708      -0.011       0.016\n",
            "Height (cm)            0.1192      0.003     34.063      0.000       0.112       0.126\n",
            "Sex_M                  0.1801      0.038      4.769      0.000       0.106       0.254\n",
            "Smoke_habit_smoker    -0.2231      0.063     -3.515      0.000      -0.348      -0.098\n",
            "==============================================================================\n",
            "Omnibus:                      113.397   Durbin-Watson:                   1.647\n",
            "Prob(Omnibus):                  0.000   Jarque-Bera (JB):              652.393\n",
            "Skew:                          -0.625   Prob(JB):                    2.16e-142\n",
            "Kurtosis:                       7.730   Cond. No.                     5.03e+03\n",
            "==============================================================================\n",
            "\n",
            "Warnings:\n",
            "[1] Standard Errors assume that the covariance matrix of the errors is correctly specified.\n",
            "[2] The condition number is large, 5.03e+03. This might indicate that there are\n",
            "strong multicollinearity or other numerical problems.\n"
          ],
          "name": "stdout"
        }
      ]
    },
    {
      "cell_type": "code",
      "metadata": {
        "id": "zPfzMRE4GhmI"
      },
      "source": [
        "# We are getting a DW test as 1.6 - which is not that great. \r\n",
        "\r\n",
        "# Residuals (errors) have some what autocorrelation between them."
      ],
      "execution_count": 147,
      "outputs": []
    },
    {
      "cell_type": "markdown",
      "metadata": {
        "collapsed": true,
        "id": "XGJl8zGF_W3b"
      },
      "source": [
        "<table align=\"left\">\n",
        "    <tr>\n",
        "        <td width=\"6%\">\n",
        "            <img src=\"question_icon.png\">\n",
        "        </td>\n",
        "        <td>\n",
        "            <div align=\"left\", style=\"font-size:120%\">\n",
        "                <font color=\"#21618C\">\n",
        "                    <b>17. A model is built using all the features to predict the FEV. Check whether the residuals obtained form the model are normally distributed. </b>\n",
        "                </font>\n",
        "            </div>\n",
        "        </td>\n",
        "    </tr>\n",
        "</table>"
      ]
    },
    {
      "cell_type": "code",
      "metadata": {
        "scrolled": false,
        "id": "VxdQ20gb_W3c",
        "colab": {
          "base_uri": "https://localhost:8080/",
          "height": 294
        },
        "outputId": "26807478-4c54-4600-be1e-985bac2a7504"
      },
      "source": [
        "# QQ PLot\r\n",
        "\r\n",
        "stats.probplot(model.resid, plot=plt)\r\n",
        "plt.show()"
      ],
      "execution_count": 149,
      "outputs": [
        {
          "output_type": "display_data",
          "data": {
            "image/png": "[encoded data removed]",
            "text/plain": [
              "<Figure size 432x288 with 1 Axes>"
            ]
          },
          "metadata": {
            "tags": [],
            "needs_background": "light"
          }
        }
      ]
    },
    {
      "cell_type": "code",
      "metadata": {
        "colab": {
          "base_uri": "https://localhost:8080/"
        },
        "id": "iqnahOsWIHFR",
        "outputId": "d95534d0-2779-495d-8c7b-a03deffb2421"
      },
      "source": [
        "# H0 = Residuals are normally distributed\r\n",
        "\r\n",
        "stats.jarque_bera(model.resid)"
      ],
      "execution_count": 150,
      "outputs": [
        {
          "output_type": "execute_result",
          "data": {
            "text/plain": [
              "(652.3925077349464, 0.0)"
            ]
          },
          "metadata": {
            "tags": []
          },
          "execution_count": 150
        }
      ]
    },
    {
      "cell_type": "code",
      "metadata": {
        "id": "Sb4HRNVZIOCR"
      },
      "source": [
        "# We reject the null hypothesis. \r\n",
        "\r\n",
        "# They are NOT normally distributed."
      ],
      "execution_count": 151,
      "outputs": []
    },
    {
      "cell_type": "markdown",
      "metadata": {
        "id": "xVkNN9Du_W3c"
      },
      "source": [
        "<a id=\"ml_perf\"> </a>\n",
        "## 6. Model Performance"
      ]
    },
    {
      "cell_type": "markdown",
      "metadata": {
        "collapsed": true,
        "id": "vGRthuBj_W3c"
      },
      "source": [
        "<table align=\"left\">\n",
        "    <tr>\n",
        "        <td width=\"6%\">\n",
        "            <img src=\"question_icon.png\">\n",
        "        </td>\n",
        "        <td>\n",
        "            <div align=\"left\", style=\"font-size:120%\">\n",
        "                <font color=\"#21618C\">\n",
        "                    <b>18. Build a full model on 70% of the given data. Calculate the mean square error and the root mean square error on the test set.</b>\n",
        "                </font>\n",
        "            </div>\n",
        "        </td>\n",
        "    </tr>\n",
        "</table>"
      ]
    },
    {
      "cell_type": "code",
      "metadata": {
        "id": "qRRZoRIS_W3c"
      },
      "source": [
        "from sklearn.model_selection import train_test_split"
      ],
      "execution_count": 152,
      "outputs": []
    },
    {
      "cell_type": "code",
      "metadata": {
        "id": "_U0WCjuNIdI_"
      },
      "source": [
        "x_tr, x_ts, y_tr, y_ts = train_test_split(df.loc[:, df.columns != 'FEV'], df['FEV'], random_state= 42)"
      ],
      "execution_count": 156,
      "outputs": []
    },
    {
      "cell_type": "code",
      "metadata": {
        "colab": {
          "base_uri": "https://localhost:8080/"
        },
        "id": "hXYTbgBeIdLe",
        "outputId": "9b780019-dfcf-4533-a874-e5b1851b2ba0"
      },
      "source": [
        "xc= sm.add_constant(x_tr)\r\n",
        "model = sm.OLS(y_tr, xc).fit()\r\n",
        "print(model.summary())"
      ],
      "execution_count": 157,
      "outputs": [
        {
          "output_type": "stream",
          "text": [
            "                            OLS Regression Results                            \n",
            "==============================================================================\n",
            "Dep. Variable:                    FEV   R-squared:                       0.680\n",
            "Model:                            OLS   Adj. R-squared:                  0.677\n",
            "Method:                 Least Squares   F-statistic:                     257.7\n",
            "Date:                Fri, 29 Jan 2021   Prob (F-statistic):          1.63e-118\n",
            "Time:                        03:20:16   Log-Likelihood:                -338.23\n",
            "No. Observations:                 490   AIC:                             686.5\n",
            "Df Residuals:                     485   BIC:                             707.4\n",
            "Df Model:                           4                                         \n",
            "Covariance Type:            nonrobust                                         \n",
            "======================================================================================\n",
            "                         coef    std err          t      P>|t|      [0.025      0.975]\n",
            "--------------------------------------------------------------------------------------\n",
            "const                -16.0415      0.672    -23.882      0.000     -17.361     -14.722\n",
            "Age                    0.0016      0.008      0.198      0.843      -0.014       0.018\n",
            "Height (cm)            0.1160      0.004     28.399      0.000       0.108       0.124\n",
            "Sex_M                  0.1829      0.044      4.128      0.000       0.096       0.270\n",
            "Smoke_habit_smoker    -0.2181      0.075     -2.919      0.004      -0.365      -0.071\n",
            "==============================================================================\n",
            "Omnibus:                       99.109   Durbin-Watson:                   2.080\n",
            "Prob(Omnibus):                  0.000   Jarque-Bera (JB):              547.612\n",
            "Skew:                          -0.746   Prob(JB):                    1.22e-119\n",
            "Kurtosis:                       7.960   Cond. No.                     4.99e+03\n",
            "==============================================================================\n",
            "\n",
            "Warnings:\n",
            "[1] Standard Errors assume that the covariance matrix of the errors is correctly specified.\n",
            "[2] The condition number is large, 4.99e+03. This might indicate that there are\n",
            "strong multicollinearity or other numerical problems.\n"
          ],
          "name": "stdout"
        }
      ]
    },
    {
      "cell_type": "code",
      "metadata": {
        "colab": {
          "base_uri": "https://localhost:8080/"
        },
        "id": "OWxeAh3hJ-vy",
        "outputId": "fdb72c20-021f-48a2-f579-eb10a96a8790"
      },
      "source": [
        "# predict and score\r\n",
        "\r\n",
        "xy = sm.add_constant(x_ts)\r\n",
        "rr= model.predict(xy)\r\n",
        "from sklearn.metrics import mean_squared_error\r\n",
        "\r\n",
        "mean_squared_error(y_true= y_ts, y_pred=rr)"
      ],
      "execution_count": 165,
      "outputs": [
        {
          "output_type": "execute_result",
          "data": {
            "text/plain": [
              "0.20555047934139767"
            ]
          },
          "metadata": {
            "tags": []
          },
          "execution_count": 165
        }
      ]
    },
    {
      "cell_type": "code",
      "metadata": {
        "colab": {
          "base_uri": "https://localhost:8080/"
        },
        "id": "MAEgrTZqKYN5",
        "outputId": "f9f88f47-cdbc-42ed-fe03-0be6885a2095"
      },
      "source": [
        "#rmse\r\n",
        "np.sqrt(mean_squared_error(y_true= y_ts, y_pred=rr))"
      ],
      "execution_count": 166,
      "outputs": [
        {
          "output_type": "execute_result",
          "data": {
            "text/plain": [
              "0.4533767520963086"
            ]
          },
          "metadata": {
            "tags": []
          },
          "execution_count": 166
        }
      ]
    },
    {
      "cell_type": "markdown",
      "metadata": {
        "collapsed": true,
        "id": "wmgPc4Rs_W3d"
      },
      "source": [
        "<table align=\"left\">\n",
        "    <tr>\n",
        "        <td width=\"6%\">\n",
        "            <img src=\"question_icon.png\">\n",
        "        </td>\n",
        "        <td>\n",
        "            <div align=\"left\", style=\"font-size:120%\">\n",
        "                <font color=\"#21618C\">\n",
        "                    <b>19. Calculate the mean absolute error and the  mean absolute percentage error for the test set using the model in Q18. Compare the values of RMSE and MAE. </b>\n",
        "                </font>\n",
        "            </div>\n",
        "        </td>\n",
        "    </tr>\n",
        "</table>"
      ]
    },
    {
      "cell_type": "code",
      "metadata": {
        "id": "f1eiFdgH_W3d",
        "colab": {
          "base_uri": "https://localhost:8080/"
        },
        "outputId": "17c8abfd-0607-4fa9-9a1c-4b84f7bc62eb"
      },
      "source": [
        "from sklearn.metrics import mean_absolute_error\r\n",
        "mean_absolute_error(y_true= y_ts, y_pred=rr)"
      ],
      "execution_count": 167,
      "outputs": [
        {
          "output_type": "execute_result",
          "data": {
            "text/plain": [
              "0.3403189727932396"
            ]
          },
          "metadata": {
            "tags": []
          },
          "execution_count": 167
        }
      ]
    },
    {
      "cell_type": "code",
      "metadata": {
        "colab": {
          "base_uri": "https://localhost:8080/"
        },
        "id": "lHdSJBS7L5V1",
        "outputId": "63d60015-5db6-45e7-d7aa-c8184f294e8d"
      },
      "source": [
        "# MAPE\r\n",
        "\r\n",
        "sum(abs(y_ts - rr/ y_ts))/len(y_ts)"
      ],
      "execution_count": 173,
      "outputs": [
        {
          "output_type": "execute_result",
          "data": {
            "text/plain": [
              "1.7308759975167594"
            ]
          },
          "metadata": {
            "tags": []
          },
          "execution_count": 173
        }
      ]
    },
    {
      "cell_type": "markdown",
      "metadata": {
        "collapsed": true,
        "id": "P_8BbafK_W3d"
      },
      "source": [
        "<table align=\"left\">\n",
        "    <tr>\n",
        "        <td width=\"6%\">\n",
        "            <img src=\"question_icon.png\">\n",
        "        </td>\n",
        "        <td>\n",
        "            <div align=\"left\", style=\"font-size:120%\">\n",
        "                <font color=\"#21618C\">\n",
        "                    <b>20. Build the full model on 80% of the given data and check if the model is overfitted? </b>\n",
        "                </font>\n",
        "            </div>\n",
        "        </td>\n",
        "    </tr>\n",
        "</table>"
      ]
    },
    {
      "cell_type": "code",
      "metadata": {
        "id": "DXTs3KZB_W3d"
      },
      "source": [
        "x_tr1, x_ts1, y_tr1, y_ts1 = train_test_split(df.loc[:, df.columns != 'FEV'], df['FEV'], train_size=0.8,  random_state= 42)"
      ],
      "execution_count": 174,
      "outputs": []
    },
    {
      "cell_type": "code",
      "metadata": {
        "colab": {
          "base_uri": "https://localhost:8080/"
        },
        "id": "HEfuF_j-ONC0",
        "outputId": "853b68f2-63ac-490a-d05e-0f581c88f582"
      },
      "source": [
        "xc= sm.add_constant(x_tr1)\r\n",
        "model = sm.OLS(y_tr1, xc).fit()\r\n",
        "print(model.summary())"
      ],
      "execution_count": 175,
      "outputs": [
        {
          "output_type": "stream",
          "text": [
            "                            OLS Regression Results                            \n",
            "==============================================================================\n",
            "Dep. Variable:                    FEV   R-squared:                       0.682\n",
            "Model:                            OLS   Adj. R-squared:                  0.679\n",
            "Method:                 Least Squares   F-statistic:                     277.6\n",
            "Date:                Fri, 29 Jan 2021   Prob (F-statistic):          2.64e-127\n",
            "Time:                        03:39:10   Log-Likelihood:                -361.18\n",
            "No. Observations:                 523   AIC:                             732.4\n",
            "Df Residuals:                     518   BIC:                             753.7\n",
            "Df Model:                           4                                         \n",
            "Covariance Type:            nonrobust                                         \n",
            "======================================================================================\n",
            "                         coef    std err          t      P>|t|      [0.025      0.975]\n",
            "--------------------------------------------------------------------------------------\n",
            "const                -16.1589      0.655    -24.686      0.000     -17.445     -14.873\n",
            "Age                    0.0032      0.008      0.414      0.679      -0.012       0.019\n",
            "Height (cm)            0.1167      0.004     29.321      0.000       0.109       0.125\n",
            "Sex_M                  0.1732      0.043      4.033      0.000       0.089       0.258\n",
            "Smoke_habit_smoker    -0.2235      0.072     -3.101      0.002      -0.365      -0.082\n",
            "==============================================================================\n",
            "Omnibus:                      100.280   Durbin-Watson:                   2.079\n",
            "Prob(Omnibus):                  0.000   Jarque-Bera (JB):              538.663\n",
            "Skew:                          -0.714   Prob(JB):                    1.07e-117\n",
            "Kurtosis:                       7.763   Cond. No.                     5.02e+03\n",
            "==============================================================================\n",
            "\n",
            "Warnings:\n",
            "[1] Standard Errors assume that the covariance matrix of the errors is correctly specified.\n",
            "[2] The condition number is large, 5.02e+03. This might indicate that there are\n",
            "strong multicollinearity or other numerical problems.\n"
          ],
          "name": "stdout"
        }
      ]
    },
    {
      "cell_type": "code",
      "metadata": {
        "colab": {
          "base_uri": "https://localhost:8080/"
        },
        "id": "lGDnkjgcOSV7",
        "outputId": "5f93ed38-d9a2-424e-dbf7-7d1fb2bf68da"
      },
      "source": [
        "# predict and score\r\n",
        "\r\n",
        "xyz = sm.add_constant(x_ts1)\r\n",
        "rrt= model.predict(xyz)\r\n",
        "from sklearn.metrics import r2_score\r\n",
        "\r\n",
        "print(mean_squared_error(y_true= y_ts1, y_pred=rrt))\r\n",
        "print(r2_score(y_true= y_ts1, y_pred=rrt))\r\n"
      ],
      "execution_count": 176,
      "outputs": [
        {
          "output_type": "stream",
          "text": [
            "0.19547437339689877\n",
            "0.7609939828819209\n"
          ],
          "name": "stdout"
        }
      ]
    },
    {
      "cell_type": "code",
      "metadata": {
        "id": "8FRYXlOoOwHM"
      },
      "source": [
        "# training score is less\r\n",
        "\r\n",
        "# testing score is less too- so the model is kind of Underfitting"
      ],
      "execution_count": 177,
      "outputs": []
    },
    {
      "cell_type": "code",
      "metadata": {
        "id": "vagKju9gO3gT"
      },
      "source": [
        ""
      ],
      "execution_count": null,
      "outputs": []
    }
  ]
}