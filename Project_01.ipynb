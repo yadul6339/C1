{
  "nbformat": 4,
  "nbformat_minor": 0,
  "metadata": {
    "colab": {
      "name": "Project_01.ipynb",
      "provenance": [],
      "collapsed_sections": []
    },
    "kernelspec": {
      "name": "python3",
      "display_name": "Python 3"
    }
  },
  "cells": [
    {
      "cell_type": "code",
      "metadata": {
        "colab": {
          "base_uri": "https://localhost:8080/"
        },
        "id": "CEoiThsdEcu8",
        "outputId": "fbbe97c6-d347-4e73-83f0-d7f1a74b8a3d"
      },
      "source": [
        "import pandas as pd\r\n",
        "import numpy as np\r\n",
        "import seaborn as sns\r\n",
        "import matplotlib.pyplot as plt\r\n",
        "import sklearn\r\n",
        "import statsmodels.api as sm"
      ],
      "execution_count": 1,
      "outputs": [
        {
          "output_type": "stream",
          "text": [
            "/usr/local/lib/python3.6/dist-packages/statsmodels/tools/_testing.py:19: FutureWarning: pandas.util.testing is deprecated. Use the functions in the public API at pandas.testing instead.\n",
            "  import pandas.util.testing as tm\n"
          ],
          "name": "stderr"
        }
      ]
    },
    {
      "cell_type": "code",
      "metadata": {
        "id": "91qK6g24EsRU"
      },
      "source": [
        "# data set used - link- https://www.kaggle.com/new-york-city/nyc-property-sales\r\n",
        "\r\n",
        "# Source domain: CC0: Public Domain\r\n",
        "#(Public)\r\n"
      ],
      "execution_count": 2,
      "outputs": []
    },
    {
      "cell_type": "markdown",
      "metadata": {
        "id": "HDCdbWfeFOok"
      },
      "source": [
        "data set used - link- https://www.kaggle.com/new-york-city/nyc-property-sales\r\n",
        "\r\n",
        "Source domain: CC0: Public Domain\r\n",
        "\r\n",
        "\r\n",
        "Last updated -- 2017-09-23\r\n",
        "\r\n",
        "Date created -- 2017-09-23\r\n",
        "\r\n",
        "Current version -- Version 1"
      ]
    },
    {
      "cell_type": "code",
      "metadata": {
        "id": "_A6TS_cDFNCS"
      },
      "source": [
        "df1= pd.read_csv('/content/nyc-rolling-sales.csv')\r\n",
        "print(df1.shape)"
      ],
      "execution_count": null,
      "outputs": []
    },
    {
      "cell_type": "code",
      "metadata": {
        "id": "ysdOZlN5FsXx"
      },
      "source": [
        "# Things to drop right away \r\n",
        "\r\n",
        "to_drop = ['EASE-MENT', 'Unnamed: 0', 'ADDRESS', 'APARTMENT NUMBER', 'TOTAL UNITS']"
      ],
      "execution_count": null,
      "outputs": []
    },
    {
      "cell_type": "code",
      "metadata": {
        "id": "rR_HWjKjFsa3"
      },
      "source": [
        ""
      ],
      "execution_count": null,
      "outputs": []
    },
    {
      "cell_type": "code",
      "metadata": {
        "id": "LbB0cPaHFshP"
      },
      "source": [
        ""
      ],
      "execution_count": null,
      "outputs": []
    },
    {
      "cell_type": "code",
      "metadata": {
        "id": "QeZMT92yFsji"
      },
      "source": [
        ""
      ],
      "execution_count": null,
      "outputs": []
    }
  ]
}