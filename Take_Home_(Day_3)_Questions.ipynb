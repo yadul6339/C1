{
  "nbformat": 4,
  "nbformat_minor": 0,
  "metadata": {
    "kernelspec": {
      "display_name": "Python 3",
      "language": "python",
      "name": "python3"
    },
    "language_info": {
      "codemirror_mode": {
        "name": "ipython",
        "version": 3
      },
      "file_extension": ".py",
      "mimetype": "text/x-python",
      "name": "python",
      "nbconvert_exporter": "python",
      "pygments_lexer": "ipython3",
      "version": "3.7.4"
    },
    "colab": {
      "name": "Take Home (Day 3) - Questions.ipynb",
      "provenance": [],
      "collapsed_sections": [],
      "include_colab_link": true
    }
  },
  "cells": [
    {
      "cell_type": "markdown",
      "metadata": {
        "id": "view-in-github",
        "colab_type": "text"
      },
      "source": [
        "<a href=\"https://colab.research.google.com/github/zerryberry/C1/blob/master/Take_Home_(Day_3)_Questions.ipynb\" target=\"_parent\"><img src=\"https://colab.research.google.com/assets/colab-badge.svg\" alt=\"Open In Colab\"/></a>"
      ]
    },
    {
      "cell_type": "markdown",
      "metadata": {
        "id": "tmfgYRHwjTqI"
      },
      "source": [
        "<table align=\"center\" width=100%>\n",
        "    <tr>\n",
        "        <td width=\"15%\">\n",
        "            <img src=\"homework.png\">\n",
        "        </td>\n",
        "        <td>\n",
        "            <div align=\"center\">\n",
        "                <font color=\"#21618C\" size=8px>\n",
        "                    <b> Take-Home <br>(Day 3)\n",
        "                    </b>\n",
        "                </font>\n",
        "            </div>\n",
        "        </td>\n",
        "    </tr>\n",
        "</table>"
      ]
    },
    {
      "cell_type": "markdown",
      "metadata": {
        "id": "fqD_P89hjTqJ"
      },
      "source": [
        "**Let's begin with some hands-on practice exercises**"
      ]
    },
    {
      "cell_type": "markdown",
      "metadata": {
        "id": "beejVkCCjTqL"
      },
      "source": [
        "<table align=\"left\">\n",
        "    <tr>\n",
        "        <td width=\"6%\">\n",
        "            <img src=\"question_icon.png\">\n",
        "        </td>\n",
        "        <td>\n",
        "            <div align=\"left\", style=\"font-size:120%\">\n",
        "                <font color=\"#21618C\">\n",
        "                    <b>1. Write a program to print the following pattern (use for loop)</b>\n",
        "                    <br>\n",
        "                 </font>\n",
        "            </div>\n",
        "        </td>\n",
        "    </tr>\n",
        "</table>\n"
      ]
    },
    {
      "cell_type": "markdown",
      "metadata": {
        "id": "B79ovH-YjTqM"
      },
      "source": [
        "                                            A  \n",
        "                                            B C  \n",
        "                                            D E F  \n",
        "                                            G H I J  \n",
        "                                            K L M N O  \n",
        "                                            P Q R S T U  "
      ]
    },
    {
      "cell_type": "code",
      "metadata": {
        "id": "SqbANaAtusqW",
        "outputId": "138d1b1d-24b6-476d-a38e-0a8e827a5a9a",
        "colab": {
          "base_uri": "https://localhost:8080/",
          "height": 126
        }
      },
      "source": [
        "val = 65\n",
        "n= int(input('How many iterarions you want '))\n",
        "for i in range(0, n):\n",
        "  for j in range(0, i+1):\n",
        "    al = chr(val)\n",
        "    print(al, end=\" \")\n",
        "    val = val + 1\n",
        "  print()"
      ],
      "execution_count": 221,
      "outputs": [
        {
          "output_type": "stream",
          "text": [
            "A \n",
            "B C \n",
            "D E F \n",
            "G H I J \n",
            "K L M N O \n",
            "P Q R S T U \n"
          ],
          "name": "stdout"
        }
      ]
    },
    {
      "cell_type": "markdown",
      "metadata": {
        "id": "zEs77OtvjTqS"
      },
      "source": [
        "<table align=\"left\">\n",
        "    <tr>\n",
        "        <td width=\"6%\">\n",
        "            <img src=\"question_icon.png\">\n",
        "        </td>\n",
        "        <td>\n",
        "            <div align=\"left\", style=\"font-size:120%\">\n",
        "                <font color=\"#21618C\">\n",
        "                    <b>2. Write a program to print tables from 2 to a user provided range (use for loop)</b>\n",
        "                 </font>\n",
        "            </div>\n",
        "        </td>\n",
        "    </tr>\n",
        "</table>"
      ]
    },
    {
      "cell_type": "code",
      "metadata": {
        "id": "4LUfPaoFjTqT",
        "outputId": "f5f33ccf-e3b8-4c30-c95c-3bc5603c58a0",
        "colab": {
          "base_uri": "https://localhost:8080/",
          "height": 363
        }
      },
      "source": [
        "n= int(input())\n",
        "for i in range(2,n+1):\n",
        "  for j in range(1,11):\n",
        "    if j!=10:\n",
        "      print('{0:4}'.format(i*j), end= ' ')\n",
        "    else:\n",
        "      print('\\n')"
      ],
      "execution_count": 55,
      "outputs": [
        {
          "output_type": "stream",
          "text": [
            "10\n",
            "   2    4    6    8   10   12   14   16   18 \n",
            "\n",
            "   3    6    9   12   15   18   21   24   27 \n",
            "\n",
            "   4    8   12   16   20   24   28   32   36 \n",
            "\n",
            "   5   10   15   20   25   30   35   40   45 \n",
            "\n",
            "   6   12   18   24   30   36   42   48   54 \n",
            "\n",
            "   7   14   21   28   35   42   49   56   63 \n",
            "\n",
            "   8   16   24   32   40   48   56   64   72 \n",
            "\n",
            "   9   18   27   36   45   54   63   72   81 \n",
            "\n",
            "  10   20   30   40   50   60   70   80   90 \n",
            "\n"
          ],
          "name": "stdout"
        }
      ]
    },
    {
      "cell_type": "markdown",
      "metadata": {
        "id": "I3_MInvUjTqX"
      },
      "source": [
        "<table align=\"left\">\n",
        "    <tr>\n",
        "        <td width=\"6%\">\n",
        "            <img src=\"question_icon.png\">\n",
        "        </td>\n",
        "        <td>\n",
        "            <div align=\"left\", style=\"font-size:120%\">\n",
        "                <font color=\"#21618C\">\n",
        "                    <b>3. Consider the given two tuples. Divide corresponding elemets of two tuples and print the result as tuple (use zip())</b>\n",
        "                 </font>\n",
        "            </div>\n",
        "        </td>\n",
        "    </tr>\n",
        "</table>"
      ]
    },
    {
      "cell_type": "markdown",
      "metadata": {
        "id": "qRI1GSHFjTqX"
      },
      "source": [
        "   **The original tuple 1 : (10, 4, 6, 9)**\n",
        "\n",
        "   **The original tuple 2 : (5, 2, 3, 3)**\n",
        "\n",
        "   **Output: (2, 2, 2, 3)**\n"
      ]
    },
    {
      "cell_type": "code",
      "metadata": {
        "id": "pOHcia4hjTqY",
        "outputId": "a5d7aec9-b75d-463c-8a62-674c17f8e3c5",
        "colab": {
          "base_uri": "https://localhost:8080/",
          "height": 35
        }
      },
      "source": [
        "tuple1 = (10, 4, 6, 9)\n",
        "tuple2 = (5, 2, 3, 3)\n",
        "a= ()\n",
        "for i, j in zip(tuple1, tuple2):\n",
        "  a+= (int(i/j),)\n",
        "a"
      ],
      "execution_count": 57,
      "outputs": [
        {
          "output_type": "execute_result",
          "data": {
            "text/plain": [
              "(2, 2, 2, 3)"
            ]
          },
          "metadata": {
            "tags": []
          },
          "execution_count": 57
        }
      ]
    },
    {
      "cell_type": "markdown",
      "metadata": {
        "id": "u1Sll5rAjTqc"
      },
      "source": [
        "<table align=\"left\">\n",
        "    <tr>\n",
        "        <td width=\"6%\">\n",
        "            <img src=\"question_icon.png\">\n",
        "        </td>\n",
        "        <td>\n",
        "            <div align=\"left\", style=\"font-size:120%\">\n",
        "                <font color=\"#21618C\">\n",
        "                    <b>4. Use list comprehension to find words whose length is less than 5 from the given multi-dimensional list</b>\n",
        "                    <br>\n",
        "                </font>\n",
        "            </div>\n",
        "        </td>\n",
        "    </tr>\n",
        "</table>"
      ]
    },
    {
      "cell_type": "markdown",
      "metadata": {
        "id": "nKCP1JpFjTqd"
      },
      "source": [
        "**astro = [['sky', 'sun', 'moon'], ['star', 'Jupiter', 'mars'], ['Jupiter', 'Neptune', 'Pluto']] **\n"
      ]
    },
    {
      "cell_type": "code",
      "metadata": {
        "id": "Q1YoFCKzjTqe"
      },
      "source": [
        "astro = [['sky', 'sun', 'moon'], ['star', 'Jupiter', 'mars'], ['Jupiter', 'Neptune', 'Pluto']]"
      ],
      "execution_count": 100,
      "outputs": []
    },
    {
      "cell_type": "code",
      "metadata": {
        "id": "xpGe8On9nYX_",
        "outputId": "22e863aa-c016-4c1e-d385-31b9d8a06e68",
        "colab": {
          "base_uri": "https://localhost:8080/",
          "height": 35
        }
      },
      "source": [
        "g = [j for i in astro for j in i if len(j)<5]\n",
        "print(g)"
      ],
      "execution_count": 112,
      "outputs": [
        {
          "output_type": "stream",
          "text": [
            "['sky', 'sun', 'moon', 'star', 'mars']\n"
          ],
          "name": "stdout"
        }
      ]
    },
    {
      "cell_type": "markdown",
      "metadata": {
        "id": "sdK4zQRUjTqi"
      },
      "source": [
        "<table align=\"left\">\n",
        "    <tr>\n",
        "        <td width=\"6%\">\n",
        "            <img src=\"question_icon.png\">\n",
        "        </td>\n",
        "        <td>\n",
        "            <div align=\"left\", style=\"font-size:120%\">\n",
        "                <font color=\"#21618C\">\n",
        "                    <b>5. Write a program to append a dictionary to a tuple</b>\n",
        "                 </font>\n",
        "            </div>\n",
        "        </td>\n",
        "    </tr>\n",
        "</table>"
      ]
    },
    {
      "cell_type": "markdown",
      "metadata": {
        "id": "Vr5DCC6FjTqj"
      },
      "source": [
        "**The original tuple : (4, 5, 6)**\n",
        "\n",
        "**Tuple after addition of dictionary : (4, 5, 6, {'gfg': 1, 'is': 2, 'best': 3})**"
      ]
    },
    {
      "cell_type": "code",
      "metadata": {
        "id": "yRwjRoTzlAcD",
        "outputId": "69cb8514-abc3-4a72-bc80-db741b895ec8",
        "colab": {
          "base_uri": "https://localhost:8080/",
          "height": 35
        }
      },
      "source": [
        "dictt"
      ],
      "execution_count": 85,
      "outputs": [
        {
          "output_type": "execute_result",
          "data": {
            "text/plain": [
              "{'best': 3, 'gfg': 1, 'is': 2}"
            ]
          },
          "metadata": {
            "tags": []
          },
          "execution_count": 85
        }
      ]
    },
    {
      "cell_type": "code",
      "metadata": {
        "id": "84M-jHhLjTqj",
        "outputId": "693a12b3-2bd9-464d-9479-0867bb5bc407",
        "colab": {
          "base_uri": "https://localhost:8080/",
          "height": 35
        }
      },
      "source": [
        "del a\n",
        "a= (4,5,6)\n",
        "b= {}\n",
        "dictt= {'gfg':1,'is':2,'best':3}\n",
        "a+= (dictt,)\n",
        "a"
      ],
      "execution_count": 222,
      "outputs": [
        {
          "output_type": "execute_result",
          "data": {
            "text/plain": [
              "(4, 5, 6, {'best': 3, 'gfg': 1, 'is': 2})"
            ]
          },
          "metadata": {
            "tags": []
          },
          "execution_count": 222
        }
      ]
    },
    {
      "cell_type": "markdown",
      "metadata": {
        "id": "5FU00960jTqr"
      },
      "source": [
        "<table align=\"left\">\n",
        "    <tr>\n",
        "        <td width=\"6%\">\n",
        "            <img src=\"question_icon.png\">\n",
        "        </td>\n",
        "        <td>\n",
        "            <div align=\"left\", style=\"font-size:120%\">\n",
        "                <font color=\"#21618C\">\n",
        "                    <b>6. Write a program to check whether two strings are anagram or not (take input from user)</b>\n",
        "                 </font>\n",
        "            </div>\n",
        "        </td>\n",
        "    </tr>\n",
        "</table>"
      ]
    },
    {
      "cell_type": "markdown",
      "metadata": {
        "id": "Wp7HFaCUjTqt"
      },
      "source": [
        "**Hint: An anagram of a string is another string that contains same characters, only the order of characters can be different.**"
      ]
    },
    {
      "cell_type": "code",
      "metadata": {
        "id": "Wp23aFyOjTqv",
        "outputId": "cf6ec249-8c49-4c5c-bd50-2fd9fea07c5d",
        "colab": {
          "base_uri": "https://localhost:8080/",
          "height": 72
        }
      },
      "source": [
        "a= input()\n",
        "b= input()\n",
        "for i in range(len(a)):\n",
        "  for j in range(len(b)):\n",
        "    if (a[i] in b and b[j] in a) and len(a) == len(b):\n",
        "      u= 1\n",
        "    else:\n",
        "      u= 0\n",
        "print('Anagram' if u==1 else 'Not anagram')"
      ],
      "execution_count": 28,
      "outputs": [
        {
          "output_type": "stream",
          "text": [
            "heart\n",
            "earth\n",
            "Anagram\n"
          ],
          "name": "stdout"
        }
      ]
    },
    {
      "cell_type": "markdown",
      "metadata": {
        "id": "wIEFAYdrjTq0"
      },
      "source": [
        "<table align=\"left\">\n",
        "    <tr>\n",
        "        <td width=\"6%\">\n",
        "            <img src=\"question_icon.png\">\n",
        "        </td>\n",
        "        <td>\n",
        "            <div align=\"left\", style=\"font-size:120%\">\n",
        "                <font color=\"#21618C\">\n",
        "                    <b>7. Write a program to remove space from keys of the given dictionary (use for loop)  </b>\n",
        "                 </font>\n",
        "            </div>\n",
        "        </td>\n",
        "    </tr>\n",
        "</table>"
      ]
    },
    {
      "cell_type": "markdown",
      "metadata": {
        "id": "NHi7o-QMjTq0"
      },
      "source": [
        "**fruity = {'Fruits 01' : 'Apple', 'Fruits 02' : 'Orange', \n",
        "                'Fruits 0 3 ': 'Grapes'}**\n",
        "\n",
        "**(Output) New dictionary :   {'Fruits01': 'Apple', 'Fruits02': 'Orange', 'Fruits03': 'Grapes'}**\n"
      ]
    },
    {
      "cell_type": "code",
      "metadata": {
        "id": "T9jQiLg8jTq1"
      },
      "source": [
        "fruity = {'Fruits 01' : 'Apple', 'Fruits 02' : 'Orange', 'Fruits 0 3 ': 'Grapes'}"
      ],
      "execution_count": 224,
      "outputs": []
    },
    {
      "cell_type": "code",
      "metadata": {
        "id": "vAwpXo3CJDOZ",
        "outputId": "7f5996d6-d988-4471-97b2-d31d0b657b5c",
        "colab": {
          "base_uri": "https://localhost:8080/",
          "height": 35
        }
      },
      "source": [
        "\n",
        "a= {i.replace(\" \",\"\"): j for i,j in fruity.items()}\n",
        "a"
      ],
      "execution_count": 272,
      "outputs": [
        {
          "output_type": "execute_result",
          "data": {
            "text/plain": [
              "{'Fruits01': 'Apple', 'Fruits02': 'Orange', 'Fruits03': 'Grapes'}"
            ]
          },
          "metadata": {
            "tags": []
          },
          "execution_count": 272
        }
      ]
    },
    {
      "cell_type": "markdown",
      "metadata": {
        "id": "GB10ooPJjTq5"
      },
      "source": [
        "<table align=\"left\">\n",
        "    <tr>\n",
        "        <td width=\"6%\">\n",
        "            <img src=\"question_icon.png\">\n",
        "        </td>\n",
        "        <td>\n",
        "            <div align=\"left\", style=\"font-size:120%\">\n",
        "                <font color=\"#21618C\">\n",
        "                    <b>8. Write a program to transpose a matrix using list comprehension</b>\n",
        "                 </font>\n",
        "            </div>\n",
        "        </td>\n",
        "    </tr>\n",
        "</table>"
      ]
    },
    {
      "cell_type": "markdown",
      "metadata": {
        "id": "Du4reQfTjTq5"
      },
      "source": [
        "**matrix=[[1,2],[3,4],[5,6],[7,8]]**<br>\n",
        "**Output: [[1, 3, 5, 7], [2, 4, 6, 8]]**"
      ]
    },
    {
      "cell_type": "code",
      "metadata": {
        "id": "Y5KUfElTjTq6",
        "outputId": "b45a842b-13a3-4dde-a055-a1fe34e94404",
        "colab": {
          "base_uri": "https://localhost:8080/",
          "height": 54
        }
      },
      "source": [
        "matrix= [[1,2], [3,4], [5,6], [7,8]]\n",
        "transpose= [[row[i] for row in matrix] for i in range(2)]\n",
        "print(matrix)\n",
        "print(transpose)"
      ],
      "execution_count": 12,
      "outputs": [
        {
          "output_type": "stream",
          "text": [
            "[[1, 2], [3, 4], [5, 6], [7, 8]]\n",
            "[[1, 3, 5, 7], [2, 4, 6, 8]]\n"
          ],
          "name": "stdout"
        }
      ]
    },
    {
      "cell_type": "markdown",
      "metadata": {
        "id": "m9BBwyZgjTq_"
      },
      "source": [
        "<table align=\"left\">\n",
        "    <tr>\n",
        "        <td width=\"6%\">\n",
        "            <img src=\"question_icon.png\">\n",
        "        </td>\n",
        "        <td>\n",
        "            <div align=\"left\", style=\"font-size:120%\">\n",
        "                <font color=\"#21618C\">\n",
        "                    <b>9. Write a program to add the cubes of first 5 positive integers (use while loop)</b>\n",
        "                 </font>\n",
        "            </div>\n",
        "        </td>\n",
        "    </tr>\n",
        "</table>"
      ]
    },
    {
      "cell_type": "code",
      "metadata": {
        "id": "YG1bymanjTrA",
        "outputId": "fe00e8ca-361b-4869-b9c9-e99666c77d12",
        "colab": {
          "base_uri": "https://localhost:8080/",
          "height": 35
        }
      },
      "source": [
        "a= 0\n",
        "i=0\n",
        "while i<=5:\n",
        "  a+= i**3\n",
        "  i+=1\n",
        "a"
      ],
      "execution_count": 11,
      "outputs": [
        {
          "output_type": "execute_result",
          "data": {
            "text/plain": [
              "225"
            ]
          },
          "metadata": {
            "tags": []
          },
          "execution_count": 11
        }
      ]
    },
    {
      "cell_type": "markdown",
      "metadata": {
        "id": "wPeK4wp2jTrG"
      },
      "source": [
        "<table align=\"left\">\n",
        "    <tr>\n",
        "        <td width=\"6%\">\n",
        "            <img src=\"question_icon.png\">\n",
        "        </td>\n",
        "        <td>\n",
        "            <div align=\"left\", style=\"font-size:120%\">\n",
        "                <font color=\"#21618C\">\n",
        "                    <b>10. Write a program to create a 5x3 matrix with values in each row as 1,2, and 3 (use list comprehension)</b>\n",
        "                    <br>\n",
        "                 </font>\n",
        "            </div>\n",
        "        </td>\n",
        "    </tr>\n",
        "</table>"
      ]
    },
    {
      "cell_type": "code",
      "metadata": {
        "id": "AmMuipwgjTrH",
        "outputId": "e76c2f78-2db0-44c5-ea89-171af9657c52",
        "colab": {
          "base_uri": "https://localhost:8080/",
          "height": 108
        }
      },
      "source": [
        "a= [[i for i in range(1,4)] for j in range(1,6)]\n",
        "print('\\n'.join([str(i) for i in a]))"
      ],
      "execution_count": 9,
      "outputs": [
        {
          "output_type": "stream",
          "text": [
            "[1, 2, 3]\n",
            "[1, 2, 3]\n",
            "[1, 2, 3]\n",
            "[1, 2, 3]\n",
            "[1, 2, 3]\n"
          ],
          "name": "stdout"
        }
      ]
    },
    {
      "cell_type": "code",
      "metadata": {
        "id": "viIQfy9vPISa"
      },
      "source": [
        ""
      ],
      "execution_count": null,
      "outputs": []
    }
  ]
}