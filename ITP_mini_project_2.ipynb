{
  "nbformat": 4,
  "nbformat_minor": 0,
  "metadata": {
    "kernelspec": {
      "display_name": "Python 3",
      "language": "python",
      "name": "python3"
    },
    "language_info": {
      "codemirror_mode": {
        "name": "ipython",
        "version": 3
      },
      "file_extension": ".py",
      "mimetype": "text/x-python",
      "name": "python",
      "nbconvert_exporter": "python",
      "pygments_lexer": "ipython3",
      "version": "3.7.2"
    },
    "colab": {
      "name": "ITP_mini_project-2.ipynb",
      "provenance": [],
      "collapsed_sections": [],
      "include_colab_link": true
    }
  },
  "cells": [
    {
      "cell_type": "markdown",
      "metadata": {
        "id": "view-in-github",
        "colab_type": "text"
      },
      "source": [
        "<a href=\"https://colab.research.google.com/github/zerryberry/C1/blob/master/ITP_mini_project_2.ipynb\" target=\"_parent\"><img src=\"https://colab.research.google.com/assets/colab-badge.svg\" alt=\"Open In Colab\"/></a>"
      ]
    },
    {
      "cell_type": "markdown",
      "metadata": {
        "id": "LmDN04Z750He"
      },
      "source": [
        "# <center>PGP Data Science Engineering</center>\n",
        "## <center>Introduction to Programming – Mini Project:</center>\n"
      ]
    },
    {
      "cell_type": "markdown",
      "metadata": {
        "id": "xvcxZ2T650Hg"
      },
      "source": [
        "### Problem 1:\n",
        "\n",
        "1. Write a program to calculate area of shapes. Your program should be capable of calculating the area of a square, rectangle, triangle and a circle. The user should be presented with options to select the shape. Based on which shape is chosed by the user, the program should ask for the appropriate input and print the resulting area on the screen.\n",
        "\n",
        "When the program is run, the screen should display something like this:\n",
        "\n",
        "**Which shape would you like to calculate the area for? Please enter the option number-**<br>\n",
        "**1. Square**<br>\n",
        "**2. Rectangle**<br>\n",
        "**3. Triangle**<br>\n",
        "**4. Circle**<br>\n",
        "**Enter Option: _**\n",
        "\n",
        "Say the user enters the option 1.\n",
        "\n",
        "**Please enter the length of a side: _**\n",
        "\n",
        "If the user enters a value of 5. The output should be:\n",
        "\n",
        "**The area of the square is 25**\n",
        "\n",
        "This program should indicate that the input is invalid if the user enters a character instead of a number as input. For instance if the user enters a value of ‘a’ instead of 5 in the previous example the program should prompt:\n",
        "\n",
        "**Invalid input, please enter a number: _**\n"
      ]
    },
    {
      "cell_type": "code",
      "metadata": {
        "id": "8pLNUka450Hh",
        "outputId": "c33f3c49-a792-4f4f-ac7d-c69e6b9dc5b7",
        "colab": {
          "base_uri": "https://localhost:8080/",
          "height": 72
        }
      },
      "source": [
        "import math\n",
        "try:\n",
        "  n= int(input('Which shape would you like to calculate the area for? Please enter the option number- 1. Square, 2. Rectangle, 3. Triangle, 4. Circle '))\n",
        "  if n== 1:\n",
        "    print('The area of the square is',float(input())**2)\n",
        "  elif n==2:\n",
        "    print('The area of the rectangle is', float(input('Enter length '))* float(input('Enter breadth')))\n",
        "  elif n==3:\n",
        "    print('The area of triangle is ', 0.5* float(input('Enter base '))* float(input('Enter height ')))\n",
        "  elif n==4:\n",
        "    print('The area of circle is', (math.pi* float(input('Enter the radius '))**2))\n",
        "except ValueError:\n",
        "  print('Invalid input, please enter a number')"
      ],
      "execution_count": 13,
      "outputs": [
        {
          "output_type": "stream",
          "text": [
            "Which shape would you like to calculate the area for? Please enter the option number- 1. Square, 2. Rectangle, 3. Triangle, 4. Circle 4\n",
            "Enter the radius 5\n",
            "The area of circle is 78.53981633974483\n"
          ],
          "name": "stdout"
        }
      ]
    },
    {
      "cell_type": "markdown",
      "metadata": {
        "id": "m8wFugiT50Hm"
      },
      "source": [
        "### Problem 2:\n",
        "\n",
        "Create and encrypter in python based on the ceaser cipher. It is a substitution cipher where each character of the original text is shifted a certain number characters in the alphabet. Write a function that would require 2 arguments – the input text to be encrypted and a key. For eg: Given the input text ‘hello’ and the key 3, the resulting encryted text would be ‘khoor’. Here you can see that every character in the string hello is shifted by 3 characters. ‘h’ has shifted to ‘k’, ‘e’ has shifted to ‘h’ and so on. If a key of 5 were used, the resulting string would be ‘mjqqt’. This function should be capable of ignoring any characters which are not alphabets. Th2 character ‘z’ entered b\n",
        "y the user for a key of 3 would result in ‘c’.\n",
        "\n",
        "Usage:<br>\n",
        "**encrypt(‘hello world!’, 3)**<br>\n",
        "**‘khoor zruog!’**\n",
        "\n",
        "Similarly create decrypter which can decode the encryted text when provided the input text and key\n",
        "\n",
        "Usage:<br>\n",
        "**decrypt(‘khoor zruog!’, 3)**<br>\n",
        "**‘hello world!’**\n",
        "\n",
        "For the sake of simplicity you can assume that input solely consists of lowercase alphabets, spaces and punctuation symbols. Numbers in the input text would also be ignored similar to symbols."
      ]
    },
    {
      "cell_type": "code",
      "metadata": {
        "id": "jCfBFBtK50Hn"
      },
      "source": [
        "#without string-lib\n",
        "\n",
        "def encrypt(n, m):\n",
        "  z= ''\n",
        "  n= n.lower()\n",
        "  for i in n:\n",
        "    if ord(i) in range(97, 123):\n",
        "      v= ord(i) + m\n",
        "      if v> 122:\n",
        "        v= 97+ (v-123)\n",
        "      z += chr(v)\n",
        "    else:\n",
        "      z+= i\n",
        "  return z"
      ],
      "execution_count": 14,
      "outputs": []
    },
    {
      "cell_type": "code",
      "metadata": {
        "id": "2OtlK1JGR0Fe",
        "outputId": "b1e5ea44-8906-428d-a7e1-a190de9bc720",
        "colab": {
          "base_uri": "https://localhost:8080/",
          "height": 35
        }
      },
      "source": [
        "encrypt('hello world!', 3)"
      ],
      "execution_count": 17,
      "outputs": [
        {
          "output_type": "execute_result",
          "data": {
            "application/vnd.google.colaboratory.intrinsic+json": {
              "type": "string"
            },
            "text/plain": [
              "'khoor zruog!'"
            ]
          },
          "metadata": {
            "tags": []
          },
          "execution_count": 17
        }
      ]
    },
    {
      "cell_type": "code",
      "metadata": {
        "id": "riwunoVlP3fH"
      },
      "source": [
        "def decrypt(n, m):\n",
        "  z= ''\n",
        "  n= n.lower()\n",
        "  for i in n:\n",
        "    if ord(i) in range(97, 123):\n",
        "      v= ord(i) - m\n",
        "      if v> 122:\n",
        "        v= 97+ (v-123)\n",
        "      z += chr(v)\n",
        "    else:\n",
        "      z+= i\n",
        "  return z"
      ],
      "execution_count": 15,
      "outputs": []
    },
    {
      "cell_type": "code",
      "metadata": {
        "id": "xv7B1g_xRzcj",
        "outputId": "58fc37d3-a86d-4cb5-87d0-1cdbc05a3bb6",
        "colab": {
          "base_uri": "https://localhost:8080/",
          "height": 35
        }
      },
      "source": [
        "decrypt('khoor zruog!', 3)"
      ],
      "execution_count": 18,
      "outputs": [
        {
          "output_type": "execute_result",
          "data": {
            "application/vnd.google.colaboratory.intrinsic+json": {
              "type": "string"
            },
            "text/plain": [
              "'hello world!'"
            ]
          },
          "metadata": {
            "tags": []
          },
          "execution_count": 18
        }
      ]
    },
    {
      "cell_type": "code",
      "metadata": {
        "id": "mRPqqYI5SA9j"
      },
      "source": [
        ""
      ],
      "execution_count": null,
      "outputs": []
    }
  ]
}