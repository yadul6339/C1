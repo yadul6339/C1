{
  "nbformat": 4,
  "nbformat_minor": 0,
  "metadata": {
    "kernelspec": {
      "display_name": "Python 3",
      "language": "python",
      "name": "python3"
    },
    "language_info": {
      "codemirror_mode": {
        "name": "ipython",
        "version": 3
      },
      "file_extension": ".py",
      "mimetype": "text/x-python",
      "name": "python",
      "nbconvert_exporter": "python",
      "pygments_lexer": "ipython3",
      "version": "3.7.4"
    },
    "colab": {
      "name": "python_exam_13383_65129_155141.ipynb",
      "provenance": [],
      "collapsed_sections": [],
      "include_colab_link": true
    }
  },
  "cells": [
    {
      "cell_type": "markdown",
      "metadata": {
        "id": "view-in-github",
        "colab_type": "text"
      },
      "source": [
        "<a href=\"https://colab.research.google.com/github/zerryberry/C1/blob/master/test_python.ipynb\" target=\"_parent\"><img src=\"https://colab.research.google.com/assets/colab-badge.svg\" alt=\"Open In Colab\"/></a>"
      ]
    },
    {
      "cell_type": "markdown",
      "metadata": {
        "id": "nOaOnP7fvA1L"
      },
      "source": [
        "# INTRODUCTION TO PYTHON MID EXAM"
      ]
    },
    {
      "cell_type": "markdown",
      "metadata": {
        "id": "aWvTRAYtvA1O"
      },
      "source": [
        "# SECTION A: 5 MARKS"
      ]
    },
    {
      "cell_type": "markdown",
      "metadata": {
        "id": "BKZHhHPjvA1Q"
      },
      "source": [
        " _________________"
      ]
    },
    {
      "cell_type": "markdown",
      "metadata": {
        "id": "Kubj2Ej0vA1T"
      },
      "source": [
        "### 1. Mention five benefits of using Python? (5 Marks)\n",
        "\n"
      ]
    },
    {
      "cell_type": "markdown",
      "metadata": {
        "id": "amYzjmOa8-75"
      },
      "source": [
        "\n",
        "\n",
        "1.  Open source, freely distrubuted, libraries available\n",
        "2.  OOPS oriented. high level. easy to use\n",
        "3.  Interpreted, web browser based, interactive programming\n",
        "4.  Has GIL which allows only one operation to be run at single point. \n",
        "5.  Efficient dynamic memory management, has garbage collection which automatically frees up space\n",
        "6.  Accepted and contributed world wide.\n"
      ]
    },
    {
      "cell_type": "markdown",
      "metadata": {
        "id": "-eshPsBfvA1V"
      },
      "source": [
        "# SECTION B: 10 MARKS"
      ]
    },
    {
      "cell_type": "markdown",
      "metadata": {
        "id": "-8k1XlljvA1W"
      },
      "source": [
        "---------------------"
      ]
    },
    {
      "cell_type": "markdown",
      "metadata": {
        "id": "7FKQtERVvA1X"
      },
      "source": [
        "### 2 . Python program that accepts a comma separated sequence of words as input and after sorting them alphabetically. (5 marks)\n",
        "\n",
        "\n",
        "**INPUT:**bag,food,eat,pen,with,water\n",
        "\n",
        "**OUTPUT:**bag,eat,food,pen,water,with\n",
        "\n"
      ]
    },
    {
      "cell_type": "code",
      "metadata": {
        "id": "wLRNLIkOvA1Z"
      },
      "source": [
        "a= ['bag','food','eat','pen','with','water']\n",
        "a.sort()"
      ],
      "execution_count": 2,
      "outputs": []
    },
    {
      "cell_type": "code",
      "metadata": {
        "id": "dU5xBXSHwSfq",
        "outputId": "7028e6e6-e221-4854-f20d-b3248fabfb82",
        "colab": {
          "base_uri": "https://localhost:8080/",
          "height": 35
        }
      },
      "source": [
        "a"
      ],
      "execution_count": 3,
      "outputs": [
        {
          "output_type": "execute_result",
          "data": {
            "text/plain": [
              "['bag', 'eat', 'food', 'pen', 'water', 'with']"
            ]
          },
          "metadata": {
            "tags": []
          },
          "execution_count": 3
        }
      ]
    },
    {
      "cell_type": "markdown",
      "metadata": {
        "id": "Rs7TLLhSvA1f"
      },
      "source": [
        "### 3. Python program that computes the value of X+XX+XXX+XXXX with a given digit as the value of a? (5 Marks)\n",
        "\n",
        "\n",
        "\n",
        "**INPUT:**9\n",
        "\n",
        "\n",
        "**OUTPUT:**11106\n",
        "\n",
        "\n"
      ]
    },
    {
      "cell_type": "code",
      "metadata": {
        "id": "5F-pca3mvA1g",
        "outputId": "199f6b92-a9fb-4a17-81fa-54a6bc249c51",
        "colab": {
          "base_uri": "https://localhost:8080/",
          "height": 52
        }
      },
      "source": [
        "n= str(input())\n",
        "a= 0\n",
        "for i in range(1,5):\n",
        "  a+= int(n*i)\n",
        "a"
      ],
      "execution_count": 65,
      "outputs": [
        {
          "output_type": "stream",
          "text": [
            "8\n"
          ],
          "name": "stdout"
        },
        {
          "output_type": "execute_result",
          "data": {
            "text/plain": [
              "9872"
            ]
          },
          "metadata": {
            "tags": []
          },
          "execution_count": 65
        }
      ]
    },
    {
      "cell_type": "code",
      "metadata": {
        "id": "PKs22wx18kLe",
        "outputId": "fad0203e-e72b-4bb5-a9ed-3a5d43fb0a46",
        "colab": {
          "base_uri": "https://localhost:8080/",
          "height": 35
        }
      },
      "source": [
        "8+88+888+8888"
      ],
      "execution_count": 63,
      "outputs": [
        {
          "output_type": "execute_result",
          "data": {
            "text/plain": [
              "9872"
            ]
          },
          "metadata": {
            "tags": []
          },
          "execution_count": 63
        }
      ]
    },
    {
      "cell_type": "markdown",
      "metadata": {
        "id": "Lw4GlhMWvA1k"
      },
      "source": [
        "# SECTION C: 15 MARKS"
      ]
    },
    {
      "cell_type": "markdown",
      "metadata": {
        "id": "L4omZtg1vA1n"
      },
      "source": [
        "--------------------"
      ]
    },
    {
      "cell_type": "markdown",
      "metadata": {
        "id": "aY5oFN8YvA1p"
      },
      "source": [
        "### 4. Create User input and check the year is leap year or not? (5 Marks)"
      ]
    },
    {
      "cell_type": "code",
      "metadata": {
        "id": "Y7Cg8G6KvA1q"
      },
      "source": [
        "def leap():\n",
        "  n= int(input())\n",
        "  return (n%4==0) or (n%400 == 0 and n%100 != 0)"
      ],
      "execution_count": 28,
      "outputs": []
    },
    {
      "cell_type": "code",
      "metadata": {
        "id": "axqowFaG2BVn",
        "outputId": "fd022a40-ec62-425d-93c6-041d87f25de8",
        "colab": {
          "base_uri": "https://localhost:8080/",
          "height": 52
        }
      },
      "source": [
        "leap()"
      ],
      "execution_count": 77,
      "outputs": [
        {
          "output_type": "stream",
          "text": [
            "1951\n"
          ],
          "name": "stdout"
        },
        {
          "output_type": "execute_result",
          "data": {
            "text/plain": [
              "False"
            ]
          },
          "metadata": {
            "tags": []
          },
          "execution_count": 77
        }
      ]
    },
    {
      "cell_type": "markdown",
      "metadata": {
        "id": "O7LYsQC0vA1u"
      },
      "source": [
        "### 5. Program to Accept Three Digits and Print all Possible Combinations from the Digits using for and if? (10 Marks)"
      ]
    },
    {
      "cell_type": "code",
      "metadata": {
        "id": "sQB3TZIAvA1v",
        "outputId": "a41468f8-cd85-414d-d8e7-edc82f8f9815",
        "colab": {
          "base_uri": "https://localhost:8080/",
          "height": 87
        }
      },
      "source": [
        "d= str(input())+ str(input())+str(input())\n",
        "s= []\n",
        "for i in range(len(d)):\n",
        "  for j in range(len(d)):\n",
        "    for k in range(len(d)):\n",
        "      if(i!=j & j!=k & k!=i):\n",
        "        s.append(int(d[i]+d[j]+d[k]))\n",
        "s"
      ],
      "execution_count": 70,
      "outputs": [
        {
          "output_type": "stream",
          "text": [
            "1\n",
            "2\n",
            "3\n"
          ],
          "name": "stdout"
        },
        {
          "output_type": "execute_result",
          "data": {
            "text/plain": [
              "[123, 132, 213, 231, 312, 321]"
            ]
          },
          "metadata": {
            "tags": []
          },
          "execution_count": 70
        }
      ]
    },
    {
      "cell_type": "code",
      "metadata": {
        "id": "L7oPu0sd_J10"
      },
      "source": [
        ""
      ],
      "execution_count": null,
      "outputs": []
    }
  ]
}