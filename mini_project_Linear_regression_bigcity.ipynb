{
  "nbformat": 4,
  "nbformat_minor": 0,
  "metadata": {
    "kernelspec": {
      "display_name": "Python 3",
      "language": "python",
      "name": "python3"
    },
    "language_info": {
      "codemirror_mode": {
        "name": "ipython",
        "version": 3
      },
      "file_extension": ".py",
      "mimetype": "text/x-python",
      "name": "python",
      "nbconvert_exporter": "python",
      "pygments_lexer": "ipython3",
      "version": "3.7.2"
    },
    "colab": {
      "name": "Linear_regression_bigcity.ipynb",
      "provenance": [],
      "collapsed_sections": [],
      "include_colab_link": true
    }
  },
  "cells": [
    {
      "cell_type": "markdown",
      "metadata": {
        "id": "view-in-github",
        "colab_type": "text"
      },
      "source": [
        "<a href=\"https://colab.research.google.com/github/zerryberry/C1/blob/master/mini_project_Linear_regression_bigcity.ipynb\" target=\"_parent\"><img src=\"https://colab.research.google.com/assets/colab-badge.svg\" alt=\"Open In Colab\"/></a>"
      ]
    },
    {
      "cell_type": "markdown",
      "metadata": {
        "id": "ewsaR2seIZ8n"
      },
      "source": [
        "# Simple Linear Regression"
      ]
    },
    {
      "cell_type": "markdown",
      "metadata": {
        "id": "W_u8vwCbIZ83"
      },
      "source": [
        "# Dataset"
      ]
    },
    {
      "cell_type": "markdown",
      "metadata": {
        "id": "YRSDYyUrIZ84"
      },
      "source": [
        "Population of U.S. Cities"
      ]
    },
    {
      "cell_type": "markdown",
      "metadata": {
        "id": "QcF258GCIZ85"
      },
      "source": [
        "# Description"
      ]
    },
    {
      "cell_type": "markdown",
      "metadata": {
        "id": "Zz-jTJ-MIZ86"
      },
      "source": [
        "The bigcity data frame has 49 rows and 2 columns.\n",
        "The measurements are the population (in 1000's) of 49 U.S. cities in 1920 and 1930. The 49 cities are a random sample taken\n",
        "from the 196 largest cities in 1920."
      ]
    },
    {
      "cell_type": "markdown",
      "metadata": {
        "id": "U5DKDLkOIZ86"
      },
      "source": [
        "# Format"
      ]
    },
    {
      "cell_type": "markdown",
      "metadata": {
        "id": "3Qrb9_XbIZ87"
      },
      "source": [
        "This data frame contains the following columns:\n",
        "\n",
        "u The 1920 population.\n",
        "\n",
        "x The 1930 population.\n",
        "\n",
        "Source:\n",
        "\n",
        "The data were obtained from\n",
        "\n",
        "Cochran, W.G. (1977) Sampling Techniques. Third edition. John Wiley\n",
        "\n",
        "References:\n",
        "\n",
        "Davison, A.C. and Hinkley, D.V. (1997) Bootstrap Methods and Their Application. Cambridge University Press"
      ]
    },
    {
      "cell_type": "markdown",
      "metadata": {
        "id": "tGY916i8IZ87"
      },
      "source": [
        "# Exploring and Understanding Data (EDA)"
      ]
    },
    {
      "cell_type": "markdown",
      "metadata": {
        "id": "VjeEaURGIZ88"
      },
      "source": [
        "# 1. Load required Libraries"
      ]
    },
    {
      "cell_type": "code",
      "metadata": {
        "colab": {
          "base_uri": "https://localhost:8080/"
        },
        "id": "6yp1dkAjIZ88",
        "outputId": "c98c7559-4dcb-4a89-ef5b-9cb769e1ddb9"
      },
      "source": [
        "import pandas as pd\r\n",
        "import numpy as np\r\n",
        "import seaborn as sns\r\n",
        "import matplotlib.pyplot as plt\r\n",
        "import scipy.stats as stats\r\n",
        "import statsmodels.api as sm"
      ],
      "execution_count": 1,
      "outputs": [
        {
          "output_type": "stream",
          "text": [
            "/usr/local/lib/python3.6/dist-packages/statsmodels/tools/_testing.py:19: FutureWarning: pandas.util.testing is deprecated. Use the functions in the public API at pandas.testing instead.\n",
            "  import pandas.util.testing as tm\n"
          ],
          "name": "stderr"
        }
      ]
    },
    {
      "cell_type": "markdown",
      "metadata": {
        "id": "SaatXzd9IZ89"
      },
      "source": [
        "# 2. Collect and load data"
      ]
    },
    {
      "cell_type": "code",
      "metadata": {
        "id": "8M5Yw08sIZ89"
      },
      "source": [
        "df= pd.read_csv('/content/bigcity.csv')"
      ],
      "execution_count": 2,
      "outputs": []
    },
    {
      "cell_type": "code",
      "metadata": {
        "colab": {
          "base_uri": "https://localhost:8080/"
        },
        "id": "z5O6Mma2M6Xf",
        "outputId": "984d01d5-8474-42d0-cc9f-1aba251aa6a0"
      },
      "source": [
        "print(df.shape)"
      ],
      "execution_count": 3,
      "outputs": [
        {
          "output_type": "stream",
          "text": [
            "(49, 3)\n"
          ],
          "name": "stdout"
        }
      ]
    },
    {
      "cell_type": "code",
      "metadata": {
        "colab": {
          "base_uri": "https://localhost:8080/",
          "height": 197
        },
        "id": "a9YDsBUSM6fo",
        "outputId": "7dd2339a-6baa-4d04-b4b3-4df7c8602ac6"
      },
      "source": [
        "df.head()"
      ],
      "execution_count": 4,
      "outputs": [
        {
          "output_type": "execute_result",
          "data": {
            "text/html": [
              "<div>\n",
              "<style scoped>\n",
              "    .dataframe tbody tr th:only-of-type {\n",
              "        vertical-align: middle;\n",
              "    }\n",
              "\n",
              "    .dataframe tbody tr th {\n",
              "        vertical-align: top;\n",
              "    }\n",
              "\n",
              "    .dataframe thead th {\n",
              "        text-align: right;\n",
              "    }\n",
              "</style>\n",
              "<table border=\"1\" class=\"dataframe\">\n",
              "  <thead>\n",
              "    <tr style=\"text-align: right;\">\n",
              "      <th></th>\n",
              "      <th>Unnamed: 0</th>\n",
              "      <th>u</th>\n",
              "      <th>x</th>\n",
              "    </tr>\n",
              "  </thead>\n",
              "  <tbody>\n",
              "    <tr>\n",
              "      <th>0</th>\n",
              "      <td>1</td>\n",
              "      <td>138</td>\n",
              "      <td>143</td>\n",
              "    </tr>\n",
              "    <tr>\n",
              "      <th>1</th>\n",
              "      <td>2</td>\n",
              "      <td>93</td>\n",
              "      <td>104</td>\n",
              "    </tr>\n",
              "    <tr>\n",
              "      <th>2</th>\n",
              "      <td>3</td>\n",
              "      <td>61</td>\n",
              "      <td>69</td>\n",
              "    </tr>\n",
              "    <tr>\n",
              "      <th>3</th>\n",
              "      <td>4</td>\n",
              "      <td>179</td>\n",
              "      <td>260</td>\n",
              "    </tr>\n",
              "    <tr>\n",
              "      <th>4</th>\n",
              "      <td>5</td>\n",
              "      <td>48</td>\n",
              "      <td>75</td>\n",
              "    </tr>\n",
              "  </tbody>\n",
              "</table>\n",
              "</div>"
            ],
            "text/plain": [
              "   Unnamed: 0    u    x\n",
              "0           1  138  143\n",
              "1           2   93  104\n",
              "2           3   61   69\n",
              "3           4  179  260\n",
              "4           5   48   75"
            ]
          },
          "metadata": {
            "tags": []
          },
          "execution_count": 4
        }
      ]
    },
    {
      "cell_type": "code",
      "metadata": {
        "colab": {
          "base_uri": "https://localhost:8080/",
          "height": 197
        },
        "id": "P_HAg_H7P_gg",
        "outputId": "9a560b89-3425-46d3-9430-ba940e66cada"
      },
      "source": [
        "df.drop({'Unnamed: 0'}, axis=1, inplace=True)\r\n",
        "df.head()"
      ],
      "execution_count": 6,
      "outputs": [
        {
          "output_type": "execute_result",
          "data": {
            "text/html": [
              "<div>\n",
              "<style scoped>\n",
              "    .dataframe tbody tr th:only-of-type {\n",
              "        vertical-align: middle;\n",
              "    }\n",
              "\n",
              "    .dataframe tbody tr th {\n",
              "        vertical-align: top;\n",
              "    }\n",
              "\n",
              "    .dataframe thead th {\n",
              "        text-align: right;\n",
              "    }\n",
              "</style>\n",
              "<table border=\"1\" class=\"dataframe\">\n",
              "  <thead>\n",
              "    <tr style=\"text-align: right;\">\n",
              "      <th></th>\n",
              "      <th>u</th>\n",
              "      <th>x</th>\n",
              "    </tr>\n",
              "  </thead>\n",
              "  <tbody>\n",
              "    <tr>\n",
              "      <th>0</th>\n",
              "      <td>138</td>\n",
              "      <td>143</td>\n",
              "    </tr>\n",
              "    <tr>\n",
              "      <th>1</th>\n",
              "      <td>93</td>\n",
              "      <td>104</td>\n",
              "    </tr>\n",
              "    <tr>\n",
              "      <th>2</th>\n",
              "      <td>61</td>\n",
              "      <td>69</td>\n",
              "    </tr>\n",
              "    <tr>\n",
              "      <th>3</th>\n",
              "      <td>179</td>\n",
              "      <td>260</td>\n",
              "    </tr>\n",
              "    <tr>\n",
              "      <th>4</th>\n",
              "      <td>48</td>\n",
              "      <td>75</td>\n",
              "    </tr>\n",
              "  </tbody>\n",
              "</table>\n",
              "</div>"
            ],
            "text/plain": [
              "     u    x\n",
              "0  138  143\n",
              "1   93  104\n",
              "2   61   69\n",
              "3  179  260\n",
              "4   48   75"
            ]
          },
          "metadata": {
            "tags": []
          },
          "execution_count": 6
        }
      ]
    },
    {
      "cell_type": "markdown",
      "metadata": {
        "id": "9RwpWtc6IZ89"
      },
      "source": [
        "# 3. Explore numeric variables - five number summary"
      ]
    },
    {
      "cell_type": "code",
      "metadata": {
        "colab": {
          "base_uri": "https://localhost:8080/",
          "height": 287
        },
        "id": "ENaqeap2IZ8-",
        "outputId": "42403517-a7a7-4483-b65b-21d208c895ac"
      },
      "source": [
        "df.describe()"
      ],
      "execution_count": 7,
      "outputs": [
        {
          "output_type": "execute_result",
          "data": {
            "text/html": [
              "<div>\n",
              "<style scoped>\n",
              "    .dataframe tbody tr th:only-of-type {\n",
              "        vertical-align: middle;\n",
              "    }\n",
              "\n",
              "    .dataframe tbody tr th {\n",
              "        vertical-align: top;\n",
              "    }\n",
              "\n",
              "    .dataframe thead th {\n",
              "        text-align: right;\n",
              "    }\n",
              "</style>\n",
              "<table border=\"1\" class=\"dataframe\">\n",
              "  <thead>\n",
              "    <tr style=\"text-align: right;\">\n",
              "      <th></th>\n",
              "      <th>u</th>\n",
              "      <th>x</th>\n",
              "    </tr>\n",
              "  </thead>\n",
              "  <tbody>\n",
              "    <tr>\n",
              "      <th>count</th>\n",
              "      <td>49.000000</td>\n",
              "      <td>49.000000</td>\n",
              "    </tr>\n",
              "    <tr>\n",
              "      <th>mean</th>\n",
              "      <td>103.142857</td>\n",
              "      <td>127.795918</td>\n",
              "    </tr>\n",
              "    <tr>\n",
              "      <th>std</th>\n",
              "      <td>104.405061</td>\n",
              "      <td>123.121211</td>\n",
              "    </tr>\n",
              "    <tr>\n",
              "      <th>min</th>\n",
              "      <td>2.000000</td>\n",
              "      <td>46.000000</td>\n",
              "    </tr>\n",
              "    <tr>\n",
              "      <th>25%</th>\n",
              "      <td>43.000000</td>\n",
              "      <td>58.000000</td>\n",
              "    </tr>\n",
              "    <tr>\n",
              "      <th>50%</th>\n",
              "      <td>64.000000</td>\n",
              "      <td>79.000000</td>\n",
              "    </tr>\n",
              "    <tr>\n",
              "      <th>75%</th>\n",
              "      <td>120.000000</td>\n",
              "      <td>130.000000</td>\n",
              "    </tr>\n",
              "    <tr>\n",
              "      <th>max</th>\n",
              "      <td>507.000000</td>\n",
              "      <td>634.000000</td>\n",
              "    </tr>\n",
              "  </tbody>\n",
              "</table>\n",
              "</div>"
            ],
            "text/plain": [
              "                u           x\n",
              "count   49.000000   49.000000\n",
              "mean   103.142857  127.795918\n",
              "std    104.405061  123.121211\n",
              "min      2.000000   46.000000\n",
              "25%     43.000000   58.000000\n",
              "50%     64.000000   79.000000\n",
              "75%    120.000000  130.000000\n",
              "max    507.000000  634.000000"
            ]
          },
          "metadata": {
            "tags": []
          },
          "execution_count": 7
        }
      ]
    },
    {
      "cell_type": "code",
      "metadata": {
        "colab": {
          "base_uri": "https://localhost:8080/",
          "height": 368
        },
        "id": "_0DK4hCuRU52",
        "outputId": "29d1c415-9de1-4b5a-b755-210cabb02f34"
      },
      "source": [
        "sns.displot(df['u'])\r\n",
        "plt.show()"
      ],
      "execution_count": 16,
      "outputs": [
        {
          "output_type": "display_data",
          "data": {
            "image/png": "[encoded data removed]",
            "text/plain": [
              "<Figure size 360x360 with 1 Axes>"
            ]
          },
          "metadata": {
            "tags": [],
            "needs_background": "light"
          }
        }
      ]
    },
    {
      "cell_type": "code",
      "metadata": {
        "colab": {
          "base_uri": "https://localhost:8080/",
          "height": 368
        },
        "id": "5L4yOwm8RmQ7",
        "outputId": "f44cc1a7-b857-4e31-8a9b-f759dce6337b"
      },
      "source": [
        "sns.displot(df['x'])\r\n",
        "plt.show()"
      ],
      "execution_count": 15,
      "outputs": [
        {
          "output_type": "display_data",
          "data": {
            "image/png": "[encoded data removed]",
            "text/plain": [
              "<Figure size 360x360 with 1 Axes>"
            ]
          },
          "metadata": {
            "tags": [],
            "needs_background": "light"
          }
        }
      ]
    },
    {
      "cell_type": "markdown",
      "metadata": {
        "id": "z2eswHGNIZ8-"
      },
      "source": [
        "# 3a. Visualize numeric variables in boxplot and histograms\n",
        "# 3b. Measure spread – variance and standard deviation"
      ]
    },
    {
      "cell_type": "code",
      "metadata": {
        "colab": {
          "base_uri": "https://localhost:8080/",
          "height": 334
        },
        "id": "Dl2LGTpAIZ8_",
        "outputId": "45ece9ea-1c3b-4b5f-b6c4-b58e568bff74"
      },
      "source": [
        "sns.boxplot(df['u'])\r\n",
        "plt.show()"
      ],
      "execution_count": 12,
      "outputs": [
        {
          "output_type": "stream",
          "text": [
            "/usr/local/lib/python3.6/dist-packages/seaborn/_decorators.py:43: FutureWarning: Pass the following variable as a keyword arg: x. From version 0.12, the only valid positional argument will be `data`, and passing other arguments without an explicit keyword will result in an error or misinterpretation.\n",
            "  FutureWarning\n"
          ],
          "name": "stderr"
        },
        {
          "output_type": "display_data",
          "data": {
            "image/png": "[encoded data removed]",
            "text/plain": [
              "<Figure size 432x288 with 1 Axes>"
            ]
          },
          "metadata": {
            "tags": [],
            "needs_background": "light"
          }
        }
      ]
    },
    {
      "cell_type": "code",
      "metadata": {
        "colab": {
          "base_uri": "https://localhost:8080/",
          "height": 334
        },
        "id": "XWmxbW0BIZ8_",
        "outputId": "5887680e-9f0f-4610-e98d-70fc706b6b04"
      },
      "source": [
        "sns.boxplot(df['x'])\r\n",
        "plt.show()"
      ],
      "execution_count": 14,
      "outputs": [
        {
          "output_type": "stream",
          "text": [
            "/usr/local/lib/python3.6/dist-packages/seaborn/_decorators.py:43: FutureWarning: Pass the following variable as a keyword arg: x. From version 0.12, the only valid positional argument will be `data`, and passing other arguments without an explicit keyword will result in an error or misinterpretation.\n",
            "  FutureWarning\n"
          ],
          "name": "stderr"
        },
        {
          "output_type": "display_data",
          "data": {
            "image/png": "[encoded data removed]",
            "text/plain": [
              "<Figure size 432x288 with 1 Axes>"
            ]
          },
          "metadata": {
            "tags": [],
            "needs_background": "light"
          }
        }
      ]
    },
    {
      "cell_type": "code",
      "metadata": {
        "id": "KLPGNgR0Tb0i"
      },
      "source": [
        "# both of the features are right skewed"
      ],
      "execution_count": null,
      "outputs": []
    },
    {
      "cell_type": "code",
      "metadata": {
        "colab": {
          "base_uri": "https://localhost:8080/"
        },
        "id": "Uha4fh6lTcOl",
        "outputId": "1385ab61-e3a9-47fa-88b4-8ce48db87652"
      },
      "source": [
        "# Variance:\r\n",
        "\r\n",
        "print(np.var(df['u']))\r\n",
        "print(np.var(df['x']))\r\n",
        "\r\n",
        "# standard deviation\r\n",
        "\r\n",
        "print(np.std(df['u']))\r\n",
        "print(np.std(df['x']))\r\n",
        "\r\n",
        "# mean\r\n",
        "print(np.mean(df['u']))\r\n",
        "print(np.mean(df['x']))\r\n",
        "\r\n",
        "#median\r\n",
        "print(np.median(df['u']))\r\n",
        "print(np.median(df['x']))"
      ],
      "execution_count": 19,
      "outputs": [
        {
          "output_type": "stream",
          "text": [
            "10677.959183673465\n",
            "14849.468554768846\n",
            "103.33421110006823\n",
            "121.85839550383406\n",
            "103.14285714285714\n",
            "127.79591836734694\n",
            "64.0\n",
            "79.0\n"
          ],
          "name": "stdout"
        }
      ]
    },
    {
      "cell_type": "code",
      "metadata": {
        "colab": {
          "base_uri": "https://localhost:8080/"
        },
        "id": "JOxzXrpfZ2Ti",
        "outputId": "5a6c9713-f569-4a61-ecb0-523ab29c96e7"
      },
      "source": [
        ""
      ],
      "execution_count": 18,
      "outputs": [
        {
          "output_type": "execute_result",
          "data": {
            "text/plain": [
              "14641"
            ]
          },
          "metadata": {
            "tags": []
          },
          "execution_count": 18
        }
      ]
    },
    {
      "cell_type": "markdown",
      "metadata": {
        "id": "k3WlJyDYIZ8_"
      },
      "source": [
        "# 4. Explore relationships between variables using scatterplots and two-way cross tabulations"
      ]
    },
    {
      "cell_type": "code",
      "metadata": {
        "colab": {
          "base_uri": "https://localhost:8080/",
          "height": 334
        },
        "id": "zshiM5i7IZ8_",
        "outputId": "fd92377f-40a5-43f0-dbff-04235d786b81"
      },
      "source": [
        "sns.scatterplot(df['u'], df['x'])\r\n",
        "plt.show()"
      ],
      "execution_count": 20,
      "outputs": [
        {
          "output_type": "stream",
          "text": [
            "/usr/local/lib/python3.6/dist-packages/seaborn/_decorators.py:43: FutureWarning: Pass the following variables as keyword args: x, y. From version 0.12, the only valid positional argument will be `data`, and passing other arguments without an explicit keyword will result in an error or misinterpretation.\n",
            "  FutureWarning\n"
          ],
          "name": "stderr"
        },
        {
          "output_type": "display_data",
          "data": {
            "image/png": "[encoded data removed]",
            "text/plain": [
              "<Figure size 432x288 with 1 Axes>"
            ]
          },
          "metadata": {
            "tags": [],
            "needs_background": "light"
          }
        }
      ]
    },
    {
      "cell_type": "markdown",
      "metadata": {
        "id": "z3k3ExmibaKn"
      },
      "source": [
        "## We can see a linear relationship between the two variables- as one increases, the second also tend to increase"
      ]
    },
    {
      "cell_type": "code",
      "metadata": {
        "colab": {
          "base_uri": "https://localhost:8080/"
        },
        "id": "xbsd-FywbqBV",
        "outputId": "893acf4b-4e7a-4610-857f-f78b92491814"
      },
      "source": [
        "rt"
      ],
      "execution_count": 63,
      "outputs": [
        {
          "output_type": "execute_result",
          "data": {
            "text/plain": [
              "0      138\n",
              "1       93\n",
              "2       61\n",
              "3      179\n",
              "4       48\n",
              "      ... \n",
              "45      61\n",
              "46      50\n",
              "47     232\n",
              "48      54\n",
              "col      u\n",
              "Length: 99, dtype: object"
            ]
          },
          "metadata": {
            "tags": []
          },
          "execution_count": 63
        }
      ]
    },
    {
      "cell_type": "code",
      "metadata": {
        "id": "0vQF81togXFz"
      },
      "source": [
        "rt = pd.concat([df['u'], df['x']])"
      ],
      "execution_count": 57,
      "outputs": []
    },
    {
      "cell_type": "code",
      "metadata": {
        "id": "E_HrODBSbqUz"
      },
      "source": [
        "rt['col'] = 'u'"
      ],
      "execution_count": 61,
      "outputs": []
    },
    {
      "cell_type": "markdown",
      "metadata": {
        "id": "gfFR0StbIZ9A"
      },
      "source": [
        "# 5. Transform the dataset\n",
        "Find the number of rows in given dataset and separate the input and target variables into X and Y. Hint: You can shape function \n",
        "to get the size of the dataframe"
      ]
    },
    {
      "cell_type": "code",
      "metadata": {
        "id": "Z7s4aejypKz4"
      },
      "source": [
        "y= df['x']\r\n",
        "x= df['u']"
      ],
      "execution_count": 64,
      "outputs": []
    },
    {
      "cell_type": "code",
      "metadata": {
        "colab": {
          "base_uri": "https://localhost:8080/"
        },
        "id": "PKtJsiJQIZ9A",
        "outputId": "54343c7a-5d99-45e6-f463-2b9dec502ad0"
      },
      "source": [
        "df.shape"
      ],
      "execution_count": 65,
      "outputs": [
        {
          "output_type": "execute_result",
          "data": {
            "text/plain": [
              "(49, 2)"
            ]
          },
          "metadata": {
            "tags": []
          },
          "execution_count": 65
        }
      ]
    },
    {
      "cell_type": "markdown",
      "metadata": {
        "id": "01LqqIn4IZ9A"
      },
      "source": [
        "# 6. Check the dataset for any missing values and also print out the correlation matrix\n",
        "You can use .isna() and .corr() functions to check NA's and correlation in the dataframe respectively"
      ]
    },
    {
      "cell_type": "code",
      "metadata": {
        "colab": {
          "base_uri": "https://localhost:8080/"
        },
        "id": "EwFCB1a9IZ9B",
        "outputId": "c5e3b981-25a9-49a1-a55b-2a49de49b352"
      },
      "source": [
        "df.isna().sum()"
      ],
      "execution_count": 66,
      "outputs": [
        {
          "output_type": "execute_result",
          "data": {
            "text/plain": [
              "u    0\n",
              "x    0\n",
              "dtype: int64"
            ]
          },
          "metadata": {
            "tags": []
          },
          "execution_count": 66
        }
      ]
    },
    {
      "cell_type": "code",
      "metadata": {
        "colab": {
          "base_uri": "https://localhost:8080/",
          "height": 286
        },
        "id": "h0_iO563pVhH",
        "outputId": "981262e2-3d03-40da-8fd1-cfe8ac8dbefd"
      },
      "source": [
        "sns.heatmap(df.corr())"
      ],
      "execution_count": 67,
      "outputs": [
        {
          "output_type": "execute_result",
          "data": {
            "text/plain": [
              "<matplotlib.axes._subplots.AxesSubplot at 0x7f43cc7b2dd8>"
            ]
          },
          "metadata": {
            "tags": []
          },
          "execution_count": 67
        },
        {
          "output_type": "display_data",
          "data": {
            "image/png": "[encoded data removed]",
            "text/plain": [
              "<Figure size 432x288 with 2 Axes>"
            ]
          },
          "metadata": {
            "tags": [],
            "needs_background": "light"
          }
        }
      ]
    },
    {
      "cell_type": "code",
      "metadata": {
        "colab": {
          "base_uri": "https://localhost:8080/",
          "height": 107
        },
        "id": "y0XBsYI9pVm5",
        "outputId": "888c9837-3b03-4e45-de2d-e46d5c01ba82"
      },
      "source": [
        "df.corr()"
      ],
      "execution_count": 68,
      "outputs": [
        {
          "output_type": "execute_result",
          "data": {
            "text/html": [
              "<div>\n",
              "<style scoped>\n",
              "    .dataframe tbody tr th:only-of-type {\n",
              "        vertical-align: middle;\n",
              "    }\n",
              "\n",
              "    .dataframe tbody tr th {\n",
              "        vertical-align: top;\n",
              "    }\n",
              "\n",
              "    .dataframe thead th {\n",
              "        text-align: right;\n",
              "    }\n",
              "</style>\n",
              "<table border=\"1\" class=\"dataframe\">\n",
              "  <thead>\n",
              "    <tr style=\"text-align: right;\">\n",
              "      <th></th>\n",
              "      <th>u</th>\n",
              "      <th>x</th>\n",
              "    </tr>\n",
              "  </thead>\n",
              "  <tbody>\n",
              "    <tr>\n",
              "      <th>u</th>\n",
              "      <td>1.000000</td>\n",
              "      <td>0.981742</td>\n",
              "    </tr>\n",
              "    <tr>\n",
              "      <th>x</th>\n",
              "      <td>0.981742</td>\n",
              "      <td>1.000000</td>\n",
              "    </tr>\n",
              "  </tbody>\n",
              "</table>\n",
              "</div>"
            ],
            "text/plain": [
              "          u         x\n",
              "u  1.000000  0.981742\n",
              "x  0.981742  1.000000"
            ]
          },
          "metadata": {
            "tags": []
          },
          "execution_count": 68
        }
      ]
    },
    {
      "cell_type": "markdown",
      "metadata": {
        "id": "DrAgdCYRIZ9B"
      },
      "source": [
        "The high correlation betwwen u and x indicates that the variable u is a good predictor of variable x"
      ]
    },
    {
      "cell_type": "code",
      "metadata": {
        "id": "TR6KlFlPpiyf"
      },
      "source": [
        "# umm ok"
      ],
      "execution_count": null,
      "outputs": []
    },
    {
      "cell_type": "markdown",
      "metadata": {
        "id": "whYVCNsQIZ9B"
      },
      "source": [
        "# 7. Split data into train, test sets\n",
        "Divide the data into training and test sets with 80-20 split using scikit-learn. Print the shapes of training and test feature \n",
        "sets.*\n",
        "Check: train_test_split function"
      ]
    },
    {
      "cell_type": "code",
      "metadata": {
        "id": "3TD4BwViIZ9C"
      },
      "source": [
        "from sklearn.model_selection import train_test_split\r\n",
        "\r\n",
        "xtr, xts, ytr, yts = train_test_split(x, y, train_size=0.8)"
      ],
      "execution_count": 69,
      "outputs": []
    },
    {
      "cell_type": "code",
      "metadata": {
        "colab": {
          "base_uri": "https://localhost:8080/"
        },
        "id": "4mHw__5Xp4-9",
        "outputId": "3a0fab8f-9c87-4639-972c-cfb7f71e6aed"
      },
      "source": [
        "print(xtr.shape)\r\n",
        "print(xts.shape)\r\n",
        "print(ytr.shape)\r\n",
        "print(yts.shape)"
      ],
      "execution_count": 70,
      "outputs": [
        {
          "output_type": "stream",
          "text": [
            "(39,)\n",
            "(10,)\n",
            "(39,)\n",
            "(10,)\n"
          ],
          "name": "stdout"
        }
      ]
    },
    {
      "cell_type": "markdown",
      "metadata": {
        "id": "eL7VvswRIZ9C"
      },
      "source": [
        "# 8. Find coefficients & intercept\n",
        "Estimate the coefficients b0 and b1 using scikit-learn.\n",
        "Check: coef_ and intercept_ functions can help you get coefficients & intercept"
      ]
    },
    {
      "cell_type": "code",
      "metadata": {
        "id": "Z-KmaIMgIZ9C"
      },
      "source": [
        "from sklearn.linear_model import LinearRegression\r\n",
        "\r\n",
        "er= LinearRegression()"
      ],
      "execution_count": 71,
      "outputs": []
    },
    {
      "cell_type": "code",
      "metadata": {
        "colab": {
          "base_uri": "https://localhost:8080/"
        },
        "id": "_kxdlPPHqMEI",
        "outputId": "33ffb677-b757-4b9a-c31c-9dc954271cfd"
      },
      "source": [
        "er.fit(np.reshape(xtr.values, (-1,1)),ytr)"
      ],
      "execution_count": 82,
      "outputs": [
        {
          "output_type": "execute_result",
          "data": {
            "text/plain": [
              "LinearRegression(copy_X=True, fit_intercept=True, n_jobs=None, normalize=False)"
            ]
          },
          "metadata": {
            "tags": []
          },
          "execution_count": 82
        }
      ]
    },
    {
      "cell_type": "code",
      "metadata": {
        "colab": {
          "base_uri": "https://localhost:8080/"
        },
        "id": "3MCaE7wRrSPu",
        "outputId": "4a0e0bad-4449-409e-aa5e-566b0e32d604"
      },
      "source": [
        "# Have a look at R sq to give an idea of the fit \r\n",
        "print('R sq: ',er.score(np.reshape(xts.values, (-1,1)),yts))"
      ],
      "execution_count": 83,
      "outputs": [
        {
          "output_type": "stream",
          "text": [
            "R sq:  0.9727072548381338\n"
          ],
          "name": "stdout"
        }
      ]
    },
    {
      "cell_type": "code",
      "metadata": {
        "colab": {
          "base_uri": "https://localhost:8080/"
        },
        "id": "ejillP7WrSdG",
        "outputId": "4576f0f4-35fb-419c-e081-eba3b9972943"
      },
      "source": [
        "# This the coefficient for the single feature\r\n",
        "print(\"Coefficient for X \", er.coef_)\r\n",
        "\r\n",
        "# Get the standard error\r\n",
        "print (\"Standard Error: \",stats.sem(xtr))\r\n",
        "\r\n",
        "ttest = er.coef_/stats.sem(xtr)\r\n",
        "print (\"The t-statistic:\",ttest)\r\n",
        "\r\n",
        "# but we need the p-value to help determine the probablity that we have a correct t-statistic\r\n",
        "print (\"Two tailed p-values: \")\r\n",
        "stats.pearsonr(xtr, ytr)"
      ],
      "execution_count": 85,
      "outputs": [
        {
          "output_type": "stream",
          "text": [
            "Coefficient for X  [1.13095144]\n",
            "Standard Error:  14.435088415737471\n",
            "The t-statistic: [0.07834739]\n",
            "Two tailed p-values: \n"
          ],
          "name": "stdout"
        },
        {
          "output_type": "execute_result",
          "data": {
            "text/plain": [
              "(0.9770346050852661, 1.908088653050491e-26)"
            ]
          },
          "metadata": {
            "tags": []
          },
          "execution_count": 85
        }
      ]
    },
    {
      "cell_type": "code",
      "metadata": {
        "colab": {
          "base_uri": "https://localhost:8080/"
        },
        "id": "irthF6NY36nA",
        "outputId": "53460b1f-9a92-4826-fa95-26df4fe883af"
      },
      "source": [
        "er.intercept_"
      ],
      "execution_count": 91,
      "outputs": [
        {
          "output_type": "execute_result",
          "data": {
            "text/plain": [
              "8.183549561123272"
            ]
          },
          "metadata": {
            "tags": []
          },
          "execution_count": 91
        }
      ]
    },
    {
      "cell_type": "code",
      "metadata": {
        "colab": {
          "base_uri": "https://localhost:8080/",
          "height": 264
        },
        "id": "JSNbOCIhvJ12",
        "outputId": "88dde864-9eb8-47ca-ee05-96bebc56a9c9"
      },
      "source": [
        "y_predicted = er.predict(np.reshape(xts.values, (-1,1)))\r\n",
        "plt.scatter(y_predicted, yts,  color='black')\r\n",
        "plt.show()"
      ],
      "execution_count": 86,
      "outputs": [
        {
          "output_type": "display_data",
          "data": {
            "image/png": "[encoded data removed]",
            "text/plain": [
              "<Figure size 432x288 with 1 Axes>"
            ]
          },
          "metadata": {
            "tags": [],
            "needs_background": "light"
          }
        }
      ]
    },
    {
      "cell_type": "markdown",
      "metadata": {
        "id": "twSrwBMOIZ9C"
      },
      "source": [
        "# 9.  Linear Relationship between feature and target\n",
        "Plot the line with b1 and b0 as slope and y-intercept."
      ]
    },
    {
      "cell_type": "code",
      "metadata": {
        "id": "bZ_K_Zqu4ANC"
      },
      "source": [
        "te= []\r\n",
        "\r\n",
        "for i in range(11):\r\n",
        "  te.append(er.intercept_ + er.coef_*i)"
      ],
      "execution_count": 92,
      "outputs": []
    },
    {
      "cell_type": "code",
      "metadata": {
        "colab": {
          "base_uri": "https://localhost:8080/",
          "height": 285
        },
        "id": "fmiE1JXHIZ9D",
        "outputId": "8fbad548-4d29-4acd-8a84-5ad2516567ad"
      },
      "source": [
        "plt.plot(te, '--')"
      ],
      "execution_count": 101,
      "outputs": [
        {
          "output_type": "execute_result",
          "data": {
            "text/plain": [
              "[<matplotlib.lines.Line2D at 0x7f43c9828278>]"
            ]
          },
          "metadata": {
            "tags": []
          },
          "execution_count": 101
        },
        {
          "output_type": "display_data",
          "data": {
            "image/png": "[encoded data removed]",
            "text/plain": [
              "<Figure size 432x288 with 1 Axes>"
            ]
          },
          "metadata": {
            "tags": [],
            "needs_background": "light"
          }
        }
      ]
    },
    {
      "cell_type": "markdown",
      "metadata": {
        "id": "GqiZcP5mIZ9D"
      },
      "source": [
        "# 10. Evaluation of model with scikit-learn\n",
        "Validate the model with Root Mean Squares error and R^2 score using scikit-learn. RMSE and R2 for test data and prediction\n",
        "\n",
        "Hint: You can import mean_squared_error function & r2 (R square) from sklearn.metrics. Performing root operation over mean \n",
        "square error over mean square error gives you root mean square error"
      ]
    },
    {
      "cell_type": "code",
      "metadata": {
        "colab": {
          "base_uri": "https://localhost:8080/"
        },
        "id": "UodGw4G_IZ9D",
        "outputId": "3ad0f276-c132-4c0b-ca9d-7b8b8c2cd2df"
      },
      "source": [
        "from sklearn.metrics import mean_squared_error, r2_score\r\n",
        "\r\n",
        "print(r2_score(np.reshape(xtr.values, (-1,1)),ytr))\r\n",
        "print(r2_score(np.reshape(xts.values, (-1,1)),yts))\r\n",
        "\r\n",
        "# RMSE\r\n",
        "\r\n",
        "print(np.sqrt(mean_squared_error(np.reshape(xtr.values, (-1,1)),ytr)))\r\n",
        "print(np.sqrt(mean_squared_error(np.reshape(xts.values, (-1,1)),yts)))"
      ],
      "execution_count": 90,
      "outputs": [
        {
          "output_type": "stream",
          "text": [
            "0.8648152293624297\n",
            "0.8711869478222455\n",
            "32.71712481882013\n",
            "52.32590180780452\n"
          ],
          "name": "stdout"
        }
      ]
    },
    {
      "cell_type": "markdown",
      "metadata": {
        "id": "EEJDv2EeIZ9E"
      },
      "source": [
        "# 11. Calculate the accuracy of the model for both training and test data set\n",
        "\n",
        "Hint: .score() function"
      ]
    },
    {
      "cell_type": "code",
      "metadata": {
        "colab": {
          "base_uri": "https://localhost:8080/"
        },
        "id": "5_vRIp8PIZ9E",
        "outputId": "ceec02c9-9310-4952-b6ba-b24aa1c75966"
      },
      "source": [
        "print(er.score(np.reshape(xtr.values, (-1,1)),ytr))\r\n",
        "\r\n",
        "print(er.score(np.reshape(xts.values, (-1,1)),yts))"
      ],
      "execution_count": 87,
      "outputs": [
        {
          "output_type": "stream",
          "text": [
            "0.9545966195341214\n",
            "0.9727072548381338\n"
          ],
          "name": "stdout"
        }
      ]
    },
    {
      "cell_type": "code",
      "metadata": {
        "id": "cWiYYG3Cvsls"
      },
      "source": [
        ""
      ],
      "execution_count": null,
      "outputs": []
    }
  ]
}