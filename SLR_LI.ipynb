{
  "nbformat": 4,
  "nbformat_minor": 0,
  "metadata": {
    "colab": {
      "name": "SLR_LI.ipynb",
      "provenance": [],
      "collapsed_sections": [],
      "authorship_tag": "ABX9TyP5HhdPnoXoxSEa18WenroO",
      "include_colab_link": true
    },
    "kernelspec": {
      "name": "python3",
      "display_name": "Python 3"
    }
  },
  "cells": [
    {
      "cell_type": "markdown",
      "metadata": {
        "id": "view-in-github",
        "colab_type": "text"
      },
      "source": [
        "<a href=\"https://colab.research.google.com/github/zerryberry/C1/blob/master/SLR_LI.ipynb\" target=\"_parent\"><img src=\"https://colab.research.google.com/assets/colab-badge.svg\" alt=\"Open In Colab\"/></a>"
      ]
    },
    {
      "cell_type": "code",
      "metadata": {
        "id": "EeUyNe9jTtPY"
      },
      "source": [
        "import pandas as pd\r\n",
        "import numpy as np\r\n",
        "import seaborn as sns\r\n",
        "import matplotlib.pyplot as plt\r\n",
        "import scipy.stats as st\r\n",
        "import statsmodels.stats as stats"
      ],
      "execution_count": 5,
      "outputs": []
    },
    {
      "cell_type": "code",
      "metadata": {
        "colab": {
          "base_uri": "https://localhost:8080/"
        },
        "id": "z8oXEkJhT9Io",
        "outputId": "65890d9f-7c7a-4b75-9af2-924d3994e443"
      },
      "source": [
        "df = pd.read_csv('/content/train.csv')\r\n",
        "test = pd.read_csv('/content/test_QkPvNLx.csv')\r\n",
        "print(df.shape)\r\n",
        "print(test.shape)"
      ],
      "execution_count": 6,
      "outputs": [
        {
          "output_type": "stream",
          "text": [
            "(512087, 11)\n",
            "(36000, 9)\n"
          ],
          "name": "stdout"
        }
      ]
    },
    {
      "cell_type": "code",
      "metadata": {
        "id": "x-WYmCvB6ZFC"
      },
      "source": [
        "rtr=  pd.read_csv('/content/train.csv')"
      ],
      "execution_count": 7,
      "outputs": []
    },
    {
      "cell_type": "code",
      "metadata": {
        "colab": {
          "base_uri": "https://localhost:8080/",
          "height": 204
        },
        "id": "XwQDj4Z_UOuG",
        "outputId": "2d442c6a-6ccd-4be9-ea04-824d3532a3e9"
      },
      "source": [
        "df.head()"
      ],
      "execution_count": 12,
      "outputs": [
        {
          "output_type": "execute_result",
          "data": {
            "text/html": [
              "<div>\n",
              "<style scoped>\n",
              "    .dataframe tbody tr th:only-of-type {\n",
              "        vertical-align: middle;\n",
              "    }\n",
              "\n",
              "    .dataframe tbody tr th {\n",
              "        vertical-align: top;\n",
              "    }\n",
              "\n",
              "    .dataframe thead th {\n",
              "        text-align: right;\n",
              "    }\n",
              "</style>\n",
              "<table border=\"1\" class=\"dataframe\">\n",
              "  <thead>\n",
              "    <tr style=\"text-align: right;\">\n",
              "      <th></th>\n",
              "      <th>ID</th>\n",
              "      <th>Day_No</th>\n",
              "      <th>Course_ID</th>\n",
              "      <th>Course_Domain</th>\n",
              "      <th>Course_Type</th>\n",
              "      <th>Short_Promotion</th>\n",
              "      <th>Public_Holiday</th>\n",
              "      <th>Long_Promotion</th>\n",
              "      <th>User_Traffic</th>\n",
              "      <th>Competition_Metric</th>\n",
              "      <th>Sales</th>\n",
              "    </tr>\n",
              "  </thead>\n",
              "  <tbody>\n",
              "    <tr>\n",
              "      <th>0</th>\n",
              "      <td>1</td>\n",
              "      <td>1</td>\n",
              "      <td>1</td>\n",
              "      <td>Development</td>\n",
              "      <td>Course</td>\n",
              "      <td>0</td>\n",
              "      <td>1</td>\n",
              "      <td>1</td>\n",
              "      <td>11004</td>\n",
              "      <td>0.007</td>\n",
              "      <td>81</td>\n",
              "    </tr>\n",
              "    <tr>\n",
              "      <th>1</th>\n",
              "      <td>2</td>\n",
              "      <td>2</td>\n",
              "      <td>1</td>\n",
              "      <td>Development</td>\n",
              "      <td>Course</td>\n",
              "      <td>0</td>\n",
              "      <td>0</td>\n",
              "      <td>1</td>\n",
              "      <td>13650</td>\n",
              "      <td>0.007</td>\n",
              "      <td>79</td>\n",
              "    </tr>\n",
              "    <tr>\n",
              "      <th>2</th>\n",
              "      <td>3</td>\n",
              "      <td>3</td>\n",
              "      <td>1</td>\n",
              "      <td>Development</td>\n",
              "      <td>Course</td>\n",
              "      <td>0</td>\n",
              "      <td>0</td>\n",
              "      <td>1</td>\n",
              "      <td>11655</td>\n",
              "      <td>0.007</td>\n",
              "      <td>75</td>\n",
              "    </tr>\n",
              "    <tr>\n",
              "      <th>3</th>\n",
              "      <td>4</td>\n",
              "      <td>4</td>\n",
              "      <td>1</td>\n",
              "      <td>Development</td>\n",
              "      <td>Course</td>\n",
              "      <td>0</td>\n",
              "      <td>0</td>\n",
              "      <td>1</td>\n",
              "      <td>12054</td>\n",
              "      <td>0.007</td>\n",
              "      <td>80</td>\n",
              "    </tr>\n",
              "    <tr>\n",
              "      <th>4</th>\n",
              "      <td>5</td>\n",
              "      <td>5</td>\n",
              "      <td>1</td>\n",
              "      <td>Development</td>\n",
              "      <td>Course</td>\n",
              "      <td>0</td>\n",
              "      <td>0</td>\n",
              "      <td>1</td>\n",
              "      <td>6804</td>\n",
              "      <td>0.007</td>\n",
              "      <td>41</td>\n",
              "    </tr>\n",
              "  </tbody>\n",
              "</table>\n",
              "</div>"
            ],
            "text/plain": [
              "   ID  Day_No  Course_ID  ... User_Traffic Competition_Metric  Sales\n",
              "0   1       1          1  ...        11004              0.007     81\n",
              "1   2       2          1  ...        13650              0.007     79\n",
              "2   3       3          1  ...        11655              0.007     75\n",
              "3   4       4          1  ...        12054              0.007     80\n",
              "4   5       5          1  ...         6804              0.007     41\n",
              "\n",
              "[5 rows x 11 columns]"
            ]
          },
          "metadata": {
            "tags": []
          },
          "execution_count": 12
        }
      ]
    },
    {
      "cell_type": "code",
      "metadata": {
        "id": "Pqbyg0lbUPlh",
        "colab": {
          "base_uri": "https://localhost:8080/",
          "height": 204
        },
        "outputId": "33f62597-5e7c-44e2-d25c-a958e50702ff"
      },
      "source": [
        "test.head()"
      ],
      "execution_count": 13,
      "outputs": [
        {
          "output_type": "execute_result",
          "data": {
            "text/html": [
              "<div>\n",
              "<style scoped>\n",
              "    .dataframe tbody tr th:only-of-type {\n",
              "        vertical-align: middle;\n",
              "    }\n",
              "\n",
              "    .dataframe tbody tr th {\n",
              "        vertical-align: top;\n",
              "    }\n",
              "\n",
              "    .dataframe thead th {\n",
              "        text-align: right;\n",
              "    }\n",
              "</style>\n",
              "<table border=\"1\" class=\"dataframe\">\n",
              "  <thead>\n",
              "    <tr style=\"text-align: right;\">\n",
              "      <th></th>\n",
              "      <th>ID</th>\n",
              "      <th>Day_No</th>\n",
              "      <th>Course_ID</th>\n",
              "      <th>Course_Domain</th>\n",
              "      <th>Course_Type</th>\n",
              "      <th>Short_Promotion</th>\n",
              "      <th>Public_Holiday</th>\n",
              "      <th>Long_Promotion</th>\n",
              "      <th>Competition_Metric</th>\n",
              "    </tr>\n",
              "  </thead>\n",
              "  <tbody>\n",
              "    <tr>\n",
              "      <th>0</th>\n",
              "      <td>883</td>\n",
              "      <td>883</td>\n",
              "      <td>1</td>\n",
              "      <td>Development</td>\n",
              "      <td>Course</td>\n",
              "      <td>1</td>\n",
              "      <td>0</td>\n",
              "      <td>1</td>\n",
              "      <td>0.007</td>\n",
              "    </tr>\n",
              "    <tr>\n",
              "      <th>1</th>\n",
              "      <td>884</td>\n",
              "      <td>884</td>\n",
              "      <td>1</td>\n",
              "      <td>Development</td>\n",
              "      <td>Course</td>\n",
              "      <td>1</td>\n",
              "      <td>0</td>\n",
              "      <td>1</td>\n",
              "      <td>0.007</td>\n",
              "    </tr>\n",
              "    <tr>\n",
              "      <th>2</th>\n",
              "      <td>885</td>\n",
              "      <td>885</td>\n",
              "      <td>1</td>\n",
              "      <td>Development</td>\n",
              "      <td>Course</td>\n",
              "      <td>1</td>\n",
              "      <td>0</td>\n",
              "      <td>1</td>\n",
              "      <td>0.007</td>\n",
              "    </tr>\n",
              "    <tr>\n",
              "      <th>3</th>\n",
              "      <td>886</td>\n",
              "      <td>886</td>\n",
              "      <td>1</td>\n",
              "      <td>Development</td>\n",
              "      <td>Course</td>\n",
              "      <td>1</td>\n",
              "      <td>0</td>\n",
              "      <td>1</td>\n",
              "      <td>0.007</td>\n",
              "    </tr>\n",
              "    <tr>\n",
              "      <th>4</th>\n",
              "      <td>887</td>\n",
              "      <td>887</td>\n",
              "      <td>1</td>\n",
              "      <td>Development</td>\n",
              "      <td>Course</td>\n",
              "      <td>0</td>\n",
              "      <td>0</td>\n",
              "      <td>1</td>\n",
              "      <td>0.007</td>\n",
              "    </tr>\n",
              "  </tbody>\n",
              "</table>\n",
              "</div>"
            ],
            "text/plain": [
              "    ID  Day_No  Course_ID  ... Public_Holiday Long_Promotion  Competition_Metric\n",
              "0  883     883          1  ...              0              1               0.007\n",
              "1  884     884          1  ...              0              1               0.007\n",
              "2  885     885          1  ...              0              1               0.007\n",
              "3  886     886          1  ...              0              1               0.007\n",
              "4  887     887          1  ...              0              1               0.007\n",
              "\n",
              "[5 rows x 9 columns]"
            ]
          },
          "metadata": {
            "tags": []
          },
          "execution_count": 13
        }
      ]
    },
    {
      "cell_type": "code",
      "metadata": {
        "colab": {
          "base_uri": "https://localhost:8080/"
        },
        "id": "V5PVtGe7skCh",
        "outputId": "b2a3aa72-67d5-4826-cd09-7adafa093dea"
      },
      "source": [
        "df.isna().sum()"
      ],
      "execution_count": 51,
      "outputs": [
        {
          "output_type": "execute_result",
          "data": {
            "text/plain": [
              "ID                       0\n",
              "Day_No                   0\n",
              "Course_ID                0\n",
              "Course_Domain            0\n",
              "Course_Type              0\n",
              "Short_Promotion          0\n",
              "Public_Holiday           0\n",
              "Long_Promotion           0\n",
              "User_Traffic             0\n",
              "Competition_Metric    1764\n",
              "Sales                    0\n",
              "dtype: int64"
            ]
          },
          "metadata": {
            "tags": []
          },
          "execution_count": 51
        }
      ]
    },
    {
      "cell_type": "code",
      "metadata": {
        "colab": {
          "base_uri": "https://localhost:8080/",
          "height": 306
        },
        "id": "DUCHoKU9mqQt",
        "outputId": "9ac6050b-032b-4577-e62f-e010d621bc8b"
      },
      "source": [
        "# which is the most sold course?\r\n",
        "df['Sales'].groupby(df['Course_ID']).sum().sort_values(ascending=False)[:3].plot(kind= 'bar', color='cyan')"
      ],
      "execution_count": 16,
      "outputs": [
        {
          "output_type": "execute_result",
          "data": {
            "text/plain": [
              "<matplotlib.axes._subplots.AxesSubplot at 0x7f2e602c0518>"
            ]
          },
          "metadata": {
            "tags": []
          },
          "execution_count": 16
        },
        {
          "output_type": "display_data",
          "data": {
            "image/png": "[encoded data removed]",
            "text/plain": [
              "<Figure size 432x288 with 1 Axes>"
            ]
          },
          "metadata": {
            "tags": [],
            "needs_background": "light"
          }
        }
      ]
    },
    {
      "cell_type": "code",
      "metadata": {
        "id": "VdWDwXi8mqTz"
      },
      "source": [
        "# Course number 151 is the most sold course"
      ],
      "execution_count": 17,
      "outputs": []
    },
    {
      "cell_type": "code",
      "metadata": {
        "colab": {
          "base_uri": "https://localhost:8080/",
          "height": 294
        },
        "id": "FiLjbXlMmqXF",
        "outputId": "932faf7d-4ae8-4f53-9b9c-9bb4f8bbba7e"
      },
      "source": [
        "# Does Holiday affect sales?\r\n",
        "\r\n",
        "df['Sales'].groupby(df['Public_Holiday']).mean().plot(kind='bar',color= 'magenta')"
      ],
      "execution_count": 18,
      "outputs": [
        {
          "output_type": "execute_result",
          "data": {
            "text/plain": [
              "<matplotlib.axes._subplots.AxesSubplot at 0x7f2e60200ac8>"
            ]
          },
          "metadata": {
            "tags": []
          },
          "execution_count": 18
        },
        {
          "output_type": "display_data",
          "data": {
            "image/png": "[encoded data removed]",
            "text/plain": [
              "<Figure size 432x288 with 1 Axes>"
            ]
          },
          "metadata": {
            "tags": [],
            "needs_background": "light"
          }
        }
      ]
    },
    {
      "cell_type": "code",
      "metadata": {
        "id": "OReoDhq4mqbO"
      },
      "source": [
        "# Seems like people buy more on an average on non holidays"
      ],
      "execution_count": 19,
      "outputs": []
    },
    {
      "cell_type": "code",
      "metadata": {
        "colab": {
          "base_uri": "https://localhost:8080/",
          "height": 306
        },
        "id": "a9ZluKyUmqdI",
        "outputId": "2fe970fa-bc53-4fbe-f4df-bea4915f1884"
      },
      "source": [
        "# which day number made the most number of sales\r\n",
        "\r\n",
        "df['Sales'].groupby(df['Day_No']).sum().sort_values(ascending=False)[:3].plot(kind= 'bar', color= 'green')"
      ],
      "execution_count": 20,
      "outputs": [
        {
          "output_type": "execute_result",
          "data": {
            "text/plain": [
              "<matplotlib.axes._subplots.AxesSubplot at 0x7f2e5fd29be0>"
            ]
          },
          "metadata": {
            "tags": []
          },
          "execution_count": 20
        },
        {
          "output_type": "display_data",
          "data": {
            "image/png": "[encoded data removed]",
            "text/plain": [
              "<Figure size 432x288 with 1 Axes>"
            ]
          },
          "metadata": {
            "tags": [],
            "needs_background": "light"
          }
        }
      ]
    },
    {
      "cell_type": "markdown",
      "metadata": {
        "id": "_zVKGw80pjJJ"
      },
      "source": [
        "## Day number 350 made the most sale, followed by day number 357, followed by 546"
      ]
    },
    {
      "cell_type": "code",
      "metadata": {
        "colab": {
          "base_uri": "https://localhost:8080/",
          "height": 331
        },
        "id": "yxJTLRmZmqfA",
        "outputId": "51ac92e3-912d-413d-9edf-72b4de656486"
      },
      "source": [
        "plt.figure(figsize=(10,5))\r\n",
        "plt.bar(df['Sales'].groupby(df['Course_Domain']).sum().index, df['Sales'].groupby(df['Course_Domain']).sum().values, color = 'cyan')\r\n",
        "plt.show()\r\n"
      ],
      "execution_count": 21,
      "outputs": [
        {
          "output_type": "display_data",
          "data": {
            "image/png": "[encoded data removed]",
            "text/plain": [
              "<Figure size 720x360 with 1 Axes>"
            ]
          },
          "metadata": {
            "tags": [],
            "needs_background": "light"
          }
        }
      ]
    },
    {
      "cell_type": "code",
      "metadata": {
        "id": "c6lAU-zmmqh8"
      },
      "source": [
        "# Development genre of books made the most sales."
      ],
      "execution_count": 22,
      "outputs": []
    },
    {
      "cell_type": "code",
      "metadata": {
        "colab": {
          "base_uri": "https://localhost:8080/",
          "height": 331
        },
        "id": "g06AN01hmqkv",
        "outputId": "e8f27f43-2154-46b4-dec3-5aecd656d91d"
      },
      "source": [
        "\r\n",
        "plt.figure(figsize=(10,5))\r\n",
        "plt.bar(df['Sales'].groupby(df['Course_Type']).sum().index, df['Sales'].groupby(df['Course_Type']).sum().values, color = 'blue')\r\n",
        "plt.show()\r\n"
      ],
      "execution_count": 23,
      "outputs": [
        {
          "output_type": "display_data",
          "data": {
            "image/png": "[encoded data removed]",
            "text/plain": [
              "<Figure size 720x360 with 1 Axes>"
            ]
          },
          "metadata": {
            "tags": [],
            "needs_background": "light"
          }
        }
      ]
    },
    {
      "cell_type": "code",
      "metadata": {
        "id": "ouAOGvzTtUyu"
      },
      "source": [
        "# Program type courses made the most sale"
      ],
      "execution_count": 24,
      "outputs": []
    },
    {
      "cell_type": "code",
      "metadata": {
        "colab": {
          "base_uri": "https://localhost:8080/"
        },
        "id": "JEbAF5uLtR1B",
        "outputId": "9f09d095-aacc-4de0-a810-191eddca6682"
      },
      "source": [
        "df['Course_Type'].unique()"
      ],
      "execution_count": 25,
      "outputs": [
        {
          "output_type": "execute_result",
          "data": {
            "text/plain": [
              "array(['Course', 'Program', 'Degree'], dtype=object)"
            ]
          },
          "metadata": {
            "tags": []
          },
          "execution_count": 25
        }
      ]
    },
    {
      "cell_type": "code",
      "metadata": {
        "colab": {
          "base_uri": "https://localhost:8080/"
        },
        "id": "4E3ax1yph-4V",
        "outputId": "7766d823-4493-43e2-9780-be744e3a3efa"
      },
      "source": [
        "df.dtypes"
      ],
      "execution_count": 26,
      "outputs": [
        {
          "output_type": "execute_result",
          "data": {
            "text/plain": [
              "ID                      int64\n",
              "Day_No                  int64\n",
              "Course_ID               int64\n",
              "Course_Domain          object\n",
              "Course_Type            object\n",
              "Short_Promotion         int64\n",
              "Public_Holiday          int64\n",
              "Long_Promotion          int64\n",
              "User_Traffic            int64\n",
              "Competition_Metric    float64\n",
              "Sales                   int64\n",
              "dtype: object"
            ]
          },
          "metadata": {
            "tags": []
          },
          "execution_count": 26
        }
      ]
    },
    {
      "cell_type": "code",
      "metadata": {
        "colab": {
          "base_uri": "https://localhost:8080/",
          "height": 1000
        },
        "id": "9w4-n-lji6IA",
        "outputId": "d1ec76dc-e5ad-4c34-ba6e-d92e204bd644"
      },
      "source": [
        "# Lets check distributions\r\n",
        "\r\n",
        "for i in df.select_dtypes(include='number'):\r\n",
        "  sns.distplot(df[i])\r\n",
        "  plt.show()"
      ],
      "execution_count": 27,
      "outputs": [
        {
          "output_type": "stream",
          "text": [
            "/usr/local/lib/python3.6/dist-packages/seaborn/distributions.py:2557: FutureWarning: `distplot` is a deprecated function and will be removed in a future version. Please adapt your code to use either `displot` (a figure-level function with similar flexibility) or `histplot` (an axes-level function for histograms).\n",
            "  warnings.warn(msg, FutureWarning)\n"
          ],
          "name": "stderr"
        },
        {
          "output_type": "display_data",
          "data": {
            "image/png": "[encoded data removed]",
            "text/plain": [
              "<Figure size 432x288 with 1 Axes>"
            ]
          },
          "metadata": {
            "tags": [],
            "needs_background": "light"
          }
        },
        {
          "output_type": "stream",
          "text": [
            "/usr/local/lib/python3.6/dist-packages/seaborn/distributions.py:2557: FutureWarning: `distplot` is a deprecated function and will be removed in a future version. Please adapt your code to use either `displot` (a figure-level function with similar flexibility) or `histplot` (an axes-level function for histograms).\n",
            "  warnings.warn(msg, FutureWarning)\n"
          ],
          "name": "stderr"
        },
        {
          "output_type": "display_data",
          "data": {
            "image/png": "[encoded data removed]",
            "text/plain": [
              "<Figure size 432x288 with 1 Axes>"
            ]
          },
          "metadata": {
            "tags": [],
            "needs_background": "light"
          }
        },
        {
          "output_type": "stream",
          "text": [
            "/usr/local/lib/python3.6/dist-packages/seaborn/distributions.py:2557: FutureWarning: `distplot` is a deprecated function and will be removed in a future version. Please adapt your code to use either `displot` (a figure-level function with similar flexibility) or `histplot` (an axes-level function for histograms).\n",
            "  warnings.warn(msg, FutureWarning)\n"
          ],
          "name": "stderr"
        },
        {
          "output_type": "display_data",
          "data": {
            "image/png": "[encoded data removed]",
            "text/plain": [
              "<Figure size 432x288 with 1 Axes>"
            ]
          },
          "metadata": {
            "tags": [],
            "needs_background": "light"
          }
        },
        {
          "output_type": "stream",
          "text": [
            "/usr/local/lib/python3.6/dist-packages/seaborn/distributions.py:2557: FutureWarning: `distplot` is a deprecated function and will be removed in a future version. Please adapt your code to use either `displot` (a figure-level function with similar flexibility) or `histplot` (an axes-level function for histograms).\n",
            "  warnings.warn(msg, FutureWarning)\n"
          ],
          "name": "stderr"
        },
        {
          "output_type": "display_data",
          "data": {
            "image/png": "[encoded data removed]",
            "text/plain": [
              "<Figure size 432x288 with 1 Axes>"
            ]
          },
          "metadata": {
            "tags": [],
            "needs_background": "light"
          }
        },
        {
          "output_type": "stream",
          "text": [
            "/usr/local/lib/python3.6/dist-packages/seaborn/distributions.py:2557: FutureWarning: `distplot` is a deprecated function and will be removed in a future version. Please adapt your code to use either `displot` (a figure-level function with similar flexibility) or `histplot` (an axes-level function for histograms).\n",
            "  warnings.warn(msg, FutureWarning)\n"
          ],
          "name": "stderr"
        },
        {
          "output_type": "display_data",
          "data": {
            "image/png": "[encoded data removed]",
            "text/plain": [
              "<Figure size 432x288 with 1 Axes>"
            ]
          },
          "metadata": {
            "tags": [],
            "needs_background": "light"
          }
        },
        {
          "output_type": "stream",
          "text": [
            "/usr/local/lib/python3.6/dist-packages/seaborn/distributions.py:2557: FutureWarning: `distplot` is a deprecated function and will be removed in a future version. Please adapt your code to use either `displot` (a figure-level function with similar flexibility) or `histplot` (an axes-level function for histograms).\n",
            "  warnings.warn(msg, FutureWarning)\n"
          ],
          "name": "stderr"
        },
        {
          "output_type": "display_data",
          "data": {
            "image/png": "[encoded data removed]",
            "text/plain": [
              "<Figure size 432x288 with 1 Axes>"
            ]
          },
          "metadata": {
            "tags": [],
            "needs_background": "light"
          }
        },
        {
          "output_type": "stream",
          "text": [
            "/usr/local/lib/python3.6/dist-packages/seaborn/distributions.py:2557: FutureWarning: `distplot` is a deprecated function and will be removed in a future version. Please adapt your code to use either `displot` (a figure-level function with similar flexibility) or `histplot` (an axes-level function for histograms).\n",
            "  warnings.warn(msg, FutureWarning)\n"
          ],
          "name": "stderr"
        },
        {
          "output_type": "display_data",
          "data": {
            "image/png": "[encoded data removed]",
            "text/plain": [
              "<Figure size 432x288 with 1 Axes>"
            ]
          },
          "metadata": {
            "tags": [],
            "needs_background": "light"
          }
        },
        {
          "output_type": "stream",
          "text": [
            "/usr/local/lib/python3.6/dist-packages/seaborn/distributions.py:2557: FutureWarning: `distplot` is a deprecated function and will be removed in a future version. Please adapt your code to use either `displot` (a figure-level function with similar flexibility) or `histplot` (an axes-level function for histograms).\n",
            "  warnings.warn(msg, FutureWarning)\n"
          ],
          "name": "stderr"
        },
        {
          "output_type": "display_data",
          "data": {
            "image/png": "[encoded data removed]",
            "text/plain": [
              "<Figure size 432x288 with 1 Axes>"
            ]
          },
          "metadata": {
            "tags": [],
            "needs_background": "light"
          }
        },
        {
          "output_type": "stream",
          "text": [
            "/usr/local/lib/python3.6/dist-packages/seaborn/distributions.py:2557: FutureWarning: `distplot` is a deprecated function and will be removed in a future version. Please adapt your code to use either `displot` (a figure-level function with similar flexibility) or `histplot` (an axes-level function for histograms).\n",
            "  warnings.warn(msg, FutureWarning)\n"
          ],
          "name": "stderr"
        },
        {
          "output_type": "display_data",
          "data": {
            "image/png": "[encoded data removed]",
            "text/plain": [
              "<Figure size 432x288 with 1 Axes>"
            ]
          },
          "metadata": {
            "tags": [],
            "needs_background": "light"
          }
        }
      ]
    },
    {
      "cell_type": "code",
      "metadata": {
        "colab": {
          "base_uri": "https://localhost:8080/"
        },
        "id": "yOXis-KUj463",
        "outputId": "f16bcf10-725d-4e5a-f1fe-51b9cb306501"
      },
      "source": [
        "# Skewness and kurtosis:\r\n",
        "\r\n",
        "for i in df.select_dtypes(include='number'):\r\n",
        "  print(i, 'skew', df[i].skew())\r\n",
        "  print(i, 'kurt', df[i].kurt())\r\n",
        "  print('\\n')"
      ],
      "execution_count": 28,
      "outputs": [
        {
          "output_type": "stream",
          "text": [
            "ID skew 0.00016316945461488104\n",
            "ID kurt -1.1999794466036613\n",
            "\n",
            "\n",
            "Day_No skew 0.058605317253384005\n",
            "Day_No kurt -1.1960173884622114\n",
            "\n",
            "\n",
            "Course_ID skew 0.0025342903969726312\n",
            "Course_ID kurt -1.199723268471161\n",
            "\n",
            "\n",
            "Short_Promotion skew 0.49339156423960234\n",
            "Short_Promotion kurt -1.75657162480802\n",
            "\n",
            "\n",
            "Public_Holiday skew 5.35155917831127\n",
            "Public_Holiday kurt 26.63928968120183\n",
            "\n",
            "\n",
            "Long_Promotion skew 0.044136273318374185\n",
            "Long_Promotion kurt -1.998059793003124\n",
            "\n",
            "\n",
            "User_Traffic skew 2.3078205092666377\n",
            "User_Traffic kurt 9.417347862839343\n",
            "\n",
            "\n",
            "Competition_Metric skew 2.5779639535777976\n",
            "Competition_Metric kurt 8.780034230123329\n",
            "\n",
            "\n",
            "Sales skew 1.3747711028692273\n",
            "Sales kurt 3.609500648997228\n",
            "\n",
            "\n"
          ],
          "name": "stdout"
        }
      ]
    },
    {
      "cell_type": "code",
      "metadata": {
        "id": "sJeKPW2IkI6H"
      },
      "source": [
        "# Competition_Metric - Right skewed \r\n",
        "# Sales-               Right skewed \r\n",
        "# User_Traffic-        Right skewed"
      ],
      "execution_count": 29,
      "outputs": []
    },
    {
      "cell_type": "code",
      "metadata": {
        "colab": {
          "base_uri": "https://localhost:8080/",
          "height": 373
        },
        "id": "c__y-OGQlf8f",
        "outputId": "f1a56a96-9daf-4ff4-dffc-bddbeadcf885"
      },
      "source": [
        "sns.heatmap(df.corr())"
      ],
      "execution_count": 30,
      "outputs": [
        {
          "output_type": "execute_result",
          "data": {
            "text/plain": [
              "<matplotlib.axes._subplots.AxesSubplot at 0x7f2e5623c518>"
            ]
          },
          "metadata": {
            "tags": []
          },
          "execution_count": 30
        },
        {
          "output_type": "display_data",
          "data": {
            "image/png": "[encoded data removed]",
            "text/plain": [
              "<Figure size 432x288 with 2 Axes>"
            ]
          },
          "metadata": {
            "tags": [],
            "needs_background": "light"
          }
        }
      ]
    },
    {
      "cell_type": "code",
      "metadata": {
        "colab": {
          "base_uri": "https://localhost:8080/",
          "height": 328
        },
        "id": "Su7l7GIml2Vc",
        "outputId": "d4833ae5-b8e8-4e44-b5ae-282b662a4c14"
      },
      "source": [
        "df.corr()"
      ],
      "execution_count": 31,
      "outputs": [
        {
          "output_type": "execute_result",
          "data": {
            "text/html": [
              "<div>\n",
              "<style scoped>\n",
              "    .dataframe tbody tr th:only-of-type {\n",
              "        vertical-align: middle;\n",
              "    }\n",
              "\n",
              "    .dataframe tbody tr th {\n",
              "        vertical-align: top;\n",
              "    }\n",
              "\n",
              "    .dataframe thead th {\n",
              "        text-align: right;\n",
              "    }\n",
              "</style>\n",
              "<table border=\"1\" class=\"dataframe\">\n",
              "  <thead>\n",
              "    <tr style=\"text-align: right;\">\n",
              "      <th></th>\n",
              "      <th>ID</th>\n",
              "      <th>Day_No</th>\n",
              "      <th>Course_ID</th>\n",
              "      <th>Short_Promotion</th>\n",
              "      <th>Public_Holiday</th>\n",
              "      <th>Long_Promotion</th>\n",
              "      <th>User_Traffic</th>\n",
              "      <th>Competition_Metric</th>\n",
              "      <th>Sales</th>\n",
              "    </tr>\n",
              "  </thead>\n",
              "  <tbody>\n",
              "    <tr>\n",
              "      <th>ID</th>\n",
              "      <td>1.000000</td>\n",
              "      <td>0.001050</td>\n",
              "      <td>0.999996</td>\n",
              "      <td>-0.000002</td>\n",
              "      <td>0.001274</td>\n",
              "      <td>-0.039572</td>\n",
              "      <td>0.033604</td>\n",
              "      <td>-0.007432</td>\n",
              "      <td>0.017038</td>\n",
              "    </tr>\n",
              "    <tr>\n",
              "      <th>Day_No</th>\n",
              "      <td>0.001050</td>\n",
              "      <td>1.000000</td>\n",
              "      <td>-0.000508</td>\n",
              "      <td>0.014648</td>\n",
              "      <td>0.019112</td>\n",
              "      <td>-0.020206</td>\n",
              "      <td>0.021511</td>\n",
              "      <td>0.003228</td>\n",
              "      <td>0.060013</td>\n",
              "    </tr>\n",
              "    <tr>\n",
              "      <th>Course_ID</th>\n",
              "      <td>0.999996</td>\n",
              "      <td>-0.000508</td>\n",
              "      <td>1.000000</td>\n",
              "      <td>-0.000024</td>\n",
              "      <td>0.001241</td>\n",
              "      <td>-0.039608</td>\n",
              "      <td>0.033520</td>\n",
              "      <td>-0.007386</td>\n",
              "      <td>0.016895</td>\n",
              "    </tr>\n",
              "    <tr>\n",
              "      <th>Short_Promotion</th>\n",
              "      <td>-0.000002</td>\n",
              "      <td>0.014648</td>\n",
              "      <td>-0.000024</td>\n",
              "      <td>1.000000</td>\n",
              "      <td>-0.018769</td>\n",
              "      <td>-0.001147</td>\n",
              "      <td>0.198785</td>\n",
              "      <td>0.000184</td>\n",
              "      <td>0.367761</td>\n",
              "    </tr>\n",
              "    <tr>\n",
              "      <th>Public_Holiday</th>\n",
              "      <td>0.001274</td>\n",
              "      <td>0.019112</td>\n",
              "      <td>0.001241</td>\n",
              "      <td>-0.018769</td>\n",
              "      <td>1.000000</td>\n",
              "      <td>0.008319</td>\n",
              "      <td>-0.108304</td>\n",
              "      <td>-0.000492</td>\n",
              "      <td>-0.135052</td>\n",
              "    </tr>\n",
              "    <tr>\n",
              "      <th>Long_Promotion</th>\n",
              "      <td>-0.039572</td>\n",
              "      <td>-0.020206</td>\n",
              "      <td>-0.039608</td>\n",
              "      <td>-0.001147</td>\n",
              "      <td>0.008319</td>\n",
              "      <td>1.000000</td>\n",
              "      <td>-0.204289</td>\n",
              "      <td>-0.119383</td>\n",
              "      <td>-0.109454</td>\n",
              "    </tr>\n",
              "    <tr>\n",
              "      <th>User_Traffic</th>\n",
              "      <td>0.033604</td>\n",
              "      <td>0.021511</td>\n",
              "      <td>0.033520</td>\n",
              "      <td>0.198785</td>\n",
              "      <td>-0.108304</td>\n",
              "      <td>-0.204289</td>\n",
              "      <td>1.000000</td>\n",
              "      <td>-0.148775</td>\n",
              "      <td>0.829742</td>\n",
              "    </tr>\n",
              "    <tr>\n",
              "      <th>Competition_Metric</th>\n",
              "      <td>-0.007432</td>\n",
              "      <td>0.003228</td>\n",
              "      <td>-0.007386</td>\n",
              "      <td>0.000184</td>\n",
              "      <td>-0.000492</td>\n",
              "      <td>-0.119383</td>\n",
              "      <td>-0.148775</td>\n",
              "      <td>1.000000</td>\n",
              "      <td>-0.022085</td>\n",
              "    </tr>\n",
              "    <tr>\n",
              "      <th>Sales</th>\n",
              "      <td>0.017038</td>\n",
              "      <td>0.060013</td>\n",
              "      <td>0.016895</td>\n",
              "      <td>0.367761</td>\n",
              "      <td>-0.135052</td>\n",
              "      <td>-0.109454</td>\n",
              "      <td>0.829742</td>\n",
              "      <td>-0.022085</td>\n",
              "      <td>1.000000</td>\n",
              "    </tr>\n",
              "  </tbody>\n",
              "</table>\n",
              "</div>"
            ],
            "text/plain": [
              "                          ID    Day_No  ...  Competition_Metric     Sales\n",
              "ID                  1.000000  0.001050  ...           -0.007432  0.017038\n",
              "Day_No              0.001050  1.000000  ...            0.003228  0.060013\n",
              "Course_ID           0.999996 -0.000508  ...           -0.007386  0.016895\n",
              "Short_Promotion    -0.000002  0.014648  ...            0.000184  0.367761\n",
              "Public_Holiday      0.001274  0.019112  ...           -0.000492 -0.135052\n",
              "Long_Promotion     -0.039572 -0.020206  ...           -0.119383 -0.109454\n",
              "User_Traffic        0.033604  0.021511  ...           -0.148775  0.829742\n",
              "Competition_Metric -0.007432  0.003228  ...            1.000000 -0.022085\n",
              "Sales               0.017038  0.060013  ...           -0.022085  1.000000\n",
              "\n",
              "[9 rows x 9 columns]"
            ]
          },
          "metadata": {
            "tags": []
          },
          "execution_count": 31
        }
      ]
    },
    {
      "cell_type": "markdown",
      "metadata": {
        "id": "SOk5Tqittq3V"
      },
      "source": [
        "## hypothesis testing"
      ]
    },
    {
      "cell_type": "code",
      "metadata": {
        "id": "p4W7xJKomN4_",
        "colab": {
          "base_uri": "https://localhost:8080/",
          "height": 204
        },
        "outputId": "05d7cebe-3410-44bf-86f6-dd04ed5298b9"
      },
      "source": [
        "df.head()"
      ],
      "execution_count": 32,
      "outputs": [
        {
          "output_type": "execute_result",
          "data": {
            "text/html": [
              "<div>\n",
              "<style scoped>\n",
              "    .dataframe tbody tr th:only-of-type {\n",
              "        vertical-align: middle;\n",
              "    }\n",
              "\n",
              "    .dataframe tbody tr th {\n",
              "        vertical-align: top;\n",
              "    }\n",
              "\n",
              "    .dataframe thead th {\n",
              "        text-align: right;\n",
              "    }\n",
              "</style>\n",
              "<table border=\"1\" class=\"dataframe\">\n",
              "  <thead>\n",
              "    <tr style=\"text-align: right;\">\n",
              "      <th></th>\n",
              "      <th>ID</th>\n",
              "      <th>Day_No</th>\n",
              "      <th>Course_ID</th>\n",
              "      <th>Course_Domain</th>\n",
              "      <th>Course_Type</th>\n",
              "      <th>Short_Promotion</th>\n",
              "      <th>Public_Holiday</th>\n",
              "      <th>Long_Promotion</th>\n",
              "      <th>User_Traffic</th>\n",
              "      <th>Competition_Metric</th>\n",
              "      <th>Sales</th>\n",
              "    </tr>\n",
              "  </thead>\n",
              "  <tbody>\n",
              "    <tr>\n",
              "      <th>0</th>\n",
              "      <td>1</td>\n",
              "      <td>1</td>\n",
              "      <td>1</td>\n",
              "      <td>Development</td>\n",
              "      <td>Course</td>\n",
              "      <td>0</td>\n",
              "      <td>1</td>\n",
              "      <td>1</td>\n",
              "      <td>11004</td>\n",
              "      <td>0.007</td>\n",
              "      <td>81</td>\n",
              "    </tr>\n",
              "    <tr>\n",
              "      <th>1</th>\n",
              "      <td>2</td>\n",
              "      <td>2</td>\n",
              "      <td>1</td>\n",
              "      <td>Development</td>\n",
              "      <td>Course</td>\n",
              "      <td>0</td>\n",
              "      <td>0</td>\n",
              "      <td>1</td>\n",
              "      <td>13650</td>\n",
              "      <td>0.007</td>\n",
              "      <td>79</td>\n",
              "    </tr>\n",
              "    <tr>\n",
              "      <th>2</th>\n",
              "      <td>3</td>\n",
              "      <td>3</td>\n",
              "      <td>1</td>\n",
              "      <td>Development</td>\n",
              "      <td>Course</td>\n",
              "      <td>0</td>\n",
              "      <td>0</td>\n",
              "      <td>1</td>\n",
              "      <td>11655</td>\n",
              "      <td>0.007</td>\n",
              "      <td>75</td>\n",
              "    </tr>\n",
              "    <tr>\n",
              "      <th>3</th>\n",
              "      <td>4</td>\n",
              "      <td>4</td>\n",
              "      <td>1</td>\n",
              "      <td>Development</td>\n",
              "      <td>Course</td>\n",
              "      <td>0</td>\n",
              "      <td>0</td>\n",
              "      <td>1</td>\n",
              "      <td>12054</td>\n",
              "      <td>0.007</td>\n",
              "      <td>80</td>\n",
              "    </tr>\n",
              "    <tr>\n",
              "      <th>4</th>\n",
              "      <td>5</td>\n",
              "      <td>5</td>\n",
              "      <td>1</td>\n",
              "      <td>Development</td>\n",
              "      <td>Course</td>\n",
              "      <td>0</td>\n",
              "      <td>0</td>\n",
              "      <td>1</td>\n",
              "      <td>6804</td>\n",
              "      <td>0.007</td>\n",
              "      <td>41</td>\n",
              "    </tr>\n",
              "  </tbody>\n",
              "</table>\n",
              "</div>"
            ],
            "text/plain": [
              "   ID  Day_No  Course_ID  ... User_Traffic Competition_Metric  Sales\n",
              "0   1       1          1  ...        11004              0.007     81\n",
              "1   2       2          1  ...        13650              0.007     79\n",
              "2   3       3          1  ...        11655              0.007     75\n",
              "3   4       4          1  ...        12054              0.007     80\n",
              "4   5       5          1  ...         6804              0.007     41\n",
              "\n",
              "[5 rows x 11 columns]"
            ]
          },
          "metadata": {
            "tags": []
          },
          "execution_count": 32
        }
      ]
    },
    {
      "cell_type": "code",
      "metadata": {
        "colab": {
          "base_uri": "https://localhost:8080/",
          "height": 241
        },
        "id": "lubR9EHSmN72",
        "outputId": "9bb5f063-fb6c-4e62-92c6-a5e706c8df7f"
      },
      "source": [
        "# Lets fit a base model and see\r\n",
        "\r\n",
        "# Lets dummy encode first\r\n",
        "\r\n",
        "df= pd.get_dummies(data= df, columns=['Course_Domain', 'Course_Type'], drop_first=True)\r\n",
        "df.head()"
      ],
      "execution_count": 8,
      "outputs": [
        {
          "output_type": "execute_result",
          "data": {
            "text/html": [
              "<div>\n",
              "<style scoped>\n",
              "    .dataframe tbody tr th:only-of-type {\n",
              "        vertical-align: middle;\n",
              "    }\n",
              "\n",
              "    .dataframe tbody tr th {\n",
              "        vertical-align: top;\n",
              "    }\n",
              "\n",
              "    .dataframe thead th {\n",
              "        text-align: right;\n",
              "    }\n",
              "</style>\n",
              "<table border=\"1\" class=\"dataframe\">\n",
              "  <thead>\n",
              "    <tr style=\"text-align: right;\">\n",
              "      <th></th>\n",
              "      <th>ID</th>\n",
              "      <th>Day_No</th>\n",
              "      <th>Course_ID</th>\n",
              "      <th>Short_Promotion</th>\n",
              "      <th>Public_Holiday</th>\n",
              "      <th>Long_Promotion</th>\n",
              "      <th>User_Traffic</th>\n",
              "      <th>Competition_Metric</th>\n",
              "      <th>Sales</th>\n",
              "      <th>Course_Domain_Development</th>\n",
              "      <th>Course_Domain_Finance &amp; Accounting</th>\n",
              "      <th>Course_Domain_Software Marketing</th>\n",
              "      <th>Course_Type_Degree</th>\n",
              "      <th>Course_Type_Program</th>\n",
              "    </tr>\n",
              "  </thead>\n",
              "  <tbody>\n",
              "    <tr>\n",
              "      <th>0</th>\n",
              "      <td>1</td>\n",
              "      <td>1</td>\n",
              "      <td>1</td>\n",
              "      <td>0</td>\n",
              "      <td>1</td>\n",
              "      <td>1</td>\n",
              "      <td>11004</td>\n",
              "      <td>0.007</td>\n",
              "      <td>81</td>\n",
              "      <td>1</td>\n",
              "      <td>0</td>\n",
              "      <td>0</td>\n",
              "      <td>0</td>\n",
              "      <td>0</td>\n",
              "    </tr>\n",
              "    <tr>\n",
              "      <th>1</th>\n",
              "      <td>2</td>\n",
              "      <td>2</td>\n",
              "      <td>1</td>\n",
              "      <td>0</td>\n",
              "      <td>0</td>\n",
              "      <td>1</td>\n",
              "      <td>13650</td>\n",
              "      <td>0.007</td>\n",
              "      <td>79</td>\n",
              "      <td>1</td>\n",
              "      <td>0</td>\n",
              "      <td>0</td>\n",
              "      <td>0</td>\n",
              "      <td>0</td>\n",
              "    </tr>\n",
              "    <tr>\n",
              "      <th>2</th>\n",
              "      <td>3</td>\n",
              "      <td>3</td>\n",
              "      <td>1</td>\n",
              "      <td>0</td>\n",
              "      <td>0</td>\n",
              "      <td>1</td>\n",
              "      <td>11655</td>\n",
              "      <td>0.007</td>\n",
              "      <td>75</td>\n",
              "      <td>1</td>\n",
              "      <td>0</td>\n",
              "      <td>0</td>\n",
              "      <td>0</td>\n",
              "      <td>0</td>\n",
              "    </tr>\n",
              "    <tr>\n",
              "      <th>3</th>\n",
              "      <td>4</td>\n",
              "      <td>4</td>\n",
              "      <td>1</td>\n",
              "      <td>0</td>\n",
              "      <td>0</td>\n",
              "      <td>1</td>\n",
              "      <td>12054</td>\n",
              "      <td>0.007</td>\n",
              "      <td>80</td>\n",
              "      <td>1</td>\n",
              "      <td>0</td>\n",
              "      <td>0</td>\n",
              "      <td>0</td>\n",
              "      <td>0</td>\n",
              "    </tr>\n",
              "    <tr>\n",
              "      <th>4</th>\n",
              "      <td>5</td>\n",
              "      <td>5</td>\n",
              "      <td>1</td>\n",
              "      <td>0</td>\n",
              "      <td>0</td>\n",
              "      <td>1</td>\n",
              "      <td>6804</td>\n",
              "      <td>0.007</td>\n",
              "      <td>41</td>\n",
              "      <td>1</td>\n",
              "      <td>0</td>\n",
              "      <td>0</td>\n",
              "      <td>0</td>\n",
              "      <td>0</td>\n",
              "    </tr>\n",
              "  </tbody>\n",
              "</table>\n",
              "</div>"
            ],
            "text/plain": [
              "   ID  Day_No  ...  Course_Type_Degree  Course_Type_Program\n",
              "0   1       1  ...                   0                    0\n",
              "1   2       2  ...                   0                    0\n",
              "2   3       3  ...                   0                    0\n",
              "3   4       4  ...                   0                    0\n",
              "4   5       5  ...                   0                    0\n",
              "\n",
              "[5 rows x 14 columns]"
            ]
          },
          "metadata": {
            "tags": []
          },
          "execution_count": 8
        }
      ]
    },
    {
      "cell_type": "code",
      "metadata": {
        "id": "zXOZS-bTwsL2"
      },
      "source": [
        "dr= df.iloc[:, 1:]"
      ],
      "execution_count": 9,
      "outputs": []
    },
    {
      "cell_type": "code",
      "metadata": {
        "id": "_Qx4Vbwyvuyz"
      },
      "source": [
        "dt= df\r\n",
        "dt.drop({'Sales'},axis=1, inplace=True)"
      ],
      "execution_count": 10,
      "outputs": []
    },
    {
      "cell_type": "code",
      "metadata": {
        "id": "G_ntOC2uwfxF"
      },
      "source": [
        "y = dr['Sales']"
      ],
      "execution_count": 11,
      "outputs": []
    },
    {
      "cell_type": "code",
      "metadata": {
        "colab": {
          "base_uri": "https://localhost:8080/"
        },
        "id": "hq6ekD7-rZQJ",
        "outputId": "ab947afb-aa4f-4cd8-cbfb-fde99a00908b"
      },
      "source": [
        "dr.isna().sum()"
      ],
      "execution_count": 12,
      "outputs": [
        {
          "output_type": "execute_result",
          "data": {
            "text/plain": [
              "Day_No                                   0\n",
              "Course_ID                                0\n",
              "Short_Promotion                          0\n",
              "Public_Holiday                           0\n",
              "Long_Promotion                           0\n",
              "User_Traffic                             0\n",
              "Competition_Metric                    1764\n",
              "Sales                                    0\n",
              "Course_Domain_Development                0\n",
              "Course_Domain_Finance & Accounting       0\n",
              "Course_Domain_Software Marketing         0\n",
              "Course_Type_Degree                       0\n",
              "Course_Type_Program                      0\n",
              "dtype: int64"
            ]
          },
          "metadata": {
            "tags": []
          },
          "execution_count": 12
        }
      ]
    },
    {
      "cell_type": "code",
      "metadata": {
        "id": "5YHwuuqEwS_E"
      },
      "source": [
        "dt = dr"
      ],
      "execution_count": null,
      "outputs": []
    },
    {
      "cell_type": "code",
      "metadata": {
        "colab": {
          "base_uri": "https://localhost:8080/",
          "height": 285
        },
        "id": "D7WneUratCty",
        "outputId": "1157ff7c-bf0b-4d62-a14d-c5605e87b557"
      },
      "source": [
        "# scatter between Competition_Metric and Sales\r\n",
        "\r\n",
        "plt.scatter(df['Sales'], df['Competition_Metric'])"
      ],
      "execution_count": 54,
      "outputs": [
        {
          "output_type": "execute_result",
          "data": {
            "text/plain": [
              "<matplotlib.collections.PathCollection at 0x7f2e43b582e8>"
            ]
          },
          "metadata": {
            "tags": []
          },
          "execution_count": 54
        },
        {
          "output_type": "display_data",
          "data": {
            "image/png": "[encoded data removed]",
            "text/plain": [
              "<Figure size 432x288 with 1 Axes>"
            ]
          },
          "metadata": {
            "tags": [],
            "needs_background": "light"
          }
        }
      ]
    },
    {
      "cell_type": "code",
      "metadata": {
        "colab": {
          "base_uri": "https://localhost:8080/"
        },
        "id": "J9t0oLprttf6",
        "outputId": "4e11aa57-daa2-496b-8c16-4c1a7d3705b4"
      },
      "source": [
        "df['Sales'].corr(df['Competition_Metric'])"
      ],
      "execution_count": 57,
      "outputs": [
        {
          "output_type": "execute_result",
          "data": {
            "text/plain": [
              "-0.02208526501361204"
            ]
          },
          "metadata": {
            "tags": []
          },
          "execution_count": 57
        }
      ]
    },
    {
      "cell_type": "code",
      "metadata": {
        "id": "qQcjKicbt_pC"
      },
      "source": [
        "# we can drop competetion metrics column\r\n",
        "\r\n",
        "dt.drop({'Competition_Metric'}, axis=1, inplace=True)"
      ],
      "execution_count": 13,
      "outputs": []
    },
    {
      "cell_type": "code",
      "metadata": {
        "colab": {
          "base_uri": "https://localhost:8080/"
        },
        "id": "6bpZZUBZwHOo",
        "outputId": "3be38437-712d-4ab4-8cf4-ddfdb2f48976"
      },
      "source": [
        "dt.shape"
      ],
      "execution_count": 16,
      "outputs": [
        {
          "output_type": "execute_result",
          "data": {
            "text/plain": [
              "(512087, 12)"
            ]
          },
          "metadata": {
            "tags": []
          },
          "execution_count": 16
        }
      ]
    },
    {
      "cell_type": "code",
      "metadata": {
        "colab": {
          "base_uri": "https://localhost:8080/"
        },
        "id": "UBchYx00wHRM",
        "outputId": "f04f0a87-fc48-40a8-9496-be5b717802b8"
      },
      "source": [
        "y = rtr['Sales']\r\n",
        "y.shape"
      ],
      "execution_count": 17,
      "outputs": [
        {
          "output_type": "execute_result",
          "data": {
            "text/plain": [
              "(512087,)"
            ]
          },
          "metadata": {
            "tags": []
          },
          "execution_count": 17
        }
      ]
    },
    {
      "cell_type": "code",
      "metadata": {
        "colab": {
          "base_uri": "https://localhost:8080/"
        },
        "id": "PZp4sQz-mN-o",
        "outputId": "824aa4b9-8f22-451e-ff45-ac16b58c1d5c"
      },
      "source": [
        "# lets build a base model and see.\r\n",
        "import statsmodels.api as sm\r\n",
        "xc= sm.add_constant(dt)\r\n",
        "model = sm.OLS(y, xc).fit()\r\n",
        "print(model.summary())"
      ],
      "execution_count": 18,
      "outputs": [
        {
          "output_type": "stream",
          "text": [
            "                            OLS Regression Results                            \n",
            "==============================================================================\n",
            "Dep. Variable:                  Sales   R-squared:                       0.825\n",
            "Model:                            OLS   Adj. R-squared:                  0.825\n",
            "Method:                 Least Squares   F-statistic:                 2.019e+05\n",
            "Date:                Tue, 02 Feb 2021   Prob (F-statistic):               0.00\n",
            "Time:                        04:04:34   Log-Likelihood:            -2.3257e+06\n",
            "No. Observations:              512087   AIC:                         4.651e+06\n",
            "Df Residuals:                  512074   BIC:                         4.652e+06\n",
            "Df Model:                          12                                         \n",
            "Covariance Type:            nonrobust                                         \n",
            "======================================================================================================\n",
            "                                         coef    std err          t      P>|t|      [0.025      0.975]\n",
            "------------------------------------------------------------------------------------------------------\n",
            "const                                -68.0430      0.484   -140.568      0.000     -68.992     -67.094\n",
            "ID                                     0.0008   9.02e-05      9.334      0.000       0.001       0.001\n",
            "Day_No                                 0.0079      0.000     51.858      0.000       0.008       0.008\n",
            "Course_ID                             -0.7696      0.082     -9.349      0.000      -0.931      -0.608\n",
            "Short_Promotion                       20.1778      0.067    300.559      0.000      20.046      20.309\n",
            "Public_Holiday                        -9.9007      0.183    -54.196      0.000     -10.259      -9.543\n",
            "Long_Promotion                         5.3829      0.066     82.059      0.000       5.254       5.511\n",
            "User_Traffic                           0.0066   4.88e-06   1353.472      0.000       0.007       0.007\n",
            "Course_Domain_Development             65.9208      0.457    144.294      0.000      65.025      66.816\n",
            "Course_Domain_Finance & Accounting    62.8235      0.462    136.091      0.000      61.919      63.728\n",
            "Course_Domain_Software Marketing      87.3554      0.464    188.278      0.000      86.446      88.265\n",
            "Course_Type_Degree                  -139.3534      0.708   -196.764      0.000    -140.741    -137.965\n",
            "Course_Type_Program                    6.4629      0.066     98.595      0.000       6.334       6.591\n",
            "==============================================================================\n",
            "Omnibus:                    90835.048   Durbin-Watson:                   0.485\n",
            "Prob(Omnibus):                  0.000   Jarque-Bera (JB):           457590.575\n",
            "Skew:                           0.774   Prob(JB):                         0.00\n",
            "Kurtosis:                       7.365   Cond. No.                     1.04e+07\n",
            "==============================================================================\n",
            "\n",
            "Warnings:\n",
            "[1] Standard Errors assume that the covariance matrix of the errors is correctly specified.\n",
            "[2] The condition number is large, 1.04e+07. This might indicate that there are\n",
            "strong multicollinearity or other numerical problems.\n"
          ],
          "name": "stdout"
        }
      ]
    },
    {
      "cell_type": "code",
      "metadata": {
        "id": "fsb_eGmqmOEW"
      },
      "source": [
        "# since id value is not further increasing our r square score- we can keep it. \r\n",
        "\r\n",
        "from sklearn.model_selection import train_test_split\r\n",
        "xtr, xts, ytr, yts = train_test_split(xc, y, random_state= 42)"
      ],
      "execution_count": 41,
      "outputs": []
    },
    {
      "cell_type": "markdown",
      "metadata": {
        "id": "EO66-0vo8rZK"
      },
      "source": [
        "# Transforming the skewed features"
      ]
    },
    {
      "cell_type": "code",
      "metadata": {
        "id": "pOv0A5PN9M2k"
      },
      "source": [
        "# Competition_Metric - Right skewed \r\n",
        "# Sales-               Right skewed \r\n",
        "# User_Traffic-        Right skewed"
      ],
      "execution_count": null,
      "outputs": []
    },
    {
      "cell_type": "code",
      "metadata": {
        "id": "TfJ1WXyi8p09"
      },
      "source": [
        ""
      ],
      "execution_count": null,
      "outputs": []
    },
    {
      "cell_type": "code",
      "metadata": {
        "id": "TErRUka-9g7U"
      },
      "source": [
        ""
      ],
      "execution_count": null,
      "outputs": []
    },
    {
      "cell_type": "code",
      "metadata": {
        "colab": {
          "base_uri": "https://localhost:8080/"
        },
        "id": "dI7yQ9bDmOHB",
        "outputId": "43848454-250c-401c-e9da-64590084dae8"
      },
      "source": [
        "# training accuracy \r\n",
        "import statsmodels.api as sm\r\n",
        "model1 = sm.OLS(ytr, xtr).fit()\r\n",
        "print(model1.summary())"
      ],
      "execution_count": 42,
      "outputs": [
        {
          "output_type": "stream",
          "text": [
            "                            OLS Regression Results                            \n",
            "==============================================================================\n",
            "Dep. Variable:                  Sales   R-squared:                       0.825\n",
            "Model:                            OLS   Adj. R-squared:                  0.825\n",
            "Method:                 Least Squares   F-statistic:                 1.513e+05\n",
            "Date:                Tue, 02 Feb 2021   Prob (F-statistic):               0.00\n",
            "Time:                        04:31:04   Log-Likelihood:            -1.7439e+06\n",
            "No. Observations:              384065   AIC:                         3.488e+06\n",
            "Df Residuals:                  384052   BIC:                         3.488e+06\n",
            "Df Model:                          12                                         \n",
            "Covariance Type:            nonrobust                                         \n",
            "======================================================================================================\n",
            "                                         coef    std err          t      P>|t|      [0.025      0.975]\n",
            "------------------------------------------------------------------------------------------------------\n",
            "const                                -68.1502      0.557   -122.271      0.000     -69.243     -67.058\n",
            "ID                                     0.0009      0.000      8.481      0.000       0.001       0.001\n",
            "Day_No                                 0.0077      0.000     44.346      0.000       0.007       0.008\n",
            "Course_ID                             -0.8070      0.095     -8.494      0.000      -0.993      -0.621\n",
            "Short_Promotion                       20.1834      0.077    260.705      0.000      20.032      20.335\n",
            "Public_Holiday                        -9.8216      0.211    -46.480      0.000     -10.236      -9.407\n",
            "Long_Promotion                         5.3517      0.076     70.743      0.000       5.203       5.500\n",
            "User_Traffic                           0.0066   5.63e-06   1171.716      0.000       0.007       0.007\n",
            "Course_Domain_Development             66.1042      0.526    125.718      0.000      65.074      67.135\n",
            "Course_Domain_Finance & Accounting    63.0275      0.531    118.627      0.000      61.986      64.069\n",
            "Course_Domain_Software Marketing      87.5140      0.534    163.879      0.000      86.467      88.561\n",
            "Course_Type_Degree                  -139.1989      0.819   -170.047      0.000    -140.803    -137.594\n",
            "Course_Type_Program                    6.4558      0.076     85.389      0.000       6.308       6.604\n",
            "==============================================================================\n",
            "Omnibus:                    68290.326   Durbin-Watson:                   1.998\n",
            "Prob(Omnibus):                  0.000   Jarque-Bera (JB):           347750.287\n",
            "Skew:                           0.773   Prob(JB):                         0.00\n",
            "Kurtosis:                       7.398   Cond. No.                     1.04e+07\n",
            "==============================================================================\n",
            "\n",
            "Warnings:\n",
            "[1] Standard Errors assume that the covariance matrix of the errors is correctly specified.\n",
            "[2] The condition number is large, 1.04e+07. This might indicate that there are\n",
            "strong multicollinearity or other numerical problems.\n"
          ],
          "name": "stdout"
        }
      ]
    },
    {
      "cell_type": "code",
      "metadata": {
        "id": "_0wwKJPl__1R"
      },
      "source": [
        "# Transformation is only bringing down the accuracy of both. so we choose not to transform"
      ],
      "execution_count": null,
      "outputs": []
    },
    {
      "cell_type": "code",
      "metadata": {
        "colab": {
          "base_uri": "https://localhost:8080/"
        },
        "id": "K9spnH0Q4r1H",
        "outputId": "ab78d0b5-e9a9-4c4f-a8f6-538f1621ea94"
      },
      "source": [
        "from sklearn.metrics import r2_score, mean_squared_error\r\n",
        "ypre = model1.predict(xts)\r\n",
        "ytrain_acc = model1.predict(xtr)\r\n",
        "print(' TEST -- {} is r_square score, {} is rmse'.format(r2_score(yts, ypre), np.sqrt(mean_squared_error(yts, ypre))))\r\n",
        "print(' TRain -- {} is r_square score, {} is rmse'.format(r2_score(ytr, ytrain_acc), np.sqrt(mean_squared_error(ytr, ytrain_acc))))"
      ],
      "execution_count": 43,
      "outputs": [
        {
          "output_type": "stream",
          "text": [
            " TEST -- 0.8256577446133548 is r_square score, 22.776566892049203 is rmse\n",
            " TRain -- 0.8254424465927608 is r_square score, 22.68259442951871 is rmse\n"
          ],
          "name": "stdout"
        }
      ]
    },
    {
      "cell_type": "code",
      "metadata": {
        "id": "vJen2-XYmOKO"
      },
      "source": [
        "# assumptions\r\n",
        "\r\n",
        "# No Autocorrelation among residuals"
      ],
      "execution_count": null,
      "outputs": []
    },
    {
      "cell_type": "markdown",
      "metadata": {
        "id": "dkPVVo00z9GJ"
      },
      "source": [
        "## The DW score we got is almost 2- which is a good sign. That means residuals not overly autocorrelated"
      ]
    },
    {
      "cell_type": "code",
      "metadata": {
        "colab": {
          "base_uri": "https://localhost:8080/",
          "height": 421
        },
        "id": "5I3n2REfmOMv",
        "outputId": "228be4cf-03d3-447d-9f04-8e65bfcee7bc"
      },
      "source": [
        "# No perfect Multicollinearity\r\n",
        "\r\n",
        "from statsmodels.stats.outliers_influence import variance_inflation_factor as vif\r\n",
        "\r\n",
        "ar = [vif(xtr.values, i) for i in range(xtr.shape[1])]\r\n",
        "fr= pd.DataFrame(ar, index=xtr.columns)\r\n",
        "fr"
      ],
      "execution_count": 51,
      "outputs": [
        {
          "output_type": "execute_result",
          "data": {
            "text/html": [
              "<div>\n",
              "<style scoped>\n",
              "    .dataframe tbody tr th:only-of-type {\n",
              "        vertical-align: middle;\n",
              "    }\n",
              "\n",
              "    .dataframe tbody tr th {\n",
              "        vertical-align: top;\n",
              "    }\n",
              "\n",
              "    .dataframe thead th {\n",
              "        text-align: right;\n",
              "    }\n",
              "</style>\n",
              "<table border=\"1\" class=\"dataframe\">\n",
              "  <thead>\n",
              "    <tr style=\"text-align: right;\">\n",
              "      <th></th>\n",
              "      <th>0</th>\n",
              "    </tr>\n",
              "  </thead>\n",
              "  <tbody>\n",
              "    <tr>\n",
              "      <th>const</th>\n",
              "      <td>229.127130</td>\n",
              "    </tr>\n",
              "    <tr>\n",
              "      <th>Day_No</th>\n",
              "      <td>1.001285</td>\n",
              "    </tr>\n",
              "    <tr>\n",
              "      <th>Course_ID</th>\n",
              "      <td>1.014956</td>\n",
              "    </tr>\n",
              "    <tr>\n",
              "      <th>Short_Promotion</th>\n",
              "      <td>1.055002</td>\n",
              "    </tr>\n",
              "    <tr>\n",
              "      <th>Public_Holiday</th>\n",
              "      <td>1.015762</td>\n",
              "    </tr>\n",
              "    <tr>\n",
              "      <th>Long_Promotion</th>\n",
              "      <td>1.065999</td>\n",
              "    </tr>\n",
              "    <tr>\n",
              "      <th>User_Traffic</th>\n",
              "      <td>1.408837</td>\n",
              "    </tr>\n",
              "    <tr>\n",
              "      <th>Course_Domain_Development</th>\n",
              "      <td>51.539318</td>\n",
              "    </tr>\n",
              "    <tr>\n",
              "      <th>Course_Domain_Finance &amp; Accounting</th>\n",
              "      <td>26.954350</td>\n",
              "    </tr>\n",
              "    <tr>\n",
              "      <th>Course_Domain_Software Marketing</th>\n",
              "      <td>46.665624</td>\n",
              "    </tr>\n",
              "    <tr>\n",
              "      <th>Course_Type_Degree</th>\n",
              "      <td>1.700268</td>\n",
              "    </tr>\n",
              "    <tr>\n",
              "      <th>Course_Type_Program</th>\n",
              "      <td>1.065394</td>\n",
              "    </tr>\n",
              "  </tbody>\n",
              "</table>\n",
              "</div>"
            ],
            "text/plain": [
              "                                             0\n",
              "const                               229.127130\n",
              "Day_No                                1.001285\n",
              "Course_ID                             1.014956\n",
              "Short_Promotion                       1.055002\n",
              "Public_Holiday                        1.015762\n",
              "Long_Promotion                        1.065999\n",
              "User_Traffic                          1.408837\n",
              "Course_Domain_Development            51.539318\n",
              "Course_Domain_Finance & Accounting   26.954350\n",
              "Course_Domain_Software Marketing     46.665624\n",
              "Course_Type_Degree                    1.700268\n",
              "Course_Type_Program                   1.065394"
            ]
          },
          "metadata": {
            "tags": []
          },
          "execution_count": 51
        }
      ]
    },
    {
      "cell_type": "code",
      "metadata": {
        "colab": {
          "base_uri": "https://localhost:8080/",
          "height": 241
        },
        "id": "c3sNqCvuvAHa",
        "outputId": "45fccae8-58c1-448d-cd52-d1795ad8b48c"
      },
      "source": [
        "xtr.head()"
      ],
      "execution_count": 68,
      "outputs": [
        {
          "output_type": "execute_result",
          "data": {
            "text/html": [
              "<div>\n",
              "<style scoped>\n",
              "    .dataframe tbody tr th:only-of-type {\n",
              "        vertical-align: middle;\n",
              "    }\n",
              "\n",
              "    .dataframe tbody tr th {\n",
              "        vertical-align: top;\n",
              "    }\n",
              "\n",
              "    .dataframe thead th {\n",
              "        text-align: right;\n",
              "    }\n",
              "</style>\n",
              "<table border=\"1\" class=\"dataframe\">\n",
              "  <thead>\n",
              "    <tr style=\"text-align: right;\">\n",
              "      <th></th>\n",
              "      <th>const</th>\n",
              "      <th>Day_No</th>\n",
              "      <th>Course_ID</th>\n",
              "      <th>Short_Promotion</th>\n",
              "      <th>Public_Holiday</th>\n",
              "      <th>Long_Promotion</th>\n",
              "      <th>User_Traffic</th>\n",
              "      <th>Course_Domain_Development</th>\n",
              "      <th>Course_Domain_Finance &amp; Accounting</th>\n",
              "      <th>Course_Domain_Software Marketing</th>\n",
              "      <th>Course_Type_Degree</th>\n",
              "      <th>Course_Type_Program</th>\n",
              "    </tr>\n",
              "  </thead>\n",
              "  <tbody>\n",
              "    <tr>\n",
              "      <th>106453</th>\n",
              "      <td>1.0</td>\n",
              "      <td>766</td>\n",
              "      <td>125</td>\n",
              "      <td>1</td>\n",
              "      <td>0</td>\n",
              "      <td>1</td>\n",
              "      <td>7476</td>\n",
              "      <td>0</td>\n",
              "      <td>0</td>\n",
              "      <td>1</td>\n",
              "      <td>0</td>\n",
              "      <td>0</td>\n",
              "    </tr>\n",
              "    <tr>\n",
              "      <th>123784</th>\n",
              "      <td>1.0</td>\n",
              "      <td>825</td>\n",
              "      <td>145</td>\n",
              "      <td>0</td>\n",
              "      <td>0</td>\n",
              "      <td>1</td>\n",
              "      <td>9576</td>\n",
              "      <td>0</td>\n",
              "      <td>0</td>\n",
              "      <td>1</td>\n",
              "      <td>0</td>\n",
              "      <td>0</td>\n",
              "    </tr>\n",
              "    <tr>\n",
              "      <th>140483</th>\n",
              "      <td>1.0</td>\n",
              "      <td>252</td>\n",
              "      <td>165</td>\n",
              "      <td>1</td>\n",
              "      <td>0</td>\n",
              "      <td>1</td>\n",
              "      <td>18816</td>\n",
              "      <td>1</td>\n",
              "      <td>0</td>\n",
              "      <td>0</td>\n",
              "      <td>0</td>\n",
              "      <td>0</td>\n",
              "    </tr>\n",
              "    <tr>\n",
              "      <th>266549</th>\n",
              "      <td>1.0</td>\n",
              "      <td>528</td>\n",
              "      <td>312</td>\n",
              "      <td>0</td>\n",
              "      <td>0</td>\n",
              "      <td>1</td>\n",
              "      <td>10101</td>\n",
              "      <td>1</td>\n",
              "      <td>0</td>\n",
              "      <td>0</td>\n",
              "      <td>0</td>\n",
              "      <td>0</td>\n",
              "    </tr>\n",
              "    <tr>\n",
              "      <th>456684</th>\n",
              "      <td>1.0</td>\n",
              "      <td>272</td>\n",
              "      <td>536</td>\n",
              "      <td>0</td>\n",
              "      <td>0</td>\n",
              "      <td>1</td>\n",
              "      <td>10017</td>\n",
              "      <td>1</td>\n",
              "      <td>0</td>\n",
              "      <td>0</td>\n",
              "      <td>0</td>\n",
              "      <td>0</td>\n",
              "    </tr>\n",
              "  </tbody>\n",
              "</table>\n",
              "</div>"
            ],
            "text/plain": [
              "        const  Day_No  ...  Course_Type_Degree  Course_Type_Program\n",
              "106453    1.0     766  ...                   0                    0\n",
              "123784    1.0     825  ...                   0                    0\n",
              "140483    1.0     252  ...                   0                    0\n",
              "266549    1.0     528  ...                   0                    0\n",
              "456684    1.0     272  ...                   0                    0\n",
              "\n",
              "[5 rows x 12 columns]"
            ]
          },
          "metadata": {
            "tags": []
          },
          "execution_count": 68
        }
      ]
    },
    {
      "cell_type": "code",
      "metadata": {
        "colab": {
          "base_uri": "https://localhost:8080/"
        },
        "id": "Bw5b3op-mOQP",
        "outputId": "a1c7f6d6-43bd-48b1-9a38-b83b8cb7c5dd"
      },
      "source": [
        "# As expected ID has no big role to play, so we can remove it, \r\n",
        "\r\n",
        "train_ID = xtr['ID']\r\n",
        "xtr.drop({'ID'}, axis=1, inplace=True)"
      ],
      "execution_count": 49,
      "outputs": [
        {
          "output_type": "stream",
          "text": [
            "/usr/local/lib/python3.6/dist-packages/pandas/core/frame.py:4174: SettingWithCopyWarning: \n",
            "A value is trying to be set on a copy of a slice from a DataFrame\n",
            "\n",
            "See the caveats in the documentation: https://pandas.pydata.org/pandas-docs/stable/user_guide/indexing.html#returning-a-view-versus-a-copy\n",
            "  errors=errors,\n"
          ],
          "name": "stderr"
        }
      ]
    },
    {
      "cell_type": "code",
      "metadata": {
        "colab": {
          "base_uri": "https://localhost:8080/",
          "height": 421
        },
        "id": "n_3VYsKPmOSR",
        "outputId": "032e9e71-d2ac-4987-f14a-70af8d5712f6"
      },
      "source": [
        "ar = [vif(xtr.values, i) for i in range(xtr.shape[1])]\r\n",
        "fr= pd.DataFrame(ar, index=xtr.columns)\r\n",
        "fr"
      ],
      "execution_count": 52,
      "outputs": [
        {
          "output_type": "execute_result",
          "data": {
            "text/html": [
              "<div>\n",
              "<style scoped>\n",
              "    .dataframe tbody tr th:only-of-type {\n",
              "        vertical-align: middle;\n",
              "    }\n",
              "\n",
              "    .dataframe tbody tr th {\n",
              "        vertical-align: top;\n",
              "    }\n",
              "\n",
              "    .dataframe thead th {\n",
              "        text-align: right;\n",
              "    }\n",
              "</style>\n",
              "<table border=\"1\" class=\"dataframe\">\n",
              "  <thead>\n",
              "    <tr style=\"text-align: right;\">\n",
              "      <th></th>\n",
              "      <th>0</th>\n",
              "    </tr>\n",
              "  </thead>\n",
              "  <tbody>\n",
              "    <tr>\n",
              "      <th>const</th>\n",
              "      <td>229.127130</td>\n",
              "    </tr>\n",
              "    <tr>\n",
              "      <th>Day_No</th>\n",
              "      <td>1.001285</td>\n",
              "    </tr>\n",
              "    <tr>\n",
              "      <th>Course_ID</th>\n",
              "      <td>1.014956</td>\n",
              "    </tr>\n",
              "    <tr>\n",
              "      <th>Short_Promotion</th>\n",
              "      <td>1.055002</td>\n",
              "    </tr>\n",
              "    <tr>\n",
              "      <th>Public_Holiday</th>\n",
              "      <td>1.015762</td>\n",
              "    </tr>\n",
              "    <tr>\n",
              "      <th>Long_Promotion</th>\n",
              "      <td>1.065999</td>\n",
              "    </tr>\n",
              "    <tr>\n",
              "      <th>User_Traffic</th>\n",
              "      <td>1.408837</td>\n",
              "    </tr>\n",
              "    <tr>\n",
              "      <th>Course_Domain_Development</th>\n",
              "      <td>51.539318</td>\n",
              "    </tr>\n",
              "    <tr>\n",
              "      <th>Course_Domain_Finance &amp; Accounting</th>\n",
              "      <td>26.954350</td>\n",
              "    </tr>\n",
              "    <tr>\n",
              "      <th>Course_Domain_Software Marketing</th>\n",
              "      <td>46.665624</td>\n",
              "    </tr>\n",
              "    <tr>\n",
              "      <th>Course_Type_Degree</th>\n",
              "      <td>1.700268</td>\n",
              "    </tr>\n",
              "    <tr>\n",
              "      <th>Course_Type_Program</th>\n",
              "      <td>1.065394</td>\n",
              "    </tr>\n",
              "  </tbody>\n",
              "</table>\n",
              "</div>"
            ],
            "text/plain": [
              "                                             0\n",
              "const                               229.127130\n",
              "Day_No                                1.001285\n",
              "Course_ID                             1.014956\n",
              "Short_Promotion                       1.055002\n",
              "Public_Holiday                        1.015762\n",
              "Long_Promotion                        1.065999\n",
              "User_Traffic                          1.408837\n",
              "Course_Domain_Development            51.539318\n",
              "Course_Domain_Finance & Accounting   26.954350\n",
              "Course_Domain_Software Marketing     46.665624\n",
              "Course_Type_Degree                    1.700268\n",
              "Course_Type_Program                   1.065394"
            ]
          },
          "metadata": {
            "tags": []
          },
          "execution_count": 52
        }
      ]
    },
    {
      "cell_type": "code",
      "metadata": {
        "id": "riUmyvO5mOVI"
      },
      "source": [
        "# Removing that, even the course id VIF came down."
      ],
      "execution_count": null,
      "outputs": []
    },
    {
      "cell_type": "code",
      "metadata": {
        "id": "2BD1p6iZmOX6"
      },
      "source": [
        "# lets do a hypothesis testing that Course_Domain actually affects sales. (Anova Test)"
      ],
      "execution_count": null,
      "outputs": []
    },
    {
      "cell_type": "code",
      "metadata": {
        "id": "uhZt8cX844WX"
      },
      "source": [
        "df.head()"
      ],
      "execution_count": null,
      "outputs": []
    },
    {
      "cell_type": "code",
      "metadata": {
        "id": "JNY68P3JmOa0"
      },
      "source": [
        "# we are trying to prove that There are no variations in any of the course domains. they all contribute equally. (Anova)"
      ],
      "execution_count": null,
      "outputs": []
    },
    {
      "cell_type": "markdown",
      "metadata": {
        "id": "T-gSI5gX51Ks"
      },
      "source": [
        "# H0 = MU1 = MU2 = MU3 = MU4\r\n",
        "\r\n",
        "# Ha = they are not the same"
      ]
    },
    {
      "cell_type": "code",
      "metadata": {
        "id": "Q77Go0UUmOdV"
      },
      "source": [
        "from scipy.stats import f_oneway"
      ],
      "execution_count": 85,
      "outputs": []
    },
    {
      "cell_type": "code",
      "metadata": {
        "id": "x4D4-sZUmOwM"
      },
      "source": [
        "Dev = rtr.loc[rtr['Course_Domain'] == 'Development']['Sales']\r\n",
        "soft = rtr.loc[rtr['Course_Domain'] == 'Software Marketing']['Sales']\r\n",
        "fin =  rtr.loc[rtr['Course_Domain'] == 'Finance & Accounting']['Sales']\r\n",
        "busi = rtr.loc[rtr['Course_Domain'] == 'Business']['Sales']"
      ],
      "execution_count": 86,
      "outputs": []
    },
    {
      "cell_type": "code",
      "metadata": {
        "colab": {
          "base_uri": "https://localhost:8080/"
        },
        "id": "RbdpyVGemOyw",
        "outputId": "920a3a2f-63ac-4fe4-c7a8-d28282ec1e0a"
      },
      "source": [
        "f_oneway(Dev.values, soft.values, fin.values, busi.values)"
      ],
      "execution_count": 87,
      "outputs": [
        {
          "output_type": "execute_result",
          "data": {
            "text/plain": [
              "F_onewayResult(statistic=2412.4625941656946, pvalue=0.0)"
            ]
          },
          "metadata": {
            "tags": []
          },
          "execution_count": 87
        }
      ]
    },
    {
      "cell_type": "code",
      "metadata": {
        "id": "3fWe1U_gmO1T"
      },
      "source": [
        "# We reject the null hypothesis. Genre has significantly different varainces."
      ],
      "execution_count": null,
      "outputs": []
    },
    {
      "cell_type": "code",
      "metadata": {
        "id": "60HIge2emO4E"
      },
      "source": [
        "# lets run a Lasso and get the most contributing variables.\r\n",
        "\r\n",
        "from sklearn.linear_model import Lasso\r\n",
        "las= Lasso(alpha=0.5, max_iter=100000).fit(xtr, ytr)"
      ],
      "execution_count": 54,
      "outputs": []
    },
    {
      "cell_type": "code",
      "metadata": {
        "id": "uf-WCZtqmO6X"
      },
      "source": [
        "dic = {i:abs(k) for i,k in zip(xtr.columns, las.coef_)}"
      ],
      "execution_count": 55,
      "outputs": []
    },
    {
      "cell_type": "code",
      "metadata": {
        "id": "C7UfR3PhmO9y",
        "colab": {
          "base_uri": "https://localhost:8080/"
        },
        "outputId": "d1c4fea5-8fa0-4f3b-a781-74dda54f3842"
      },
      "source": [
        "dic"
      ],
      "execution_count": 56,
      "outputs": [
        {
          "output_type": "execute_result",
          "data": {
            "text/plain": [
              "{'Course_Domain_Development': 0.0,\n",
              " 'Course_Domain_Finance & Accounting': 0.0,\n",
              " 'Course_Domain_Software Marketing': 18.942705082741053,\n",
              " 'Course_ID': 0.0036572437615532494,\n",
              " 'Course_Type_Degree': 31.540663521025806,\n",
              " 'Course_Type_Program': 7.008549838056314,\n",
              " 'Day_No': 0.008544799014470998,\n",
              " 'Long_Promotion': 2.022796671722471,\n",
              " 'Public_Holiday': 0.0,\n",
              " 'Short_Promotion': 20.062169478471176,\n",
              " 'User_Traffic': 0.005985378705280797,\n",
              " 'const': 0.0}"
            ]
          },
          "metadata": {
            "tags": []
          },
          "execution_count": 56
        }
      ]
    },
    {
      "cell_type": "code",
      "metadata": {
        "id": "W-X-ZNztmPAJ",
        "colab": {
          "base_uri": "https://localhost:8080/"
        },
        "outputId": "977b3ad5-adf0-4e20-9fe1-725b21372e76"
      },
      "source": [
        "sorted(dic, key=dic.get, reverse=True)[:9]"
      ],
      "execution_count": 57,
      "outputs": [
        {
          "output_type": "execute_result",
          "data": {
            "text/plain": [
              "['Course_Type_Degree',\n",
              " 'Short_Promotion',\n",
              " 'Course_Domain_Software Marketing',\n",
              " 'Course_Type_Program',\n",
              " 'Long_Promotion',\n",
              " 'Day_No',\n",
              " 'User_Traffic',\n",
              " 'Course_ID',\n",
              " 'const']"
            ]
          },
          "metadata": {
            "tags": []
          },
          "execution_count": 57
        }
      ]
    },
    {
      "cell_type": "code",
      "metadata": {
        "id": "R5k5iK2bmPCv"
      },
      "source": [
        "# lets see how the RFE ranks the feature. \r\n",
        "\r\n",
        "from sklearn.linear_model import LinearRegression\r\n",
        "from sklearn.feature_selection import RFE\r\n",
        "ar = LinearRegression()\r\n",
        "rfe_ = RFE(ar, n_features_to_select = 9)\r\n",
        "rfe_.fit(xtr, ytr)\r\n",
        "\r\n",
        "al = pd.DataFrame(rfe_.ranking_, index=xtr.columns, columns=['ranks'])"
      ],
      "execution_count": 30,
      "outputs": []
    },
    {
      "cell_type": "code",
      "metadata": {
        "colab": {
          "base_uri": "https://localhost:8080/",
          "height": 421
        },
        "id": "2n2hG-4x7Gr3",
        "outputId": "1607c0ba-4d4a-492c-98a5-499aed77fdbc"
      },
      "source": [
        "al"
      ],
      "execution_count": 31,
      "outputs": [
        {
          "output_type": "execute_result",
          "data": {
            "text/html": [
              "<div>\n",
              "<style scoped>\n",
              "    .dataframe tbody tr th:only-of-type {\n",
              "        vertical-align: middle;\n",
              "    }\n",
              "\n",
              "    .dataframe tbody tr th {\n",
              "        vertical-align: top;\n",
              "    }\n",
              "\n",
              "    .dataframe thead th {\n",
              "        text-align: right;\n",
              "    }\n",
              "</style>\n",
              "<table border=\"1\" class=\"dataframe\">\n",
              "  <thead>\n",
              "    <tr style=\"text-align: right;\">\n",
              "      <th></th>\n",
              "      <th>ranks</th>\n",
              "    </tr>\n",
              "  </thead>\n",
              "  <tbody>\n",
              "    <tr>\n",
              "      <th>const</th>\n",
              "      <td>4</td>\n",
              "    </tr>\n",
              "    <tr>\n",
              "      <th>Day_No</th>\n",
              "      <td>1</td>\n",
              "    </tr>\n",
              "    <tr>\n",
              "      <th>Course_ID</th>\n",
              "      <td>3</td>\n",
              "    </tr>\n",
              "    <tr>\n",
              "      <th>Short_Promotion</th>\n",
              "      <td>1</td>\n",
              "    </tr>\n",
              "    <tr>\n",
              "      <th>Public_Holiday</th>\n",
              "      <td>1</td>\n",
              "    </tr>\n",
              "    <tr>\n",
              "      <th>Long_Promotion</th>\n",
              "      <td>1</td>\n",
              "    </tr>\n",
              "    <tr>\n",
              "      <th>User_Traffic</th>\n",
              "      <td>2</td>\n",
              "    </tr>\n",
              "    <tr>\n",
              "      <th>Course_Domain_Development</th>\n",
              "      <td>1</td>\n",
              "    </tr>\n",
              "    <tr>\n",
              "      <th>Course_Domain_Finance &amp; Accounting</th>\n",
              "      <td>1</td>\n",
              "    </tr>\n",
              "    <tr>\n",
              "      <th>Course_Domain_Software Marketing</th>\n",
              "      <td>1</td>\n",
              "    </tr>\n",
              "    <tr>\n",
              "      <th>Course_Type_Degree</th>\n",
              "      <td>1</td>\n",
              "    </tr>\n",
              "    <tr>\n",
              "      <th>Course_Type_Program</th>\n",
              "      <td>1</td>\n",
              "    </tr>\n",
              "  </tbody>\n",
              "</table>\n",
              "</div>"
            ],
            "text/plain": [
              "                                    ranks\n",
              "const                                   4\n",
              "Day_No                                  1\n",
              "Course_ID                               3\n",
              "Short_Promotion                         1\n",
              "Public_Holiday                          1\n",
              "Long_Promotion                          1\n",
              "User_Traffic                            2\n",
              "Course_Domain_Development               1\n",
              "Course_Domain_Finance & Accounting      1\n",
              "Course_Domain_Software Marketing        1\n",
              "Course_Type_Degree                      1\n",
              "Course_Type_Program                     1"
            ]
          },
          "metadata": {
            "tags": []
          },
          "execution_count": 31
        }
      ]
    },
    {
      "cell_type": "code",
      "metadata": {
        "colab": {
          "base_uri": "https://localhost:8080/",
          "height": 350
        },
        "id": "QX0y2Nru7fXP",
        "outputId": "842c46a4-202c-4d72-9fc3-ae5ee84c7706"
      },
      "source": [
        "sns.regplot(ytr, xtr['User_Traffic'], color='green')"
      ],
      "execution_count": 34,
      "outputs": [
        {
          "output_type": "stream",
          "text": [
            "/usr/local/lib/python3.6/dist-packages/seaborn/_decorators.py:43: FutureWarning: Pass the following variables as keyword args: x, y. From version 0.12, the only valid positional argument will be `data`, and passing other arguments without an explicit keyword will result in an error or misinterpretation.\n",
            "  FutureWarning\n"
          ],
          "name": "stderr"
        },
        {
          "output_type": "execute_result",
          "data": {
            "text/plain": [
              "<matplotlib.axes._subplots.AxesSubplot at 0x7f1a5f618b70>"
            ]
          },
          "metadata": {
            "tags": []
          },
          "execution_count": 34
        },
        {
          "output_type": "display_data",
          "data": {
            "image/png": "[encoded data removed]",
            "text/plain": [
              "<Figure size 432x288 with 1 Axes>"
            ]
          },
          "metadata": {
            "tags": [],
            "needs_background": "light"
          }
        }
      ]
    },
    {
      "cell_type": "code",
      "metadata": {
        "id": "qf7X5fJpmPGA"
      },
      "source": [
        "# from what looks like, User traffic is affecting the sales positively \r\n",
        "# But intrestingly RFE is showing otherwise. "
      ],
      "execution_count": null,
      "outputs": []
    },
    {
      "cell_type": "code",
      "metadata": {
        "id": "k4dr7Sue8Sp1"
      },
      "source": [
        "# lets build model with top 9 features.\r\n",
        "re = sorted(dic, key=dic.get, reverse=True)[:9]"
      ],
      "execution_count": 58,
      "outputs": []
    },
    {
      "cell_type": "code",
      "metadata": {
        "colab": {
          "base_uri": "https://localhost:8080/"
        },
        "id": "IXP5rcDL8Ss2",
        "outputId": "0078c0a9-9487-4a1b-be16-e73cfddda899"
      },
      "source": [
        "import statsmodels.api as sm\r\n",
        "model2 = sm.OLS(ytr, xtr[re]).fit()\r\n",
        "print(model2.summary())"
      ],
      "execution_count": 59,
      "outputs": [
        {
          "output_type": "stream",
          "text": [
            "                            OLS Regression Results                            \n",
            "==============================================================================\n",
            "Dep. Variable:                  Sales   R-squared:                       0.817\n",
            "Model:                            OLS   Adj. R-squared:                  0.817\n",
            "Method:                 Least Squares   F-statistic:                 2.142e+05\n",
            "Date:                Tue, 02 Feb 2021   Prob (F-statistic):               0.00\n",
            "Time:                        04:35:04   Log-Likelihood:            -1.7531e+06\n",
            "No. Observations:              384065   AIC:                         3.506e+06\n",
            "Df Residuals:                  384056   BIC:                         3.506e+06\n",
            "Df Model:                           8                                         \n",
            "Covariance Type:            nonrobust                                         \n",
            "====================================================================================================\n",
            "                                       coef    std err          t      P>|t|      [0.025      0.975]\n",
            "----------------------------------------------------------------------------------------------------\n",
            "Course_Type_Degree                -198.7089      0.686   -289.580      0.000    -200.054    -197.364\n",
            "Short_Promotion                     20.6711      0.079    261.064      0.000      20.516      20.826\n",
            "Course_Domain_Software Marketing    21.9269      0.086    255.505      0.000      21.759      22.095\n",
            "Course_Type_Program                  7.1099      0.077     92.237      0.000       6.959       7.261\n",
            "Long_Promotion                       5.1652      0.077     66.734      0.000       5.013       5.317\n",
            "Day_No                               0.0085      0.000     57.853      0.000       0.008       0.009\n",
            "User_Traffic                         0.0065   5.57e-06   1160.340      0.000       0.006       0.006\n",
            "Course_ID                        -7.915e-05      0.000     -0.364      0.715      -0.001       0.000\n",
            "const                               -2.5397      0.145    -17.484      0.000      -2.824      -2.255\n",
            "==============================================================================\n",
            "Omnibus:                    61489.848   Durbin-Watson:                   1.997\n",
            "Prob(Omnibus):                  0.000   Jarque-Bera (JB):           404501.622\n",
            "Skew:                           0.608   Prob(JB):                         0.00\n",
            "Kurtosis:                       7.878   Cond. No.                     3.15e+05\n",
            "==============================================================================\n",
            "\n",
            "Warnings:\n",
            "[1] Standard Errors assume that the covariance matrix of the errors is correctly specified.\n",
            "[2] The condition number is large, 3.15e+05. This might indicate that there are\n",
            "strong multicollinearity or other numerical problems.\n"
          ],
          "name": "stdout"
        }
      ]
    },
    {
      "cell_type": "code",
      "metadata": {
        "colab": {
          "base_uri": "https://localhost:8080/"
        },
        "id": "TQKP0AYV8SyX",
        "outputId": "f35818bf-f8b9-484a-f6d7-b27c4a617d39"
      },
      "source": [
        "from sklearn.metrics import r2_score, mean_squared_error\r\n",
        "ypre = model2.predict(xts[re])\r\n",
        "ytrain_acc = model2.predict(xtr[re])\r\n",
        "print(' TEST -- {} is r_square score, {} is rmse'.format(r2_score(yts, ypre), np.sqrt(mean_squared_error(yts, ypre))))\r\n",
        "print(' TRain -- {} is r_square score, {} is rmse'.format(r2_score(ytr, ytrain_acc), np.sqrt(mean_squared_error(ytr, ytrain_acc))))"
      ],
      "execution_count": 60,
      "outputs": [
        {
          "output_type": "stream",
          "text": [
            " TEST -- 0.8173814982010408 is r_square score, 23.31091502897826 is rmse\n",
            " TRain -- 0.8168817565173538 is r_square score, 23.232139743657804 is rmse\n"
          ],
          "name": "stdout"
        }
      ]
    },
    {
      "cell_type": "code",
      "metadata": {
        "id": "kQw5sypC8S1v"
      },
      "source": [
        "# almost same score in test and train with only 9 most important features."
      ],
      "execution_count": 61,
      "outputs": []
    },
    {
      "cell_type": "code",
      "metadata": {
        "id": "GkPsdqWt8S4V"
      },
      "source": [
        ""
      ],
      "execution_count": null,
      "outputs": []
    }
  ]
}